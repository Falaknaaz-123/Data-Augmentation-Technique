{
 "cells": [
  {
   "cell_type": "code",
   "execution_count": 1062,
   "metadata": {
    "colab": {
     "base_uri": "https://localhost:8080/"
    },
    "id": "BISkgn0jVdmk",
    "outputId": "fcf5fc00-15c4-47e5-ecd2-e81e514c9105"
   },
   "outputs": [
    {
     "name": "stdout",
     "output_type": "stream",
     "text": [
      "Requirement already satisfied: mxnet~=1.7 in /usr/local/lib/python3.7/dist-packages (1.8.0.post0)\n",
      "Requirement already satisfied: gluonts in /usr/local/lib/python3.7/dist-packages (0.8.1)\n",
      "Requirement already satisfied: requests<3,>=2.20.0 in /usr/local/lib/python3.7/dist-packages (from mxnet~=1.7) (2.23.0)\n",
      "Requirement already satisfied: numpy<2.0.0,>1.16.0 in /usr/local/lib/python3.7/dist-packages (from mxnet~=1.7) (1.19.5)\n",
      "Requirement already satisfied: graphviz<0.9.0,>=0.8.1 in /usr/local/lib/python3.7/dist-packages (from mxnet~=1.7) (0.8.4)\n",
      "Requirement already satisfied: chardet<4,>=3.0.2 in /usr/local/lib/python3.7/dist-packages (from requests<3,>=2.20.0->mxnet~=1.7) (3.0.4)\n",
      "Requirement already satisfied: certifi>=2017.4.17 in /usr/local/lib/python3.7/dist-packages (from requests<3,>=2.20.0->mxnet~=1.7) (2021.5.30)\n",
      "Requirement already satisfied: idna<3,>=2.5 in /usr/local/lib/python3.7/dist-packages (from requests<3,>=2.20.0->mxnet~=1.7) (2.10)\n",
      "Requirement already satisfied: urllib3!=1.25.0,!=1.25.1,<1.26,>=1.21.1 in /usr/local/lib/python3.7/dist-packages (from requests<3,>=2.20.0->mxnet~=1.7) (1.24.3)\n",
      "Requirement already satisfied: pydantic~=1.1 in /usr/local/lib/python3.7/dist-packages (from gluonts) (1.8.2)\n",
      "Requirement already satisfied: tqdm~=4.23 in /usr/local/lib/python3.7/dist-packages (from gluonts) (4.62.3)\n",
      "Requirement already satisfied: holidays>=0.9 in /usr/local/lib/python3.7/dist-packages (from gluonts) (0.10.5.2)\n",
      "Requirement already satisfied: typing-extensions~=3.10.0.0 in /usr/local/lib/python3.7/dist-packages (from gluonts) (3.10.0.2)\n",
      "Requirement already satisfied: matplotlib~=3.0 in /usr/local/lib/python3.7/dist-packages (from gluonts) (3.2.2)\n",
      "Requirement already satisfied: pandas~=1.0 in /usr/local/lib/python3.7/dist-packages (from gluonts) (1.1.5)\n",
      "Requirement already satisfied: toolz~=0.10 in /usr/local/lib/python3.7/dist-packages (from gluonts) (0.11.1)\n",
      "Requirement already satisfied: convertdate>=2.3.0 in /usr/local/lib/python3.7/dist-packages (from holidays>=0.9->gluonts) (2.3.2)\n",
      "Requirement already satisfied: korean-lunar-calendar in /usr/local/lib/python3.7/dist-packages (from holidays>=0.9->gluonts) (0.2.1)\n",
      "Requirement already satisfied: six in /usr/local/lib/python3.7/dist-packages (from holidays>=0.9->gluonts) (1.15.0)\n",
      "Requirement already satisfied: python-dateutil in /usr/local/lib/python3.7/dist-packages (from holidays>=0.9->gluonts) (2.8.2)\n",
      "Requirement already satisfied: hijri-converter in /usr/local/lib/python3.7/dist-packages (from holidays>=0.9->gluonts) (2.2.1)\n",
      "Requirement already satisfied: pytz>=2014.10 in /usr/local/lib/python3.7/dist-packages (from convertdate>=2.3.0->holidays>=0.9->gluonts) (2018.9)\n",
      "Requirement already satisfied: pymeeus<=1,>=0.3.13 in /usr/local/lib/python3.7/dist-packages (from convertdate>=2.3.0->holidays>=0.9->gluonts) (0.5.11)\n",
      "Requirement already satisfied: pyparsing!=2.0.4,!=2.1.2,!=2.1.6,>=2.0.1 in /usr/local/lib/python3.7/dist-packages (from matplotlib~=3.0->gluonts) (2.4.7)\n",
      "Requirement already satisfied: cycler>=0.10 in /usr/local/lib/python3.7/dist-packages (from matplotlib~=3.0->gluonts) (0.10.0)\n",
      "Requirement already satisfied: kiwisolver>=1.0.1 in /usr/local/lib/python3.7/dist-packages (from matplotlib~=3.0->gluonts) (1.3.2)\n"
     ]
    }
   ],
   "source": [
    "pip install --upgrade mxnet~=1.7 gluonts"
   ]
  },
  {
   "cell_type": "code",
   "execution_count": 1063,
   "metadata": {
    "id": "Io5dASCrVoYO"
   },
   "outputs": [],
   "source": [
    "# Third-party imports\n",
    "%matplotlib inline\n",
    "import mxnet as mx\n",
    "from mxnet import gluon\n",
    "import numpy as np\n",
    "import pandas as pd\n",
    "import matplotlib.pyplot as plt\n",
    "import json"
   ]
  },
  {
   "cell_type": "code",
   "execution_count": 1064,
   "metadata": {
    "id": "JS2hNvrbVoa6"
   },
   "outputs": [],
   "source": [
    "# gluon datasets\n",
    "from gluonts.dataset.repository.datasets import get_dataset, dataset_recipes\n",
    "from gluonts.dataset.util import to_pandas"
   ]
  },
  {
   "cell_type": "code",
   "execution_count": 1065,
   "metadata": {
    "colab": {
     "base_uri": "https://localhost:8080/"
    },
    "id": "q-6chF-mVod2",
    "outputId": "4a5e1b45-810f-45aa-ea57-ec1dad1a8df8"
   },
   "outputs": [
    {
     "name": "stdout",
     "output_type": "stream",
     "text": [
      "Available datasets: ['constant', 'exchange_rate', 'solar-energy', 'electricity', 'traffic', 'exchange_rate_nips', 'electricity_nips', 'traffic_nips', 'solar_nips', 'wiki-rolling_nips', 'taxi_30min', 'kaggle_web_traffic_with_missing', 'kaggle_web_traffic_without_missing', 'kaggle_web_traffic_weekly', 'm1_yearly', 'm1_quarterly', 'm1_monthly', 'nn5_daily_with_missing', 'nn5_daily_without_missing', 'nn5_weekly', 'tourism_monthly', 'tourism_quarterly', 'tourism_yearly', 'm3_monthly', 'm3_quarterly', 'm3_yearly', 'm3_other', 'm4_hourly', 'm4_daily', 'm4_weekly', 'm4_monthly', 'm4_quarterly', 'm4_yearly', 'm5']\n"
     ]
    }
   ],
   "source": [
    "print(f\"Available datasets: {list(dataset_recipes.keys())}\")"
   ]
  },
  {
   "cell_type": "code",
   "execution_count": 1066,
   "metadata": {
    "colab": {
     "base_uri": "https://localhost:8080/"
    },
    "id": "3dl59DPWBspm",
    "outputId": "06e4046d-e41f-4635-be5d-5315042ef34d"
   },
   "outputs": [
    {
     "name": "stdout",
     "output_type": "stream",
     "text": [
      "Requirement already satisfied: mxnet in /usr/local/lib/python3.7/dist-packages (1.8.0.post0)\n",
      "Requirement already satisfied: requests<3,>=2.20.0 in /usr/local/lib/python3.7/dist-packages (from mxnet) (2.23.0)\n",
      "Requirement already satisfied: graphviz<0.9.0,>=0.8.1 in /usr/local/lib/python3.7/dist-packages (from mxnet) (0.8.4)\n",
      "Requirement already satisfied: numpy<2.0.0,>1.16.0 in /usr/local/lib/python3.7/dist-packages (from mxnet) (1.19.5)\n",
      "Requirement already satisfied: idna<3,>=2.5 in /usr/local/lib/python3.7/dist-packages (from requests<3,>=2.20.0->mxnet) (2.10)\n",
      "Requirement already satisfied: certifi>=2017.4.17 in /usr/local/lib/python3.7/dist-packages (from requests<3,>=2.20.0->mxnet) (2021.5.30)\n",
      "Requirement already satisfied: chardet<4,>=3.0.2 in /usr/local/lib/python3.7/dist-packages (from requests<3,>=2.20.0->mxnet) (3.0.4)\n",
      "Requirement already satisfied: urllib3!=1.25.0,!=1.25.1,<1.26,>=1.21.1 in /usr/local/lib/python3.7/dist-packages (from requests<3,>=2.20.0->mxnet) (1.24.3)\n"
     ]
    }
   ],
   "source": [
    "pip install mxnet"
   ]
  },
  {
   "cell_type": "code",
   "execution_count": 1067,
   "metadata": {
    "id": "qjWGHZjhlWe4"
   },
   "outputs": [],
   "source": [
    "dataset_nasa = pd.read_csv('DOE-551-600-10DU-01_1.csv')"
   ]
  },
  {
   "cell_type": "code",
   "execution_count": 1068,
   "metadata": {
    "colab": {
     "base_uri": "https://localhost:8080/",
     "height": 437
    },
    "id": "SLR52rSMVomO",
    "outputId": "b25bd1df-7f58-41e5-f15b-673520b16507"
   },
   "outputs": [
    {
     "data": {
      "text/html": [
       "<div>\n",
       "<style scoped>\n",
       "    .dataframe tbody tr th:only-of-type {\n",
       "        vertical-align: middle;\n",
       "    }\n",
       "\n",
       "    .dataframe tbody tr th {\n",
       "        vertical-align: top;\n",
       "    }\n",
       "\n",
       "    .dataframe thead th {\n",
       "        text-align: right;\n",
       "    }\n",
       "</style>\n",
       "<table border=\"1\" class=\"dataframe\">\n",
       "  <thead>\n",
       "    <tr style=\"text-align: right;\">\n",
       "      <th></th>\n",
       "      <th>index</th>\n",
       "      <th>Test_Time</th>\n",
       "      <th>Step_Time(s)</th>\n",
       "      <th>Cycle_Index</th>\n",
       "      <th>Step_Index</th>\n",
       "      <th>Voltage</th>\n",
       "      <th>Test_Time(s)</th>\n",
       "      <th>Step_Time(s).1</th>\n",
       "      <th>Cycle_Index.1</th>\n",
       "      <th>Step_Index.1</th>\n",
       "      <th>Current</th>\n",
       "      <th>Test_Time(s).1</th>\n",
       "      <th>Step_Time(s).2</th>\n",
       "      <th>Cycle_Index.2</th>\n",
       "      <th>Step_Index.2</th>\n",
       "      <th>Charge_Capacity</th>\n",
       "      <th>Test_Time(s).2</th>\n",
       "      <th>Step_Time(s).3</th>\n",
       "      <th>Cycle_Index.3</th>\n",
       "      <th>Step_Index.3</th>\n",
       "      <th>Discharge_Capacity</th>\n",
       "    </tr>\n",
       "  </thead>\n",
       "  <tbody>\n",
       "    <tr>\n",
       "      <th>0</th>\n",
       "      <td>0</td>\n",
       "      <td>120.001100</td>\n",
       "      <td>120.0010</td>\n",
       "      <td>1</td>\n",
       "      <td>1</td>\n",
       "      <td>3.575560</td>\n",
       "      <td>120.001100</td>\n",
       "      <td>120.0010</td>\n",
       "      <td>1</td>\n",
       "      <td>1</td>\n",
       "      <td>0.000000</td>\n",
       "      <td>120.001100</td>\n",
       "      <td>120.0010</td>\n",
       "      <td>1</td>\n",
       "      <td>1</td>\n",
       "      <td>0.000000</td>\n",
       "      <td>120.001100</td>\n",
       "      <td>120.0010</td>\n",
       "      <td>1</td>\n",
       "      <td>1</td>\n",
       "      <td>0.000000</td>\n",
       "    </tr>\n",
       "    <tr>\n",
       "      <th>1</th>\n",
       "      <td>1</td>\n",
       "      <td>240.004000</td>\n",
       "      <td>240.0039</td>\n",
       "      <td>1</td>\n",
       "      <td>1</td>\n",
       "      <td>3.575512</td>\n",
       "      <td>240.004000</td>\n",
       "      <td>240.0039</td>\n",
       "      <td>1</td>\n",
       "      <td>1</td>\n",
       "      <td>0.000000</td>\n",
       "      <td>240.004000</td>\n",
       "      <td>240.0039</td>\n",
       "      <td>1</td>\n",
       "      <td>1</td>\n",
       "      <td>0.000000</td>\n",
       "      <td>240.004000</td>\n",
       "      <td>240.0039</td>\n",
       "      <td>1</td>\n",
       "      <td>1</td>\n",
       "      <td>0.000000</td>\n",
       "    </tr>\n",
       "    <tr>\n",
       "      <th>2</th>\n",
       "      <td>2</td>\n",
       "      <td>360.002300</td>\n",
       "      <td>360.0022</td>\n",
       "      <td>1</td>\n",
       "      <td>1</td>\n",
       "      <td>3.577263</td>\n",
       "      <td>360.002300</td>\n",
       "      <td>360.0022</td>\n",
       "      <td>1</td>\n",
       "      <td>1</td>\n",
       "      <td>0.000000</td>\n",
       "      <td>360.002300</td>\n",
       "      <td>360.0022</td>\n",
       "      <td>1</td>\n",
       "      <td>1</td>\n",
       "      <td>0.000000</td>\n",
       "      <td>360.002300</td>\n",
       "      <td>360.0022</td>\n",
       "      <td>1</td>\n",
       "      <td>1</td>\n",
       "      <td>0.000000</td>\n",
       "    </tr>\n",
       "    <tr>\n",
       "      <th>3</th>\n",
       "      <td>3</td>\n",
       "      <td>480.004900</td>\n",
       "      <td>480.0048</td>\n",
       "      <td>1</td>\n",
       "      <td>1</td>\n",
       "      <td>3.578959</td>\n",
       "      <td>480.004900</td>\n",
       "      <td>480.0048</td>\n",
       "      <td>1</td>\n",
       "      <td>1</td>\n",
       "      <td>0.000000</td>\n",
       "      <td>480.004900</td>\n",
       "      <td>480.0048</td>\n",
       "      <td>1</td>\n",
       "      <td>1</td>\n",
       "      <td>0.000000</td>\n",
       "      <td>480.004900</td>\n",
       "      <td>480.0048</td>\n",
       "      <td>1</td>\n",
       "      <td>1</td>\n",
       "      <td>0.000000</td>\n",
       "    </tr>\n",
       "    <tr>\n",
       "      <th>4</th>\n",
       "      <td>4</td>\n",
       "      <td>600.005800</td>\n",
       "      <td>600.0057</td>\n",
       "      <td>1</td>\n",
       "      <td>1</td>\n",
       "      <td>3.579659</td>\n",
       "      <td>600.005800</td>\n",
       "      <td>600.0057</td>\n",
       "      <td>1</td>\n",
       "      <td>1</td>\n",
       "      <td>0.000000</td>\n",
       "      <td>600.005800</td>\n",
       "      <td>600.0057</td>\n",
       "      <td>1</td>\n",
       "      <td>1</td>\n",
       "      <td>0.000000</td>\n",
       "      <td>600.005800</td>\n",
       "      <td>600.0057</td>\n",
       "      <td>1</td>\n",
       "      <td>1</td>\n",
       "      <td>0.000000</td>\n",
       "    </tr>\n",
       "    <tr>\n",
       "      <th>...</th>\n",
       "      <td>...</td>\n",
       "      <td>...</td>\n",
       "      <td>...</td>\n",
       "      <td>...</td>\n",
       "      <td>...</td>\n",
       "      <td>...</td>\n",
       "      <td>...</td>\n",
       "      <td>...</td>\n",
       "      <td>...</td>\n",
       "      <td>...</td>\n",
       "      <td>...</td>\n",
       "      <td>...</td>\n",
       "      <td>...</td>\n",
       "      <td>...</td>\n",
       "      <td>...</td>\n",
       "      <td>...</td>\n",
       "      <td>...</td>\n",
       "      <td>...</td>\n",
       "      <td>...</td>\n",
       "      <td>...</td>\n",
       "      <td>...</td>\n",
       "    </tr>\n",
       "    <tr>\n",
       "      <th>3976</th>\n",
       "      <td>3976</td>\n",
       "      <td>461127.552312</td>\n",
       "      <td>120.0001</td>\n",
       "      <td>50</td>\n",
       "      <td>6</td>\n",
       "      <td>3.611401</td>\n",
       "      <td>461127.552312</td>\n",
       "      <td>120.0001</td>\n",
       "      <td>50</td>\n",
       "      <td>6</td>\n",
       "      <td>0.000000</td>\n",
       "      <td>461127.552312</td>\n",
       "      <td>120.0001</td>\n",
       "      <td>50</td>\n",
       "      <td>6</td>\n",
       "      <td>2.450970</td>\n",
       "      <td>461127.552312</td>\n",
       "      <td>120.0001</td>\n",
       "      <td>50</td>\n",
       "      <td>6</td>\n",
       "      <td>2.449697</td>\n",
       "    </tr>\n",
       "    <tr>\n",
       "      <th>3977</th>\n",
       "      <td>3977</td>\n",
       "      <td>461247.553112</td>\n",
       "      <td>240.0009</td>\n",
       "      <td>50</td>\n",
       "      <td>6</td>\n",
       "      <td>3.644613</td>\n",
       "      <td>461247.553112</td>\n",
       "      <td>240.0009</td>\n",
       "      <td>50</td>\n",
       "      <td>6</td>\n",
       "      <td>0.000000</td>\n",
       "      <td>461247.553112</td>\n",
       "      <td>240.0009</td>\n",
       "      <td>50</td>\n",
       "      <td>6</td>\n",
       "      <td>2.450970</td>\n",
       "      <td>461247.553112</td>\n",
       "      <td>240.0009</td>\n",
       "      <td>50</td>\n",
       "      <td>6</td>\n",
       "      <td>2.449697</td>\n",
       "    </tr>\n",
       "    <tr>\n",
       "      <th>3978</th>\n",
       "      <td>3978</td>\n",
       "      <td>461307.554012</td>\n",
       "      <td>300.0018</td>\n",
       "      <td>50</td>\n",
       "      <td>6</td>\n",
       "      <td>3.652942</td>\n",
       "      <td>461307.554012</td>\n",
       "      <td>300.0018</td>\n",
       "      <td>50</td>\n",
       "      <td>6</td>\n",
       "      <td>0.000000</td>\n",
       "      <td>461307.554012</td>\n",
       "      <td>300.0018</td>\n",
       "      <td>50</td>\n",
       "      <td>6</td>\n",
       "      <td>2.450970</td>\n",
       "      <td>461307.554012</td>\n",
       "      <td>300.0018</td>\n",
       "      <td>50</td>\n",
       "      <td>6</td>\n",
       "      <td>2.449697</td>\n",
       "    </tr>\n",
       "    <tr>\n",
       "      <th>3979</th>\n",
       "      <td>3979</td>\n",
       "      <td>461427.643156</td>\n",
       "      <td>120.0016</td>\n",
       "      <td>51</td>\n",
       "      <td>8</td>\n",
       "      <td>4.190305</td>\n",
       "      <td>461427.643156</td>\n",
       "      <td>120.0016</td>\n",
       "      <td>51</td>\n",
       "      <td>8</td>\n",
       "      <td>3.260095</td>\n",
       "      <td>461427.643156</td>\n",
       "      <td>120.0016</td>\n",
       "      <td>51</td>\n",
       "      <td>8</td>\n",
       "      <td>0.108668</td>\n",
       "      <td>461427.643156</td>\n",
       "      <td>120.0016</td>\n",
       "      <td>51</td>\n",
       "      <td>8</td>\n",
       "      <td>0.000000</td>\n",
       "    </tr>\n",
       "    <tr>\n",
       "      <th>3980</th>\n",
       "      <td>3980</td>\n",
       "      <td>461454.644456</td>\n",
       "      <td>147.0029</td>\n",
       "      <td>51</td>\n",
       "      <td>8</td>\n",
       "      <td>4.200005</td>\n",
       "      <td>461454.644456</td>\n",
       "      <td>147.0029</td>\n",
       "      <td>51</td>\n",
       "      <td>8</td>\n",
       "      <td>3.260119</td>\n",
       "      <td>461454.644456</td>\n",
       "      <td>147.0029</td>\n",
       "      <td>51</td>\n",
       "      <td>8</td>\n",
       "      <td>0.133123</td>\n",
       "      <td>461454.644456</td>\n",
       "      <td>147.0029</td>\n",
       "      <td>51</td>\n",
       "      <td>8</td>\n",
       "      <td>0.000000</td>\n",
       "    </tr>\n",
       "  </tbody>\n",
       "</table>\n",
       "<p>3981 rows × 21 columns</p>\n",
       "</div>"
      ],
      "text/plain": [
       "      index      Test_Time  ...  Step_Index.3  Discharge_Capacity\n",
       "0         0     120.001100  ...             1            0.000000\n",
       "1         1     240.004000  ...             1            0.000000\n",
       "2         2     360.002300  ...             1            0.000000\n",
       "3         3     480.004900  ...             1            0.000000\n",
       "4         4     600.005800  ...             1            0.000000\n",
       "...     ...            ...  ...           ...                 ...\n",
       "3976   3976  461127.552312  ...             6            2.449697\n",
       "3977   3977  461247.553112  ...             6            2.449697\n",
       "3978   3978  461307.554012  ...             6            2.449697\n",
       "3979   3979  461427.643156  ...             8            0.000000\n",
       "3980   3980  461454.644456  ...             8            0.000000\n",
       "\n",
       "[3981 rows x 21 columns]"
      ]
     },
     "execution_count": 1068,
     "metadata": {},
     "output_type": "execute_result"
    }
   ],
   "source": [
    "dataset_nasa\n"
   ]
  },
  {
   "cell_type": "code",
   "execution_count": 1069,
   "metadata": {
    "id": "wwAaq-AO4AKS"
   },
   "outputs": [],
   "source": [
    "df = pd.DataFrame(dataset_nasa)\n",
    "cols = [0,15]\n",
    "df = df[df.columns[cols]]"
   ]
  },
  {
   "cell_type": "code",
   "execution_count": 1070,
   "metadata": {
    "colab": {
     "base_uri": "https://localhost:8080/",
     "height": 417
    },
    "id": "4ss0ApIz4AWr",
    "outputId": "cb0d9201-24d2-4b01-c398-2cd694e58491"
   },
   "outputs": [
    {
     "data": {
      "text/html": [
       "<div>\n",
       "<style scoped>\n",
       "    .dataframe tbody tr th:only-of-type {\n",
       "        vertical-align: middle;\n",
       "    }\n",
       "\n",
       "    .dataframe tbody tr th {\n",
       "        vertical-align: top;\n",
       "    }\n",
       "\n",
       "    .dataframe thead th {\n",
       "        text-align: right;\n",
       "    }\n",
       "</style>\n",
       "<table border=\"1\" class=\"dataframe\">\n",
       "  <thead>\n",
       "    <tr style=\"text-align: right;\">\n",
       "      <th></th>\n",
       "      <th>index</th>\n",
       "      <th>Charge_Capacity</th>\n",
       "    </tr>\n",
       "  </thead>\n",
       "  <tbody>\n",
       "    <tr>\n",
       "      <th>0</th>\n",
       "      <td>0</td>\n",
       "      <td>0.000000</td>\n",
       "    </tr>\n",
       "    <tr>\n",
       "      <th>1</th>\n",
       "      <td>1</td>\n",
       "      <td>0.000000</td>\n",
       "    </tr>\n",
       "    <tr>\n",
       "      <th>2</th>\n",
       "      <td>2</td>\n",
       "      <td>0.000000</td>\n",
       "    </tr>\n",
       "    <tr>\n",
       "      <th>3</th>\n",
       "      <td>3</td>\n",
       "      <td>0.000000</td>\n",
       "    </tr>\n",
       "    <tr>\n",
       "      <th>4</th>\n",
       "      <td>4</td>\n",
       "      <td>0.000000</td>\n",
       "    </tr>\n",
       "    <tr>\n",
       "      <th>...</th>\n",
       "      <td>...</td>\n",
       "      <td>...</td>\n",
       "    </tr>\n",
       "    <tr>\n",
       "      <th>3976</th>\n",
       "      <td>3976</td>\n",
       "      <td>2.450970</td>\n",
       "    </tr>\n",
       "    <tr>\n",
       "      <th>3977</th>\n",
       "      <td>3977</td>\n",
       "      <td>2.450970</td>\n",
       "    </tr>\n",
       "    <tr>\n",
       "      <th>3978</th>\n",
       "      <td>3978</td>\n",
       "      <td>2.450970</td>\n",
       "    </tr>\n",
       "    <tr>\n",
       "      <th>3979</th>\n",
       "      <td>3979</td>\n",
       "      <td>0.108668</td>\n",
       "    </tr>\n",
       "    <tr>\n",
       "      <th>3980</th>\n",
       "      <td>3980</td>\n",
       "      <td>0.133123</td>\n",
       "    </tr>\n",
       "  </tbody>\n",
       "</table>\n",
       "<p>3981 rows × 2 columns</p>\n",
       "</div>"
      ],
      "text/plain": [
       "      index  Charge_Capacity\n",
       "0         0         0.000000\n",
       "1         1         0.000000\n",
       "2         2         0.000000\n",
       "3         3         0.000000\n",
       "4         4         0.000000\n",
       "...     ...              ...\n",
       "3976   3976         2.450970\n",
       "3977   3977         2.450970\n",
       "3978   3978         2.450970\n",
       "3979   3979         0.108668\n",
       "3980   3980         0.133123\n",
       "\n",
       "[3981 rows x 2 columns]"
      ]
     },
     "execution_count": 1070,
     "metadata": {},
     "output_type": "execute_result"
    }
   ],
   "source": [
    "df"
   ]
  },
  {
   "cell_type": "code",
   "execution_count": 1071,
   "metadata": {
    "id": "T807dGEGdGOF"
   },
   "outputs": [],
   "source": [
    "df1 = df.to_numpy()"
   ]
  },
  {
   "cell_type": "code",
   "execution_count": 1072,
   "metadata": {
    "id": "LODZWZeYkh2n"
   },
   "outputs": [],
   "source": [
    "train_size = int(len(df1)*0.8)\n",
    "test_size = len(df1) - train_size\n",
    "train = df1[1:train_size,:]\n",
    "test = df1[train_size:len(df1)]"
   ]
  },
  {
   "cell_type": "code",
   "execution_count": 1073,
   "metadata": {
    "colab": {
     "base_uri": "https://localhost:8080/"
    },
    "id": "AWeTV_6qgxIV",
    "outputId": "22d685e6-d2e1-44de-9248-76db1ab4d6f6"
   },
   "outputs": [
    {
     "data": {
      "text/plain": [
       "3184"
      ]
     },
     "execution_count": 1073,
     "metadata": {},
     "output_type": "execute_result"
    }
   ],
   "source": [
    "train_size"
   ]
  },
  {
   "cell_type": "code",
   "execution_count": 1074,
   "metadata": {
    "id": "KeMJFvQ0U3Z6"
   },
   "outputs": [],
   "source": [
    "train_set = pd.DataFrame(train)"
   ]
  },
  {
   "cell_type": "code",
   "execution_count": 1075,
   "metadata": {
    "colab": {
     "base_uri": "https://localhost:8080/",
     "height": 417
    },
    "id": "WETL8vj3d6zz",
    "outputId": "41276267-c74b-4959-8d28-7b59a78068b1"
   },
   "outputs": [
    {
     "data": {
      "text/html": [
       "<div>\n",
       "<style scoped>\n",
       "    .dataframe tbody tr th:only-of-type {\n",
       "        vertical-align: middle;\n",
       "    }\n",
       "\n",
       "    .dataframe tbody tr th {\n",
       "        vertical-align: top;\n",
       "    }\n",
       "\n",
       "    .dataframe thead th {\n",
       "        text-align: right;\n",
       "    }\n",
       "</style>\n",
       "<table border=\"1\" class=\"dataframe\">\n",
       "  <thead>\n",
       "    <tr style=\"text-align: right;\">\n",
       "      <th></th>\n",
       "      <th>0</th>\n",
       "      <th>1</th>\n",
       "    </tr>\n",
       "  </thead>\n",
       "  <tbody>\n",
       "    <tr>\n",
       "      <th>0</th>\n",
       "      <td>1.0</td>\n",
       "      <td>0.000000</td>\n",
       "    </tr>\n",
       "    <tr>\n",
       "      <th>1</th>\n",
       "      <td>2.0</td>\n",
       "      <td>0.000000</td>\n",
       "    </tr>\n",
       "    <tr>\n",
       "      <th>2</th>\n",
       "      <td>3.0</td>\n",
       "      <td>0.000000</td>\n",
       "    </tr>\n",
       "    <tr>\n",
       "      <th>3</th>\n",
       "      <td>4.0</td>\n",
       "      <td>0.000000</td>\n",
       "    </tr>\n",
       "    <tr>\n",
       "      <th>4</th>\n",
       "      <td>5.0</td>\n",
       "      <td>0.000000</td>\n",
       "    </tr>\n",
       "    <tr>\n",
       "      <th>...</th>\n",
       "      <td>...</td>\n",
       "      <td>...</td>\n",
       "    </tr>\n",
       "    <tr>\n",
       "      <th>3178</th>\n",
       "      <td>3179.0</td>\n",
       "      <td>2.455641</td>\n",
       "    </tr>\n",
       "    <tr>\n",
       "      <th>3179</th>\n",
       "      <td>3180.0</td>\n",
       "      <td>2.455641</td>\n",
       "    </tr>\n",
       "    <tr>\n",
       "      <th>3180</th>\n",
       "      <td>3181.0</td>\n",
       "      <td>2.455641</td>\n",
       "    </tr>\n",
       "    <tr>\n",
       "      <th>3181</th>\n",
       "      <td>3182.0</td>\n",
       "      <td>2.455641</td>\n",
       "    </tr>\n",
       "    <tr>\n",
       "      <th>3182</th>\n",
       "      <td>3183.0</td>\n",
       "      <td>2.455641</td>\n",
       "    </tr>\n",
       "  </tbody>\n",
       "</table>\n",
       "<p>3183 rows × 2 columns</p>\n",
       "</div>"
      ],
      "text/plain": [
       "           0         1\n",
       "0        1.0  0.000000\n",
       "1        2.0  0.000000\n",
       "2        3.0  0.000000\n",
       "3        4.0  0.000000\n",
       "4        5.0  0.000000\n",
       "...      ...       ...\n",
       "3178  3179.0  2.455641\n",
       "3179  3180.0  2.455641\n",
       "3180  3181.0  2.455641\n",
       "3181  3182.0  2.455641\n",
       "3182  3183.0  2.455641\n",
       "\n",
       "[3183 rows x 2 columns]"
      ]
     },
     "execution_count": 1075,
     "metadata": {},
     "output_type": "execute_result"
    }
   ],
   "source": [
    "train_set"
   ]
  },
  {
   "cell_type": "code",
   "execution_count": 1076,
   "metadata": {
    "id": "5g-dEeBseFAS"
   },
   "outputs": [],
   "source": [
    "test_set = pd.DataFrame(test)"
   ]
  },
  {
   "cell_type": "code",
   "execution_count": 1077,
   "metadata": {
    "colab": {
     "base_uri": "https://localhost:8080/",
     "height": 417
    },
    "id": "T3rDI_yxeKmE",
    "outputId": "4ec47bb2-6329-4469-cf4a-c4ced9dc0203"
   },
   "outputs": [
    {
     "data": {
      "text/html": [
       "<div>\n",
       "<style scoped>\n",
       "    .dataframe tbody tr th:only-of-type {\n",
       "        vertical-align: middle;\n",
       "    }\n",
       "\n",
       "    .dataframe tbody tr th {\n",
       "        vertical-align: top;\n",
       "    }\n",
       "\n",
       "    .dataframe thead th {\n",
       "        text-align: right;\n",
       "    }\n",
       "</style>\n",
       "<table border=\"1\" class=\"dataframe\">\n",
       "  <thead>\n",
       "    <tr style=\"text-align: right;\">\n",
       "      <th></th>\n",
       "      <th>0</th>\n",
       "      <th>1</th>\n",
       "    </tr>\n",
       "  </thead>\n",
       "  <tbody>\n",
       "    <tr>\n",
       "      <th>0</th>\n",
       "      <td>3184.0</td>\n",
       "      <td>2.455641</td>\n",
       "    </tr>\n",
       "    <tr>\n",
       "      <th>1</th>\n",
       "      <td>3185.0</td>\n",
       "      <td>2.455641</td>\n",
       "    </tr>\n",
       "    <tr>\n",
       "      <th>2</th>\n",
       "      <td>3186.0</td>\n",
       "      <td>2.455641</td>\n",
       "    </tr>\n",
       "    <tr>\n",
       "      <th>3</th>\n",
       "      <td>3187.0</td>\n",
       "      <td>2.455641</td>\n",
       "    </tr>\n",
       "    <tr>\n",
       "      <th>4</th>\n",
       "      <td>3188.0</td>\n",
       "      <td>2.455641</td>\n",
       "    </tr>\n",
       "    <tr>\n",
       "      <th>...</th>\n",
       "      <td>...</td>\n",
       "      <td>...</td>\n",
       "    </tr>\n",
       "    <tr>\n",
       "      <th>792</th>\n",
       "      <td>3976.0</td>\n",
       "      <td>2.450970</td>\n",
       "    </tr>\n",
       "    <tr>\n",
       "      <th>793</th>\n",
       "      <td>3977.0</td>\n",
       "      <td>2.450970</td>\n",
       "    </tr>\n",
       "    <tr>\n",
       "      <th>794</th>\n",
       "      <td>3978.0</td>\n",
       "      <td>2.450970</td>\n",
       "    </tr>\n",
       "    <tr>\n",
       "      <th>795</th>\n",
       "      <td>3979.0</td>\n",
       "      <td>0.108668</td>\n",
       "    </tr>\n",
       "    <tr>\n",
       "      <th>796</th>\n",
       "      <td>3980.0</td>\n",
       "      <td>0.133123</td>\n",
       "    </tr>\n",
       "  </tbody>\n",
       "</table>\n",
       "<p>797 rows × 2 columns</p>\n",
       "</div>"
      ],
      "text/plain": [
       "          0         1\n",
       "0    3184.0  2.455641\n",
       "1    3185.0  2.455641\n",
       "2    3186.0  2.455641\n",
       "3    3187.0  2.455641\n",
       "4    3188.0  2.455641\n",
       "..      ...       ...\n",
       "792  3976.0  2.450970\n",
       "793  3977.0  2.450970\n",
       "794  3978.0  2.450970\n",
       "795  3979.0  0.108668\n",
       "796  3980.0  0.133123\n",
       "\n",
       "[797 rows x 2 columns]"
      ]
     },
     "execution_count": 1077,
     "metadata": {},
     "output_type": "execute_result"
    }
   ],
   "source": [
    "test_set"
   ]
  },
  {
   "cell_type": "code",
   "execution_count": 1078,
   "metadata": {
    "colab": {
     "base_uri": "https://localhost:8080/"
    },
    "id": "f1the1T5EOmc",
    "outputId": "a1d232f2-4d45-4e92-b819-8e11a0e71c1d"
   },
   "outputs": [
    {
     "data": {
      "text/plain": [
       "Index(['index', 'Charge_Capacity'], dtype='object')"
      ]
     },
     "execution_count": 1078,
     "metadata": {},
     "output_type": "execute_result"
    }
   ],
   "source": [
    "df.columns"
   ]
  },
  {
   "cell_type": "code",
   "execution_count": 1079,
   "metadata": {
    "id": "0_YxlE0XdCjP"
   },
   "outputs": [],
   "source": [
    "df_input = df[['index','Charge_Capacity']]"
   ]
  },
  {
   "cell_type": "code",
   "execution_count": 1080,
   "metadata": {
    "id": "Dlc4FnMDdCn0"
   },
   "outputs": [],
   "source": [
    "df_input = df_input.set_index('index')"
   ]
  },
  {
   "cell_type": "code",
   "execution_count": 1081,
   "metadata": {
    "id": "sIOGFPUXfl8N"
   },
   "outputs": [],
   "source": [
    "train_time = 949\n",
    "prediction_length = 949\n",
    "freq = \"2min\""
   ]
  },
  {
   "cell_type": "code",
   "execution_count": 1082,
   "metadata": {
    "id": "bIOdz6aNfl_E"
   },
   "outputs": [],
   "source": [
    "from gluonts.dataset.common import ListDataset\n",
    "train_data = ListDataset(\n",
    "    [{\"start\": df_input.index[0], \"target\": df_input.Charge_Capacity[:train_time] }],\n",
    "    freq = \"2min\"\n",
    ")"
   ]
  },
  {
   "cell_type": "code",
   "execution_count": 1083,
   "metadata": {
    "colab": {
     "base_uri": "https://localhost:8080/",
     "height": 289
    },
    "id": "o3VEMuGqfmCj",
    "outputId": "04509dbe-3d72-4e79-80b1-2405346850e7"
   },
   "outputs": [
    {
     "data": {
      "image/png": "[encoded data removed]",
      "text/plain": [
       "<Figure size 432x288 with 1 Axes>"
      ]
     },
     "metadata": {
      "needs_background": "light"
     },
     "output_type": "display_data"
    }
   ],
   "source": [
    "entry = next(iter(train_data))\n",
    "train_series = to_pandas(entry)\n",
    "train_series.plot()\n",
    "plt.grid(which=\"both\")\n",
    "plt.legend([\"train series\"], loc=\"upper left\")\n",
    "plt.savefig(\"fig1.pdf\",bbox_inches=\"tight\")\n",
    "plt.show()"
   ]
  },
  {
   "cell_type": "code",
   "execution_count": 1084,
   "metadata": {
    "id": "NegtiuLcvLWF"
   },
   "outputs": [],
   "source": [
    "test_data = ListDataset(\n",
    "    [{\"start\": df_input.index[0], \"target\": df_input.Charge_Capacity[:]}],\n",
    "    freq = \"2min\"\n",
    ")"
   ]
  },
  {
   "cell_type": "code",
   "execution_count": 1085,
   "metadata": {
    "colab": {
     "base_uri": "https://localhost:8080/",
     "height": 289
    },
    "id": "8qkov_uhfmIF",
    "outputId": "94c780ae-69a2-4c44-8235-a95fcd138f7a"
   },
   "outputs": [
    {
     "data": {
      "image/png": "[encoded data removed]",
      "text/plain": [
       "<Figure size 432x288 with 1 Axes>"
      ]
     },
     "metadata": {
      "needs_background": "light"
     },
     "output_type": "display_data"
    }
   ],
   "source": [
    "entry = next(iter(test_data))\n",
    "test_series = to_pandas(entry)\n",
    "test_series.plot()\n",
    "plt.axvline(train_series.index[-1], color='r') # end of train dataset\n",
    "plt.grid(which=\"both\")\n",
    "plt.legend([\"test series\", \"end of train series\"], loc=\"upper left\")\n",
    "plt.savefig(\"fig2.pdf\",bbox_inches=\"tight\")\n",
    "plt.show()"
   ]
  },
  {
   "cell_type": "code",
   "execution_count": 1086,
   "metadata": {
    "colab": {
     "base_uri": "https://localhost:8080/"
    },
    "id": "QhoWe6rawAZv",
    "outputId": "1b767269-c248-487a-ae52-16048d5e7ab8"
   },
   "outputs": [
    {
     "name": "stdout",
     "output_type": "stream",
     "text": [
      "Length of forecasting window in test dataset:3032\n",
      "Frequency of the time series:2min\n"
     ]
    }
   ],
   "source": [
    "print(f\"Length of forecasting window in test dataset:{len(test_series)-len(train_series)}\")\n",
    "print(f\"Frequency of the time series:{freq}\")"
   ]
  },
  {
   "cell_type": "code",
   "execution_count": 1087,
   "metadata": {
    "id": "2CvnPKD6wAb2"
   },
   "outputs": [],
   "source": [
    "from gluonts.model.simple_feedforward import SimpleFeedForwardEstimator\n",
    "from gluonts.mx.trainer import Trainer"
   ]
  },
  {
   "cell_type": "code",
   "execution_count": 1088,
   "metadata": {
    "id": "pdmsiYrRwAer"
   },
   "outputs": [],
   "source": [
    "estimator = SimpleFeedForwardEstimator(\n",
    "    num_hidden_dimensions=[10],\n",
    "    prediction_length=250,\n",
    "    context_length=50,\n",
    "    freq=\"2min\",\n",
    "    trainer=Trainer(ctx=\"cpu\", \n",
    "                    epochs=5, \n",
    "                    learning_rate=1e-3, \n",
    "                    num_batches_per_epoch=100\n",
    "                   )\n",
    ")"
   ]
  },
  {
   "cell_type": "code",
   "execution_count": 1089,
   "metadata": {
    "colab": {
     "base_uri": "https://localhost:8080/"
    },
    "id": "NhL0nVskwAjS",
    "outputId": "d268fa44-116b-4eea-e506-774000c2f976"
   },
   "outputs": [
    {
     "name": "stderr",
     "output_type": "stream",
     "text": [
      "100%|██████████| 100/100 [00:01<00:00, 73.21it/s, epoch=1/5, avg_epoch_loss=0.932]\n",
      "100%|██████████| 100/100 [00:01<00:00, 72.29it/s, epoch=2/5, avg_epoch_loss=0.168]\n",
      "100%|██████████| 100/100 [00:01<00:00, 74.45it/s, epoch=3/5, avg_epoch_loss=0.0111]\n",
      "100%|██████████| 100/100 [00:01<00:00, 72.87it/s, epoch=4/5, avg_epoch_loss=-.0451]\n",
      "100%|██████████| 100/100 [00:01<00:00, 75.61it/s, epoch=5/5, avg_epoch_loss=-.0797]\n"
     ]
    }
   ],
   "source": [
    "predictor = estimator.train(train_data)"
   ]
  },
  {
   "cell_type": "code",
   "execution_count": 1090,
   "metadata": {
    "id": "CASb7jv6_CEd"
   },
   "outputs": [],
   "source": [
    "from gluonts.evaluation.backtest import make_evaluation_predictions"
   ]
  },
  {
   "cell_type": "code",
   "execution_count": 1091,
   "metadata": {
    "id": "4BL7I1rL_CGo"
   },
   "outputs": [],
   "source": [
    "forecast_it, ts_it = make_evaluation_predictions(\n",
    "    dataset=test_data,  # test dataset\n",
    "    predictor=predictor,  # predictor\n",
    "    num_samples=500,  # number of sample paths we want for evaluation 100\n",
    ")"
   ]
  },
  {
   "cell_type": "code",
   "execution_count": 1092,
   "metadata": {
    "id": "DOjSmzsT_CJt"
   },
   "outputs": [],
   "source": [
    "forecasts = list(forecast_it)\n",
    "tss = list(ts_it)"
   ]
  },
  {
   "cell_type": "code",
   "execution_count": 1093,
   "metadata": {
    "id": "Mer7dfY1_CMZ"
   },
   "outputs": [],
   "source": [
    "# first entry of the time series list\n",
    "ts_entry = tss[0]"
   ]
  },
  {
   "cell_type": "code",
   "execution_count": 1094,
   "metadata": {
    "colab": {
     "base_uri": "https://localhost:8080/"
    },
    "id": "b-8-7Jfg_CO9",
    "outputId": "da20c141-710a-4f2a-e89a-92965ebc6e69"
   },
   "outputs": [
    {
     "data": {
      "text/plain": [
       "array([0., 0., 0., 0., 0.], dtype=float32)"
      ]
     },
     "execution_count": 1094,
     "metadata": {},
     "output_type": "execute_result"
    }
   ],
   "source": [
    "# first 5 values of the time series (convert from pandas to numpy)\n",
    "np.array(ts_entry[:5]).reshape(-1,)"
   ]
  },
  {
   "cell_type": "code",
   "execution_count": 1095,
   "metadata": {
    "id": "QXz60jpG_CR6"
   },
   "outputs": [],
   "source": [
    "# first entry of dataset.test\n",
    "dataset_test_entry = next(iter(test_data))"
   ]
  },
  {
   "cell_type": "code",
   "execution_count": 1096,
   "metadata": {
    "colab": {
     "base_uri": "https://localhost:8080/"
    },
    "id": "tXHfQ2D4_CU0",
    "outputId": "61c7ffc1-9579-437d-95b6-655308c79cf6"
   },
   "outputs": [
    {
     "data": {
      "text/plain": [
       "array([0., 0., 0., 0., 0.], dtype=float32)"
      ]
     },
     "execution_count": 1096,
     "metadata": {},
     "output_type": "execute_result"
    }
   ],
   "source": [
    "# first 5 values\n",
    "dataset_test_entry['target'][:5]"
   ]
  },
  {
   "cell_type": "code",
   "execution_count": 1097,
   "metadata": {
    "id": "zqkSt771_CW-"
   },
   "outputs": [],
   "source": [
    "# first entry of the forecast list\n",
    "forecast_entry = forecasts[0]"
   ]
  },
  {
   "cell_type": "code",
   "execution_count": 1098,
   "metadata": {
    "colab": {
     "base_uri": "https://localhost:8080/"
    },
    "id": "wp5tTd8z_CZt",
    "outputId": "ce741ee4-03fa-48d9-f5eb-64e7233db89a"
   },
   "outputs": [
    {
     "name": "stdout",
     "output_type": "stream",
     "text": [
      "Number of sample paths: 500\n",
      "Dimension of samples: (500, 250)\n",
      "Start date of the forecast window: 1970-01-06 04:22:00\n",
      "Frequency of the time series: 2min\n"
     ]
    }
   ],
   "source": [
    "print(f\"Number of sample paths: {forecast_entry.num_samples}\")\n",
    "print(f\"Dimension of samples: {forecast_entry.samples.shape}\")\n",
    "print(f\"Start date of the forecast window: {forecast_entry.start_date}\")\n",
    "print(f\"Frequency of the time series: {forecast_entry.freq}\")"
   ]
  },
  {
   "cell_type": "code",
   "execution_count": 1099,
   "metadata": {
    "colab": {
     "base_uri": "https://localhost:8080/"
    },
    "id": "GvKJYScF_CdO",
    "outputId": "6d1f34e8-b10d-4e5a-e8de-bcc35ad06113"
   },
   "outputs": [
    {
     "name": "stdout",
     "output_type": "stream",
     "text": [
      "Mean of the future window:\n",
      " [2.586221  2.5264056 2.5761518 2.6368139 2.5215886 2.5515811 2.565535\n",
      " 2.5894141 2.6102262 2.6840262 2.6542342 2.623831  2.651104  2.6656573\n",
      " 2.654872  2.5007288 1.8036047 1.6343932 1.5808729 1.3029075 1.2696551\n",
      " 1.4131658 1.5219231 1.4155419 1.4323236 1.4620389 1.5570887 1.5785923\n",
      " 1.6320968 1.6780978 1.6608951 1.6761935 1.8663727 1.9792807 1.8745011\n",
      " 1.9917864 2.1725159 2.0053873 2.1673791 2.1783717 2.2361054 2.2479646\n",
      " 2.3060524 2.3023164 2.312674  2.37398   2.383433  2.462077  2.4646013\n",
      " 2.5056741 2.4393728 2.452048  2.4730825 2.5788016 2.4234893 2.486988\n",
      " 2.5055184 2.5053058 2.3745265 2.4648957 2.4707098 2.4518657 2.4960997\n",
      " 2.5217848 2.521597  2.4480436 2.4930444 2.471131  2.4604049 2.516079\n",
      " 2.4193263 2.4363215 2.405578  2.4088905 2.4044704 2.3981972 2.4231994\n",
      " 2.4411514 2.460349  2.52326   2.51957   2.5191653 2.504115  2.5555234\n",
      " 2.5450735 2.561768  2.615024  2.6032193 2.613888  2.5543654 2.6015844\n",
      " 2.6342998 2.583423  2.5772276 2.4569833 1.6974496 1.4338095 1.3251749\n",
      " 1.3603433 1.274359  1.3473232 1.4169241 1.3793613 1.466268  1.619103\n",
      " 1.5788207 1.6490034 1.7035738 1.7589344 1.7796252 1.7922708 1.886096\n",
      " 1.862357  2.0667639 2.0992105 2.05518   2.1112921 2.1519186 2.1690989\n",
      " 2.218594  2.2465198 2.266796  2.344875  2.3231664 2.3400133 2.47559\n",
      " 2.373866  2.3174474 2.4615076 2.3743243 2.3981316 2.447011  2.6639297\n",
      " 2.4551582 2.4402785 2.423958  2.4434981 2.504565  2.4517553 2.5061836\n",
      " 2.545331  2.4061403 2.4030294 2.4447649 2.4573052 2.4253068 2.4845552\n",
      " 2.5115147 2.3874366 2.4408138 2.4057643 2.4196453 2.3557887 2.4089084\n",
      " 2.4811194 2.489999  2.4227138 2.4242468 2.4567835 2.4471822 2.4730396\n",
      " 2.5162144 2.5188947 2.5696146 2.5642388 2.5904696 2.5365574 2.562592\n",
      " 2.6578953 2.476115  2.5665905 2.6065125 2.3423152 1.9810971 1.6342932\n",
      " 1.6414384 1.3337871 1.202386  1.3269246 1.3954668 1.3514496 1.4393861\n",
      " 1.3668423 1.4924147 1.538265  1.705328  1.7405027 1.7200105 1.7776843\n",
      " 1.7443386 2.0045388 1.9541119 1.9897225 1.9189764 2.0734377 2.1032553\n",
      " 2.139008  2.2127845 2.267363  2.2726789 2.2933576 2.2303832 2.4376938\n",
      " 2.356871  2.3680599 2.3932261 2.4334762 2.4386487 2.6753924 2.4080632\n",
      " 2.4776027 2.4317772 2.4623852 2.440961  2.399994  2.4605713 2.4359891\n",
      " 2.5479848 2.4513776 2.4649792 2.4110916 2.5036116 2.4328825 2.4373024\n",
      " 2.4321685 2.470478  2.4837403 2.4511743 2.369195  2.530671  2.461464\n",
      " 2.3523414 2.453606  2.3828034 2.459135  2.412134  2.4730966 2.471183\n",
      " 2.488426  2.4929345 2.5012763 2.5335863 2.582835  2.5414023 2.5418656\n",
      " 2.5718727 2.5808394 2.6360917 2.5745935 2.673805 ]\n",
      "0.5-quantile (median) of the future window:\n",
      " [2.585605  2.531541  2.575057  2.6225038 2.5227208 2.523284  2.5768862\n",
      " 2.5906363 2.6232183 2.682583  2.6352625 2.630498  2.669663  2.6645539\n",
      " 2.6609218 2.517253  1.7937607 1.6920733 1.5149004 1.3525171 1.2780954\n",
      " 1.3972918 1.5310262 1.4565458 1.4229861 1.486368  1.5512925 1.6063257\n",
      " 1.6313754 1.6806223 1.6350125 1.6731977 1.9032134 1.9718001 1.8911138\n",
      " 2.0080364 2.1794899 2.0077574 2.1684284 2.1801794 2.234435  2.253913\n",
      " 2.307699  2.3063345 2.3083627 2.3756034 2.391197  2.4259703 2.4669316\n",
      " 2.508312  2.4538713 2.4569798 2.4770753 2.5723171 2.4206636 2.4831998\n",
      " 2.5155287 2.4775317 2.3980327 2.472784  2.4646654 2.4418414 2.4889135\n",
      " 2.5147824 2.5159943 2.4440374 2.4897585 2.474582  2.4629214 2.5104551\n",
      " 2.4207294 2.427503  2.398282  2.4074152 2.4012828 2.3933387 2.4220533\n",
      " 2.441048  2.4629087 2.529498  2.5055778 2.5220323 2.497311  2.5568485\n",
      " 2.554254  2.5711973 2.5841582 2.6001475 2.5988972 2.5499282 2.6004167\n",
      " 2.6220336 2.5950778 2.5449371 2.4149709 1.6822368 1.4448698 1.3846892\n",
      " 1.3832623 1.2645973 1.3815328 1.397718  1.3793147 1.4641384 1.5975031\n",
      " 1.5665711 1.6633635 1.7091271 1.7556659 1.7951254 1.7906668 1.8960536\n",
      " 1.8605869 2.0726795 2.114322  2.0541308 2.1312513 2.1530552 2.1875265\n",
      " 2.2181365 2.254771  2.2604673 2.3462846 2.3325248 2.3326588 2.4531739\n",
      " 2.3710806 2.326476  2.461746  2.3856087 2.3927004 2.4637184 2.6608543\n",
      " 2.4520802 2.4389093 2.4272037 2.45662   2.50589   2.4488313 2.495459\n",
      " 2.5464559 2.3571756 2.4060311 2.4539185 2.44678   2.4257112 2.486828\n",
      " 2.5010924 2.3991802 2.444849  2.3936863 2.4209945 2.3547654 2.4133303\n",
      " 2.4802485 2.4890094 2.431557  2.431212  2.4582608 2.4568253 2.470668\n",
      " 2.5029304 2.5330963 2.5676389 2.5812964 2.595905  2.5379224 2.5528872\n",
      " 2.6648026 2.5117393 2.5638204 2.6234672 2.4008129 1.9721328 1.6664381\n",
      " 1.5955191 1.3210568 1.2192103 1.3344443 1.3978862 1.3075265 1.4443011\n",
      " 1.3739197 1.5043393 1.5560212 1.732081  1.7107729 1.7339327 1.7853879\n",
      " 1.7626818 1.9852073 1.9405941 1.9939817 1.9592798 2.0714884 2.0718153\n",
      " 2.142385  2.209133  2.275079  2.2692049 2.2939968 2.2294316 2.4351537\n",
      " 2.3611884 2.3702796 2.3937886 2.415905  2.4533303 2.6792371 2.4172962\n",
      " 2.4827878 2.4520862 2.4610648 2.438614  2.397086  2.4782383 2.426755\n",
      " 2.5245585 2.4542284 2.4665487 2.4118395 2.500763  2.4356103 2.432081\n",
      " 2.429198  2.4591823 2.4726593 2.4459548 2.3780868 2.5121784 2.4671376\n",
      " 2.3518636 2.4562917 2.3719687 2.4569764 2.406449  2.4826987 2.464005\n",
      " 2.4974842 2.5044458 2.4924352 2.546288  2.5760348 2.5361814 2.553564\n",
      " 2.5866325 2.5556755 2.5582345 2.5534449 2.6537316]\n"
     ]
    }
   ],
   "source": [
    "print(f\"Mean of the future window:\\n {forecast_entry.mean}\")\n",
    "print(f\"0.5-quantile (median) of the future window:\\n {forecast_entry.quantile(0.5)}\")"
   ]
  },
  {
   "cell_type": "code",
   "execution_count": 1102,
   "metadata": {
    "id": "l4hT4FX0_sBf"
   },
   "outputs": [],
   "source": [
    "def plot_prob_forecasts(ts_entry, forecast_entry):\n",
    "    plot_length = 500\n",
    "    prediction_intervals = (50.0, 90.0)\n",
    "    legend = [\"observations\", \"median prediction\"] + [f\"{k}% prediction interval\" for k in prediction_intervals][::-1]\n",
    "\n",
    "    fig, ax = plt.subplots(1, 1, figsize=(10, 7))\n",
    "    ts_entry[-plot_length:].plot(ax=ax)  # plot the time series\n",
    "    forecast_entry.plot(prediction_intervals=prediction_intervals, color='g')\n",
    "    plt.grid(which=\"both\")\n",
    "    plt.ylim(0,3)\n",
    "    plt.legend(legend, loc=\"upper left\")\n",
    "    plt.savefig(\"fig3.pdf\",bbox_inches=\"tight\")\n",
    "    plt.show()"
   ]
  },
  {
   "cell_type": "code",
   "execution_count": 1103,
   "metadata": {
    "colab": {
     "base_uri": "https://localhost:8080/",
     "height": 444
    },
    "id": "eGL634gS_sFB",
    "outputId": "2efe9383-0fb9-4ab2-d216-f9c6658cb03c"
   },
   "outputs": [
    {
     "data": {
      "image/png": "[encoded data removed]",
      "text/plain": [
       "<Figure size 720x504 with 1 Axes>"
      ]
     },
     "metadata": {
      "needs_background": "light"
     },
     "output_type": "display_data"
    }
   ],
   "source": [
    "plot_prob_forecasts(ts_entry, forecast_entry)"
   ]
  },
  {
   "cell_type": "code",
   "execution_count": 1104,
   "metadata": {
    "id": "ZNQ9VW-i_sIV"
   },
   "outputs": [],
   "source": [
    "from gluonts.evaluation import Evaluator\n"
   ]
  },
  {
   "cell_type": "code",
   "execution_count": 1105,
   "metadata": {
    "colab": {
     "base_uri": "https://localhost:8080/"
    },
    "id": "K8qjJvhC_sX6",
    "outputId": "ab931f54-d817-4fe7-b28a-c5729555df35"
   },
   "outputs": [
    {
     "name": "stderr",
     "output_type": "stream",
     "text": [
      "Running evaluation: 100%|██████████| 1/1 [00:00<00:00, 25.48it/s]\n"
     ]
    }
   ],
   "source": [
    "evaluator = Evaluator(quantiles=[0.5,0.1,0.9])\n",
    "agg_metrics, item_metrics = evaluator(iter(tss), iter(forecasts), num_series=len(test_data))"
   ]
  },
  {
   "cell_type": "code",
   "execution_count": 1106,
   "metadata": {
    "colab": {
     "base_uri": "https://localhost:8080/"
    },
    "id": "BGoIY9no_9k1",
    "outputId": "17c9947d-a401-4334-c207-1be14b6b6440"
   },
   "outputs": [
    {
     "name": "stdout",
     "output_type": "stream",
     "text": [
      "{\n",
      "    \"MSE\": 0.400576416015625,\n",
      "    \"abs_error\": 63.654727935791016,\n",
      "    \"abs_target_sum\": 502.94873046875,\n",
      "    \"abs_target_mean\": 2.011794921875,\n",
      "    \"seasonal_error\": 0.4671777214017353,\n",
      "    \"MASE\": 0.5450150982782253,\n",
      "    \"MAPE\": 0.9306527709960938,\n",
      "    \"sMAPE\": 0.17624380493164063,\n",
      "    \"MSIS\": 8.672439568573948,\n",
      "    \"QuantileLoss[0.5]\": 63.654727935791016,\n",
      "    \"Coverage[0.5]\": 0.788,\n",
      "    \"QuantileLoss[0.1]\": 60.973002314567566,\n",
      "    \"Coverage[0.1]\": 0.092,\n",
      "    \"QuantileLoss[0.9]\": 25.75133836269378,\n",
      "    \"Coverage[0.9]\": 1.0,\n",
      "    \"RMSE\": 0.6329110648547907,\n",
      "    \"NRMSE\": 0.31460019009537776,\n",
      "    \"ND\": 0.12656305519742456,\n",
      "    \"wQuantileLoss[0.5]\": 0.12656305519742456,\n",
      "    \"wQuantileLoss[0.1]\": 0.12123104925176073,\n",
      "    \"wQuantileLoss[0.9]\": 0.051200722464680326,\n",
      "    \"mean_absolute_QuantileLoss\": 50.12635620435079,\n",
      "    \"mean_wQuantileLoss\": 0.09966494230462186,\n",
      "    \"MAE_Coverage\": 0.132,\n",
      "    \"OWA\": NaN\n",
      "}\n"
     ]
    }
   ],
   "source": [
    "print(json.dumps(agg_metrics, indent=4))"
   ]
  },
  {
   "cell_type": "code",
   "execution_count": 1107,
   "metadata": {
    "colab": {
     "base_uri": "https://localhost:8080/",
     "height": 100
    },
    "id": "JnrPgobQ_9nq",
    "outputId": "96db03ce-06e7-46b6-c282-c10afbd87773"
   },
   "outputs": [
    {
     "data": {
      "text/html": [
       "<div>\n",
       "<style scoped>\n",
       "    .dataframe tbody tr th:only-of-type {\n",
       "        vertical-align: middle;\n",
       "    }\n",
       "\n",
       "    .dataframe tbody tr th {\n",
       "        vertical-align: top;\n",
       "    }\n",
       "\n",
       "    .dataframe thead th {\n",
       "        text-align: right;\n",
       "    }\n",
       "</style>\n",
       "<table border=\"1\" class=\"dataframe\">\n",
       "  <thead>\n",
       "    <tr style=\"text-align: right;\">\n",
       "      <th></th>\n",
       "      <th>item_id</th>\n",
       "      <th>MSE</th>\n",
       "      <th>abs_error</th>\n",
       "      <th>abs_target_sum</th>\n",
       "      <th>abs_target_mean</th>\n",
       "      <th>seasonal_error</th>\n",
       "      <th>MASE</th>\n",
       "      <th>MAPE</th>\n",
       "      <th>sMAPE</th>\n",
       "      <th>MSIS</th>\n",
       "      <th>QuantileLoss[0.5]</th>\n",
       "      <th>Coverage[0.5]</th>\n",
       "      <th>QuantileLoss[0.1]</th>\n",
       "      <th>Coverage[0.1]</th>\n",
       "      <th>QuantileLoss[0.9]</th>\n",
       "      <th>Coverage[0.9]</th>\n",
       "    </tr>\n",
       "  </thead>\n",
       "  <tbody>\n",
       "    <tr>\n",
       "      <th>0</th>\n",
       "      <td>NaN</td>\n",
       "      <td>0.400576</td>\n",
       "      <td>63.654728</td>\n",
       "      <td>502.94873</td>\n",
       "      <td>2.011795</td>\n",
       "      <td>0.467178</td>\n",
       "      <td>0.545015</td>\n",
       "      <td>0.930653</td>\n",
       "      <td>0.176244</td>\n",
       "      <td>8.67244</td>\n",
       "      <td>63.654728</td>\n",
       "      <td>0.788</td>\n",
       "      <td>60.973002</td>\n",
       "      <td>0.092</td>\n",
       "      <td>25.751338</td>\n",
       "      <td>1.0</td>\n",
       "    </tr>\n",
       "  </tbody>\n",
       "</table>\n",
       "</div>"
      ],
      "text/plain": [
       "   item_id       MSE  ...  QuantileLoss[0.9]  Coverage[0.9]\n",
       "0      NaN  0.400576  ...          25.751338            1.0\n",
       "\n",
       "[1 rows x 16 columns]"
      ]
     },
     "execution_count": 1107,
     "metadata": {},
     "output_type": "execute_result"
    }
   ],
   "source": [
    "item_metrics"
   ]
  },
  {
   "cell_type": "code",
   "execution_count": 1108,
   "metadata": {
    "colab": {
     "base_uri": "https://localhost:8080/",
     "height": 279
    },
    "id": "sAIHZco0_9qU",
    "outputId": "9769577b-c9bb-49f8-b20f-3231a63bc5f9"
   },
   "outputs": [
    {
     "data": {
      "image/png": "[encoded data removed]",
      "text/plain": [
       "<Figure size 432x288 with 1 Axes>"
      ]
     },
     "metadata": {
      "needs_background": "light"
     },
     "output_type": "display_data"
    }
   ],
   "source": [
    "item_metrics.plot(x='MSIS', y='MASE', kind='scatter')\n",
    "plt.grid(which=\"both\")\n",
    "plt.savefig(\"fig4.pdf\",bbox_inches=\"tight\")\n",
    "plt.show()"
   ]
  },
  {
   "cell_type": "code",
   "execution_count": 1109,
   "metadata": {
    "id": "Hvfrw7ym_9tz"
   },
   "outputs": [],
   "source": [
    "# own forecast model"
   ]
  },
  {
   "cell_type": "code",
   "execution_count": 1110,
   "metadata": {
    "id": "yV53Ow6SAIV1"
   },
   "outputs": [],
   "source": [
    "class MyNetwork(gluon.HybridBlock):\n",
    "    def __init__(self, prediction_length, num_cells, **kwargs):\n",
    "        super().__init__(**kwargs)\n",
    "        self.prediction_length = prediction_length\n",
    "        self.num_cells = num_cells\n",
    "\n",
    "        with self.name_scope():\n",
    "            # Set up a 3 layer neural network that directly predicts the target values\n",
    "            self.nn = mx.gluon.nn.HybridSequential()\n",
    "            self.nn.add(mx.gluon.nn.Dense(units=820, activation='relu'))\n",
    "            self.nn.add(mx.gluon.nn.Dense(units=820, activation='relu'))\n",
    "            self.nn.add(mx.gluon.nn.Dense(units=self.prediction_length, activation='relu'))\n",
    "\n",
    "\n",
    "class MyTrainNetwork(MyNetwork):\n",
    "    def hybrid_forward(self, F, past_target, future_target):\n",
    "        prediction = self.nn(past_target)\n",
    "        # calculate L1 loss with the future_target to learn the median\n",
    "        return (prediction - future_target).abs().mean(axis=-1)\n",
    "\n",
    "\n",
    "class MyPredNetwork(MyTrainNetwork):\n",
    "    # The prediction network only receives past_target and returns predictions\n",
    "    def hybrid_forward(self, F, past_target):\n",
    "        prediction = self.nn(past_target)\n",
    "        return prediction.expand_dims(axis=1)"
   ]
  },
  {
   "cell_type": "code",
   "execution_count": 1111,
   "metadata": {
    "id": "dDZyrrESAIYb"
   },
   "outputs": [],
   "source": [
    "def plot_prob_forecasts_2(ts_entry, forecast_entry):\n",
    "    plot_length = 500\n",
    "    prediction_intervals = (50.0, 90.0)\n",
    "    legend = [\"observations\", \"median prediction\"] + [f\"{k}% prediction interval\" for k in prediction_intervals][::-1]\n",
    "\n",
    "    fig, ax = plt.subplots(1, 1, figsize=(10, 7))\n",
    "    ts_entry[-plot_length:].plot(ax=ax)  # plot the time series\n",
    "    forecast_entry.plot(prediction_intervals=prediction_intervals, color='g')\n",
    "    plt.grid(which=\"both\")\n",
    "    plt.ylim(0,3)\n",
    "    plt.legend(legend, loc=\"upper left\")\n",
    "    plt.savefig(\"fig5.pdf\",bbox_inches=\"tight\")\n",
    "    plt.show()"
   ]
  },
  {
   "cell_type": "code",
   "execution_count": 1112,
   "metadata": {
    "id": "4TnPZh8UAIbe"
   },
   "outputs": [],
   "source": [
    "from functools import partial\n",
    "from mxnet.gluon import HybridBlock\n",
    "from gluonts.core.component import validated\n",
    "from gluonts.dataset.loader import TrainDataLoader\n",
    "from gluonts.model.predictor import Predictor\n",
    "from gluonts.mx.batchify import as_in_context, batchify\n",
    "from gluonts.mx.model.estimator import GluonEstimator\n",
    "from gluonts.mx.model.predictor import RepresentableBlockPredictor\n",
    "from gluonts.mx.trainer import Trainer\n",
    "from gluonts.mx.util import copy_parameters, get_hybrid_forward_input_names\n",
    "from gluonts.transform import (\n",
    "    ExpectedNumInstanceSampler,\n",
    "    Transformation,\n",
    "    InstanceSplitter,\n",
    "    TestSplitSampler,\n",
    "    SelectFields,\n",
    "    Chain\n",
    ")"
   ]
  },
  {
   "cell_type": "code",
   "execution_count": 1113,
   "metadata": {
    "id": "8XAQqNJpAId6"
   },
   "outputs": [],
   "source": [
    "class MyEstimator(GluonEstimator):\n",
    "    @validated()\n",
    "    def __init__(\n",
    "        self,\n",
    "        prediction_length: int,\n",
    "        context_length: int,\n",
    "        freq: str,\n",
    "        num_cells: int,\n",
    "        batch_size: int = 32,\n",
    "        trainer: Trainer = Trainer()\n",
    "    ) -> None:\n",
    "        super().__init__(trainer=trainer, batch_size=batch_size)\n",
    "        self.prediction_length = prediction_length\n",
    "        self.context_length = context_length\n",
    "        self.freq = freq\n",
    "        self.num_cells = num_cells\n",
    "\n",
    "    def create_transformation(self):\n",
    "        return Chain([])\n",
    "\n",
    "    def create_training_data_loader(self, dataset, **kwargs):\n",
    "        instance_splitter = InstanceSplitter(\n",
    "            target_field=FieldName.TARGET,\n",
    "            is_pad_field=FieldName.IS_PAD,\n",
    "            start_field=FieldName.START,\n",
    "            forecast_start_field=FieldName.FORECAST_START,\n",
    "            instance_sampler=ExpectedNumInstanceSampler(\n",
    "                num_instances=1,\n",
    "                min_future=self.prediction_length\n",
    "            ),\n",
    "            past_length=self.context_length,\n",
    "            future_length=self.prediction_length,\n",
    "        )\n",
    "        input_names = get_hybrid_forward_input_names(MyTrainNetwork)\n",
    "        return TrainDataLoader(\n",
    "            dataset=dataset,\n",
    "            transform=instance_splitter + SelectFields(input_names),\n",
    "            batch_size=self.batch_size,\n",
    "            stack_fn=partial(batchify, ctx=self.trainer.ctx, dtype=self.dtype),\n",
    "            decode_fn=partial(as_in_context, ctx=self.trainer.ctx),\n",
    "            **kwargs,\n",
    "        )\n",
    "\n",
    "    def create_training_network(self) -> MyTrainNetwork:\n",
    "        return MyTrainNetwork(\n",
    "            prediction_length=self.prediction_length,\n",
    "            num_cells = self.num_cells\n",
    "        )\n",
    "\n",
    "    def create_predictor(\n",
    "        self, transformation: Transformation, trained_network: HybridBlock\n",
    "    ) -> Predictor:\n",
    "        prediction_splitter = InstanceSplitter(\n",
    "            target_field=FieldName.TARGET,\n",
    "            is_pad_field=FieldName.IS_PAD,\n",
    "            start_field=FieldName.START,\n",
    "            forecast_start_field=FieldName.FORECAST_START,\n",
    "            instance_sampler=TestSplitSampler(),\n",
    "            past_length=self.context_length,\n",
    "            future_length=self.prediction_length,\n",
    "        )\n",
    "\n",
    "        prediction_network = MyPredNetwork(\n",
    "            prediction_length=self.prediction_length,\n",
    "            num_cells=self.num_cells\n",
    "        )\n",
    "\n",
    "        copy_parameters(trained_network, prediction_network)\n",
    "\n",
    "        return RepresentableBlockPredictor(\n",
    "            input_transform=transformation + prediction_splitter,\n",
    "            prediction_net=prediction_network,\n",
    "            batch_size=self.trainer.batch_size,\n",
    "            freq=self.freq,\n",
    "            prediction_length=self.prediction_length,\n",
    "            ctx=self.trainer.ctx,\n",
    "        )"
   ]
  },
  {
   "cell_type": "code",
   "execution_count": 1114,
   "metadata": {
    "id": "YLf6ySgo2iAg"
   },
   "outputs": [],
   "source": [
    "\n",
    "# define the parameters of the dataset\n",
    "custom_ds_metadata = {\n",
    "    'num_series': 1,\n",
    "    'num_steps': 1901,\n",
    "    'prediction_length': 100,\n",
    "    'freq': '2min',\n",
    "    'start': [\n",
    "        pd.Timestamp(\"01-01-2019\", freq='2min')\n",
    "        for _ in range(100)\n",
    "    ]\n",
    "}"
   ]
  },
  {
   "cell_type": "code",
   "execution_count": 1115,
   "metadata": {
    "id": "UMl3St3IAIia"
   },
   "outputs": [],
   "source": [
    "estimator = MyEstimator(\n",
    "    prediction_length=250,     #custom_ds_metadata['prediction_length'],\n",
    "    context_length = custom_ds_metadata['prediction_length'],\n",
    "    freq=custom_ds_metadata['freq'],\n",
    "    num_cells=40,\n",
    "    trainer=Trainer(\n",
    "        ctx=\"cpu\",\n",
    "        epochs=5,\n",
    "        learning_rate=1e-2,\n",
    "        hybridize=False,\n",
    "        num_batches_per_epoch=2000\n",
    "    )\n",
    ")"
   ]
  },
  {
   "cell_type": "code",
   "execution_count": 1116,
   "metadata": {
    "colab": {
     "base_uri": "https://localhost:8080/"
    },
    "id": "A1R6cBlx2vUv",
    "outputId": "655a89e7-f1dd-418c-de6b-92531fe1733c"
   },
   "outputs": [
    {
     "data": {
      "text/plain": [
       "[\"FieldName.ITEM_ID = 'item_id'\",\n",
       " \"FieldName.START = 'start'\",\n",
       " \"FieldName.TARGET = 'target'\",\n",
       " \"FieldName.FEAT_STATIC_CAT = 'feat_static_cat'\",\n",
       " \"FieldName.FEAT_STATIC_REAL = 'feat_static_real'\",\n",
       " \"FieldName.FEAT_DYNAMIC_CAT = 'feat_dynamic_cat'\",\n",
       " \"FieldName.FEAT_DYNAMIC_REAL = 'feat_dynamic_real'\",\n",
       " \"FieldName.PAST_FEAT_DYNAMIC_REAL = 'past_feat_dynamic_real'\",\n",
       " \"FieldName.FEAT_DYNAMIC_REAL_LEGACY = 'dynamic_feat'\",\n",
       " \"FieldName.FEAT_DYNAMIC = 'feat_dynamic'\",\n",
       " \"FieldName.PAST_FEAT_DYNAMIC = 'past_feat_dynamic'\",\n",
       " \"FieldName.FEAT_TIME = 'time_feat'\",\n",
       " \"FieldName.FEAT_CONST = 'feat_dynamic_const'\",\n",
       " \"FieldName.FEAT_AGE = 'feat_dynamic_age'\",\n",
       " \"FieldName.OBSERVED_VALUES = 'observed_values'\",\n",
       " \"FieldName.IS_PAD = 'is_pad'\",\n",
       " \"FieldName.FORECAST_START = 'forecast_start'\",\n",
       " \"FieldName.TARGET_DIM_INDICATOR = 'target_dimension_indicator'\"]"
      ]
     },
     "execution_count": 1116,
     "metadata": {},
     "output_type": "execute_result"
    }
   ],
   "source": [
    "from gluonts.dataset.field_names import FieldName\n",
    "[f\"FieldName.{k} = '{v}'\" for k, v in FieldName.__dict__.items() if not k.startswith('_')]"
   ]
  },
  {
   "cell_type": "code",
   "execution_count": 1117,
   "metadata": {
    "colab": {
     "base_uri": "https://localhost:8080/"
    },
    "id": "O-V6TckVAIk8",
    "outputId": "dbbed42d-86c8-4405-e6d1-a8e1fb801005"
   },
   "outputs": [
    {
     "name": "stderr",
     "output_type": "stream",
     "text": [
      "100%|██████████| 2000/2000 [00:34<00:00, 58.75it/s, epoch=1/5, avg_epoch_loss=0.199]\n",
      "100%|██████████| 2000/2000 [00:48<00:00, 40.84it/s, epoch=2/5, avg_epoch_loss=0.117]\n",
      "100%|██████████| 2000/2000 [00:37<00:00, 53.07it/s, epoch=3/5, avg_epoch_loss=0.11]\n",
      "100%|██████████| 2000/2000 [02:32<00:00, 13.10it/s, epoch=4/5, avg_epoch_loss=0.107]\n",
      "100%|██████████| 2000/2000 [02:43<00:00, 12.23it/s, epoch=5/5, avg_epoch_loss=0.109]\n"
     ]
    }
   ],
   "source": [
    "predictor = estimator.train(train_data)"
   ]
  },
  {
   "cell_type": "code",
   "execution_count": 1118,
   "metadata": {
    "id": "bbt6sADcAInM"
   },
   "outputs": [],
   "source": [
    "forecast_it, ts_it = make_evaluation_predictions(\n",
    "    dataset=test_data,  # test dataset\n",
    "    predictor=predictor,  # predictor\n",
    "    num_samples=100,  # number of sample paths we want for evaluation\n",
    ")"
   ]
  },
  {
   "cell_type": "code",
   "execution_count": 1119,
   "metadata": {
    "id": "RBXpP0N8AIpx"
   },
   "outputs": [],
   "source": [
    "forecasts = list(forecast_it)\n",
    "tss = list(ts_it)"
   ]
  },
  {
   "cell_type": "code",
   "execution_count": 1120,
   "metadata": {
    "colab": {
     "base_uri": "https://localhost:8080/",
     "height": 444
    },
    "id": "dLvjeWV9AucS",
    "outputId": "e2e8465c-df84-4d13-8fc6-b1920bda61e5"
   },
   "outputs": [
    {
     "data": {
      "image/png": "[encoded data removed]",
      "text/plain": [
       "<Figure size 720x504 with 1 Axes>"
      ]
     },
     "metadata": {
      "needs_background": "light"
     },
     "output_type": "display_data"
    }
   ],
   "source": [
    "plot_prob_forecasts_2(tss[0], forecasts[0])"
   ]
  },
  {
   "cell_type": "code",
   "execution_count": 1121,
   "metadata": {
    "colab": {
     "base_uri": "https://localhost:8080/"
    },
    "id": "72mdTQhLAues",
    "outputId": "c6438737-7928-4d1e-fd26-f8fce815c43f"
   },
   "outputs": [
    {
     "name": "stderr",
     "output_type": "stream",
     "text": [
      "Running evaluation: 100%|██████████| 1/1 [00:00<00:00, 31.11it/s]\n"
     ]
    }
   ],
   "source": [
    "evaluator = Evaluator(quantiles=[0.1, 0.5, 0.9])\n",
    "agg_metrics, item_metrics = evaluator(iter(tss), iter(forecasts), num_series=len(test_data))"
   ]
  },
  {
   "cell_type": "code",
   "execution_count": 1122,
   "metadata": {
    "colab": {
     "base_uri": "https://localhost:8080/"
    },
    "id": "xDu1hSNuAuhc",
    "outputId": "14cbe401-ac9e-4f13-94b3-441cc055317c"
   },
   "outputs": [
    {
     "name": "stdout",
     "output_type": "stream",
     "text": [
      "{\n",
      "    \"MSE\": 0.0854375,\n",
      "    \"abs_error\": 23.531204223632812,\n",
      "    \"abs_target_sum\": 502.94873046875,\n",
      "    \"abs_target_mean\": 2.011794921875,\n",
      "    \"seasonal_error\": 0.4671777214017353,\n",
      "    \"MASE\": 0.2014753970119039,\n",
      "    \"MAPE\": 0.06663111877441406,\n",
      "    \"sMAPE\": 0.07199911499023437,\n",
      "    \"MSIS\": 8.059016925648534,\n",
      "    \"QuantileLoss[0.1]\": 15.302606345713137,\n",
      "    \"Coverage[0.1]\": 0.584,\n",
      "    \"QuantileLoss[0.5]\": 23.531204886734486,\n",
      "    \"Coverage[0.5]\": 0.584,\n",
      "    \"QuantileLoss[0.9]\": 31.759803427755834,\n",
      "    \"Coverage[0.9]\": 0.584,\n",
      "    \"RMSE\": 0.29229693806128043,\n",
      "    \"NRMSE\": 0.14529161739252164,\n",
      "    \"ND\": 0.04678648696796917,\n",
      "    \"wQuantileLoss[0.1]\": 0.030425777855033163,\n",
      "    \"wQuantileLoss[0.5]\": 0.04678648828639714,\n",
      "    \"wQuantileLoss[0.9]\": 0.06314719871776112,\n",
      "    \"mean_absolute_QuantileLoss\": 23.531204886734486,\n",
      "    \"mean_wQuantileLoss\": 0.04678648828639714,\n",
      "    \"MAE_Coverage\": 0.2946666666666667,\n",
      "    \"OWA\": NaN\n",
      "}\n"
     ]
    }
   ],
   "source": [
    "print(json.dumps(agg_metrics, indent=4))"
   ]
  },
  {
   "cell_type": "code",
   "execution_count": 1123,
   "metadata": {
    "colab": {
     "base_uri": "https://localhost:8080/",
     "height": 100
    },
    "id": "c7s2rVYUAujs",
    "outputId": "92352a93-d09b-4d0f-db28-a224cadffc7a"
   },
   "outputs": [
    {
     "data": {
      "text/html": [
       "<div>\n",
       "<style scoped>\n",
       "    .dataframe tbody tr th:only-of-type {\n",
       "        vertical-align: middle;\n",
       "    }\n",
       "\n",
       "    .dataframe tbody tr th {\n",
       "        vertical-align: top;\n",
       "    }\n",
       "\n",
       "    .dataframe thead th {\n",
       "        text-align: right;\n",
       "    }\n",
       "</style>\n",
       "<table border=\"1\" class=\"dataframe\">\n",
       "  <thead>\n",
       "    <tr style=\"text-align: right;\">\n",
       "      <th></th>\n",
       "      <th>item_id</th>\n",
       "      <th>MSE</th>\n",
       "      <th>abs_error</th>\n",
       "      <th>abs_target_sum</th>\n",
       "      <th>abs_target_mean</th>\n",
       "      <th>seasonal_error</th>\n",
       "      <th>MASE</th>\n",
       "      <th>MAPE</th>\n",
       "      <th>sMAPE</th>\n",
       "      <th>MSIS</th>\n",
       "      <th>QuantileLoss[0.1]</th>\n",
       "      <th>Coverage[0.1]</th>\n",
       "      <th>QuantileLoss[0.5]</th>\n",
       "      <th>Coverage[0.5]</th>\n",
       "      <th>QuantileLoss[0.9]</th>\n",
       "      <th>Coverage[0.9]</th>\n",
       "    </tr>\n",
       "  </thead>\n",
       "  <tbody>\n",
       "    <tr>\n",
       "      <th>0</th>\n",
       "      <td>NaN</td>\n",
       "      <td>0.085437</td>\n",
       "      <td>23.531204</td>\n",
       "      <td>502.94873</td>\n",
       "      <td>2.011795</td>\n",
       "      <td>0.467178</td>\n",
       "      <td>0.201475</td>\n",
       "      <td>0.066631</td>\n",
       "      <td>0.071999</td>\n",
       "      <td>8.059017</td>\n",
       "      <td>15.302606</td>\n",
       "      <td>0.584</td>\n",
       "      <td>23.531205</td>\n",
       "      <td>0.584</td>\n",
       "      <td>31.759803</td>\n",
       "      <td>0.584</td>\n",
       "    </tr>\n",
       "  </tbody>\n",
       "</table>\n",
       "</div>"
      ],
      "text/plain": [
       "   item_id       MSE  ...  QuantileLoss[0.9]  Coverage[0.9]\n",
       "0      NaN  0.085437  ...          31.759803          0.584\n",
       "\n",
       "[1 rows x 16 columns]"
      ]
     },
     "execution_count": 1123,
     "metadata": {},
     "output_type": "execute_result"
    }
   ],
   "source": [
    "item_metrics.head(10)"
   ]
  },
  {
   "cell_type": "code",
   "execution_count": 1124,
   "metadata": {
    "colab": {
     "base_uri": "https://localhost:8080/",
     "height": 283
    },
    "id": "cg92c0W3Aul7",
    "outputId": "b53b38ed-a878-464f-858e-20c0d69ee2e9"
   },
   "outputs": [
    {
     "data": {
      "image/png": "[encoded data removed]",
      "text/plain": [
       "<Figure size 432x288 with 1 Axes>"
      ]
     },
     "metadata": {
      "needs_background": "light"
     },
     "output_type": "display_data"
    }
   ],
   "source": [
    "item_metrics.plot(x='MSIS', y='MASE', kind='scatter')\n",
    "plt.grid(which=\"both\")\n",
    "plt.savefig(\"fig6.pdf\",bbox_inches=\"tight\")\n",
    "plt.show()"
   ]
  }
 ],
 "metadata": {
  "colab": {
   "collapsed_sections": [],
   "name": "Copy of Rawdata_82_1_Charge_Capacity_forecast.ipynb",
   "provenance": []
  },
  "kernelspec": {
   "display_name": "Python 3",
   "language": "python",
   "name": "python3"
  },
  "language_info": {
   "codemirror_mode": {
    "name": "ipython",
    "version": 3
   },
   "file_extension": ".py",
   "mimetype": "text/x-python",
   "name": "python",
   "nbconvert_exporter": "python",
   "pygments_lexer": "ipython3",
   "version": "3.8.5"
  }
 },
 "nbformat": 4,
 "nbformat_minor": 4
}
