{
  "nbformat": 4,
  "nbformat_minor": 0,
  "metadata": {
    "colab": {
      "name": "Copy of Rawdata_82_1_Charge_Capacity_forecast.ipynb",
      "provenance": [],
      "collapsed_sections": []
    },
    "kernelspec": {
      "display_name": "Python 3",
      "name": "python3"
    }
  },
  "cells": [
    {
      "cell_type": "code",
      "metadata": {
        "colab": {
          "base_uri": "https://localhost:8080/"
        },
        "id": "BISkgn0jVdmk",
        "outputId": "8f96af10-bb4e-4b32-bf4d-d572d00b451d"
      },
      "source": [
        "pip install --upgrade mxnet~=1.7 gluonts"
      ],
      "execution_count": 1125,
      "outputs": [
        {
          "output_type": "stream",
          "name": "stdout",
          "text": [
            "Requirement already satisfied: mxnet~=1.7 in /usr/local/lib/python3.7/dist-packages (1.8.0.post0)\n",
            "Requirement already satisfied: gluonts in /usr/local/lib/python3.7/dist-packages (0.8.1)\n",
            "Requirement already satisfied: graphviz<0.9.0,>=0.8.1 in /usr/local/lib/python3.7/dist-packages (from mxnet~=1.7) (0.8.4)\n",
            "Requirement already satisfied: numpy<2.0.0,>1.16.0 in /usr/local/lib/python3.7/dist-packages (from mxnet~=1.7) (1.19.5)\n",
            "Requirement already satisfied: requests<3,>=2.20.0 in /usr/local/lib/python3.7/dist-packages (from mxnet~=1.7) (2.23.0)\n",
            "Requirement already satisfied: chardet<4,>=3.0.2 in /usr/local/lib/python3.7/dist-packages (from requests<3,>=2.20.0->mxnet~=1.7) (3.0.4)\n",
            "Requirement already satisfied: certifi>=2017.4.17 in /usr/local/lib/python3.7/dist-packages (from requests<3,>=2.20.0->mxnet~=1.7) (2021.5.30)\n",
            "Requirement already satisfied: urllib3!=1.25.0,!=1.25.1,<1.26,>=1.21.1 in /usr/local/lib/python3.7/dist-packages (from requests<3,>=2.20.0->mxnet~=1.7) (1.24.3)\n",
            "Requirement already satisfied: idna<3,>=2.5 in /usr/local/lib/python3.7/dist-packages (from requests<3,>=2.20.0->mxnet~=1.7) (2.10)\n",
            "Requirement already satisfied: matplotlib~=3.0 in /usr/local/lib/python3.7/dist-packages (from gluonts) (3.2.2)\n",
            "Requirement already satisfied: tqdm~=4.23 in /usr/local/lib/python3.7/dist-packages (from gluonts) (4.62.3)\n",
            "Requirement already satisfied: toolz~=0.10 in /usr/local/lib/python3.7/dist-packages (from gluonts) (0.11.1)\n",
            "Requirement already satisfied: pandas~=1.0 in /usr/local/lib/python3.7/dist-packages (from gluonts) (1.1.5)\n",
            "Requirement already satisfied: holidays>=0.9 in /usr/local/lib/python3.7/dist-packages (from gluonts) (0.10.5.2)\n",
            "Requirement already satisfied: pydantic~=1.1 in /usr/local/lib/python3.7/dist-packages (from gluonts) (1.8.2)\n",
            "Requirement already satisfied: typing-extensions~=3.10.0.0 in /usr/local/lib/python3.7/dist-packages (from gluonts) (3.10.0.2)\n",
            "Requirement already satisfied: convertdate>=2.3.0 in /usr/local/lib/python3.7/dist-packages (from holidays>=0.9->gluonts) (2.3.2)\n",
            "Requirement already satisfied: hijri-converter in /usr/local/lib/python3.7/dist-packages (from holidays>=0.9->gluonts) (2.2.1)\n",
            "Requirement already satisfied: six in /usr/local/lib/python3.7/dist-packages (from holidays>=0.9->gluonts) (1.15.0)\n",
            "Requirement already satisfied: korean-lunar-calendar in /usr/local/lib/python3.7/dist-packages (from holidays>=0.9->gluonts) (0.2.1)\n",
            "Requirement already satisfied: python-dateutil in /usr/local/lib/python3.7/dist-packages (from holidays>=0.9->gluonts) (2.8.2)\n",
            "Requirement already satisfied: pymeeus<=1,>=0.3.13 in /usr/local/lib/python3.7/dist-packages (from convertdate>=2.3.0->holidays>=0.9->gluonts) (0.5.11)\n",
            "Requirement already satisfied: pytz>=2014.10 in /usr/local/lib/python3.7/dist-packages (from convertdate>=2.3.0->holidays>=0.9->gluonts) (2018.9)\n",
            "Requirement already satisfied: pyparsing!=2.0.4,!=2.1.2,!=2.1.6,>=2.0.1 in /usr/local/lib/python3.7/dist-packages (from matplotlib~=3.0->gluonts) (2.4.7)\n",
            "Requirement already satisfied: cycler>=0.10 in /usr/local/lib/python3.7/dist-packages (from matplotlib~=3.0->gluonts) (0.10.0)\n",
            "Requirement already satisfied: kiwisolver>=1.0.1 in /usr/local/lib/python3.7/dist-packages (from matplotlib~=3.0->gluonts) (1.3.2)\n"
          ]
        }
      ]
    },
    {
      "cell_type": "code",
      "metadata": {
        "id": "Io5dASCrVoYO"
      },
      "source": [
        "# Third-party imports\n",
        "%matplotlib inline\n",
        "import mxnet as mx\n",
        "from mxnet import gluon\n",
        "import numpy as np\n",
        "import pandas as pd\n",
        "import matplotlib.pyplot as plt\n",
        "import json"
      ],
      "execution_count": 1126,
      "outputs": []
    },
    {
      "cell_type": "code",
      "metadata": {
        "id": "JS2hNvrbVoa6"
      },
      "source": [
        "# gluon datasets\n",
        "from gluonts.dataset.repository.datasets import get_dataset, dataset_recipes\n",
        "from gluonts.dataset.util import to_pandas"
      ],
      "execution_count": 1127,
      "outputs": []
    },
    {
      "cell_type": "code",
      "metadata": {
        "colab": {
          "base_uri": "https://localhost:8080/"
        },
        "id": "q-6chF-mVod2",
        "outputId": "4c525321-2365-47ed-ec5a-c89c77806dbf"
      },
      "source": [
        "print(f\"Available datasets: {list(dataset_recipes.keys())}\")"
      ],
      "execution_count": 1128,
      "outputs": [
        {
          "output_type": "stream",
          "name": "stdout",
          "text": [
            "Available datasets: ['constant', 'exchange_rate', 'solar-energy', 'electricity', 'traffic', 'exchange_rate_nips', 'electricity_nips', 'traffic_nips', 'solar_nips', 'wiki-rolling_nips', 'taxi_30min', 'kaggle_web_traffic_with_missing', 'kaggle_web_traffic_without_missing', 'kaggle_web_traffic_weekly', 'm1_yearly', 'm1_quarterly', 'm1_monthly', 'nn5_daily_with_missing', 'nn5_daily_without_missing', 'nn5_weekly', 'tourism_monthly', 'tourism_quarterly', 'tourism_yearly', 'm3_monthly', 'm3_quarterly', 'm3_yearly', 'm3_other', 'm4_hourly', 'm4_daily', 'm4_weekly', 'm4_monthly', 'm4_quarterly', 'm4_yearly', 'm5']\n"
          ]
        }
      ]
    },
    {
      "cell_type": "code",
      "metadata": {
        "colab": {
          "base_uri": "https://localhost:8080/"
        },
        "id": "3dl59DPWBspm",
        "outputId": "b0cc1eb0-8885-4e67-95dd-864ba491c7e8"
      },
      "source": [
        "pip install mxnet"
      ],
      "execution_count": 1129,
      "outputs": [
        {
          "output_type": "stream",
          "name": "stdout",
          "text": [
            "Requirement already satisfied: mxnet in /usr/local/lib/python3.7/dist-packages (1.8.0.post0)\n",
            "Requirement already satisfied: requests<3,>=2.20.0 in /usr/local/lib/python3.7/dist-packages (from mxnet) (2.23.0)\n",
            "Requirement already satisfied: numpy<2.0.0,>1.16.0 in /usr/local/lib/python3.7/dist-packages (from mxnet) (1.19.5)\n",
            "Requirement already satisfied: graphviz<0.9.0,>=0.8.1 in /usr/local/lib/python3.7/dist-packages (from mxnet) (0.8.4)\n",
            "Requirement already satisfied: urllib3!=1.25.0,!=1.25.1,<1.26,>=1.21.1 in /usr/local/lib/python3.7/dist-packages (from requests<3,>=2.20.0->mxnet) (1.24.3)\n",
            "Requirement already satisfied: idna<3,>=2.5 in /usr/local/lib/python3.7/dist-packages (from requests<3,>=2.20.0->mxnet) (2.10)\n",
            "Requirement already satisfied: certifi>=2017.4.17 in /usr/local/lib/python3.7/dist-packages (from requests<3,>=2.20.0->mxnet) (2021.5.30)\n",
            "Requirement already satisfied: chardet<4,>=3.0.2 in /usr/local/lib/python3.7/dist-packages (from requests<3,>=2.20.0->mxnet) (3.0.4)\n"
          ]
        }
      ]
    },
    {
      "cell_type": "code",
      "metadata": {
        "id": "qjWGHZjhlWe4"
      },
      "source": [
        "dataset_nasa = pd.read_csv('DOE-551-600-10DU-01_1.csv')"
      ],
      "execution_count": 1130,
      "outputs": []
    },
    {
      "cell_type": "code",
      "metadata": {
        "colab": {
          "base_uri": "https://localhost:8080/",
          "height": 437
        },
        "id": "SLR52rSMVomO",
        "outputId": "a68493a6-5e5c-402c-a488-7bf375817879"
      },
      "source": [
        "dataset_nasa\n"
      ],
      "execution_count": 1131,
      "outputs": [
        {
          "output_type": "execute_result",
          "data": {
            "text/html": [
              "<div>\n",
              "<style scoped>\n",
              "    .dataframe tbody tr th:only-of-type {\n",
              "        vertical-align: middle;\n",
              "    }\n",
              "\n",
              "    .dataframe tbody tr th {\n",
              "        vertical-align: top;\n",
              "    }\n",
              "\n",
              "    .dataframe thead th {\n",
              "        text-align: right;\n",
              "    }\n",
              "</style>\n",
              "<table border=\"1\" class=\"dataframe\">\n",
              "  <thead>\n",
              "    <tr style=\"text-align: right;\">\n",
              "      <th></th>\n",
              "      <th>index</th>\n",
              "      <th>Test_Time</th>\n",
              "      <th>Step_Time(s)</th>\n",
              "      <th>Cycle_Index</th>\n",
              "      <th>Step_Index</th>\n",
              "      <th>Voltage</th>\n",
              "      <th>Test_Time(s)</th>\n",
              "      <th>Step_Time(s).1</th>\n",
              "      <th>Cycle_Index.1</th>\n",
              "      <th>Step_Index.1</th>\n",
              "      <th>Current</th>\n",
              "      <th>Test_Time(s).1</th>\n",
              "      <th>Step_Time(s).2</th>\n",
              "      <th>Cycle_Index.2</th>\n",
              "      <th>Step_Index.2</th>\n",
              "      <th>Charge_Capacity</th>\n",
              "      <th>Test_Time(s).2</th>\n",
              "      <th>Step_Time(s).3</th>\n",
              "      <th>Cycle_Index.3</th>\n",
              "      <th>Step_Index.3</th>\n",
              "      <th>Discharge_Capacity</th>\n",
              "    </tr>\n",
              "  </thead>\n",
              "  <tbody>\n",
              "    <tr>\n",
              "      <th>0</th>\n",
              "      <td>0</td>\n",
              "      <td>120.001100</td>\n",
              "      <td>120.0010</td>\n",
              "      <td>1</td>\n",
              "      <td>1</td>\n",
              "      <td>3.575560</td>\n",
              "      <td>120.001100</td>\n",
              "      <td>120.0010</td>\n",
              "      <td>1</td>\n",
              "      <td>1</td>\n",
              "      <td>0.000000</td>\n",
              "      <td>120.001100</td>\n",
              "      <td>120.0010</td>\n",
              "      <td>1</td>\n",
              "      <td>1</td>\n",
              "      <td>0.000000</td>\n",
              "      <td>120.001100</td>\n",
              "      <td>120.0010</td>\n",
              "      <td>1</td>\n",
              "      <td>1</td>\n",
              "      <td>0.000000</td>\n",
              "    </tr>\n",
              "    <tr>\n",
              "      <th>1</th>\n",
              "      <td>1</td>\n",
              "      <td>240.004000</td>\n",
              "      <td>240.0039</td>\n",
              "      <td>1</td>\n",
              "      <td>1</td>\n",
              "      <td>3.575512</td>\n",
              "      <td>240.004000</td>\n",
              "      <td>240.0039</td>\n",
              "      <td>1</td>\n",
              "      <td>1</td>\n",
              "      <td>0.000000</td>\n",
              "      <td>240.004000</td>\n",
              "      <td>240.0039</td>\n",
              "      <td>1</td>\n",
              "      <td>1</td>\n",
              "      <td>0.000000</td>\n",
              "      <td>240.004000</td>\n",
              "      <td>240.0039</td>\n",
              "      <td>1</td>\n",
              "      <td>1</td>\n",
              "      <td>0.000000</td>\n",
              "    </tr>\n",
              "    <tr>\n",
              "      <th>2</th>\n",
              "      <td>2</td>\n",
              "      <td>360.002300</td>\n",
              "      <td>360.0022</td>\n",
              "      <td>1</td>\n",
              "      <td>1</td>\n",
              "      <td>3.577263</td>\n",
              "      <td>360.002300</td>\n",
              "      <td>360.0022</td>\n",
              "      <td>1</td>\n",
              "      <td>1</td>\n",
              "      <td>0.000000</td>\n",
              "      <td>360.002300</td>\n",
              "      <td>360.0022</td>\n",
              "      <td>1</td>\n",
              "      <td>1</td>\n",
              "      <td>0.000000</td>\n",
              "      <td>360.002300</td>\n",
              "      <td>360.0022</td>\n",
              "      <td>1</td>\n",
              "      <td>1</td>\n",
              "      <td>0.000000</td>\n",
              "    </tr>\n",
              "    <tr>\n",
              "      <th>3</th>\n",
              "      <td>3</td>\n",
              "      <td>480.004900</td>\n",
              "      <td>480.0048</td>\n",
              "      <td>1</td>\n",
              "      <td>1</td>\n",
              "      <td>3.578959</td>\n",
              "      <td>480.004900</td>\n",
              "      <td>480.0048</td>\n",
              "      <td>1</td>\n",
              "      <td>1</td>\n",
              "      <td>0.000000</td>\n",
              "      <td>480.004900</td>\n",
              "      <td>480.0048</td>\n",
              "      <td>1</td>\n",
              "      <td>1</td>\n",
              "      <td>0.000000</td>\n",
              "      <td>480.004900</td>\n",
              "      <td>480.0048</td>\n",
              "      <td>1</td>\n",
              "      <td>1</td>\n",
              "      <td>0.000000</td>\n",
              "    </tr>\n",
              "    <tr>\n",
              "      <th>4</th>\n",
              "      <td>4</td>\n",
              "      <td>600.005800</td>\n",
              "      <td>600.0057</td>\n",
              "      <td>1</td>\n",
              "      <td>1</td>\n",
              "      <td>3.579659</td>\n",
              "      <td>600.005800</td>\n",
              "      <td>600.0057</td>\n",
              "      <td>1</td>\n",
              "      <td>1</td>\n",
              "      <td>0.000000</td>\n",
              "      <td>600.005800</td>\n",
              "      <td>600.0057</td>\n",
              "      <td>1</td>\n",
              "      <td>1</td>\n",
              "      <td>0.000000</td>\n",
              "      <td>600.005800</td>\n",
              "      <td>600.0057</td>\n",
              "      <td>1</td>\n",
              "      <td>1</td>\n",
              "      <td>0.000000</td>\n",
              "    </tr>\n",
              "    <tr>\n",
              "      <th>...</th>\n",
              "      <td>...</td>\n",
              "      <td>...</td>\n",
              "      <td>...</td>\n",
              "      <td>...</td>\n",
              "      <td>...</td>\n",
              "      <td>...</td>\n",
              "      <td>...</td>\n",
              "      <td>...</td>\n",
              "      <td>...</td>\n",
              "      <td>...</td>\n",
              "      <td>...</td>\n",
              "      <td>...</td>\n",
              "      <td>...</td>\n",
              "      <td>...</td>\n",
              "      <td>...</td>\n",
              "      <td>...</td>\n",
              "      <td>...</td>\n",
              "      <td>...</td>\n",
              "      <td>...</td>\n",
              "      <td>...</td>\n",
              "      <td>...</td>\n",
              "    </tr>\n",
              "    <tr>\n",
              "      <th>3976</th>\n",
              "      <td>3976</td>\n",
              "      <td>461127.552312</td>\n",
              "      <td>120.0001</td>\n",
              "      <td>50</td>\n",
              "      <td>6</td>\n",
              "      <td>3.611401</td>\n",
              "      <td>461127.552312</td>\n",
              "      <td>120.0001</td>\n",
              "      <td>50</td>\n",
              "      <td>6</td>\n",
              "      <td>0.000000</td>\n",
              "      <td>461127.552312</td>\n",
              "      <td>120.0001</td>\n",
              "      <td>50</td>\n",
              "      <td>6</td>\n",
              "      <td>2.450970</td>\n",
              "      <td>461127.552312</td>\n",
              "      <td>120.0001</td>\n",
              "      <td>50</td>\n",
              "      <td>6</td>\n",
              "      <td>2.449697</td>\n",
              "    </tr>\n",
              "    <tr>\n",
              "      <th>3977</th>\n",
              "      <td>3977</td>\n",
              "      <td>461247.553112</td>\n",
              "      <td>240.0009</td>\n",
              "      <td>50</td>\n",
              "      <td>6</td>\n",
              "      <td>3.644613</td>\n",
              "      <td>461247.553112</td>\n",
              "      <td>240.0009</td>\n",
              "      <td>50</td>\n",
              "      <td>6</td>\n",
              "      <td>0.000000</td>\n",
              "      <td>461247.553112</td>\n",
              "      <td>240.0009</td>\n",
              "      <td>50</td>\n",
              "      <td>6</td>\n",
              "      <td>2.450970</td>\n",
              "      <td>461247.553112</td>\n",
              "      <td>240.0009</td>\n",
              "      <td>50</td>\n",
              "      <td>6</td>\n",
              "      <td>2.449697</td>\n",
              "    </tr>\n",
              "    <tr>\n",
              "      <th>3978</th>\n",
              "      <td>3978</td>\n",
              "      <td>461307.554012</td>\n",
              "      <td>300.0018</td>\n",
              "      <td>50</td>\n",
              "      <td>6</td>\n",
              "      <td>3.652942</td>\n",
              "      <td>461307.554012</td>\n",
              "      <td>300.0018</td>\n",
              "      <td>50</td>\n",
              "      <td>6</td>\n",
              "      <td>0.000000</td>\n",
              "      <td>461307.554012</td>\n",
              "      <td>300.0018</td>\n",
              "      <td>50</td>\n",
              "      <td>6</td>\n",
              "      <td>2.450970</td>\n",
              "      <td>461307.554012</td>\n",
              "      <td>300.0018</td>\n",
              "      <td>50</td>\n",
              "      <td>6</td>\n",
              "      <td>2.449697</td>\n",
              "    </tr>\n",
              "    <tr>\n",
              "      <th>3979</th>\n",
              "      <td>3979</td>\n",
              "      <td>461427.643156</td>\n",
              "      <td>120.0016</td>\n",
              "      <td>51</td>\n",
              "      <td>8</td>\n",
              "      <td>4.190305</td>\n",
              "      <td>461427.643156</td>\n",
              "      <td>120.0016</td>\n",
              "      <td>51</td>\n",
              "      <td>8</td>\n",
              "      <td>3.260095</td>\n",
              "      <td>461427.643156</td>\n",
              "      <td>120.0016</td>\n",
              "      <td>51</td>\n",
              "      <td>8</td>\n",
              "      <td>0.108668</td>\n",
              "      <td>461427.643156</td>\n",
              "      <td>120.0016</td>\n",
              "      <td>51</td>\n",
              "      <td>8</td>\n",
              "      <td>0.000000</td>\n",
              "    </tr>\n",
              "    <tr>\n",
              "      <th>3980</th>\n",
              "      <td>3980</td>\n",
              "      <td>461454.644456</td>\n",
              "      <td>147.0029</td>\n",
              "      <td>51</td>\n",
              "      <td>8</td>\n",
              "      <td>4.200005</td>\n",
              "      <td>461454.644456</td>\n",
              "      <td>147.0029</td>\n",
              "      <td>51</td>\n",
              "      <td>8</td>\n",
              "      <td>3.260119</td>\n",
              "      <td>461454.644456</td>\n",
              "      <td>147.0029</td>\n",
              "      <td>51</td>\n",
              "      <td>8</td>\n",
              "      <td>0.133123</td>\n",
              "      <td>461454.644456</td>\n",
              "      <td>147.0029</td>\n",
              "      <td>51</td>\n",
              "      <td>8</td>\n",
              "      <td>0.000000</td>\n",
              "    </tr>\n",
              "  </tbody>\n",
              "</table>\n",
              "<p>3981 rows × 21 columns</p>\n",
              "</div>"
            ],
            "text/plain": [
              "      index      Test_Time  ...  Step_Index.3  Discharge_Capacity\n",
              "0         0     120.001100  ...             1            0.000000\n",
              "1         1     240.004000  ...             1            0.000000\n",
              "2         2     360.002300  ...             1            0.000000\n",
              "3         3     480.004900  ...             1            0.000000\n",
              "4         4     600.005800  ...             1            0.000000\n",
              "...     ...            ...  ...           ...                 ...\n",
              "3976   3976  461127.552312  ...             6            2.449697\n",
              "3977   3977  461247.553112  ...             6            2.449697\n",
              "3978   3978  461307.554012  ...             6            2.449697\n",
              "3979   3979  461427.643156  ...             8            0.000000\n",
              "3980   3980  461454.644456  ...             8            0.000000\n",
              "\n",
              "[3981 rows x 21 columns]"
            ]
          },
          "metadata": {},
          "execution_count": 1131
        }
      ]
    },
    {
      "cell_type": "code",
      "metadata": {
        "id": "wwAaq-AO4AKS"
      },
      "source": [
        "df = pd.DataFrame(dataset_nasa)\n",
        "cols = [0,10]\n",
        "df = df[df.columns[cols]]"
      ],
      "execution_count": 1132,
      "outputs": []
    },
    {
      "cell_type": "code",
      "metadata": {
        "colab": {
          "base_uri": "https://localhost:8080/",
          "height": 417
        },
        "id": "4ss0ApIz4AWr",
        "outputId": "551266cf-91da-4d8d-e667-245e86cb4b72"
      },
      "source": [
        "df"
      ],
      "execution_count": 1133,
      "outputs": [
        {
          "output_type": "execute_result",
          "data": {
            "text/html": [
              "<div>\n",
              "<style scoped>\n",
              "    .dataframe tbody tr th:only-of-type {\n",
              "        vertical-align: middle;\n",
              "    }\n",
              "\n",
              "    .dataframe tbody tr th {\n",
              "        vertical-align: top;\n",
              "    }\n",
              "\n",
              "    .dataframe thead th {\n",
              "        text-align: right;\n",
              "    }\n",
              "</style>\n",
              "<table border=\"1\" class=\"dataframe\">\n",
              "  <thead>\n",
              "    <tr style=\"text-align: right;\">\n",
              "      <th></th>\n",
              "      <th>index</th>\n",
              "      <th>Current</th>\n",
              "    </tr>\n",
              "  </thead>\n",
              "  <tbody>\n",
              "    <tr>\n",
              "      <th>0</th>\n",
              "      <td>0</td>\n",
              "      <td>0.000000</td>\n",
              "    </tr>\n",
              "    <tr>\n",
              "      <th>1</th>\n",
              "      <td>1</td>\n",
              "      <td>0.000000</td>\n",
              "    </tr>\n",
              "    <tr>\n",
              "      <th>2</th>\n",
              "      <td>2</td>\n",
              "      <td>0.000000</td>\n",
              "    </tr>\n",
              "    <tr>\n",
              "      <th>3</th>\n",
              "      <td>3</td>\n",
              "      <td>0.000000</td>\n",
              "    </tr>\n",
              "    <tr>\n",
              "      <th>4</th>\n",
              "      <td>4</td>\n",
              "      <td>0.000000</td>\n",
              "    </tr>\n",
              "    <tr>\n",
              "      <th>...</th>\n",
              "      <td>...</td>\n",
              "      <td>...</td>\n",
              "    </tr>\n",
              "    <tr>\n",
              "      <th>3976</th>\n",
              "      <td>3976</td>\n",
              "      <td>0.000000</td>\n",
              "    </tr>\n",
              "    <tr>\n",
              "      <th>3977</th>\n",
              "      <td>3977</td>\n",
              "      <td>0.000000</td>\n",
              "    </tr>\n",
              "    <tr>\n",
              "      <th>3978</th>\n",
              "      <td>3978</td>\n",
              "      <td>0.000000</td>\n",
              "    </tr>\n",
              "    <tr>\n",
              "      <th>3979</th>\n",
              "      <td>3979</td>\n",
              "      <td>3.260095</td>\n",
              "    </tr>\n",
              "    <tr>\n",
              "      <th>3980</th>\n",
              "      <td>3980</td>\n",
              "      <td>3.260119</td>\n",
              "    </tr>\n",
              "  </tbody>\n",
              "</table>\n",
              "<p>3981 rows × 2 columns</p>\n",
              "</div>"
            ],
            "text/plain": [
              "      index   Current\n",
              "0         0  0.000000\n",
              "1         1  0.000000\n",
              "2         2  0.000000\n",
              "3         3  0.000000\n",
              "4         4  0.000000\n",
              "...     ...       ...\n",
              "3976   3976  0.000000\n",
              "3977   3977  0.000000\n",
              "3978   3978  0.000000\n",
              "3979   3979  3.260095\n",
              "3980   3980  3.260119\n",
              "\n",
              "[3981 rows x 2 columns]"
            ]
          },
          "metadata": {},
          "execution_count": 1133
        }
      ]
    },
    {
      "cell_type": "code",
      "metadata": {
        "id": "T807dGEGdGOF"
      },
      "source": [
        "df1 = df.to_numpy()"
      ],
      "execution_count": 1134,
      "outputs": []
    },
    {
      "cell_type": "code",
      "metadata": {
        "id": "LODZWZeYkh2n"
      },
      "source": [
        "train_size = int(len(df1)*0.8)\n",
        "test_size = len(df1) - train_size\n",
        "train = df1[1:train_size,:]\n",
        "test = df1[train_size:len(df1)]"
      ],
      "execution_count": 1135,
      "outputs": []
    },
    {
      "cell_type": "code",
      "metadata": {
        "colab": {
          "base_uri": "https://localhost:8080/"
        },
        "id": "AWeTV_6qgxIV",
        "outputId": "9007cfe0-fb9f-4a4d-c4dd-dcddca3003cc"
      },
      "source": [
        "train_size"
      ],
      "execution_count": 1136,
      "outputs": [
        {
          "output_type": "execute_result",
          "data": {
            "text/plain": [
              "3184"
            ]
          },
          "metadata": {},
          "execution_count": 1136
        }
      ]
    },
    {
      "cell_type": "code",
      "metadata": {
        "id": "KeMJFvQ0U3Z6"
      },
      "source": [
        "train_set = pd.DataFrame(train)"
      ],
      "execution_count": 1137,
      "outputs": []
    },
    {
      "cell_type": "code",
      "metadata": {
        "colab": {
          "base_uri": "https://localhost:8080/",
          "height": 417
        },
        "id": "WETL8vj3d6zz",
        "outputId": "3b04e7f8-6615-4b66-c2fe-07ac32b6fee5"
      },
      "source": [
        "train_set"
      ],
      "execution_count": 1138,
      "outputs": [
        {
          "output_type": "execute_result",
          "data": {
            "text/html": [
              "<div>\n",
              "<style scoped>\n",
              "    .dataframe tbody tr th:only-of-type {\n",
              "        vertical-align: middle;\n",
              "    }\n",
              "\n",
              "    .dataframe tbody tr th {\n",
              "        vertical-align: top;\n",
              "    }\n",
              "\n",
              "    .dataframe thead th {\n",
              "        text-align: right;\n",
              "    }\n",
              "</style>\n",
              "<table border=\"1\" class=\"dataframe\">\n",
              "  <thead>\n",
              "    <tr style=\"text-align: right;\">\n",
              "      <th></th>\n",
              "      <th>0</th>\n",
              "      <th>1</th>\n",
              "    </tr>\n",
              "  </thead>\n",
              "  <tbody>\n",
              "    <tr>\n",
              "      <th>0</th>\n",
              "      <td>1.0</td>\n",
              "      <td>0.000000</td>\n",
              "    </tr>\n",
              "    <tr>\n",
              "      <th>1</th>\n",
              "      <td>2.0</td>\n",
              "      <td>0.000000</td>\n",
              "    </tr>\n",
              "    <tr>\n",
              "      <th>2</th>\n",
              "      <td>3.0</td>\n",
              "      <td>0.000000</td>\n",
              "    </tr>\n",
              "    <tr>\n",
              "      <th>3</th>\n",
              "      <td>4.0</td>\n",
              "      <td>0.000000</td>\n",
              "    </tr>\n",
              "    <tr>\n",
              "      <th>4</th>\n",
              "      <td>5.0</td>\n",
              "      <td>0.000000</td>\n",
              "    </tr>\n",
              "    <tr>\n",
              "      <th>...</th>\n",
              "      <td>...</td>\n",
              "      <td>...</td>\n",
              "    </tr>\n",
              "    <tr>\n",
              "      <th>3178</th>\n",
              "      <td>3179.0</td>\n",
              "      <td>-2.282098</td>\n",
              "    </tr>\n",
              "    <tr>\n",
              "      <th>3179</th>\n",
              "      <td>3180.0</td>\n",
              "      <td>-2.282061</td>\n",
              "    </tr>\n",
              "    <tr>\n",
              "      <th>3180</th>\n",
              "      <td>3181.0</td>\n",
              "      <td>-2.282154</td>\n",
              "    </tr>\n",
              "    <tr>\n",
              "      <th>3181</th>\n",
              "      <td>3182.0</td>\n",
              "      <td>-2.282198</td>\n",
              "    </tr>\n",
              "    <tr>\n",
              "      <th>3182</th>\n",
              "      <td>3183.0</td>\n",
              "      <td>-2.282163</td>\n",
              "    </tr>\n",
              "  </tbody>\n",
              "</table>\n",
              "<p>3183 rows × 2 columns</p>\n",
              "</div>"
            ],
            "text/plain": [
              "           0         1\n",
              "0        1.0  0.000000\n",
              "1        2.0  0.000000\n",
              "2        3.0  0.000000\n",
              "3        4.0  0.000000\n",
              "4        5.0  0.000000\n",
              "...      ...       ...\n",
              "3178  3179.0 -2.282098\n",
              "3179  3180.0 -2.282061\n",
              "3180  3181.0 -2.282154\n",
              "3181  3182.0 -2.282198\n",
              "3182  3183.0 -2.282163\n",
              "\n",
              "[3183 rows x 2 columns]"
            ]
          },
          "metadata": {},
          "execution_count": 1138
        }
      ]
    },
    {
      "cell_type": "code",
      "metadata": {
        "id": "5g-dEeBseFAS"
      },
      "source": [
        "test_set = pd.DataFrame(test)"
      ],
      "execution_count": 1139,
      "outputs": []
    },
    {
      "cell_type": "code",
      "metadata": {
        "colab": {
          "base_uri": "https://localhost:8080/",
          "height": 417
        },
        "id": "T3rDI_yxeKmE",
        "outputId": "224dae21-c7f7-4a56-a014-d46095fc3277"
      },
      "source": [
        "test_set"
      ],
      "execution_count": 1140,
      "outputs": [
        {
          "output_type": "execute_result",
          "data": {
            "text/html": [
              "<div>\n",
              "<style scoped>\n",
              "    .dataframe tbody tr th:only-of-type {\n",
              "        vertical-align: middle;\n",
              "    }\n",
              "\n",
              "    .dataframe tbody tr th {\n",
              "        vertical-align: top;\n",
              "    }\n",
              "\n",
              "    .dataframe thead th {\n",
              "        text-align: right;\n",
              "    }\n",
              "</style>\n",
              "<table border=\"1\" class=\"dataframe\">\n",
              "  <thead>\n",
              "    <tr style=\"text-align: right;\">\n",
              "      <th></th>\n",
              "      <th>0</th>\n",
              "      <th>1</th>\n",
              "    </tr>\n",
              "  </thead>\n",
              "  <tbody>\n",
              "    <tr>\n",
              "      <th>0</th>\n",
              "      <td>3184.0</td>\n",
              "      <td>-2.282133</td>\n",
              "    </tr>\n",
              "    <tr>\n",
              "      <th>1</th>\n",
              "      <td>3185.0</td>\n",
              "      <td>-2.282081</td>\n",
              "    </tr>\n",
              "    <tr>\n",
              "      <th>2</th>\n",
              "      <td>3186.0</td>\n",
              "      <td>0.000000</td>\n",
              "    </tr>\n",
              "    <tr>\n",
              "      <th>3</th>\n",
              "      <td>3187.0</td>\n",
              "      <td>0.000000</td>\n",
              "    </tr>\n",
              "    <tr>\n",
              "      <th>4</th>\n",
              "      <td>3188.0</td>\n",
              "      <td>0.000000</td>\n",
              "    </tr>\n",
              "    <tr>\n",
              "      <th>...</th>\n",
              "      <td>...</td>\n",
              "      <td>...</td>\n",
              "    </tr>\n",
              "    <tr>\n",
              "      <th>792</th>\n",
              "      <td>3976.0</td>\n",
              "      <td>0.000000</td>\n",
              "    </tr>\n",
              "    <tr>\n",
              "      <th>793</th>\n",
              "      <td>3977.0</td>\n",
              "      <td>0.000000</td>\n",
              "    </tr>\n",
              "    <tr>\n",
              "      <th>794</th>\n",
              "      <td>3978.0</td>\n",
              "      <td>0.000000</td>\n",
              "    </tr>\n",
              "    <tr>\n",
              "      <th>795</th>\n",
              "      <td>3979.0</td>\n",
              "      <td>3.260095</td>\n",
              "    </tr>\n",
              "    <tr>\n",
              "      <th>796</th>\n",
              "      <td>3980.0</td>\n",
              "      <td>3.260119</td>\n",
              "    </tr>\n",
              "  </tbody>\n",
              "</table>\n",
              "<p>797 rows × 2 columns</p>\n",
              "</div>"
            ],
            "text/plain": [
              "          0         1\n",
              "0    3184.0 -2.282133\n",
              "1    3185.0 -2.282081\n",
              "2    3186.0  0.000000\n",
              "3    3187.0  0.000000\n",
              "4    3188.0  0.000000\n",
              "..      ...       ...\n",
              "792  3976.0  0.000000\n",
              "793  3977.0  0.000000\n",
              "794  3978.0  0.000000\n",
              "795  3979.0  3.260095\n",
              "796  3980.0  3.260119\n",
              "\n",
              "[797 rows x 2 columns]"
            ]
          },
          "metadata": {},
          "execution_count": 1140
        }
      ]
    },
    {
      "cell_type": "code",
      "metadata": {
        "colab": {
          "base_uri": "https://localhost:8080/"
        },
        "id": "f1the1T5EOmc",
        "outputId": "a5f1a0f7-9bb6-4207-afe5-843b7788d262"
      },
      "source": [
        "df.columns"
      ],
      "execution_count": 1141,
      "outputs": [
        {
          "output_type": "execute_result",
          "data": {
            "text/plain": [
              "Index(['index', 'Current'], dtype='object')"
            ]
          },
          "metadata": {},
          "execution_count": 1141
        }
      ]
    },
    {
      "cell_type": "code",
      "metadata": {
        "id": "0_YxlE0XdCjP"
      },
      "source": [
        "df_input = df[['index','Current']]"
      ],
      "execution_count": 1142,
      "outputs": []
    },
    {
      "cell_type": "code",
      "metadata": {
        "id": "Dlc4FnMDdCn0"
      },
      "source": [
        "df_input = df_input.set_index('index')"
      ],
      "execution_count": 1143,
      "outputs": []
    },
    {
      "cell_type": "code",
      "metadata": {
        "id": "sIOGFPUXfl8N"
      },
      "source": [
        "train_time = 949\n",
        "prediction_length = 949\n",
        "freq = \"2min\""
      ],
      "execution_count": 1144,
      "outputs": []
    },
    {
      "cell_type": "code",
      "metadata": {
        "id": "bIOdz6aNfl_E"
      },
      "source": [
        "from gluonts.dataset.common import ListDataset\n",
        "train_data = ListDataset(\n",
        "    [{\"start\": df_input.index[0], \"target\": df_input.Current[:train_time] }],\n",
        "    freq = \"2min\"\n",
        ")"
      ],
      "execution_count": 1145,
      "outputs": []
    },
    {
      "cell_type": "code",
      "metadata": {
        "colab": {
          "base_uri": "https://localhost:8080/",
          "height": 289
        },
        "id": "o3VEMuGqfmCj",
        "outputId": "e2fe8aab-70fa-4a6e-abb0-5ab9b8a7a841"
      },
      "source": [
        "entry = next(iter(train_data))\n",
        "train_series = to_pandas(entry)\n",
        "train_series.plot()\n",
        "plt.grid(which=\"both\")\n",
        "plt.legend([\"train series\"], loc=\"upper left\")\n",
        "plt.savefig(\"fig1.pdf\",bbox_inches=\"tight\")\n",
        "plt.show()"
      ],
      "execution_count": 1146,
      "outputs": [
        {
          "output_type": "display_data",
          "data": {
            "image/png": "[encoded data removed]",
            "text/plain": [
              "<Figure size 432x288 with 1 Axes>"
            ]
          },
          "metadata": {
            "needs_background": "light"
          }
        }
      ]
    },
    {
      "cell_type": "code",
      "metadata": {
        "id": "NegtiuLcvLWF"
      },
      "source": [
        "test_data = ListDataset(\n",
        "    [{\"start\": df_input.index[0], \"target\": df_input.Current[:]}],\n",
        "    freq = \"2min\"\n",
        ")"
      ],
      "execution_count": 1147,
      "outputs": []
    },
    {
      "cell_type": "code",
      "metadata": {
        "colab": {
          "base_uri": "https://localhost:8080/",
          "height": 289
        },
        "id": "8qkov_uhfmIF",
        "outputId": "61a85a5c-5391-48d5-9905-2e74fabc46e8"
      },
      "source": [
        "entry = next(iter(test_data))\n",
        "test_series = to_pandas(entry)\n",
        "test_series.plot()\n",
        "plt.axvline(train_series.index[-1], color='r') # end of train dataset\n",
        "plt.grid(which=\"both\")\n",
        "plt.legend([\"test series\", \"end of train series\"], loc=\"upper left\")\n",
        "plt.savefig(\"fig2.pdf\",bbox_inches=\"tight\")\n",
        "plt.show()"
      ],
      "execution_count": 1148,
      "outputs": [
        {
          "output_type": "display_data",
          "data": {
            "image/png": "[encoded data removed]",
            "text/plain": [
              "<Figure size 432x288 with 1 Axes>"
            ]
          },
          "metadata": {
            "needs_background": "light"
          }
        }
      ]
    },
    {
      "cell_type": "code",
      "metadata": {
        "colab": {
          "base_uri": "https://localhost:8080/"
        },
        "id": "QhoWe6rawAZv",
        "outputId": "e6b86705-ef90-443d-ef2e-c83b44e364c6"
      },
      "source": [
        "print(f\"Length of forecasting window in test dataset:{len(test_series)-len(train_series)}\")\n",
        "print(f\"Frequency of the time series:{freq}\")"
      ],
      "execution_count": 1149,
      "outputs": [
        {
          "output_type": "stream",
          "name": "stdout",
          "text": [
            "Length of forecasting window in test dataset:3032\n",
            "Frequency of the time series:2min\n"
          ]
        }
      ]
    },
    {
      "cell_type": "code",
      "metadata": {
        "id": "2CvnPKD6wAb2"
      },
      "source": [
        "from gluonts.model.simple_feedforward import SimpleFeedForwardEstimator\n",
        "from gluonts.mx.trainer import Trainer"
      ],
      "execution_count": 1150,
      "outputs": []
    },
    {
      "cell_type": "code",
      "metadata": {
        "id": "pdmsiYrRwAer"
      },
      "source": [
        "estimator = SimpleFeedForwardEstimator(\n",
        "    num_hidden_dimensions=[10],\n",
        "    prediction_length=250,\n",
        "    context_length=50,\n",
        "    freq=\"2min\",\n",
        "    trainer=Trainer(ctx=\"cpu\", \n",
        "                    epochs=5, \n",
        "                    learning_rate=1e-3, \n",
        "                    num_batches_per_epoch=100\n",
        "                   )\n",
        ")"
      ],
      "execution_count": 1151,
      "outputs": []
    },
    {
      "cell_type": "code",
      "metadata": {
        "colab": {
          "base_uri": "https://localhost:8080/"
        },
        "id": "NhL0nVskwAjS",
        "outputId": "96393328-b8c9-4b61-9179-cd446ddbbc1b"
      },
      "source": [
        "predictor = estimator.train(train_data)"
      ],
      "execution_count": 1152,
      "outputs": [
        {
          "output_type": "stream",
          "name": "stderr",
          "text": [
            "100%|██████████| 100/100 [00:01<00:00, 86.85it/s, epoch=1/5, avg_epoch_loss=1.5]\n",
            "100%|██████████| 100/100 [00:01<00:00, 85.48it/s, epoch=2/5, avg_epoch_loss=1.12]\n",
            "100%|██████████| 100/100 [00:01<00:00, 86.37it/s, epoch=3/5, avg_epoch_loss=0.946]\n",
            "100%|██████████| 100/100 [00:01<00:00, 85.22it/s, epoch=4/5, avg_epoch_loss=0.822]\n",
            "100%|██████████| 100/100 [00:01<00:00, 89.20it/s, epoch=5/5, avg_epoch_loss=0.673]\n"
          ]
        }
      ]
    },
    {
      "cell_type": "code",
      "metadata": {
        "id": "CASb7jv6_CEd"
      },
      "source": [
        "from gluonts.evaluation.backtest import make_evaluation_predictions"
      ],
      "execution_count": 1153,
      "outputs": []
    },
    {
      "cell_type": "code",
      "metadata": {
        "id": "4BL7I1rL_CGo"
      },
      "source": [
        "forecast_it, ts_it = make_evaluation_predictions(\n",
        "    dataset=test_data,  # test dataset\n",
        "    predictor=predictor,  # predictor\n",
        "    num_samples=500,  # number of sample paths we want for evaluation 100\n",
        ")"
      ],
      "execution_count": 1154,
      "outputs": []
    },
    {
      "cell_type": "code",
      "metadata": {
        "id": "DOjSmzsT_CJt"
      },
      "source": [
        "forecasts = list(forecast_it)\n",
        "tss = list(ts_it)"
      ],
      "execution_count": 1155,
      "outputs": []
    },
    {
      "cell_type": "code",
      "metadata": {
        "id": "Mer7dfY1_CMZ"
      },
      "source": [
        "# first entry of the time series list\n",
        "ts_entry = tss[0]"
      ],
      "execution_count": 1156,
      "outputs": []
    },
    {
      "cell_type": "code",
      "metadata": {
        "colab": {
          "base_uri": "https://localhost:8080/"
        },
        "id": "b-8-7Jfg_CO9",
        "outputId": "5cc9c71f-942d-4a1b-9ce5-81ff48b2edbb"
      },
      "source": [
        "# first 5 values of the time series (convert from pandas to numpy)\n",
        "np.array(ts_entry[:5]).reshape(-1,)"
      ],
      "execution_count": 1157,
      "outputs": [
        {
          "output_type": "execute_result",
          "data": {
            "text/plain": [
              "array([0., 0., 0., 0., 0.], dtype=float32)"
            ]
          },
          "metadata": {},
          "execution_count": 1157
        }
      ]
    },
    {
      "cell_type": "code",
      "metadata": {
        "id": "QXz60jpG_CR6"
      },
      "source": [
        "# first entry of dataset.test\n",
        "dataset_test_entry = next(iter(test_data))"
      ],
      "execution_count": 1158,
      "outputs": []
    },
    {
      "cell_type": "code",
      "metadata": {
        "colab": {
          "base_uri": "https://localhost:8080/"
        },
        "id": "tXHfQ2D4_CU0",
        "outputId": "7a16d806-72fb-4dfb-a74d-92e338af3f72"
      },
      "source": [
        "# first 5 values\n",
        "dataset_test_entry['target'][:5]"
      ],
      "execution_count": 1159,
      "outputs": [
        {
          "output_type": "execute_result",
          "data": {
            "text/plain": [
              "array([0., 0., 0., 0., 0.], dtype=float32)"
            ]
          },
          "metadata": {},
          "execution_count": 1159
        }
      ]
    },
    {
      "cell_type": "code",
      "metadata": {
        "id": "zqkSt771_CW-"
      },
      "source": [
        "# first entry of the forecast list\n",
        "forecast_entry = forecasts[0]"
      ],
      "execution_count": 1160,
      "outputs": []
    },
    {
      "cell_type": "code",
      "metadata": {
        "colab": {
          "base_uri": "https://localhost:8080/"
        },
        "id": "wp5tTd8z_CZt",
        "outputId": "464f7505-e4fa-46d8-cf57-f617f6baf16d"
      },
      "source": [
        "print(f\"Number of sample paths: {forecast_entry.num_samples}\")\n",
        "print(f\"Dimension of samples: {forecast_entry.samples.shape}\")\n",
        "print(f\"Start date of the forecast window: {forecast_entry.start_date}\")\n",
        "print(f\"Frequency of the time series: {forecast_entry.freq}\")"
      ],
      "execution_count": 1161,
      "outputs": [
        {
          "output_type": "stream",
          "name": "stdout",
          "text": [
            "Number of sample paths: 500\n",
            "Dimension of samples: (500, 250)\n",
            "Start date of the forecast window: 1970-01-06 04:22:00\n",
            "Frequency of the time series: 2min\n"
          ]
        }
      ]
    },
    {
      "cell_type": "code",
      "metadata": {
        "colab": {
          "base_uri": "https://localhost:8080/"
        },
        "id": "GvKJYScF_CdO",
        "outputId": "6ccadb7c-32f8-4259-d744-f600d9b4eb65"
      },
      "source": [
        "print(f\"Mean of the future window:\\n {forecast_entry.mean}\")\n",
        "print(f\"0.5-quantile (median) of the future window:\\n {forecast_entry.quantile(0.5)}\")"
      ],
      "execution_count": 1162,
      "outputs": [
        {
          "output_type": "stream",
          "name": "stdout",
          "text": [
            "Mean of the future window:\n",
            " [-2.3967018  -2.2909307  -2.2662535  -2.4584947  -2.4374943  -2.0597692\n",
            " -2.1015499  -1.852701   -1.2641736  -1.1844468  -1.0255828  -0.70122457\n",
            " -0.4639588   0.4668916   0.47248614  1.1649715   1.0917063   1.1179345\n",
            "  2.1981134   2.2437572   2.1615493   2.159138    1.8797169   2.0553963\n",
            "  1.9989717   1.993135    1.9613916   1.8880144   1.8430562   1.6097528\n",
            "  1.5055317   1.6008096   1.5753442   1.397778    1.4150679   1.3009284\n",
            "  1.1894202   1.1448423   1.1351501   1.1222214   1.0209051   0.9917879\n",
            "  0.87896425  0.8601556   0.8474698   0.7657467   0.8287466   0.83402985\n",
            "  0.71280354  0.74127555  0.21429071 -0.04033193 -0.278453   -1.1264871\n",
            " -1.9389588  -2.1722398  -2.3293195  -2.4194534  -2.373371   -2.3497984\n",
            " -2.2183235  -2.303935   -2.2359552  -2.2699654  -2.3179817  -2.2128332\n",
            " -2.289347   -2.315063   -2.243087   -2.282668   -2.2379067  -2.340497\n",
            " -2.2474828  -2.2858481  -2.3167264  -2.3404334  -2.3209999  -2.2949164\n",
            " -2.1723018  -2.454996   -2.2134254  -2.3694208  -2.3880575  -2.2416828\n",
            " -2.6722064  -2.3681872  -1.4804441  -0.9070964  -0.9103341  -0.98176455\n",
            " -0.8080092  -1.0042602  -0.2257644   0.19584373  0.7372506   1.392626\n",
            "  1.7615043   2.1766207   2.1337993   2.3002646   2.3625896   2.4213593\n",
            "  1.9095885   1.919318    1.9513627   1.9375681   1.7833792   1.6127901\n",
            "  1.524882    1.5224936   1.5115254   1.4537487   1.4214042   1.325184\n",
            "  1.2898046   1.2381434   1.1555566   1.1779431   1.1183574   1.003423\n",
            "  0.9785137   0.92929566  0.87467766  0.8213554   0.76136684  0.7692364\n",
            "  0.6790047   0.6803018   0.34637684  0.03845598 -0.299361   -0.72652864\n",
            " -1.3464836  -1.9856277  -2.2887666  -2.3465629  -2.3766418  -2.2759867\n",
            " -2.2680027  -2.141086   -2.2399485  -2.3002648  -2.2766082  -2.322947\n",
            " -2.2629867  -2.253941   -2.3378084  -2.2376018  -2.298475   -2.276487\n",
            " -2.2850413  -2.2550209  -2.2717369  -2.3106136  -2.2471979  -2.327372\n",
            " -2.3305175  -2.282542   -2.3111181  -2.4598746  -2.334734   -2.4276545\n",
            " -2.2981377  -1.840649   -1.4486971  -1.5659482  -1.2367646  -1.175504\n",
            " -0.77955306 -0.8900741   0.12677859 -0.20508027  0.4515388   1.2378317\n",
            "  1.6078295   1.9894483   2.2869189   2.475173    2.3744564   2.1015723\n",
            "  2.075637    2.0442333   1.9409398   1.9492065   1.8571554   1.7648382\n",
            "  1.7004582   1.7427539   1.5238147   1.5867254   1.4395114   1.3531716\n",
            "  1.264516    1.2524016   1.211975    1.1261489   1.0884444   1.0387671\n",
            "  1.0055227   0.90951335  0.8980192   0.85127306  0.7818407   0.8366747\n",
            "  0.67503     0.63393843  0.53876734  0.38061756  0.18556415 -0.32928804\n",
            " -1.0239301  -1.5094277  -1.9583447  -2.3267727  -2.313623   -2.260305\n",
            " -2.3343592  -2.1760924  -2.3186722  -2.2943456  -2.2380297  -2.2530558\n",
            " -2.3049297  -2.2380476  -2.3168988  -2.257776   -2.2795842  -2.2975476\n",
            " -2.2885873  -2.278832   -2.2964125  -2.2431338  -2.2069054  -2.2574522\n",
            " -2.252668   -2.3056595  -2.254461   -2.212494   -2.3423076  -2.3089268\n",
            " -2.4545014  -2.3367932  -1.4793811  -1.7634948  -1.2587852  -1.2438539\n",
            " -1.3595341  -0.7358585  -0.81134737 -0.36722758]\n",
            "0.5-quantile (median) of the future window:\n",
            " [-2.4485574  -2.3161683  -2.3910155  -2.4834945  -2.4118645  -2.1109178\n",
            " -2.0682456  -1.8886484  -1.2984033  -1.1369255  -1.015151   -0.66647774\n",
            " -0.49607942  0.43026567  0.44128394  1.2140037   1.1021756   1.0956255\n",
            "  2.2262912   2.2508695   2.2066112   2.1476686   1.9946002   2.0552776\n",
            "  2.0122929   1.9912037   1.964853    1.8854663   1.8420675   1.6018662\n",
            "  1.514539    1.6014289   1.5663126   1.4097111   1.4185644   1.3031299\n",
            "  1.1960521   1.1472596   1.1298207   1.111989    1.0275216   1.0015432\n",
            "  0.87930495  0.86003387  0.83977824  0.76343286  0.8354086   0.8217133\n",
            "  0.7140102   0.73938227  0.23086052 -0.04677269 -0.29590964 -1.1322311\n",
            " -1.9343586  -2.1619058  -2.3172896  -2.4182894  -2.3761816  -2.3333611\n",
            " -2.222541   -2.2997558  -2.2320733  -2.269745   -2.3238578  -2.2091253\n",
            " -2.2929761  -2.3106716  -2.2423122  -2.2809203  -2.2349372  -2.3329406\n",
            " -2.2476094  -2.2848234  -2.3081503  -2.3436682  -2.3171864  -2.2837312\n",
            " -2.2055993  -2.4343476  -2.1896532  -2.3652477  -2.3932033  -2.2395954\n",
            " -2.5550964  -2.2271101  -1.3874991  -1.0032     -0.8676616  -0.9370046\n",
            " -0.64897925 -0.99928176 -0.33358315  0.20875646  0.66901684  1.3736463\n",
            "  1.8009499   2.1406085   2.1751509   2.3291066   2.3642592   2.375264\n",
            "  1.9377391   1.9090555   1.9611471   1.9363093   1.7976617   1.6081363\n",
            "  1.5051457   1.5263472   1.513563    1.4566993   1.442111    1.3269885\n",
            "  1.2875141   1.236426    1.1535275   1.1799812   1.1304559   1.0050968\n",
            "  0.98231375  0.92091537  0.873524    0.81518203  0.75317276  0.7686573\n",
            "  0.67437005  0.6822608   0.32600543  0.02913249 -0.3186813  -0.69850904\n",
            " -1.3383602  -1.9780408  -2.2917094  -2.3452668  -2.3563364  -2.2746735\n",
            " -2.2797248  -2.1407325  -2.250805   -2.2734537  -2.2798574  -2.3206768\n",
            " -2.2594788  -2.2521753  -2.3328762  -2.2302709  -2.295289   -2.2808604\n",
            " -2.2881944  -2.2568393  -2.2721226  -2.2941096  -2.2588558  -2.3122873\n",
            " -2.3127766  -2.2744625  -2.3181818  -2.4241264  -2.3038387  -2.4635644\n",
            " -2.250646   -1.8621209  -1.3650141  -1.5636109  -1.1983644  -1.0456305\n",
            " -0.654442   -0.7002846  -0.04041467 -0.25135964  0.48978835  1.270935\n",
            "  1.6209111   2.0051656   2.263184    2.4670963   2.3896842   2.16092\n",
            "  2.0966508   1.9939901   1.8884073   1.9453273   1.8485783   1.767576\n",
            "  1.6877451   1.7419006   1.5266852   1.5883068   1.4421372   1.3302532\n",
            "  1.2694918   1.2527456   1.2006423   1.1150646   1.0924628   1.0263456\n",
            "  1.0029501   0.9100643   0.90800405  0.85560524  0.7811925   0.82948446\n",
            "  0.68533844  0.6393703   0.53596574  0.3726294   0.17263658 -0.32297269\n",
            " -1.0344131  -1.51912    -1.9611762  -2.329719   -2.3132398  -2.2815573\n",
            " -2.3269746  -2.177739   -2.3208866  -2.2914064  -2.23718    -2.2550905\n",
            " -2.3079398  -2.245727   -2.3126006  -2.2621067  -2.2746434  -2.2940133\n",
            " -2.2896066  -2.277825   -2.2964902  -2.2492044  -2.20938    -2.264366\n",
            " -2.2406812  -2.3191135  -2.2767744  -2.246017   -2.309234   -2.3615115\n",
            " -2.4229515  -2.4187903  -1.4896216  -1.765456   -1.2139804  -1.3273269\n",
            " -1.2507613  -0.68999755 -0.7522705  -0.2530887 ]\n"
          ]
        }
      ]
    },
    {
      "cell_type": "code",
      "metadata": {
        "id": "l4hT4FX0_sBf"
      },
      "source": [
        "def plot_prob_forecasts(ts_entry, forecast_entry):\n",
        "    plot_length = 500\n",
        "    prediction_intervals = (50.0, 90.0)\n",
        "    legend = [\"observations\", \"median prediction\"] + [f\"{k}% prediction interval\" for k in prediction_intervals][::-1]\n",
        "\n",
        "    fig, ax = plt.subplots(1, 1, figsize=(10, 7))\n",
        "    ts_entry[-plot_length:].plot(ax=ax)  # plot the time series\n",
        "    forecast_entry.plot(prediction_intervals=prediction_intervals, color='g')\n",
        "    plt.grid(which=\"both\")\n",
        "    plt.ylim(-3,4)\n",
        "    plt.legend(legend, loc=\"upper left\")\n",
        "    plt.savefig(\"fig3.pdf\",bbox_inches=\"tight\")\n",
        "    plt.show()"
      ],
      "execution_count": 1163,
      "outputs": []
    },
    {
      "cell_type": "code",
      "metadata": {
        "colab": {
          "base_uri": "https://localhost:8080/",
          "height": 444
        },
        "id": "eGL634gS_sFB",
        "outputId": "a1e4255b-2059-4df7-831e-75caea19d28c"
      },
      "source": [
        "plot_prob_forecasts(ts_entry, forecast_entry)"
      ],
      "execution_count": 1164,
      "outputs": [
        {
          "output_type": "display_data",
          "data": {
            "image/png": "[encoded data removed]",
            "text/plain": [
              "<Figure size 720x504 with 1 Axes>"
            ]
          },
          "metadata": {
            "needs_background": "light"
          }
        }
      ]
    },
    {
      "cell_type": "code",
      "metadata": {
        "id": "ZNQ9VW-i_sIV"
      },
      "source": [
        "from gluonts.evaluation import Evaluator\n"
      ],
      "execution_count": 1165,
      "outputs": []
    },
    {
      "cell_type": "code",
      "metadata": {
        "colab": {
          "base_uri": "https://localhost:8080/"
        },
        "id": "K8qjJvhC_sX6",
        "outputId": "83d517e0-24dd-4c7b-bc67-ab507c10a8af"
      },
      "source": [
        "evaluator = Evaluator(quantiles=[0.5,0.1,0.9])\n",
        "agg_metrics, item_metrics = evaluator(iter(tss), iter(forecasts), num_series=len(test_data))"
      ],
      "execution_count": 1166,
      "outputs": [
        {
          "output_type": "stream",
          "name": "stderr",
          "text": [
            "Running evaluation: 100%|██████████| 1/1 [00:00<00:00, 34.68it/s]\n"
          ]
        }
      ]
    },
    {
      "cell_type": "code",
      "metadata": {
        "colab": {
          "base_uri": "https://localhost:8080/"
        },
        "id": "BGoIY9no_9k1",
        "outputId": "5f0bc91d-ee3a-448e-b201-a541837d0d77"
      },
      "source": [
        "print(json.dumps(agg_metrics, indent=4))"
      ],
      "execution_count": 1167,
      "outputs": [
        {
          "output_type": "stream",
          "name": "stdout",
          "text": [
            "{\n",
            "    \"MSE\": 1.0036471557617188,\n",
            "    \"abs_error\": 117.48511505126953,\n",
            "    \"abs_target_sum\": 474.73455810546875,\n",
            "    \"abs_target_mean\": 1.898938232421875,\n",
            "    \"seasonal_error\": 1.2765143529713965,\n",
            "    \"MASE\": 0.3681434988264549,\n",
            "    \"MAPE\": 0.16383135266699644,\n",
            "    \"sMAPE\": 0.38533428955078125,\n",
            "    \"MSIS\": 2.664762759806173,\n",
            "    \"QuantileLoss[0.5]\": 117.48511585593224,\n",
            "    \"Coverage[0.5]\": 0.264,\n",
            "    \"QuantileLoss[0.1]\": 58.75698008537293,\n",
            "    \"Coverage[0.1]\": 0.012,\n",
            "    \"QuantileLoss[0.9]\": 61.27675911076366,\n",
            "    \"Coverage[0.9]\": 0.82,\n",
            "    \"RMSE\": 1.0018219181879178,\n",
            "    \"NRMSE\": 0.527569512837819,\n",
            "    \"ND\": 0.2474753797577311,\n",
            "    \"wQuantileLoss[0.5]\": 0.24747538145270503,\n",
            "    \"wQuantileLoss[0.1]\": 0.1237680701397754,\n",
            "    \"wQuantileLoss[0.9]\": 0.1290758341994353,\n",
            "    \"mean_absolute_QuantileLoss\": 79.17295168402295,\n",
            "    \"mean_wQuantileLoss\": 0.16677309526397188,\n",
            "    \"MAE_Coverage\": 0.13466666666666668,\n",
            "    \"OWA\": NaN\n",
            "}\n"
          ]
        }
      ]
    },
    {
      "cell_type": "code",
      "metadata": {
        "colab": {
          "base_uri": "https://localhost:8080/",
          "height": 100
        },
        "id": "JnrPgobQ_9nq",
        "outputId": "760aa2d6-04eb-4928-f149-f92372583d19"
      },
      "source": [
        "item_metrics"
      ],
      "execution_count": 1168,
      "outputs": [
        {
          "output_type": "execute_result",
          "data": {
            "text/html": [
              "<div>\n",
              "<style scoped>\n",
              "    .dataframe tbody tr th:only-of-type {\n",
              "        vertical-align: middle;\n",
              "    }\n",
              "\n",
              "    .dataframe tbody tr th {\n",
              "        vertical-align: top;\n",
              "    }\n",
              "\n",
              "    .dataframe thead th {\n",
              "        text-align: right;\n",
              "    }\n",
              "</style>\n",
              "<table border=\"1\" class=\"dataframe\">\n",
              "  <thead>\n",
              "    <tr style=\"text-align: right;\">\n",
              "      <th></th>\n",
              "      <th>item_id</th>\n",
              "      <th>MSE</th>\n",
              "      <th>abs_error</th>\n",
              "      <th>abs_target_sum</th>\n",
              "      <th>abs_target_mean</th>\n",
              "      <th>seasonal_error</th>\n",
              "      <th>MASE</th>\n",
              "      <th>MAPE</th>\n",
              "      <th>sMAPE</th>\n",
              "      <th>MSIS</th>\n",
              "      <th>QuantileLoss[0.5]</th>\n",
              "      <th>Coverage[0.5]</th>\n",
              "      <th>QuantileLoss[0.1]</th>\n",
              "      <th>Coverage[0.1]</th>\n",
              "      <th>QuantileLoss[0.9]</th>\n",
              "      <th>Coverage[0.9]</th>\n",
              "    </tr>\n",
              "  </thead>\n",
              "  <tbody>\n",
              "    <tr>\n",
              "      <th>0</th>\n",
              "      <td>NaN</td>\n",
              "      <td>1.003647</td>\n",
              "      <td>117.485115</td>\n",
              "      <td>474.734558</td>\n",
              "      <td>1.898938</td>\n",
              "      <td>1.276514</td>\n",
              "      <td>0.368143</td>\n",
              "      <td>0.163831</td>\n",
              "      <td>0.385334</td>\n",
              "      <td>2.664763</td>\n",
              "      <td>117.485116</td>\n",
              "      <td>0.264</td>\n",
              "      <td>58.75698</td>\n",
              "      <td>0.012</td>\n",
              "      <td>61.276759</td>\n",
              "      <td>0.82</td>\n",
              "    </tr>\n",
              "  </tbody>\n",
              "</table>\n",
              "</div>"
            ],
            "text/plain": [
              "   item_id       MSE  ...  QuantileLoss[0.9]  Coverage[0.9]\n",
              "0      NaN  1.003647  ...          61.276759           0.82\n",
              "\n",
              "[1 rows x 16 columns]"
            ]
          },
          "metadata": {},
          "execution_count": 1168
        }
      ]
    },
    {
      "cell_type": "code",
      "metadata": {
        "colab": {
          "base_uri": "https://localhost:8080/",
          "height": 279
        },
        "id": "sAIHZco0_9qU",
        "outputId": "4e5fd726-a54b-4f3d-89f5-710a1b6dd889"
      },
      "source": [
        "item_metrics.plot(x='MSIS', y='MASE', kind='scatter')\n",
        "plt.grid(which=\"both\")\n",
        "plt.savefig(\"fig4.pdf\",bbox_inches=\"tight\")\n",
        "plt.show()"
      ],
      "execution_count": 1169,
      "outputs": [
        {
          "output_type": "display_data",
          "data": {
            "image/png": "[encoded data removed]",
            "text/plain": [
              "<Figure size 432x288 with 1 Axes>"
            ]
          },
          "metadata": {
            "needs_background": "light"
          }
        }
      ]
    },
    {
      "cell_type": "code",
      "metadata": {
        "id": "Hvfrw7ym_9tz"
      },
      "source": [
        "# own forecast model"
      ],
      "execution_count": 1170,
      "outputs": []
    },
    {
      "cell_type": "code",
      "metadata": {
        "id": "yV53Ow6SAIV1"
      },
      "source": [
        "class MyNetwork(gluon.HybridBlock):\n",
        "    def __init__(self, prediction_length, num_cells, **kwargs):\n",
        "        super().__init__(**kwargs)\n",
        "        self.prediction_length = prediction_length\n",
        "        self.num_cells = num_cells\n",
        "\n",
        "        with self.name_scope():\n",
        "            # Set up a 3 layer neural network that directly predicts the target values\n",
        "            self.nn = mx.gluon.nn.HybridSequential()\n",
        "            self.nn.add(mx.gluon.nn.Dense(units=820, activation='relu'))\n",
        "            self.nn.add(mx.gluon.nn.Dense(units=820, activation='relu'))\n",
        "            self.nn.add(mx.gluon.nn.Dense(units=self.prediction_length, activation='relu'))\n",
        "\n",
        "\n",
        "class MyTrainNetwork(MyNetwork):\n",
        "    def hybrid_forward(self, F, past_target, future_target):\n",
        "        prediction = self.nn(past_target)\n",
        "        # calculate L1 loss with the future_target to learn the median\n",
        "        return (prediction - future_target).abs().mean(axis=-1)\n",
        "\n",
        "\n",
        "class MyPredNetwork(MyTrainNetwork):\n",
        "    # The prediction network only receives past_target and returns predictions\n",
        "    def hybrid_forward(self, F, past_target):\n",
        "        prediction = self.nn(past_target)\n",
        "        return prediction.expand_dims(axis=1)"
      ],
      "execution_count": 1171,
      "outputs": []
    },
    {
      "cell_type": "code",
      "metadata": {
        "id": "dDZyrrESAIYb"
      },
      "source": [
        "def plot_prob_forecasts_2(ts_entry, forecast_entry):\n",
        "    plot_length = 500\n",
        "    prediction_intervals = (50.0, 90.0)\n",
        "    legend = [\"observations\", \"median prediction\"] + [f\"{k}% prediction interval\" for k in prediction_intervals][::-1]\n",
        "\n",
        "    fig, ax = plt.subplots(1, 1, figsize=(10, 7))\n",
        "    ts_entry[-plot_length:].plot(ax=ax)  # plot the time series\n",
        "    forecast_entry.plot(prediction_intervals=prediction_intervals, color='g')\n",
        "    plt.grid(which=\"both\")\n",
        "    plt.ylim(-3,4)\n",
        "    plt.legend(legend, loc=\"upper left\")\n",
        "    plt.savefig(\"fig5.pdf\",bbox_inches=\"tight\")\n",
        "    plt.show()"
      ],
      "execution_count": 1172,
      "outputs": []
    },
    {
      "cell_type": "code",
      "metadata": {
        "id": "4TnPZh8UAIbe"
      },
      "source": [
        "from functools import partial\n",
        "from mxnet.gluon import HybridBlock\n",
        "from gluonts.core.component import validated\n",
        "from gluonts.dataset.loader import TrainDataLoader\n",
        "from gluonts.model.predictor import Predictor\n",
        "from gluonts.mx.batchify import as_in_context, batchify\n",
        "from gluonts.mx.model.estimator import GluonEstimator\n",
        "from gluonts.mx.model.predictor import RepresentableBlockPredictor\n",
        "from gluonts.mx.trainer import Trainer\n",
        "from gluonts.mx.util import copy_parameters, get_hybrid_forward_input_names\n",
        "from gluonts.transform import (\n",
        "    ExpectedNumInstanceSampler,\n",
        "    Transformation,\n",
        "    InstanceSplitter,\n",
        "    TestSplitSampler,\n",
        "    SelectFields,\n",
        "    Chain\n",
        ")"
      ],
      "execution_count": 1173,
      "outputs": []
    },
    {
      "cell_type": "code",
      "metadata": {
        "id": "8XAQqNJpAId6"
      },
      "source": [
        "class MyEstimator(GluonEstimator):\n",
        "    @validated()\n",
        "    def __init__(\n",
        "        self,\n",
        "        prediction_length: int,\n",
        "        context_length: int,\n",
        "        freq: str,\n",
        "        num_cells: int,\n",
        "        batch_size: int = 32,\n",
        "        trainer: Trainer = Trainer()\n",
        "    ) -> None:\n",
        "        super().__init__(trainer=trainer, batch_size=batch_size)\n",
        "        self.prediction_length = prediction_length\n",
        "        self.context_length = context_length\n",
        "        self.freq = freq\n",
        "        self.num_cells = num_cells\n",
        "\n",
        "    def create_transformation(self):\n",
        "        return Chain([])\n",
        "\n",
        "    def create_training_data_loader(self, dataset, **kwargs):\n",
        "        instance_splitter = InstanceSplitter(\n",
        "            target_field=FieldName.TARGET,\n",
        "            is_pad_field=FieldName.IS_PAD,\n",
        "            start_field=FieldName.START,\n",
        "            forecast_start_field=FieldName.FORECAST_START,\n",
        "            instance_sampler=ExpectedNumInstanceSampler(\n",
        "                num_instances=1,\n",
        "                min_future=self.prediction_length\n",
        "            ),\n",
        "            past_length=self.context_length,\n",
        "            future_length=self.prediction_length,\n",
        "        )\n",
        "        input_names = get_hybrid_forward_input_names(MyTrainNetwork)\n",
        "        return TrainDataLoader(\n",
        "            dataset=dataset,\n",
        "            transform=instance_splitter + SelectFields(input_names),\n",
        "            batch_size=self.batch_size,\n",
        "            stack_fn=partial(batchify, ctx=self.trainer.ctx, dtype=self.dtype),\n",
        "            decode_fn=partial(as_in_context, ctx=self.trainer.ctx),\n",
        "            **kwargs,\n",
        "        )\n",
        "\n",
        "    def create_training_network(self) -> MyTrainNetwork:\n",
        "        return MyTrainNetwork(\n",
        "            prediction_length=self.prediction_length,\n",
        "            num_cells = self.num_cells\n",
        "        )\n",
        "\n",
        "    def create_predictor(\n",
        "        self, transformation: Transformation, trained_network: HybridBlock\n",
        "    ) -> Predictor:\n",
        "        prediction_splitter = InstanceSplitter(\n",
        "            target_field=FieldName.TARGET,\n",
        "            is_pad_field=FieldName.IS_PAD,\n",
        "            start_field=FieldName.START,\n",
        "            forecast_start_field=FieldName.FORECAST_START,\n",
        "            instance_sampler=TestSplitSampler(),\n",
        "            past_length=self.context_length,\n",
        "            future_length=self.prediction_length,\n",
        "        )\n",
        "\n",
        "        prediction_network = MyPredNetwork(\n",
        "            prediction_length=self.prediction_length,\n",
        "            num_cells=self.num_cells\n",
        "        )\n",
        "\n",
        "        copy_parameters(trained_network, prediction_network)\n",
        "\n",
        "        return RepresentableBlockPredictor(\n",
        "            input_transform=transformation + prediction_splitter,\n",
        "            prediction_net=prediction_network,\n",
        "            batch_size=self.trainer.batch_size,\n",
        "            freq=self.freq,\n",
        "            prediction_length=self.prediction_length,\n",
        "            ctx=self.trainer.ctx,\n",
        "        )"
      ],
      "execution_count": 1174,
      "outputs": []
    },
    {
      "cell_type": "code",
      "metadata": {
        "id": "YLf6ySgo2iAg"
      },
      "source": [
        "\n",
        "# define the parameters of the dataset\n",
        "custom_ds_metadata = {\n",
        "    'num_series': 1,\n",
        "    'num_steps': 1901,\n",
        "    'prediction_length': 100,\n",
        "    'freq': '2min',\n",
        "    'start': [\n",
        "        pd.Timestamp(\"01-01-2019\", freq='2min')\n",
        "        for _ in range(100)\n",
        "    ]\n",
        "}"
      ],
      "execution_count": 1175,
      "outputs": []
    },
    {
      "cell_type": "code",
      "metadata": {
        "id": "UMl3St3IAIia"
      },
      "source": [
        "estimator = MyEstimator(\n",
        "    prediction_length=250,     #custom_ds_metadata['prediction_length'],\n",
        "    context_length = custom_ds_metadata['prediction_length'],\n",
        "    freq=custom_ds_metadata['freq'],\n",
        "    num_cells=40,\n",
        "    trainer=Trainer(\n",
        "        ctx=\"cpu\",\n",
        "        epochs=5,\n",
        "        learning_rate=1e-4,\n",
        "        hybridize=False,\n",
        "        num_batches_per_epoch=2000\n",
        "    )\n",
        ")"
      ],
      "execution_count": 1196,
      "outputs": []
    },
    {
      "cell_type": "code",
      "metadata": {
        "colab": {
          "base_uri": "https://localhost:8080/"
        },
        "id": "A1R6cBlx2vUv",
        "outputId": "ed7dd692-b329-4e09-f28f-989e9c4c38f6"
      },
      "source": [
        "from gluonts.dataset.field_names import FieldName\n",
        "[f\"FieldName.{k} = '{v}'\" for k, v in FieldName.__dict__.items() if not k.startswith('_')]"
      ],
      "execution_count": 1197,
      "outputs": [
        {
          "output_type": "execute_result",
          "data": {
            "text/plain": [
              "[\"FieldName.ITEM_ID = 'item_id'\",\n",
              " \"FieldName.START = 'start'\",\n",
              " \"FieldName.TARGET = 'target'\",\n",
              " \"FieldName.FEAT_STATIC_CAT = 'feat_static_cat'\",\n",
              " \"FieldName.FEAT_STATIC_REAL = 'feat_static_real'\",\n",
              " \"FieldName.FEAT_DYNAMIC_CAT = 'feat_dynamic_cat'\",\n",
              " \"FieldName.FEAT_DYNAMIC_REAL = 'feat_dynamic_real'\",\n",
              " \"FieldName.PAST_FEAT_DYNAMIC_REAL = 'past_feat_dynamic_real'\",\n",
              " \"FieldName.FEAT_DYNAMIC_REAL_LEGACY = 'dynamic_feat'\",\n",
              " \"FieldName.FEAT_DYNAMIC = 'feat_dynamic'\",\n",
              " \"FieldName.PAST_FEAT_DYNAMIC = 'past_feat_dynamic'\",\n",
              " \"FieldName.FEAT_TIME = 'time_feat'\",\n",
              " \"FieldName.FEAT_CONST = 'feat_dynamic_const'\",\n",
              " \"FieldName.FEAT_AGE = 'feat_dynamic_age'\",\n",
              " \"FieldName.OBSERVED_VALUES = 'observed_values'\",\n",
              " \"FieldName.IS_PAD = 'is_pad'\",\n",
              " \"FieldName.FORECAST_START = 'forecast_start'\",\n",
              " \"FieldName.TARGET_DIM_INDICATOR = 'target_dimension_indicator'\"]"
            ]
          },
          "metadata": {},
          "execution_count": 1197
        }
      ]
    },
    {
      "cell_type": "code",
      "metadata": {
        "colab": {
          "base_uri": "https://localhost:8080/"
        },
        "id": "O-V6TckVAIk8",
        "outputId": "14884c97-e897-4fe0-a8a9-79c802ce4ba9"
      },
      "source": [
        "predictor = estimator.train(train_data)"
      ],
      "execution_count": 1198,
      "outputs": [
        {
          "output_type": "stream",
          "name": "stderr",
          "text": [
            "100%|██████████| 2000/2000 [00:34<00:00, 58.53it/s, epoch=1/5, avg_epoch_loss=1.16]\n",
            "100%|██████████| 2000/2000 [00:33<00:00, 58.84it/s, epoch=2/5, avg_epoch_loss=1.1]\n",
            "100%|██████████| 2000/2000 [00:33<00:00, 59.06it/s, epoch=3/5, avg_epoch_loss=1.08]\n",
            "100%|██████████| 2000/2000 [00:33<00:00, 58.98it/s, epoch=4/5, avg_epoch_loss=1.08]\n",
            "100%|██████████| 2000/2000 [00:33<00:00, 59.24it/s, epoch=5/5, avg_epoch_loss=1.08]\n"
          ]
        }
      ]
    },
    {
      "cell_type": "code",
      "metadata": {
        "id": "bbt6sADcAInM"
      },
      "source": [
        "forecast_it, ts_it = make_evaluation_predictions(\n",
        "    dataset=test_data,  # test dataset\n",
        "    predictor=predictor,  # predictor\n",
        "    num_samples=100,  # number of sample paths we want for evaluation\n",
        ")"
      ],
      "execution_count": 1199,
      "outputs": []
    },
    {
      "cell_type": "code",
      "metadata": {
        "id": "RBXpP0N8AIpx"
      },
      "source": [
        "forecasts = list(forecast_it)\n",
        "tss = list(ts_it)"
      ],
      "execution_count": 1200,
      "outputs": []
    },
    {
      "cell_type": "code",
      "metadata": {
        "id": "dLvjeWV9AucS",
        "colab": {
          "base_uri": "https://localhost:8080/",
          "height": 444
        },
        "outputId": "797b1ff5-12f9-4a18-825f-12a7f638356c"
      },
      "source": [
        "plot_prob_forecasts_2(tss[0], forecasts[0])"
      ],
      "execution_count": 1201,
      "outputs": [
        {
          "output_type": "display_data",
          "data": {
            "image/png": "[encoded data removed]",
            "text/plain": [
              "<Figure size 720x504 with 1 Axes>"
            ]
          },
          "metadata": {
            "needs_background": "light"
          }
        }
      ]
    },
    {
      "cell_type": "code",
      "metadata": {
        "id": "72mdTQhLAues",
        "colab": {
          "base_uri": "https://localhost:8080/"
        },
        "outputId": "1f2b604a-b290-48ae-cac0-c12545158847"
      },
      "source": [
        "evaluator = Evaluator(quantiles=[0.1, 0.5, 0.9])\n",
        "agg_metrics, item_metrics = evaluator(iter(tss), iter(forecasts), num_series=len(test_data))"
      ],
      "execution_count": 1202,
      "outputs": [
        {
          "output_type": "stream",
          "name": "stderr",
          "text": [
            "Running evaluation: 100%|██████████| 1/1 [00:00<00:00, 32.60it/s]\n"
          ]
        }
      ]
    },
    {
      "cell_type": "code",
      "metadata": {
        "id": "xDu1hSNuAuhc",
        "colab": {
          "base_uri": "https://localhost:8080/"
        },
        "outputId": "8601949b-1415-4330-a24c-b6dd63351a6f"
      },
      "source": [
        "print(json.dumps(agg_metrics, indent=4))"
      ],
      "execution_count": 1203,
      "outputs": [
        {
          "output_type": "stream",
          "name": "stdout",
          "text": [
            "{\n",
            "    \"MSE\": 2.38183642578125,\n",
            "    \"abs_error\": 271.6680908203125,\n",
            "    \"abs_target_sum\": 474.73455810546875,\n",
            "    \"abs_target_mean\": 1.898938232421875,\n",
            "    \"seasonal_error\": 1.2765143529713965,\n",
            "    \"MASE\": 0.8512809595534565,\n",
            "    \"MAPE\": 0.5138934939188728,\n",
            "    \"sMAPE\": 1.0348020650572696,\n",
            "    \"MSIS\": 34.05124144222919,\n",
            "    \"QuantileLoss[0.1]\": 468.509682571888,\n",
            "    \"Coverage[0.1]\": 0.532,\n",
            "    \"QuantileLoss[0.5]\": 271.66811138391495,\n",
            "    \"Coverage[0.5]\": 0.532,\n",
            "    \"QuantileLoss[0.9]\": 74.82654019594192,\n",
            "    \"Coverage[0.9]\": 0.532,\n",
            "    \"RMSE\": 1.5433199363000694,\n",
            "    \"NRMSE\": 0.812727823343545,\n",
            "    \"ND\": 0.572252611868963,\n",
            "    \"wQuantileLoss[0.1]\": 0.9868876713790914,\n",
            "    \"wQuantileLoss[0.5]\": 0.5722526551849637,\n",
            "    \"wQuantileLoss[0.9]\": 0.1576176389908362,\n",
            "    \"mean_absolute_QuantileLoss\": 271.66811138391495,\n",
            "    \"mean_wQuantileLoss\": 0.5722526551849637,\n",
            "    \"MAE_Coverage\": 0.2773333333333334,\n",
            "    \"OWA\": NaN\n",
            "}\n"
          ]
        }
      ]
    },
    {
      "cell_type": "code",
      "metadata": {
        "id": "c7s2rVYUAujs",
        "colab": {
          "base_uri": "https://localhost:8080/",
          "height": 100
        },
        "outputId": "5d29c737-0186-45ba-e583-29c569b0d053"
      },
      "source": [
        "item_metrics.head(10)"
      ],
      "execution_count": 1204,
      "outputs": [
        {
          "output_type": "execute_result",
          "data": {
            "text/html": [
              "<div>\n",
              "<style scoped>\n",
              "    .dataframe tbody tr th:only-of-type {\n",
              "        vertical-align: middle;\n",
              "    }\n",
              "\n",
              "    .dataframe tbody tr th {\n",
              "        vertical-align: top;\n",
              "    }\n",
              "\n",
              "    .dataframe thead th {\n",
              "        text-align: right;\n",
              "    }\n",
              "</style>\n",
              "<table border=\"1\" class=\"dataframe\">\n",
              "  <thead>\n",
              "    <tr style=\"text-align: right;\">\n",
              "      <th></th>\n",
              "      <th>item_id</th>\n",
              "      <th>MSE</th>\n",
              "      <th>abs_error</th>\n",
              "      <th>abs_target_sum</th>\n",
              "      <th>abs_target_mean</th>\n",
              "      <th>seasonal_error</th>\n",
              "      <th>MASE</th>\n",
              "      <th>MAPE</th>\n",
              "      <th>sMAPE</th>\n",
              "      <th>MSIS</th>\n",
              "      <th>QuantileLoss[0.1]</th>\n",
              "      <th>Coverage[0.1]</th>\n",
              "      <th>QuantileLoss[0.5]</th>\n",
              "      <th>Coverage[0.5]</th>\n",
              "      <th>QuantileLoss[0.9]</th>\n",
              "      <th>Coverage[0.9]</th>\n",
              "    </tr>\n",
              "  </thead>\n",
              "  <tbody>\n",
              "    <tr>\n",
              "      <th>0</th>\n",
              "      <td>NaN</td>\n",
              "      <td>2.381836</td>\n",
              "      <td>271.668091</td>\n",
              "      <td>474.734558</td>\n",
              "      <td>1.898938</td>\n",
              "      <td>1.276514</td>\n",
              "      <td>0.851281</td>\n",
              "      <td>0.513893</td>\n",
              "      <td>1.034802</td>\n",
              "      <td>34.051241</td>\n",
              "      <td>468.509683</td>\n",
              "      <td>0.532</td>\n",
              "      <td>271.668111</td>\n",
              "      <td>0.532</td>\n",
              "      <td>74.82654</td>\n",
              "      <td>0.532</td>\n",
              "    </tr>\n",
              "  </tbody>\n",
              "</table>\n",
              "</div>"
            ],
            "text/plain": [
              "   item_id       MSE  ...  QuantileLoss[0.9]  Coverage[0.9]\n",
              "0      NaN  2.381836  ...           74.82654          0.532\n",
              "\n",
              "[1 rows x 16 columns]"
            ]
          },
          "metadata": {},
          "execution_count": 1204
        }
      ]
    },
    {
      "cell_type": "code",
      "metadata": {
        "id": "cg92c0W3Aul7",
        "colab": {
          "base_uri": "https://localhost:8080/",
          "height": 279
        },
        "outputId": "39f5be17-ff47-48f1-c808-63411065a902"
      },
      "source": [
        "item_metrics.plot(x='MSIS', y='MASE', kind='scatter')\n",
        "plt.grid(which=\"both\")\n",
        "plt.savefig(\"fig6.pdf\",bbox_inches=\"tight\")\n",
        "plt.show()"
      ],
      "execution_count": 1205,
      "outputs": [
        {
          "output_type": "display_data",
          "data": {
            "image/png": "[encoded data removed]",
            "text/plain": [
              "<Figure size 432x288 with 1 Axes>"
            ]
          },
          "metadata": {
            "needs_background": "light"
          }
        }
      ]
    }
  ]
}