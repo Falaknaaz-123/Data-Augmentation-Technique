{
  "nbformat": 4,
  "nbformat_minor": 0,
  "metadata": {
    "colab": {
      "name": "Copy of Copy of Rawdata_82_1_Charge_Capacity_forecast.ipynb",
      "provenance": [],
      "collapsed_sections": []
    },
    "kernelspec": {
      "display_name": "Python 3",
      "name": "python3"
    }
  },
  "cells": [
    {
      "cell_type": "code",
      "metadata": {
        "colab": {
          "base_uri": "https://localhost:8080/"
        },
        "id": "BISkgn0jVdmk",
        "outputId": "03b66ef2-dc17-4948-a795-b8c2926e3ee2"
      },
      "source": [
        "pip install --upgrade mxnet~=1.7 gluonts"
      ],
      "execution_count": 8,
      "outputs": [
        {
          "output_type": "stream",
          "name": "stdout",
          "text": [
            "Requirement already satisfied: mxnet~=1.7 in /usr/local/lib/python3.7/dist-packages (1.8.0.post0)\n",
            "Requirement already satisfied: gluonts in /usr/local/lib/python3.7/dist-packages (0.8.1)\n",
            "Requirement already satisfied: graphviz<0.9.0,>=0.8.1 in /usr/local/lib/python3.7/dist-packages (from mxnet~=1.7) (0.8.4)\n",
            "Requirement already satisfied: numpy<2.0.0,>1.16.0 in /usr/local/lib/python3.7/dist-packages (from mxnet~=1.7) (1.19.5)\n",
            "Requirement already satisfied: requests<3,>=2.20.0 in /usr/local/lib/python3.7/dist-packages (from mxnet~=1.7) (2.23.0)\n",
            "Requirement already satisfied: certifi>=2017.4.17 in /usr/local/lib/python3.7/dist-packages (from requests<3,>=2.20.0->mxnet~=1.7) (2021.5.30)\n",
            "Requirement already satisfied: urllib3!=1.25.0,!=1.25.1,<1.26,>=1.21.1 in /usr/local/lib/python3.7/dist-packages (from requests<3,>=2.20.0->mxnet~=1.7) (1.24.3)\n",
            "Requirement already satisfied: chardet<4,>=3.0.2 in /usr/local/lib/python3.7/dist-packages (from requests<3,>=2.20.0->mxnet~=1.7) (3.0.4)\n",
            "Requirement already satisfied: idna<3,>=2.5 in /usr/local/lib/python3.7/dist-packages (from requests<3,>=2.20.0->mxnet~=1.7) (2.10)\n",
            "Requirement already satisfied: pandas~=1.0 in /usr/local/lib/python3.7/dist-packages (from gluonts) (1.1.5)\n",
            "Requirement already satisfied: typing-extensions~=3.10.0.0 in /usr/local/lib/python3.7/dist-packages (from gluonts) (3.10.0.2)\n",
            "Requirement already satisfied: toolz~=0.10 in /usr/local/lib/python3.7/dist-packages (from gluonts) (0.11.1)\n",
            "Requirement already satisfied: pydantic~=1.1 in /usr/local/lib/python3.7/dist-packages (from gluonts) (1.8.2)\n",
            "Requirement already satisfied: tqdm~=4.23 in /usr/local/lib/python3.7/dist-packages (from gluonts) (4.62.3)\n",
            "Requirement already satisfied: matplotlib~=3.0 in /usr/local/lib/python3.7/dist-packages (from gluonts) (3.2.2)\n",
            "Requirement already satisfied: holidays>=0.9 in /usr/local/lib/python3.7/dist-packages (from gluonts) (0.10.5.2)\n",
            "Requirement already satisfied: convertdate>=2.3.0 in /usr/local/lib/python3.7/dist-packages (from holidays>=0.9->gluonts) (2.3.2)\n",
            "Requirement already satisfied: korean-lunar-calendar in /usr/local/lib/python3.7/dist-packages (from holidays>=0.9->gluonts) (0.2.1)\n",
            "Requirement already satisfied: hijri-converter in /usr/local/lib/python3.7/dist-packages (from holidays>=0.9->gluonts) (2.2.1)\n",
            "Requirement already satisfied: six in /usr/local/lib/python3.7/dist-packages (from holidays>=0.9->gluonts) (1.15.0)\n",
            "Requirement already satisfied: python-dateutil in /usr/local/lib/python3.7/dist-packages (from holidays>=0.9->gluonts) (2.8.2)\n",
            "Requirement already satisfied: pymeeus<=1,>=0.3.13 in /usr/local/lib/python3.7/dist-packages (from convertdate>=2.3.0->holidays>=0.9->gluonts) (0.5.11)\n",
            "Requirement already satisfied: pytz>=2014.10 in /usr/local/lib/python3.7/dist-packages (from convertdate>=2.3.0->holidays>=0.9->gluonts) (2018.9)\n",
            "Requirement already satisfied: cycler>=0.10 in /usr/local/lib/python3.7/dist-packages (from matplotlib~=3.0->gluonts) (0.10.0)\n",
            "Requirement already satisfied: kiwisolver>=1.0.1 in /usr/local/lib/python3.7/dist-packages (from matplotlib~=3.0->gluonts) (1.3.2)\n",
            "Requirement already satisfied: pyparsing!=2.0.4,!=2.1.2,!=2.1.6,>=2.0.1 in /usr/local/lib/python3.7/dist-packages (from matplotlib~=3.0->gluonts) (2.4.7)\n"
          ]
        }
      ]
    },
    {
      "cell_type": "code",
      "metadata": {
        "id": "Io5dASCrVoYO"
      },
      "source": [
        "# Third-party imports\n",
        "%matplotlib inline\n",
        "import mxnet as mx\n",
        "from mxnet import gluon\n",
        "import numpy as np\n",
        "import pandas as pd\n",
        "import matplotlib.pyplot as plt\n",
        "import json"
      ],
      "execution_count": 2,
      "outputs": []
    },
    {
      "cell_type": "code",
      "metadata": {
        "id": "JS2hNvrbVoa6",
        "colab": {
          "base_uri": "https://localhost:8080/"
        },
        "outputId": "44f14e35-bca1-45f6-e86d-b76662d06a6c"
      },
      "source": [
        "# gluon datasets\n",
        "from gluonts.dataset.repository.datasets import get_dataset, dataset_recipes\n",
        "from gluonts.dataset.util import to_pandas"
      ],
      "execution_count": 3,
      "outputs": [
        {
          "output_type": "stream",
          "name": "stderr",
          "text": [
            "/usr/local/lib/python3.7/dist-packages/gluonts/json.py:46: UserWarning: Using `json`-module for json-handling. Consider installing one of `orjson`, `ujson` to speed up serialization and deserialization.\n",
            "  \"Using `json`-module for json-handling. \"\n"
          ]
        }
      ]
    },
    {
      "cell_type": "code",
      "metadata": {
        "colab": {
          "base_uri": "https://localhost:8080/"
        },
        "id": "q-6chF-mVod2",
        "outputId": "6e4060ad-afdf-4506-b3ba-d8f7694b42f7"
      },
      "source": [
        "print(f\"Available datasets: {list(dataset_recipes.keys())}\")"
      ],
      "execution_count": 4,
      "outputs": [
        {
          "output_type": "stream",
          "name": "stdout",
          "text": [
            "Available datasets: ['constant', 'exchange_rate', 'solar-energy', 'electricity', 'traffic', 'exchange_rate_nips', 'electricity_nips', 'traffic_nips', 'solar_nips', 'wiki-rolling_nips', 'taxi_30min', 'kaggle_web_traffic_with_missing', 'kaggle_web_traffic_without_missing', 'kaggle_web_traffic_weekly', 'm1_yearly', 'm1_quarterly', 'm1_monthly', 'nn5_daily_with_missing', 'nn5_daily_without_missing', 'nn5_weekly', 'tourism_monthly', 'tourism_quarterly', 'tourism_yearly', 'm3_monthly', 'm3_quarterly', 'm3_yearly', 'm3_other', 'm4_hourly', 'm4_daily', 'm4_weekly', 'm4_monthly', 'm4_quarterly', 'm4_yearly', 'm5']\n"
          ]
        }
      ]
    },
    {
      "cell_type": "code",
      "metadata": {
        "colab": {
          "base_uri": "https://localhost:8080/"
        },
        "id": "3dl59DPWBspm",
        "outputId": "cc5bb4f6-9ea8-4219-8be7-4b9cccf4f8b5"
      },
      "source": [
        "pip install mxnet"
      ],
      "execution_count": 5,
      "outputs": [
        {
          "output_type": "stream",
          "name": "stdout",
          "text": [
            "Requirement already satisfied: mxnet in /usr/local/lib/python3.7/dist-packages (1.8.0.post0)\n",
            "Requirement already satisfied: numpy<2.0.0,>1.16.0 in /usr/local/lib/python3.7/dist-packages (from mxnet) (1.19.5)\n",
            "Requirement already satisfied: graphviz<0.9.0,>=0.8.1 in /usr/local/lib/python3.7/dist-packages (from mxnet) (0.8.4)\n",
            "Requirement already satisfied: requests<3,>=2.20.0 in /usr/local/lib/python3.7/dist-packages (from mxnet) (2.23.0)\n",
            "Requirement already satisfied: idna<3,>=2.5 in /usr/local/lib/python3.7/dist-packages (from requests<3,>=2.20.0->mxnet) (2.10)\n",
            "Requirement already satisfied: chardet<4,>=3.0.2 in /usr/local/lib/python3.7/dist-packages (from requests<3,>=2.20.0->mxnet) (3.0.4)\n",
            "Requirement already satisfied: certifi>=2017.4.17 in /usr/local/lib/python3.7/dist-packages (from requests<3,>=2.20.0->mxnet) (2021.5.30)\n",
            "Requirement already satisfied: urllib3!=1.25.0,!=1.25.1,<1.26,>=1.21.1 in /usr/local/lib/python3.7/dist-packages (from requests<3,>=2.20.0->mxnet) (1.24.3)\n"
          ]
        }
      ]
    },
    {
      "cell_type": "code",
      "metadata": {
        "id": "qjWGHZjhlWe4"
      },
      "source": [
        "dataset_nasa = pd.read_csv('DOE-551-600-10DU-01_1.csv')"
      ],
      "execution_count": 6,
      "outputs": []
    },
    {
      "cell_type": "code",
      "metadata": {
        "colab": {
          "base_uri": "https://localhost:8080/",
          "height": 437
        },
        "id": "SLR52rSMVomO",
        "outputId": "1bcaf384-de3b-4bba-a6a4-843ea4d1a080"
      },
      "source": [
        "dataset_nasa\n"
      ],
      "execution_count": 7,
      "outputs": [
        {
          "output_type": "execute_result",
          "data": {
            "text/html": [
              "<div>\n",
              "<style scoped>\n",
              "    .dataframe tbody tr th:only-of-type {\n",
              "        vertical-align: middle;\n",
              "    }\n",
              "\n",
              "    .dataframe tbody tr th {\n",
              "        vertical-align: top;\n",
              "    }\n",
              "\n",
              "    .dataframe thead th {\n",
              "        text-align: right;\n",
              "    }\n",
              "</style>\n",
              "<table border=\"1\" class=\"dataframe\">\n",
              "  <thead>\n",
              "    <tr style=\"text-align: right;\">\n",
              "      <th></th>\n",
              "      <th>index</th>\n",
              "      <th>Test_Time</th>\n",
              "      <th>Step_Time(s)</th>\n",
              "      <th>Cycle_Index</th>\n",
              "      <th>Step_Index</th>\n",
              "      <th>Voltage</th>\n",
              "      <th>Test_Time(s)</th>\n",
              "      <th>Step_Time(s).1</th>\n",
              "      <th>Cycle_Index.1</th>\n",
              "      <th>Step_Index.1</th>\n",
              "      <th>Current</th>\n",
              "      <th>Test_Time(s).1</th>\n",
              "      <th>Step_Time(s).2</th>\n",
              "      <th>Cycle_Index.2</th>\n",
              "      <th>Step_Index.2</th>\n",
              "      <th>Charge_Capacity</th>\n",
              "      <th>Test_Time(s).2</th>\n",
              "      <th>Step_Time(s).3</th>\n",
              "      <th>Cycle_Index.3</th>\n",
              "      <th>Step_Index.3</th>\n",
              "      <th>Discharge_Capacity</th>\n",
              "    </tr>\n",
              "  </thead>\n",
              "  <tbody>\n",
              "    <tr>\n",
              "      <th>0</th>\n",
              "      <td>0</td>\n",
              "      <td>120.001100</td>\n",
              "      <td>120.0010</td>\n",
              "      <td>1</td>\n",
              "      <td>1</td>\n",
              "      <td>3.575560</td>\n",
              "      <td>120.001100</td>\n",
              "      <td>120.0010</td>\n",
              "      <td>1</td>\n",
              "      <td>1</td>\n",
              "      <td>0.000000</td>\n",
              "      <td>120.001100</td>\n",
              "      <td>120.0010</td>\n",
              "      <td>1</td>\n",
              "      <td>1</td>\n",
              "      <td>0.000000</td>\n",
              "      <td>120.001100</td>\n",
              "      <td>120.0010</td>\n",
              "      <td>1</td>\n",
              "      <td>1</td>\n",
              "      <td>0.000000</td>\n",
              "    </tr>\n",
              "    <tr>\n",
              "      <th>1</th>\n",
              "      <td>1</td>\n",
              "      <td>240.004000</td>\n",
              "      <td>240.0039</td>\n",
              "      <td>1</td>\n",
              "      <td>1</td>\n",
              "      <td>3.575512</td>\n",
              "      <td>240.004000</td>\n",
              "      <td>240.0039</td>\n",
              "      <td>1</td>\n",
              "      <td>1</td>\n",
              "      <td>0.000000</td>\n",
              "      <td>240.004000</td>\n",
              "      <td>240.0039</td>\n",
              "      <td>1</td>\n",
              "      <td>1</td>\n",
              "      <td>0.000000</td>\n",
              "      <td>240.004000</td>\n",
              "      <td>240.0039</td>\n",
              "      <td>1</td>\n",
              "      <td>1</td>\n",
              "      <td>0.000000</td>\n",
              "    </tr>\n",
              "    <tr>\n",
              "      <th>2</th>\n",
              "      <td>2</td>\n",
              "      <td>360.002300</td>\n",
              "      <td>360.0022</td>\n",
              "      <td>1</td>\n",
              "      <td>1</td>\n",
              "      <td>3.577263</td>\n",
              "      <td>360.002300</td>\n",
              "      <td>360.0022</td>\n",
              "      <td>1</td>\n",
              "      <td>1</td>\n",
              "      <td>0.000000</td>\n",
              "      <td>360.002300</td>\n",
              "      <td>360.0022</td>\n",
              "      <td>1</td>\n",
              "      <td>1</td>\n",
              "      <td>0.000000</td>\n",
              "      <td>360.002300</td>\n",
              "      <td>360.0022</td>\n",
              "      <td>1</td>\n",
              "      <td>1</td>\n",
              "      <td>0.000000</td>\n",
              "    </tr>\n",
              "    <tr>\n",
              "      <th>3</th>\n",
              "      <td>3</td>\n",
              "      <td>480.004900</td>\n",
              "      <td>480.0048</td>\n",
              "      <td>1</td>\n",
              "      <td>1</td>\n",
              "      <td>3.578959</td>\n",
              "      <td>480.004900</td>\n",
              "      <td>480.0048</td>\n",
              "      <td>1</td>\n",
              "      <td>1</td>\n",
              "      <td>0.000000</td>\n",
              "      <td>480.004900</td>\n",
              "      <td>480.0048</td>\n",
              "      <td>1</td>\n",
              "      <td>1</td>\n",
              "      <td>0.000000</td>\n",
              "      <td>480.004900</td>\n",
              "      <td>480.0048</td>\n",
              "      <td>1</td>\n",
              "      <td>1</td>\n",
              "      <td>0.000000</td>\n",
              "    </tr>\n",
              "    <tr>\n",
              "      <th>4</th>\n",
              "      <td>4</td>\n",
              "      <td>600.005800</td>\n",
              "      <td>600.0057</td>\n",
              "      <td>1</td>\n",
              "      <td>1</td>\n",
              "      <td>3.579659</td>\n",
              "      <td>600.005800</td>\n",
              "      <td>600.0057</td>\n",
              "      <td>1</td>\n",
              "      <td>1</td>\n",
              "      <td>0.000000</td>\n",
              "      <td>600.005800</td>\n",
              "      <td>600.0057</td>\n",
              "      <td>1</td>\n",
              "      <td>1</td>\n",
              "      <td>0.000000</td>\n",
              "      <td>600.005800</td>\n",
              "      <td>600.0057</td>\n",
              "      <td>1</td>\n",
              "      <td>1</td>\n",
              "      <td>0.000000</td>\n",
              "    </tr>\n",
              "    <tr>\n",
              "      <th>...</th>\n",
              "      <td>...</td>\n",
              "      <td>...</td>\n",
              "      <td>...</td>\n",
              "      <td>...</td>\n",
              "      <td>...</td>\n",
              "      <td>...</td>\n",
              "      <td>...</td>\n",
              "      <td>...</td>\n",
              "      <td>...</td>\n",
              "      <td>...</td>\n",
              "      <td>...</td>\n",
              "      <td>...</td>\n",
              "      <td>...</td>\n",
              "      <td>...</td>\n",
              "      <td>...</td>\n",
              "      <td>...</td>\n",
              "      <td>...</td>\n",
              "      <td>...</td>\n",
              "      <td>...</td>\n",
              "      <td>...</td>\n",
              "      <td>...</td>\n",
              "    </tr>\n",
              "    <tr>\n",
              "      <th>3976</th>\n",
              "      <td>3976</td>\n",
              "      <td>461127.552312</td>\n",
              "      <td>120.0001</td>\n",
              "      <td>50</td>\n",
              "      <td>6</td>\n",
              "      <td>3.611401</td>\n",
              "      <td>461127.552312</td>\n",
              "      <td>120.0001</td>\n",
              "      <td>50</td>\n",
              "      <td>6</td>\n",
              "      <td>0.000000</td>\n",
              "      <td>461127.552312</td>\n",
              "      <td>120.0001</td>\n",
              "      <td>50</td>\n",
              "      <td>6</td>\n",
              "      <td>2.450970</td>\n",
              "      <td>461127.552312</td>\n",
              "      <td>120.0001</td>\n",
              "      <td>50</td>\n",
              "      <td>6</td>\n",
              "      <td>2.449697</td>\n",
              "    </tr>\n",
              "    <tr>\n",
              "      <th>3977</th>\n",
              "      <td>3977</td>\n",
              "      <td>461247.553112</td>\n",
              "      <td>240.0009</td>\n",
              "      <td>50</td>\n",
              "      <td>6</td>\n",
              "      <td>3.644613</td>\n",
              "      <td>461247.553112</td>\n",
              "      <td>240.0009</td>\n",
              "      <td>50</td>\n",
              "      <td>6</td>\n",
              "      <td>0.000000</td>\n",
              "      <td>461247.553112</td>\n",
              "      <td>240.0009</td>\n",
              "      <td>50</td>\n",
              "      <td>6</td>\n",
              "      <td>2.450970</td>\n",
              "      <td>461247.553112</td>\n",
              "      <td>240.0009</td>\n",
              "      <td>50</td>\n",
              "      <td>6</td>\n",
              "      <td>2.449697</td>\n",
              "    </tr>\n",
              "    <tr>\n",
              "      <th>3978</th>\n",
              "      <td>3978</td>\n",
              "      <td>461307.554012</td>\n",
              "      <td>300.0018</td>\n",
              "      <td>50</td>\n",
              "      <td>6</td>\n",
              "      <td>3.652942</td>\n",
              "      <td>461307.554012</td>\n",
              "      <td>300.0018</td>\n",
              "      <td>50</td>\n",
              "      <td>6</td>\n",
              "      <td>0.000000</td>\n",
              "      <td>461307.554012</td>\n",
              "      <td>300.0018</td>\n",
              "      <td>50</td>\n",
              "      <td>6</td>\n",
              "      <td>2.450970</td>\n",
              "      <td>461307.554012</td>\n",
              "      <td>300.0018</td>\n",
              "      <td>50</td>\n",
              "      <td>6</td>\n",
              "      <td>2.449697</td>\n",
              "    </tr>\n",
              "    <tr>\n",
              "      <th>3979</th>\n",
              "      <td>3979</td>\n",
              "      <td>461427.643156</td>\n",
              "      <td>120.0016</td>\n",
              "      <td>51</td>\n",
              "      <td>8</td>\n",
              "      <td>4.190305</td>\n",
              "      <td>461427.643156</td>\n",
              "      <td>120.0016</td>\n",
              "      <td>51</td>\n",
              "      <td>8</td>\n",
              "      <td>3.260095</td>\n",
              "      <td>461427.643156</td>\n",
              "      <td>120.0016</td>\n",
              "      <td>51</td>\n",
              "      <td>8</td>\n",
              "      <td>0.108668</td>\n",
              "      <td>461427.643156</td>\n",
              "      <td>120.0016</td>\n",
              "      <td>51</td>\n",
              "      <td>8</td>\n",
              "      <td>0.000000</td>\n",
              "    </tr>\n",
              "    <tr>\n",
              "      <th>3980</th>\n",
              "      <td>3980</td>\n",
              "      <td>461454.644456</td>\n",
              "      <td>147.0029</td>\n",
              "      <td>51</td>\n",
              "      <td>8</td>\n",
              "      <td>4.200005</td>\n",
              "      <td>461454.644456</td>\n",
              "      <td>147.0029</td>\n",
              "      <td>51</td>\n",
              "      <td>8</td>\n",
              "      <td>3.260119</td>\n",
              "      <td>461454.644456</td>\n",
              "      <td>147.0029</td>\n",
              "      <td>51</td>\n",
              "      <td>8</td>\n",
              "      <td>0.133123</td>\n",
              "      <td>461454.644456</td>\n",
              "      <td>147.0029</td>\n",
              "      <td>51</td>\n",
              "      <td>8</td>\n",
              "      <td>0.000000</td>\n",
              "    </tr>\n",
              "  </tbody>\n",
              "</table>\n",
              "<p>3981 rows × 21 columns</p>\n",
              "</div>"
            ],
            "text/plain": [
              "      index      Test_Time  ...  Step_Index.3  Discharge_Capacity\n",
              "0         0     120.001100  ...             1            0.000000\n",
              "1         1     240.004000  ...             1            0.000000\n",
              "2         2     360.002300  ...             1            0.000000\n",
              "3         3     480.004900  ...             1            0.000000\n",
              "4         4     600.005800  ...             1            0.000000\n",
              "...     ...            ...  ...           ...                 ...\n",
              "3976   3976  461127.552312  ...             6            2.449697\n",
              "3977   3977  461247.553112  ...             6            2.449697\n",
              "3978   3978  461307.554012  ...             6            2.449697\n",
              "3979   3979  461427.643156  ...             8            0.000000\n",
              "3980   3980  461454.644456  ...             8            0.000000\n",
              "\n",
              "[3981 rows x 21 columns]"
            ]
          },
          "metadata": {},
          "execution_count": 7
        }
      ]
    },
    {
      "cell_type": "code",
      "metadata": {
        "id": "wwAaq-AO4AKS"
      },
      "source": [
        "df = pd.DataFrame(dataset_nasa)\n",
        "cols = [0,20]\n",
        "df = df[df.columns[cols]]"
      ],
      "execution_count": 9,
      "outputs": []
    },
    {
      "cell_type": "code",
      "metadata": {
        "colab": {
          "base_uri": "https://localhost:8080/",
          "height": 417
        },
        "id": "4ss0ApIz4AWr",
        "outputId": "3daa94f3-2cc3-4506-a3b4-a42977ea8f53"
      },
      "source": [
        "df"
      ],
      "execution_count": 10,
      "outputs": [
        {
          "output_type": "execute_result",
          "data": {
            "text/html": [
              "<div>\n",
              "<style scoped>\n",
              "    .dataframe tbody tr th:only-of-type {\n",
              "        vertical-align: middle;\n",
              "    }\n",
              "\n",
              "    .dataframe tbody tr th {\n",
              "        vertical-align: top;\n",
              "    }\n",
              "\n",
              "    .dataframe thead th {\n",
              "        text-align: right;\n",
              "    }\n",
              "</style>\n",
              "<table border=\"1\" class=\"dataframe\">\n",
              "  <thead>\n",
              "    <tr style=\"text-align: right;\">\n",
              "      <th></th>\n",
              "      <th>index</th>\n",
              "      <th>Discharge_Capacity</th>\n",
              "    </tr>\n",
              "  </thead>\n",
              "  <tbody>\n",
              "    <tr>\n",
              "      <th>0</th>\n",
              "      <td>0</td>\n",
              "      <td>0.000000</td>\n",
              "    </tr>\n",
              "    <tr>\n",
              "      <th>1</th>\n",
              "      <td>1</td>\n",
              "      <td>0.000000</td>\n",
              "    </tr>\n",
              "    <tr>\n",
              "      <th>2</th>\n",
              "      <td>2</td>\n",
              "      <td>0.000000</td>\n",
              "    </tr>\n",
              "    <tr>\n",
              "      <th>3</th>\n",
              "      <td>3</td>\n",
              "      <td>0.000000</td>\n",
              "    </tr>\n",
              "    <tr>\n",
              "      <th>4</th>\n",
              "      <td>4</td>\n",
              "      <td>0.000000</td>\n",
              "    </tr>\n",
              "    <tr>\n",
              "      <th>...</th>\n",
              "      <td>...</td>\n",
              "      <td>...</td>\n",
              "    </tr>\n",
              "    <tr>\n",
              "      <th>3976</th>\n",
              "      <td>3976</td>\n",
              "      <td>2.449697</td>\n",
              "    </tr>\n",
              "    <tr>\n",
              "      <th>3977</th>\n",
              "      <td>3977</td>\n",
              "      <td>2.449697</td>\n",
              "    </tr>\n",
              "    <tr>\n",
              "      <th>3978</th>\n",
              "      <td>3978</td>\n",
              "      <td>2.449697</td>\n",
              "    </tr>\n",
              "    <tr>\n",
              "      <th>3979</th>\n",
              "      <td>3979</td>\n",
              "      <td>0.000000</td>\n",
              "    </tr>\n",
              "    <tr>\n",
              "      <th>3980</th>\n",
              "      <td>3980</td>\n",
              "      <td>0.000000</td>\n",
              "    </tr>\n",
              "  </tbody>\n",
              "</table>\n",
              "<p>3981 rows × 2 columns</p>\n",
              "</div>"
            ],
            "text/plain": [
              "      index  Discharge_Capacity\n",
              "0         0            0.000000\n",
              "1         1            0.000000\n",
              "2         2            0.000000\n",
              "3         3            0.000000\n",
              "4         4            0.000000\n",
              "...     ...                 ...\n",
              "3976   3976            2.449697\n",
              "3977   3977            2.449697\n",
              "3978   3978            2.449697\n",
              "3979   3979            0.000000\n",
              "3980   3980            0.000000\n",
              "\n",
              "[3981 rows x 2 columns]"
            ]
          },
          "metadata": {},
          "execution_count": 10
        }
      ]
    },
    {
      "cell_type": "code",
      "metadata": {
        "id": "T807dGEGdGOF"
      },
      "source": [
        "df1 = df.to_numpy()"
      ],
      "execution_count": 11,
      "outputs": []
    },
    {
      "cell_type": "code",
      "metadata": {
        "id": "LODZWZeYkh2n"
      },
      "source": [
        "train_size = int(len(df1)*0.8)\n",
        "test_size = len(df1) - train_size\n",
        "train = df1[1:train_size,:]\n",
        "test = df1[train_size:len(df1)]"
      ],
      "execution_count": 12,
      "outputs": []
    },
    {
      "cell_type": "code",
      "metadata": {
        "colab": {
          "base_uri": "https://localhost:8080/"
        },
        "id": "AWeTV_6qgxIV",
        "outputId": "96797e10-c811-461a-a1f5-dac6dc74816c"
      },
      "source": [
        "train_size"
      ],
      "execution_count": 13,
      "outputs": [
        {
          "output_type": "execute_result",
          "data": {
            "text/plain": [
              "3184"
            ]
          },
          "metadata": {},
          "execution_count": 13
        }
      ]
    },
    {
      "cell_type": "code",
      "metadata": {
        "id": "KeMJFvQ0U3Z6"
      },
      "source": [
        "train_set = pd.DataFrame(train)"
      ],
      "execution_count": 14,
      "outputs": []
    },
    {
      "cell_type": "code",
      "metadata": {
        "colab": {
          "base_uri": "https://localhost:8080/",
          "height": 417
        },
        "id": "WETL8vj3d6zz",
        "outputId": "0e3e1350-a5fd-4d80-eb75-75a3865d9e88"
      },
      "source": [
        "train_set"
      ],
      "execution_count": 15,
      "outputs": [
        {
          "output_type": "execute_result",
          "data": {
            "text/html": [
              "<div>\n",
              "<style scoped>\n",
              "    .dataframe tbody tr th:only-of-type {\n",
              "        vertical-align: middle;\n",
              "    }\n",
              "\n",
              "    .dataframe tbody tr th {\n",
              "        vertical-align: top;\n",
              "    }\n",
              "\n",
              "    .dataframe thead th {\n",
              "        text-align: right;\n",
              "    }\n",
              "</style>\n",
              "<table border=\"1\" class=\"dataframe\">\n",
              "  <thead>\n",
              "    <tr style=\"text-align: right;\">\n",
              "      <th></th>\n",
              "      <th>0</th>\n",
              "      <th>1</th>\n",
              "    </tr>\n",
              "  </thead>\n",
              "  <tbody>\n",
              "    <tr>\n",
              "      <th>0</th>\n",
              "      <td>1.0</td>\n",
              "      <td>0.000000</td>\n",
              "    </tr>\n",
              "    <tr>\n",
              "      <th>1</th>\n",
              "      <td>2.0</td>\n",
              "      <td>0.000000</td>\n",
              "    </tr>\n",
              "    <tr>\n",
              "      <th>2</th>\n",
              "      <td>3.0</td>\n",
              "      <td>0.000000</td>\n",
              "    </tr>\n",
              "    <tr>\n",
              "      <th>3</th>\n",
              "      <td>4.0</td>\n",
              "      <td>0.000000</td>\n",
              "    </tr>\n",
              "    <tr>\n",
              "      <th>4</th>\n",
              "      <td>5.0</td>\n",
              "      <td>0.000000</td>\n",
              "    </tr>\n",
              "    <tr>\n",
              "      <th>...</th>\n",
              "      <td>...</td>\n",
              "      <td>...</td>\n",
              "    </tr>\n",
              "    <tr>\n",
              "      <th>3178</th>\n",
              "      <td>3179.0</td>\n",
              "      <td>2.053876</td>\n",
              "    </tr>\n",
              "    <tr>\n",
              "      <th>3179</th>\n",
              "      <td>3180.0</td>\n",
              "      <td>2.129921</td>\n",
              "    </tr>\n",
              "    <tr>\n",
              "      <th>3180</th>\n",
              "      <td>3181.0</td>\n",
              "      <td>2.206009</td>\n",
              "    </tr>\n",
              "    <tr>\n",
              "      <th>3181</th>\n",
              "      <td>3182.0</td>\n",
              "      <td>2.282089</td>\n",
              "    </tr>\n",
              "    <tr>\n",
              "      <th>3182</th>\n",
              "      <td>3183.0</td>\n",
              "      <td>2.358074</td>\n",
              "    </tr>\n",
              "  </tbody>\n",
              "</table>\n",
              "<p>3183 rows × 2 columns</p>\n",
              "</div>"
            ],
            "text/plain": [
              "           0         1\n",
              "0        1.0  0.000000\n",
              "1        2.0  0.000000\n",
              "2        3.0  0.000000\n",
              "3        4.0  0.000000\n",
              "4        5.0  0.000000\n",
              "...      ...       ...\n",
              "3178  3179.0  2.053876\n",
              "3179  3180.0  2.129921\n",
              "3180  3181.0  2.206009\n",
              "3181  3182.0  2.282089\n",
              "3182  3183.0  2.358074\n",
              "\n",
              "[3183 rows x 2 columns]"
            ]
          },
          "metadata": {},
          "execution_count": 15
        }
      ]
    },
    {
      "cell_type": "code",
      "metadata": {
        "id": "5g-dEeBseFAS"
      },
      "source": [
        "test_set = pd.DataFrame(test)"
      ],
      "execution_count": 16,
      "outputs": []
    },
    {
      "cell_type": "code",
      "metadata": {
        "colab": {
          "base_uri": "https://localhost:8080/",
          "height": 417
        },
        "id": "T3rDI_yxeKmE",
        "outputId": "eacccb15-0d3e-4f94-f41b-af6ca99b3f24"
      },
      "source": [
        "test_set"
      ],
      "execution_count": 17,
      "outputs": [
        {
          "output_type": "execute_result",
          "data": {
            "text/html": [
              "<div>\n",
              "<style scoped>\n",
              "    .dataframe tbody tr th:only-of-type {\n",
              "        vertical-align: middle;\n",
              "    }\n",
              "\n",
              "    .dataframe tbody tr th {\n",
              "        vertical-align: top;\n",
              "    }\n",
              "\n",
              "    .dataframe thead th {\n",
              "        text-align: right;\n",
              "    }\n",
              "</style>\n",
              "<table border=\"1\" class=\"dataframe\">\n",
              "  <thead>\n",
              "    <tr style=\"text-align: right;\">\n",
              "      <th></th>\n",
              "      <th>0</th>\n",
              "      <th>1</th>\n",
              "    </tr>\n",
              "  </thead>\n",
              "  <tbody>\n",
              "    <tr>\n",
              "      <th>0</th>\n",
              "      <td>3184.0</td>\n",
              "      <td>2.434215</td>\n",
              "    </tr>\n",
              "    <tr>\n",
              "      <th>1</th>\n",
              "      <td>3185.0</td>\n",
              "      <td>2.454405</td>\n",
              "    </tr>\n",
              "    <tr>\n",
              "      <th>2</th>\n",
              "      <td>3186.0</td>\n",
              "      <td>2.454449</td>\n",
              "    </tr>\n",
              "    <tr>\n",
              "      <th>3</th>\n",
              "      <td>3187.0</td>\n",
              "      <td>2.454449</td>\n",
              "    </tr>\n",
              "    <tr>\n",
              "      <th>4</th>\n",
              "      <td>3188.0</td>\n",
              "      <td>2.454449</td>\n",
              "    </tr>\n",
              "    <tr>\n",
              "      <th>...</th>\n",
              "      <td>...</td>\n",
              "      <td>...</td>\n",
              "    </tr>\n",
              "    <tr>\n",
              "      <th>792</th>\n",
              "      <td>3976.0</td>\n",
              "      <td>2.449697</td>\n",
              "    </tr>\n",
              "    <tr>\n",
              "      <th>793</th>\n",
              "      <td>3977.0</td>\n",
              "      <td>2.449697</td>\n",
              "    </tr>\n",
              "    <tr>\n",
              "      <th>794</th>\n",
              "      <td>3978.0</td>\n",
              "      <td>2.449697</td>\n",
              "    </tr>\n",
              "    <tr>\n",
              "      <th>795</th>\n",
              "      <td>3979.0</td>\n",
              "      <td>0.000000</td>\n",
              "    </tr>\n",
              "    <tr>\n",
              "      <th>796</th>\n",
              "      <td>3980.0</td>\n",
              "      <td>0.000000</td>\n",
              "    </tr>\n",
              "  </tbody>\n",
              "</table>\n",
              "<p>797 rows × 2 columns</p>\n",
              "</div>"
            ],
            "text/plain": [
              "          0         1\n",
              "0    3184.0  2.434215\n",
              "1    3185.0  2.454405\n",
              "2    3186.0  2.454449\n",
              "3    3187.0  2.454449\n",
              "4    3188.0  2.454449\n",
              "..      ...       ...\n",
              "792  3976.0  2.449697\n",
              "793  3977.0  2.449697\n",
              "794  3978.0  2.449697\n",
              "795  3979.0  0.000000\n",
              "796  3980.0  0.000000\n",
              "\n",
              "[797 rows x 2 columns]"
            ]
          },
          "metadata": {},
          "execution_count": 17
        }
      ]
    },
    {
      "cell_type": "code",
      "metadata": {
        "colab": {
          "base_uri": "https://localhost:8080/"
        },
        "id": "f1the1T5EOmc",
        "outputId": "ca3d6f30-781e-4f6a-8b81-d8b37a493e6a"
      },
      "source": [
        "df.columns"
      ],
      "execution_count": 18,
      "outputs": [
        {
          "output_type": "execute_result",
          "data": {
            "text/plain": [
              "Index(['index', 'Discharge_Capacity'], dtype='object')"
            ]
          },
          "metadata": {},
          "execution_count": 18
        }
      ]
    },
    {
      "cell_type": "code",
      "metadata": {
        "id": "0_YxlE0XdCjP"
      },
      "source": [
        "df_input = df[['index','Discharge_Capacity']]"
      ],
      "execution_count": 19,
      "outputs": []
    },
    {
      "cell_type": "code",
      "metadata": {
        "id": "Dlc4FnMDdCn0"
      },
      "source": [
        "df_input = df_input.set_index('index')"
      ],
      "execution_count": 20,
      "outputs": []
    },
    {
      "cell_type": "code",
      "metadata": {
        "id": "sIOGFPUXfl8N"
      },
      "source": [
        "train_time = 949\n",
        "prediction_length = 949\n",
        "freq = \"2min\""
      ],
      "execution_count": 21,
      "outputs": []
    },
    {
      "cell_type": "code",
      "metadata": {
        "id": "bIOdz6aNfl_E"
      },
      "source": [
        "from gluonts.dataset.common import ListDataset\n",
        "train_data = ListDataset(\n",
        "    [{\"start\": df_input.index[0], \"target\": df_input.Discharge_Capacity[:train_time] }],\n",
        "    freq = \"2min\"\n",
        ")"
      ],
      "execution_count": 22,
      "outputs": []
    },
    {
      "cell_type": "code",
      "metadata": {
        "colab": {
          "base_uri": "https://localhost:8080/",
          "height": 289
        },
        "id": "o3VEMuGqfmCj",
        "outputId": "95d25a1a-11c4-41e3-d0e0-23cb8b0637df"
      },
      "source": [
        "entry = next(iter(train_data))\n",
        "train_series = to_pandas(entry)\n",
        "train_series.plot()\n",
        "plt.grid(which=\"both\")\n",
        "plt.legend([\"train series\"], loc=\"upper left\")\n",
        "plt.savefig(\"fig1.pdf\",bbox_inches=\"tight\")\n",
        "plt.show()"
      ],
      "execution_count": 23,
      "outputs": [
        {
          "output_type": "display_data",
          "data": {
            "image/png": "[encoded data removed]",
            "text/plain": [
              "<Figure size 432x288 with 1 Axes>"
            ]
          },
          "metadata": {
            "needs_background": "light"
          }
        }
      ]
    },
    {
      "cell_type": "code",
      "metadata": {
        "id": "NegtiuLcvLWF"
      },
      "source": [
        "test_data = ListDataset(\n",
        "    [{\"start\": df_input.index[0], \"target\": df_input.Discharge_Capacity[:]}],\n",
        "    freq = \"2min\"\n",
        ")"
      ],
      "execution_count": 25,
      "outputs": []
    },
    {
      "cell_type": "code",
      "metadata": {
        "colab": {
          "base_uri": "https://localhost:8080/",
          "height": 289
        },
        "id": "8qkov_uhfmIF",
        "outputId": "1a433d4d-72b9-4226-d0f0-78eb32a4c88e"
      },
      "source": [
        "entry = next(iter(test_data))\n",
        "test_series = to_pandas(entry)\n",
        "test_series.plot()\n",
        "plt.axvline(train_series.index[-1], color='r') # end of train dataset\n",
        "plt.grid(which=\"both\")\n",
        "plt.legend([\"test series\", \"end of train series\"], loc=\"upper left\")\n",
        "plt.savefig(\"fig2.pdf\",bbox_inches=\"tight\")\n",
        "plt.show()"
      ],
      "execution_count": 26,
      "outputs": [
        {
          "output_type": "display_data",
          "data": {
            "image/png": "[encoded data removed]",
            "text/plain": [
              "<Figure size 432x288 with 1 Axes>"
            ]
          },
          "metadata": {
            "needs_background": "light"
          }
        }
      ]
    },
    {
      "cell_type": "code",
      "metadata": {
        "colab": {
          "base_uri": "https://localhost:8080/"
        },
        "id": "QhoWe6rawAZv",
        "outputId": "81392f37-d3c6-4643-d714-70d7a8865970"
      },
      "source": [
        "print(f\"Length of forecasting window in test dataset:{len(test_series)-len(train_series)}\")\n",
        "print(f\"Frequency of the time series:{freq}\")"
      ],
      "execution_count": 27,
      "outputs": [
        {
          "output_type": "stream",
          "name": "stdout",
          "text": [
            "Length of forecasting window in test dataset:3032\n",
            "Frequency of the time series:2min\n"
          ]
        }
      ]
    },
    {
      "cell_type": "code",
      "metadata": {
        "id": "2CvnPKD6wAb2"
      },
      "source": [
        "from gluonts.model.simple_feedforward import SimpleFeedForwardEstimator\n",
        "from gluonts.mx.trainer import Trainer"
      ],
      "execution_count": 28,
      "outputs": []
    },
    {
      "cell_type": "code",
      "metadata": {
        "id": "pdmsiYrRwAer"
      },
      "source": [
        "estimator = SimpleFeedForwardEstimator(\n",
        "    num_hidden_dimensions=[10],\n",
        "    prediction_length=250,\n",
        "    context_length=50,\n",
        "    freq=\"2min\",\n",
        "    trainer=Trainer(ctx=\"cpu\", \n",
        "                    epochs=5, \n",
        "                    learning_rate=1e-3, \n",
        "                    num_batches_per_epoch=100\n",
        "                   )\n",
        ")"
      ],
      "execution_count": 29,
      "outputs": []
    },
    {
      "cell_type": "code",
      "metadata": {
        "colab": {
          "base_uri": "https://localhost:8080/"
        },
        "id": "NhL0nVskwAjS",
        "outputId": "f10f4293-4328-4d5f-878a-38b05a40f281"
      },
      "source": [
        "predictor = estimator.train(train_data)"
      ],
      "execution_count": 30,
      "outputs": [
        {
          "output_type": "stream",
          "name": "stderr",
          "text": [
            "100%|██████████| 100/100 [00:01<00:00, 75.06it/s, epoch=1/5, avg_epoch_loss=0.853]\n",
            "100%|██████████| 100/100 [00:01<00:00, 79.62it/s, epoch=2/5, avg_epoch_loss=0.104]\n",
            "100%|██████████| 100/100 [00:01<00:00, 78.35it/s, epoch=3/5, avg_epoch_loss=-.131]\n",
            "100%|██████████| 100/100 [00:01<00:00, 80.95it/s, epoch=4/5, avg_epoch_loss=-.311]\n",
            "100%|██████████| 100/100 [00:01<00:00, 81.34it/s, epoch=5/5, avg_epoch_loss=-.385]\n"
          ]
        }
      ]
    },
    {
      "cell_type": "code",
      "metadata": {
        "id": "CASb7jv6_CEd"
      },
      "source": [
        "from gluonts.evaluation.backtest import make_evaluation_predictions"
      ],
      "execution_count": 31,
      "outputs": []
    },
    {
      "cell_type": "code",
      "metadata": {
        "id": "4BL7I1rL_CGo"
      },
      "source": [
        "forecast_it, ts_it = make_evaluation_predictions(\n",
        "    dataset=test_data,  # test dataset\n",
        "    predictor=predictor,  # predictor\n",
        "    num_samples=500,  # number of sample paths we want for evaluation 100\n",
        ")"
      ],
      "execution_count": 32,
      "outputs": []
    },
    {
      "cell_type": "code",
      "metadata": {
        "id": "DOjSmzsT_CJt"
      },
      "source": [
        "forecasts = list(forecast_it)\n",
        "tss = list(ts_it)"
      ],
      "execution_count": 33,
      "outputs": []
    },
    {
      "cell_type": "code",
      "metadata": {
        "id": "Mer7dfY1_CMZ"
      },
      "source": [
        "# first entry of the time series list\n",
        "ts_entry = tss[0]"
      ],
      "execution_count": 34,
      "outputs": []
    },
    {
      "cell_type": "code",
      "metadata": {
        "colab": {
          "base_uri": "https://localhost:8080/"
        },
        "id": "b-8-7Jfg_CO9",
        "outputId": "d5fcc993-9e83-4a9c-c44a-b5bdaba23247"
      },
      "source": [
        "# first 5 values of the time series (convert from pandas to numpy)\n",
        "np.array(ts_entry[:5]).reshape(-1,)"
      ],
      "execution_count": 35,
      "outputs": [
        {
          "output_type": "execute_result",
          "data": {
            "text/plain": [
              "array([0., 0., 0., 0., 0.], dtype=float32)"
            ]
          },
          "metadata": {},
          "execution_count": 35
        }
      ]
    },
    {
      "cell_type": "code",
      "metadata": {
        "id": "QXz60jpG_CR6"
      },
      "source": [
        "# first entry of dataset.test\n",
        "dataset_test_entry = next(iter(test_data))"
      ],
      "execution_count": 36,
      "outputs": []
    },
    {
      "cell_type": "code",
      "metadata": {
        "colab": {
          "base_uri": "https://localhost:8080/"
        },
        "id": "tXHfQ2D4_CU0",
        "outputId": "dd4b6178-314a-4e11-9f46-3792f992a725"
      },
      "source": [
        "# first 5 values\n",
        "dataset_test_entry['target'][:5]"
      ],
      "execution_count": 37,
      "outputs": [
        {
          "output_type": "execute_result",
          "data": {
            "text/plain": [
              "array([0., 0., 0., 0., 0.], dtype=float32)"
            ]
          },
          "metadata": {},
          "execution_count": 37
        }
      ]
    },
    {
      "cell_type": "code",
      "metadata": {
        "id": "zqkSt771_CW-"
      },
      "source": [
        "# first entry of the forecast list\n",
        "forecast_entry = forecasts[0]"
      ],
      "execution_count": 38,
      "outputs": []
    },
    {
      "cell_type": "code",
      "metadata": {
        "colab": {
          "base_uri": "https://localhost:8080/"
        },
        "id": "wp5tTd8z_CZt",
        "outputId": "7651415b-5f45-4505-9512-54c61a1ec120"
      },
      "source": [
        "print(f\"Number of sample paths: {forecast_entry.num_samples}\")\n",
        "print(f\"Dimension of samples: {forecast_entry.samples.shape}\")\n",
        "print(f\"Start date of the forecast window: {forecast_entry.start_date}\")\n",
        "print(f\"Frequency of the time series: {forecast_entry.freq}\")"
      ],
      "execution_count": 39,
      "outputs": [
        {
          "output_type": "stream",
          "name": "stdout",
          "text": [
            "Number of sample paths: 500\n",
            "Dimension of samples: (500, 250)\n",
            "Start date of the forecast window: 1970-01-06 04:22:00\n",
            "Frequency of the time series: 2min\n"
          ]
        }
      ]
    },
    {
      "cell_type": "code",
      "metadata": {
        "colab": {
          "base_uri": "https://localhost:8080/"
        },
        "id": "GvKJYScF_CdO",
        "outputId": "cd93f789-eab9-4698-ce78-c68362238e0b"
      },
      "source": [
        "print(f\"Mean of the future window:\\n {forecast_entry.mean}\")\n",
        "print(f\"0.5-quantile (median) of the future window:\\n {forecast_entry.quantile(0.5)}\")"
      ],
      "execution_count": 40,
      "outputs": [
        {
          "output_type": "stream",
          "name": "stdout",
          "text": [
            "Mean of the future window:\n",
            " [ 2.05205536e+00  1.95103049e+00  2.08023024e+00  2.27497554e+00\n",
            "  1.96389925e+00  1.60142708e+00  1.00121415e+00  1.07020509e+00\n",
            "  3.98331821e-01  2.64648318e-01  9.79315519e-01  2.76391834e-01\n",
            " -2.24537775e-02  1.71252340e-01  8.89422148e-02  1.02998510e-01\n",
            "  8.38429332e-02  1.52294263e-02  1.08401608e-02  2.57823486e-02\n",
            " -4.77167889e-02  1.67815927e-02  2.29330771e-02  2.13811528e-02\n",
            "  6.17569080e-03  1.61084346e-02 -1.82502791e-02 -1.37526705e-03\n",
            "  1.04577572e-03 -5.76140359e-03  1.63273551e-02  1.63255855e-02\n",
            "  2.25790553e-02 -1.14495039e-03 -1.48807280e-03  2.07823073e-03\n",
            " -1.28919641e-02 -2.24432582e-03 -1.15615753e-02  1.63501967e-02\n",
            "  1.17916390e-02 -8.15833174e-03  1.24645904e-02 -3.70196113e-03\n",
            " -3.38650099e-03  1.50257517e-02  6.45495253e-03  1.85807198e-02\n",
            " -1.17190816e-02 -7.79392198e-03  1.19092334e-02  1.95462015e-02\n",
            "  2.58682277e-02  7.49498382e-02  1.35908484e-01  2.04426080e-01\n",
            "  2.99203187e-01  3.57280403e-01  4.54792619e-01  5.07333457e-01\n",
            "  6.00095987e-01  6.61470711e-01  7.69788921e-01  8.48385394e-01\n",
            "  8.99973512e-01  9.81470048e-01  1.05738032e+00  1.11745644e+00\n",
            "  1.19770694e+00  1.26311541e+00  1.35079288e+00  1.46724439e+00\n",
            "  1.48323989e+00  1.54358780e+00  1.64887965e+00  1.75613034e+00\n",
            "  1.84727430e+00  1.87783432e+00  1.99041200e+00  2.06166053e+00\n",
            "  2.09837222e+00  2.17973018e+00  1.22705543e+00  1.37473655e+00\n",
            "  6.89623713e-01  4.71114814e-01  2.47415975e-01  3.43466759e-01\n",
            "  1.89213052e-01  1.71182156e-01  2.42815271e-01  1.03582568e-01\n",
            " -1.05228864e-01 -4.97785583e-02  8.31009373e-02  3.69138382e-02\n",
            "  4.59051356e-02 -4.62681230e-04  1.61586590e-02  1.66294239e-02\n",
            "  3.21806385e-03 -1.32605273e-04 -1.81601616e-03  1.47338863e-02\n",
            "  7.79821351e-03  1.73918344e-02  1.46438675e-02  5.91053907e-03\n",
            "  8.27809144e-03 -5.45890350e-03  4.27273102e-03 -3.01257819e-02\n",
            " -3.17145698e-03  4.76383092e-03 -3.15773999e-04  7.53690349e-03\n",
            "  1.99314952e-02 -1.42797930e-02  8.59026425e-03  4.22628410e-03\n",
            "  3.83006106e-03 -9.38895345e-03 -3.25641856e-02  8.56669038e-04\n",
            "  2.35211756e-02  8.09352193e-03  1.41884154e-02 -3.81641672e-03\n",
            "  1.93114467e-02  2.56156754e-02  3.99450362e-02  8.09902474e-02\n",
            "  1.00903735e-01  1.62412822e-01  2.29971558e-01  3.33241165e-01\n",
            "  4.13613826e-01  5.13775349e-01  5.60557842e-01  6.34370506e-01\n",
            "  7.52514780e-01  7.76244640e-01  8.75342965e-01  9.10188913e-01\n",
            "  1.02234912e+00  1.09170067e+00  1.09924018e+00  1.23788166e+00\n",
            "  1.29891825e+00  1.43230331e+00  1.59072375e+00  1.59051573e+00\n",
            "  1.61501718e+00  1.70247054e+00  1.75651586e+00  1.90096426e+00\n",
            "  1.90736008e+00  1.97078836e+00  2.11267781e+00  2.02052426e+00\n",
            "  1.82056785e+00  1.41806042e+00  9.41655815e-01  1.07347596e+00\n",
            "  5.58154583e-01  2.67813385e-01  4.38416809e-01  3.01359832e-01\n",
            "  9.60351750e-02  1.50333941e-01  1.29707726e-02 -1.20040491e-01\n",
            "  4.41219918e-02  4.36079577e-02  1.15504572e-02 -2.06785370e-02\n",
            "  2.47070082e-02  1.25430236e-02 -6.64678030e-03  1.46903004e-02\n",
            "  3.68018411e-02  1.23840710e-02  1.23924883e-02  7.21425423e-03\n",
            "  2.08398700e-02  2.30866368e-03 -2.02279799e-02  6.99874421e-04\n",
            " -5.94175979e-03  1.26391381e-03  5.31896250e-03 -2.62173023e-02\n",
            " -2.56396197e-02 -5.20103553e-04  1.04838256e-02 -7.34525640e-03\n",
            " -1.77251920e-02 -3.09453020e-03 -6.09093159e-03 -2.01606588e-03\n",
            " -2.03541270e-03  3.48042842e-04  1.27940644e-02  2.33431556e-03\n",
            "  3.30197718e-03  2.10665492e-03  6.73151342e-03 -5.45668462e-03\n",
            "  1.26028862e-02  1.43203614e-02  6.73331916e-02  1.49930686e-01\n",
            "  2.16104925e-01  2.45072216e-01  3.21755290e-01  4.08244222e-01\n",
            "  5.11998177e-01  6.01872802e-01  6.52034163e-01  7.45499492e-01\n",
            "  8.26275468e-01  8.75449479e-01  9.65520680e-01  1.05298305e+00\n",
            "  1.12635291e+00  1.16471291e+00  1.37603724e+00  1.33513749e+00\n",
            "  1.44513607e+00  1.64193773e+00  1.63231790e+00  1.62797284e+00\n",
            "  1.73823655e+00  1.76842320e+00  1.89185286e+00  1.89446354e+00\n",
            "  1.94842029e+00  2.09716702e+00  2.20179415e+00  1.34810841e+00\n",
            "  6.70852959e-01  8.07364821e-01  1.48584449e+00  4.84352797e-01\n",
            "  1.78500742e-01  7.48003498e-02  1.87873647e-01 -1.99135363e-01\n",
            "  6.86233267e-02  1.21911421e-01]\n",
            "0.5-quantile (median) of the future window:\n",
            " [ 2.03875923e+00  1.98414505e+00  2.07056236e+00  2.19896555e+00\n",
            "  2.10337973e+00  1.69695616e+00  1.11114037e+00  1.06921339e+00\n",
            "  5.83690643e-01  3.81327450e-01  6.03005230e-01  1.76030636e-01\n",
            "  1.05057627e-01  1.94588423e-01  5.90060204e-02 -7.13343825e-03\n",
            "  1.05058834e-01  2.49980744e-02  1.46041811e-02  1.70203447e-02\n",
            " -5.18764593e-02  1.70465410e-02  2.17675101e-02  1.95730124e-02\n",
            "  4.96475026e-03  1.56605914e-02 -1.84991658e-02 -1.46722561e-03\n",
            "  1.01052178e-03 -3.96216009e-03  1.43349171e-02  1.53276734e-02\n",
            "  2.32452452e-02  7.18312367e-06 -2.54538679e-03  1.95872807e-03\n",
            " -1.22012598e-02 -2.22861557e-03 -1.14265149e-02  1.74091365e-02\n",
            "  9.92531050e-03 -8.13998003e-03  1.13514410e-02 -4.10617562e-03\n",
            " -5.59486263e-03  1.22752991e-02  5.41531062e-03  1.81719083e-02\n",
            " -1.14244390e-02 -7.97160156e-03  1.66048240e-02  1.29490895e-02\n",
            "  2.53962111e-02  7.57301599e-02  1.37523845e-01  2.06502929e-01\n",
            "  2.98838407e-01  3.54220986e-01  4.52876240e-01  5.02919495e-01\n",
            "  5.97173691e-01  6.71080947e-01  7.70399749e-01  8.45460534e-01\n",
            "  8.98717344e-01  9.81763303e-01  1.04270983e+00  1.11298895e+00\n",
            "  1.20507765e+00  1.26373184e+00  1.34247899e+00  1.44608152e+00\n",
            "  1.48465431e+00  1.54598808e+00  1.64541745e+00  1.75077474e+00\n",
            "  1.85023654e+00  1.87912381e+00  1.98552716e+00  2.05739450e+00\n",
            "  2.07480502e+00  2.17829466e+00  1.60114431e+00  1.28540194e+00\n",
            "  9.28116143e-01  5.86332500e-01  2.43303061e-01  2.84697533e-01\n",
            "  2.89543003e-01  1.73365325e-01  1.15205877e-01  1.44023284e-01\n",
            "  1.02578014e-01  3.83406947e-03  3.76192033e-02  3.26462016e-02\n",
            "  8.69838074e-02  4.02194029e-03  9.82230529e-03  1.76411122e-02\n",
            "  4.41675819e-03  1.94325403e-03 -2.62237457e-03  1.61020868e-02\n",
            "  8.13093409e-03  1.81902368e-02  1.50536168e-02  5.72905969e-03\n",
            "  8.62148125e-03 -5.09897806e-03  5.61964745e-03 -2.93528046e-02\n",
            " -3.12190433e-03  5.34354802e-03  3.78405355e-04  6.72995578e-03\n",
            "  1.86398216e-02 -1.41975731e-02  9.90875624e-03  5.51132858e-03\n",
            "  2.40751193e-03 -3.14342813e-03 -3.39096226e-02  3.58450715e-03\n",
            "  2.40812376e-02  6.84116734e-03  1.47302970e-02 -1.57779758e-03\n",
            "  2.15206817e-02  1.80571973e-02  4.03740034e-02  7.87664056e-02\n",
            "  1.00155033e-01  1.66137829e-01  2.34996840e-01  3.30416590e-01\n",
            "  4.19138491e-01  5.14438033e-01  5.63254058e-01  6.47809446e-01\n",
            "  7.49931157e-01  7.75482774e-01  8.72548640e-01  9.10962403e-01\n",
            "  1.00852513e+00  1.08037877e+00  1.11194623e+00  1.23572743e+00\n",
            "  1.29353559e+00  1.41926801e+00  1.56607199e+00  1.58120155e+00\n",
            "  1.62414420e+00  1.70560646e+00  1.77173591e+00  1.88736928e+00\n",
            "  1.89628184e+00  1.96792734e+00  2.08609009e+00  2.03030443e+00\n",
            "  1.87596452e+00  1.43100619e+00  1.13764298e+00  1.08817756e+00\n",
            "  5.96131682e-01  4.52017188e-01  2.99633086e-01  2.88632095e-01\n",
            "  8.17939639e-02  1.34611011e-01  1.23199604e-01 -2.58581694e-02\n",
            "  4.55692932e-02  4.80581708e-02  1.09836208e-02 -8.56014248e-03\n",
            "  2.67622117e-02  1.81490891e-02  1.74316659e-03  1.56418998e-02\n",
            "  3.12822685e-02  1.26227904e-02  1.10017909e-02  7.54957926e-03\n",
            "  1.99422892e-02  2.93318555e-03 -2.02086996e-02  6.46175700e-04\n",
            " -5.66518446e-03  3.23634828e-03  4.36624885e-03 -2.73789614e-02\n",
            " -2.46985611e-02 -1.08989899e-03  1.11475298e-02 -8.02626368e-03\n",
            " -1.90741736e-02 -4.21690382e-03 -6.93874713e-03 -2.75760563e-03\n",
            " -1.30453985e-03  1.23524282e-03  1.16281686e-02  3.98994004e-03\n",
            "  4.05737385e-03  1.33340131e-03  5.07769408e-03  3.04685993e-04\n",
            "  2.43178010e-02  1.08203357e-02  7.56659731e-02  1.47342846e-01\n",
            "  2.11743921e-01  2.41629884e-01  3.25067759e-01  4.09898281e-01\n",
            "  4.99827653e-01  5.87992609e-01  6.58977628e-01  7.44837642e-01\n",
            "  8.16704810e-01  8.72961581e-01  9.72547591e-01  1.03841317e+00\n",
            "  1.15364337e+00  1.17488956e+00  1.26565802e+00  1.35093474e+00\n",
            "  1.44296801e+00  1.61089325e+00  1.62593019e+00  1.62840056e+00\n",
            "  1.69234502e+00  1.76973844e+00  1.86996520e+00  1.90773463e+00\n",
            "  1.93850005e+00  2.07779717e+00  2.11301541e+00  1.35739017e+00\n",
            "  1.02446985e+00  9.12662685e-01  7.74567068e-01  4.25830930e-01\n",
            "  2.01296449e-01  2.41107494e-01  1.64164975e-01  1.24918424e-01\n",
            "  6.88905455e-03  1.11792386e-01]\n"
          ]
        }
      ]
    },
    {
      "cell_type": "code",
      "metadata": {
        "id": "l4hT4FX0_sBf"
      },
      "source": [
        "def plot_prob_forecasts(ts_entry, forecast_entry):\n",
        "    plot_length = 500\n",
        "    prediction_intervals = (50.0, 90.0)\n",
        "    legend = [\"observations\", \"median prediction\"] + [f\"{k}% prediction interval\" for k in prediction_intervals][::-1]\n",
        "\n",
        "    fig, ax = plt.subplots(1, 1, figsize=(10, 7))\n",
        "    ts_entry[-plot_length:].plot(ax=ax)  # plot the time series\n",
        "    forecast_entry.plot(prediction_intervals=prediction_intervals, color='g')\n",
        "    plt.grid(which=\"both\")\n",
        "    plt.ylim(0,3)\n",
        "    plt.legend(legend, loc=\"upper left\")\n",
        "    plt.savefig(\"fig3.pdf\",bbox_inches=\"tight\")\n",
        "    plt.show()"
      ],
      "execution_count": 41,
      "outputs": []
    },
    {
      "cell_type": "code",
      "metadata": {
        "colab": {
          "base_uri": "https://localhost:8080/",
          "height": 444
        },
        "id": "eGL634gS_sFB",
        "outputId": "d2c2600f-2465-499c-e567-0e7f3f02aa96"
      },
      "source": [
        "plot_prob_forecasts(ts_entry, forecast_entry)"
      ],
      "execution_count": 42,
      "outputs": [
        {
          "output_type": "display_data",
          "data": {
            "image/png": "[encoded data removed]",
            "text/plain": [
              "<Figure size 720x504 with 1 Axes>"
            ]
          },
          "metadata": {
            "needs_background": "light"
          }
        }
      ]
    },
    {
      "cell_type": "code",
      "metadata": {
        "id": "ZNQ9VW-i_sIV"
      },
      "source": [
        "from gluonts.evaluation import Evaluator"
      ],
      "execution_count": 43,
      "outputs": []
    },
    {
      "cell_type": "code",
      "metadata": {
        "colab": {
          "base_uri": "https://localhost:8080/"
        },
        "id": "K8qjJvhC_sX6",
        "outputId": "76d6b110-8bde-490b-9883-89c148e8edb6"
      },
      "source": [
        "evaluator = Evaluator(quantiles=[0.5,0.1,0.9])\n",
        "agg_metrics, item_metrics = evaluator(iter(tss), iter(forecasts), num_series=len(test_data))"
      ],
      "execution_count": 44,
      "outputs": [
        {
          "output_type": "stream",
          "name": "stderr",
          "text": [
            "Running evaluation: 100%|██████████| 1/1 [00:00<00:00, 27.74it/s]\n"
          ]
        }
      ]
    },
    {
      "cell_type": "code",
      "metadata": {
        "colab": {
          "base_uri": "https://localhost:8080/"
        },
        "id": "BGoIY9no_9k1",
        "outputId": "7b3c4c39-6361-401a-c954-c61460928d34"
      },
      "source": [
        "print(json.dumps(agg_metrics, indent=4))"
      ],
      "execution_count": 45,
      "outputs": [
        {
          "output_type": "stream",
          "name": "stdout",
          "text": [
            "{\n",
            "    \"MSE\": 0.41828326416015627,\n",
            "    \"abs_error\": 64.24183654785156,\n",
            "    \"abs_target_sum\": 175.16659545898438,\n",
            "    \"abs_target_mean\": 0.7006663818359375,\n",
            "    \"seasonal_error\": 0.5423285599286989,\n",
            "    \"MASE\": 0.47382226417356726,\n",
            "    \"MAPE\": 72039126.91358025,\n",
            "    \"sMAPE\": 1.240461181640625,\n",
            "    \"MSIS\": 3.822784251667603,\n",
            "    \"QuantileLoss[0.5]\": 64.24184390027222,\n",
            "    \"Coverage[0.5]\": 0.712,\n",
            "    \"QuantileLoss[0.1]\": 32.278181137568026,\n",
            "    \"Coverage[0.1]\": 0.124,\n",
            "    \"QuantileLoss[0.9]\": 19.458182475587815,\n",
            "    \"Coverage[0.9]\": 0.948,\n",
            "    \"RMSE\": 0.6467482231596436,\n",
            "    \"NRMSE\": 0.9230473159922222,\n",
            "    \"ND\": 0.3667470751459226,\n",
            "    \"wQuantileLoss[0.5]\": 0.36674711711979685,\n",
            "    \"wQuantileLoss[0.1]\": 0.1842713278350268,\n",
            "    \"wQuantileLoss[0.9]\": 0.11108386518903365,\n",
            "    \"mean_absolute_QuantileLoss\": 38.65940250447602,\n",
            "    \"mean_wQuantileLoss\": 0.22070077004795244,\n",
            "    \"MAE_Coverage\": 0.09466666666666664,\n",
            "    \"OWA\": NaN\n",
            "}\n"
          ]
        }
      ]
    },
    {
      "cell_type": "code",
      "metadata": {
        "colab": {
          "base_uri": "https://localhost:8080/",
          "height": 100
        },
        "id": "JnrPgobQ_9nq",
        "outputId": "54ff69e8-70f7-4524-b159-78e5b5d3f549"
      },
      "source": [
        "item_metrics"
      ],
      "execution_count": 46,
      "outputs": [
        {
          "output_type": "execute_result",
          "data": {
            "text/html": [
              "<div>\n",
              "<style scoped>\n",
              "    .dataframe tbody tr th:only-of-type {\n",
              "        vertical-align: middle;\n",
              "    }\n",
              "\n",
              "    .dataframe tbody tr th {\n",
              "        vertical-align: top;\n",
              "    }\n",
              "\n",
              "    .dataframe thead th {\n",
              "        text-align: right;\n",
              "    }\n",
              "</style>\n",
              "<table border=\"1\" class=\"dataframe\">\n",
              "  <thead>\n",
              "    <tr style=\"text-align: right;\">\n",
              "      <th></th>\n",
              "      <th>item_id</th>\n",
              "      <th>MSE</th>\n",
              "      <th>abs_error</th>\n",
              "      <th>abs_target_sum</th>\n",
              "      <th>abs_target_mean</th>\n",
              "      <th>seasonal_error</th>\n",
              "      <th>MASE</th>\n",
              "      <th>MAPE</th>\n",
              "      <th>sMAPE</th>\n",
              "      <th>MSIS</th>\n",
              "      <th>QuantileLoss[0.5]</th>\n",
              "      <th>Coverage[0.5]</th>\n",
              "      <th>QuantileLoss[0.1]</th>\n",
              "      <th>Coverage[0.1]</th>\n",
              "      <th>QuantileLoss[0.9]</th>\n",
              "      <th>Coverage[0.9]</th>\n",
              "    </tr>\n",
              "  </thead>\n",
              "  <tbody>\n",
              "    <tr>\n",
              "      <th>0</th>\n",
              "      <td>NaN</td>\n",
              "      <td>0.418283</td>\n",
              "      <td>64.241837</td>\n",
              "      <td>175.166595</td>\n",
              "      <td>0.700666</td>\n",
              "      <td>0.542329</td>\n",
              "      <td>0.473822</td>\n",
              "      <td>7.203913e+07</td>\n",
              "      <td>1.240461</td>\n",
              "      <td>3.822784</td>\n",
              "      <td>64.241844</td>\n",
              "      <td>0.712</td>\n",
              "      <td>32.278181</td>\n",
              "      <td>0.124</td>\n",
              "      <td>19.458182</td>\n",
              "      <td>0.948</td>\n",
              "    </tr>\n",
              "  </tbody>\n",
              "</table>\n",
              "</div>"
            ],
            "text/plain": [
              "   item_id       MSE  ...  QuantileLoss[0.9]  Coverage[0.9]\n",
              "0      NaN  0.418283  ...          19.458182          0.948\n",
              "\n",
              "[1 rows x 16 columns]"
            ]
          },
          "metadata": {},
          "execution_count": 46
        }
      ]
    },
    {
      "cell_type": "code",
      "metadata": {
        "colab": {
          "base_uri": "https://localhost:8080/",
          "height": 279
        },
        "id": "sAIHZco0_9qU",
        "outputId": "f3e8c298-e34e-4663-d0d0-2f75cf5b03e8"
      },
      "source": [
        "item_metrics.plot(x='MSIS', y='MASE', kind='scatter')\n",
        "plt.grid(which=\"both\")\n",
        "plt.savefig(\"fig4.pdf\",bbox_inches=\"tight\")\n",
        "plt.show()"
      ],
      "execution_count": 47,
      "outputs": [
        {
          "output_type": "display_data",
          "data": {
            "image/png": "[encoded data removed]",
            "text/plain": [
              "<Figure size 432x288 with 1 Axes>"
            ]
          },
          "metadata": {
            "needs_background": "light"
          }
        }
      ]
    },
    {
      "cell_type": "code",
      "metadata": {
        "id": "Hvfrw7ym_9tz"
      },
      "source": [
        "# own forecast model"
      ],
      "execution_count": 48,
      "outputs": []
    },
    {
      "cell_type": "code",
      "metadata": {
        "id": "yV53Ow6SAIV1"
      },
      "source": [
        "class MyNetwork(gluon.HybridBlock):\n",
        "    def __init__(self, prediction_length, num_cells, **kwargs):\n",
        "        super().__init__(**kwargs)\n",
        "        self.prediction_length = prediction_length\n",
        "        self.num_cells = num_cells\n",
        "\n",
        "        with self.name_scope():\n",
        "            # Set up a 3 layer neural network that directly predicts the target values\n",
        "            self.nn = mx.gluon.nn.HybridSequential()\n",
        "            self.nn.add(mx.gluon.nn.Dense(units=820, activation='relu'))\n",
        "            self.nn.add(mx.gluon.nn.Dense(units=820, activation='relu'))\n",
        "            self.nn.add(mx.gluon.nn.Dense(units=self.prediction_length, activation='relu'))\n",
        "\n",
        "\n",
        "class MyTrainNetwork(MyNetwork):\n",
        "    def hybrid_forward(self, F, past_target, future_target):\n",
        "        prediction = self.nn(past_target)\n",
        "        # calculate L1 loss with the future_target to learn the median\n",
        "        return (prediction - future_target).abs().mean(axis=-1)\n",
        "\n",
        "\n",
        "class MyPredNetwork(MyTrainNetwork):\n",
        "    # The prediction network only receives past_target and returns predictions\n",
        "    def hybrid_forward(self, F, past_target):\n",
        "        prediction = self.nn(past_target)\n",
        "        return prediction.expand_dims(axis=1)"
      ],
      "execution_count": 49,
      "outputs": []
    },
    {
      "cell_type": "code",
      "metadata": {
        "id": "dDZyrrESAIYb"
      },
      "source": [
        "def plot_prob_forecasts_2(ts_entry, forecast_entry):\n",
        "    plot_length = 500\n",
        "    prediction_intervals = (50.0, 90.0)\n",
        "    legend = [\"observations\", \"median prediction\"] + [f\"{k}% prediction interval\" for k in prediction_intervals][::-1]\n",
        "\n",
        "    fig, ax = plt.subplots(1, 1, figsize=(10, 7))\n",
        "    ts_entry[-plot_length:].plot(ax=ax)  # plot the time series\n",
        "    forecast_entry.plot(prediction_intervals=prediction_intervals, color='g')\n",
        "    plt.grid(which=\"both\")\n",
        "    plt.ylim(0,3)\n",
        "    plt.legend(legend, loc=\"upper left\")\n",
        "    plt.savefig(\"fig5.pdf\",bbox_inches=\"tight\")\n",
        "    plt.show()"
      ],
      "execution_count": 50,
      "outputs": []
    },
    {
      "cell_type": "code",
      "metadata": {
        "id": "4TnPZh8UAIbe"
      },
      "source": [
        "from functools import partial\n",
        "from mxnet.gluon import HybridBlock\n",
        "from gluonts.core.component import validated\n",
        "from gluonts.dataset.loader import TrainDataLoader\n",
        "from gluonts.model.predictor import Predictor\n",
        "from gluonts.mx.batchify import as_in_context, batchify\n",
        "from gluonts.mx.model.estimator import GluonEstimator\n",
        "from gluonts.mx.model.predictor import RepresentableBlockPredictor\n",
        "from gluonts.mx.trainer import Trainer\n",
        "from gluonts.mx.util import copy_parameters, get_hybrid_forward_input_names\n",
        "from gluonts.transform import (\n",
        "    ExpectedNumInstanceSampler,\n",
        "    Transformation,\n",
        "    InstanceSplitter,\n",
        "    TestSplitSampler,\n",
        "    SelectFields,\n",
        "    Chain\n",
        ")"
      ],
      "execution_count": 51,
      "outputs": []
    },
    {
      "cell_type": "code",
      "metadata": {
        "id": "8XAQqNJpAId6"
      },
      "source": [
        "class MyEstimator(GluonEstimator):\n",
        "    @validated()\n",
        "    def __init__(\n",
        "        self,\n",
        "        prediction_length: int,\n",
        "        context_length: int,\n",
        "        freq: str,\n",
        "        num_cells: int,\n",
        "        batch_size: int = 32,\n",
        "        trainer: Trainer = Trainer()\n",
        "    ) -> None:\n",
        "        super().__init__(trainer=trainer, batch_size=batch_size)\n",
        "        self.prediction_length = prediction_length\n",
        "        self.context_length = context_length\n",
        "        self.freq = freq\n",
        "        self.num_cells = num_cells\n",
        "\n",
        "    def create_transformation(self):\n",
        "        return Chain([])\n",
        "\n",
        "    def create_training_data_loader(self, dataset, **kwargs):\n",
        "        instance_splitter = InstanceSplitter(\n",
        "            target_field=FieldName.TARGET,\n",
        "            is_pad_field=FieldName.IS_PAD,\n",
        "            start_field=FieldName.START,\n",
        "            forecast_start_field=FieldName.FORECAST_START,\n",
        "            instance_sampler=ExpectedNumInstanceSampler(\n",
        "                num_instances=1,\n",
        "                min_future=self.prediction_length\n",
        "            ),\n",
        "            past_length=self.context_length,\n",
        "            future_length=self.prediction_length,\n",
        "        )\n",
        "        input_names = get_hybrid_forward_input_names(MyTrainNetwork)\n",
        "        return TrainDataLoader(\n",
        "            dataset=dataset,\n",
        "            transform=instance_splitter + SelectFields(input_names),\n",
        "            batch_size=self.batch_size,\n",
        "            stack_fn=partial(batchify, ctx=self.trainer.ctx, dtype=self.dtype),\n",
        "            decode_fn=partial(as_in_context, ctx=self.trainer.ctx),\n",
        "            **kwargs,\n",
        "        )\n",
        "\n",
        "    def create_training_network(self) -> MyTrainNetwork:\n",
        "        return MyTrainNetwork(\n",
        "            prediction_length=self.prediction_length,\n",
        "            num_cells = self.num_cells\n",
        "        )\n",
        "\n",
        "    def create_predictor(\n",
        "        self, transformation: Transformation, trained_network: HybridBlock\n",
        "    ) -> Predictor:\n",
        "        prediction_splitter = InstanceSplitter(\n",
        "            target_field=FieldName.TARGET,\n",
        "            is_pad_field=FieldName.IS_PAD,\n",
        "            start_field=FieldName.START,\n",
        "            forecast_start_field=FieldName.FORECAST_START,\n",
        "            instance_sampler=TestSplitSampler(),\n",
        "            past_length=self.context_length,\n",
        "            future_length=self.prediction_length,\n",
        "        )\n",
        "\n",
        "        prediction_network = MyPredNetwork(\n",
        "            prediction_length=self.prediction_length,\n",
        "            num_cells=self.num_cells\n",
        "        )\n",
        "\n",
        "        copy_parameters(trained_network, prediction_network)\n",
        "\n",
        "        return RepresentableBlockPredictor(\n",
        "            input_transform=transformation + prediction_splitter,\n",
        "            prediction_net=prediction_network,\n",
        "            batch_size=self.trainer.batch_size,\n",
        "            freq=self.freq,\n",
        "            prediction_length=self.prediction_length,\n",
        "            ctx=self.trainer.ctx,\n",
        "        )"
      ],
      "execution_count": 52,
      "outputs": []
    },
    {
      "cell_type": "code",
      "metadata": {
        "id": "YLf6ySgo2iAg"
      },
      "source": [
        "\n",
        "# define the parameters of the dataset\n",
        "custom_ds_metadata = {\n",
        "    'num_series': 1,\n",
        "    'num_steps': 1901,\n",
        "    'prediction_length': 100,\n",
        "    'freq': '2min',\n",
        "    'start': [\n",
        "        pd.Timestamp(\"01-01-2019\", freq='2min')\n",
        "        for _ in range(100)\n",
        "    ]\n",
        "}"
      ],
      "execution_count": 53,
      "outputs": []
    },
    {
      "cell_type": "code",
      "metadata": {
        "id": "UMl3St3IAIia"
      },
      "source": [
        "estimator = MyEstimator(\n",
        "    prediction_length=250,     #custom_ds_metadata['prediction_length'],\n",
        "    context_length = custom_ds_metadata['prediction_length'],\n",
        "    freq=custom_ds_metadata['freq'],\n",
        "    num_cells=30, #40\n",
        "    trainer=Trainer(\n",
        "        ctx=\"cpu\",\n",
        "        epochs=5,\n",
        "        learning_rate=1e-3,\n",
        "        hybridize=False,\n",
        "        num_batches_per_epoch=2000\n",
        "    )\n",
        ")"
      ],
      "execution_count": 114,
      "outputs": []
    },
    {
      "cell_type": "code",
      "metadata": {
        "colab": {
          "base_uri": "https://localhost:8080/"
        },
        "id": "A1R6cBlx2vUv",
        "outputId": "5e31866d-f8ce-45bf-d26f-5904d388bf59"
      },
      "source": [
        "from gluonts.dataset.field_names import FieldName\n",
        "[f\"FieldName.{k} = '{v}'\" for k, v in FieldName.__dict__.items() if not k.startswith('_')]"
      ],
      "execution_count": 115,
      "outputs": [
        {
          "output_type": "execute_result",
          "data": {
            "text/plain": [
              "[\"FieldName.ITEM_ID = 'item_id'\",\n",
              " \"FieldName.START = 'start'\",\n",
              " \"FieldName.TARGET = 'target'\",\n",
              " \"FieldName.FEAT_STATIC_CAT = 'feat_static_cat'\",\n",
              " \"FieldName.FEAT_STATIC_REAL = 'feat_static_real'\",\n",
              " \"FieldName.FEAT_DYNAMIC_CAT = 'feat_dynamic_cat'\",\n",
              " \"FieldName.FEAT_DYNAMIC_REAL = 'feat_dynamic_real'\",\n",
              " \"FieldName.PAST_FEAT_DYNAMIC_REAL = 'past_feat_dynamic_real'\",\n",
              " \"FieldName.FEAT_DYNAMIC_REAL_LEGACY = 'dynamic_feat'\",\n",
              " \"FieldName.FEAT_DYNAMIC = 'feat_dynamic'\",\n",
              " \"FieldName.PAST_FEAT_DYNAMIC = 'past_feat_dynamic'\",\n",
              " \"FieldName.FEAT_TIME = 'time_feat'\",\n",
              " \"FieldName.FEAT_CONST = 'feat_dynamic_const'\",\n",
              " \"FieldName.FEAT_AGE = 'feat_dynamic_age'\",\n",
              " \"FieldName.OBSERVED_VALUES = 'observed_values'\",\n",
              " \"FieldName.IS_PAD = 'is_pad'\",\n",
              " \"FieldName.FORECAST_START = 'forecast_start'\",\n",
              " \"FieldName.TARGET_DIM_INDICATOR = 'target_dimension_indicator'\"]"
            ]
          },
          "metadata": {},
          "execution_count": 115
        }
      ]
    },
    {
      "cell_type": "code",
      "metadata": {
        "colab": {
          "base_uri": "https://localhost:8080/"
        },
        "id": "O-V6TckVAIk8",
        "outputId": "6dafc5d6-da94-4a08-86d2-17d4de0ae067"
      },
      "source": [
        "predictor = estimator.train(train_data)"
      ],
      "execution_count": 116,
      "outputs": [
        {
          "output_type": "stream",
          "name": "stderr",
          "text": [
            "100%|██████████| 2000/2000 [00:34<00:00, 57.20it/s, epoch=1/5, avg_epoch_loss=0.215]\n",
            "100%|██████████| 2000/2000 [00:34<00:00, 57.16it/s, epoch=2/5, avg_epoch_loss=0.189]\n",
            "100%|██████████| 2000/2000 [00:35<00:00, 56.66it/s, epoch=3/5, avg_epoch_loss=0.174]\n",
            "100%|██████████| 2000/2000 [00:35<00:00, 56.50it/s, epoch=4/5, avg_epoch_loss=0.16] \n",
            "100%|██████████| 2000/2000 [00:35<00:00, 56.69it/s, epoch=5/5, avg_epoch_loss=0.149]\n"
          ]
        }
      ]
    },
    {
      "cell_type": "code",
      "metadata": {
        "id": "bbt6sADcAInM"
      },
      "source": [
        "forecast_it, ts_it = make_evaluation_predictions(\n",
        "    dataset=test_data,  # test dataset\n",
        "    predictor=predictor,  # predictor\n",
        "    num_samples=100,  # number of sample paths we want for evaluation\n",
        ")"
      ],
      "execution_count": 117,
      "outputs": []
    },
    {
      "cell_type": "code",
      "metadata": {
        "id": "RBXpP0N8AIpx"
      },
      "source": [
        "forecasts = list(forecast_it)\n",
        "tss = list(ts_it)"
      ],
      "execution_count": 118,
      "outputs": []
    },
    {
      "cell_type": "code",
      "metadata": {
        "id": "dLvjeWV9AucS",
        "colab": {
          "base_uri": "https://localhost:8080/",
          "height": 444
        },
        "outputId": "d703c06d-092e-46a4-8de8-cab5f7867e0c"
      },
      "source": [
        "plot_prob_forecasts_2(tss[0], forecasts[0])"
      ],
      "execution_count": 119,
      "outputs": [
        {
          "output_type": "display_data",
          "data": {
            "image/png": "[encoded data removed]",
            "text/plain": [
              "<Figure size 720x504 with 1 Axes>"
            ]
          },
          "metadata": {
            "needs_background": "light"
          }
        }
      ]
    },
    {
      "cell_type": "code",
      "metadata": {
        "id": "72mdTQhLAues",
        "colab": {
          "base_uri": "https://localhost:8080/"
        },
        "outputId": "849e7c9e-8f91-42ea-c548-80860ea1adce"
      },
      "source": [
        "evaluator = Evaluator(quantiles=[0.1, 0.5, 0.9])\n",
        "agg_metrics, item_metrics = evaluator(iter(tss), iter(forecasts), num_series=len(test_data))"
      ],
      "execution_count": 120,
      "outputs": [
        {
          "output_type": "stream",
          "name": "stderr",
          "text": [
            "Running evaluation: 100%|██████████| 1/1 [00:00<00:00, 41.33it/s]\n"
          ]
        }
      ]
    },
    {
      "cell_type": "code",
      "metadata": {
        "id": "xDu1hSNuAuhc",
        "colab": {
          "base_uri": "https://localhost:8080/"
        },
        "outputId": "4e9ce685-ccc0-437f-e19d-6d4f7c6acd6c"
      },
      "source": [
        "print(json.dumps(agg_metrics, indent=4))"
      ],
      "execution_count": 121,
      "outputs": [
        {
          "output_type": "stream",
          "name": "stdout",
          "text": [
            "{\n",
            "    \"MSE\": 0.13344940185546875,\n",
            "    \"abs_error\": 21.923431396484375,\n",
            "    \"abs_target_sum\": 175.16659545898438,\n",
            "    \"abs_target_mean\": 0.7006663818359375,\n",
            "    \"seasonal_error\": 0.5423285599286989,\n",
            "    \"MASE\": 0.1616985201691513,\n",
            "    \"MAPE\": 0.37095227653597607,\n",
            "    \"sMAPE\": 0.7163187038679064,\n",
            "    \"MSIS\": 6.467940356594988,\n",
            "    \"QuantileLoss[0.1]\": 8.650530783143891,\n",
            "    \"Coverage[0.1]\": 0.348,\n",
            "    \"QuantileLoss[0.5]\": 21.923429567651215,\n",
            "    \"Coverage[0.5]\": 0.348,\n",
            "    \"QuantileLoss[0.9]\": 35.19632835215855,\n",
            "    \"Coverage[0.9]\": 0.348,\n",
            "    \"RMSE\": 0.3653072704662046,\n",
            "    \"NRMSE\": 0.5213711973864076,\n",
            "    \"ND\": 0.1251576040456743,\n",
            "    \"wQuantileLoss[0.1]\": 0.049384591625344636,\n",
            "    \"wQuantileLoss[0.5]\": 0.1251575936051382,\n",
            "    \"wQuantileLoss[0.9]\": 0.20093059558493187,\n",
            "    \"mean_absolute_QuantileLoss\": 21.923429567651215,\n",
            "    \"mean_wQuantileLoss\": 0.12515759360513823,\n",
            "    \"MAE_Coverage\": 0.31733333333333336,\n",
            "    \"OWA\": NaN\n",
            "}\n"
          ]
        }
      ]
    },
    {
      "cell_type": "code",
      "metadata": {
        "id": "c7s2rVYUAujs",
        "colab": {
          "base_uri": "https://localhost:8080/",
          "height": 100
        },
        "outputId": "32ea920e-7902-4945-d69c-f6ac5e1288eb"
      },
      "source": [
        "item_metrics.head(10)"
      ],
      "execution_count": 122,
      "outputs": [
        {
          "output_type": "execute_result",
          "data": {
            "text/html": [
              "<div>\n",
              "<style scoped>\n",
              "    .dataframe tbody tr th:only-of-type {\n",
              "        vertical-align: middle;\n",
              "    }\n",
              "\n",
              "    .dataframe tbody tr th {\n",
              "        vertical-align: top;\n",
              "    }\n",
              "\n",
              "    .dataframe thead th {\n",
              "        text-align: right;\n",
              "    }\n",
              "</style>\n",
              "<table border=\"1\" class=\"dataframe\">\n",
              "  <thead>\n",
              "    <tr style=\"text-align: right;\">\n",
              "      <th></th>\n",
              "      <th>item_id</th>\n",
              "      <th>MSE</th>\n",
              "      <th>abs_error</th>\n",
              "      <th>abs_target_sum</th>\n",
              "      <th>abs_target_mean</th>\n",
              "      <th>seasonal_error</th>\n",
              "      <th>MASE</th>\n",
              "      <th>MAPE</th>\n",
              "      <th>sMAPE</th>\n",
              "      <th>MSIS</th>\n",
              "      <th>QuantileLoss[0.1]</th>\n",
              "      <th>Coverage[0.1]</th>\n",
              "      <th>QuantileLoss[0.5]</th>\n",
              "      <th>Coverage[0.5]</th>\n",
              "      <th>QuantileLoss[0.9]</th>\n",
              "      <th>Coverage[0.9]</th>\n",
              "    </tr>\n",
              "  </thead>\n",
              "  <tbody>\n",
              "    <tr>\n",
              "      <th>0</th>\n",
              "      <td>NaN</td>\n",
              "      <td>0.133449</td>\n",
              "      <td>21.923431</td>\n",
              "      <td>175.166595</td>\n",
              "      <td>0.700666</td>\n",
              "      <td>0.542329</td>\n",
              "      <td>0.161699</td>\n",
              "      <td>0.370952</td>\n",
              "      <td>0.716319</td>\n",
              "      <td>6.46794</td>\n",
              "      <td>8.650531</td>\n",
              "      <td>0.348</td>\n",
              "      <td>21.92343</td>\n",
              "      <td>0.348</td>\n",
              "      <td>35.196328</td>\n",
              "      <td>0.348</td>\n",
              "    </tr>\n",
              "  </tbody>\n",
              "</table>\n",
              "</div>"
            ],
            "text/plain": [
              "   item_id       MSE  ...  QuantileLoss[0.9]  Coverage[0.9]\n",
              "0      NaN  0.133449  ...          35.196328          0.348\n",
              "\n",
              "[1 rows x 16 columns]"
            ]
          },
          "metadata": {},
          "execution_count": 122
        }
      ]
    },
    {
      "cell_type": "code",
      "metadata": {
        "id": "cg92c0W3Aul7",
        "colab": {
          "base_uri": "https://localhost:8080/",
          "height": 279
        },
        "outputId": "50366b7b-041b-49dd-da81-a9ac132b6ef4"
      },
      "source": [
        "item_metrics.plot(x='MSIS', y='MASE', kind='scatter')\n",
        "plt.grid(which=\"both\")\n",
        "plt.savefig(\"fig6.pdf\",bbox_inches=\"tight\")\n",
        "plt.show()"
      ],
      "execution_count": 123,
      "outputs": [
        {
          "output_type": "display_data",
          "data": {
            "image/png": "[encoded data removed]",
            "text/plain": [
              "<Figure size 432x288 with 1 Axes>"
            ]
          },
          "metadata": {
            "needs_background": "light"
          }
        }
      ]
    }
  ]
}