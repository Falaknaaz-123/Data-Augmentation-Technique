{
  "nbformat": 4,
  "nbformat_minor": 0,
  "metadata": {
    "colab": {
      "name": "Copy of Copy of Rawdata_82_1_Charge_Capacity_forecast.ipynb",
      "provenance": [],
      "collapsed_sections": []
    },
    "kernelspec": {
      "display_name": "Python 3",
      "name": "python3"
    }
  },
  "cells": [
    {
      "cell_type": "code",
      "metadata": {
        "colab": {
          "base_uri": "https://localhost:8080/"
        },
        "id": "BISkgn0jVdmk",
        "outputId": "a994fe9f-6794-42ff-e00f-7199911281be"
      },
      "source": [
        "pip install --upgrade mxnet~=1.7 gluonts"
      ],
      "execution_count": 124,
      "outputs": [
        {
          "output_type": "stream",
          "name": "stdout",
          "text": [
            "Requirement already satisfied: mxnet~=1.7 in /usr/local/lib/python3.7/dist-packages (1.8.0.post0)\n",
            "Requirement already satisfied: gluonts in /usr/local/lib/python3.7/dist-packages (0.8.1)\n",
            "Requirement already satisfied: requests<3,>=2.20.0 in /usr/local/lib/python3.7/dist-packages (from mxnet~=1.7) (2.23.0)\n",
            "Requirement already satisfied: numpy<2.0.0,>1.16.0 in /usr/local/lib/python3.7/dist-packages (from mxnet~=1.7) (1.19.5)\n",
            "Requirement already satisfied: graphviz<0.9.0,>=0.8.1 in /usr/local/lib/python3.7/dist-packages (from mxnet~=1.7) (0.8.4)\n",
            "Requirement already satisfied: certifi>=2017.4.17 in /usr/local/lib/python3.7/dist-packages (from requests<3,>=2.20.0->mxnet~=1.7) (2021.5.30)\n",
            "Requirement already satisfied: chardet<4,>=3.0.2 in /usr/local/lib/python3.7/dist-packages (from requests<3,>=2.20.0->mxnet~=1.7) (3.0.4)\n",
            "Requirement already satisfied: urllib3!=1.25.0,!=1.25.1,<1.26,>=1.21.1 in /usr/local/lib/python3.7/dist-packages (from requests<3,>=2.20.0->mxnet~=1.7) (1.24.3)\n",
            "Requirement already satisfied: idna<3,>=2.5 in /usr/local/lib/python3.7/dist-packages (from requests<3,>=2.20.0->mxnet~=1.7) (2.10)\n",
            "Requirement already satisfied: matplotlib~=3.0 in /usr/local/lib/python3.7/dist-packages (from gluonts) (3.2.2)\n",
            "Requirement already satisfied: holidays>=0.9 in /usr/local/lib/python3.7/dist-packages (from gluonts) (0.10.5.2)\n",
            "Requirement already satisfied: toolz~=0.10 in /usr/local/lib/python3.7/dist-packages (from gluonts) (0.11.1)\n",
            "Requirement already satisfied: typing-extensions~=3.10.0.0 in /usr/local/lib/python3.7/dist-packages (from gluonts) (3.10.0.2)\n",
            "Requirement already satisfied: pandas~=1.0 in /usr/local/lib/python3.7/dist-packages (from gluonts) (1.1.5)\n",
            "Requirement already satisfied: pydantic~=1.1 in /usr/local/lib/python3.7/dist-packages (from gluonts) (1.8.2)\n",
            "Requirement already satisfied: tqdm~=4.23 in /usr/local/lib/python3.7/dist-packages (from gluonts) (4.62.3)\n",
            "Requirement already satisfied: hijri-converter in /usr/local/lib/python3.7/dist-packages (from holidays>=0.9->gluonts) (2.2.1)\n",
            "Requirement already satisfied: python-dateutil in /usr/local/lib/python3.7/dist-packages (from holidays>=0.9->gluonts) (2.8.2)\n",
            "Requirement already satisfied: six in /usr/local/lib/python3.7/dist-packages (from holidays>=0.9->gluonts) (1.15.0)\n",
            "Requirement already satisfied: convertdate>=2.3.0 in /usr/local/lib/python3.7/dist-packages (from holidays>=0.9->gluonts) (2.3.2)\n",
            "Requirement already satisfied: korean-lunar-calendar in /usr/local/lib/python3.7/dist-packages (from holidays>=0.9->gluonts) (0.2.1)\n",
            "Requirement already satisfied: pymeeus<=1,>=0.3.13 in /usr/local/lib/python3.7/dist-packages (from convertdate>=2.3.0->holidays>=0.9->gluonts) (0.5.11)\n",
            "Requirement already satisfied: pytz>=2014.10 in /usr/local/lib/python3.7/dist-packages (from convertdate>=2.3.0->holidays>=0.9->gluonts) (2018.9)\n",
            "Requirement already satisfied: kiwisolver>=1.0.1 in /usr/local/lib/python3.7/dist-packages (from matplotlib~=3.0->gluonts) (1.3.2)\n",
            "Requirement already satisfied: cycler>=0.10 in /usr/local/lib/python3.7/dist-packages (from matplotlib~=3.0->gluonts) (0.10.0)\n",
            "Requirement already satisfied: pyparsing!=2.0.4,!=2.1.2,!=2.1.6,>=2.0.1 in /usr/local/lib/python3.7/dist-packages (from matplotlib~=3.0->gluonts) (2.4.7)\n"
          ]
        }
      ]
    },
    {
      "cell_type": "code",
      "metadata": {
        "id": "Io5dASCrVoYO"
      },
      "source": [
        "# Third-party imports\n",
        "%matplotlib inline\n",
        "import mxnet as mx\n",
        "from mxnet import gluon\n",
        "import numpy as np\n",
        "import pandas as pd\n",
        "import matplotlib.pyplot as plt\n",
        "import json"
      ],
      "execution_count": 125,
      "outputs": []
    },
    {
      "cell_type": "code",
      "metadata": {
        "id": "JS2hNvrbVoa6"
      },
      "source": [
        "# gluon datasets\n",
        "from gluonts.dataset.repository.datasets import get_dataset, dataset_recipes\n",
        "from gluonts.dataset.util import to_pandas"
      ],
      "execution_count": 126,
      "outputs": []
    },
    {
      "cell_type": "code",
      "metadata": {
        "colab": {
          "base_uri": "https://localhost:8080/"
        },
        "id": "q-6chF-mVod2",
        "outputId": "f40ee23c-e352-48c1-f8b9-0b5be3f8c733"
      },
      "source": [
        "print(f\"Available datasets: {list(dataset_recipes.keys())}\")"
      ],
      "execution_count": 127,
      "outputs": [
        {
          "output_type": "stream",
          "name": "stdout",
          "text": [
            "Available datasets: ['constant', 'exchange_rate', 'solar-energy', 'electricity', 'traffic', 'exchange_rate_nips', 'electricity_nips', 'traffic_nips', 'solar_nips', 'wiki-rolling_nips', 'taxi_30min', 'kaggle_web_traffic_with_missing', 'kaggle_web_traffic_without_missing', 'kaggle_web_traffic_weekly', 'm1_yearly', 'm1_quarterly', 'm1_monthly', 'nn5_daily_with_missing', 'nn5_daily_without_missing', 'nn5_weekly', 'tourism_monthly', 'tourism_quarterly', 'tourism_yearly', 'm3_monthly', 'm3_quarterly', 'm3_yearly', 'm3_other', 'm4_hourly', 'm4_daily', 'm4_weekly', 'm4_monthly', 'm4_quarterly', 'm4_yearly', 'm5']\n"
          ]
        }
      ]
    },
    {
      "cell_type": "code",
      "metadata": {
        "colab": {
          "base_uri": "https://localhost:8080/"
        },
        "id": "3dl59DPWBspm",
        "outputId": "ed50bb03-3a72-4786-a67c-bcd82b76d114"
      },
      "source": [
        "pip install mxnet"
      ],
      "execution_count": 128,
      "outputs": [
        {
          "output_type": "stream",
          "name": "stdout",
          "text": [
            "Requirement already satisfied: mxnet in /usr/local/lib/python3.7/dist-packages (1.8.0.post0)\n",
            "Requirement already satisfied: numpy<2.0.0,>1.16.0 in /usr/local/lib/python3.7/dist-packages (from mxnet) (1.19.5)\n",
            "Requirement already satisfied: graphviz<0.9.0,>=0.8.1 in /usr/local/lib/python3.7/dist-packages (from mxnet) (0.8.4)\n",
            "Requirement already satisfied: requests<3,>=2.20.0 in /usr/local/lib/python3.7/dist-packages (from mxnet) (2.23.0)\n",
            "Requirement already satisfied: urllib3!=1.25.0,!=1.25.1,<1.26,>=1.21.1 in /usr/local/lib/python3.7/dist-packages (from requests<3,>=2.20.0->mxnet) (1.24.3)\n",
            "Requirement already satisfied: chardet<4,>=3.0.2 in /usr/local/lib/python3.7/dist-packages (from requests<3,>=2.20.0->mxnet) (3.0.4)\n",
            "Requirement already satisfied: certifi>=2017.4.17 in /usr/local/lib/python3.7/dist-packages (from requests<3,>=2.20.0->mxnet) (2021.5.30)\n",
            "Requirement already satisfied: idna<3,>=2.5 in /usr/local/lib/python3.7/dist-packages (from requests<3,>=2.20.0->mxnet) (2.10)\n"
          ]
        }
      ]
    },
    {
      "cell_type": "code",
      "metadata": {
        "id": "qjWGHZjhlWe4"
      },
      "source": [
        "dataset_nasa = pd.read_csv('DOE-551-600-10DU-01_2.csv')"
      ],
      "execution_count": 130,
      "outputs": []
    },
    {
      "cell_type": "code",
      "metadata": {
        "colab": {
          "base_uri": "https://localhost:8080/",
          "height": 454
        },
        "id": "SLR52rSMVomO",
        "outputId": "d1105cff-b9b0-4b97-9108-81a9b4d0a906"
      },
      "source": [
        "dataset_nasa\n"
      ],
      "execution_count": 131,
      "outputs": [
        {
          "output_type": "execute_result",
          "data": {
            "text/html": [
              "<div>\n",
              "<style scoped>\n",
              "    .dataframe tbody tr th:only-of-type {\n",
              "        vertical-align: middle;\n",
              "    }\n",
              "\n",
              "    .dataframe tbody tr th {\n",
              "        vertical-align: top;\n",
              "    }\n",
              "\n",
              "    .dataframe thead th {\n",
              "        text-align: right;\n",
              "    }\n",
              "</style>\n",
              "<table border=\"1\" class=\"dataframe\">\n",
              "  <thead>\n",
              "    <tr style=\"text-align: right;\">\n",
              "      <th></th>\n",
              "      <th>index</th>\n",
              "      <th>Test_Time(s)</th>\n",
              "      <th>Unnamed: 2</th>\n",
              "      <th>Step_Time(s)</th>\n",
              "      <th>Cycle_Index</th>\n",
              "      <th>Step_Index</th>\n",
              "      <th>Voltage</th>\n",
              "      <th>Test_Time(s).1</th>\n",
              "      <th>Step_Time(s).1</th>\n",
              "      <th>Cycle_Index.1</th>\n",
              "      <th>Step_Index.1</th>\n",
              "      <th>Current</th>\n",
              "      <th>Test_Time(s).2</th>\n",
              "      <th>Step_Time(s).2</th>\n",
              "      <th>Cycle_Index.2</th>\n",
              "      <th>Step_Index.2</th>\n",
              "      <th>Charge_Capacity</th>\n",
              "      <th>Test_Time(s).3</th>\n",
              "      <th>Step_Time(s).3</th>\n",
              "      <th>Cycle_Index.3</th>\n",
              "      <th>Step_Index.3</th>\n",
              "      <th>Discharge_Capacity</th>\n",
              "      <th>Test_Time(s).4</th>\n",
              "      <th>Step_Time(s).4</th>\n",
              "      <th>Cycle_Index.4</th>\n",
              "      <th>Step_Index.4</th>\n",
              "    </tr>\n",
              "  </thead>\n",
              "  <tbody>\n",
              "    <tr>\n",
              "      <th>0</th>\n",
              "      <td>0</td>\n",
              "      <td>120.002100</td>\n",
              "      <td>NaN</td>\n",
              "      <td>120.0020</td>\n",
              "      <td>1</td>\n",
              "      <td>1</td>\n",
              "      <td>3.578289</td>\n",
              "      <td>120.002100</td>\n",
              "      <td>120.0020</td>\n",
              "      <td>1</td>\n",
              "      <td>1</td>\n",
              "      <td>0.000000</td>\n",
              "      <td>120.002100</td>\n",
              "      <td>120.0020</td>\n",
              "      <td>1</td>\n",
              "      <td>1</td>\n",
              "      <td>0.000000</td>\n",
              "      <td>120.002100</td>\n",
              "      <td>120.0020</td>\n",
              "      <td>1</td>\n",
              "      <td>1</td>\n",
              "      <td>0.000000</td>\n",
              "      <td>120.002100</td>\n",
              "      <td>120.0020</td>\n",
              "      <td>1</td>\n",
              "      <td>1</td>\n",
              "    </tr>\n",
              "    <tr>\n",
              "      <th>1</th>\n",
              "      <td>1</td>\n",
              "      <td>240.004200</td>\n",
              "      <td>NaN</td>\n",
              "      <td>240.0041</td>\n",
              "      <td>1</td>\n",
              "      <td>1</td>\n",
              "      <td>3.578400</td>\n",
              "      <td>240.004200</td>\n",
              "      <td>240.0041</td>\n",
              "      <td>1</td>\n",
              "      <td>1</td>\n",
              "      <td>0.000000</td>\n",
              "      <td>240.004200</td>\n",
              "      <td>240.0041</td>\n",
              "      <td>1</td>\n",
              "      <td>1</td>\n",
              "      <td>0.000000</td>\n",
              "      <td>240.004200</td>\n",
              "      <td>240.0041</td>\n",
              "      <td>1</td>\n",
              "      <td>1</td>\n",
              "      <td>0.000000</td>\n",
              "      <td>240.004200</td>\n",
              "      <td>240.0041</td>\n",
              "      <td>1</td>\n",
              "      <td>1</td>\n",
              "    </tr>\n",
              "    <tr>\n",
              "      <th>2</th>\n",
              "      <td>2</td>\n",
              "      <td>360.003300</td>\n",
              "      <td>NaN</td>\n",
              "      <td>360.0032</td>\n",
              "      <td>1</td>\n",
              "      <td>1</td>\n",
              "      <td>3.580041</td>\n",
              "      <td>360.003300</td>\n",
              "      <td>360.0032</td>\n",
              "      <td>1</td>\n",
              "      <td>1</td>\n",
              "      <td>0.000000</td>\n",
              "      <td>360.003300</td>\n",
              "      <td>360.0032</td>\n",
              "      <td>1</td>\n",
              "      <td>1</td>\n",
              "      <td>0.000000</td>\n",
              "      <td>360.003300</td>\n",
              "      <td>360.0032</td>\n",
              "      <td>1</td>\n",
              "      <td>1</td>\n",
              "      <td>0.000000</td>\n",
              "      <td>360.003300</td>\n",
              "      <td>360.0032</td>\n",
              "      <td>1</td>\n",
              "      <td>1</td>\n",
              "    </tr>\n",
              "    <tr>\n",
              "      <th>3</th>\n",
              "      <td>3</td>\n",
              "      <td>480.005600</td>\n",
              "      <td>NaN</td>\n",
              "      <td>480.0055</td>\n",
              "      <td>1</td>\n",
              "      <td>1</td>\n",
              "      <td>3.581675</td>\n",
              "      <td>480.005600</td>\n",
              "      <td>480.0055</td>\n",
              "      <td>1</td>\n",
              "      <td>1</td>\n",
              "      <td>0.000000</td>\n",
              "      <td>480.005600</td>\n",
              "      <td>480.0055</td>\n",
              "      <td>1</td>\n",
              "      <td>1</td>\n",
              "      <td>0.000000</td>\n",
              "      <td>480.005600</td>\n",
              "      <td>480.0055</td>\n",
              "      <td>1</td>\n",
              "      <td>1</td>\n",
              "      <td>0.000000</td>\n",
              "      <td>480.005600</td>\n",
              "      <td>480.0055</td>\n",
              "      <td>1</td>\n",
              "      <td>1</td>\n",
              "    </tr>\n",
              "    <tr>\n",
              "      <th>4</th>\n",
              "      <td>4</td>\n",
              "      <td>600.000900</td>\n",
              "      <td>NaN</td>\n",
              "      <td>600.0008</td>\n",
              "      <td>1</td>\n",
              "      <td>1</td>\n",
              "      <td>3.582434</td>\n",
              "      <td>600.000900</td>\n",
              "      <td>600.0008</td>\n",
              "      <td>1</td>\n",
              "      <td>1</td>\n",
              "      <td>0.000000</td>\n",
              "      <td>600.000900</td>\n",
              "      <td>600.0008</td>\n",
              "      <td>1</td>\n",
              "      <td>1</td>\n",
              "      <td>0.000000</td>\n",
              "      <td>600.000900</td>\n",
              "      <td>600.0008</td>\n",
              "      <td>1</td>\n",
              "      <td>1</td>\n",
              "      <td>0.000000</td>\n",
              "      <td>600.000900</td>\n",
              "      <td>600.0008</td>\n",
              "      <td>1</td>\n",
              "      <td>1</td>\n",
              "    </tr>\n",
              "    <tr>\n",
              "      <th>...</th>\n",
              "      <td>...</td>\n",
              "      <td>...</td>\n",
              "      <td>...</td>\n",
              "      <td>...</td>\n",
              "      <td>...</td>\n",
              "      <td>...</td>\n",
              "      <td>...</td>\n",
              "      <td>...</td>\n",
              "      <td>...</td>\n",
              "      <td>...</td>\n",
              "      <td>...</td>\n",
              "      <td>...</td>\n",
              "      <td>...</td>\n",
              "      <td>...</td>\n",
              "      <td>...</td>\n",
              "      <td>...</td>\n",
              "      <td>...</td>\n",
              "      <td>...</td>\n",
              "      <td>...</td>\n",
              "      <td>...</td>\n",
              "      <td>...</td>\n",
              "      <td>...</td>\n",
              "      <td>...</td>\n",
              "      <td>...</td>\n",
              "      <td>...</td>\n",
              "      <td>...</td>\n",
              "    </tr>\n",
              "    <tr>\n",
              "      <th>3953</th>\n",
              "      <td>3953</td>\n",
              "      <td>454963.238852</td>\n",
              "      <td>NaN</td>\n",
              "      <td>120.0033</td>\n",
              "      <td>50</td>\n",
              "      <td>6</td>\n",
              "      <td>3.609489</td>\n",
              "      <td>454963.238852</td>\n",
              "      <td>120.0033</td>\n",
              "      <td>50</td>\n",
              "      <td>6</td>\n",
              "      <td>0.000000</td>\n",
              "      <td>454963.238852</td>\n",
              "      <td>120.0033</td>\n",
              "      <td>50</td>\n",
              "      <td>6</td>\n",
              "      <td>2.441618</td>\n",
              "      <td>454963.238852</td>\n",
              "      <td>120.0033</td>\n",
              "      <td>50</td>\n",
              "      <td>6</td>\n",
              "      <td>2.441629</td>\n",
              "      <td>454963.238852</td>\n",
              "      <td>120.0033</td>\n",
              "      <td>50</td>\n",
              "      <td>6</td>\n",
              "    </tr>\n",
              "    <tr>\n",
              "      <th>3954</th>\n",
              "      <td>3954</td>\n",
              "      <td>455083.237752</td>\n",
              "      <td>NaN</td>\n",
              "      <td>240.0022</td>\n",
              "      <td>50</td>\n",
              "      <td>6</td>\n",
              "      <td>3.642449</td>\n",
              "      <td>455083.237752</td>\n",
              "      <td>240.0022</td>\n",
              "      <td>50</td>\n",
              "      <td>6</td>\n",
              "      <td>0.000000</td>\n",
              "      <td>455083.237752</td>\n",
              "      <td>240.0022</td>\n",
              "      <td>50</td>\n",
              "      <td>6</td>\n",
              "      <td>2.441618</td>\n",
              "      <td>455083.237752</td>\n",
              "      <td>240.0022</td>\n",
              "      <td>50</td>\n",
              "      <td>6</td>\n",
              "      <td>2.441629</td>\n",
              "      <td>455083.237752</td>\n",
              "      <td>240.0022</td>\n",
              "      <td>50</td>\n",
              "      <td>6</td>\n",
              "    </tr>\n",
              "    <tr>\n",
              "      <th>3955</th>\n",
              "      <td>3955</td>\n",
              "      <td>455143.238952</td>\n",
              "      <td>NaN</td>\n",
              "      <td>300.0034</td>\n",
              "      <td>50</td>\n",
              "      <td>6</td>\n",
              "      <td>3.650748</td>\n",
              "      <td>455143.238952</td>\n",
              "      <td>300.0034</td>\n",
              "      <td>50</td>\n",
              "      <td>6</td>\n",
              "      <td>0.000000</td>\n",
              "      <td>455143.238952</td>\n",
              "      <td>300.0034</td>\n",
              "      <td>50</td>\n",
              "      <td>6</td>\n",
              "      <td>2.441618</td>\n",
              "      <td>455143.238952</td>\n",
              "      <td>300.0034</td>\n",
              "      <td>50</td>\n",
              "      <td>6</td>\n",
              "      <td>2.441629</td>\n",
              "      <td>455143.238952</td>\n",
              "      <td>300.0034</td>\n",
              "      <td>50</td>\n",
              "      <td>6</td>\n",
              "    </tr>\n",
              "    <tr>\n",
              "      <th>3956</th>\n",
              "      <td>3956</td>\n",
              "      <td>455263.394832</td>\n",
              "      <td>NaN</td>\n",
              "      <td>120.0043</td>\n",
              "      <td>51</td>\n",
              "      <td>8</td>\n",
              "      <td>4.189424</td>\n",
              "      <td>455263.394832</td>\n",
              "      <td>120.0043</td>\n",
              "      <td>51</td>\n",
              "      <td>8</td>\n",
              "      <td>3.259819</td>\n",
              "      <td>455263.394832</td>\n",
              "      <td>120.0043</td>\n",
              "      <td>51</td>\n",
              "      <td>8</td>\n",
              "      <td>0.108659</td>\n",
              "      <td>455263.394832</td>\n",
              "      <td>120.0043</td>\n",
              "      <td>51</td>\n",
              "      <td>8</td>\n",
              "      <td>0.000000</td>\n",
              "      <td>455263.394832</td>\n",
              "      <td>120.0043</td>\n",
              "      <td>51</td>\n",
              "      <td>8</td>\n",
              "    </tr>\n",
              "    <tr>\n",
              "      <th>3957</th>\n",
              "      <td>3957</td>\n",
              "      <td>455292.448332</td>\n",
              "      <td>NaN</td>\n",
              "      <td>149.0578</td>\n",
              "      <td>51</td>\n",
              "      <td>8</td>\n",
              "      <td>4.200018</td>\n",
              "      <td>455292.448332</td>\n",
              "      <td>149.0578</td>\n",
              "      <td>51</td>\n",
              "      <td>8</td>\n",
              "      <td>3.260193</td>\n",
              "      <td>455292.448332</td>\n",
              "      <td>149.0578</td>\n",
              "      <td>51</td>\n",
              "      <td>8</td>\n",
              "      <td>0.134974</td>\n",
              "      <td>455292.448332</td>\n",
              "      <td>149.0578</td>\n",
              "      <td>51</td>\n",
              "      <td>8</td>\n",
              "      <td>0.000000</td>\n",
              "      <td>455292.448332</td>\n",
              "      <td>149.0578</td>\n",
              "      <td>51</td>\n",
              "      <td>8</td>\n",
              "    </tr>\n",
              "  </tbody>\n",
              "</table>\n",
              "<p>3958 rows × 26 columns</p>\n",
              "</div>"
            ],
            "text/plain": [
              "      index   Test_Time(s)  ...  Cycle_Index.4  Step_Index.4\n",
              "0         0     120.002100  ...              1             1\n",
              "1         1     240.004200  ...              1             1\n",
              "2         2     360.003300  ...              1             1\n",
              "3         3     480.005600  ...              1             1\n",
              "4         4     600.000900  ...              1             1\n",
              "...     ...            ...  ...            ...           ...\n",
              "3953   3953  454963.238852  ...             50             6\n",
              "3954   3954  455083.237752  ...             50             6\n",
              "3955   3955  455143.238952  ...             50             6\n",
              "3956   3956  455263.394832  ...             51             8\n",
              "3957   3957  455292.448332  ...             51             8\n",
              "\n",
              "[3958 rows x 26 columns]"
            ]
          },
          "metadata": {},
          "execution_count": 131
        }
      ]
    },
    {
      "cell_type": "code",
      "metadata": {
        "id": "wwAaq-AO4AKS"
      },
      "source": [
        "df = pd.DataFrame(dataset_nasa)\n",
        "cols = [0,11]\n",
        "df = df[df.columns[cols]]"
      ],
      "execution_count": 273,
      "outputs": []
    },
    {
      "cell_type": "code",
      "metadata": {
        "colab": {
          "base_uri": "https://localhost:8080/",
          "height": 417
        },
        "id": "4ss0ApIz4AWr",
        "outputId": "8a6cf1ee-1328-4bca-a59a-89196216008b"
      },
      "source": [
        "df"
      ],
      "execution_count": 274,
      "outputs": [
        {
          "output_type": "execute_result",
          "data": {
            "text/html": [
              "<div>\n",
              "<style scoped>\n",
              "    .dataframe tbody tr th:only-of-type {\n",
              "        vertical-align: middle;\n",
              "    }\n",
              "\n",
              "    .dataframe tbody tr th {\n",
              "        vertical-align: top;\n",
              "    }\n",
              "\n",
              "    .dataframe thead th {\n",
              "        text-align: right;\n",
              "    }\n",
              "</style>\n",
              "<table border=\"1\" class=\"dataframe\">\n",
              "  <thead>\n",
              "    <tr style=\"text-align: right;\">\n",
              "      <th></th>\n",
              "      <th>index</th>\n",
              "      <th>Current</th>\n",
              "    </tr>\n",
              "  </thead>\n",
              "  <tbody>\n",
              "    <tr>\n",
              "      <th>0</th>\n",
              "      <td>0</td>\n",
              "      <td>0.000000</td>\n",
              "    </tr>\n",
              "    <tr>\n",
              "      <th>1</th>\n",
              "      <td>1</td>\n",
              "      <td>0.000000</td>\n",
              "    </tr>\n",
              "    <tr>\n",
              "      <th>2</th>\n",
              "      <td>2</td>\n",
              "      <td>0.000000</td>\n",
              "    </tr>\n",
              "    <tr>\n",
              "      <th>3</th>\n",
              "      <td>3</td>\n",
              "      <td>0.000000</td>\n",
              "    </tr>\n",
              "    <tr>\n",
              "      <th>4</th>\n",
              "      <td>4</td>\n",
              "      <td>0.000000</td>\n",
              "    </tr>\n",
              "    <tr>\n",
              "      <th>...</th>\n",
              "      <td>...</td>\n",
              "      <td>...</td>\n",
              "    </tr>\n",
              "    <tr>\n",
              "      <th>3953</th>\n",
              "      <td>3953</td>\n",
              "      <td>0.000000</td>\n",
              "    </tr>\n",
              "    <tr>\n",
              "      <th>3954</th>\n",
              "      <td>3954</td>\n",
              "      <td>0.000000</td>\n",
              "    </tr>\n",
              "    <tr>\n",
              "      <th>3955</th>\n",
              "      <td>3955</td>\n",
              "      <td>0.000000</td>\n",
              "    </tr>\n",
              "    <tr>\n",
              "      <th>3956</th>\n",
              "      <td>3956</td>\n",
              "      <td>3.259819</td>\n",
              "    </tr>\n",
              "    <tr>\n",
              "      <th>3957</th>\n",
              "      <td>3957</td>\n",
              "      <td>3.260193</td>\n",
              "    </tr>\n",
              "  </tbody>\n",
              "</table>\n",
              "<p>3958 rows × 2 columns</p>\n",
              "</div>"
            ],
            "text/plain": [
              "      index   Current\n",
              "0         0  0.000000\n",
              "1         1  0.000000\n",
              "2         2  0.000000\n",
              "3         3  0.000000\n",
              "4         4  0.000000\n",
              "...     ...       ...\n",
              "3953   3953  0.000000\n",
              "3954   3954  0.000000\n",
              "3955   3955  0.000000\n",
              "3956   3956  3.259819\n",
              "3957   3957  3.260193\n",
              "\n",
              "[3958 rows x 2 columns]"
            ]
          },
          "metadata": {},
          "execution_count": 274
        }
      ]
    },
    {
      "cell_type": "code",
      "metadata": {
        "id": "T807dGEGdGOF"
      },
      "source": [
        "df1 = df.to_numpy()"
      ],
      "execution_count": 275,
      "outputs": []
    },
    {
      "cell_type": "code",
      "metadata": {
        "id": "LODZWZeYkh2n"
      },
      "source": [
        "train_size = int(len(df1)*0.8)\n",
        "test_size = len(df1) - train_size\n",
        "train = df1[1:train_size,:]\n",
        "test = df1[train_size:len(df1)]"
      ],
      "execution_count": 276,
      "outputs": []
    },
    {
      "cell_type": "code",
      "metadata": {
        "colab": {
          "base_uri": "https://localhost:8080/"
        },
        "id": "AWeTV_6qgxIV",
        "outputId": "06bf0aaa-8ff3-4956-f935-f0010ff4f903"
      },
      "source": [
        "train_size"
      ],
      "execution_count": 277,
      "outputs": [
        {
          "output_type": "execute_result",
          "data": {
            "text/plain": [
              "3166"
            ]
          },
          "metadata": {},
          "execution_count": 277
        }
      ]
    },
    {
      "cell_type": "code",
      "metadata": {
        "id": "KeMJFvQ0U3Z6"
      },
      "source": [
        "train_set = pd.DataFrame(train)"
      ],
      "execution_count": 278,
      "outputs": []
    },
    {
      "cell_type": "code",
      "metadata": {
        "colab": {
          "base_uri": "https://localhost:8080/",
          "height": 417
        },
        "id": "WETL8vj3d6zz",
        "outputId": "1217e608-9f9d-44ae-b480-7905b036b4de"
      },
      "source": [
        "train_set"
      ],
      "execution_count": 279,
      "outputs": [
        {
          "output_type": "execute_result",
          "data": {
            "text/html": [
              "<div>\n",
              "<style scoped>\n",
              "    .dataframe tbody tr th:only-of-type {\n",
              "        vertical-align: middle;\n",
              "    }\n",
              "\n",
              "    .dataframe tbody tr th {\n",
              "        vertical-align: top;\n",
              "    }\n",
              "\n",
              "    .dataframe thead th {\n",
              "        text-align: right;\n",
              "    }\n",
              "</style>\n",
              "<table border=\"1\" class=\"dataframe\">\n",
              "  <thead>\n",
              "    <tr style=\"text-align: right;\">\n",
              "      <th></th>\n",
              "      <th>0</th>\n",
              "      <th>1</th>\n",
              "    </tr>\n",
              "  </thead>\n",
              "  <tbody>\n",
              "    <tr>\n",
              "      <th>0</th>\n",
              "      <td>1.0</td>\n",
              "      <td>0.000000</td>\n",
              "    </tr>\n",
              "    <tr>\n",
              "      <th>1</th>\n",
              "      <td>2.0</td>\n",
              "      <td>0.000000</td>\n",
              "    </tr>\n",
              "    <tr>\n",
              "      <th>2</th>\n",
              "      <td>3.0</td>\n",
              "      <td>0.000000</td>\n",
              "    </tr>\n",
              "    <tr>\n",
              "      <th>3</th>\n",
              "      <td>4.0</td>\n",
              "      <td>0.000000</td>\n",
              "    </tr>\n",
              "    <tr>\n",
              "      <th>4</th>\n",
              "      <td>5.0</td>\n",
              "      <td>0.000000</td>\n",
              "    </tr>\n",
              "    <tr>\n",
              "      <th>...</th>\n",
              "      <td>...</td>\n",
              "      <td>...</td>\n",
              "    </tr>\n",
              "    <tr>\n",
              "      <th>3160</th>\n",
              "      <td>3161.0</td>\n",
              "      <td>-2.282021</td>\n",
              "    </tr>\n",
              "    <tr>\n",
              "      <th>3161</th>\n",
              "      <td>3162.0</td>\n",
              "      <td>-2.282184</td>\n",
              "    </tr>\n",
              "    <tr>\n",
              "      <th>3162</th>\n",
              "      <td>3163.0</td>\n",
              "      <td>0.000000</td>\n",
              "    </tr>\n",
              "    <tr>\n",
              "      <th>3163</th>\n",
              "      <td>3164.0</td>\n",
              "      <td>0.000000</td>\n",
              "    </tr>\n",
              "    <tr>\n",
              "      <th>3164</th>\n",
              "      <td>3165.0</td>\n",
              "      <td>0.000000</td>\n",
              "    </tr>\n",
              "  </tbody>\n",
              "</table>\n",
              "<p>3165 rows × 2 columns</p>\n",
              "</div>"
            ],
            "text/plain": [
              "           0         1\n",
              "0        1.0  0.000000\n",
              "1        2.0  0.000000\n",
              "2        3.0  0.000000\n",
              "3        4.0  0.000000\n",
              "4        5.0  0.000000\n",
              "...      ...       ...\n",
              "3160  3161.0 -2.282021\n",
              "3161  3162.0 -2.282184\n",
              "3162  3163.0  0.000000\n",
              "3163  3164.0  0.000000\n",
              "3164  3165.0  0.000000\n",
              "\n",
              "[3165 rows x 2 columns]"
            ]
          },
          "metadata": {},
          "execution_count": 279
        }
      ]
    },
    {
      "cell_type": "code",
      "metadata": {
        "id": "5g-dEeBseFAS"
      },
      "source": [
        "test_set = pd.DataFrame(test)"
      ],
      "execution_count": 280,
      "outputs": []
    },
    {
      "cell_type": "code",
      "metadata": {
        "colab": {
          "base_uri": "https://localhost:8080/",
          "height": 417
        },
        "id": "T3rDI_yxeKmE",
        "outputId": "d2f0b428-8187-49ac-d3f8-04b0735351cb"
      },
      "source": [
        "test_set"
      ],
      "execution_count": 281,
      "outputs": [
        {
          "output_type": "execute_result",
          "data": {
            "text/html": [
              "<div>\n",
              "<style scoped>\n",
              "    .dataframe tbody tr th:only-of-type {\n",
              "        vertical-align: middle;\n",
              "    }\n",
              "\n",
              "    .dataframe tbody tr th {\n",
              "        vertical-align: top;\n",
              "    }\n",
              "\n",
              "    .dataframe thead th {\n",
              "        text-align: right;\n",
              "    }\n",
              "</style>\n",
              "<table border=\"1\" class=\"dataframe\">\n",
              "  <thead>\n",
              "    <tr style=\"text-align: right;\">\n",
              "      <th></th>\n",
              "      <th>0</th>\n",
              "      <th>1</th>\n",
              "    </tr>\n",
              "  </thead>\n",
              "  <tbody>\n",
              "    <tr>\n",
              "      <th>0</th>\n",
              "      <td>3166.0</td>\n",
              "      <td>3.301756</td>\n",
              "    </tr>\n",
              "    <tr>\n",
              "      <th>1</th>\n",
              "      <td>3167.0</td>\n",
              "      <td>3.259960</td>\n",
              "    </tr>\n",
              "    <tr>\n",
              "      <th>2</th>\n",
              "      <td>3168.0</td>\n",
              "      <td>3.260023</td>\n",
              "    </tr>\n",
              "    <tr>\n",
              "      <th>3</th>\n",
              "      <td>3169.0</td>\n",
              "      <td>3.260138</td>\n",
              "    </tr>\n",
              "    <tr>\n",
              "      <th>4</th>\n",
              "      <td>3170.0</td>\n",
              "      <td>3.259851</td>\n",
              "    </tr>\n",
              "    <tr>\n",
              "      <th>...</th>\n",
              "      <td>...</td>\n",
              "      <td>...</td>\n",
              "    </tr>\n",
              "    <tr>\n",
              "      <th>787</th>\n",
              "      <td>3953.0</td>\n",
              "      <td>0.000000</td>\n",
              "    </tr>\n",
              "    <tr>\n",
              "      <th>788</th>\n",
              "      <td>3954.0</td>\n",
              "      <td>0.000000</td>\n",
              "    </tr>\n",
              "    <tr>\n",
              "      <th>789</th>\n",
              "      <td>3955.0</td>\n",
              "      <td>0.000000</td>\n",
              "    </tr>\n",
              "    <tr>\n",
              "      <th>790</th>\n",
              "      <td>3956.0</td>\n",
              "      <td>3.259819</td>\n",
              "    </tr>\n",
              "    <tr>\n",
              "      <th>791</th>\n",
              "      <td>3957.0</td>\n",
              "      <td>3.260193</td>\n",
              "    </tr>\n",
              "  </tbody>\n",
              "</table>\n",
              "<p>792 rows × 2 columns</p>\n",
              "</div>"
            ],
            "text/plain": [
              "          0         1\n",
              "0    3166.0  3.301756\n",
              "1    3167.0  3.259960\n",
              "2    3168.0  3.260023\n",
              "3    3169.0  3.260138\n",
              "4    3170.0  3.259851\n",
              "..      ...       ...\n",
              "787  3953.0  0.000000\n",
              "788  3954.0  0.000000\n",
              "789  3955.0  0.000000\n",
              "790  3956.0  3.259819\n",
              "791  3957.0  3.260193\n",
              "\n",
              "[792 rows x 2 columns]"
            ]
          },
          "metadata": {},
          "execution_count": 281
        }
      ]
    },
    {
      "cell_type": "code",
      "metadata": {
        "colab": {
          "base_uri": "https://localhost:8080/"
        },
        "id": "f1the1T5EOmc",
        "outputId": "5627d784-3abe-4aee-bb23-ef25f864b822"
      },
      "source": [
        "df.columns"
      ],
      "execution_count": 282,
      "outputs": [
        {
          "output_type": "execute_result",
          "data": {
            "text/plain": [
              "Index(['index', 'Current'], dtype='object')"
            ]
          },
          "metadata": {},
          "execution_count": 282
        }
      ]
    },
    {
      "cell_type": "code",
      "metadata": {
        "id": "0_YxlE0XdCjP"
      },
      "source": [
        "df_input = df[['index','Current']]"
      ],
      "execution_count": 283,
      "outputs": []
    },
    {
      "cell_type": "code",
      "metadata": {
        "id": "Dlc4FnMDdCn0"
      },
      "source": [
        "df_input = df_input.set_index('index')"
      ],
      "execution_count": 284,
      "outputs": []
    },
    {
      "cell_type": "code",
      "metadata": {
        "id": "sIOGFPUXfl8N"
      },
      "source": [
        "train_time = 949\n",
        "prediction_length = 949\n",
        "freq = \"2min\""
      ],
      "execution_count": 285,
      "outputs": []
    },
    {
      "cell_type": "code",
      "metadata": {
        "id": "bIOdz6aNfl_E"
      },
      "source": [
        "from gluonts.dataset.common import ListDataset\n",
        "train_data = ListDataset(\n",
        "    [{\"start\": df_input.index[0], \"target\": df_input.Current[:train_time] }],\n",
        "    freq = \"2min\"\n",
        ")"
      ],
      "execution_count": 286,
      "outputs": []
    },
    {
      "cell_type": "code",
      "metadata": {
        "colab": {
          "base_uri": "https://localhost:8080/",
          "height": 289
        },
        "id": "o3VEMuGqfmCj",
        "outputId": "cdb7c344-479d-4d79-e56c-a5bde6ad39e4"
      },
      "source": [
        "entry = next(iter(train_data))\n",
        "train_series = to_pandas(entry)\n",
        "train_series.plot()\n",
        "plt.grid(which=\"both\")\n",
        "plt.legend([\"train series\"], loc=\"upper left\")\n",
        "plt.savefig(\"fig1.pdf\",bbox_inches=\"tight\")\n",
        "plt.show()"
      ],
      "execution_count": 287,
      "outputs": [
        {
          "output_type": "display_data",
          "data": {
            "image/png": "[encoded data removed]",
            "text/plain": [
              "<Figure size 432x288 with 1 Axes>"
            ]
          },
          "metadata": {
            "needs_background": "light"
          }
        }
      ]
    },
    {
      "cell_type": "code",
      "metadata": {
        "id": "NegtiuLcvLWF"
      },
      "source": [
        "test_data = ListDataset(\n",
        "    [{\"start\": df_input.index[0], \"target\": df_input.Current[:]}],\n",
        "    freq = \"2min\"\n",
        ")"
      ],
      "execution_count": 289,
      "outputs": []
    },
    {
      "cell_type": "code",
      "metadata": {
        "colab": {
          "base_uri": "https://localhost:8080/",
          "height": 289
        },
        "id": "8qkov_uhfmIF",
        "outputId": "f208d128-869b-42b8-f43e-7fc04217b09d"
      },
      "source": [
        "entry = next(iter(test_data))\n",
        "test_series = to_pandas(entry)\n",
        "test_series.plot()\n",
        "plt.axvline(train_series.index[-1], color='r') # end of train dataset\n",
        "plt.grid(which=\"both\")\n",
        "plt.legend([\"test series\", \"end of train series\"], loc=\"upper left\")\n",
        "plt.savefig(\"fig2.pdf\",bbox_inches=\"tight\")\n",
        "plt.show()"
      ],
      "execution_count": 290,
      "outputs": [
        {
          "output_type": "display_data",
          "data": {
            "image/png": "[encoded data removed]",
            "text/plain": [
              "<Figure size 432x288 with 1 Axes>"
            ]
          },
          "metadata": {
            "needs_background": "light"
          }
        }
      ]
    },
    {
      "cell_type": "code",
      "metadata": {
        "colab": {
          "base_uri": "https://localhost:8080/"
        },
        "id": "QhoWe6rawAZv",
        "outputId": "a2e19de6-08e4-48fc-8ce4-54375435c7f1"
      },
      "source": [
        "print(f\"Length of forecasting window in test dataset:{len(test_series)-len(train_series)}\")\n",
        "print(f\"Frequency of the time series:{freq}\")"
      ],
      "execution_count": 291,
      "outputs": [
        {
          "output_type": "stream",
          "name": "stdout",
          "text": [
            "Length of forecasting window in test dataset:3009\n",
            "Frequency of the time series:2min\n"
          ]
        }
      ]
    },
    {
      "cell_type": "code",
      "metadata": {
        "id": "2CvnPKD6wAb2"
      },
      "source": [
        "from gluonts.model.simple_feedforward import SimpleFeedForwardEstimator\n",
        "from gluonts.mx.trainer import Trainer"
      ],
      "execution_count": 292,
      "outputs": []
    },
    {
      "cell_type": "code",
      "metadata": {
        "id": "pdmsiYrRwAer"
      },
      "source": [
        "estimator = SimpleFeedForwardEstimator(\n",
        "    num_hidden_dimensions=[10],\n",
        "    prediction_length=250,\n",
        "    context_length=50,\n",
        "    freq=\"2min\",\n",
        "    trainer=Trainer(ctx=\"cpu\", \n",
        "                    epochs=5, \n",
        "                    learning_rate=1e-3, \n",
        "                    num_batches_per_epoch=100\n",
        "                   )\n",
        ")"
      ],
      "execution_count": 293,
      "outputs": []
    },
    {
      "cell_type": "code",
      "metadata": {
        "colab": {
          "base_uri": "https://localhost:8080/"
        },
        "id": "NhL0nVskwAjS",
        "outputId": "2f2a8460-11b5-4f1d-afda-88e889350a1d"
      },
      "source": [
        "predictor = estimator.train(train_data)"
      ],
      "execution_count": 294,
      "outputs": [
        {
          "output_type": "stream",
          "name": "stderr",
          "text": [
            "100%|██████████| 100/100 [00:01<00:00, 79.33it/s, epoch=1/5, avg_epoch_loss=1.47]\n",
            "100%|██████████| 100/100 [00:01<00:00, 81.70it/s, epoch=2/5, avg_epoch_loss=1.11]\n",
            "100%|██████████| 100/100 [00:01<00:00, 78.49it/s, epoch=3/5, avg_epoch_loss=0.933]\n",
            "100%|██████████| 100/100 [00:01<00:00, 77.29it/s, epoch=4/5, avg_epoch_loss=0.72]\n",
            "100%|██████████| 100/100 [00:01<00:00, 79.41it/s, epoch=5/5, avg_epoch_loss=0.594]\n"
          ]
        }
      ]
    },
    {
      "cell_type": "code",
      "metadata": {
        "id": "CASb7jv6_CEd"
      },
      "source": [
        "from gluonts.evaluation.backtest import make_evaluation_predictions"
      ],
      "execution_count": 295,
      "outputs": []
    },
    {
      "cell_type": "code",
      "metadata": {
        "id": "4BL7I1rL_CGo"
      },
      "source": [
        "forecast_it, ts_it = make_evaluation_predictions(\n",
        "    dataset=test_data,  # test dataset\n",
        "    predictor=predictor,  # predictor\n",
        "    num_samples=500,  # number of sample paths we want for evaluation 100\n",
        ")"
      ],
      "execution_count": 296,
      "outputs": []
    },
    {
      "cell_type": "code",
      "metadata": {
        "id": "DOjSmzsT_CJt"
      },
      "source": [
        "forecasts = list(forecast_it)\n",
        "tss = list(ts_it)"
      ],
      "execution_count": 297,
      "outputs": []
    },
    {
      "cell_type": "code",
      "metadata": {
        "id": "Mer7dfY1_CMZ"
      },
      "source": [
        "# first entry of the time series list\n",
        "ts_entry = tss[0]"
      ],
      "execution_count": 298,
      "outputs": []
    },
    {
      "cell_type": "code",
      "metadata": {
        "colab": {
          "base_uri": "https://localhost:8080/"
        },
        "id": "b-8-7Jfg_CO9",
        "outputId": "f312136e-5411-4e59-da31-7916c08f0ba9"
      },
      "source": [
        "# first 5 values of the time series (convert from pandas to numpy)\n",
        "np.array(ts_entry[:5]).reshape(-1,)"
      ],
      "execution_count": 299,
      "outputs": [
        {
          "output_type": "execute_result",
          "data": {
            "text/plain": [
              "array([0., 0., 0., 0., 0.], dtype=float32)"
            ]
          },
          "metadata": {},
          "execution_count": 299
        }
      ]
    },
    {
      "cell_type": "code",
      "metadata": {
        "id": "QXz60jpG_CR6"
      },
      "source": [
        "# first entry of dataset.test\n",
        "dataset_test_entry = next(iter(test_data))"
      ],
      "execution_count": 300,
      "outputs": []
    },
    {
      "cell_type": "code",
      "metadata": {
        "colab": {
          "base_uri": "https://localhost:8080/"
        },
        "id": "tXHfQ2D4_CU0",
        "outputId": "3146f472-9c7a-4146-8722-ae32d9f1d258"
      },
      "source": [
        "# first 5 values\n",
        "dataset_test_entry['target'][:5]"
      ],
      "execution_count": 301,
      "outputs": [
        {
          "output_type": "execute_result",
          "data": {
            "text/plain": [
              "array([0., 0., 0., 0., 0.], dtype=float32)"
            ]
          },
          "metadata": {},
          "execution_count": 301
        }
      ]
    },
    {
      "cell_type": "code",
      "metadata": {
        "id": "zqkSt771_CW-"
      },
      "source": [
        "# first entry of the forecast list\n",
        "forecast_entry = forecasts[0]"
      ],
      "execution_count": 302,
      "outputs": []
    },
    {
      "cell_type": "code",
      "metadata": {
        "colab": {
          "base_uri": "https://localhost:8080/"
        },
        "id": "wp5tTd8z_CZt",
        "outputId": "3b0a0d2b-a311-41de-cae7-8859651abe48"
      },
      "source": [
        "print(f\"Number of sample paths: {forecast_entry.num_samples}\")\n",
        "print(f\"Dimension of samples: {forecast_entry.samples.shape}\")\n",
        "print(f\"Start date of the forecast window: {forecast_entry.start_date}\")\n",
        "print(f\"Frequency of the time series: {forecast_entry.freq}\")"
      ],
      "execution_count": 303,
      "outputs": [
        {
          "output_type": "stream",
          "name": "stdout",
          "text": [
            "Number of sample paths: 500\n",
            "Dimension of samples: (500, 250)\n",
            "Start date of the forecast window: 1970-01-06 03:36:00\n",
            "Frequency of the time series: 2min\n"
          ]
        }
      ]
    },
    {
      "cell_type": "code",
      "metadata": {
        "colab": {
          "base_uri": "https://localhost:8080/"
        },
        "id": "GvKJYScF_CdO",
        "outputId": "6b4a1b3e-d620-4e82-b9a7-d5b655e0b80c"
      },
      "source": [
        "print(f\"Mean of the future window:\\n {forecast_entry.mean}\")\n",
        "print(f\"0.5-quantile (median) of the future window:\\n {forecast_entry.quantile(0.5)}\")"
      ],
      "execution_count": 304,
      "outputs": [
        {
          "output_type": "stream",
          "name": "stdout",
          "text": [
            "Mean of the future window:\n",
            " [-2.29520798e+00 -2.22211289e+00 -2.27021742e+00 -2.33671641e+00\n",
            " -2.14415884e+00 -1.91683352e+00 -1.56738365e+00 -1.42152727e+00\n",
            " -1.40405810e+00 -8.99448931e-01 -5.82323134e-01  8.90691996e-01\n",
            " -4.62713987e-01  7.49384046e-01  1.16698563e+00  1.24327135e+00\n",
            "  1.59537125e+00  1.81377649e+00  2.05410504e+00  2.13439775e+00\n",
            "  2.23828554e+00  2.14890385e+00  1.91877961e+00  2.16756654e+00\n",
            "  1.73337197e+00  1.98868501e+00  1.62986612e+00  1.51694369e+00\n",
            "  1.74410427e+00  1.67755747e+00  1.56303167e+00  1.52744830e+00\n",
            "  1.41547382e+00  1.39550602e+00  1.27822661e+00  1.23102283e+00\n",
            "  1.22718954e+00  1.15462625e+00  1.13644767e+00  1.09332323e+00\n",
            "  1.06982613e+00  1.03660560e+00  1.00732291e+00  8.74928236e-01\n",
            "  8.69694829e-01  8.15890074e-01  7.51629949e-01  7.33449101e-01\n",
            "  6.83431387e-01  3.02794129e-01 -8.44720111e-04 -4.77039784e-01\n",
            " -1.08423865e+00 -1.70272160e+00 -2.21959400e+00 -2.28738952e+00\n",
            " -2.39070559e+00 -2.28524661e+00 -2.21902609e+00 -2.22450900e+00\n",
            " -2.24150562e+00 -2.26169014e+00 -2.27876520e+00 -2.26471710e+00\n",
            " -2.27019954e+00 -2.28091621e+00 -2.25883412e+00 -2.22837663e+00\n",
            " -2.31247377e+00 -2.32181978e+00 -2.28609467e+00 -2.25689077e+00\n",
            " -2.26878476e+00 -2.31092525e+00 -2.29768276e+00 -2.23745871e+00\n",
            " -2.24418998e+00 -2.26505780e+00 -2.34909415e+00 -2.41377974e+00\n",
            " -2.29328036e+00 -2.32117534e+00 -2.24077320e+00 -1.92246866e+00\n",
            " -1.41919637e+00 -1.03570497e+00 -1.04601860e+00 -6.75745666e-01\n",
            " -6.66613281e-01 -1.31776363e-01 -1.16078794e-01  9.86240864e-01\n",
            "  1.12071371e+00  1.38380599e+00  1.30992579e+00  1.87104881e+00\n",
            "  2.01600528e+00  2.25331664e+00  1.99440336e+00  1.99232376e+00\n",
            "  1.76366818e+00  1.94627023e+00  1.96910954e+00  1.82114863e+00\n",
            "  1.87066853e+00  1.73808849e+00  1.69427550e+00  1.55608582e+00\n",
            "  1.62971783e+00  1.43419397e+00  1.46475768e+00  1.37647140e+00\n",
            "  1.30435014e+00  1.18770409e+00  1.18999302e+00  1.06636250e+00\n",
            "  9.81339931e-01  9.41239834e-01  9.31603372e-01  9.20245171e-01\n",
            "  1.01400030e+00  9.12437677e-01  8.99239421e-01  8.10593843e-01\n",
            "  7.73712397e-01  7.29046345e-01  5.30494630e-01  2.28788093e-01\n",
            " -2.03601673e-01 -8.87241960e-01 -1.49097478e+00 -1.94166327e+00\n",
            " -2.28472900e+00 -2.28991103e+00 -2.30564857e+00 -2.26698756e+00\n",
            " -2.18925595e+00 -2.25341082e+00 -2.24501944e+00 -2.37936521e+00\n",
            " -2.29106879e+00 -2.22083569e+00 -2.23314643e+00 -2.29138732e+00\n",
            " -2.30803776e+00 -2.28623891e+00 -2.24147272e+00 -2.25808930e+00\n",
            " -2.24213409e+00 -2.28173137e+00 -2.28590798e+00 -2.27817869e+00\n",
            " -2.32165933e+00 -2.23575211e+00 -2.26105309e+00 -2.28261089e+00\n",
            " -2.23922443e+00 -2.56110930e+00 -2.35804391e+00 -2.38573885e+00\n",
            " -2.13485241e+00 -1.91846681e+00 -1.52520788e+00 -1.21323299e+00\n",
            " -1.13931894e+00 -9.47626770e-01  4.41044658e-01 -5.64258933e-01\n",
            "  1.04742742e+00  1.11506188e+00  1.31356823e+00  1.53943014e+00\n",
            "  2.03130054e+00  2.22786856e+00  2.15784931e+00  2.39400959e+00\n",
            "  2.03694463e+00  2.01532483e+00  1.87467599e+00  2.28287625e+00\n",
            "  1.99337780e+00  1.90095067e+00  1.68909848e+00  1.69035065e+00\n",
            "  1.68713963e+00  1.59606588e+00  1.54918325e+00  1.46862411e+00\n",
            "  1.44866490e+00  1.31236482e+00  1.24263549e+00  1.17076612e+00\n",
            "  1.11277986e+00  1.01655185e+00  9.79449511e-01  9.63181853e-01\n",
            "  9.34776723e-01  8.84727478e-01  8.48634183e-01  7.90928721e-01\n",
            "  8.48499358e-01  8.28818142e-01  8.35024357e-01  7.42809236e-01\n",
            "  5.59960783e-01  1.78368181e-01 -4.63564992e-01 -7.47686982e-01\n",
            " -1.70387757e+00 -2.13201475e+00 -2.26680398e+00 -2.31413627e+00\n",
            " -2.37880611e+00 -2.22888446e+00 -2.23037815e+00 -2.26460433e+00\n",
            " -2.29757404e+00 -2.26509380e+00 -2.29184914e+00 -2.26121831e+00\n",
            " -2.26894474e+00 -2.30855870e+00 -2.24230194e+00 -2.22225356e+00\n",
            " -2.24759007e+00 -2.23640704e+00 -2.21603417e+00 -2.24661684e+00\n",
            " -2.27050209e+00 -2.19363880e+00 -2.27992773e+00 -2.18361306e+00\n",
            " -2.25114799e+00 -2.24933004e+00 -2.22907734e+00 -2.25973082e+00\n",
            " -2.35362434e+00 -2.35452628e+00 -2.30308366e+00 -1.88474762e+00\n",
            " -1.34900415e+00 -1.25442791e+00 -7.82830775e-01 -7.26234853e-01\n",
            " -5.47016442e-01  6.72511160e-01 -1.16367966e-01  1.12983775e+00\n",
            "  1.36752748e+00  1.50341618e+00]\n",
            "0.5-quantile (median) of the future window:\n",
            " [-2.2968695  -2.2365816  -2.2845116  -2.3588989  -2.134274   -1.9280304\n",
            " -1.5742747  -1.4708272  -1.4135903  -0.98215306 -0.55598694  0.7855678\n",
            " -0.38481253  0.8223269   1.1688629   1.2714863   1.5871557   1.8758166\n",
            "  2.0677464   2.152192    2.2352448   2.1112778   1.887889    2.1423411\n",
            "  1.729645    2.0025375   1.6244096   1.5302035   1.739222    1.6743987\n",
            "  1.559152    1.5300236   1.4136404   1.39096     1.278569    1.2329824\n",
            "  1.2288866   1.1455842   1.1400626   1.0938535   1.0685775   1.0431001\n",
            "  1.0179836   0.8771351   0.87278813  0.81473756  0.75497144  0.73558694\n",
            "  0.68167216  0.29951963  0.00555013 -0.46301728 -1.0834119  -1.7034528\n",
            " -2.2194552  -2.2936597  -2.3983974  -2.2775707  -2.2153573  -2.239347\n",
            " -2.2448223  -2.2643383  -2.2737145  -2.264684   -2.2673106  -2.2884188\n",
            " -2.257109   -2.2296112  -2.316159   -2.3234465  -2.2847984  -2.2573094\n",
            " -2.2626002  -2.3041992  -2.2707891  -2.2397923  -2.2414598  -2.3071303\n",
            " -2.3114467  -2.3684568  -2.3233712  -2.351264   -2.24076    -1.9381783\n",
            " -1.4129953  -1.044332   -1.0941955  -0.7170259  -0.64051    -0.19047686\n",
            " -0.15010744  0.974401    1.1394671   1.4164912   1.3156343   1.8371898\n",
            "  2.0110333   2.2281585   2.0213408   2.041417    1.8427433   1.9584733\n",
            "  1.9604357   1.790697    1.8658583   1.7360561   1.6926911   1.5559912\n",
            "  1.624575    1.4300294   1.459896    1.3744372   1.3030854   1.1928064\n",
            "  1.1885608   1.0706682   0.97740155  0.9410557   0.93252647  0.918722\n",
            "  1.0169888   0.91374433  0.90293056  0.8039878   0.7686596   0.72109044\n",
            "  0.53034705  0.22540902 -0.20218262 -0.89506483 -1.5055703  -1.938174\n",
            " -2.2735398  -2.2869575  -2.309042   -2.269873   -2.1986396  -2.2537172\n",
            " -2.243793   -2.383655   -2.3003845  -2.2361677  -2.2263572  -2.282806\n",
            " -2.3069534  -2.2861419  -2.246039   -2.254227   -2.2428582  -2.287209\n",
            " -2.2787375  -2.2855737  -2.3175116  -2.2473896  -2.2680552  -2.2854047\n",
            " -2.2298746  -2.459881   -2.362939   -2.345508   -2.1452491  -1.8761743\n",
            " -1.4908482  -1.1411529  -1.0002631  -0.9990856   0.51670265 -0.52696025\n",
            "  1.1216204   1.1508716   1.2961615   1.5546376   2.005047    2.246033\n",
            "  2.1586344   2.401294    2.0281265   2.0097878   1.8818617   2.2212946\n",
            "  1.9799216   1.915861    1.7201582   1.6919742   1.6889906   1.6027492\n",
            "  1.5466378   1.4679836   1.4465966   1.317297    1.239149    1.1722565\n",
            "  1.1095216   1.0135149   0.9842518   0.9670057   0.9284464   0.882003\n",
            "  0.8593852   0.7949708   0.838201    0.8271414   0.8366991   0.7471826\n",
            "  0.559291    0.18240434 -0.45809022 -0.7449932  -1.7143658  -2.130948\n",
            " -2.263051   -2.3141     -2.3780224  -2.2228835  -2.2288084  -2.2755604\n",
            " -2.306608   -2.2596586  -2.295573   -2.2654345  -2.2702606  -2.3074942\n",
            " -2.239588   -2.2314553  -2.245426   -2.2371354  -2.227966   -2.2439218\n",
            " -2.262519   -2.2083151  -2.2704198  -2.1825914  -2.2619786  -2.2277143\n",
            " -2.297797   -2.2743413  -2.3283248  -2.316786   -2.3513699  -1.9210335\n",
            " -1.3888843  -1.1675662  -0.84307563 -0.8119089  -0.46016678  0.66629416\n",
            "  0.0724059   1.1459638   1.3552451   1.4573231 ]\n"
          ]
        }
      ]
    },
    {
      "cell_type": "code",
      "metadata": {
        "id": "l4hT4FX0_sBf"
      },
      "source": [
        "def plot_prob_forecasts(ts_entry, forecast_entry):\n",
        "    plot_length = 500\n",
        "    prediction_intervals = (50.0, 90.0)\n",
        "    legend = [\"observations\", \"median prediction\"] + [f\"{k}% prediction interval\" for k in prediction_intervals][::-1]\n",
        "\n",
        "    fig, ax = plt.subplots(1, 1, figsize=(10, 7))\n",
        "    ts_entry[-plot_length:].plot(ax=ax)  # plot the time series\n",
        "    forecast_entry.plot(prediction_intervals=prediction_intervals, color='g')\n",
        "    plt.grid(which=\"both\")\n",
        "    plt.ylim(-3,4)\n",
        "    plt.legend(legend, loc=\"upper left\")\n",
        "    plt.savefig(\"fig3.pdf\",bbox_inches=\"tight\")\n",
        "    plt.show()"
      ],
      "execution_count": 305,
      "outputs": []
    },
    {
      "cell_type": "code",
      "metadata": {
        "colab": {
          "base_uri": "https://localhost:8080/",
          "height": 444
        },
        "id": "eGL634gS_sFB",
        "outputId": "4e389369-fa9a-48f6-8788-2881d2102a4d"
      },
      "source": [
        "plot_prob_forecasts(ts_entry, forecast_entry)"
      ],
      "execution_count": 306,
      "outputs": [
        {
          "output_type": "display_data",
          "data": {
            "image/png": "[encoded data removed]",
            "text/plain": [
              "<Figure size 720x504 with 1 Axes>"
            ]
          },
          "metadata": {
            "needs_background": "light"
          }
        }
      ]
    },
    {
      "cell_type": "code",
      "metadata": {
        "id": "ZNQ9VW-i_sIV"
      },
      "source": [
        "from gluonts.evaluation import Evaluator"
      ],
      "execution_count": 307,
      "outputs": []
    },
    {
      "cell_type": "code",
      "metadata": {
        "colab": {
          "base_uri": "https://localhost:8080/"
        },
        "id": "K8qjJvhC_sX6",
        "outputId": "66f14310-acf2-4b22-b0a2-37fe4ccb06a2"
      },
      "source": [
        "evaluator = Evaluator(quantiles=[0.5,0.1,0.9])\n",
        "agg_metrics, item_metrics = evaluator(iter(tss), iter(forecasts), num_series=len(test_data))"
      ],
      "execution_count": 308,
      "outputs": [
        {
          "output_type": "stream",
          "name": "stderr",
          "text": [
            "Running evaluation: 100%|██████████| 1/1 [00:00<00:00, 28.01it/s]\n"
          ]
        }
      ]
    },
    {
      "cell_type": "code",
      "metadata": {
        "colab": {
          "base_uri": "https://localhost:8080/"
        },
        "id": "BGoIY9no_9k1",
        "outputId": "959d9570-3998-4e77-b9d8-5bbbbfd6256a"
      },
      "source": [
        "print(json.dumps(agg_metrics, indent=4))"
      ],
      "execution_count": 309,
      "outputs": [
        {
          "output_type": "stream",
          "name": "stdout",
          "text": [
            "{\n",
            "    \"MSE\": 0.7358414306640625,\n",
            "    \"abs_error\": 126.35072326660156,\n",
            "    \"abs_target_sum\": 475.7149658203125,\n",
            "    \"abs_target_mean\": 1.90285986328125,\n",
            "    \"seasonal_error\": 1.7706467144620148,\n",
            "    \"MASE\": 0.2854340670775568,\n",
            "    \"MAPE\": 0.2198846475526235,\n",
            "    \"sMAPE\": 0.4165400390625,\n",
            "    \"MSIS\": 3.186331930577523,\n",
            "    \"QuantileLoss[0.5]\": 126.3507197201252,\n",
            "    \"Coverage[0.5]\": 0.332,\n",
            "    \"QuantileLoss[0.1]\": 43.45579291880131,\n",
            "    \"Coverage[0.1]\": 0.012,\n",
            "    \"QuantileLoss[0.9]\": 101.00717009305956,\n",
            "    \"Coverage[0.9]\": 0.644,\n",
            "    \"RMSE\": 0.8578120019351924,\n",
            "    \"NRMSE\": 0.4508014586297491,\n",
            "    \"ND\": 0.2656017412627016,\n",
            "    \"wQuantileLoss[0.5]\": 0.26560173380765684,\n",
            "    \"wQuantileLoss[0.1]\": 0.09134838304669916,\n",
            "    \"wQuantileLoss[0.9]\": 0.2123270810261035,\n",
            "    \"mean_absolute_QuantileLoss\": 90.2712275773287,\n",
            "    \"mean_wQuantileLoss\": 0.18975906596015316,\n",
            "    \"MAE_Coverage\": 0.17066666666666666,\n",
            "    \"OWA\": NaN\n",
            "}\n"
          ]
        }
      ]
    },
    {
      "cell_type": "code",
      "metadata": {
        "colab": {
          "base_uri": "https://localhost:8080/",
          "height": 100
        },
        "id": "JnrPgobQ_9nq",
        "outputId": "8edaf762-8097-4ac3-c82c-01a2e3627d50"
      },
      "source": [
        "item_metrics"
      ],
      "execution_count": 310,
      "outputs": [
        {
          "output_type": "execute_result",
          "data": {
            "text/html": [
              "<div>\n",
              "<style scoped>\n",
              "    .dataframe tbody tr th:only-of-type {\n",
              "        vertical-align: middle;\n",
              "    }\n",
              "\n",
              "    .dataframe tbody tr th {\n",
              "        vertical-align: top;\n",
              "    }\n",
              "\n",
              "    .dataframe thead th {\n",
              "        text-align: right;\n",
              "    }\n",
              "</style>\n",
              "<table border=\"1\" class=\"dataframe\">\n",
              "  <thead>\n",
              "    <tr style=\"text-align: right;\">\n",
              "      <th></th>\n",
              "      <th>item_id</th>\n",
              "      <th>MSE</th>\n",
              "      <th>abs_error</th>\n",
              "      <th>abs_target_sum</th>\n",
              "      <th>abs_target_mean</th>\n",
              "      <th>seasonal_error</th>\n",
              "      <th>MASE</th>\n",
              "      <th>MAPE</th>\n",
              "      <th>sMAPE</th>\n",
              "      <th>MSIS</th>\n",
              "      <th>QuantileLoss[0.5]</th>\n",
              "      <th>Coverage[0.5]</th>\n",
              "      <th>QuantileLoss[0.1]</th>\n",
              "      <th>Coverage[0.1]</th>\n",
              "      <th>QuantileLoss[0.9]</th>\n",
              "      <th>Coverage[0.9]</th>\n",
              "    </tr>\n",
              "  </thead>\n",
              "  <tbody>\n",
              "    <tr>\n",
              "      <th>0</th>\n",
              "      <td>NaN</td>\n",
              "      <td>0.735841</td>\n",
              "      <td>126.350723</td>\n",
              "      <td>475.714966</td>\n",
              "      <td>1.90286</td>\n",
              "      <td>1.770647</td>\n",
              "      <td>0.285434</td>\n",
              "      <td>0.219885</td>\n",
              "      <td>0.41654</td>\n",
              "      <td>3.186332</td>\n",
              "      <td>126.35072</td>\n",
              "      <td>0.332</td>\n",
              "      <td>43.455793</td>\n",
              "      <td>0.012</td>\n",
              "      <td>101.00717</td>\n",
              "      <td>0.644</td>\n",
              "    </tr>\n",
              "  </tbody>\n",
              "</table>\n",
              "</div>"
            ],
            "text/plain": [
              "   item_id       MSE  ...  QuantileLoss[0.9]  Coverage[0.9]\n",
              "0      NaN  0.735841  ...          101.00717          0.644\n",
              "\n",
              "[1 rows x 16 columns]"
            ]
          },
          "metadata": {},
          "execution_count": 310
        }
      ]
    },
    {
      "cell_type": "code",
      "metadata": {
        "colab": {
          "base_uri": "https://localhost:8080/",
          "height": 279
        },
        "id": "sAIHZco0_9qU",
        "outputId": "cf6a5ccc-981d-461f-98ac-28b178a1e6d8"
      },
      "source": [
        "item_metrics.plot(x='MSIS', y='MASE', kind='scatter')\n",
        "plt.grid(which=\"both\")\n",
        "plt.savefig(\"fig4.pdf\",bbox_inches=\"tight\")\n",
        "plt.show()"
      ],
      "execution_count": 311,
      "outputs": [
        {
          "output_type": "display_data",
          "data": {
            "image/png": "[encoded data removed]",
            "text/plain": [
              "<Figure size 432x288 with 1 Axes>"
            ]
          },
          "metadata": {
            "needs_background": "light"
          }
        }
      ]
    },
    {
      "cell_type": "code",
      "metadata": {
        "id": "Hvfrw7ym_9tz"
      },
      "source": [
        "# own forecast model"
      ],
      "execution_count": 312,
      "outputs": []
    },
    {
      "cell_type": "code",
      "metadata": {
        "id": "yV53Ow6SAIV1"
      },
      "source": [
        "class MyNetwork(gluon.HybridBlock):\n",
        "    def __init__(self, prediction_length, num_cells, **kwargs):\n",
        "        super().__init__(**kwargs)\n",
        "        self.prediction_length = prediction_length\n",
        "        self.num_cells = num_cells\n",
        "\n",
        "        with self.name_scope():\n",
        "            # Set up a 3 layer neural network that directly predicts the target values\n",
        "            self.nn = mx.gluon.nn.HybridSequential()\n",
        "            self.nn.add(mx.gluon.nn.Dense(units=820, activation='relu'))\n",
        "            self.nn.add(mx.gluon.nn.Dense(units=820, activation='relu'))\n",
        "            self.nn.add(mx.gluon.nn.Dense(units=self.prediction_length, activation='relu'))\n",
        "\n",
        "\n",
        "class MyTrainNetwork(MyNetwork):\n",
        "    def hybrid_forward(self, F, past_target, future_target):\n",
        "        prediction = self.nn(past_target)\n",
        "        # calculate L1 loss with the future_target to learn the median\n",
        "        return (prediction - future_target).abs().mean(axis=-1)\n",
        "\n",
        "\n",
        "class MyPredNetwork(MyTrainNetwork):\n",
        "    # The prediction network only receives past_target and returns predictions\n",
        "    def hybrid_forward(self, F, past_target):\n",
        "        prediction = self.nn(past_target)\n",
        "        return prediction.expand_dims(axis=1)"
      ],
      "execution_count": 313,
      "outputs": []
    },
    {
      "cell_type": "code",
      "metadata": {
        "id": "dDZyrrESAIYb"
      },
      "source": [
        "def plot_prob_forecasts_2(ts_entry, forecast_entry):\n",
        "    plot_length = 500\n",
        "    prediction_intervals = (50.0, 90.0)\n",
        "    legend = [\"observations\", \"median prediction\"] + [f\"{k}% prediction interval\" for k in prediction_intervals][::-1]\n",
        "\n",
        "    fig, ax = plt.subplots(1, 1, figsize=(10, 7))\n",
        "    ts_entry[-plot_length:].plot(ax=ax)  # plot the time series\n",
        "    forecast_entry.plot(prediction_intervals=prediction_intervals, color='g')\n",
        "    plt.grid(which=\"both\")\n",
        "    plt.ylim(-3,4)\n",
        "    plt.legend(legend, loc=\"upper left\")\n",
        "    plt.savefig(\"fig5.pdf\",bbox_inches=\"tight\")\n",
        "    plt.show()"
      ],
      "execution_count": 315,
      "outputs": []
    },
    {
      "cell_type": "code",
      "metadata": {
        "id": "4TnPZh8UAIbe"
      },
      "source": [
        "from functools import partial\n",
        "from mxnet.gluon import HybridBlock\n",
        "from gluonts.core.component import validated\n",
        "from gluonts.dataset.loader import TrainDataLoader\n",
        "from gluonts.model.predictor import Predictor\n",
        "from gluonts.mx.batchify import as_in_context, batchify\n",
        "from gluonts.mx.model.estimator import GluonEstimator\n",
        "from gluonts.mx.model.predictor import RepresentableBlockPredictor\n",
        "from gluonts.mx.trainer import Trainer\n",
        "from gluonts.mx.util import copy_parameters, get_hybrid_forward_input_names\n",
        "from gluonts.transform import (\n",
        "    ExpectedNumInstanceSampler,\n",
        "    Transformation,\n",
        "    InstanceSplitter,\n",
        "    TestSplitSampler,\n",
        "    SelectFields,\n",
        "    Chain\n",
        ")"
      ],
      "execution_count": 316,
      "outputs": []
    },
    {
      "cell_type": "code",
      "metadata": {
        "id": "8XAQqNJpAId6"
      },
      "source": [
        "class MyEstimator(GluonEstimator):\n",
        "    @validated()\n",
        "    def __init__(\n",
        "        self,\n",
        "        prediction_length: int,\n",
        "        context_length: int,\n",
        "        freq: str,\n",
        "        num_cells: int,\n",
        "        batch_size: int = 32,\n",
        "        trainer: Trainer = Trainer()\n",
        "    ) -> None:\n",
        "        super().__init__(trainer=trainer, batch_size=batch_size)\n",
        "        self.prediction_length = prediction_length\n",
        "        self.context_length = context_length\n",
        "        self.freq = freq\n",
        "        self.num_cells = num_cells\n",
        "\n",
        "    def create_transformation(self):\n",
        "        return Chain([])\n",
        "\n",
        "    def create_training_data_loader(self, dataset, **kwargs):\n",
        "        instance_splitter = InstanceSplitter(\n",
        "            target_field=FieldName.TARGET,\n",
        "            is_pad_field=FieldName.IS_PAD,\n",
        "            start_field=FieldName.START,\n",
        "            forecast_start_field=FieldName.FORECAST_START,\n",
        "            instance_sampler=ExpectedNumInstanceSampler(\n",
        "                num_instances=1,\n",
        "                min_future=self.prediction_length\n",
        "            ),\n",
        "            past_length=self.context_length,\n",
        "            future_length=self.prediction_length,\n",
        "        )\n",
        "        input_names = get_hybrid_forward_input_names(MyTrainNetwork)\n",
        "        return TrainDataLoader(\n",
        "            dataset=dataset,\n",
        "            transform=instance_splitter + SelectFields(input_names),\n",
        "            batch_size=self.batch_size,\n",
        "            stack_fn=partial(batchify, ctx=self.trainer.ctx, dtype=self.dtype),\n",
        "            decode_fn=partial(as_in_context, ctx=self.trainer.ctx),\n",
        "            **kwargs,\n",
        "        )\n",
        "\n",
        "    def create_training_network(self) -> MyTrainNetwork:\n",
        "        return MyTrainNetwork(\n",
        "            prediction_length=self.prediction_length,\n",
        "            num_cells = self.num_cells\n",
        "        )\n",
        "\n",
        "    def create_predictor(\n",
        "        self, transformation: Transformation, trained_network: HybridBlock\n",
        "    ) -> Predictor:\n",
        "        prediction_splitter = InstanceSplitter(\n",
        "            target_field=FieldName.TARGET,\n",
        "            is_pad_field=FieldName.IS_PAD,\n",
        "            start_field=FieldName.START,\n",
        "            forecast_start_field=FieldName.FORECAST_START,\n",
        "            instance_sampler=TestSplitSampler(),\n",
        "            past_length=self.context_length,\n",
        "            future_length=self.prediction_length,\n",
        "        )\n",
        "\n",
        "        prediction_network = MyPredNetwork(\n",
        "            prediction_length=self.prediction_length,\n",
        "            num_cells=self.num_cells\n",
        "        )\n",
        "\n",
        "        copy_parameters(trained_network, prediction_network)\n",
        "\n",
        "        return RepresentableBlockPredictor(\n",
        "            input_transform=transformation + prediction_splitter,\n",
        "            prediction_net=prediction_network,\n",
        "            batch_size=self.trainer.batch_size,\n",
        "            freq=self.freq,\n",
        "            prediction_length=self.prediction_length,\n",
        "            ctx=self.trainer.ctx,\n",
        "        )"
      ],
      "execution_count": 317,
      "outputs": []
    },
    {
      "cell_type": "code",
      "metadata": {
        "id": "YLf6ySgo2iAg"
      },
      "source": [
        "\n",
        "# define the parameters of the dataset\n",
        "custom_ds_metadata = {\n",
        "    'num_series': 1,\n",
        "    'num_steps': 1901,\n",
        "    'prediction_length': 100,\n",
        "    'freq': '2min',\n",
        "    'start': [\n",
        "        pd.Timestamp(\"01-01-2019\", freq='2min')\n",
        "        for _ in range(100)\n",
        "    ]\n",
        "}"
      ],
      "execution_count": 318,
      "outputs": []
    },
    {
      "cell_type": "code",
      "metadata": {
        "id": "UMl3St3IAIia"
      },
      "source": [
        "estimator = MyEstimator(\n",
        "    prediction_length=250,     #custom_ds_metadata['prediction_length'],\n",
        "    context_length = custom_ds_metadata['prediction_length'],\n",
        "    freq=custom_ds_metadata['freq'],\n",
        "    num_cells=40, #40\n",
        "    trainer=Trainer(\n",
        "        ctx=\"cpu\",\n",
        "        epochs=5,\n",
        "        learning_rate=1e-3, #-3\n",
        "        hybridize=False,\n",
        "        num_batches_per_epoch=2000\n",
        "    )\n",
        ")"
      ],
      "execution_count": 339,
      "outputs": []
    },
    {
      "cell_type": "code",
      "metadata": {
        "colab": {
          "base_uri": "https://localhost:8080/"
        },
        "id": "A1R6cBlx2vUv",
        "outputId": "d1b0b9ed-7dfa-4b4a-a69a-76205544a07e"
      },
      "source": [
        "from gluonts.dataset.field_names import FieldName\n",
        "[f\"FieldName.{k} = '{v}'\" for k, v in FieldName.__dict__.items() if not k.startswith('_')]"
      ],
      "execution_count": 340,
      "outputs": [
        {
          "output_type": "execute_result",
          "data": {
            "text/plain": [
              "[\"FieldName.ITEM_ID = 'item_id'\",\n",
              " \"FieldName.START = 'start'\",\n",
              " \"FieldName.TARGET = 'target'\",\n",
              " \"FieldName.FEAT_STATIC_CAT = 'feat_static_cat'\",\n",
              " \"FieldName.FEAT_STATIC_REAL = 'feat_static_real'\",\n",
              " \"FieldName.FEAT_DYNAMIC_CAT = 'feat_dynamic_cat'\",\n",
              " \"FieldName.FEAT_DYNAMIC_REAL = 'feat_dynamic_real'\",\n",
              " \"FieldName.PAST_FEAT_DYNAMIC_REAL = 'past_feat_dynamic_real'\",\n",
              " \"FieldName.FEAT_DYNAMIC_REAL_LEGACY = 'dynamic_feat'\",\n",
              " \"FieldName.FEAT_DYNAMIC = 'feat_dynamic'\",\n",
              " \"FieldName.PAST_FEAT_DYNAMIC = 'past_feat_dynamic'\",\n",
              " \"FieldName.FEAT_TIME = 'time_feat'\",\n",
              " \"FieldName.FEAT_CONST = 'feat_dynamic_const'\",\n",
              " \"FieldName.FEAT_AGE = 'feat_dynamic_age'\",\n",
              " \"FieldName.OBSERVED_VALUES = 'observed_values'\",\n",
              " \"FieldName.IS_PAD = 'is_pad'\",\n",
              " \"FieldName.FORECAST_START = 'forecast_start'\",\n",
              " \"FieldName.TARGET_DIM_INDICATOR = 'target_dimension_indicator'\"]"
            ]
          },
          "metadata": {},
          "execution_count": 340
        }
      ]
    },
    {
      "cell_type": "code",
      "metadata": {
        "colab": {
          "base_uri": "https://localhost:8080/"
        },
        "id": "O-V6TckVAIk8",
        "outputId": "eff37a26-fefb-43bc-f7de-68ca6a562f83"
      },
      "source": [
        "predictor = estimator.train(train_data)"
      ],
      "execution_count": 341,
      "outputs": [
        {
          "output_type": "stream",
          "name": "stderr",
          "text": [
            "100%|██████████| 2000/2000 [00:35<00:00, 56.46it/s, epoch=1/5, avg_epoch_loss=1.15]\n",
            "100%|██████████| 2000/2000 [00:35<00:00, 57.01it/s, epoch=2/5, avg_epoch_loss=1.08]\n",
            "100%|██████████| 2000/2000 [00:35<00:00, 56.72it/s, epoch=3/5, avg_epoch_loss=1.06]\n",
            "100%|██████████| 2000/2000 [00:35<00:00, 56.50it/s, epoch=4/5, avg_epoch_loss=1.05]\n",
            "100%|██████████| 2000/2000 [00:35<00:00, 56.71it/s, epoch=5/5, avg_epoch_loss=1.04]\n"
          ]
        }
      ]
    },
    {
      "cell_type": "code",
      "metadata": {
        "id": "bbt6sADcAInM"
      },
      "source": [
        "forecast_it, ts_it = make_evaluation_predictions(\n",
        "    dataset=test_data,  # test dataset\n",
        "    predictor=predictor,  # predictor\n",
        "    num_samples=100,  # number of sample paths we want for evaluation\n",
        ")"
      ],
      "execution_count": 342,
      "outputs": []
    },
    {
      "cell_type": "code",
      "metadata": {
        "id": "RBXpP0N8AIpx"
      },
      "source": [
        "forecasts = list(forecast_it)\n",
        "tss = list(ts_it)"
      ],
      "execution_count": 343,
      "outputs": []
    },
    {
      "cell_type": "code",
      "metadata": {
        "id": "dLvjeWV9AucS",
        "colab": {
          "base_uri": "https://localhost:8080/",
          "height": 444
        },
        "outputId": "d63913bc-2017-4afd-f96e-697d636b8b22"
      },
      "source": [
        "plot_prob_forecasts_2(tss[0], forecasts[0])"
      ],
      "execution_count": 344,
      "outputs": [
        {
          "output_type": "display_data",
          "data": {
            "image/png": "[encoded data removed]",
            "text/plain": [
              "<Figure size 720x504 with 1 Axes>"
            ]
          },
          "metadata": {
            "needs_background": "light"
          }
        }
      ]
    },
    {
      "cell_type": "code",
      "metadata": {
        "id": "72mdTQhLAues",
        "colab": {
          "base_uri": "https://localhost:8080/"
        },
        "outputId": "7d8d25e5-b827-4abc-b307-3c8df05b4fb8"
      },
      "source": [
        "evaluator = Evaluator(quantiles=[0.1, 0.5, 0.9])\n",
        "agg_metrics, item_metrics = evaluator(iter(tss), iter(forecasts), num_series=len(test_data))"
      ],
      "execution_count": 345,
      "outputs": [
        {
          "output_type": "stream",
          "name": "stderr",
          "text": [
            "Running evaluation: 100%|██████████| 1/1 [00:00<00:00, 26.10it/s]\n"
          ]
        }
      ]
    },
    {
      "cell_type": "code",
      "metadata": {
        "id": "xDu1hSNuAuhc",
        "colab": {
          "base_uri": "https://localhost:8080/"
        },
        "outputId": "5d8c2219-9a9d-4c88-de2a-25b1de646efd"
      },
      "source": [
        "print(json.dumps(agg_metrics, indent=4))"
      ],
      "execution_count": 346,
      "outputs": [
        {
          "output_type": "stream",
          "name": "stdout",
          "text": [
            "{\n",
            "    \"MSE\": 2.8508623046875,\n",
            "    \"abs_error\": 312.02294921875,\n",
            "    \"abs_target_sum\": 475.7149658203125,\n",
            "    \"abs_target_mean\": 1.90285986328125,\n",
            "    \"seasonal_error\": 1.7706467144620148,\n",
            "    \"MASE\": 0.7048790629327852,\n",
            "    \"MAPE\": 0.5801146394821234,\n",
            "    \"sMAPE\": 1.1275990804036458,\n",
            "    \"MSIS\": 28.19516251731141,\n",
            "    \"QuantileLoss[0.1]\": 513.6243173360825,\n",
            "    \"Coverage[0.1]\": 0.48,\n",
            "    \"QuantileLoss[0.5]\": 312.02294051647186,\n",
            "    \"Coverage[0.5]\": 0.48,\n",
            "    \"QuantileLoss[0.9]\": 110.42156369686126,\n",
            "    \"Coverage[0.9]\": 0.48,\n",
            "    \"RMSE\": 1.6884496749052071,\n",
            "    \"NRMSE\": 0.8873221341658242,\n",
            "    \"ND\": 0.6559031597433653,\n",
            "    \"wQuantileLoss[0.1]\": 1.0796892135827596,\n",
            "    \"wQuantileLoss[0.5]\": 0.6559031414503143,\n",
            "    \"wQuantileLoss[0.9]\": 0.2321170693178692,\n",
            "    \"mean_absolute_QuantileLoss\": 312.02294051647186,\n",
            "    \"mean_wQuantileLoss\": 0.6559031414503144,\n",
            "    \"MAE_Coverage\": 0.2733333333333334,\n",
            "    \"OWA\": NaN\n",
            "}\n"
          ]
        }
      ]
    },
    {
      "cell_type": "code",
      "metadata": {
        "id": "c7s2rVYUAujs",
        "colab": {
          "base_uri": "https://localhost:8080/",
          "height": 100
        },
        "outputId": "edef77ef-2e56-41be-9194-2f09b47d771f"
      },
      "source": [
        "item_metrics.head(10)"
      ],
      "execution_count": 347,
      "outputs": [
        {
          "output_type": "execute_result",
          "data": {
            "text/html": [
              "<div>\n",
              "<style scoped>\n",
              "    .dataframe tbody tr th:only-of-type {\n",
              "        vertical-align: middle;\n",
              "    }\n",
              "\n",
              "    .dataframe tbody tr th {\n",
              "        vertical-align: top;\n",
              "    }\n",
              "\n",
              "    .dataframe thead th {\n",
              "        text-align: right;\n",
              "    }\n",
              "</style>\n",
              "<table border=\"1\" class=\"dataframe\">\n",
              "  <thead>\n",
              "    <tr style=\"text-align: right;\">\n",
              "      <th></th>\n",
              "      <th>item_id</th>\n",
              "      <th>MSE</th>\n",
              "      <th>abs_error</th>\n",
              "      <th>abs_target_sum</th>\n",
              "      <th>abs_target_mean</th>\n",
              "      <th>seasonal_error</th>\n",
              "      <th>MASE</th>\n",
              "      <th>MAPE</th>\n",
              "      <th>sMAPE</th>\n",
              "      <th>MSIS</th>\n",
              "      <th>QuantileLoss[0.1]</th>\n",
              "      <th>Coverage[0.1]</th>\n",
              "      <th>QuantileLoss[0.5]</th>\n",
              "      <th>Coverage[0.5]</th>\n",
              "      <th>QuantileLoss[0.9]</th>\n",
              "      <th>Coverage[0.9]</th>\n",
              "    </tr>\n",
              "  </thead>\n",
              "  <tbody>\n",
              "    <tr>\n",
              "      <th>0</th>\n",
              "      <td>NaN</td>\n",
              "      <td>2.850862</td>\n",
              "      <td>312.022949</td>\n",
              "      <td>475.714966</td>\n",
              "      <td>1.90286</td>\n",
              "      <td>1.770647</td>\n",
              "      <td>0.704879</td>\n",
              "      <td>0.580115</td>\n",
              "      <td>1.127599</td>\n",
              "      <td>28.195163</td>\n",
              "      <td>513.624317</td>\n",
              "      <td>0.48</td>\n",
              "      <td>312.022941</td>\n",
              "      <td>0.48</td>\n",
              "      <td>110.421564</td>\n",
              "      <td>0.48</td>\n",
              "    </tr>\n",
              "  </tbody>\n",
              "</table>\n",
              "</div>"
            ],
            "text/plain": [
              "   item_id       MSE  ...  QuantileLoss[0.9]  Coverage[0.9]\n",
              "0      NaN  2.850862  ...         110.421564           0.48\n",
              "\n",
              "[1 rows x 16 columns]"
            ]
          },
          "metadata": {},
          "execution_count": 347
        }
      ]
    },
    {
      "cell_type": "code",
      "metadata": {
        "id": "cg92c0W3Aul7",
        "colab": {
          "base_uri": "https://localhost:8080/",
          "height": 279
        },
        "outputId": "417c28e4-a3a5-4b34-9f06-4fcd3890ab53"
      },
      "source": [
        "item_metrics.plot(x='MSIS', y='MASE', kind='scatter')\n",
        "plt.grid(which=\"both\")\n",
        "plt.savefig(\"fig6.pdf\",bbox_inches=\"tight\")\n",
        "plt.show()"
      ],
      "execution_count": 348,
      "outputs": [
        {
          "output_type": "display_data",
          "data": {
            "image/png": "[encoded data removed]",
            "text/plain": [
              "<Figure size 432x288 with 1 Axes>"
            ]
          },
          "metadata": {
            "needs_background": "light"
          }
        }
      ]
    }
  ]
}