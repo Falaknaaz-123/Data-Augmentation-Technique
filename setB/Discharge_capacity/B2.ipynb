{
  "nbformat": 4,
  "nbformat_minor": 0,
  "metadata": {
    "colab": {
      "name": "Copy of Copy of Rawdata_82_1_Charge_Capacity_forecast.ipynb",
      "provenance": [],
      "collapsed_sections": []
    },
    "kernelspec": {
      "display_name": "Python 3",
      "name": "python3"
    }
  },
  "cells": [
    {
      "cell_type": "code",
      "metadata": {
        "colab": {
          "base_uri": "https://localhost:8080/"
        },
        "id": "BISkgn0jVdmk",
        "outputId": "a994fe9f-6794-42ff-e00f-7199911281be"
      },
      "source": [
        "pip install --upgrade mxnet~=1.7 gluonts"
      ],
      "execution_count": 124,
      "outputs": [
        {
          "output_type": "stream",
          "name": "stdout",
          "text": [
            "Requirement already satisfied: mxnet~=1.7 in /usr/local/lib/python3.7/dist-packages (1.8.0.post0)\n",
            "Requirement already satisfied: gluonts in /usr/local/lib/python3.7/dist-packages (0.8.1)\n",
            "Requirement already satisfied: requests<3,>=2.20.0 in /usr/local/lib/python3.7/dist-packages (from mxnet~=1.7) (2.23.0)\n",
            "Requirement already satisfied: numpy<2.0.0,>1.16.0 in /usr/local/lib/python3.7/dist-packages (from mxnet~=1.7) (1.19.5)\n",
            "Requirement already satisfied: graphviz<0.9.0,>=0.8.1 in /usr/local/lib/python3.7/dist-packages (from mxnet~=1.7) (0.8.4)\n",
            "Requirement already satisfied: certifi>=2017.4.17 in /usr/local/lib/python3.7/dist-packages (from requests<3,>=2.20.0->mxnet~=1.7) (2021.5.30)\n",
            "Requirement already satisfied: chardet<4,>=3.0.2 in /usr/local/lib/python3.7/dist-packages (from requests<3,>=2.20.0->mxnet~=1.7) (3.0.4)\n",
            "Requirement already satisfied: urllib3!=1.25.0,!=1.25.1,<1.26,>=1.21.1 in /usr/local/lib/python3.7/dist-packages (from requests<3,>=2.20.0->mxnet~=1.7) (1.24.3)\n",
            "Requirement already satisfied: idna<3,>=2.5 in /usr/local/lib/python3.7/dist-packages (from requests<3,>=2.20.0->mxnet~=1.7) (2.10)\n",
            "Requirement already satisfied: matplotlib~=3.0 in /usr/local/lib/python3.7/dist-packages (from gluonts) (3.2.2)\n",
            "Requirement already satisfied: holidays>=0.9 in /usr/local/lib/python3.7/dist-packages (from gluonts) (0.10.5.2)\n",
            "Requirement already satisfied: toolz~=0.10 in /usr/local/lib/python3.7/dist-packages (from gluonts) (0.11.1)\n",
            "Requirement already satisfied: typing-extensions~=3.10.0.0 in /usr/local/lib/python3.7/dist-packages (from gluonts) (3.10.0.2)\n",
            "Requirement already satisfied: pandas~=1.0 in /usr/local/lib/python3.7/dist-packages (from gluonts) (1.1.5)\n",
            "Requirement already satisfied: pydantic~=1.1 in /usr/local/lib/python3.7/dist-packages (from gluonts) (1.8.2)\n",
            "Requirement already satisfied: tqdm~=4.23 in /usr/local/lib/python3.7/dist-packages (from gluonts) (4.62.3)\n",
            "Requirement already satisfied: hijri-converter in /usr/local/lib/python3.7/dist-packages (from holidays>=0.9->gluonts) (2.2.1)\n",
            "Requirement already satisfied: python-dateutil in /usr/local/lib/python3.7/dist-packages (from holidays>=0.9->gluonts) (2.8.2)\n",
            "Requirement already satisfied: six in /usr/local/lib/python3.7/dist-packages (from holidays>=0.9->gluonts) (1.15.0)\n",
            "Requirement already satisfied: convertdate>=2.3.0 in /usr/local/lib/python3.7/dist-packages (from holidays>=0.9->gluonts) (2.3.2)\n",
            "Requirement already satisfied: korean-lunar-calendar in /usr/local/lib/python3.7/dist-packages (from holidays>=0.9->gluonts) (0.2.1)\n",
            "Requirement already satisfied: pymeeus<=1,>=0.3.13 in /usr/local/lib/python3.7/dist-packages (from convertdate>=2.3.0->holidays>=0.9->gluonts) (0.5.11)\n",
            "Requirement already satisfied: pytz>=2014.10 in /usr/local/lib/python3.7/dist-packages (from convertdate>=2.3.0->holidays>=0.9->gluonts) (2018.9)\n",
            "Requirement already satisfied: kiwisolver>=1.0.1 in /usr/local/lib/python3.7/dist-packages (from matplotlib~=3.0->gluonts) (1.3.2)\n",
            "Requirement already satisfied: cycler>=0.10 in /usr/local/lib/python3.7/dist-packages (from matplotlib~=3.0->gluonts) (0.10.0)\n",
            "Requirement already satisfied: pyparsing!=2.0.4,!=2.1.2,!=2.1.6,>=2.0.1 in /usr/local/lib/python3.7/dist-packages (from matplotlib~=3.0->gluonts) (2.4.7)\n"
          ]
        }
      ]
    },
    {
      "cell_type": "code",
      "metadata": {
        "id": "Io5dASCrVoYO"
      },
      "source": [
        "# Third-party imports\n",
        "%matplotlib inline\n",
        "import mxnet as mx\n",
        "from mxnet import gluon\n",
        "import numpy as np\n",
        "import pandas as pd\n",
        "import matplotlib.pyplot as plt\n",
        "import json"
      ],
      "execution_count": 125,
      "outputs": []
    },
    {
      "cell_type": "code",
      "metadata": {
        "id": "JS2hNvrbVoa6"
      },
      "source": [
        "# gluon datasets\n",
        "from gluonts.dataset.repository.datasets import get_dataset, dataset_recipes\n",
        "from gluonts.dataset.util import to_pandas"
      ],
      "execution_count": 126,
      "outputs": []
    },
    {
      "cell_type": "code",
      "metadata": {
        "colab": {
          "base_uri": "https://localhost:8080/"
        },
        "id": "q-6chF-mVod2",
        "outputId": "f40ee23c-e352-48c1-f8b9-0b5be3f8c733"
      },
      "source": [
        "print(f\"Available datasets: {list(dataset_recipes.keys())}\")"
      ],
      "execution_count": 127,
      "outputs": [
        {
          "output_type": "stream",
          "name": "stdout",
          "text": [
            "Available datasets: ['constant', 'exchange_rate', 'solar-energy', 'electricity', 'traffic', 'exchange_rate_nips', 'electricity_nips', 'traffic_nips', 'solar_nips', 'wiki-rolling_nips', 'taxi_30min', 'kaggle_web_traffic_with_missing', 'kaggle_web_traffic_without_missing', 'kaggle_web_traffic_weekly', 'm1_yearly', 'm1_quarterly', 'm1_monthly', 'nn5_daily_with_missing', 'nn5_daily_without_missing', 'nn5_weekly', 'tourism_monthly', 'tourism_quarterly', 'tourism_yearly', 'm3_monthly', 'm3_quarterly', 'm3_yearly', 'm3_other', 'm4_hourly', 'm4_daily', 'm4_weekly', 'm4_monthly', 'm4_quarterly', 'm4_yearly', 'm5']\n"
          ]
        }
      ]
    },
    {
      "cell_type": "code",
      "metadata": {
        "colab": {
          "base_uri": "https://localhost:8080/"
        },
        "id": "3dl59DPWBspm",
        "outputId": "ed50bb03-3a72-4786-a67c-bcd82b76d114"
      },
      "source": [
        "pip install mxnet"
      ],
      "execution_count": 128,
      "outputs": [
        {
          "output_type": "stream",
          "name": "stdout",
          "text": [
            "Requirement already satisfied: mxnet in /usr/local/lib/python3.7/dist-packages (1.8.0.post0)\n",
            "Requirement already satisfied: numpy<2.0.0,>1.16.0 in /usr/local/lib/python3.7/dist-packages (from mxnet) (1.19.5)\n",
            "Requirement already satisfied: graphviz<0.9.0,>=0.8.1 in /usr/local/lib/python3.7/dist-packages (from mxnet) (0.8.4)\n",
            "Requirement already satisfied: requests<3,>=2.20.0 in /usr/local/lib/python3.7/dist-packages (from mxnet) (2.23.0)\n",
            "Requirement already satisfied: urllib3!=1.25.0,!=1.25.1,<1.26,>=1.21.1 in /usr/local/lib/python3.7/dist-packages (from requests<3,>=2.20.0->mxnet) (1.24.3)\n",
            "Requirement already satisfied: chardet<4,>=3.0.2 in /usr/local/lib/python3.7/dist-packages (from requests<3,>=2.20.0->mxnet) (3.0.4)\n",
            "Requirement already satisfied: certifi>=2017.4.17 in /usr/local/lib/python3.7/dist-packages (from requests<3,>=2.20.0->mxnet) (2021.5.30)\n",
            "Requirement already satisfied: idna<3,>=2.5 in /usr/local/lib/python3.7/dist-packages (from requests<3,>=2.20.0->mxnet) (2.10)\n"
          ]
        }
      ]
    },
    {
      "cell_type": "code",
      "metadata": {
        "id": "qjWGHZjhlWe4"
      },
      "source": [
        "dataset_nasa = pd.read_csv('DOE-551-600-10DU-01_2.csv')"
      ],
      "execution_count": 130,
      "outputs": []
    },
    {
      "cell_type": "code",
      "metadata": {
        "colab": {
          "base_uri": "https://localhost:8080/",
          "height": 454
        },
        "id": "SLR52rSMVomO",
        "outputId": "d1105cff-b9b0-4b97-9108-81a9b4d0a906"
      },
      "source": [
        "dataset_nasa\n"
      ],
      "execution_count": 131,
      "outputs": [
        {
          "output_type": "execute_result",
          "data": {
            "text/html": [
              "<div>\n",
              "<style scoped>\n",
              "    .dataframe tbody tr th:only-of-type {\n",
              "        vertical-align: middle;\n",
              "    }\n",
              "\n",
              "    .dataframe tbody tr th {\n",
              "        vertical-align: top;\n",
              "    }\n",
              "\n",
              "    .dataframe thead th {\n",
              "        text-align: right;\n",
              "    }\n",
              "</style>\n",
              "<table border=\"1\" class=\"dataframe\">\n",
              "  <thead>\n",
              "    <tr style=\"text-align: right;\">\n",
              "      <th></th>\n",
              "      <th>index</th>\n",
              "      <th>Test_Time(s)</th>\n",
              "      <th>Unnamed: 2</th>\n",
              "      <th>Step_Time(s)</th>\n",
              "      <th>Cycle_Index</th>\n",
              "      <th>Step_Index</th>\n",
              "      <th>Voltage</th>\n",
              "      <th>Test_Time(s).1</th>\n",
              "      <th>Step_Time(s).1</th>\n",
              "      <th>Cycle_Index.1</th>\n",
              "      <th>Step_Index.1</th>\n",
              "      <th>Current</th>\n",
              "      <th>Test_Time(s).2</th>\n",
              "      <th>Step_Time(s).2</th>\n",
              "      <th>Cycle_Index.2</th>\n",
              "      <th>Step_Index.2</th>\n",
              "      <th>Charge_Capacity</th>\n",
              "      <th>Test_Time(s).3</th>\n",
              "      <th>Step_Time(s).3</th>\n",
              "      <th>Cycle_Index.3</th>\n",
              "      <th>Step_Index.3</th>\n",
              "      <th>Discharge_Capacity</th>\n",
              "      <th>Test_Time(s).4</th>\n",
              "      <th>Step_Time(s).4</th>\n",
              "      <th>Cycle_Index.4</th>\n",
              "      <th>Step_Index.4</th>\n",
              "    </tr>\n",
              "  </thead>\n",
              "  <tbody>\n",
              "    <tr>\n",
              "      <th>0</th>\n",
              "      <td>0</td>\n",
              "      <td>120.002100</td>\n",
              "      <td>NaN</td>\n",
              "      <td>120.0020</td>\n",
              "      <td>1</td>\n",
              "      <td>1</td>\n",
              "      <td>3.578289</td>\n",
              "      <td>120.002100</td>\n",
              "      <td>120.0020</td>\n",
              "      <td>1</td>\n",
              "      <td>1</td>\n",
              "      <td>0.000000</td>\n",
              "      <td>120.002100</td>\n",
              "      <td>120.0020</td>\n",
              "      <td>1</td>\n",
              "      <td>1</td>\n",
              "      <td>0.000000</td>\n",
              "      <td>120.002100</td>\n",
              "      <td>120.0020</td>\n",
              "      <td>1</td>\n",
              "      <td>1</td>\n",
              "      <td>0.000000</td>\n",
              "      <td>120.002100</td>\n",
              "      <td>120.0020</td>\n",
              "      <td>1</td>\n",
              "      <td>1</td>\n",
              "    </tr>\n",
              "    <tr>\n",
              "      <th>1</th>\n",
              "      <td>1</td>\n",
              "      <td>240.004200</td>\n",
              "      <td>NaN</td>\n",
              "      <td>240.0041</td>\n",
              "      <td>1</td>\n",
              "      <td>1</td>\n",
              "      <td>3.578400</td>\n",
              "      <td>240.004200</td>\n",
              "      <td>240.0041</td>\n",
              "      <td>1</td>\n",
              "      <td>1</td>\n",
              "      <td>0.000000</td>\n",
              "      <td>240.004200</td>\n",
              "      <td>240.0041</td>\n",
              "      <td>1</td>\n",
              "      <td>1</td>\n",
              "      <td>0.000000</td>\n",
              "      <td>240.004200</td>\n",
              "      <td>240.0041</td>\n",
              "      <td>1</td>\n",
              "      <td>1</td>\n",
              "      <td>0.000000</td>\n",
              "      <td>240.004200</td>\n",
              "      <td>240.0041</td>\n",
              "      <td>1</td>\n",
              "      <td>1</td>\n",
              "    </tr>\n",
              "    <tr>\n",
              "      <th>2</th>\n",
              "      <td>2</td>\n",
              "      <td>360.003300</td>\n",
              "      <td>NaN</td>\n",
              "      <td>360.0032</td>\n",
              "      <td>1</td>\n",
              "      <td>1</td>\n",
              "      <td>3.580041</td>\n",
              "      <td>360.003300</td>\n",
              "      <td>360.0032</td>\n",
              "      <td>1</td>\n",
              "      <td>1</td>\n",
              "      <td>0.000000</td>\n",
              "      <td>360.003300</td>\n",
              "      <td>360.0032</td>\n",
              "      <td>1</td>\n",
              "      <td>1</td>\n",
              "      <td>0.000000</td>\n",
              "      <td>360.003300</td>\n",
              "      <td>360.0032</td>\n",
              "      <td>1</td>\n",
              "      <td>1</td>\n",
              "      <td>0.000000</td>\n",
              "      <td>360.003300</td>\n",
              "      <td>360.0032</td>\n",
              "      <td>1</td>\n",
              "      <td>1</td>\n",
              "    </tr>\n",
              "    <tr>\n",
              "      <th>3</th>\n",
              "      <td>3</td>\n",
              "      <td>480.005600</td>\n",
              "      <td>NaN</td>\n",
              "      <td>480.0055</td>\n",
              "      <td>1</td>\n",
              "      <td>1</td>\n",
              "      <td>3.581675</td>\n",
              "      <td>480.005600</td>\n",
              "      <td>480.0055</td>\n",
              "      <td>1</td>\n",
              "      <td>1</td>\n",
              "      <td>0.000000</td>\n",
              "      <td>480.005600</td>\n",
              "      <td>480.0055</td>\n",
              "      <td>1</td>\n",
              "      <td>1</td>\n",
              "      <td>0.000000</td>\n",
              "      <td>480.005600</td>\n",
              "      <td>480.0055</td>\n",
              "      <td>1</td>\n",
              "      <td>1</td>\n",
              "      <td>0.000000</td>\n",
              "      <td>480.005600</td>\n",
              "      <td>480.0055</td>\n",
              "      <td>1</td>\n",
              "      <td>1</td>\n",
              "    </tr>\n",
              "    <tr>\n",
              "      <th>4</th>\n",
              "      <td>4</td>\n",
              "      <td>600.000900</td>\n",
              "      <td>NaN</td>\n",
              "      <td>600.0008</td>\n",
              "      <td>1</td>\n",
              "      <td>1</td>\n",
              "      <td>3.582434</td>\n",
              "      <td>600.000900</td>\n",
              "      <td>600.0008</td>\n",
              "      <td>1</td>\n",
              "      <td>1</td>\n",
              "      <td>0.000000</td>\n",
              "      <td>600.000900</td>\n",
              "      <td>600.0008</td>\n",
              "      <td>1</td>\n",
              "      <td>1</td>\n",
              "      <td>0.000000</td>\n",
              "      <td>600.000900</td>\n",
              "      <td>600.0008</td>\n",
              "      <td>1</td>\n",
              "      <td>1</td>\n",
              "      <td>0.000000</td>\n",
              "      <td>600.000900</td>\n",
              "      <td>600.0008</td>\n",
              "      <td>1</td>\n",
              "      <td>1</td>\n",
              "    </tr>\n",
              "    <tr>\n",
              "      <th>...</th>\n",
              "      <td>...</td>\n",
              "      <td>...</td>\n",
              "      <td>...</td>\n",
              "      <td>...</td>\n",
              "      <td>...</td>\n",
              "      <td>...</td>\n",
              "      <td>...</td>\n",
              "      <td>...</td>\n",
              "      <td>...</td>\n",
              "      <td>...</td>\n",
              "      <td>...</td>\n",
              "      <td>...</td>\n",
              "      <td>...</td>\n",
              "      <td>...</td>\n",
              "      <td>...</td>\n",
              "      <td>...</td>\n",
              "      <td>...</td>\n",
              "      <td>...</td>\n",
              "      <td>...</td>\n",
              "      <td>...</td>\n",
              "      <td>...</td>\n",
              "      <td>...</td>\n",
              "      <td>...</td>\n",
              "      <td>...</td>\n",
              "      <td>...</td>\n",
              "      <td>...</td>\n",
              "    </tr>\n",
              "    <tr>\n",
              "      <th>3953</th>\n",
              "      <td>3953</td>\n",
              "      <td>454963.238852</td>\n",
              "      <td>NaN</td>\n",
              "      <td>120.0033</td>\n",
              "      <td>50</td>\n",
              "      <td>6</td>\n",
              "      <td>3.609489</td>\n",
              "      <td>454963.238852</td>\n",
              "      <td>120.0033</td>\n",
              "      <td>50</td>\n",
              "      <td>6</td>\n",
              "      <td>0.000000</td>\n",
              "      <td>454963.238852</td>\n",
              "      <td>120.0033</td>\n",
              "      <td>50</td>\n",
              "      <td>6</td>\n",
              "      <td>2.441618</td>\n",
              "      <td>454963.238852</td>\n",
              "      <td>120.0033</td>\n",
              "      <td>50</td>\n",
              "      <td>6</td>\n",
              "      <td>2.441629</td>\n",
              "      <td>454963.238852</td>\n",
              "      <td>120.0033</td>\n",
              "      <td>50</td>\n",
              "      <td>6</td>\n",
              "    </tr>\n",
              "    <tr>\n",
              "      <th>3954</th>\n",
              "      <td>3954</td>\n",
              "      <td>455083.237752</td>\n",
              "      <td>NaN</td>\n",
              "      <td>240.0022</td>\n",
              "      <td>50</td>\n",
              "      <td>6</td>\n",
              "      <td>3.642449</td>\n",
              "      <td>455083.237752</td>\n",
              "      <td>240.0022</td>\n",
              "      <td>50</td>\n",
              "      <td>6</td>\n",
              "      <td>0.000000</td>\n",
              "      <td>455083.237752</td>\n",
              "      <td>240.0022</td>\n",
              "      <td>50</td>\n",
              "      <td>6</td>\n",
              "      <td>2.441618</td>\n",
              "      <td>455083.237752</td>\n",
              "      <td>240.0022</td>\n",
              "      <td>50</td>\n",
              "      <td>6</td>\n",
              "      <td>2.441629</td>\n",
              "      <td>455083.237752</td>\n",
              "      <td>240.0022</td>\n",
              "      <td>50</td>\n",
              "      <td>6</td>\n",
              "    </tr>\n",
              "    <tr>\n",
              "      <th>3955</th>\n",
              "      <td>3955</td>\n",
              "      <td>455143.238952</td>\n",
              "      <td>NaN</td>\n",
              "      <td>300.0034</td>\n",
              "      <td>50</td>\n",
              "      <td>6</td>\n",
              "      <td>3.650748</td>\n",
              "      <td>455143.238952</td>\n",
              "      <td>300.0034</td>\n",
              "      <td>50</td>\n",
              "      <td>6</td>\n",
              "      <td>0.000000</td>\n",
              "      <td>455143.238952</td>\n",
              "      <td>300.0034</td>\n",
              "      <td>50</td>\n",
              "      <td>6</td>\n",
              "      <td>2.441618</td>\n",
              "      <td>455143.238952</td>\n",
              "      <td>300.0034</td>\n",
              "      <td>50</td>\n",
              "      <td>6</td>\n",
              "      <td>2.441629</td>\n",
              "      <td>455143.238952</td>\n",
              "      <td>300.0034</td>\n",
              "      <td>50</td>\n",
              "      <td>6</td>\n",
              "    </tr>\n",
              "    <tr>\n",
              "      <th>3956</th>\n",
              "      <td>3956</td>\n",
              "      <td>455263.394832</td>\n",
              "      <td>NaN</td>\n",
              "      <td>120.0043</td>\n",
              "      <td>51</td>\n",
              "      <td>8</td>\n",
              "      <td>4.189424</td>\n",
              "      <td>455263.394832</td>\n",
              "      <td>120.0043</td>\n",
              "      <td>51</td>\n",
              "      <td>8</td>\n",
              "      <td>3.259819</td>\n",
              "      <td>455263.394832</td>\n",
              "      <td>120.0043</td>\n",
              "      <td>51</td>\n",
              "      <td>8</td>\n",
              "      <td>0.108659</td>\n",
              "      <td>455263.394832</td>\n",
              "      <td>120.0043</td>\n",
              "      <td>51</td>\n",
              "      <td>8</td>\n",
              "      <td>0.000000</td>\n",
              "      <td>455263.394832</td>\n",
              "      <td>120.0043</td>\n",
              "      <td>51</td>\n",
              "      <td>8</td>\n",
              "    </tr>\n",
              "    <tr>\n",
              "      <th>3957</th>\n",
              "      <td>3957</td>\n",
              "      <td>455292.448332</td>\n",
              "      <td>NaN</td>\n",
              "      <td>149.0578</td>\n",
              "      <td>51</td>\n",
              "      <td>8</td>\n",
              "      <td>4.200018</td>\n",
              "      <td>455292.448332</td>\n",
              "      <td>149.0578</td>\n",
              "      <td>51</td>\n",
              "      <td>8</td>\n",
              "      <td>3.260193</td>\n",
              "      <td>455292.448332</td>\n",
              "      <td>149.0578</td>\n",
              "      <td>51</td>\n",
              "      <td>8</td>\n",
              "      <td>0.134974</td>\n",
              "      <td>455292.448332</td>\n",
              "      <td>149.0578</td>\n",
              "      <td>51</td>\n",
              "      <td>8</td>\n",
              "      <td>0.000000</td>\n",
              "      <td>455292.448332</td>\n",
              "      <td>149.0578</td>\n",
              "      <td>51</td>\n",
              "      <td>8</td>\n",
              "    </tr>\n",
              "  </tbody>\n",
              "</table>\n",
              "<p>3958 rows × 26 columns</p>\n",
              "</div>"
            ],
            "text/plain": [
              "      index   Test_Time(s)  ...  Cycle_Index.4  Step_Index.4\n",
              "0         0     120.002100  ...              1             1\n",
              "1         1     240.004200  ...              1             1\n",
              "2         2     360.003300  ...              1             1\n",
              "3         3     480.005600  ...              1             1\n",
              "4         4     600.000900  ...              1             1\n",
              "...     ...            ...  ...            ...           ...\n",
              "3953   3953  454963.238852  ...             50             6\n",
              "3954   3954  455083.237752  ...             50             6\n",
              "3955   3955  455143.238952  ...             50             6\n",
              "3956   3956  455263.394832  ...             51             8\n",
              "3957   3957  455292.448332  ...             51             8\n",
              "\n",
              "[3958 rows x 26 columns]"
            ]
          },
          "metadata": {},
          "execution_count": 131
        }
      ]
    },
    {
      "cell_type": "code",
      "metadata": {
        "id": "wwAaq-AO4AKS"
      },
      "source": [
        "df = pd.DataFrame(dataset_nasa)\n",
        "cols = [0,21]\n",
        "df = df[df.columns[cols]]"
      ],
      "execution_count": 197,
      "outputs": []
    },
    {
      "cell_type": "code",
      "metadata": {
        "colab": {
          "base_uri": "https://localhost:8080/",
          "height": 417
        },
        "id": "4ss0ApIz4AWr",
        "outputId": "3e0bed25-1a0f-4604-e8c2-5be738af4a23"
      },
      "source": [
        "df"
      ],
      "execution_count": 198,
      "outputs": [
        {
          "output_type": "execute_result",
          "data": {
            "text/html": [
              "<div>\n",
              "<style scoped>\n",
              "    .dataframe tbody tr th:only-of-type {\n",
              "        vertical-align: middle;\n",
              "    }\n",
              "\n",
              "    .dataframe tbody tr th {\n",
              "        vertical-align: top;\n",
              "    }\n",
              "\n",
              "    .dataframe thead th {\n",
              "        text-align: right;\n",
              "    }\n",
              "</style>\n",
              "<table border=\"1\" class=\"dataframe\">\n",
              "  <thead>\n",
              "    <tr style=\"text-align: right;\">\n",
              "      <th></th>\n",
              "      <th>index</th>\n",
              "      <th>Discharge_Capacity</th>\n",
              "    </tr>\n",
              "  </thead>\n",
              "  <tbody>\n",
              "    <tr>\n",
              "      <th>0</th>\n",
              "      <td>0</td>\n",
              "      <td>0.000000</td>\n",
              "    </tr>\n",
              "    <tr>\n",
              "      <th>1</th>\n",
              "      <td>1</td>\n",
              "      <td>0.000000</td>\n",
              "    </tr>\n",
              "    <tr>\n",
              "      <th>2</th>\n",
              "      <td>2</td>\n",
              "      <td>0.000000</td>\n",
              "    </tr>\n",
              "    <tr>\n",
              "      <th>3</th>\n",
              "      <td>3</td>\n",
              "      <td>0.000000</td>\n",
              "    </tr>\n",
              "    <tr>\n",
              "      <th>4</th>\n",
              "      <td>4</td>\n",
              "      <td>0.000000</td>\n",
              "    </tr>\n",
              "    <tr>\n",
              "      <th>...</th>\n",
              "      <td>...</td>\n",
              "      <td>...</td>\n",
              "    </tr>\n",
              "    <tr>\n",
              "      <th>3953</th>\n",
              "      <td>3953</td>\n",
              "      <td>2.441629</td>\n",
              "    </tr>\n",
              "    <tr>\n",
              "      <th>3954</th>\n",
              "      <td>3954</td>\n",
              "      <td>2.441629</td>\n",
              "    </tr>\n",
              "    <tr>\n",
              "      <th>3955</th>\n",
              "      <td>3955</td>\n",
              "      <td>2.441629</td>\n",
              "    </tr>\n",
              "    <tr>\n",
              "      <th>3956</th>\n",
              "      <td>3956</td>\n",
              "      <td>0.000000</td>\n",
              "    </tr>\n",
              "    <tr>\n",
              "      <th>3957</th>\n",
              "      <td>3957</td>\n",
              "      <td>0.000000</td>\n",
              "    </tr>\n",
              "  </tbody>\n",
              "</table>\n",
              "<p>3958 rows × 2 columns</p>\n",
              "</div>"
            ],
            "text/plain": [
              "      index  Discharge_Capacity\n",
              "0         0            0.000000\n",
              "1         1            0.000000\n",
              "2         2            0.000000\n",
              "3         3            0.000000\n",
              "4         4            0.000000\n",
              "...     ...                 ...\n",
              "3953   3953            2.441629\n",
              "3954   3954            2.441629\n",
              "3955   3955            2.441629\n",
              "3956   3956            0.000000\n",
              "3957   3957            0.000000\n",
              "\n",
              "[3958 rows x 2 columns]"
            ]
          },
          "metadata": {},
          "execution_count": 198
        }
      ]
    },
    {
      "cell_type": "code",
      "metadata": {
        "id": "T807dGEGdGOF"
      },
      "source": [
        "df1 = df.to_numpy()"
      ],
      "execution_count": 199,
      "outputs": []
    },
    {
      "cell_type": "code",
      "metadata": {
        "id": "LODZWZeYkh2n"
      },
      "source": [
        "train_size = int(len(df1)*0.8)\n",
        "test_size = len(df1) - train_size\n",
        "train = df1[1:train_size,:]\n",
        "test = df1[train_size:len(df1)]"
      ],
      "execution_count": 200,
      "outputs": []
    },
    {
      "cell_type": "code",
      "metadata": {
        "colab": {
          "base_uri": "https://localhost:8080/"
        },
        "id": "AWeTV_6qgxIV",
        "outputId": "34e14130-4c21-4efc-9705-c56bcb5e2b51"
      },
      "source": [
        "train_size"
      ],
      "execution_count": 201,
      "outputs": [
        {
          "output_type": "execute_result",
          "data": {
            "text/plain": [
              "3166"
            ]
          },
          "metadata": {},
          "execution_count": 201
        }
      ]
    },
    {
      "cell_type": "code",
      "metadata": {
        "id": "KeMJFvQ0U3Z6"
      },
      "source": [
        "train_set = pd.DataFrame(train)"
      ],
      "execution_count": 202,
      "outputs": []
    },
    {
      "cell_type": "code",
      "metadata": {
        "colab": {
          "base_uri": "https://localhost:8080/",
          "height": 417
        },
        "id": "WETL8vj3d6zz",
        "outputId": "ac9c9082-5c0a-4459-a29c-cc88fba04fff"
      },
      "source": [
        "train_set"
      ],
      "execution_count": 203,
      "outputs": [
        {
          "output_type": "execute_result",
          "data": {
            "text/html": [
              "<div>\n",
              "<style scoped>\n",
              "    .dataframe tbody tr th:only-of-type {\n",
              "        vertical-align: middle;\n",
              "    }\n",
              "\n",
              "    .dataframe tbody tr th {\n",
              "        vertical-align: top;\n",
              "    }\n",
              "\n",
              "    .dataframe thead th {\n",
              "        text-align: right;\n",
              "    }\n",
              "</style>\n",
              "<table border=\"1\" class=\"dataframe\">\n",
              "  <thead>\n",
              "    <tr style=\"text-align: right;\">\n",
              "      <th></th>\n",
              "      <th>0</th>\n",
              "      <th>1</th>\n",
              "    </tr>\n",
              "  </thead>\n",
              "  <tbody>\n",
              "    <tr>\n",
              "      <th>0</th>\n",
              "      <td>1.0</td>\n",
              "      <td>0.000000</td>\n",
              "    </tr>\n",
              "    <tr>\n",
              "      <th>1</th>\n",
              "      <td>2.0</td>\n",
              "      <td>0.000000</td>\n",
              "    </tr>\n",
              "    <tr>\n",
              "      <th>2</th>\n",
              "      <td>3.0</td>\n",
              "      <td>0.000000</td>\n",
              "    </tr>\n",
              "    <tr>\n",
              "      <th>3</th>\n",
              "      <td>4.0</td>\n",
              "      <td>0.000000</td>\n",
              "    </tr>\n",
              "    <tr>\n",
              "      <th>4</th>\n",
              "      <td>5.0</td>\n",
              "      <td>0.000000</td>\n",
              "    </tr>\n",
              "    <tr>\n",
              "      <th>...</th>\n",
              "      <td>...</td>\n",
              "      <td>...</td>\n",
              "    </tr>\n",
              "    <tr>\n",
              "      <th>3160</th>\n",
              "      <td>3161.0</td>\n",
              "      <td>2.434146</td>\n",
              "    </tr>\n",
              "    <tr>\n",
              "      <th>3161</th>\n",
              "      <td>3162.0</td>\n",
              "      <td>2.446039</td>\n",
              "    </tr>\n",
              "    <tr>\n",
              "      <th>3162</th>\n",
              "      <td>3163.0</td>\n",
              "      <td>2.446070</td>\n",
              "    </tr>\n",
              "    <tr>\n",
              "      <th>3163</th>\n",
              "      <td>3164.0</td>\n",
              "      <td>2.446070</td>\n",
              "    </tr>\n",
              "    <tr>\n",
              "      <th>3164</th>\n",
              "      <td>3165.0</td>\n",
              "      <td>2.446070</td>\n",
              "    </tr>\n",
              "  </tbody>\n",
              "</table>\n",
              "<p>3165 rows × 2 columns</p>\n",
              "</div>"
            ],
            "text/plain": [
              "           0         1\n",
              "0        1.0  0.000000\n",
              "1        2.0  0.000000\n",
              "2        3.0  0.000000\n",
              "3        4.0  0.000000\n",
              "4        5.0  0.000000\n",
              "...      ...       ...\n",
              "3160  3161.0  2.434146\n",
              "3161  3162.0  2.446039\n",
              "3162  3163.0  2.446070\n",
              "3163  3164.0  2.446070\n",
              "3164  3165.0  2.446070\n",
              "\n",
              "[3165 rows x 2 columns]"
            ]
          },
          "metadata": {},
          "execution_count": 203
        }
      ]
    },
    {
      "cell_type": "code",
      "metadata": {
        "id": "5g-dEeBseFAS"
      },
      "source": [
        "test_set = pd.DataFrame(test)"
      ],
      "execution_count": 204,
      "outputs": []
    },
    {
      "cell_type": "code",
      "metadata": {
        "colab": {
          "base_uri": "https://localhost:8080/",
          "height": 417
        },
        "id": "T3rDI_yxeKmE",
        "outputId": "b41e9b5f-986d-402a-d55f-e4315c1d375c"
      },
      "source": [
        "test_set"
      ],
      "execution_count": 205,
      "outputs": [
        {
          "output_type": "execute_result",
          "data": {
            "text/html": [
              "<div>\n",
              "<style scoped>\n",
              "    .dataframe tbody tr th:only-of-type {\n",
              "        vertical-align: middle;\n",
              "    }\n",
              "\n",
              "    .dataframe tbody tr th {\n",
              "        vertical-align: top;\n",
              "    }\n",
              "\n",
              "    .dataframe thead th {\n",
              "        text-align: right;\n",
              "    }\n",
              "</style>\n",
              "<table border=\"1\" class=\"dataframe\">\n",
              "  <thead>\n",
              "    <tr style=\"text-align: right;\">\n",
              "      <th></th>\n",
              "      <th>0</th>\n",
              "      <th>1</th>\n",
              "    </tr>\n",
              "  </thead>\n",
              "  <tbody>\n",
              "    <tr>\n",
              "      <th>0</th>\n",
              "      <td>3166.0</td>\n",
              "      <td>1.558436e-09</td>\n",
              "    </tr>\n",
              "    <tr>\n",
              "      <th>1</th>\n",
              "      <td>3167.0</td>\n",
              "      <td>1.558436e-09</td>\n",
              "    </tr>\n",
              "    <tr>\n",
              "      <th>2</th>\n",
              "      <td>3168.0</td>\n",
              "      <td>1.558436e-09</td>\n",
              "    </tr>\n",
              "    <tr>\n",
              "      <th>3</th>\n",
              "      <td>3169.0</td>\n",
              "      <td>1.558436e-09</td>\n",
              "    </tr>\n",
              "    <tr>\n",
              "      <th>4</th>\n",
              "      <td>3170.0</td>\n",
              "      <td>1.558436e-09</td>\n",
              "    </tr>\n",
              "    <tr>\n",
              "      <th>...</th>\n",
              "      <td>...</td>\n",
              "      <td>...</td>\n",
              "    </tr>\n",
              "    <tr>\n",
              "      <th>787</th>\n",
              "      <td>3953.0</td>\n",
              "      <td>2.441629e+00</td>\n",
              "    </tr>\n",
              "    <tr>\n",
              "      <th>788</th>\n",
              "      <td>3954.0</td>\n",
              "      <td>2.441629e+00</td>\n",
              "    </tr>\n",
              "    <tr>\n",
              "      <th>789</th>\n",
              "      <td>3955.0</td>\n",
              "      <td>2.441629e+00</td>\n",
              "    </tr>\n",
              "    <tr>\n",
              "      <th>790</th>\n",
              "      <td>3956.0</td>\n",
              "      <td>0.000000e+00</td>\n",
              "    </tr>\n",
              "    <tr>\n",
              "      <th>791</th>\n",
              "      <td>3957.0</td>\n",
              "      <td>0.000000e+00</td>\n",
              "    </tr>\n",
              "  </tbody>\n",
              "</table>\n",
              "<p>792 rows × 2 columns</p>\n",
              "</div>"
            ],
            "text/plain": [
              "          0             1\n",
              "0    3166.0  1.558436e-09\n",
              "1    3167.0  1.558436e-09\n",
              "2    3168.0  1.558436e-09\n",
              "3    3169.0  1.558436e-09\n",
              "4    3170.0  1.558436e-09\n",
              "..      ...           ...\n",
              "787  3953.0  2.441629e+00\n",
              "788  3954.0  2.441629e+00\n",
              "789  3955.0  2.441629e+00\n",
              "790  3956.0  0.000000e+00\n",
              "791  3957.0  0.000000e+00\n",
              "\n",
              "[792 rows x 2 columns]"
            ]
          },
          "metadata": {},
          "execution_count": 205
        }
      ]
    },
    {
      "cell_type": "code",
      "metadata": {
        "colab": {
          "base_uri": "https://localhost:8080/"
        },
        "id": "f1the1T5EOmc",
        "outputId": "59c4013e-8401-48b8-a0c3-c1ffdf72c72c"
      },
      "source": [
        "df.columns"
      ],
      "execution_count": 206,
      "outputs": [
        {
          "output_type": "execute_result",
          "data": {
            "text/plain": [
              "Index(['index', 'Discharge_Capacity'], dtype='object')"
            ]
          },
          "metadata": {},
          "execution_count": 206
        }
      ]
    },
    {
      "cell_type": "code",
      "metadata": {
        "id": "0_YxlE0XdCjP"
      },
      "source": [
        "df_input = df[['index','Discharge_Capacity']]"
      ],
      "execution_count": 208,
      "outputs": []
    },
    {
      "cell_type": "code",
      "metadata": {
        "id": "Dlc4FnMDdCn0"
      },
      "source": [
        "df_input = df_input.set_index('index')"
      ],
      "execution_count": 209,
      "outputs": []
    },
    {
      "cell_type": "code",
      "metadata": {
        "id": "sIOGFPUXfl8N"
      },
      "source": [
        "train_time = 949\n",
        "prediction_length = 949\n",
        "freq = \"2min\""
      ],
      "execution_count": 210,
      "outputs": []
    },
    {
      "cell_type": "code",
      "metadata": {
        "id": "bIOdz6aNfl_E"
      },
      "source": [
        "from gluonts.dataset.common import ListDataset\n",
        "train_data = ListDataset(\n",
        "    [{\"start\": df_input.index[0], \"target\": df_input.Discharge_Capacity[:train_time] }],\n",
        "    freq = \"2min\"\n",
        ")"
      ],
      "execution_count": 211,
      "outputs": []
    },
    {
      "cell_type": "code",
      "metadata": {
        "colab": {
          "base_uri": "https://localhost:8080/",
          "height": 289
        },
        "id": "o3VEMuGqfmCj",
        "outputId": "cd3d1250-9501-4ee0-d708-cfc092297392"
      },
      "source": [
        "entry = next(iter(train_data))\n",
        "train_series = to_pandas(entry)\n",
        "train_series.plot()\n",
        "plt.grid(which=\"both\")\n",
        "plt.legend([\"train series\"], loc=\"upper left\")\n",
        "plt.savefig(\"fig1.pdf\",bbox_inches=\"tight\")\n",
        "plt.show()"
      ],
      "execution_count": 212,
      "outputs": [
        {
          "output_type": "display_data",
          "data": {
            "image/png": "[encoded data removed]",
            "text/plain": [
              "<Figure size 432x288 with 1 Axes>"
            ]
          },
          "metadata": {
            "needs_background": "light"
          }
        }
      ]
    },
    {
      "cell_type": "code",
      "metadata": {
        "id": "NegtiuLcvLWF"
      },
      "source": [
        "test_data = ListDataset(\n",
        "    [{\"start\": df_input.index[0], \"target\": df_input.Discharge_Capacity[:]}],\n",
        "    freq = \"2min\"\n",
        ")"
      ],
      "execution_count": 213,
      "outputs": []
    },
    {
      "cell_type": "code",
      "metadata": {
        "colab": {
          "base_uri": "https://localhost:8080/",
          "height": 289
        },
        "id": "8qkov_uhfmIF",
        "outputId": "06457b95-304b-455e-e349-4d1d1471a1b8"
      },
      "source": [
        "entry = next(iter(test_data))\n",
        "test_series = to_pandas(entry)\n",
        "test_series.plot()\n",
        "plt.axvline(train_series.index[-1], color='r') # end of train dataset\n",
        "plt.grid(which=\"both\")\n",
        "plt.legend([\"test series\", \"end of train series\"], loc=\"upper left\")\n",
        "plt.savefig(\"fig2.pdf\",bbox_inches=\"tight\")\n",
        "plt.show()"
      ],
      "execution_count": 214,
      "outputs": [
        {
          "output_type": "display_data",
          "data": {
            "image/png": "[encoded data removed]",
            "text/plain": [
              "<Figure size 432x288 with 1 Axes>"
            ]
          },
          "metadata": {
            "needs_background": "light"
          }
        }
      ]
    },
    {
      "cell_type": "code",
      "metadata": {
        "colab": {
          "base_uri": "https://localhost:8080/"
        },
        "id": "QhoWe6rawAZv",
        "outputId": "29049347-0d54-4509-f3d0-652e1b7a4ab2"
      },
      "source": [
        "print(f\"Length of forecasting window in test dataset:{len(test_series)-len(train_series)}\")\n",
        "print(f\"Frequency of the time series:{freq}\")"
      ],
      "execution_count": 215,
      "outputs": [
        {
          "output_type": "stream",
          "name": "stdout",
          "text": [
            "Length of forecasting window in test dataset:3009\n",
            "Frequency of the time series:2min\n"
          ]
        }
      ]
    },
    {
      "cell_type": "code",
      "metadata": {
        "id": "2CvnPKD6wAb2"
      },
      "source": [
        "from gluonts.model.simple_feedforward import SimpleFeedForwardEstimator\n",
        "from gluonts.mx.trainer import Trainer"
      ],
      "execution_count": 216,
      "outputs": []
    },
    {
      "cell_type": "code",
      "metadata": {
        "id": "pdmsiYrRwAer"
      },
      "source": [
        "estimator = SimpleFeedForwardEstimator(\n",
        "    num_hidden_dimensions=[10],\n",
        "    prediction_length=250,\n",
        "    context_length=50,\n",
        "    freq=\"2min\",\n",
        "    trainer=Trainer(ctx=\"cpu\", \n",
        "                    epochs=5, \n",
        "                    learning_rate=1e-3, \n",
        "                    num_batches_per_epoch=100\n",
        "                   )\n",
        ")"
      ],
      "execution_count": 217,
      "outputs": []
    },
    {
      "cell_type": "code",
      "metadata": {
        "colab": {
          "base_uri": "https://localhost:8080/"
        },
        "id": "NhL0nVskwAjS",
        "outputId": "de0edb3e-88a2-4e49-a338-1f0838d89bd8"
      },
      "source": [
        "predictor = estimator.train(train_data)"
      ],
      "execution_count": 218,
      "outputs": [
        {
          "output_type": "stream",
          "name": "stderr",
          "text": [
            "100%|██████████| 100/100 [00:01<00:00, 73.56it/s, epoch=1/5, avg_epoch_loss=0.00996]\n",
            "100%|██████████| 100/100 [00:01<00:00, 78.12it/s, epoch=2/5, avg_epoch_loss=-.717]\n",
            "100%|██████████| 100/100 [00:01<00:00, 77.95it/s, epoch=3/5, avg_epoch_loss=-.857]\n",
            "100%|██████████| 100/100 [00:01<00:00, 76.93it/s, epoch=4/5, avg_epoch_loss=-.966]\n",
            "100%|██████████| 100/100 [00:01<00:00, 76.38it/s, epoch=5/5, avg_epoch_loss=-1.03]\n"
          ]
        }
      ]
    },
    {
      "cell_type": "code",
      "metadata": {
        "id": "CASb7jv6_CEd"
      },
      "source": [
        "from gluonts.evaluation.backtest import make_evaluation_predictions"
      ],
      "execution_count": 219,
      "outputs": []
    },
    {
      "cell_type": "code",
      "metadata": {
        "id": "4BL7I1rL_CGo"
      },
      "source": [
        "forecast_it, ts_it = make_evaluation_predictions(\n",
        "    dataset=test_data,  # test dataset\n",
        "    predictor=predictor,  # predictor\n",
        "    num_samples=500,  # number of sample paths we want for evaluation 100\n",
        ")"
      ],
      "execution_count": 221,
      "outputs": []
    },
    {
      "cell_type": "code",
      "metadata": {
        "id": "DOjSmzsT_CJt"
      },
      "source": [
        "forecasts = list(forecast_it)\n",
        "tss = list(ts_it)"
      ],
      "execution_count": 222,
      "outputs": []
    },
    {
      "cell_type": "code",
      "metadata": {
        "id": "Mer7dfY1_CMZ"
      },
      "source": [
        "# first entry of the time series list\n",
        "ts_entry = tss[0]"
      ],
      "execution_count": 223,
      "outputs": []
    },
    {
      "cell_type": "code",
      "metadata": {
        "colab": {
          "base_uri": "https://localhost:8080/"
        },
        "id": "b-8-7Jfg_CO9",
        "outputId": "93ab1ece-1868-4b83-a388-88ed55342452"
      },
      "source": [
        "# first 5 values of the time series (convert from pandas to numpy)\n",
        "np.array(ts_entry[:5]).reshape(-1,)"
      ],
      "execution_count": 224,
      "outputs": [
        {
          "output_type": "execute_result",
          "data": {
            "text/plain": [
              "array([0., 0., 0., 0., 0.], dtype=float32)"
            ]
          },
          "metadata": {},
          "execution_count": 224
        }
      ]
    },
    {
      "cell_type": "code",
      "metadata": {
        "id": "QXz60jpG_CR6"
      },
      "source": [
        "# first entry of dataset.test\n",
        "dataset_test_entry = next(iter(test_data))"
      ],
      "execution_count": 225,
      "outputs": []
    },
    {
      "cell_type": "code",
      "metadata": {
        "colab": {
          "base_uri": "https://localhost:8080/"
        },
        "id": "tXHfQ2D4_CU0",
        "outputId": "8f618e54-835d-465a-a6dd-8c24136c9a50"
      },
      "source": [
        "# first 5 values\n",
        "dataset_test_entry['target'][:5]"
      ],
      "execution_count": 226,
      "outputs": [
        {
          "output_type": "execute_result",
          "data": {
            "text/plain": [
              "array([0., 0., 0., 0., 0.], dtype=float32)"
            ]
          },
          "metadata": {},
          "execution_count": 226
        }
      ]
    },
    {
      "cell_type": "code",
      "metadata": {
        "id": "zqkSt771_CW-"
      },
      "source": [
        "# first entry of the forecast list\n",
        "forecast_entry = forecasts[0]"
      ],
      "execution_count": 227,
      "outputs": []
    },
    {
      "cell_type": "code",
      "metadata": {
        "colab": {
          "base_uri": "https://localhost:8080/"
        },
        "id": "wp5tTd8z_CZt",
        "outputId": "e718c5b7-7ed9-4678-c0e1-77348cac5016"
      },
      "source": [
        "print(f\"Number of sample paths: {forecast_entry.num_samples}\")\n",
        "print(f\"Dimension of samples: {forecast_entry.samples.shape}\")\n",
        "print(f\"Start date of the forecast window: {forecast_entry.start_date}\")\n",
        "print(f\"Frequency of the time series: {forecast_entry.freq}\")"
      ],
      "execution_count": 228,
      "outputs": [
        {
          "output_type": "stream",
          "name": "stdout",
          "text": [
            "Number of sample paths: 500\n",
            "Dimension of samples: (500, 250)\n",
            "Start date of the forecast window: 1970-01-06 03:36:00\n",
            "Frequency of the time series: 2min\n"
          ]
        }
      ]
    },
    {
      "cell_type": "code",
      "metadata": {
        "colab": {
          "base_uri": "https://localhost:8080/"
        },
        "id": "GvKJYScF_CdO",
        "outputId": "16ca8ca5-6d7c-4269-d341-ce0d9883c3ba"
      },
      "source": [
        "print(f\"Mean of the future window:\\n {forecast_entry.mean}\")\n",
        "print(f\"0.5-quantile (median) of the future window:\\n {forecast_entry.quantile(0.5)}\")"
      ],
      "execution_count": 229,
      "outputs": [
        {
          "output_type": "stream",
          "name": "stdout",
          "text": [
            "Mean of the future window:\n",
            " [ 1.97538090e+00  2.05794573e+00  2.09380579e+00  2.22560906e+00\n",
            "  1.85984004e+00  1.80884886e+00  1.71294677e+00  1.46354508e+00\n",
            "  1.56804419e+00  1.24206316e+00  1.29671013e+00  6.37208760e-01\n",
            "  3.67770016e-01  1.18137106e-01  6.52026087e-02  2.23792382e-02\n",
            "  7.54531147e-03  1.24530755e-02 -6.96247071e-03  2.92461980e-02\n",
            "  4.94025275e-03 -4.09548637e-03  1.91773642e-02  2.30458267e-02\n",
            "  5.08733280e-03  1.60222631e-02  1.71080604e-02  1.94047745e-02\n",
            "  2.09992053e-03  6.62704790e-03  3.69403599e-04  7.11689796e-03\n",
            " -2.74015684e-03 -7.17209280e-03 -2.51195487e-03 -3.28452792e-04\n",
            " -8.73644254e-04 -7.64230406e-03  1.67670415e-03 -2.67235981e-03\n",
            " -8.89624294e-04  3.94618510e-05 -1.97238475e-03 -2.02149199e-03\n",
            " -1.13623552e-02  5.90910204e-04  1.13796419e-03 -8.98281485e-03\n",
            " -5.95983258e-03 -1.09076290e-03  4.94976901e-03  2.27365773e-02\n",
            "  6.78560138e-02  1.14280201e-01  1.97167948e-01  2.75550902e-01\n",
            "  3.62304837e-01  4.36039507e-01  5.06455898e-01  6.06220782e-01\n",
            "  6.40921593e-01  7.05465496e-01  7.94824898e-01  8.65206659e-01\n",
            "  9.67045426e-01  1.04773462e+00  1.12786341e+00  1.15321362e+00\n",
            "  1.23885334e+00  1.35113204e+00  1.44119668e+00  1.48986804e+00\n",
            "  1.55176079e+00  1.63727582e+00  1.73411679e+00  1.80606067e+00\n",
            "  1.88043141e+00  1.93988264e+00  1.99810362e+00  2.10637069e+00\n",
            "  2.13085961e+00  1.69433618e+00  1.67567456e+00  1.49533987e+00\n",
            "  1.39982152e+00  1.15480864e+00  1.25219464e+00  1.07205212e+00\n",
            "  6.65882647e-01  3.08662266e-01  1.65996194e-01  6.42078444e-02\n",
            "  9.47507992e-02  8.76135007e-02  6.91250637e-02  1.28113953e-02\n",
            "  3.02348118e-02  2.74059679e-02 -1.99004123e-03  1.46726612e-02\n",
            " -3.77365295e-03  1.21623147e-02  8.18781368e-03 -3.33956024e-03\n",
            "  9.56122205e-03  2.86985910e-03 -3.04013514e-03  2.47964635e-03\n",
            "  1.69395737e-03 -2.79933913e-03  2.03066229e-04 -2.96491431e-04\n",
            " -6.42822648e-04 -2.24330253e-03  1.02128619e-02  6.63524540e-03\n",
            "  3.06339440e-04 -5.53671096e-04 -1.71171303e-03 -1.18653057e-03\n",
            "  9.67368111e-03 -2.42058677e-03 -5.09659667e-03  1.29378936e-03\n",
            " -4.81624110e-03 -6.78935740e-03 -5.19750593e-03  2.97595002e-03\n",
            "  1.37629723e-02  2.11723093e-02  8.22569802e-02  1.62201658e-01\n",
            "  2.22766802e-01  3.17608625e-01  3.90830070e-01  4.55755949e-01\n",
            "  5.20377517e-01  6.24734104e-01  6.97846949e-01  7.53539324e-01\n",
            "  8.28298748e-01  9.22128618e-01  1.00411582e+00  1.07699966e+00\n",
            "  1.18157601e+00  1.25995564e+00  1.29913831e+00  1.35690641e+00\n",
            "  1.39804804e+00  1.47530520e+00  1.60369837e+00  1.67382622e+00\n",
            "  1.78562891e+00  1.80965567e+00  1.93674409e+00  1.94422972e+00\n",
            "  2.01420450e+00  2.11491418e+00  1.76410520e+00  1.69688988e+00\n",
            "  1.60196745e+00  1.54407632e+00  1.43653071e+00  1.38693690e+00\n",
            "  1.35038018e+00  9.48572814e-01  1.03749609e+00  3.86922568e-01\n",
            "  1.30535543e-01  2.10749432e-01 -1.82061573e-03  1.96788553e-02\n",
            " -3.16847814e-03  1.78040732e-02  4.05659825e-02  1.37629826e-02\n",
            " -3.17092054e-04  2.49821413e-02 -9.12376709e-05  3.12008075e-02\n",
            " -1.65523170e-03  1.75287370e-02  2.73229991e-04  2.27663922e-03\n",
            " -9.39615129e-04  3.70487222e-03  5.68181858e-04 -4.06614365e-03\n",
            "  1.89452854e-04 -3.15477577e-04  7.42899545e-04 -2.09359769e-02\n",
            "  8.42862669e-03  2.14551366e-03 -1.38645599e-04 -4.59482754e-03\n",
            " -1.02176014e-02 -4.91876341e-03 -1.61093392e-03 -3.23095545e-03\n",
            " -9.22561064e-03 -2.99215200e-03  3.21671308e-04 -7.68668670e-03\n",
            " -2.99547403e-03  9.50126722e-03  2.31569279e-02  6.04357943e-02\n",
            "  7.72886127e-02  1.64044186e-01  2.41346419e-01  3.02724808e-01\n",
            "  3.67917657e-01  4.53696012e-01  5.19646347e-01  5.65189540e-01\n",
            "  6.88232064e-01  7.46041715e-01  8.60482275e-01  9.32556212e-01\n",
            "  1.00834382e+00  1.05412304e+00  1.17039144e+00  1.26768947e+00\n",
            "  1.35797811e+00  1.44798207e+00  1.43501806e+00  1.47421396e+00\n",
            "  1.60841942e+00  1.66268897e+00  1.72550797e+00  1.84013891e+00\n",
            "  1.91148579e+00  1.93588221e+00  2.03264523e+00  2.14088106e+00\n",
            "  1.86763537e+00  1.70069563e+00  1.73161399e+00  1.47723341e+00\n",
            "  1.59457290e+00  1.44718635e+00  1.30086029e+00  9.38867211e-01\n",
            "  4.37353849e-01  1.69360414e-01  9.81685445e-02 -1.76190212e-02\n",
            " -3.88477035e-02  2.41868850e-03]\n",
            "0.5-quantile (median) of the future window:\n",
            " [ 1.97292721e+00  2.05219364e+00  2.10753417e+00  2.23519301e+00\n",
            "  1.85572755e+00  1.78176391e+00  1.66362846e+00  1.57469213e+00\n",
            "  1.59588909e+00  1.17292714e+00  1.22086334e+00  7.46049762e-01\n",
            "  3.90835822e-01  1.43366545e-01  8.08791444e-02 -2.06473097e-02\n",
            "  2.66686380e-02  4.92752704e-04 -9.61123779e-03  2.19213571e-02\n",
            "  3.96143598e-03 -4.24551079e-04  1.91787314e-02  2.05255281e-02\n",
            "  6.10542065e-03  1.66357756e-02  1.74723845e-02  1.96018666e-02\n",
            "  2.35333829e-03  7.06330407e-03  1.33498129e-03  7.29716569e-03\n",
            " -3.22481734e-03 -6.99753547e-03 -1.37680676e-03 -4.48265841e-04\n",
            " -2.64487811e-04 -8.18182994e-03  1.96314976e-03 -2.68013543e-03\n",
            " -7.86551915e-04 -3.10694071e-04 -1.75611244e-03 -2.47352431e-03\n",
            " -1.04502020e-02  2.48006429e-03  2.44928454e-03 -9.35530569e-03\n",
            " -5.85896289e-03 -2.61139311e-03  4.25747363e-03  2.46451534e-02\n",
            "  6.55352548e-02  1.13792039e-01  2.01468781e-01  2.74880618e-01\n",
            "  3.64433229e-01  4.34649974e-01  5.08365691e-01  6.07385278e-01\n",
            "  6.36394620e-01  7.07878351e-01  7.95984387e-01  8.61107230e-01\n",
            "  9.60738003e-01  1.04203343e+00  1.11816359e+00  1.14727223e+00\n",
            "  1.24628162e+00  1.34404135e+00  1.43198550e+00  1.48930848e+00\n",
            "  1.55405653e+00  1.64977455e+00  1.74077332e+00  1.80052292e+00\n",
            "  1.88619661e+00  1.94438660e+00  1.99425077e+00  2.12317514e+00\n",
            "  2.15895271e+00  1.62603760e+00  1.64772439e+00  1.46643162e+00\n",
            "  1.32009208e+00  1.08389854e+00  1.24909520e+00  1.13324869e+00\n",
            "  6.51880145e-01  3.86599600e-01  1.91843003e-01  6.66649267e-02\n",
            "  3.94712090e-02  2.72536892e-02  5.52562252e-02 -2.74004153e-04\n",
            "  3.98708098e-02  3.19693759e-02 -3.58320819e-03  1.70228928e-02\n",
            " -1.61237331e-04  1.30068325e-02  7.05334079e-03 -3.40868230e-03\n",
            "  9.78509244e-03  3.88096017e-03 -3.44225741e-03  2.70733470e-03\n",
            "  2.35831994e-03 -2.41520861e-03  5.62708301e-04  7.53148517e-04\n",
            " -9.35760036e-05 -1.52324361e-03  1.03994412e-02  7.18707126e-03\n",
            "  5.01348521e-04 -2.43157119e-04 -1.23621488e-03 -2.40906561e-03\n",
            "  9.55573469e-03 -1.53277046e-03 -5.10370219e-03  4.45686141e-03\n",
            " -5.68466028e-03 -6.03246829e-03 -4.26310720e-03  5.09442715e-03\n",
            "  1.57976579e-02  2.06064675e-02  8.52540955e-02  1.60981253e-01\n",
            "  2.20951036e-01  3.15047234e-01  3.93626928e-01  4.53155726e-01\n",
            "  5.24180114e-01  6.21752560e-01  7.01577961e-01  7.51095712e-01\n",
            "  8.36494207e-01  9.10643518e-01  9.95243490e-01  1.07075453e+00\n",
            "  1.17633259e+00  1.23934257e+00  1.29468787e+00  1.36849940e+00\n",
            "  1.39883709e+00  1.47273469e+00  1.59771657e+00  1.68658447e+00\n",
            "  1.78160357e+00  1.79694271e+00  1.93267930e+00  1.94154346e+00\n",
            "  2.01275611e+00  2.07762861e+00  1.76238394e+00  1.75302017e+00\n",
            "  1.63170171e+00  1.67149401e+00  1.48843920e+00  1.45691156e+00\n",
            "  1.37218451e+00  9.86925721e-01  1.04864240e+00  2.27202952e-01\n",
            "  1.32226735e-01  1.05569154e-01  5.07484609e-03  2.83922385e-02\n",
            "  6.81930501e-03  2.06709057e-02  3.59879658e-02  1.32676093e-02\n",
            "  2.52711994e-04  2.57199593e-02 -5.87445684e-04  3.22678201e-02\n",
            " -2.16810056e-03  1.73238739e-02 -1.50364474e-06  2.65384605e-03\n",
            " -5.15150838e-04  2.46005645e-03  4.68155777e-04 -3.80843645e-03\n",
            "  2.83648667e-04  2.35112297e-04  1.15963491e-03 -2.04218067e-02\n",
            "  9.98122059e-03  2.50865519e-03 -9.85017279e-04 -2.59896577e-03\n",
            " -6.67623244e-03 -3.97551106e-03 -1.97375612e-03 -2.20322818e-03\n",
            " -1.02279773e-02 -6.37807511e-03  6.36501878e-04 -1.78727380e-03\n",
            "  1.04512903e-03  9.15262848e-03  2.47175656e-02  5.73689155e-02\n",
            "  7.82081410e-02  1.64172024e-01  2.40688413e-01  3.03739607e-01\n",
            "  3.69512349e-01  4.59409237e-01  5.18227637e-01  5.64383805e-01\n",
            "  6.93921506e-01  7.59021163e-01  8.52065265e-01  9.23236310e-01\n",
            "  1.00846398e+00  1.07504368e+00  1.17070997e+00  1.25379276e+00\n",
            "  1.35698307e+00  1.43888497e+00  1.46894741e+00  1.47828209e+00\n",
            "  1.61679864e+00  1.66674030e+00  1.74116278e+00  1.83779407e+00\n",
            "  1.93282926e+00  1.95126808e+00  2.04603624e+00  2.12806988e+00\n",
            "  1.86561966e+00  1.67887461e+00  1.65734673e+00  1.47389996e+00\n",
            "  1.44284534e+00  1.41157949e+00  1.34422493e+00  1.04618144e+00\n",
            "  4.88555074e-01  1.58784866e-01  8.39126781e-02 -1.29567282e-02\n",
            " -4.66762036e-02 -2.53433408e-03]\n"
          ]
        }
      ]
    },
    {
      "cell_type": "code",
      "metadata": {
        "id": "l4hT4FX0_sBf"
      },
      "source": [
        "def plot_prob_forecasts(ts_entry, forecast_entry):\n",
        "    plot_length = 500\n",
        "    prediction_intervals = (50.0, 90.0)\n",
        "    legend = [\"observations\", \"median prediction\"] + [f\"{k}% prediction interval\" for k in prediction_intervals][::-1]\n",
        "\n",
        "    fig, ax = plt.subplots(1, 1, figsize=(10, 7))\n",
        "    ts_entry[-plot_length:].plot(ax=ax)  # plot the time series\n",
        "    forecast_entry.plot(prediction_intervals=prediction_intervals, color='g')\n",
        "    plt.grid(which=\"both\")\n",
        "    plt.ylim(0,3)\n",
        "    plt.legend(legend, loc=\"upper left\")\n",
        "    plt.savefig(\"fig3.pdf\",bbox_inches=\"tight\")\n",
        "    plt.show()"
      ],
      "execution_count": 230,
      "outputs": []
    },
    {
      "cell_type": "code",
      "metadata": {
        "colab": {
          "base_uri": "https://localhost:8080/",
          "height": 444
        },
        "id": "eGL634gS_sFB",
        "outputId": "a0e39104-0061-4733-a4ba-c932b642764e"
      },
      "source": [
        "plot_prob_forecasts(ts_entry, forecast_entry)"
      ],
      "execution_count": 231,
      "outputs": [
        {
          "output_type": "display_data",
          "data": {
            "image/png": "[encoded data removed]",
            "text/plain": [
              "<Figure size 720x504 with 1 Axes>"
            ]
          },
          "metadata": {
            "needs_background": "light"
          }
        }
      ]
    },
    {
      "cell_type": "code",
      "metadata": {
        "id": "ZNQ9VW-i_sIV"
      },
      "source": [
        "from gluonts.evaluation import Evaluator"
      ],
      "execution_count": 232,
      "outputs": []
    },
    {
      "cell_type": "code",
      "metadata": {
        "colab": {
          "base_uri": "https://localhost:8080/"
        },
        "id": "K8qjJvhC_sX6",
        "outputId": "a2bb8e91-c966-46c7-e9e0-7d5d6887519f"
      },
      "source": [
        "evaluator = Evaluator(quantiles=[0.5,0.1,0.9])\n",
        "agg_metrics, item_metrics = evaluator(iter(tss), iter(forecasts), num_series=len(test_data))"
      ],
      "execution_count": 233,
      "outputs": [
        {
          "output_type": "stream",
          "name": "stderr",
          "text": [
            "Running evaluation: 100%|██████████| 1/1 [00:00<00:00, 25.01it/s]\n"
          ]
        }
      ]
    },
    {
      "cell_type": "code",
      "metadata": {
        "colab": {
          "base_uri": "https://localhost:8080/"
        },
        "id": "BGoIY9no_9k1",
        "outputId": "bf1eb5e1-2da4-4a24-8e42-38ca4fc9aca8"
      },
      "source": [
        "print(json.dumps(agg_metrics, indent=4))"
      ],
      "execution_count": 234,
      "outputs": [
        {
          "output_type": "stream",
          "name": "stdout",
          "text": [
            "{\n",
            "    \"MSE\": 0.27348086547851563,\n",
            "    \"abs_error\": 63.43101119995117,\n",
            "    \"abs_target_sum\": 175.01693725585938,\n",
            "    \"abs_target_mean\": 0.7000677490234375,\n",
            "    \"seasonal_error\": 0.7183020003189843,\n",
            "    \"MASE\": 0.3532275347794252,\n",
            "    \"MAPE\": 14144790.709677419,\n",
            "    \"sMAPE\": 1.2439600830078126,\n",
            "    \"MSIS\": 2.8549969220318205,\n",
            "    \"QuantileLoss[0.5]\": 63.43100930305957,\n",
            "    \"Coverage[0.5]\": 0.628,\n",
            "    \"QuantileLoss[0.1]\": 37.46727211090038,\n",
            "    \"Coverage[0.1]\": 0.3,\n",
            "    \"QuantileLoss[0.9]\": 25.958483558589066,\n",
            "    \"Coverage[0.9]\": 0.976,\n",
            "    \"RMSE\": 0.5229539802683556,\n",
            "    \"NRMSE\": 0.7470048163164958,\n",
            "    \"ND\": 0.3624278438104571,\n",
            "    \"wQuantileLoss[0.5]\": 0.3624278329721255,\n",
            "    \"wQuantileLoss[0.1]\": 0.21407797838518064,\n",
            "    \"wQuantileLoss[0.9]\": 0.14831983672894494,\n",
            "    \"mean_absolute_QuantileLoss\": 42.285588324183,\n",
            "    \"mean_wQuantileLoss\": 0.24160854936208373,\n",
            "    \"MAE_Coverage\": 0.13466666666666663,\n",
            "    \"OWA\": NaN\n",
            "}\n"
          ]
        }
      ]
    },
    {
      "cell_type": "code",
      "metadata": {
        "colab": {
          "base_uri": "https://localhost:8080/",
          "height": 100
        },
        "id": "JnrPgobQ_9nq",
        "outputId": "7b26c1cf-22a1-4db1-c94e-b249c7e171f0"
      },
      "source": [
        "item_metrics"
      ],
      "execution_count": 235,
      "outputs": [
        {
          "output_type": "execute_result",
          "data": {
            "text/html": [
              "<div>\n",
              "<style scoped>\n",
              "    .dataframe tbody tr th:only-of-type {\n",
              "        vertical-align: middle;\n",
              "    }\n",
              "\n",
              "    .dataframe tbody tr th {\n",
              "        vertical-align: top;\n",
              "    }\n",
              "\n",
              "    .dataframe thead th {\n",
              "        text-align: right;\n",
              "    }\n",
              "</style>\n",
              "<table border=\"1\" class=\"dataframe\">\n",
              "  <thead>\n",
              "    <tr style=\"text-align: right;\">\n",
              "      <th></th>\n",
              "      <th>item_id</th>\n",
              "      <th>MSE</th>\n",
              "      <th>abs_error</th>\n",
              "      <th>abs_target_sum</th>\n",
              "      <th>abs_target_mean</th>\n",
              "      <th>seasonal_error</th>\n",
              "      <th>MASE</th>\n",
              "      <th>MAPE</th>\n",
              "      <th>sMAPE</th>\n",
              "      <th>MSIS</th>\n",
              "      <th>QuantileLoss[0.5]</th>\n",
              "      <th>Coverage[0.5]</th>\n",
              "      <th>QuantileLoss[0.1]</th>\n",
              "      <th>Coverage[0.1]</th>\n",
              "      <th>QuantileLoss[0.9]</th>\n",
              "      <th>Coverage[0.9]</th>\n",
              "    </tr>\n",
              "  </thead>\n",
              "  <tbody>\n",
              "    <tr>\n",
              "      <th>0</th>\n",
              "      <td>NaN</td>\n",
              "      <td>0.273481</td>\n",
              "      <td>63.431011</td>\n",
              "      <td>175.016937</td>\n",
              "      <td>0.700068</td>\n",
              "      <td>0.718302</td>\n",
              "      <td>0.353228</td>\n",
              "      <td>1.414479e+07</td>\n",
              "      <td>1.24396</td>\n",
              "      <td>2.854997</td>\n",
              "      <td>63.431009</td>\n",
              "      <td>0.628</td>\n",
              "      <td>37.467272</td>\n",
              "      <td>0.3</td>\n",
              "      <td>25.958484</td>\n",
              "      <td>0.976</td>\n",
              "    </tr>\n",
              "  </tbody>\n",
              "</table>\n",
              "</div>"
            ],
            "text/plain": [
              "   item_id       MSE  ...  QuantileLoss[0.9]  Coverage[0.9]\n",
              "0      NaN  0.273481  ...          25.958484          0.976\n",
              "\n",
              "[1 rows x 16 columns]"
            ]
          },
          "metadata": {},
          "execution_count": 235
        }
      ]
    },
    {
      "cell_type": "code",
      "metadata": {
        "colab": {
          "base_uri": "https://localhost:8080/",
          "height": 279
        },
        "id": "sAIHZco0_9qU",
        "outputId": "1d742c34-5f91-4274-9f9a-8fe0a89e5549"
      },
      "source": [
        "item_metrics.plot(x='MSIS', y='MASE', kind='scatter')\n",
        "plt.grid(which=\"both\")\n",
        "plt.savefig(\"fig4.pdf\",bbox_inches=\"tight\")\n",
        "plt.show()"
      ],
      "execution_count": 236,
      "outputs": [
        {
          "output_type": "display_data",
          "data": {
            "image/png": "[encoded data removed]",
            "text/plain": [
              "<Figure size 432x288 with 1 Axes>"
            ]
          },
          "metadata": {
            "needs_background": "light"
          }
        }
      ]
    },
    {
      "cell_type": "code",
      "metadata": {
        "id": "Hvfrw7ym_9tz"
      },
      "source": [
        "# own forecast model"
      ],
      "execution_count": 237,
      "outputs": []
    },
    {
      "cell_type": "code",
      "metadata": {
        "id": "yV53Ow6SAIV1"
      },
      "source": [
        "class MyNetwork(gluon.HybridBlock):\n",
        "    def __init__(self, prediction_length, num_cells, **kwargs):\n",
        "        super().__init__(**kwargs)\n",
        "        self.prediction_length = prediction_length\n",
        "        self.num_cells = num_cells\n",
        "\n",
        "        with self.name_scope():\n",
        "            # Set up a 3 layer neural network that directly predicts the target values\n",
        "            self.nn = mx.gluon.nn.HybridSequential()\n",
        "            self.nn.add(mx.gluon.nn.Dense(units=820, activation='relu'))\n",
        "            self.nn.add(mx.gluon.nn.Dense(units=820, activation='relu'))\n",
        "            self.nn.add(mx.gluon.nn.Dense(units=self.prediction_length, activation='relu'))\n",
        "\n",
        "\n",
        "class MyTrainNetwork(MyNetwork):\n",
        "    def hybrid_forward(self, F, past_target, future_target):\n",
        "        prediction = self.nn(past_target)\n",
        "        # calculate L1 loss with the future_target to learn the median\n",
        "        return (prediction - future_target).abs().mean(axis=-1)\n",
        "\n",
        "\n",
        "class MyPredNetwork(MyTrainNetwork):\n",
        "    # The prediction network only receives past_target and returns predictions\n",
        "    def hybrid_forward(self, F, past_target):\n",
        "        prediction = self.nn(past_target)\n",
        "        return prediction.expand_dims(axis=1)"
      ],
      "execution_count": 238,
      "outputs": []
    },
    {
      "cell_type": "code",
      "metadata": {
        "id": "dDZyrrESAIYb"
      },
      "source": [
        "def plot_prob_forecasts_2(ts_entry, forecast_entry):\n",
        "    plot_length = 500\n",
        "    prediction_intervals = (50.0, 90.0)\n",
        "    legend = [\"observations\", \"median prediction\"] + [f\"{k}% prediction interval\" for k in prediction_intervals][::-1]\n",
        "\n",
        "    fig, ax = plt.subplots(1, 1, figsize=(10, 7))\n",
        "    ts_entry[-plot_length:].plot(ax=ax)  # plot the time series\n",
        "    forecast_entry.plot(prediction_intervals=prediction_intervals, color='g')\n",
        "    plt.grid(which=\"both\")\n",
        "    plt.ylim(0,3)\n",
        "    plt.legend(legend, loc=\"upper left\")\n",
        "    plt.savefig(\"fig5.pdf\",bbox_inches=\"tight\")\n",
        "    plt.show()"
      ],
      "execution_count": 239,
      "outputs": []
    },
    {
      "cell_type": "code",
      "metadata": {
        "id": "4TnPZh8UAIbe"
      },
      "source": [
        "from functools import partial\n",
        "from mxnet.gluon import HybridBlock\n",
        "from gluonts.core.component import validated\n",
        "from gluonts.dataset.loader import TrainDataLoader\n",
        "from gluonts.model.predictor import Predictor\n",
        "from gluonts.mx.batchify import as_in_context, batchify\n",
        "from gluonts.mx.model.estimator import GluonEstimator\n",
        "from gluonts.mx.model.predictor import RepresentableBlockPredictor\n",
        "from gluonts.mx.trainer import Trainer\n",
        "from gluonts.mx.util import copy_parameters, get_hybrid_forward_input_names\n",
        "from gluonts.transform import (\n",
        "    ExpectedNumInstanceSampler,\n",
        "    Transformation,\n",
        "    InstanceSplitter,\n",
        "    TestSplitSampler,\n",
        "    SelectFields,\n",
        "    Chain\n",
        ")"
      ],
      "execution_count": 240,
      "outputs": []
    },
    {
      "cell_type": "code",
      "metadata": {
        "id": "8XAQqNJpAId6"
      },
      "source": [
        "class MyEstimator(GluonEstimator):\n",
        "    @validated()\n",
        "    def __init__(\n",
        "        self,\n",
        "        prediction_length: int,\n",
        "        context_length: int,\n",
        "        freq: str,\n",
        "        num_cells: int,\n",
        "        batch_size: int = 32,\n",
        "        trainer: Trainer = Trainer()\n",
        "    ) -> None:\n",
        "        super().__init__(trainer=trainer, batch_size=batch_size)\n",
        "        self.prediction_length = prediction_length\n",
        "        self.context_length = context_length\n",
        "        self.freq = freq\n",
        "        self.num_cells = num_cells\n",
        "\n",
        "    def create_transformation(self):\n",
        "        return Chain([])\n",
        "\n",
        "    def create_training_data_loader(self, dataset, **kwargs):\n",
        "        instance_splitter = InstanceSplitter(\n",
        "            target_field=FieldName.TARGET,\n",
        "            is_pad_field=FieldName.IS_PAD,\n",
        "            start_field=FieldName.START,\n",
        "            forecast_start_field=FieldName.FORECAST_START,\n",
        "            instance_sampler=ExpectedNumInstanceSampler(\n",
        "                num_instances=1,\n",
        "                min_future=self.prediction_length\n",
        "            ),\n",
        "            past_length=self.context_length,\n",
        "            future_length=self.prediction_length,\n",
        "        )\n",
        "        input_names = get_hybrid_forward_input_names(MyTrainNetwork)\n",
        "        return TrainDataLoader(\n",
        "            dataset=dataset,\n",
        "            transform=instance_splitter + SelectFields(input_names),\n",
        "            batch_size=self.batch_size,\n",
        "            stack_fn=partial(batchify, ctx=self.trainer.ctx, dtype=self.dtype),\n",
        "            decode_fn=partial(as_in_context, ctx=self.trainer.ctx),\n",
        "            **kwargs,\n",
        "        )\n",
        "\n",
        "    def create_training_network(self) -> MyTrainNetwork:\n",
        "        return MyTrainNetwork(\n",
        "            prediction_length=self.prediction_length,\n",
        "            num_cells = self.num_cells\n",
        "        )\n",
        "\n",
        "    def create_predictor(\n",
        "        self, transformation: Transformation, trained_network: HybridBlock\n",
        "    ) -> Predictor:\n",
        "        prediction_splitter = InstanceSplitter(\n",
        "            target_field=FieldName.TARGET,\n",
        "            is_pad_field=FieldName.IS_PAD,\n",
        "            start_field=FieldName.START,\n",
        "            forecast_start_field=FieldName.FORECAST_START,\n",
        "            instance_sampler=TestSplitSampler(),\n",
        "            past_length=self.context_length,\n",
        "            future_length=self.prediction_length,\n",
        "        )\n",
        "\n",
        "        prediction_network = MyPredNetwork(\n",
        "            prediction_length=self.prediction_length,\n",
        "            num_cells=self.num_cells\n",
        "        )\n",
        "\n",
        "        copy_parameters(trained_network, prediction_network)\n",
        "\n",
        "        return RepresentableBlockPredictor(\n",
        "            input_transform=transformation + prediction_splitter,\n",
        "            prediction_net=prediction_network,\n",
        "            batch_size=self.trainer.batch_size,\n",
        "            freq=self.freq,\n",
        "            prediction_length=self.prediction_length,\n",
        "            ctx=self.trainer.ctx,\n",
        "        )"
      ],
      "execution_count": 241,
      "outputs": []
    },
    {
      "cell_type": "code",
      "metadata": {
        "id": "YLf6ySgo2iAg"
      },
      "source": [
        "\n",
        "# define the parameters of the dataset\n",
        "custom_ds_metadata = {\n",
        "    'num_series': 1,\n",
        "    'num_steps': 1901,\n",
        "    'prediction_length': 100,\n",
        "    'freq': '2min',\n",
        "    'start': [\n",
        "        pd.Timestamp(\"01-01-2019\", freq='2min')\n",
        "        for _ in range(100)\n",
        "    ]\n",
        "}"
      ],
      "execution_count": 242,
      "outputs": []
    },
    {
      "cell_type": "code",
      "metadata": {
        "id": "UMl3St3IAIia"
      },
      "source": [
        "estimator = MyEstimator(\n",
        "    prediction_length=250,     #custom_ds_metadata['prediction_length'],\n",
        "    context_length = custom_ds_metadata['prediction_length'],\n",
        "    freq=custom_ds_metadata['freq'],\n",
        "    num_cells=40, #40\n",
        "    trainer=Trainer(\n",
        "        ctx=\"cpu\",\n",
        "        epochs=5,\n",
        "        learning_rate=1e-3,\n",
        "        hybridize=False,\n",
        "        num_batches_per_epoch=2000\n",
        "    )\n",
        ")"
      ],
      "execution_count": 263,
      "outputs": []
    },
    {
      "cell_type": "code",
      "metadata": {
        "colab": {
          "base_uri": "https://localhost:8080/"
        },
        "id": "A1R6cBlx2vUv",
        "outputId": "cf726149-d3c3-41f7-9b16-628ee389d68e"
      },
      "source": [
        "from gluonts.dataset.field_names import FieldName\n",
        "[f\"FieldName.{k} = '{v}'\" for k, v in FieldName.__dict__.items() if not k.startswith('_')]"
      ],
      "execution_count": 264,
      "outputs": [
        {
          "output_type": "execute_result",
          "data": {
            "text/plain": [
              "[\"FieldName.ITEM_ID = 'item_id'\",\n",
              " \"FieldName.START = 'start'\",\n",
              " \"FieldName.TARGET = 'target'\",\n",
              " \"FieldName.FEAT_STATIC_CAT = 'feat_static_cat'\",\n",
              " \"FieldName.FEAT_STATIC_REAL = 'feat_static_real'\",\n",
              " \"FieldName.FEAT_DYNAMIC_CAT = 'feat_dynamic_cat'\",\n",
              " \"FieldName.FEAT_DYNAMIC_REAL = 'feat_dynamic_real'\",\n",
              " \"FieldName.PAST_FEAT_DYNAMIC_REAL = 'past_feat_dynamic_real'\",\n",
              " \"FieldName.FEAT_DYNAMIC_REAL_LEGACY = 'dynamic_feat'\",\n",
              " \"FieldName.FEAT_DYNAMIC = 'feat_dynamic'\",\n",
              " \"FieldName.PAST_FEAT_DYNAMIC = 'past_feat_dynamic'\",\n",
              " \"FieldName.FEAT_TIME = 'time_feat'\",\n",
              " \"FieldName.FEAT_CONST = 'feat_dynamic_const'\",\n",
              " \"FieldName.FEAT_AGE = 'feat_dynamic_age'\",\n",
              " \"FieldName.OBSERVED_VALUES = 'observed_values'\",\n",
              " \"FieldName.IS_PAD = 'is_pad'\",\n",
              " \"FieldName.FORECAST_START = 'forecast_start'\",\n",
              " \"FieldName.TARGET_DIM_INDICATOR = 'target_dimension_indicator'\"]"
            ]
          },
          "metadata": {},
          "execution_count": 264
        }
      ]
    },
    {
      "cell_type": "code",
      "metadata": {
        "colab": {
          "base_uri": "https://localhost:8080/"
        },
        "id": "O-V6TckVAIk8",
        "outputId": "bae035e2-4bcf-4103-a9af-739a6d3834cc"
      },
      "source": [
        "predictor = estimator.train(train_data)"
      ],
      "execution_count": 265,
      "outputs": [
        {
          "output_type": "stream",
          "name": "stderr",
          "text": [
            "100%|██████████| 2000/2000 [00:35<00:00, 56.63it/s, epoch=1/5, avg_epoch_loss=0.209]\n",
            "100%|██████████| 2000/2000 [00:35<00:00, 56.63it/s, epoch=2/5, avg_epoch_loss=0.176]\n",
            "100%|██████████| 2000/2000 [00:35<00:00, 56.82it/s, epoch=3/5, avg_epoch_loss=0.159]\n",
            "100%|██████████| 2000/2000 [00:34<00:00, 57.30it/s, epoch=4/5, avg_epoch_loss=0.146]\n",
            "100%|██████████| 2000/2000 [00:35<00:00, 56.41it/s, epoch=5/5, avg_epoch_loss=0.138]\n"
          ]
        }
      ]
    },
    {
      "cell_type": "code",
      "metadata": {
        "id": "bbt6sADcAInM"
      },
      "source": [
        "forecast_it, ts_it = make_evaluation_predictions(\n",
        "    dataset=test_data,  # test dataset\n",
        "    predictor=predictor,  # predictor\n",
        "    num_samples=100,  # number of sample paths we want for evaluation\n",
        ")"
      ],
      "execution_count": 266,
      "outputs": []
    },
    {
      "cell_type": "code",
      "metadata": {
        "id": "RBXpP0N8AIpx"
      },
      "source": [
        "forecasts = list(forecast_it)\n",
        "tss = list(ts_it)"
      ],
      "execution_count": 267,
      "outputs": []
    },
    {
      "cell_type": "code",
      "metadata": {
        "id": "dLvjeWV9AucS",
        "colab": {
          "base_uri": "https://localhost:8080/",
          "height": 444
        },
        "outputId": "267bcd8f-4ca5-4c88-fdf6-6347d422e2b1"
      },
      "source": [
        "plot_prob_forecasts_2(tss[0], forecasts[0])"
      ],
      "execution_count": 268,
      "outputs": [
        {
          "output_type": "display_data",
          "data": {
            "image/png": "[encoded data removed]",
            "text/plain": [
              "<Figure size 720x504 with 1 Axes>"
            ]
          },
          "metadata": {
            "needs_background": "light"
          }
        }
      ]
    },
    {
      "cell_type": "code",
      "metadata": {
        "id": "72mdTQhLAues",
        "colab": {
          "base_uri": "https://localhost:8080/"
        },
        "outputId": "a702b09b-6acc-4c27-ec80-a2ab86c6fca8"
      },
      "source": [
        "evaluator = Evaluator(quantiles=[0.1, 0.5, 0.9])\n",
        "agg_metrics, item_metrics = evaluator(iter(tss), iter(forecasts), num_series=len(test_data))"
      ],
      "execution_count": 269,
      "outputs": [
        {
          "output_type": "stream",
          "name": "stderr",
          "text": [
            "Running evaluation: 100%|██████████| 1/1 [00:00<00:00, 29.92it/s]\n"
          ]
        }
      ]
    },
    {
      "cell_type": "code",
      "metadata": {
        "id": "xDu1hSNuAuhc",
        "colab": {
          "base_uri": "https://localhost:8080/"
        },
        "outputId": "83d22019-b699-46d0-8e8a-810e9d95c7a5"
      },
      "source": [
        "print(json.dumps(agg_metrics, indent=4))"
      ],
      "execution_count": 270,
      "outputs": [
        {
          "output_type": "stream",
          "name": "stdout",
          "text": [
            "{\n",
            "    \"MSE\": 0.25768133544921873,\n",
            "    \"abs_error\": 43.09296798706055,\n",
            "    \"abs_target_sum\": 175.01693725585938,\n",
            "    \"abs_target_mean\": 0.7000677490234375,\n",
            "    \"seasonal_error\": 0.7183020003189843,\n",
            "    \"MASE\": 0.239971309938849,\n",
            "    \"MAPE\": 12998117.161290323,\n",
            "    \"sMAPE\": 1.2121947261703063,\n",
            "    \"MSIS\": 9.598852567496841,\n",
            "    \"QuantileLoss[0.1]\": 27.6045778101387,\n",
            "    \"Coverage[0.1]\": 0.42,\n",
            "    \"QuantileLoss[0.5]\": 43.09296806439873,\n",
            "    \"Coverage[0.5]\": 0.42,\n",
            "    \"QuantileLoss[0.9]\": 58.58135831865876,\n",
            "    \"Coverage[0.9]\": 0.42,\n",
            "    \"RMSE\": 0.5076232219365252,\n",
            "    \"NRMSE\": 0.7251058524616173,\n",
            "    \"ND\": 0.2462217009549334,\n",
            "    \"wQuantileLoss[0.1]\": 0.1577251793052648,\n",
            "    \"wQuantileLoss[0.5]\": 0.24622170139682312,\n",
            "    \"wQuantileLoss[0.9]\": 0.3347182234883814,\n",
            "    \"mean_absolute_QuantileLoss\": 43.092968064398725,\n",
            "    \"mean_wQuantileLoss\": 0.2462217013968231,\n",
            "    \"MAE_Coverage\": 0.29333333333333333,\n",
            "    \"OWA\": NaN\n",
            "}\n"
          ]
        }
      ]
    },
    {
      "cell_type": "code",
      "metadata": {
        "id": "c7s2rVYUAujs",
        "colab": {
          "base_uri": "https://localhost:8080/",
          "height": 100
        },
        "outputId": "308f139b-9751-43f5-98c8-7231771cab27"
      },
      "source": [
        "item_metrics.head(10)"
      ],
      "execution_count": 271,
      "outputs": [
        {
          "output_type": "execute_result",
          "data": {
            "text/html": [
              "<div>\n",
              "<style scoped>\n",
              "    .dataframe tbody tr th:only-of-type {\n",
              "        vertical-align: middle;\n",
              "    }\n",
              "\n",
              "    .dataframe tbody tr th {\n",
              "        vertical-align: top;\n",
              "    }\n",
              "\n",
              "    .dataframe thead th {\n",
              "        text-align: right;\n",
              "    }\n",
              "</style>\n",
              "<table border=\"1\" class=\"dataframe\">\n",
              "  <thead>\n",
              "    <tr style=\"text-align: right;\">\n",
              "      <th></th>\n",
              "      <th>item_id</th>\n",
              "      <th>MSE</th>\n",
              "      <th>abs_error</th>\n",
              "      <th>abs_target_sum</th>\n",
              "      <th>abs_target_mean</th>\n",
              "      <th>seasonal_error</th>\n",
              "      <th>MASE</th>\n",
              "      <th>MAPE</th>\n",
              "      <th>sMAPE</th>\n",
              "      <th>MSIS</th>\n",
              "      <th>QuantileLoss[0.1]</th>\n",
              "      <th>Coverage[0.1]</th>\n",
              "      <th>QuantileLoss[0.5]</th>\n",
              "      <th>Coverage[0.5]</th>\n",
              "      <th>QuantileLoss[0.9]</th>\n",
              "      <th>Coverage[0.9]</th>\n",
              "    </tr>\n",
              "  </thead>\n",
              "  <tbody>\n",
              "    <tr>\n",
              "      <th>0</th>\n",
              "      <td>NaN</td>\n",
              "      <td>0.257681</td>\n",
              "      <td>43.092968</td>\n",
              "      <td>175.016937</td>\n",
              "      <td>0.700068</td>\n",
              "      <td>0.718302</td>\n",
              "      <td>0.239971</td>\n",
              "      <td>1.299812e+07</td>\n",
              "      <td>1.212195</td>\n",
              "      <td>9.598853</td>\n",
              "      <td>27.604578</td>\n",
              "      <td>0.42</td>\n",
              "      <td>43.092968</td>\n",
              "      <td>0.42</td>\n",
              "      <td>58.581358</td>\n",
              "      <td>0.42</td>\n",
              "    </tr>\n",
              "  </tbody>\n",
              "</table>\n",
              "</div>"
            ],
            "text/plain": [
              "   item_id       MSE  ...  QuantileLoss[0.9]  Coverage[0.9]\n",
              "0      NaN  0.257681  ...          58.581358           0.42\n",
              "\n",
              "[1 rows x 16 columns]"
            ]
          },
          "metadata": {},
          "execution_count": 271
        }
      ]
    },
    {
      "cell_type": "code",
      "metadata": {
        "id": "cg92c0W3Aul7",
        "colab": {
          "base_uri": "https://localhost:8080/",
          "height": 279
        },
        "outputId": "916c8e78-a161-4569-f0cf-4480a0971bc0"
      },
      "source": [
        "item_metrics.plot(x='MSIS', y='MASE', kind='scatter')\n",
        "plt.grid(which=\"both\")\n",
        "plt.savefig(\"fig6.pdf\",bbox_inches=\"tight\")\n",
        "plt.show()"
      ],
      "execution_count": 272,
      "outputs": [
        {
          "output_type": "display_data",
          "data": {
            "image/png": "[encoded data removed]",
            "text/plain": [
              "<Figure size 432x288 with 1 Axes>"
            ]
          },
          "metadata": {
            "needs_background": "light"
          }
        }
      ]
    }
  ]
}