{
  "nbformat": 4,
  "nbformat_minor": 0,
  "metadata": {
    "colab": {
      "name": "Copy of Rawdata_82_1_Charge_Capacity_forecast.ipynb",
      "provenance": [],
      "collapsed_sections": []
    },
    "kernelspec": {
      "display_name": "Python 3",
      "name": "python3"
    }
  },
  "cells": [
    {
      "cell_type": "code",
      "metadata": {
        "colab": {
          "base_uri": "https://localhost:8080/"
        },
        "id": "BISkgn0jVdmk",
        "outputId": "dedfa43f-9d4d-4f61-c44b-ab55475d6f3e"
      },
      "source": [
        "pip install --upgrade mxnet~=1.7 gluonts"
      ],
      "execution_count": 1206,
      "outputs": [
        {
          "output_type": "stream",
          "name": "stdout",
          "text": [
            "Requirement already satisfied: mxnet~=1.7 in /usr/local/lib/python3.7/dist-packages (1.8.0.post0)\n",
            "Requirement already satisfied: gluonts in /usr/local/lib/python3.7/dist-packages (0.8.1)\n",
            "Requirement already satisfied: numpy<2.0.0,>1.16.0 in /usr/local/lib/python3.7/dist-packages (from mxnet~=1.7) (1.19.5)\n",
            "Requirement already satisfied: graphviz<0.9.0,>=0.8.1 in /usr/local/lib/python3.7/dist-packages (from mxnet~=1.7) (0.8.4)\n",
            "Requirement already satisfied: requests<3,>=2.20.0 in /usr/local/lib/python3.7/dist-packages (from mxnet~=1.7) (2.23.0)\n",
            "Requirement already satisfied: certifi>=2017.4.17 in /usr/local/lib/python3.7/dist-packages (from requests<3,>=2.20.0->mxnet~=1.7) (2021.5.30)\n",
            "Requirement already satisfied: idna<3,>=2.5 in /usr/local/lib/python3.7/dist-packages (from requests<3,>=2.20.0->mxnet~=1.7) (2.10)\n",
            "Requirement already satisfied: urllib3!=1.25.0,!=1.25.1,<1.26,>=1.21.1 in /usr/local/lib/python3.7/dist-packages (from requests<3,>=2.20.0->mxnet~=1.7) (1.24.3)\n",
            "Requirement already satisfied: chardet<4,>=3.0.2 in /usr/local/lib/python3.7/dist-packages (from requests<3,>=2.20.0->mxnet~=1.7) (3.0.4)\n",
            "Requirement already satisfied: pydantic~=1.1 in /usr/local/lib/python3.7/dist-packages (from gluonts) (1.8.2)\n",
            "Requirement already satisfied: toolz~=0.10 in /usr/local/lib/python3.7/dist-packages (from gluonts) (0.11.1)\n",
            "Requirement already satisfied: pandas~=1.0 in /usr/local/lib/python3.7/dist-packages (from gluonts) (1.1.5)\n",
            "Requirement already satisfied: holidays>=0.9 in /usr/local/lib/python3.7/dist-packages (from gluonts) (0.10.5.2)\n",
            "Requirement already satisfied: tqdm~=4.23 in /usr/local/lib/python3.7/dist-packages (from gluonts) (4.62.3)\n",
            "Requirement already satisfied: matplotlib~=3.0 in /usr/local/lib/python3.7/dist-packages (from gluonts) (3.2.2)\n",
            "Requirement already satisfied: typing-extensions~=3.10.0.0 in /usr/local/lib/python3.7/dist-packages (from gluonts) (3.10.0.2)\n",
            "Requirement already satisfied: korean-lunar-calendar in /usr/local/lib/python3.7/dist-packages (from holidays>=0.9->gluonts) (0.2.1)\n",
            "Requirement already satisfied: python-dateutil in /usr/local/lib/python3.7/dist-packages (from holidays>=0.9->gluonts) (2.8.2)\n",
            "Requirement already satisfied: convertdate>=2.3.0 in /usr/local/lib/python3.7/dist-packages (from holidays>=0.9->gluonts) (2.3.2)\n",
            "Requirement already satisfied: hijri-converter in /usr/local/lib/python3.7/dist-packages (from holidays>=0.9->gluonts) (2.2.1)\n",
            "Requirement already satisfied: six in /usr/local/lib/python3.7/dist-packages (from holidays>=0.9->gluonts) (1.15.0)\n",
            "Requirement already satisfied: pytz>=2014.10 in /usr/local/lib/python3.7/dist-packages (from convertdate>=2.3.0->holidays>=0.9->gluonts) (2018.9)\n",
            "Requirement already satisfied: pymeeus<=1,>=0.3.13 in /usr/local/lib/python3.7/dist-packages (from convertdate>=2.3.0->holidays>=0.9->gluonts) (0.5.11)\n",
            "Requirement already satisfied: kiwisolver>=1.0.1 in /usr/local/lib/python3.7/dist-packages (from matplotlib~=3.0->gluonts) (1.3.2)\n",
            "Requirement already satisfied: pyparsing!=2.0.4,!=2.1.2,!=2.1.6,>=2.0.1 in /usr/local/lib/python3.7/dist-packages (from matplotlib~=3.0->gluonts) (2.4.7)\n",
            "Requirement already satisfied: cycler>=0.10 in /usr/local/lib/python3.7/dist-packages (from matplotlib~=3.0->gluonts) (0.10.0)\n"
          ]
        }
      ]
    },
    {
      "cell_type": "code",
      "metadata": {
        "id": "Io5dASCrVoYO"
      },
      "source": [
        "# Third-party imports\n",
        "%matplotlib inline\n",
        "import mxnet as mx\n",
        "from mxnet import gluon\n",
        "import numpy as np\n",
        "import pandas as pd\n",
        "import matplotlib.pyplot as plt\n",
        "import json"
      ],
      "execution_count": 1207,
      "outputs": []
    },
    {
      "cell_type": "code",
      "metadata": {
        "id": "JS2hNvrbVoa6"
      },
      "source": [
        "# gluon datasets\n",
        "from gluonts.dataset.repository.datasets import get_dataset, dataset_recipes\n",
        "from gluonts.dataset.util import to_pandas"
      ],
      "execution_count": 1208,
      "outputs": []
    },
    {
      "cell_type": "code",
      "metadata": {
        "colab": {
          "base_uri": "https://localhost:8080/"
        },
        "id": "q-6chF-mVod2",
        "outputId": "e2131d6b-0c15-4174-dd74-c6236adf60fc"
      },
      "source": [
        "print(f\"Available datasets: {list(dataset_recipes.keys())}\")"
      ],
      "execution_count": 1209,
      "outputs": [
        {
          "output_type": "stream",
          "name": "stdout",
          "text": [
            "Available datasets: ['constant', 'exchange_rate', 'solar-energy', 'electricity', 'traffic', 'exchange_rate_nips', 'electricity_nips', 'traffic_nips', 'solar_nips', 'wiki-rolling_nips', 'taxi_30min', 'kaggle_web_traffic_with_missing', 'kaggle_web_traffic_without_missing', 'kaggle_web_traffic_weekly', 'm1_yearly', 'm1_quarterly', 'm1_monthly', 'nn5_daily_with_missing', 'nn5_daily_without_missing', 'nn5_weekly', 'tourism_monthly', 'tourism_quarterly', 'tourism_yearly', 'm3_monthly', 'm3_quarterly', 'm3_yearly', 'm3_other', 'm4_hourly', 'm4_daily', 'm4_weekly', 'm4_monthly', 'm4_quarterly', 'm4_yearly', 'm5']\n"
          ]
        }
      ]
    },
    {
      "cell_type": "code",
      "metadata": {
        "colab": {
          "base_uri": "https://localhost:8080/"
        },
        "id": "3dl59DPWBspm",
        "outputId": "3db0ab11-0c72-4d6f-e87a-ba6fae77ab6b"
      },
      "source": [
        "pip install mxnet"
      ],
      "execution_count": 1210,
      "outputs": [
        {
          "output_type": "stream",
          "name": "stdout",
          "text": [
            "Requirement already satisfied: mxnet in /usr/local/lib/python3.7/dist-packages (1.8.0.post0)\n",
            "Requirement already satisfied: requests<3,>=2.20.0 in /usr/local/lib/python3.7/dist-packages (from mxnet) (2.23.0)\n",
            "Requirement already satisfied: graphviz<0.9.0,>=0.8.1 in /usr/local/lib/python3.7/dist-packages (from mxnet) (0.8.4)\n",
            "Requirement already satisfied: numpy<2.0.0,>1.16.0 in /usr/local/lib/python3.7/dist-packages (from mxnet) (1.19.5)\n",
            "Requirement already satisfied: idna<3,>=2.5 in /usr/local/lib/python3.7/dist-packages (from requests<3,>=2.20.0->mxnet) (2.10)\n",
            "Requirement already satisfied: urllib3!=1.25.0,!=1.25.1,<1.26,>=1.21.1 in /usr/local/lib/python3.7/dist-packages (from requests<3,>=2.20.0->mxnet) (1.24.3)\n",
            "Requirement already satisfied: chardet<4,>=3.0.2 in /usr/local/lib/python3.7/dist-packages (from requests<3,>=2.20.0->mxnet) (3.0.4)\n",
            "Requirement already satisfied: certifi>=2017.4.17 in /usr/local/lib/python3.7/dist-packages (from requests<3,>=2.20.0->mxnet) (2021.5.30)\n"
          ]
        }
      ]
    },
    {
      "cell_type": "code",
      "metadata": {
        "id": "qjWGHZjhlWe4"
      },
      "source": [
        "dataset_nasa = pd.read_csv('DOE-551-600-10DU-01_2.csv')"
      ],
      "execution_count": 1212,
      "outputs": []
    },
    {
      "cell_type": "code",
      "metadata": {
        "colab": {
          "base_uri": "https://localhost:8080/",
          "height": 454
        },
        "id": "SLR52rSMVomO",
        "outputId": "e2dd7156-9f7f-46f8-fc04-4736f3707fa0"
      },
      "source": [
        "dataset_nasa\n"
      ],
      "execution_count": 1213,
      "outputs": [
        {
          "output_type": "execute_result",
          "data": {
            "text/html": [
              "<div>\n",
              "<style scoped>\n",
              "    .dataframe tbody tr th:only-of-type {\n",
              "        vertical-align: middle;\n",
              "    }\n",
              "\n",
              "    .dataframe tbody tr th {\n",
              "        vertical-align: top;\n",
              "    }\n",
              "\n",
              "    .dataframe thead th {\n",
              "        text-align: right;\n",
              "    }\n",
              "</style>\n",
              "<table border=\"1\" class=\"dataframe\">\n",
              "  <thead>\n",
              "    <tr style=\"text-align: right;\">\n",
              "      <th></th>\n",
              "      <th>index</th>\n",
              "      <th>Test_Time(s)</th>\n",
              "      <th>Unnamed: 2</th>\n",
              "      <th>Step_Time(s)</th>\n",
              "      <th>Cycle_Index</th>\n",
              "      <th>Step_Index</th>\n",
              "      <th>Voltage</th>\n",
              "      <th>Test_Time(s).1</th>\n",
              "      <th>Step_Time(s).1</th>\n",
              "      <th>Cycle_Index.1</th>\n",
              "      <th>Step_Index.1</th>\n",
              "      <th>Current</th>\n",
              "      <th>Test_Time(s).2</th>\n",
              "      <th>Step_Time(s).2</th>\n",
              "      <th>Cycle_Index.2</th>\n",
              "      <th>Step_Index.2</th>\n",
              "      <th>Charge_Capacity</th>\n",
              "      <th>Test_Time(s).3</th>\n",
              "      <th>Step_Time(s).3</th>\n",
              "      <th>Cycle_Index.3</th>\n",
              "      <th>Step_Index.3</th>\n",
              "      <th>Discharge_Capacity</th>\n",
              "      <th>Test_Time(s).4</th>\n",
              "      <th>Step_Time(s).4</th>\n",
              "      <th>Cycle_Index.4</th>\n",
              "      <th>Step_Index.4</th>\n",
              "    </tr>\n",
              "  </thead>\n",
              "  <tbody>\n",
              "    <tr>\n",
              "      <th>0</th>\n",
              "      <td>0</td>\n",
              "      <td>120.002100</td>\n",
              "      <td>NaN</td>\n",
              "      <td>120.0020</td>\n",
              "      <td>1</td>\n",
              "      <td>1</td>\n",
              "      <td>3.578289</td>\n",
              "      <td>120.002100</td>\n",
              "      <td>120.0020</td>\n",
              "      <td>1</td>\n",
              "      <td>1</td>\n",
              "      <td>0.000000</td>\n",
              "      <td>120.002100</td>\n",
              "      <td>120.0020</td>\n",
              "      <td>1</td>\n",
              "      <td>1</td>\n",
              "      <td>0.000000</td>\n",
              "      <td>120.002100</td>\n",
              "      <td>120.0020</td>\n",
              "      <td>1</td>\n",
              "      <td>1</td>\n",
              "      <td>0.000000</td>\n",
              "      <td>120.002100</td>\n",
              "      <td>120.0020</td>\n",
              "      <td>1</td>\n",
              "      <td>1</td>\n",
              "    </tr>\n",
              "    <tr>\n",
              "      <th>1</th>\n",
              "      <td>1</td>\n",
              "      <td>240.004200</td>\n",
              "      <td>NaN</td>\n",
              "      <td>240.0041</td>\n",
              "      <td>1</td>\n",
              "      <td>1</td>\n",
              "      <td>3.578400</td>\n",
              "      <td>240.004200</td>\n",
              "      <td>240.0041</td>\n",
              "      <td>1</td>\n",
              "      <td>1</td>\n",
              "      <td>0.000000</td>\n",
              "      <td>240.004200</td>\n",
              "      <td>240.0041</td>\n",
              "      <td>1</td>\n",
              "      <td>1</td>\n",
              "      <td>0.000000</td>\n",
              "      <td>240.004200</td>\n",
              "      <td>240.0041</td>\n",
              "      <td>1</td>\n",
              "      <td>1</td>\n",
              "      <td>0.000000</td>\n",
              "      <td>240.004200</td>\n",
              "      <td>240.0041</td>\n",
              "      <td>1</td>\n",
              "      <td>1</td>\n",
              "    </tr>\n",
              "    <tr>\n",
              "      <th>2</th>\n",
              "      <td>2</td>\n",
              "      <td>360.003300</td>\n",
              "      <td>NaN</td>\n",
              "      <td>360.0032</td>\n",
              "      <td>1</td>\n",
              "      <td>1</td>\n",
              "      <td>3.580041</td>\n",
              "      <td>360.003300</td>\n",
              "      <td>360.0032</td>\n",
              "      <td>1</td>\n",
              "      <td>1</td>\n",
              "      <td>0.000000</td>\n",
              "      <td>360.003300</td>\n",
              "      <td>360.0032</td>\n",
              "      <td>1</td>\n",
              "      <td>1</td>\n",
              "      <td>0.000000</td>\n",
              "      <td>360.003300</td>\n",
              "      <td>360.0032</td>\n",
              "      <td>1</td>\n",
              "      <td>1</td>\n",
              "      <td>0.000000</td>\n",
              "      <td>360.003300</td>\n",
              "      <td>360.0032</td>\n",
              "      <td>1</td>\n",
              "      <td>1</td>\n",
              "    </tr>\n",
              "    <tr>\n",
              "      <th>3</th>\n",
              "      <td>3</td>\n",
              "      <td>480.005600</td>\n",
              "      <td>NaN</td>\n",
              "      <td>480.0055</td>\n",
              "      <td>1</td>\n",
              "      <td>1</td>\n",
              "      <td>3.581675</td>\n",
              "      <td>480.005600</td>\n",
              "      <td>480.0055</td>\n",
              "      <td>1</td>\n",
              "      <td>1</td>\n",
              "      <td>0.000000</td>\n",
              "      <td>480.005600</td>\n",
              "      <td>480.0055</td>\n",
              "      <td>1</td>\n",
              "      <td>1</td>\n",
              "      <td>0.000000</td>\n",
              "      <td>480.005600</td>\n",
              "      <td>480.0055</td>\n",
              "      <td>1</td>\n",
              "      <td>1</td>\n",
              "      <td>0.000000</td>\n",
              "      <td>480.005600</td>\n",
              "      <td>480.0055</td>\n",
              "      <td>1</td>\n",
              "      <td>1</td>\n",
              "    </tr>\n",
              "    <tr>\n",
              "      <th>4</th>\n",
              "      <td>4</td>\n",
              "      <td>600.000900</td>\n",
              "      <td>NaN</td>\n",
              "      <td>600.0008</td>\n",
              "      <td>1</td>\n",
              "      <td>1</td>\n",
              "      <td>3.582434</td>\n",
              "      <td>600.000900</td>\n",
              "      <td>600.0008</td>\n",
              "      <td>1</td>\n",
              "      <td>1</td>\n",
              "      <td>0.000000</td>\n",
              "      <td>600.000900</td>\n",
              "      <td>600.0008</td>\n",
              "      <td>1</td>\n",
              "      <td>1</td>\n",
              "      <td>0.000000</td>\n",
              "      <td>600.000900</td>\n",
              "      <td>600.0008</td>\n",
              "      <td>1</td>\n",
              "      <td>1</td>\n",
              "      <td>0.000000</td>\n",
              "      <td>600.000900</td>\n",
              "      <td>600.0008</td>\n",
              "      <td>1</td>\n",
              "      <td>1</td>\n",
              "    </tr>\n",
              "    <tr>\n",
              "      <th>...</th>\n",
              "      <td>...</td>\n",
              "      <td>...</td>\n",
              "      <td>...</td>\n",
              "      <td>...</td>\n",
              "      <td>...</td>\n",
              "      <td>...</td>\n",
              "      <td>...</td>\n",
              "      <td>...</td>\n",
              "      <td>...</td>\n",
              "      <td>...</td>\n",
              "      <td>...</td>\n",
              "      <td>...</td>\n",
              "      <td>...</td>\n",
              "      <td>...</td>\n",
              "      <td>...</td>\n",
              "      <td>...</td>\n",
              "      <td>...</td>\n",
              "      <td>...</td>\n",
              "      <td>...</td>\n",
              "      <td>...</td>\n",
              "      <td>...</td>\n",
              "      <td>...</td>\n",
              "      <td>...</td>\n",
              "      <td>...</td>\n",
              "      <td>...</td>\n",
              "      <td>...</td>\n",
              "    </tr>\n",
              "    <tr>\n",
              "      <th>3953</th>\n",
              "      <td>3953</td>\n",
              "      <td>454963.238852</td>\n",
              "      <td>NaN</td>\n",
              "      <td>120.0033</td>\n",
              "      <td>50</td>\n",
              "      <td>6</td>\n",
              "      <td>3.609489</td>\n",
              "      <td>454963.238852</td>\n",
              "      <td>120.0033</td>\n",
              "      <td>50</td>\n",
              "      <td>6</td>\n",
              "      <td>0.000000</td>\n",
              "      <td>454963.238852</td>\n",
              "      <td>120.0033</td>\n",
              "      <td>50</td>\n",
              "      <td>6</td>\n",
              "      <td>2.441618</td>\n",
              "      <td>454963.238852</td>\n",
              "      <td>120.0033</td>\n",
              "      <td>50</td>\n",
              "      <td>6</td>\n",
              "      <td>2.441629</td>\n",
              "      <td>454963.238852</td>\n",
              "      <td>120.0033</td>\n",
              "      <td>50</td>\n",
              "      <td>6</td>\n",
              "    </tr>\n",
              "    <tr>\n",
              "      <th>3954</th>\n",
              "      <td>3954</td>\n",
              "      <td>455083.237752</td>\n",
              "      <td>NaN</td>\n",
              "      <td>240.0022</td>\n",
              "      <td>50</td>\n",
              "      <td>6</td>\n",
              "      <td>3.642449</td>\n",
              "      <td>455083.237752</td>\n",
              "      <td>240.0022</td>\n",
              "      <td>50</td>\n",
              "      <td>6</td>\n",
              "      <td>0.000000</td>\n",
              "      <td>455083.237752</td>\n",
              "      <td>240.0022</td>\n",
              "      <td>50</td>\n",
              "      <td>6</td>\n",
              "      <td>2.441618</td>\n",
              "      <td>455083.237752</td>\n",
              "      <td>240.0022</td>\n",
              "      <td>50</td>\n",
              "      <td>6</td>\n",
              "      <td>2.441629</td>\n",
              "      <td>455083.237752</td>\n",
              "      <td>240.0022</td>\n",
              "      <td>50</td>\n",
              "      <td>6</td>\n",
              "    </tr>\n",
              "    <tr>\n",
              "      <th>3955</th>\n",
              "      <td>3955</td>\n",
              "      <td>455143.238952</td>\n",
              "      <td>NaN</td>\n",
              "      <td>300.0034</td>\n",
              "      <td>50</td>\n",
              "      <td>6</td>\n",
              "      <td>3.650748</td>\n",
              "      <td>455143.238952</td>\n",
              "      <td>300.0034</td>\n",
              "      <td>50</td>\n",
              "      <td>6</td>\n",
              "      <td>0.000000</td>\n",
              "      <td>455143.238952</td>\n",
              "      <td>300.0034</td>\n",
              "      <td>50</td>\n",
              "      <td>6</td>\n",
              "      <td>2.441618</td>\n",
              "      <td>455143.238952</td>\n",
              "      <td>300.0034</td>\n",
              "      <td>50</td>\n",
              "      <td>6</td>\n",
              "      <td>2.441629</td>\n",
              "      <td>455143.238952</td>\n",
              "      <td>300.0034</td>\n",
              "      <td>50</td>\n",
              "      <td>6</td>\n",
              "    </tr>\n",
              "    <tr>\n",
              "      <th>3956</th>\n",
              "      <td>3956</td>\n",
              "      <td>455263.394832</td>\n",
              "      <td>NaN</td>\n",
              "      <td>120.0043</td>\n",
              "      <td>51</td>\n",
              "      <td>8</td>\n",
              "      <td>4.189424</td>\n",
              "      <td>455263.394832</td>\n",
              "      <td>120.0043</td>\n",
              "      <td>51</td>\n",
              "      <td>8</td>\n",
              "      <td>3.259819</td>\n",
              "      <td>455263.394832</td>\n",
              "      <td>120.0043</td>\n",
              "      <td>51</td>\n",
              "      <td>8</td>\n",
              "      <td>0.108659</td>\n",
              "      <td>455263.394832</td>\n",
              "      <td>120.0043</td>\n",
              "      <td>51</td>\n",
              "      <td>8</td>\n",
              "      <td>0.000000</td>\n",
              "      <td>455263.394832</td>\n",
              "      <td>120.0043</td>\n",
              "      <td>51</td>\n",
              "      <td>8</td>\n",
              "    </tr>\n",
              "    <tr>\n",
              "      <th>3957</th>\n",
              "      <td>3957</td>\n",
              "      <td>455292.448332</td>\n",
              "      <td>NaN</td>\n",
              "      <td>149.0578</td>\n",
              "      <td>51</td>\n",
              "      <td>8</td>\n",
              "      <td>4.200018</td>\n",
              "      <td>455292.448332</td>\n",
              "      <td>149.0578</td>\n",
              "      <td>51</td>\n",
              "      <td>8</td>\n",
              "      <td>3.260193</td>\n",
              "      <td>455292.448332</td>\n",
              "      <td>149.0578</td>\n",
              "      <td>51</td>\n",
              "      <td>8</td>\n",
              "      <td>0.134974</td>\n",
              "      <td>455292.448332</td>\n",
              "      <td>149.0578</td>\n",
              "      <td>51</td>\n",
              "      <td>8</td>\n",
              "      <td>0.000000</td>\n",
              "      <td>455292.448332</td>\n",
              "      <td>149.0578</td>\n",
              "      <td>51</td>\n",
              "      <td>8</td>\n",
              "    </tr>\n",
              "  </tbody>\n",
              "</table>\n",
              "<p>3958 rows × 26 columns</p>\n",
              "</div>"
            ],
            "text/plain": [
              "      index   Test_Time(s)  ...  Cycle_Index.4  Step_Index.4\n",
              "0         0     120.002100  ...              1             1\n",
              "1         1     240.004200  ...              1             1\n",
              "2         2     360.003300  ...              1             1\n",
              "3         3     480.005600  ...              1             1\n",
              "4         4     600.000900  ...              1             1\n",
              "...     ...            ...  ...            ...           ...\n",
              "3953   3953  454963.238852  ...             50             6\n",
              "3954   3954  455083.237752  ...             50             6\n",
              "3955   3955  455143.238952  ...             50             6\n",
              "3956   3956  455263.394832  ...             51             8\n",
              "3957   3957  455292.448332  ...             51             8\n",
              "\n",
              "[3958 rows x 26 columns]"
            ]
          },
          "metadata": {},
          "execution_count": 1213
        }
      ]
    },
    {
      "cell_type": "code",
      "metadata": {
        "id": "wwAaq-AO4AKS"
      },
      "source": [
        "df = pd.DataFrame(dataset_nasa)\n",
        "cols = [0,6]\n",
        "df = df[df.columns[cols]]"
      ],
      "execution_count": 1214,
      "outputs": []
    },
    {
      "cell_type": "code",
      "metadata": {
        "colab": {
          "base_uri": "https://localhost:8080/",
          "height": 417
        },
        "id": "4ss0ApIz4AWr",
        "outputId": "149750c2-7c51-489b-cdce-a74aa120a2d4"
      },
      "source": [
        "df"
      ],
      "execution_count": 1215,
      "outputs": [
        {
          "output_type": "execute_result",
          "data": {
            "text/html": [
              "<div>\n",
              "<style scoped>\n",
              "    .dataframe tbody tr th:only-of-type {\n",
              "        vertical-align: middle;\n",
              "    }\n",
              "\n",
              "    .dataframe tbody tr th {\n",
              "        vertical-align: top;\n",
              "    }\n",
              "\n",
              "    .dataframe thead th {\n",
              "        text-align: right;\n",
              "    }\n",
              "</style>\n",
              "<table border=\"1\" class=\"dataframe\">\n",
              "  <thead>\n",
              "    <tr style=\"text-align: right;\">\n",
              "      <th></th>\n",
              "      <th>index</th>\n",
              "      <th>Voltage</th>\n",
              "    </tr>\n",
              "  </thead>\n",
              "  <tbody>\n",
              "    <tr>\n",
              "      <th>0</th>\n",
              "      <td>0</td>\n",
              "      <td>3.578289</td>\n",
              "    </tr>\n",
              "    <tr>\n",
              "      <th>1</th>\n",
              "      <td>1</td>\n",
              "      <td>3.578400</td>\n",
              "    </tr>\n",
              "    <tr>\n",
              "      <th>2</th>\n",
              "      <td>2</td>\n",
              "      <td>3.580041</td>\n",
              "    </tr>\n",
              "    <tr>\n",
              "      <th>3</th>\n",
              "      <td>3</td>\n",
              "      <td>3.581675</td>\n",
              "    </tr>\n",
              "    <tr>\n",
              "      <th>4</th>\n",
              "      <td>4</td>\n",
              "      <td>3.582434</td>\n",
              "    </tr>\n",
              "    <tr>\n",
              "      <th>...</th>\n",
              "      <td>...</td>\n",
              "      <td>...</td>\n",
              "    </tr>\n",
              "    <tr>\n",
              "      <th>3953</th>\n",
              "      <td>3953</td>\n",
              "      <td>3.609489</td>\n",
              "    </tr>\n",
              "    <tr>\n",
              "      <th>3954</th>\n",
              "      <td>3954</td>\n",
              "      <td>3.642449</td>\n",
              "    </tr>\n",
              "    <tr>\n",
              "      <th>3955</th>\n",
              "      <td>3955</td>\n",
              "      <td>3.650748</td>\n",
              "    </tr>\n",
              "    <tr>\n",
              "      <th>3956</th>\n",
              "      <td>3956</td>\n",
              "      <td>4.189424</td>\n",
              "    </tr>\n",
              "    <tr>\n",
              "      <th>3957</th>\n",
              "      <td>3957</td>\n",
              "      <td>4.200018</td>\n",
              "    </tr>\n",
              "  </tbody>\n",
              "</table>\n",
              "<p>3958 rows × 2 columns</p>\n",
              "</div>"
            ],
            "text/plain": [
              "      index   Voltage\n",
              "0         0  3.578289\n",
              "1         1  3.578400\n",
              "2         2  3.580041\n",
              "3         3  3.581675\n",
              "4         4  3.582434\n",
              "...     ...       ...\n",
              "3953   3953  3.609489\n",
              "3954   3954  3.642449\n",
              "3955   3955  3.650748\n",
              "3956   3956  4.189424\n",
              "3957   3957  4.200018\n",
              "\n",
              "[3958 rows x 2 columns]"
            ]
          },
          "metadata": {},
          "execution_count": 1215
        }
      ]
    },
    {
      "cell_type": "code",
      "metadata": {
        "id": "T807dGEGdGOF"
      },
      "source": [
        "df1 = df.to_numpy()"
      ],
      "execution_count": 1217,
      "outputs": []
    },
    {
      "cell_type": "code",
      "metadata": {
        "id": "LODZWZeYkh2n"
      },
      "source": [
        "train_size = int(len(df1)*0.8)\n",
        "test_size = len(df1) - train_size\n",
        "train = df1[1:train_size,:]\n",
        "test = df1[train_size:len(df1)]"
      ],
      "execution_count": 1218,
      "outputs": []
    },
    {
      "cell_type": "code",
      "metadata": {
        "colab": {
          "base_uri": "https://localhost:8080/"
        },
        "id": "AWeTV_6qgxIV",
        "outputId": "bf2b3d77-86f3-4089-ddc1-a827a22f652a"
      },
      "source": [
        "train_size"
      ],
      "execution_count": 1219,
      "outputs": [
        {
          "output_type": "execute_result",
          "data": {
            "text/plain": [
              "3166"
            ]
          },
          "metadata": {},
          "execution_count": 1219
        }
      ]
    },
    {
      "cell_type": "code",
      "metadata": {
        "id": "KeMJFvQ0U3Z6"
      },
      "source": [
        "train_set = pd.DataFrame(train)"
      ],
      "execution_count": 1220,
      "outputs": []
    },
    {
      "cell_type": "code",
      "metadata": {
        "colab": {
          "base_uri": "https://localhost:8080/",
          "height": 417
        },
        "id": "WETL8vj3d6zz",
        "outputId": "05cc98db-a474-489b-e0a3-dfcbb7d6e46f"
      },
      "source": [
        "train_set"
      ],
      "execution_count": 1221,
      "outputs": [
        {
          "output_type": "execute_result",
          "data": {
            "text/html": [
              "<div>\n",
              "<style scoped>\n",
              "    .dataframe tbody tr th:only-of-type {\n",
              "        vertical-align: middle;\n",
              "    }\n",
              "\n",
              "    .dataframe tbody tr th {\n",
              "        vertical-align: top;\n",
              "    }\n",
              "\n",
              "    .dataframe thead th {\n",
              "        text-align: right;\n",
              "    }\n",
              "</style>\n",
              "<table border=\"1\" class=\"dataframe\">\n",
              "  <thead>\n",
              "    <tr style=\"text-align: right;\">\n",
              "      <th></th>\n",
              "      <th>0</th>\n",
              "      <th>1</th>\n",
              "    </tr>\n",
              "  </thead>\n",
              "  <tbody>\n",
              "    <tr>\n",
              "      <th>0</th>\n",
              "      <td>1.0</td>\n",
              "      <td>3.578400</td>\n",
              "    </tr>\n",
              "    <tr>\n",
              "      <th>1</th>\n",
              "      <td>2.0</td>\n",
              "      <td>3.580041</td>\n",
              "    </tr>\n",
              "    <tr>\n",
              "      <th>2</th>\n",
              "      <td>3.0</td>\n",
              "      <td>3.581675</td>\n",
              "    </tr>\n",
              "    <tr>\n",
              "      <th>3</th>\n",
              "      <td>4.0</td>\n",
              "      <td>3.582434</td>\n",
              "    </tr>\n",
              "    <tr>\n",
              "      <th>4</th>\n",
              "      <td>5.0</td>\n",
              "      <td>3.582656</td>\n",
              "    </tr>\n",
              "    <tr>\n",
              "      <th>...</th>\n",
              "      <td>...</td>\n",
              "      <td>...</td>\n",
              "    </tr>\n",
              "    <tr>\n",
              "      <th>3160</th>\n",
              "      <td>3161.0</td>\n",
              "      <td>3.016354</td>\n",
              "    </tr>\n",
              "    <tr>\n",
              "      <th>3161</th>\n",
              "      <td>3162.0</td>\n",
              "      <td>2.999954</td>\n",
              "    </tr>\n",
              "    <tr>\n",
              "      <th>3162</th>\n",
              "      <td>3163.0</td>\n",
              "      <td>3.611698</td>\n",
              "    </tr>\n",
              "    <tr>\n",
              "      <th>3163</th>\n",
              "      <td>3164.0</td>\n",
              "      <td>3.644166</td>\n",
              "    </tr>\n",
              "    <tr>\n",
              "      <th>3164</th>\n",
              "      <td>3165.0</td>\n",
              "      <td>3.652305</td>\n",
              "    </tr>\n",
              "  </tbody>\n",
              "</table>\n",
              "<p>3165 rows × 2 columns</p>\n",
              "</div>"
            ],
            "text/plain": [
              "           0         1\n",
              "0        1.0  3.578400\n",
              "1        2.0  3.580041\n",
              "2        3.0  3.581675\n",
              "3        4.0  3.582434\n",
              "4        5.0  3.582656\n",
              "...      ...       ...\n",
              "3160  3161.0  3.016354\n",
              "3161  3162.0  2.999954\n",
              "3162  3163.0  3.611698\n",
              "3163  3164.0  3.644166\n",
              "3164  3165.0  3.652305\n",
              "\n",
              "[3165 rows x 2 columns]"
            ]
          },
          "metadata": {},
          "execution_count": 1221
        }
      ]
    },
    {
      "cell_type": "code",
      "metadata": {
        "id": "5g-dEeBseFAS"
      },
      "source": [
        "test_set = pd.DataFrame(test)"
      ],
      "execution_count": 1222,
      "outputs": []
    },
    {
      "cell_type": "code",
      "metadata": {
        "colab": {
          "base_uri": "https://localhost:8080/",
          "height": 417
        },
        "id": "T3rDI_yxeKmE",
        "outputId": "913633d5-c700-43a6-8fe1-4a3f5eec9221"
      },
      "source": [
        "test_set"
      ],
      "execution_count": 1223,
      "outputs": [
        {
          "output_type": "execute_result",
          "data": {
            "text/html": [
              "<div>\n",
              "<style scoped>\n",
              "    .dataframe tbody tr th:only-of-type {\n",
              "        vertical-align: middle;\n",
              "    }\n",
              "\n",
              "    .dataframe tbody tr th {\n",
              "        vertical-align: top;\n",
              "    }\n",
              "\n",
              "    .dataframe thead th {\n",
              "        text-align: right;\n",
              "    }\n",
              "</style>\n",
              "<table border=\"1\" class=\"dataframe\">\n",
              "  <thead>\n",
              "    <tr style=\"text-align: right;\">\n",
              "      <th></th>\n",
              "      <th>0</th>\n",
              "      <th>1</th>\n",
              "    </tr>\n",
              "  </thead>\n",
              "  <tbody>\n",
              "    <tr>\n",
              "      <th>0</th>\n",
              "      <td>3166.0</td>\n",
              "      <td>4.199970</td>\n",
              "    </tr>\n",
              "    <tr>\n",
              "      <th>1</th>\n",
              "      <td>3167.0</td>\n",
              "      <td>4.200072</td>\n",
              "    </tr>\n",
              "    <tr>\n",
              "      <th>2</th>\n",
              "      <td>3168.0</td>\n",
              "      <td>4.232461</td>\n",
              "    </tr>\n",
              "    <tr>\n",
              "      <th>3</th>\n",
              "      <td>3169.0</td>\n",
              "      <td>4.262288</td>\n",
              "    </tr>\n",
              "    <tr>\n",
              "      <th>4</th>\n",
              "      <td>3170.0</td>\n",
              "      <td>4.286660</td>\n",
              "    </tr>\n",
              "    <tr>\n",
              "      <th>...</th>\n",
              "      <td>...</td>\n",
              "      <td>...</td>\n",
              "    </tr>\n",
              "    <tr>\n",
              "      <th>787</th>\n",
              "      <td>3953.0</td>\n",
              "      <td>3.609489</td>\n",
              "    </tr>\n",
              "    <tr>\n",
              "      <th>788</th>\n",
              "      <td>3954.0</td>\n",
              "      <td>3.642449</td>\n",
              "    </tr>\n",
              "    <tr>\n",
              "      <th>789</th>\n",
              "      <td>3955.0</td>\n",
              "      <td>3.650748</td>\n",
              "    </tr>\n",
              "    <tr>\n",
              "      <th>790</th>\n",
              "      <td>3956.0</td>\n",
              "      <td>4.189424</td>\n",
              "    </tr>\n",
              "    <tr>\n",
              "      <th>791</th>\n",
              "      <td>3957.0</td>\n",
              "      <td>4.200018</td>\n",
              "    </tr>\n",
              "  </tbody>\n",
              "</table>\n",
              "<p>792 rows × 2 columns</p>\n",
              "</div>"
            ],
            "text/plain": [
              "          0         1\n",
              "0    3166.0  4.199970\n",
              "1    3167.0  4.200072\n",
              "2    3168.0  4.232461\n",
              "3    3169.0  4.262288\n",
              "4    3170.0  4.286660\n",
              "..      ...       ...\n",
              "787  3953.0  3.609489\n",
              "788  3954.0  3.642449\n",
              "789  3955.0  3.650748\n",
              "790  3956.0  4.189424\n",
              "791  3957.0  4.200018\n",
              "\n",
              "[792 rows x 2 columns]"
            ]
          },
          "metadata": {},
          "execution_count": 1223
        }
      ]
    },
    {
      "cell_type": "code",
      "metadata": {
        "colab": {
          "base_uri": "https://localhost:8080/"
        },
        "id": "f1the1T5EOmc",
        "outputId": "d66babc8-2749-49b7-d1c4-0d49fb8c2355"
      },
      "source": [
        "df.columns"
      ],
      "execution_count": 1224,
      "outputs": [
        {
          "output_type": "execute_result",
          "data": {
            "text/plain": [
              "Index(['index', 'Voltage'], dtype='object')"
            ]
          },
          "metadata": {},
          "execution_count": 1224
        }
      ]
    },
    {
      "cell_type": "code",
      "metadata": {
        "id": "0_YxlE0XdCjP"
      },
      "source": [
        "df_input = df[['index','Voltage']]"
      ],
      "execution_count": 1226,
      "outputs": []
    },
    {
      "cell_type": "code",
      "metadata": {
        "id": "Dlc4FnMDdCn0"
      },
      "source": [
        "df_input = df_input.set_index('index')"
      ],
      "execution_count": 1227,
      "outputs": []
    },
    {
      "cell_type": "code",
      "metadata": {
        "id": "sIOGFPUXfl8N"
      },
      "source": [
        "train_time = 949\n",
        "prediction_length = 949\n",
        "freq = \"2min\""
      ],
      "execution_count": 1228,
      "outputs": []
    },
    {
      "cell_type": "code",
      "metadata": {
        "id": "bIOdz6aNfl_E"
      },
      "source": [
        "from gluonts.dataset.common import ListDataset\n",
        "train_data = ListDataset(\n",
        "    [{\"start\": df_input.index[0], \"target\": df_input.Voltage[:train_time] }],\n",
        "    freq = \"2min\"\n",
        ")"
      ],
      "execution_count": 1229,
      "outputs": []
    },
    {
      "cell_type": "code",
      "metadata": {
        "colab": {
          "base_uri": "https://localhost:8080/",
          "height": 289
        },
        "id": "o3VEMuGqfmCj",
        "outputId": "4132494e-1678-44fb-ddaa-95aff4a71815"
      },
      "source": [
        "entry = next(iter(train_data))\n",
        "train_series = to_pandas(entry)\n",
        "train_series.plot()\n",
        "plt.grid(which=\"both\")\n",
        "plt.legend([\"train series\"], loc=\"upper left\")\n",
        "plt.savefig(\"fig1.pdf\",bbox_inches=\"tight\")\n",
        "plt.show()"
      ],
      "execution_count": 1230,
      "outputs": [
        {
          "output_type": "display_data",
          "data": {
            "image/png": "[encoded data removed]",
            "text/plain": [
              "<Figure size 432x288 with 1 Axes>"
            ]
          },
          "metadata": {
            "needs_background": "light"
          }
        }
      ]
    },
    {
      "cell_type": "code",
      "metadata": {
        "id": "NegtiuLcvLWF"
      },
      "source": [
        "test_data = ListDataset(\n",
        "    [{\"start\": df_input.index[0], \"target\": df_input.Voltage[:]}],\n",
        "    freq = \"2min\"\n",
        ")"
      ],
      "execution_count": 1231,
      "outputs": []
    },
    {
      "cell_type": "code",
      "metadata": {
        "colab": {
          "base_uri": "https://localhost:8080/",
          "height": 289
        },
        "id": "8qkov_uhfmIF",
        "outputId": "756f8714-513b-4ec9-e1a5-3cb82c379e97"
      },
      "source": [
        "entry = next(iter(test_data))\n",
        "test_series = to_pandas(entry)\n",
        "test_series.plot()\n",
        "plt.axvline(train_series.index[-1], color='r') # end of train dataset\n",
        "plt.grid(which=\"both\")\n",
        "plt.legend([\"test series\", \"end of train series\"], loc=\"upper left\")\n",
        "plt.savefig(\"fig2.pdf\",bbox_inches=\"tight\")\n",
        "plt.show()"
      ],
      "execution_count": 1232,
      "outputs": [
        {
          "output_type": "display_data",
          "data": {
            "image/png": "[encoded data removed]",
            "text/plain": [
              "<Figure size 432x288 with 1 Axes>"
            ]
          },
          "metadata": {
            "needs_background": "light"
          }
        }
      ]
    },
    {
      "cell_type": "code",
      "metadata": {
        "colab": {
          "base_uri": "https://localhost:8080/"
        },
        "id": "QhoWe6rawAZv",
        "outputId": "2ed5c01e-262c-4711-fb79-7570b182bc6a"
      },
      "source": [
        "print(f\"Length of forecasting window in test dataset:{len(test_series)-len(train_series)}\")\n",
        "print(f\"Frequency of the time series:{freq}\")"
      ],
      "execution_count": 1233,
      "outputs": [
        {
          "output_type": "stream",
          "name": "stdout",
          "text": [
            "Length of forecasting window in test dataset:3009\n",
            "Frequency of the time series:2min\n"
          ]
        }
      ]
    },
    {
      "cell_type": "code",
      "metadata": {
        "id": "2CvnPKD6wAb2"
      },
      "source": [
        "from gluonts.model.simple_feedforward import SimpleFeedForwardEstimator\n",
        "from gluonts.mx.trainer import Trainer"
      ],
      "execution_count": 1234,
      "outputs": []
    },
    {
      "cell_type": "code",
      "metadata": {
        "id": "pdmsiYrRwAer"
      },
      "source": [
        "estimator = SimpleFeedForwardEstimator(\n",
        "    num_hidden_dimensions=[10],\n",
        "    prediction_length=250,\n",
        "    context_length=50,\n",
        "    freq=\"2min\",\n",
        "    trainer=Trainer(ctx=\"cpu\", \n",
        "                    epochs=5, \n",
        "                    learning_rate=1e-3, \n",
        "                    num_batches_per_epoch=100\n",
        "                   )\n",
        ")"
      ],
      "execution_count": 1235,
      "outputs": []
    },
    {
      "cell_type": "code",
      "metadata": {
        "colab": {
          "base_uri": "https://localhost:8080/"
        },
        "id": "NhL0nVskwAjS",
        "outputId": "70e8b575-2950-4a1e-8522-cd64b92fdec2"
      },
      "source": [
        "predictor = estimator.train(train_data)"
      ],
      "execution_count": 1236,
      "outputs": [
        {
          "output_type": "stream",
          "name": "stderr",
          "text": [
            "100%|██████████| 100/100 [00:01<00:00, 80.06it/s, epoch=1/5, avg_epoch_loss=1.02]\n",
            "100%|██████████| 100/100 [00:01<00:00, 86.21it/s, epoch=2/5, avg_epoch_loss=0.0921]\n",
            "100%|██████████| 100/100 [00:01<00:00, 82.73it/s, epoch=3/5, avg_epoch_loss=-.0502]\n",
            "100%|██████████| 100/100 [00:01<00:00, 85.16it/s, epoch=4/5, avg_epoch_loss=-.124]\n",
            "100%|██████████| 100/100 [00:01<00:00, 84.79it/s, epoch=5/5, avg_epoch_loss=-.173]\n"
          ]
        }
      ]
    },
    {
      "cell_type": "code",
      "metadata": {
        "id": "CASb7jv6_CEd"
      },
      "source": [
        "from gluonts.evaluation.backtest import make_evaluation_predictions"
      ],
      "execution_count": 1237,
      "outputs": []
    },
    {
      "cell_type": "code",
      "metadata": {
        "id": "4BL7I1rL_CGo"
      },
      "source": [
        "forecast_it, ts_it = make_evaluation_predictions(\n",
        "    dataset=test_data,  # test dataset\n",
        "    predictor=predictor,  # predictor\n",
        "    num_samples=500,  # number of sample paths we want for evaluation 100\n",
        ")"
      ],
      "execution_count": 1238,
      "outputs": []
    },
    {
      "cell_type": "code",
      "metadata": {
        "id": "DOjSmzsT_CJt"
      },
      "source": [
        "forecasts = list(forecast_it)\n",
        "tss = list(ts_it)"
      ],
      "execution_count": 1239,
      "outputs": []
    },
    {
      "cell_type": "code",
      "metadata": {
        "id": "Mer7dfY1_CMZ"
      },
      "source": [
        "# first entry of the time series list\n",
        "ts_entry = tss[0]"
      ],
      "execution_count": 1240,
      "outputs": []
    },
    {
      "cell_type": "code",
      "metadata": {
        "colab": {
          "base_uri": "https://localhost:8080/"
        },
        "id": "b-8-7Jfg_CO9",
        "outputId": "d8bd8a97-32ed-4952-f709-bf45d6144fbc"
      },
      "source": [
        "# first 5 values of the time series (convert from pandas to numpy)\n",
        "np.array(ts_entry[:5]).reshape(-1,)"
      ],
      "execution_count": 1241,
      "outputs": [
        {
          "output_type": "execute_result",
          "data": {
            "text/plain": [
              "array([3.5782886, 3.5784001, 3.5800414, 3.581675 , 3.5824342],\n",
              "      dtype=float32)"
            ]
          },
          "metadata": {},
          "execution_count": 1241
        }
      ]
    },
    {
      "cell_type": "code",
      "metadata": {
        "id": "QXz60jpG_CR6"
      },
      "source": [
        "# first entry of dataset.test\n",
        "dataset_test_entry = next(iter(test_data))"
      ],
      "execution_count": 1242,
      "outputs": []
    },
    {
      "cell_type": "code",
      "metadata": {
        "colab": {
          "base_uri": "https://localhost:8080/"
        },
        "id": "tXHfQ2D4_CU0",
        "outputId": "91390308-4e96-4fbd-c7d3-3dca773607a6"
      },
      "source": [
        "# first 5 values\n",
        "dataset_test_entry['target'][:5]"
      ],
      "execution_count": 1243,
      "outputs": [
        {
          "output_type": "execute_result",
          "data": {
            "text/plain": [
              "array([3.5782886, 3.5784001, 3.5800414, 3.581675 , 3.5824342],\n",
              "      dtype=float32)"
            ]
          },
          "metadata": {},
          "execution_count": 1243
        }
      ]
    },
    {
      "cell_type": "code",
      "metadata": {
        "id": "zqkSt771_CW-"
      },
      "source": [
        "# first entry of the forecast list\n",
        "forecast_entry = forecasts[0]"
      ],
      "execution_count": 1244,
      "outputs": []
    },
    {
      "cell_type": "code",
      "metadata": {
        "colab": {
          "base_uri": "https://localhost:8080/"
        },
        "id": "wp5tTd8z_CZt",
        "outputId": "713d461c-8886-4f9c-bffe-58b7f4f033a6"
      },
      "source": [
        "print(f\"Number of sample paths: {forecast_entry.num_samples}\")\n",
        "print(f\"Dimension of samples: {forecast_entry.samples.shape}\")\n",
        "print(f\"Start date of the forecast window: {forecast_entry.start_date}\")\n",
        "print(f\"Frequency of the time series: {forecast_entry.freq}\")"
      ],
      "execution_count": 1245,
      "outputs": [
        {
          "output_type": "stream",
          "name": "stdout",
          "text": [
            "Number of sample paths: 500\n",
            "Dimension of samples: (500, 250)\n",
            "Start date of the forecast window: 1970-01-06 03:36:00\n",
            "Frequency of the time series: 2min\n"
          ]
        }
      ]
    },
    {
      "cell_type": "code",
      "metadata": {
        "colab": {
          "base_uri": "https://localhost:8080/"
        },
        "id": "GvKJYScF_CdO",
        "outputId": "e6903c7b-ffe4-475d-da58-32cd914e5eba"
      },
      "source": [
        "print(f\"Mean of the future window:\\n {forecast_entry.mean}\")\n",
        "print(f\"0.5-quantile (median) of the future window:\\n {forecast_entry.quantile(0.5)}\")"
      ],
      "execution_count": 1246,
      "outputs": [
        {
          "output_type": "stream",
          "name": "stdout",
          "text": [
            "Mean of the future window:\n",
            " [3.3037453 3.236896  3.3241892 3.2304425 3.1947033 3.293826  3.2031617\n",
            " 3.3381913 3.1852324 3.3875494 3.340485  3.7303128 3.857744  3.9797428\n",
            " 4.0278296 4.140624  4.1219406 4.199726  4.2944345 4.3663316 4.1914663\n",
            " 4.1891294 4.3872094 4.4023423 4.3301344 4.4270177 4.4372916 4.497909\n",
            " 4.379581  4.407823  4.4121003 4.445605  4.3211474 4.437539  4.4201856\n",
            " 4.4908133 4.3084517 4.527887  4.3161526 4.3837614 4.3411427 4.4362154\n",
            " 4.3627534 4.4464674 4.3863072 4.3335433 4.301732  4.3462715 4.255086\n",
            " 4.266588  4.0870123 4.1018395 4.0953417 4.093321  3.8782408 3.9803793\n",
            " 3.973946  3.782621  3.6517982 3.6214857 3.5904512 3.6150608 3.5790834\n",
            " 3.5712752 3.470777  3.5082834 3.5107393 3.4558446 3.4716663 3.4844737\n",
            " 3.4576557 3.4396245 3.443876  3.4140763 3.3206475 3.3535905 3.3878088\n",
            " 3.3356354 3.2460907 3.297564  3.2128084 3.2819211 3.2691476 3.1790745\n",
            " 3.2795515 3.2467425 3.3514247 3.6456523 3.5827138 3.7910392 3.9514055\n",
            " 3.8475654 4.0952206 4.1282053 4.17289   4.246253  4.386926  4.3395224\n",
            " 4.24204   4.17074   4.4116087 4.2987494 4.378804  4.3947916 4.3732405\n",
            " 4.2939887 4.335305  4.3962016 4.371662  4.3184557 4.405738  4.385613\n",
            " 4.5180073 4.5190606 4.544781  4.2648044 4.4435096 4.357484  4.3878045\n",
            " 4.410211  4.391635  4.4306655 4.4171586 4.3526707 4.3670516 4.32122\n",
            " 4.2705874 4.1639585 4.195113  4.127549  4.065309  3.9671972 3.8726907\n",
            " 3.8764036 3.7049215 3.6702325 3.6428034 3.6151924 3.592882  3.4942904\n",
            " 3.6160457 3.5938473 3.5460463 3.4991996 3.5050557 3.5427067 3.4879322\n",
            " 3.4605913 3.4575944 3.4592752 3.3820617 3.3726556 3.2948146 3.4435542\n",
            " 3.359271  3.3528621 3.2858403 3.2704191 3.2583055 3.3090482 3.1995313\n",
            " 3.1874337 3.1097918 3.2048538 3.372323  3.6959786 3.7080069 3.7902827\n",
            " 3.919621  4.011985  4.080013  4.183782  4.2825356 4.275271  4.3506184\n",
            " 4.152006  4.2304487 4.4409065 4.2831345 4.3489637 4.2958126 4.5039277\n",
            " 4.4175296 4.3738685 4.414303  4.4399633 4.4701777 4.3557997 4.387692\n",
            " 4.434395  4.457195  4.365023  4.372034  4.3775487 4.4727054 4.3370585\n",
            " 4.4080524 4.4932637 4.487553  4.4104023 4.376443  4.335981  4.322126\n",
            " 4.198084  4.206881  4.2077684 4.186555  4.0936093 3.8937643 3.878867\n",
            " 3.9988363 3.7686977 3.8137944 3.7044654 3.6883857 3.68856   3.6366007\n",
            " 3.545864  3.621517  3.4711912 3.5707998 3.5064428 3.437021  3.2899249\n",
            " 3.4998288 3.481038  3.4194202 3.3872776 3.3935232 3.3704827 3.2930124\n",
            " 3.238424  3.3565278 3.2695794 3.336646  3.3216953 3.2183166 3.2932227\n",
            " 3.1918237 3.1108723 3.2366438 3.25548   3.3925345 3.8114872 3.751279\n",
            " 3.7865117 3.888486  3.9943752 4.090572  4.1497626]\n",
            "0.5-quantile (median) of the future window:\n",
            " [3.298441  3.2388368 3.326543  3.2174368 3.1958754 3.315403  3.1875772\n",
            " 3.3202882 3.171221  3.4017258 3.334013  3.721728  3.8411732 3.943851\n",
            " 4.030749  4.137047  4.1547675 4.201556  4.310454  4.3650675 4.1937284\n",
            " 4.1870766 4.3977356 4.393265  4.3304563 4.4260955 4.4456105 4.4976234\n",
            " 4.3835864 4.405158  4.4092836 4.440763  4.3205    4.4340096 4.425959\n",
            " 4.487797  4.3093596 4.53038   4.320411  4.3630004 4.33707   4.434956\n",
            " 4.3571544 4.4421186 4.386214  4.3326716 4.3044786 4.348454  4.2548976\n",
            " 4.26531   4.085069  4.095203  4.0983424 4.092993  3.8772953 3.9753528\n",
            " 3.9782615 3.7792895 3.6472914 3.6191876 3.5866947 3.6084507 3.581665\n",
            " 3.566398  3.473418  3.5083048 3.508839  3.452973  3.4735699 3.4851735\n",
            " 3.4567764 3.4444685 3.4427466 3.4222043 3.322238  3.356065  3.3910356\n",
            " 3.341939  3.2497935 3.293285  3.2122948 3.2753248 3.2581806 3.1949806\n",
            " 3.2952178 3.2510052 3.3583794 3.652951  3.6354103 3.801692  3.9471118\n",
            " 3.8596618 4.0930305 4.120795  4.1506305 4.2631702 4.37977   4.344743\n",
            " 4.243614  4.1675887 4.4143867 4.303931  4.3791037 4.3976336 4.3819165\n",
            " 4.290345  4.3321795 4.3946376 4.370264  4.3174047 4.4034758 4.3863983\n",
            " 4.518817  4.520011  4.5478616 4.26469   4.440865  4.36328   4.3850403\n",
            " 4.4142103 4.387829  4.434191  4.413931  4.3562846 4.3655014 4.3206663\n",
            " 4.2700844 4.165587  4.1976466 4.1278696 4.0706425 3.9675012 3.8698535\n",
            " 3.874384  3.709204  3.667148  3.6457677 3.6074688 3.5897965 3.4953501\n",
            " 3.6152046 3.5965023 3.5472069 3.503208  3.4963548 3.5421298 3.4887707\n",
            " 3.457601  3.4523406 3.4641423 3.3832526 3.3748825 3.2974885 3.4505746\n",
            " 3.3553915 3.3592756 3.2909367 3.266074  3.2642927 3.306813  3.2008326\n",
            " 3.1979713 3.1206384 3.2061157 3.3910058 3.6771898 3.711761  3.782618\n",
            " 3.9294844 4.001029  4.062446  4.1362147 4.269816  4.282526  4.356668\n",
            " 4.1736083 4.226473  4.44062   4.283974  4.351277  4.2995133 4.4970365\n",
            " 4.4170594 4.370697  4.411038  4.438057  4.465907  4.346991  4.3872786\n",
            " 4.436378  4.4507303 4.3692966 4.375454  4.373894  4.4755125 4.3447504\n",
            " 4.4008636 4.4872074 4.4908533 4.4109454 4.3810644 4.33298   4.3199067\n",
            " 4.2015076 4.1988707 4.2218843 4.1836123 4.088777  3.8863947 3.8807902\n",
            " 3.9964914 3.7677302 3.8118496 3.710533  3.6888294 3.6987178 3.6372488\n",
            " 3.5489573 3.6251369 3.469452  3.5709872 3.5031388 3.4410877 3.2999773\n",
            " 3.496341  3.4777238 3.4204063 3.390505  3.3905616 3.3672204 3.2931979\n",
            " 3.2448528 3.361283  3.2758045 3.3386393 3.322943  3.2154183 3.2786145\n",
            " 3.1926887 3.1186337 3.2225928 3.2497387 3.3827534 3.7180147 3.718646\n",
            " 3.7746706 3.894706  3.9892325 4.091361  4.157896 ]\n"
          ]
        }
      ]
    },
    {
      "cell_type": "code",
      "metadata": {
        "id": "l4hT4FX0_sBf"
      },
      "source": [
        "def plot_prob_forecasts(ts_entry, forecast_entry):\n",
        "    plot_length = 500\n",
        "    prediction_intervals = (50.0, 90.0)\n",
        "    legend = [\"observations\", \"median prediction\"] + [f\"{k}% prediction interval\" for k in prediction_intervals][::-1]\n",
        "\n",
        "    fig, ax = plt.subplots(1, 1, figsize=(10, 7))\n",
        "    ts_entry[-plot_length:].plot(ax=ax)  # plot the time series\n",
        "    forecast_entry.plot(prediction_intervals=prediction_intervals, color='g')\n",
        "    plt.grid(which=\"both\")\n",
        "    plt.ylim(3,5)\n",
        "    plt.legend(legend, loc=\"upper left\")\n",
        "    plt.savefig(\"fig3.pdf\",bbox_inches=\"tight\")\n",
        "    plt.show()"
      ],
      "execution_count": 1247,
      "outputs": []
    },
    {
      "cell_type": "code",
      "metadata": {
        "colab": {
          "base_uri": "https://localhost:8080/",
          "height": 444
        },
        "id": "eGL634gS_sFB",
        "outputId": "4d144003-da90-45da-de45-8039eecce0cb"
      },
      "source": [
        "plot_prob_forecasts(ts_entry, forecast_entry)"
      ],
      "execution_count": 1248,
      "outputs": [
        {
          "output_type": "display_data",
          "data": {
            "image/png": "[encoded data removed]",
            "text/plain": [
              "<Figure size 720x504 with 1 Axes>"
            ]
          },
          "metadata": {
            "needs_background": "light"
          }
        }
      ]
    },
    {
      "cell_type": "code",
      "metadata": {
        "id": "ZNQ9VW-i_sIV"
      },
      "source": [
        "from gluonts.evaluation import Evaluator\n"
      ],
      "execution_count": 1249,
      "outputs": []
    },
    {
      "cell_type": "code",
      "metadata": {
        "colab": {
          "base_uri": "https://localhost:8080/"
        },
        "id": "K8qjJvhC_sX6",
        "outputId": "36bf5e10-c493-4d65-9f58-b62454c93e77"
      },
      "source": [
        "evaluator = Evaluator(quantiles=[0.5,0.1,0.9])\n",
        "agg_metrics, item_metrics = evaluator(iter(tss), iter(forecasts), num_series=len(test_data))"
      ],
      "execution_count": 1250,
      "outputs": [
        {
          "output_type": "stream",
          "name": "stderr",
          "text": [
            "Running evaluation: 100%|██████████| 1/1 [00:00<00:00, 29.58it/s]\n"
          ]
        }
      ]
    },
    {
      "cell_type": "code",
      "metadata": {
        "colab": {
          "base_uri": "https://localhost:8080/"
        },
        "id": "BGoIY9no_9k1",
        "outputId": "8d7634dd-1fed-4f40-edde-9675e2655187"
      },
      "source": [
        "print(json.dumps(agg_metrics, indent=4))"
      ],
      "execution_count": 1251,
      "outputs": [
        {
          "output_type": "stream",
          "name": "stdout",
          "text": [
            "{\n",
            "    \"MSE\": 0.026880273818969725,\n",
            "    \"abs_error\": 27.314237594604492,\n",
            "    \"abs_target_sum\": 983.7213134765625,\n",
            "    \"abs_target_mean\": 3.93488525390625,\n",
            "    \"seasonal_error\": 0.3864690532965194,\n",
            "    \"MASE\": 0.28270556063020724,\n",
            "    \"MAPE\": 0.02867190170288086,\n",
            "    \"sMAPE\": 0.02865083694458008,\n",
            "    \"MSIS\": 2.6535258295249657,\n",
            "    \"QuantileLoss[0.5]\": 27.314239263534546,\n",
            "    \"Coverage[0.5]\": 0.312,\n",
            "    \"QuantileLoss[0.1]\": 12.840939283370972,\n",
            "    \"Coverage[0.1]\": 0.056,\n",
            "    \"QuantileLoss[0.9]\": 16.587622308731078,\n",
            "    \"Coverage[0.9]\": 0.768,\n",
            "    \"RMSE\": 0.1639520473155786,\n",
            "    \"NRMSE\": 0.04166628420811501,\n",
            "    \"ND\": 0.027766235437223008,\n",
            "    \"wQuantileLoss[0.5]\": 0.02776623713377063,\n",
            "    \"wQuantileLoss[0.1]\": 0.013053432011135247,\n",
            "    \"wQuantileLoss[0.9]\": 0.0168621153994406,\n",
            "    \"mean_absolute_QuantileLoss\": 18.914266951878865,\n",
            "    \"mean_wQuantileLoss\": 0.019227261514782157,\n",
            "    \"MAE_Coverage\": 0.12133333333333333,\n",
            "    \"OWA\": NaN\n",
            "}\n"
          ]
        }
      ]
    },
    {
      "cell_type": "code",
      "metadata": {
        "colab": {
          "base_uri": "https://localhost:8080/",
          "height": 100
        },
        "id": "JnrPgobQ_9nq",
        "outputId": "00d04a33-c109-40b9-d6c9-c4e1552de7df"
      },
      "source": [
        "item_metrics"
      ],
      "execution_count": 1252,
      "outputs": [
        {
          "output_type": "execute_result",
          "data": {
            "text/html": [
              "<div>\n",
              "<style scoped>\n",
              "    .dataframe tbody tr th:only-of-type {\n",
              "        vertical-align: middle;\n",
              "    }\n",
              "\n",
              "    .dataframe tbody tr th {\n",
              "        vertical-align: top;\n",
              "    }\n",
              "\n",
              "    .dataframe thead th {\n",
              "        text-align: right;\n",
              "    }\n",
              "</style>\n",
              "<table border=\"1\" class=\"dataframe\">\n",
              "  <thead>\n",
              "    <tr style=\"text-align: right;\">\n",
              "      <th></th>\n",
              "      <th>item_id</th>\n",
              "      <th>MSE</th>\n",
              "      <th>abs_error</th>\n",
              "      <th>abs_target_sum</th>\n",
              "      <th>abs_target_mean</th>\n",
              "      <th>seasonal_error</th>\n",
              "      <th>MASE</th>\n",
              "      <th>MAPE</th>\n",
              "      <th>sMAPE</th>\n",
              "      <th>MSIS</th>\n",
              "      <th>QuantileLoss[0.5]</th>\n",
              "      <th>Coverage[0.5]</th>\n",
              "      <th>QuantileLoss[0.1]</th>\n",
              "      <th>Coverage[0.1]</th>\n",
              "      <th>QuantileLoss[0.9]</th>\n",
              "      <th>Coverage[0.9]</th>\n",
              "    </tr>\n",
              "  </thead>\n",
              "  <tbody>\n",
              "    <tr>\n",
              "      <th>0</th>\n",
              "      <td>NaN</td>\n",
              "      <td>0.02688</td>\n",
              "      <td>27.314238</td>\n",
              "      <td>983.721313</td>\n",
              "      <td>3.934885</td>\n",
              "      <td>0.386469</td>\n",
              "      <td>0.282706</td>\n",
              "      <td>0.028672</td>\n",
              "      <td>0.028651</td>\n",
              "      <td>2.653526</td>\n",
              "      <td>27.314239</td>\n",
              "      <td>0.312</td>\n",
              "      <td>12.840939</td>\n",
              "      <td>0.056</td>\n",
              "      <td>16.587622</td>\n",
              "      <td>0.768</td>\n",
              "    </tr>\n",
              "  </tbody>\n",
              "</table>\n",
              "</div>"
            ],
            "text/plain": [
              "   item_id      MSE  abs_error  ...  Coverage[0.1]  QuantileLoss[0.9]  Coverage[0.9]\n",
              "0      NaN  0.02688  27.314238  ...          0.056          16.587622          0.768\n",
              "\n",
              "[1 rows x 16 columns]"
            ]
          },
          "metadata": {},
          "execution_count": 1252
        }
      ]
    },
    {
      "cell_type": "code",
      "metadata": {
        "colab": {
          "base_uri": "https://localhost:8080/",
          "height": 279
        },
        "id": "sAIHZco0_9qU",
        "outputId": "35c3e985-aeb8-4fb4-801c-c2023c672d6b"
      },
      "source": [
        "item_metrics.plot(x='MSIS', y='MASE', kind='scatter')\n",
        "plt.grid(which=\"both\")\n",
        "plt.savefig(\"fig4.pdf\",bbox_inches=\"tight\")\n",
        "plt.show()"
      ],
      "execution_count": 1253,
      "outputs": [
        {
          "output_type": "display_data",
          "data": {
            "image/png": "[encoded data removed]",
            "text/plain": [
              "<Figure size 432x288 with 1 Axes>"
            ]
          },
          "metadata": {
            "needs_background": "light"
          }
        }
      ]
    },
    {
      "cell_type": "code",
      "metadata": {
        "id": "Hvfrw7ym_9tz"
      },
      "source": [
        "# own forecast model"
      ],
      "execution_count": 1254,
      "outputs": []
    },
    {
      "cell_type": "code",
      "metadata": {
        "id": "yV53Ow6SAIV1"
      },
      "source": [
        "class MyNetwork(gluon.HybridBlock):\n",
        "    def __init__(self, prediction_length, num_cells, **kwargs):\n",
        "        super().__init__(**kwargs)\n",
        "        self.prediction_length = prediction_length\n",
        "        self.num_cells = num_cells\n",
        "\n",
        "        with self.name_scope():\n",
        "            # Set up a 3 layer neural network that directly predicts the target values\n",
        "            self.nn = mx.gluon.nn.HybridSequential()\n",
        "            self.nn.add(mx.gluon.nn.Dense(units=820, activation='relu'))\n",
        "            self.nn.add(mx.gluon.nn.Dense(units=820, activation='relu'))\n",
        "            self.nn.add(mx.gluon.nn.Dense(units=self.prediction_length, activation='relu'))\n",
        "\n",
        "\n",
        "class MyTrainNetwork(MyNetwork):\n",
        "    def hybrid_forward(self, F, past_target, future_target):\n",
        "        prediction = self.nn(past_target)\n",
        "        # calculate L1 loss with the future_target to learn the median\n",
        "        return (prediction - future_target).abs().mean(axis=-1)\n",
        "\n",
        "\n",
        "class MyPredNetwork(MyTrainNetwork):\n",
        "    # The prediction network only receives past_target and returns predictions\n",
        "    def hybrid_forward(self, F, past_target):\n",
        "        prediction = self.nn(past_target)\n",
        "        return prediction.expand_dims(axis=1)"
      ],
      "execution_count": 1255,
      "outputs": []
    },
    {
      "cell_type": "code",
      "metadata": {
        "id": "dDZyrrESAIYb"
      },
      "source": [
        "def plot_prob_forecasts_2(ts_entry, forecast_entry):\n",
        "    plot_length = 500\n",
        "    prediction_intervals = (50.0, 90.0)\n",
        "    legend = [\"observations\", \"median prediction\"] + [f\"{k}% prediction interval\" for k in prediction_intervals][::-1]\n",
        "\n",
        "    fig, ax = plt.subplots(1, 1, figsize=(10, 7))\n",
        "    ts_entry[-plot_length:].plot(ax=ax)  # plot the time series\n",
        "    forecast_entry.plot(prediction_intervals=prediction_intervals, color='g')\n",
        "    plt.grid(which=\"both\")\n",
        "    plt.ylim(3,5)\n",
        "    plt.legend(legend, loc=\"upper left\")\n",
        "    plt.savefig(\"fig5.pdf\",bbox_inches=\"tight\")\n",
        "    plt.show()"
      ],
      "execution_count": 1256,
      "outputs": []
    },
    {
      "cell_type": "code",
      "metadata": {
        "id": "4TnPZh8UAIbe"
      },
      "source": [
        "from functools import partial\n",
        "from mxnet.gluon import HybridBlock\n",
        "from gluonts.core.component import validated\n",
        "from gluonts.dataset.loader import TrainDataLoader\n",
        "from gluonts.model.predictor import Predictor\n",
        "from gluonts.mx.batchify import as_in_context, batchify\n",
        "from gluonts.mx.model.estimator import GluonEstimator\n",
        "from gluonts.mx.model.predictor import RepresentableBlockPredictor\n",
        "from gluonts.mx.trainer import Trainer\n",
        "from gluonts.mx.util import copy_parameters, get_hybrid_forward_input_names\n",
        "from gluonts.transform import (\n",
        "    ExpectedNumInstanceSampler,\n",
        "    Transformation,\n",
        "    InstanceSplitter,\n",
        "    TestSplitSampler,\n",
        "    SelectFields,\n",
        "    Chain\n",
        ")"
      ],
      "execution_count": 1257,
      "outputs": []
    },
    {
      "cell_type": "code",
      "metadata": {
        "id": "8XAQqNJpAId6"
      },
      "source": [
        "class MyEstimator(GluonEstimator):\n",
        "    @validated()\n",
        "    def __init__(\n",
        "        self,\n",
        "        prediction_length: int,\n",
        "        context_length: int,\n",
        "        freq: str,\n",
        "        num_cells: int,\n",
        "        batch_size: int = 32,\n",
        "        trainer: Trainer = Trainer()\n",
        "    ) -> None:\n",
        "        super().__init__(trainer=trainer, batch_size=batch_size)\n",
        "        self.prediction_length = prediction_length\n",
        "        self.context_length = context_length\n",
        "        self.freq = freq\n",
        "        self.num_cells = num_cells\n",
        "\n",
        "    def create_transformation(self):\n",
        "        return Chain([])\n",
        "\n",
        "    def create_training_data_loader(self, dataset, **kwargs):\n",
        "        instance_splitter = InstanceSplitter(\n",
        "            target_field=FieldName.TARGET,\n",
        "            is_pad_field=FieldName.IS_PAD,\n",
        "            start_field=FieldName.START,\n",
        "            forecast_start_field=FieldName.FORECAST_START,\n",
        "            instance_sampler=ExpectedNumInstanceSampler(\n",
        "                num_instances=1,\n",
        "                min_future=self.prediction_length\n",
        "            ),\n",
        "            past_length=self.context_length,\n",
        "            future_length=self.prediction_length,\n",
        "        )\n",
        "        input_names = get_hybrid_forward_input_names(MyTrainNetwork)\n",
        "        return TrainDataLoader(\n",
        "            dataset=dataset,\n",
        "            transform=instance_splitter + SelectFields(input_names),\n",
        "            batch_size=self.batch_size,\n",
        "            stack_fn=partial(batchify, ctx=self.trainer.ctx, dtype=self.dtype),\n",
        "            decode_fn=partial(as_in_context, ctx=self.trainer.ctx),\n",
        "            **kwargs,\n",
        "        )\n",
        "\n",
        "    def create_training_network(self) -> MyTrainNetwork:\n",
        "        return MyTrainNetwork(\n",
        "            prediction_length=self.prediction_length,\n",
        "            num_cells = self.num_cells\n",
        "        )\n",
        "\n",
        "    def create_predictor(\n",
        "        self, transformation: Transformation, trained_network: HybridBlock\n",
        "    ) -> Predictor:\n",
        "        prediction_splitter = InstanceSplitter(\n",
        "            target_field=FieldName.TARGET,\n",
        "            is_pad_field=FieldName.IS_PAD,\n",
        "            start_field=FieldName.START,\n",
        "            forecast_start_field=FieldName.FORECAST_START,\n",
        "            instance_sampler=TestSplitSampler(),\n",
        "            past_length=self.context_length,\n",
        "            future_length=self.prediction_length,\n",
        "        )\n",
        "\n",
        "        prediction_network = MyPredNetwork(\n",
        "            prediction_length=self.prediction_length,\n",
        "            num_cells=self.num_cells\n",
        "        )\n",
        "\n",
        "        copy_parameters(trained_network, prediction_network)\n",
        "\n",
        "        return RepresentableBlockPredictor(\n",
        "            input_transform=transformation + prediction_splitter,\n",
        "            prediction_net=prediction_network,\n",
        "            batch_size=self.trainer.batch_size,\n",
        "            freq=self.freq,\n",
        "            prediction_length=self.prediction_length,\n",
        "            ctx=self.trainer.ctx,\n",
        "        )"
      ],
      "execution_count": 1258,
      "outputs": []
    },
    {
      "cell_type": "code",
      "metadata": {
        "id": "YLf6ySgo2iAg"
      },
      "source": [
        "\n",
        "# define the parameters of the dataset\n",
        "custom_ds_metadata = {\n",
        "    'num_series': 1,\n",
        "    'num_steps': 1901,\n",
        "    'prediction_length': 100,\n",
        "    'freq': '2min',\n",
        "    'start': [\n",
        "        pd.Timestamp(\"01-01-2019\", freq='2min')\n",
        "        for _ in range(100)\n",
        "    ]\n",
        "}"
      ],
      "execution_count": 1259,
      "outputs": []
    },
    {
      "cell_type": "code",
      "metadata": {
        "id": "UMl3St3IAIia"
      },
      "source": [
        "estimator = MyEstimator(\n",
        "    prediction_length=250,     #custom_ds_metadata['prediction_length'],\n",
        "    context_length = custom_ds_metadata['prediction_length'],\n",
        "    freq=custom_ds_metadata['freq'],\n",
        "    num_cells=50,\n",
        "    trainer=Trainer(\n",
        "        ctx=\"cpu\",\n",
        "        epochs=5,\n",
        "        learning_rate=1e-2,\n",
        "        hybridize=False,\n",
        "        num_batches_per_epoch=2000\n",
        "    )\n",
        ")"
      ],
      "execution_count": 1340,
      "outputs": []
    },
    {
      "cell_type": "code",
      "metadata": {
        "colab": {
          "base_uri": "https://localhost:8080/"
        },
        "id": "A1R6cBlx2vUv",
        "outputId": "edaec7fd-64e5-4617-813a-8131a72bed0e"
      },
      "source": [
        "from gluonts.dataset.field_names import FieldName\n",
        "[f\"FieldName.{k} = '{v}'\" for k, v in FieldName.__dict__.items() if not k.startswith('_')]"
      ],
      "execution_count": 1341,
      "outputs": [
        {
          "output_type": "execute_result",
          "data": {
            "text/plain": [
              "[\"FieldName.ITEM_ID = 'item_id'\",\n",
              " \"FieldName.START = 'start'\",\n",
              " \"FieldName.TARGET = 'target'\",\n",
              " \"FieldName.FEAT_STATIC_CAT = 'feat_static_cat'\",\n",
              " \"FieldName.FEAT_STATIC_REAL = 'feat_static_real'\",\n",
              " \"FieldName.FEAT_DYNAMIC_CAT = 'feat_dynamic_cat'\",\n",
              " \"FieldName.FEAT_DYNAMIC_REAL = 'feat_dynamic_real'\",\n",
              " \"FieldName.PAST_FEAT_DYNAMIC_REAL = 'past_feat_dynamic_real'\",\n",
              " \"FieldName.FEAT_DYNAMIC_REAL_LEGACY = 'dynamic_feat'\",\n",
              " \"FieldName.FEAT_DYNAMIC = 'feat_dynamic'\",\n",
              " \"FieldName.PAST_FEAT_DYNAMIC = 'past_feat_dynamic'\",\n",
              " \"FieldName.FEAT_TIME = 'time_feat'\",\n",
              " \"FieldName.FEAT_CONST = 'feat_dynamic_const'\",\n",
              " \"FieldName.FEAT_AGE = 'feat_dynamic_age'\",\n",
              " \"FieldName.OBSERVED_VALUES = 'observed_values'\",\n",
              " \"FieldName.IS_PAD = 'is_pad'\",\n",
              " \"FieldName.FORECAST_START = 'forecast_start'\",\n",
              " \"FieldName.TARGET_DIM_INDICATOR = 'target_dimension_indicator'\"]"
            ]
          },
          "metadata": {},
          "execution_count": 1341
        }
      ]
    },
    {
      "cell_type": "code",
      "metadata": {
        "colab": {
          "base_uri": "https://localhost:8080/"
        },
        "id": "O-V6TckVAIk8",
        "outputId": "bf26a34f-a517-4002-ea5f-3634fa59b3f9"
      },
      "source": [
        "predictor = estimator.train(train_data)"
      ],
      "execution_count": 1342,
      "outputs": [
        {
          "output_type": "stream",
          "name": "stderr",
          "text": [
            "100%|██████████| 2000/2000 [00:37<00:00, 53.94it/s, epoch=1/5, avg_epoch_loss=0.224]\n",
            "100%|██████████| 2000/2000 [00:53<00:00, 37.20it/s, epoch=2/5, avg_epoch_loss=0.127]\n",
            "100%|██████████| 2000/2000 [00:41<00:00, 47.96it/s, epoch=3/5, avg_epoch_loss=0.115]\n",
            "100%|██████████| 2000/2000 [02:52<00:00, 11.59it/s, epoch=4/5, avg_epoch_loss=0.106]\n",
            "100%|██████████| 2000/2000 [02:59<00:00, 11.11it/s, epoch=5/5, avg_epoch_loss=0.0907]\n"
          ]
        }
      ]
    },
    {
      "cell_type": "code",
      "metadata": {
        "id": "bbt6sADcAInM"
      },
      "source": [
        "forecast_it, ts_it = make_evaluation_predictions(\n",
        "    dataset=test_data,  # test dataset\n",
        "    predictor=predictor,  # predictor\n",
        "    num_samples=100,  # number of sample paths we want for evaluation\n",
        ")"
      ],
      "execution_count": 1343,
      "outputs": []
    },
    {
      "cell_type": "code",
      "metadata": {
        "id": "RBXpP0N8AIpx"
      },
      "source": [
        "forecasts = list(forecast_it)\n",
        "tss = list(ts_it)"
      ],
      "execution_count": 1344,
      "outputs": []
    },
    {
      "cell_type": "code",
      "metadata": {
        "id": "dLvjeWV9AucS",
        "colab": {
          "base_uri": "https://localhost:8080/",
          "height": 444
        },
        "outputId": "c5755032-caf4-48a7-93af-832ac22b3512"
      },
      "source": [
        "plot_prob_forecasts_2(tss[0], forecasts[0])"
      ],
      "execution_count": 1345,
      "outputs": [
        {
          "output_type": "display_data",
          "data": {
            "image/png": "[encoded data removed]",
            "text/plain": [
              "<Figure size 720x504 with 1 Axes>"
            ]
          },
          "metadata": {
            "needs_background": "light"
          }
        }
      ]
    },
    {
      "cell_type": "code",
      "metadata": {
        "id": "72mdTQhLAues",
        "colab": {
          "base_uri": "https://localhost:8080/"
        },
        "outputId": "b2117b6e-1474-496d-8fbd-443adcbd19a6"
      },
      "source": [
        "evaluator = Evaluator(quantiles=[0.1, 0.5, 0.9])\n",
        "agg_metrics, item_metrics = evaluator(iter(tss), iter(forecasts), num_series=len(test_data))"
      ],
      "execution_count": 1346,
      "outputs": [
        {
          "output_type": "stream",
          "name": "stderr",
          "text": [
            "Running evaluation: 100%|██████████| 1/1 [00:00<00:00, 27.94it/s]\n"
          ]
        }
      ]
    },
    {
      "cell_type": "code",
      "metadata": {
        "id": "xDu1hSNuAuhc",
        "colab": {
          "base_uri": "https://localhost:8080/"
        },
        "outputId": "e40cd4b2-b2d3-4b6b-f1c3-d043e7df7108"
      },
      "source": [
        "print(json.dumps(agg_metrics, indent=4))"
      ],
      "execution_count": 1347,
      "outputs": [
        {
          "output_type": "stream",
          "name": "stdout",
          "text": [
            "{\n",
            "    \"MSE\": 0.10301350402832031,\n",
            "    \"abs_error\": 35.57952880859375,\n",
            "    \"abs_target_sum\": 983.7213134765625,\n",
            "    \"abs_target_mean\": 3.93488525390625,\n",
            "    \"seasonal_error\": 0.3864690532965194,\n",
            "    \"MASE\": 0.368252293477121,\n",
            "    \"MAPE\": 0.03989215850830078,\n",
            "    \"sMAPE\": 0.04251789855957031,\n",
            "    \"MSIS\": 14.730091739084843,\n",
            "    \"QuantileLoss[0.1]\": 35.324664974212645,\n",
            "    \"Coverage[0.1]\": 0.388,\n",
            "    \"QuantileLoss[0.5]\": 35.579530239105225,\n",
            "    \"Coverage[0.5]\": 0.388,\n",
            "    \"QuantileLoss[0.9]\": 35.834395503997804,\n",
            "    \"Coverage[0.9]\": 0.388,\n",
            "    \"RMSE\": 0.3209571685261451,\n",
            "    \"NRMSE\": 0.08156709733975688,\n",
            "    \"ND\": 0.036168301246673605,\n",
            "    \"wQuantileLoss[0.1]\": 0.03590921990840271,\n",
            "    \"wQuantileLoss[0.5]\": 0.03616830270085728,\n",
            "    \"wQuantileLoss[0.9]\": 0.03642738549331184,\n",
            "    \"mean_absolute_QuantileLoss\": 35.579530239105225,\n",
            "    \"mean_wQuantileLoss\": 0.03616830270085728,\n",
            "    \"MAE_Coverage\": 0.304,\n",
            "    \"OWA\": NaN\n",
            "}\n"
          ]
        }
      ]
    },
    {
      "cell_type": "code",
      "metadata": {
        "id": "c7s2rVYUAujs",
        "colab": {
          "base_uri": "https://localhost:8080/",
          "height": 100
        },
        "outputId": "7b70c295-0597-4d60-af17-4a6d4102b3ce"
      },
      "source": [
        "item_metrics.head(10)"
      ],
      "execution_count": 1348,
      "outputs": [
        {
          "output_type": "execute_result",
          "data": {
            "text/html": [
              "<div>\n",
              "<style scoped>\n",
              "    .dataframe tbody tr th:only-of-type {\n",
              "        vertical-align: middle;\n",
              "    }\n",
              "\n",
              "    .dataframe tbody tr th {\n",
              "        vertical-align: top;\n",
              "    }\n",
              "\n",
              "    .dataframe thead th {\n",
              "        text-align: right;\n",
              "    }\n",
              "</style>\n",
              "<table border=\"1\" class=\"dataframe\">\n",
              "  <thead>\n",
              "    <tr style=\"text-align: right;\">\n",
              "      <th></th>\n",
              "      <th>item_id</th>\n",
              "      <th>MSE</th>\n",
              "      <th>abs_error</th>\n",
              "      <th>abs_target_sum</th>\n",
              "      <th>abs_target_mean</th>\n",
              "      <th>seasonal_error</th>\n",
              "      <th>MASE</th>\n",
              "      <th>MAPE</th>\n",
              "      <th>sMAPE</th>\n",
              "      <th>MSIS</th>\n",
              "      <th>QuantileLoss[0.1]</th>\n",
              "      <th>Coverage[0.1]</th>\n",
              "      <th>QuantileLoss[0.5]</th>\n",
              "      <th>Coverage[0.5]</th>\n",
              "      <th>QuantileLoss[0.9]</th>\n",
              "      <th>Coverage[0.9]</th>\n",
              "    </tr>\n",
              "  </thead>\n",
              "  <tbody>\n",
              "    <tr>\n",
              "      <th>0</th>\n",
              "      <td>NaN</td>\n",
              "      <td>0.103014</td>\n",
              "      <td>35.579529</td>\n",
              "      <td>983.721313</td>\n",
              "      <td>3.934885</td>\n",
              "      <td>0.386469</td>\n",
              "      <td>0.368252</td>\n",
              "      <td>0.039892</td>\n",
              "      <td>0.042518</td>\n",
              "      <td>14.730092</td>\n",
              "      <td>35.324665</td>\n",
              "      <td>0.388</td>\n",
              "      <td>35.57953</td>\n",
              "      <td>0.388</td>\n",
              "      <td>35.834396</td>\n",
              "      <td>0.388</td>\n",
              "    </tr>\n",
              "  </tbody>\n",
              "</table>\n",
              "</div>"
            ],
            "text/plain": [
              "   item_id       MSE  ...  QuantileLoss[0.9]  Coverage[0.9]\n",
              "0      NaN  0.103014  ...          35.834396          0.388\n",
              "\n",
              "[1 rows x 16 columns]"
            ]
          },
          "metadata": {},
          "execution_count": 1348
        }
      ]
    },
    {
      "cell_type": "code",
      "metadata": {
        "id": "cg92c0W3Aul7",
        "colab": {
          "base_uri": "https://localhost:8080/",
          "height": 279
        },
        "outputId": "396a9aa2-402e-453c-ccc5-25b7ff5e0b33"
      },
      "source": [
        "item_metrics.plot(x='MSIS', y='MASE', kind='scatter')\n",
        "plt.grid(which=\"both\")\n",
        "plt.savefig(\"fig6.pdf\",bbox_inches=\"tight\")\n",
        "plt.show()"
      ],
      "execution_count": 1349,
      "outputs": [
        {
          "output_type": "display_data",
          "data": {
            "image/png": "[encoded data removed]",
            "text/plain": [
              "<Figure size 432x288 with 1 Axes>"
            ]
          },
          "metadata": {
            "needs_background": "light"
          }
        }
      ]
    }
  ]
}