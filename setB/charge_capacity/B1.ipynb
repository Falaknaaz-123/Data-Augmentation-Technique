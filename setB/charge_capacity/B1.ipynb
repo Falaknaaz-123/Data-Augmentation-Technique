{
  "nbformat": 4,
  "nbformat_minor": 0,
  "metadata": {
    "colab": {
      "name": "Copy of Copy of Rawdata_82_1_Charge_Capacity_forecast.ipynb",
      "provenance": [],
      "collapsed_sections": []
    },
    "kernelspec": {
      "display_name": "Python 3",
      "name": "python3"
    }
  },
  "cells": [
    {
      "cell_type": "code",
      "metadata": {
        "colab": {
          "base_uri": "https://localhost:8080/"
        },
        "id": "BISkgn0jVdmk",
        "outputId": "a994fe9f-6794-42ff-e00f-7199911281be"
      },
      "source": [
        "pip install --upgrade mxnet~=1.7 gluonts"
      ],
      "execution_count": 124,
      "outputs": [
        {
          "output_type": "stream",
          "name": "stdout",
          "text": [
            "Requirement already satisfied: mxnet~=1.7 in /usr/local/lib/python3.7/dist-packages (1.8.0.post0)\n",
            "Requirement already satisfied: gluonts in /usr/local/lib/python3.7/dist-packages (0.8.1)\n",
            "Requirement already satisfied: requests<3,>=2.20.0 in /usr/local/lib/python3.7/dist-packages (from mxnet~=1.7) (2.23.0)\n",
            "Requirement already satisfied: numpy<2.0.0,>1.16.0 in /usr/local/lib/python3.7/dist-packages (from mxnet~=1.7) (1.19.5)\n",
            "Requirement already satisfied: graphviz<0.9.0,>=0.8.1 in /usr/local/lib/python3.7/dist-packages (from mxnet~=1.7) (0.8.4)\n",
            "Requirement already satisfied: certifi>=2017.4.17 in /usr/local/lib/python3.7/dist-packages (from requests<3,>=2.20.0->mxnet~=1.7) (2021.5.30)\n",
            "Requirement already satisfied: chardet<4,>=3.0.2 in /usr/local/lib/python3.7/dist-packages (from requests<3,>=2.20.0->mxnet~=1.7) (3.0.4)\n",
            "Requirement already satisfied: urllib3!=1.25.0,!=1.25.1,<1.26,>=1.21.1 in /usr/local/lib/python3.7/dist-packages (from requests<3,>=2.20.0->mxnet~=1.7) (1.24.3)\n",
            "Requirement already satisfied: idna<3,>=2.5 in /usr/local/lib/python3.7/dist-packages (from requests<3,>=2.20.0->mxnet~=1.7) (2.10)\n",
            "Requirement already satisfied: matplotlib~=3.0 in /usr/local/lib/python3.7/dist-packages (from gluonts) (3.2.2)\n",
            "Requirement already satisfied: holidays>=0.9 in /usr/local/lib/python3.7/dist-packages (from gluonts) (0.10.5.2)\n",
            "Requirement already satisfied: toolz~=0.10 in /usr/local/lib/python3.7/dist-packages (from gluonts) (0.11.1)\n",
            "Requirement already satisfied: typing-extensions~=3.10.0.0 in /usr/local/lib/python3.7/dist-packages (from gluonts) (3.10.0.2)\n",
            "Requirement already satisfied: pandas~=1.0 in /usr/local/lib/python3.7/dist-packages (from gluonts) (1.1.5)\n",
            "Requirement already satisfied: pydantic~=1.1 in /usr/local/lib/python3.7/dist-packages (from gluonts) (1.8.2)\n",
            "Requirement already satisfied: tqdm~=4.23 in /usr/local/lib/python3.7/dist-packages (from gluonts) (4.62.3)\n",
            "Requirement already satisfied: hijri-converter in /usr/local/lib/python3.7/dist-packages (from holidays>=0.9->gluonts) (2.2.1)\n",
            "Requirement already satisfied: python-dateutil in /usr/local/lib/python3.7/dist-packages (from holidays>=0.9->gluonts) (2.8.2)\n",
            "Requirement already satisfied: six in /usr/local/lib/python3.7/dist-packages (from holidays>=0.9->gluonts) (1.15.0)\n",
            "Requirement already satisfied: convertdate>=2.3.0 in /usr/local/lib/python3.7/dist-packages (from holidays>=0.9->gluonts) (2.3.2)\n",
            "Requirement already satisfied: korean-lunar-calendar in /usr/local/lib/python3.7/dist-packages (from holidays>=0.9->gluonts) (0.2.1)\n",
            "Requirement already satisfied: pymeeus<=1,>=0.3.13 in /usr/local/lib/python3.7/dist-packages (from convertdate>=2.3.0->holidays>=0.9->gluonts) (0.5.11)\n",
            "Requirement already satisfied: pytz>=2014.10 in /usr/local/lib/python3.7/dist-packages (from convertdate>=2.3.0->holidays>=0.9->gluonts) (2018.9)\n",
            "Requirement already satisfied: kiwisolver>=1.0.1 in /usr/local/lib/python3.7/dist-packages (from matplotlib~=3.0->gluonts) (1.3.2)\n",
            "Requirement already satisfied: cycler>=0.10 in /usr/local/lib/python3.7/dist-packages (from matplotlib~=3.0->gluonts) (0.10.0)\n",
            "Requirement already satisfied: pyparsing!=2.0.4,!=2.1.2,!=2.1.6,>=2.0.1 in /usr/local/lib/python3.7/dist-packages (from matplotlib~=3.0->gluonts) (2.4.7)\n"
          ]
        }
      ]
    },
    {
      "cell_type": "code",
      "metadata": {
        "id": "Io5dASCrVoYO"
      },
      "source": [
        "# Third-party imports\n",
        "%matplotlib inline\n",
        "import mxnet as mx\n",
        "from mxnet import gluon\n",
        "import numpy as np\n",
        "import pandas as pd\n",
        "import matplotlib.pyplot as plt\n",
        "import json"
      ],
      "execution_count": 125,
      "outputs": []
    },
    {
      "cell_type": "code",
      "metadata": {
        "id": "JS2hNvrbVoa6"
      },
      "source": [
        "# gluon datasets\n",
        "from gluonts.dataset.repository.datasets import get_dataset, dataset_recipes\n",
        "from gluonts.dataset.util import to_pandas"
      ],
      "execution_count": 126,
      "outputs": []
    },
    {
      "cell_type": "code",
      "metadata": {
        "colab": {
          "base_uri": "https://localhost:8080/"
        },
        "id": "q-6chF-mVod2",
        "outputId": "f40ee23c-e352-48c1-f8b9-0b5be3f8c733"
      },
      "source": [
        "print(f\"Available datasets: {list(dataset_recipes.keys())}\")"
      ],
      "execution_count": 127,
      "outputs": [
        {
          "output_type": "stream",
          "name": "stdout",
          "text": [
            "Available datasets: ['constant', 'exchange_rate', 'solar-energy', 'electricity', 'traffic', 'exchange_rate_nips', 'electricity_nips', 'traffic_nips', 'solar_nips', 'wiki-rolling_nips', 'taxi_30min', 'kaggle_web_traffic_with_missing', 'kaggle_web_traffic_without_missing', 'kaggle_web_traffic_weekly', 'm1_yearly', 'm1_quarterly', 'm1_monthly', 'nn5_daily_with_missing', 'nn5_daily_without_missing', 'nn5_weekly', 'tourism_monthly', 'tourism_quarterly', 'tourism_yearly', 'm3_monthly', 'm3_quarterly', 'm3_yearly', 'm3_other', 'm4_hourly', 'm4_daily', 'm4_weekly', 'm4_monthly', 'm4_quarterly', 'm4_yearly', 'm5']\n"
          ]
        }
      ]
    },
    {
      "cell_type": "code",
      "metadata": {
        "colab": {
          "base_uri": "https://localhost:8080/"
        },
        "id": "3dl59DPWBspm",
        "outputId": "ed50bb03-3a72-4786-a67c-bcd82b76d114"
      },
      "source": [
        "pip install mxnet"
      ],
      "execution_count": 128,
      "outputs": [
        {
          "output_type": "stream",
          "name": "stdout",
          "text": [
            "Requirement already satisfied: mxnet in /usr/local/lib/python3.7/dist-packages (1.8.0.post0)\n",
            "Requirement already satisfied: numpy<2.0.0,>1.16.0 in /usr/local/lib/python3.7/dist-packages (from mxnet) (1.19.5)\n",
            "Requirement already satisfied: graphviz<0.9.0,>=0.8.1 in /usr/local/lib/python3.7/dist-packages (from mxnet) (0.8.4)\n",
            "Requirement already satisfied: requests<3,>=2.20.0 in /usr/local/lib/python3.7/dist-packages (from mxnet) (2.23.0)\n",
            "Requirement already satisfied: urllib3!=1.25.0,!=1.25.1,<1.26,>=1.21.1 in /usr/local/lib/python3.7/dist-packages (from requests<3,>=2.20.0->mxnet) (1.24.3)\n",
            "Requirement already satisfied: chardet<4,>=3.0.2 in /usr/local/lib/python3.7/dist-packages (from requests<3,>=2.20.0->mxnet) (3.0.4)\n",
            "Requirement already satisfied: certifi>=2017.4.17 in /usr/local/lib/python3.7/dist-packages (from requests<3,>=2.20.0->mxnet) (2021.5.30)\n",
            "Requirement already satisfied: idna<3,>=2.5 in /usr/local/lib/python3.7/dist-packages (from requests<3,>=2.20.0->mxnet) (2.10)\n"
          ]
        }
      ]
    },
    {
      "cell_type": "code",
      "metadata": {
        "id": "qjWGHZjhlWe4"
      },
      "source": [
        "dataset_nasa = pd.read_csv('DOE-551-600-10DU-01_2.csv')"
      ],
      "execution_count": 130,
      "outputs": []
    },
    {
      "cell_type": "code",
      "metadata": {
        "colab": {
          "base_uri": "https://localhost:8080/",
          "height": 454
        },
        "id": "SLR52rSMVomO",
        "outputId": "d1105cff-b9b0-4b97-9108-81a9b4d0a906"
      },
      "source": [
        "dataset_nasa\n"
      ],
      "execution_count": 131,
      "outputs": [
        {
          "output_type": "execute_result",
          "data": {
            "text/html": [
              "<div>\n",
              "<style scoped>\n",
              "    .dataframe tbody tr th:only-of-type {\n",
              "        vertical-align: middle;\n",
              "    }\n",
              "\n",
              "    .dataframe tbody tr th {\n",
              "        vertical-align: top;\n",
              "    }\n",
              "\n",
              "    .dataframe thead th {\n",
              "        text-align: right;\n",
              "    }\n",
              "</style>\n",
              "<table border=\"1\" class=\"dataframe\">\n",
              "  <thead>\n",
              "    <tr style=\"text-align: right;\">\n",
              "      <th></th>\n",
              "      <th>index</th>\n",
              "      <th>Test_Time(s)</th>\n",
              "      <th>Unnamed: 2</th>\n",
              "      <th>Step_Time(s)</th>\n",
              "      <th>Cycle_Index</th>\n",
              "      <th>Step_Index</th>\n",
              "      <th>Voltage</th>\n",
              "      <th>Test_Time(s).1</th>\n",
              "      <th>Step_Time(s).1</th>\n",
              "      <th>Cycle_Index.1</th>\n",
              "      <th>Step_Index.1</th>\n",
              "      <th>Current</th>\n",
              "      <th>Test_Time(s).2</th>\n",
              "      <th>Step_Time(s).2</th>\n",
              "      <th>Cycle_Index.2</th>\n",
              "      <th>Step_Index.2</th>\n",
              "      <th>Charge_Capacity</th>\n",
              "      <th>Test_Time(s).3</th>\n",
              "      <th>Step_Time(s).3</th>\n",
              "      <th>Cycle_Index.3</th>\n",
              "      <th>Step_Index.3</th>\n",
              "      <th>Discharge_Capacity</th>\n",
              "      <th>Test_Time(s).4</th>\n",
              "      <th>Step_Time(s).4</th>\n",
              "      <th>Cycle_Index.4</th>\n",
              "      <th>Step_Index.4</th>\n",
              "    </tr>\n",
              "  </thead>\n",
              "  <tbody>\n",
              "    <tr>\n",
              "      <th>0</th>\n",
              "      <td>0</td>\n",
              "      <td>120.002100</td>\n",
              "      <td>NaN</td>\n",
              "      <td>120.0020</td>\n",
              "      <td>1</td>\n",
              "      <td>1</td>\n",
              "      <td>3.578289</td>\n",
              "      <td>120.002100</td>\n",
              "      <td>120.0020</td>\n",
              "      <td>1</td>\n",
              "      <td>1</td>\n",
              "      <td>0.000000</td>\n",
              "      <td>120.002100</td>\n",
              "      <td>120.0020</td>\n",
              "      <td>1</td>\n",
              "      <td>1</td>\n",
              "      <td>0.000000</td>\n",
              "      <td>120.002100</td>\n",
              "      <td>120.0020</td>\n",
              "      <td>1</td>\n",
              "      <td>1</td>\n",
              "      <td>0.000000</td>\n",
              "      <td>120.002100</td>\n",
              "      <td>120.0020</td>\n",
              "      <td>1</td>\n",
              "      <td>1</td>\n",
              "    </tr>\n",
              "    <tr>\n",
              "      <th>1</th>\n",
              "      <td>1</td>\n",
              "      <td>240.004200</td>\n",
              "      <td>NaN</td>\n",
              "      <td>240.0041</td>\n",
              "      <td>1</td>\n",
              "      <td>1</td>\n",
              "      <td>3.578400</td>\n",
              "      <td>240.004200</td>\n",
              "      <td>240.0041</td>\n",
              "      <td>1</td>\n",
              "      <td>1</td>\n",
              "      <td>0.000000</td>\n",
              "      <td>240.004200</td>\n",
              "      <td>240.0041</td>\n",
              "      <td>1</td>\n",
              "      <td>1</td>\n",
              "      <td>0.000000</td>\n",
              "      <td>240.004200</td>\n",
              "      <td>240.0041</td>\n",
              "      <td>1</td>\n",
              "      <td>1</td>\n",
              "      <td>0.000000</td>\n",
              "      <td>240.004200</td>\n",
              "      <td>240.0041</td>\n",
              "      <td>1</td>\n",
              "      <td>1</td>\n",
              "    </tr>\n",
              "    <tr>\n",
              "      <th>2</th>\n",
              "      <td>2</td>\n",
              "      <td>360.003300</td>\n",
              "      <td>NaN</td>\n",
              "      <td>360.0032</td>\n",
              "      <td>1</td>\n",
              "      <td>1</td>\n",
              "      <td>3.580041</td>\n",
              "      <td>360.003300</td>\n",
              "      <td>360.0032</td>\n",
              "      <td>1</td>\n",
              "      <td>1</td>\n",
              "      <td>0.000000</td>\n",
              "      <td>360.003300</td>\n",
              "      <td>360.0032</td>\n",
              "      <td>1</td>\n",
              "      <td>1</td>\n",
              "      <td>0.000000</td>\n",
              "      <td>360.003300</td>\n",
              "      <td>360.0032</td>\n",
              "      <td>1</td>\n",
              "      <td>1</td>\n",
              "      <td>0.000000</td>\n",
              "      <td>360.003300</td>\n",
              "      <td>360.0032</td>\n",
              "      <td>1</td>\n",
              "      <td>1</td>\n",
              "    </tr>\n",
              "    <tr>\n",
              "      <th>3</th>\n",
              "      <td>3</td>\n",
              "      <td>480.005600</td>\n",
              "      <td>NaN</td>\n",
              "      <td>480.0055</td>\n",
              "      <td>1</td>\n",
              "      <td>1</td>\n",
              "      <td>3.581675</td>\n",
              "      <td>480.005600</td>\n",
              "      <td>480.0055</td>\n",
              "      <td>1</td>\n",
              "      <td>1</td>\n",
              "      <td>0.000000</td>\n",
              "      <td>480.005600</td>\n",
              "      <td>480.0055</td>\n",
              "      <td>1</td>\n",
              "      <td>1</td>\n",
              "      <td>0.000000</td>\n",
              "      <td>480.005600</td>\n",
              "      <td>480.0055</td>\n",
              "      <td>1</td>\n",
              "      <td>1</td>\n",
              "      <td>0.000000</td>\n",
              "      <td>480.005600</td>\n",
              "      <td>480.0055</td>\n",
              "      <td>1</td>\n",
              "      <td>1</td>\n",
              "    </tr>\n",
              "    <tr>\n",
              "      <th>4</th>\n",
              "      <td>4</td>\n",
              "      <td>600.000900</td>\n",
              "      <td>NaN</td>\n",
              "      <td>600.0008</td>\n",
              "      <td>1</td>\n",
              "      <td>1</td>\n",
              "      <td>3.582434</td>\n",
              "      <td>600.000900</td>\n",
              "      <td>600.0008</td>\n",
              "      <td>1</td>\n",
              "      <td>1</td>\n",
              "      <td>0.000000</td>\n",
              "      <td>600.000900</td>\n",
              "      <td>600.0008</td>\n",
              "      <td>1</td>\n",
              "      <td>1</td>\n",
              "      <td>0.000000</td>\n",
              "      <td>600.000900</td>\n",
              "      <td>600.0008</td>\n",
              "      <td>1</td>\n",
              "      <td>1</td>\n",
              "      <td>0.000000</td>\n",
              "      <td>600.000900</td>\n",
              "      <td>600.0008</td>\n",
              "      <td>1</td>\n",
              "      <td>1</td>\n",
              "    </tr>\n",
              "    <tr>\n",
              "      <th>...</th>\n",
              "      <td>...</td>\n",
              "      <td>...</td>\n",
              "      <td>...</td>\n",
              "      <td>...</td>\n",
              "      <td>...</td>\n",
              "      <td>...</td>\n",
              "      <td>...</td>\n",
              "      <td>...</td>\n",
              "      <td>...</td>\n",
              "      <td>...</td>\n",
              "      <td>...</td>\n",
              "      <td>...</td>\n",
              "      <td>...</td>\n",
              "      <td>...</td>\n",
              "      <td>...</td>\n",
              "      <td>...</td>\n",
              "      <td>...</td>\n",
              "      <td>...</td>\n",
              "      <td>...</td>\n",
              "      <td>...</td>\n",
              "      <td>...</td>\n",
              "      <td>...</td>\n",
              "      <td>...</td>\n",
              "      <td>...</td>\n",
              "      <td>...</td>\n",
              "      <td>...</td>\n",
              "    </tr>\n",
              "    <tr>\n",
              "      <th>3953</th>\n",
              "      <td>3953</td>\n",
              "      <td>454963.238852</td>\n",
              "      <td>NaN</td>\n",
              "      <td>120.0033</td>\n",
              "      <td>50</td>\n",
              "      <td>6</td>\n",
              "      <td>3.609489</td>\n",
              "      <td>454963.238852</td>\n",
              "      <td>120.0033</td>\n",
              "      <td>50</td>\n",
              "      <td>6</td>\n",
              "      <td>0.000000</td>\n",
              "      <td>454963.238852</td>\n",
              "      <td>120.0033</td>\n",
              "      <td>50</td>\n",
              "      <td>6</td>\n",
              "      <td>2.441618</td>\n",
              "      <td>454963.238852</td>\n",
              "      <td>120.0033</td>\n",
              "      <td>50</td>\n",
              "      <td>6</td>\n",
              "      <td>2.441629</td>\n",
              "      <td>454963.238852</td>\n",
              "      <td>120.0033</td>\n",
              "      <td>50</td>\n",
              "      <td>6</td>\n",
              "    </tr>\n",
              "    <tr>\n",
              "      <th>3954</th>\n",
              "      <td>3954</td>\n",
              "      <td>455083.237752</td>\n",
              "      <td>NaN</td>\n",
              "      <td>240.0022</td>\n",
              "      <td>50</td>\n",
              "      <td>6</td>\n",
              "      <td>3.642449</td>\n",
              "      <td>455083.237752</td>\n",
              "      <td>240.0022</td>\n",
              "      <td>50</td>\n",
              "      <td>6</td>\n",
              "      <td>0.000000</td>\n",
              "      <td>455083.237752</td>\n",
              "      <td>240.0022</td>\n",
              "      <td>50</td>\n",
              "      <td>6</td>\n",
              "      <td>2.441618</td>\n",
              "      <td>455083.237752</td>\n",
              "      <td>240.0022</td>\n",
              "      <td>50</td>\n",
              "      <td>6</td>\n",
              "      <td>2.441629</td>\n",
              "      <td>455083.237752</td>\n",
              "      <td>240.0022</td>\n",
              "      <td>50</td>\n",
              "      <td>6</td>\n",
              "    </tr>\n",
              "    <tr>\n",
              "      <th>3955</th>\n",
              "      <td>3955</td>\n",
              "      <td>455143.238952</td>\n",
              "      <td>NaN</td>\n",
              "      <td>300.0034</td>\n",
              "      <td>50</td>\n",
              "      <td>6</td>\n",
              "      <td>3.650748</td>\n",
              "      <td>455143.238952</td>\n",
              "      <td>300.0034</td>\n",
              "      <td>50</td>\n",
              "      <td>6</td>\n",
              "      <td>0.000000</td>\n",
              "      <td>455143.238952</td>\n",
              "      <td>300.0034</td>\n",
              "      <td>50</td>\n",
              "      <td>6</td>\n",
              "      <td>2.441618</td>\n",
              "      <td>455143.238952</td>\n",
              "      <td>300.0034</td>\n",
              "      <td>50</td>\n",
              "      <td>6</td>\n",
              "      <td>2.441629</td>\n",
              "      <td>455143.238952</td>\n",
              "      <td>300.0034</td>\n",
              "      <td>50</td>\n",
              "      <td>6</td>\n",
              "    </tr>\n",
              "    <tr>\n",
              "      <th>3956</th>\n",
              "      <td>3956</td>\n",
              "      <td>455263.394832</td>\n",
              "      <td>NaN</td>\n",
              "      <td>120.0043</td>\n",
              "      <td>51</td>\n",
              "      <td>8</td>\n",
              "      <td>4.189424</td>\n",
              "      <td>455263.394832</td>\n",
              "      <td>120.0043</td>\n",
              "      <td>51</td>\n",
              "      <td>8</td>\n",
              "      <td>3.259819</td>\n",
              "      <td>455263.394832</td>\n",
              "      <td>120.0043</td>\n",
              "      <td>51</td>\n",
              "      <td>8</td>\n",
              "      <td>0.108659</td>\n",
              "      <td>455263.394832</td>\n",
              "      <td>120.0043</td>\n",
              "      <td>51</td>\n",
              "      <td>8</td>\n",
              "      <td>0.000000</td>\n",
              "      <td>455263.394832</td>\n",
              "      <td>120.0043</td>\n",
              "      <td>51</td>\n",
              "      <td>8</td>\n",
              "    </tr>\n",
              "    <tr>\n",
              "      <th>3957</th>\n",
              "      <td>3957</td>\n",
              "      <td>455292.448332</td>\n",
              "      <td>NaN</td>\n",
              "      <td>149.0578</td>\n",
              "      <td>51</td>\n",
              "      <td>8</td>\n",
              "      <td>4.200018</td>\n",
              "      <td>455292.448332</td>\n",
              "      <td>149.0578</td>\n",
              "      <td>51</td>\n",
              "      <td>8</td>\n",
              "      <td>3.260193</td>\n",
              "      <td>455292.448332</td>\n",
              "      <td>149.0578</td>\n",
              "      <td>51</td>\n",
              "      <td>8</td>\n",
              "      <td>0.134974</td>\n",
              "      <td>455292.448332</td>\n",
              "      <td>149.0578</td>\n",
              "      <td>51</td>\n",
              "      <td>8</td>\n",
              "      <td>0.000000</td>\n",
              "      <td>455292.448332</td>\n",
              "      <td>149.0578</td>\n",
              "      <td>51</td>\n",
              "      <td>8</td>\n",
              "    </tr>\n",
              "  </tbody>\n",
              "</table>\n",
              "<p>3958 rows × 26 columns</p>\n",
              "</div>"
            ],
            "text/plain": [
              "      index   Test_Time(s)  ...  Cycle_Index.4  Step_Index.4\n",
              "0         0     120.002100  ...              1             1\n",
              "1         1     240.004200  ...              1             1\n",
              "2         2     360.003300  ...              1             1\n",
              "3         3     480.005600  ...              1             1\n",
              "4         4     600.000900  ...              1             1\n",
              "...     ...            ...  ...            ...           ...\n",
              "3953   3953  454963.238852  ...             50             6\n",
              "3954   3954  455083.237752  ...             50             6\n",
              "3955   3955  455143.238952  ...             50             6\n",
              "3956   3956  455263.394832  ...             51             8\n",
              "3957   3957  455292.448332  ...             51             8\n",
              "\n",
              "[3958 rows x 26 columns]"
            ]
          },
          "metadata": {},
          "execution_count": 131
        }
      ]
    },
    {
      "cell_type": "code",
      "metadata": {
        "id": "wwAaq-AO4AKS"
      },
      "source": [
        "df = pd.DataFrame(dataset_nasa)\n",
        "cols = [0,16]\n",
        "df = df[df.columns[cols]]"
      ],
      "execution_count": 132,
      "outputs": []
    },
    {
      "cell_type": "code",
      "metadata": {
        "colab": {
          "base_uri": "https://localhost:8080/",
          "height": 417
        },
        "id": "4ss0ApIz4AWr",
        "outputId": "4a171739-022d-45c0-e53b-60703047c792"
      },
      "source": [
        "df"
      ],
      "execution_count": 133,
      "outputs": [
        {
          "output_type": "execute_result",
          "data": {
            "text/html": [
              "<div>\n",
              "<style scoped>\n",
              "    .dataframe tbody tr th:only-of-type {\n",
              "        vertical-align: middle;\n",
              "    }\n",
              "\n",
              "    .dataframe tbody tr th {\n",
              "        vertical-align: top;\n",
              "    }\n",
              "\n",
              "    .dataframe thead th {\n",
              "        text-align: right;\n",
              "    }\n",
              "</style>\n",
              "<table border=\"1\" class=\"dataframe\">\n",
              "  <thead>\n",
              "    <tr style=\"text-align: right;\">\n",
              "      <th></th>\n",
              "      <th>index</th>\n",
              "      <th>Charge_Capacity</th>\n",
              "    </tr>\n",
              "  </thead>\n",
              "  <tbody>\n",
              "    <tr>\n",
              "      <th>0</th>\n",
              "      <td>0</td>\n",
              "      <td>0.000000</td>\n",
              "    </tr>\n",
              "    <tr>\n",
              "      <th>1</th>\n",
              "      <td>1</td>\n",
              "      <td>0.000000</td>\n",
              "    </tr>\n",
              "    <tr>\n",
              "      <th>2</th>\n",
              "      <td>2</td>\n",
              "      <td>0.000000</td>\n",
              "    </tr>\n",
              "    <tr>\n",
              "      <th>3</th>\n",
              "      <td>3</td>\n",
              "      <td>0.000000</td>\n",
              "    </tr>\n",
              "    <tr>\n",
              "      <th>4</th>\n",
              "      <td>4</td>\n",
              "      <td>0.000000</td>\n",
              "    </tr>\n",
              "    <tr>\n",
              "      <th>...</th>\n",
              "      <td>...</td>\n",
              "      <td>...</td>\n",
              "    </tr>\n",
              "    <tr>\n",
              "      <th>3953</th>\n",
              "      <td>3953</td>\n",
              "      <td>2.441618</td>\n",
              "    </tr>\n",
              "    <tr>\n",
              "      <th>3954</th>\n",
              "      <td>3954</td>\n",
              "      <td>2.441618</td>\n",
              "    </tr>\n",
              "    <tr>\n",
              "      <th>3955</th>\n",
              "      <td>3955</td>\n",
              "      <td>2.441618</td>\n",
              "    </tr>\n",
              "    <tr>\n",
              "      <th>3956</th>\n",
              "      <td>3956</td>\n",
              "      <td>0.108659</td>\n",
              "    </tr>\n",
              "    <tr>\n",
              "      <th>3957</th>\n",
              "      <td>3957</td>\n",
              "      <td>0.134974</td>\n",
              "    </tr>\n",
              "  </tbody>\n",
              "</table>\n",
              "<p>3958 rows × 2 columns</p>\n",
              "</div>"
            ],
            "text/plain": [
              "      index  Charge_Capacity\n",
              "0         0         0.000000\n",
              "1         1         0.000000\n",
              "2         2         0.000000\n",
              "3         3         0.000000\n",
              "4         4         0.000000\n",
              "...     ...              ...\n",
              "3953   3953         2.441618\n",
              "3954   3954         2.441618\n",
              "3955   3955         2.441618\n",
              "3956   3956         0.108659\n",
              "3957   3957         0.134974\n",
              "\n",
              "[3958 rows x 2 columns]"
            ]
          },
          "metadata": {},
          "execution_count": 133
        }
      ]
    },
    {
      "cell_type": "code",
      "metadata": {
        "id": "T807dGEGdGOF"
      },
      "source": [
        "df1 = df.to_numpy()"
      ],
      "execution_count": 134,
      "outputs": []
    },
    {
      "cell_type": "code",
      "metadata": {
        "id": "LODZWZeYkh2n"
      },
      "source": [
        "train_size = int(len(df1)*0.8)\n",
        "test_size = len(df1) - train_size\n",
        "train = df1[1:train_size,:]\n",
        "test = df1[train_size:len(df1)]"
      ],
      "execution_count": 135,
      "outputs": []
    },
    {
      "cell_type": "code",
      "metadata": {
        "colab": {
          "base_uri": "https://localhost:8080/"
        },
        "id": "AWeTV_6qgxIV",
        "outputId": "23984652-c013-44b9-c7c1-d848025bd3e0"
      },
      "source": [
        "train_size"
      ],
      "execution_count": 136,
      "outputs": [
        {
          "output_type": "execute_result",
          "data": {
            "text/plain": [
              "3166"
            ]
          },
          "metadata": {},
          "execution_count": 136
        }
      ]
    },
    {
      "cell_type": "code",
      "metadata": {
        "id": "KeMJFvQ0U3Z6"
      },
      "source": [
        "train_set = pd.DataFrame(train)"
      ],
      "execution_count": 137,
      "outputs": []
    },
    {
      "cell_type": "code",
      "metadata": {
        "colab": {
          "base_uri": "https://localhost:8080/",
          "height": 417
        },
        "id": "WETL8vj3d6zz",
        "outputId": "d1c7f0e1-fcd5-4235-cb72-d60c286c6ec3"
      },
      "source": [
        "train_set"
      ],
      "execution_count": 138,
      "outputs": [
        {
          "output_type": "execute_result",
          "data": {
            "text/html": [
              "<div>\n",
              "<style scoped>\n",
              "    .dataframe tbody tr th:only-of-type {\n",
              "        vertical-align: middle;\n",
              "    }\n",
              "\n",
              "    .dataframe tbody tr th {\n",
              "        vertical-align: top;\n",
              "    }\n",
              "\n",
              "    .dataframe thead th {\n",
              "        text-align: right;\n",
              "    }\n",
              "</style>\n",
              "<table border=\"1\" class=\"dataframe\">\n",
              "  <thead>\n",
              "    <tr style=\"text-align: right;\">\n",
              "      <th></th>\n",
              "      <th>0</th>\n",
              "      <th>1</th>\n",
              "    </tr>\n",
              "  </thead>\n",
              "  <tbody>\n",
              "    <tr>\n",
              "      <th>0</th>\n",
              "      <td>1.0</td>\n",
              "      <td>0.000000</td>\n",
              "    </tr>\n",
              "    <tr>\n",
              "      <th>1</th>\n",
              "      <td>2.0</td>\n",
              "      <td>0.000000</td>\n",
              "    </tr>\n",
              "    <tr>\n",
              "      <th>2</th>\n",
              "      <td>3.0</td>\n",
              "      <td>0.000000</td>\n",
              "    </tr>\n",
              "    <tr>\n",
              "      <th>3</th>\n",
              "      <td>4.0</td>\n",
              "      <td>0.000000</td>\n",
              "    </tr>\n",
              "    <tr>\n",
              "      <th>4</th>\n",
              "      <td>5.0</td>\n",
              "      <td>0.000000</td>\n",
              "    </tr>\n",
              "    <tr>\n",
              "      <th>...</th>\n",
              "      <td>...</td>\n",
              "      <td>...</td>\n",
              "    </tr>\n",
              "    <tr>\n",
              "      <th>3160</th>\n",
              "      <td>3161.0</td>\n",
              "      <td>2.445123</td>\n",
              "    </tr>\n",
              "    <tr>\n",
              "      <th>3161</th>\n",
              "      <td>3162.0</td>\n",
              "      <td>2.445123</td>\n",
              "    </tr>\n",
              "    <tr>\n",
              "      <th>3162</th>\n",
              "      <td>3163.0</td>\n",
              "      <td>2.445123</td>\n",
              "    </tr>\n",
              "    <tr>\n",
              "      <th>3163</th>\n",
              "      <td>3164.0</td>\n",
              "      <td>2.445123</td>\n",
              "    </tr>\n",
              "    <tr>\n",
              "      <th>3164</th>\n",
              "      <td>3165.0</td>\n",
              "      <td>2.445123</td>\n",
              "    </tr>\n",
              "  </tbody>\n",
              "</table>\n",
              "<p>3165 rows × 2 columns</p>\n",
              "</div>"
            ],
            "text/plain": [
              "           0         1\n",
              "0        1.0  0.000000\n",
              "1        2.0  0.000000\n",
              "2        3.0  0.000000\n",
              "3        4.0  0.000000\n",
              "4        5.0  0.000000\n",
              "...      ...       ...\n",
              "3160  3161.0  2.445123\n",
              "3161  3162.0  2.445123\n",
              "3162  3163.0  2.445123\n",
              "3163  3164.0  2.445123\n",
              "3164  3165.0  2.445123\n",
              "\n",
              "[3165 rows x 2 columns]"
            ]
          },
          "metadata": {},
          "execution_count": 138
        }
      ]
    },
    {
      "cell_type": "code",
      "metadata": {
        "id": "5g-dEeBseFAS"
      },
      "source": [
        "test_set = pd.DataFrame(test)"
      ],
      "execution_count": 139,
      "outputs": []
    },
    {
      "cell_type": "code",
      "metadata": {
        "colab": {
          "base_uri": "https://localhost:8080/",
          "height": 417
        },
        "id": "T3rDI_yxeKmE",
        "outputId": "761213b2-31f2-43dd-d5c3-83d5f1c285ee"
      },
      "source": [
        "test_set"
      ],
      "execution_count": 140,
      "outputs": [
        {
          "output_type": "execute_result",
          "data": {
            "text/html": [
              "<div>\n",
              "<style scoped>\n",
              "    .dataframe tbody tr th:only-of-type {\n",
              "        vertical-align: middle;\n",
              "    }\n",
              "\n",
              "    .dataframe tbody tr th {\n",
              "        vertical-align: top;\n",
              "    }\n",
              "\n",
              "    .dataframe thead th {\n",
              "        text-align: right;\n",
              "    }\n",
              "</style>\n",
              "<table border=\"1\" class=\"dataframe\">\n",
              "  <thead>\n",
              "    <tr style=\"text-align: right;\">\n",
              "      <th></th>\n",
              "      <th>0</th>\n",
              "      <th>1</th>\n",
              "    </tr>\n",
              "  </thead>\n",
              "  <tbody>\n",
              "    <tr>\n",
              "      <th>0</th>\n",
              "      <td>3166.0</td>\n",
              "      <td>0.127106</td>\n",
              "    </tr>\n",
              "    <tr>\n",
              "      <th>1</th>\n",
              "      <td>3167.0</td>\n",
              "      <td>0.140243</td>\n",
              "    </tr>\n",
              "    <tr>\n",
              "      <th>2</th>\n",
              "      <td>3168.0</td>\n",
              "      <td>0.248653</td>\n",
              "    </tr>\n",
              "    <tr>\n",
              "      <th>3</th>\n",
              "      <td>3169.0</td>\n",
              "      <td>0.357325</td>\n",
              "    </tr>\n",
              "    <tr>\n",
              "      <th>4</th>\n",
              "      <td>3170.0</td>\n",
              "      <td>0.465991</td>\n",
              "    </tr>\n",
              "    <tr>\n",
              "      <th>...</th>\n",
              "      <td>...</td>\n",
              "      <td>...</td>\n",
              "    </tr>\n",
              "    <tr>\n",
              "      <th>787</th>\n",
              "      <td>3953.0</td>\n",
              "      <td>2.441618</td>\n",
              "    </tr>\n",
              "    <tr>\n",
              "      <th>788</th>\n",
              "      <td>3954.0</td>\n",
              "      <td>2.441618</td>\n",
              "    </tr>\n",
              "    <tr>\n",
              "      <th>789</th>\n",
              "      <td>3955.0</td>\n",
              "      <td>2.441618</td>\n",
              "    </tr>\n",
              "    <tr>\n",
              "      <th>790</th>\n",
              "      <td>3956.0</td>\n",
              "      <td>0.108659</td>\n",
              "    </tr>\n",
              "    <tr>\n",
              "      <th>791</th>\n",
              "      <td>3957.0</td>\n",
              "      <td>0.134974</td>\n",
              "    </tr>\n",
              "  </tbody>\n",
              "</table>\n",
              "<p>792 rows × 2 columns</p>\n",
              "</div>"
            ],
            "text/plain": [
              "          0         1\n",
              "0    3166.0  0.127106\n",
              "1    3167.0  0.140243\n",
              "2    3168.0  0.248653\n",
              "3    3169.0  0.357325\n",
              "4    3170.0  0.465991\n",
              "..      ...       ...\n",
              "787  3953.0  2.441618\n",
              "788  3954.0  2.441618\n",
              "789  3955.0  2.441618\n",
              "790  3956.0  0.108659\n",
              "791  3957.0  0.134974\n",
              "\n",
              "[792 rows x 2 columns]"
            ]
          },
          "metadata": {},
          "execution_count": 140
        }
      ]
    },
    {
      "cell_type": "code",
      "metadata": {
        "colab": {
          "base_uri": "https://localhost:8080/"
        },
        "id": "f1the1T5EOmc",
        "outputId": "66c7feb9-2362-4ac0-f3f6-de311580b0df"
      },
      "source": [
        "df.columns"
      ],
      "execution_count": 141,
      "outputs": [
        {
          "output_type": "execute_result",
          "data": {
            "text/plain": [
              "Index(['index', 'Charge_Capacity'], dtype='object')"
            ]
          },
          "metadata": {},
          "execution_count": 141
        }
      ]
    },
    {
      "cell_type": "code",
      "metadata": {
        "id": "0_YxlE0XdCjP"
      },
      "source": [
        "df_input = df[['index','Charge_Capacity']]"
      ],
      "execution_count": 142,
      "outputs": []
    },
    {
      "cell_type": "code",
      "metadata": {
        "id": "Dlc4FnMDdCn0"
      },
      "source": [
        "df_input = df_input.set_index('index')"
      ],
      "execution_count": 143,
      "outputs": []
    },
    {
      "cell_type": "code",
      "metadata": {
        "id": "sIOGFPUXfl8N"
      },
      "source": [
        "train_time = 949\n",
        "prediction_length = 949\n",
        "freq = \"2min\""
      ],
      "execution_count": 144,
      "outputs": []
    },
    {
      "cell_type": "code",
      "metadata": {
        "id": "bIOdz6aNfl_E"
      },
      "source": [
        "from gluonts.dataset.common import ListDataset\n",
        "train_data = ListDataset(\n",
        "    [{\"start\": df_input.index[0], \"target\": df_input.Charge_Capacity[:train_time] }],\n",
        "    freq = \"2min\"\n",
        ")"
      ],
      "execution_count": 145,
      "outputs": []
    },
    {
      "cell_type": "code",
      "metadata": {
        "colab": {
          "base_uri": "https://localhost:8080/",
          "height": 289
        },
        "id": "o3VEMuGqfmCj",
        "outputId": "facdf90d-3eda-4736-c0f9-e75805fc25c5"
      },
      "source": [
        "entry = next(iter(train_data))\n",
        "train_series = to_pandas(entry)\n",
        "train_series.plot()\n",
        "plt.grid(which=\"both\")\n",
        "plt.legend([\"train series\"], loc=\"upper left\")\n",
        "plt.savefig(\"fig1.pdf\",bbox_inches=\"tight\")\n",
        "plt.show()"
      ],
      "execution_count": 146,
      "outputs": [
        {
          "output_type": "display_data",
          "data": {
            "image/png": "[encoded data removed]",
            "text/plain": [
              "<Figure size 432x288 with 1 Axes>"
            ]
          },
          "metadata": {
            "needs_background": "light"
          }
        }
      ]
    },
    {
      "cell_type": "code",
      "metadata": {
        "id": "NegtiuLcvLWF"
      },
      "source": [
        "test_data = ListDataset(\n",
        "    [{\"start\": df_input.index[0], \"target\": df_input.Charge_Capacity[:]}],\n",
        "    freq = \"2min\"\n",
        ")"
      ],
      "execution_count": 147,
      "outputs": []
    },
    {
      "cell_type": "code",
      "metadata": {
        "colab": {
          "base_uri": "https://localhost:8080/",
          "height": 289
        },
        "id": "8qkov_uhfmIF",
        "outputId": "7375dbaa-3c23-46ba-fdb1-d78f7070afe3"
      },
      "source": [
        "entry = next(iter(test_data))\n",
        "test_series = to_pandas(entry)\n",
        "test_series.plot()\n",
        "plt.axvline(train_series.index[-1], color='r') # end of train dataset\n",
        "plt.grid(which=\"both\")\n",
        "plt.legend([\"test series\", \"end of train series\"], loc=\"upper left\")\n",
        "plt.savefig(\"fig2.pdf\",bbox_inches=\"tight\")\n",
        "plt.show()"
      ],
      "execution_count": 148,
      "outputs": [
        {
          "output_type": "display_data",
          "data": {
            "image/png": "[encoded data removed]",
            "text/plain": [
              "<Figure size 432x288 with 1 Axes>"
            ]
          },
          "metadata": {
            "needs_background": "light"
          }
        }
      ]
    },
    {
      "cell_type": "code",
      "metadata": {
        "colab": {
          "base_uri": "https://localhost:8080/"
        },
        "id": "QhoWe6rawAZv",
        "outputId": "ceaa0620-6a10-4548-bda8-8fff5d020ba7"
      },
      "source": [
        "print(f\"Length of forecasting window in test dataset:{len(test_series)-len(train_series)}\")\n",
        "print(f\"Frequency of the time series:{freq}\")"
      ],
      "execution_count": 149,
      "outputs": [
        {
          "output_type": "stream",
          "name": "stdout",
          "text": [
            "Length of forecasting window in test dataset:3009\n",
            "Frequency of the time series:2min\n"
          ]
        }
      ]
    },
    {
      "cell_type": "code",
      "metadata": {
        "id": "2CvnPKD6wAb2"
      },
      "source": [
        "from gluonts.model.simple_feedforward import SimpleFeedForwardEstimator\n",
        "from gluonts.mx.trainer import Trainer"
      ],
      "execution_count": 150,
      "outputs": []
    },
    {
      "cell_type": "code",
      "metadata": {
        "id": "pdmsiYrRwAer"
      },
      "source": [
        "estimator = SimpleFeedForwardEstimator(\n",
        "    num_hidden_dimensions=[10],\n",
        "    prediction_length=250,\n",
        "    context_length=50,\n",
        "    freq=\"2min\",\n",
        "    trainer=Trainer(ctx=\"cpu\", \n",
        "                    epochs=5, \n",
        "                    learning_rate=1e-3, \n",
        "                    num_batches_per_epoch=100\n",
        "                   )\n",
        ")"
      ],
      "execution_count": 151,
      "outputs": []
    },
    {
      "cell_type": "code",
      "metadata": {
        "colab": {
          "base_uri": "https://localhost:8080/"
        },
        "id": "NhL0nVskwAjS",
        "outputId": "b46b36fd-fcd4-4536-a1a0-4396f5fa53c0"
      },
      "source": [
        "predictor = estimator.train(train_data)"
      ],
      "execution_count": 152,
      "outputs": [
        {
          "output_type": "stream",
          "name": "stderr",
          "text": [
            "100%|██████████| 100/100 [00:01<00:00, 72.00it/s, epoch=1/5, avg_epoch_loss=1.02]\n",
            "100%|██████████| 100/100 [00:01<00:00, 75.09it/s, epoch=2/5, avg_epoch_loss=0.244]\n",
            "100%|██████████| 100/100 [00:01<00:00, 77.98it/s, epoch=3/5, avg_epoch_loss=0.0416]\n",
            "100%|██████████| 100/100 [00:01<00:00, 77.82it/s, epoch=4/5, avg_epoch_loss=-.0499]\n",
            "100%|██████████| 100/100 [00:01<00:00, 80.49it/s, epoch=5/5, avg_epoch_loss=-.108]\n"
          ]
        }
      ]
    },
    {
      "cell_type": "code",
      "metadata": {
        "id": "CASb7jv6_CEd"
      },
      "source": [
        "from gluonts.evaluation.backtest import make_evaluation_predictions"
      ],
      "execution_count": 153,
      "outputs": []
    },
    {
      "cell_type": "code",
      "metadata": {
        "id": "4BL7I1rL_CGo"
      },
      "source": [
        "forecast_it, ts_it = make_evaluation_predictions(\n",
        "    dataset=test_data,  # test dataset\n",
        "    predictor=predictor,  # predictor\n",
        "    num_samples=500,  # number of sample paths we want for evaluation 100\n",
        ")"
      ],
      "execution_count": 154,
      "outputs": []
    },
    {
      "cell_type": "code",
      "metadata": {
        "id": "DOjSmzsT_CJt"
      },
      "source": [
        "forecasts = list(forecast_it)\n",
        "tss = list(ts_it)"
      ],
      "execution_count": 155,
      "outputs": []
    },
    {
      "cell_type": "code",
      "metadata": {
        "id": "Mer7dfY1_CMZ"
      },
      "source": [
        "# first entry of the time series list\n",
        "ts_entry = tss[0]"
      ],
      "execution_count": 156,
      "outputs": []
    },
    {
      "cell_type": "code",
      "metadata": {
        "colab": {
          "base_uri": "https://localhost:8080/"
        },
        "id": "b-8-7Jfg_CO9",
        "outputId": "4db9d16f-2f33-4802-fd3d-06983b884de7"
      },
      "source": [
        "# first 5 values of the time series (convert from pandas to numpy)\n",
        "np.array(ts_entry[:5]).reshape(-1,)"
      ],
      "execution_count": 157,
      "outputs": [
        {
          "output_type": "execute_result",
          "data": {
            "text/plain": [
              "array([0., 0., 0., 0., 0.], dtype=float32)"
            ]
          },
          "metadata": {},
          "execution_count": 157
        }
      ]
    },
    {
      "cell_type": "code",
      "metadata": {
        "id": "QXz60jpG_CR6"
      },
      "source": [
        "# first entry of dataset.test\n",
        "dataset_test_entry = next(iter(test_data))"
      ],
      "execution_count": 158,
      "outputs": []
    },
    {
      "cell_type": "code",
      "metadata": {
        "colab": {
          "base_uri": "https://localhost:8080/"
        },
        "id": "tXHfQ2D4_CU0",
        "outputId": "29490430-eb41-46a2-c28a-f661cf8b241e"
      },
      "source": [
        "# first 5 values\n",
        "dataset_test_entry['target'][:5]"
      ],
      "execution_count": 159,
      "outputs": [
        {
          "output_type": "execute_result",
          "data": {
            "text/plain": [
              "array([0., 0., 0., 0., 0.], dtype=float32)"
            ]
          },
          "metadata": {},
          "execution_count": 159
        }
      ]
    },
    {
      "cell_type": "code",
      "metadata": {
        "id": "zqkSt771_CW-"
      },
      "source": [
        "# first entry of the forecast list\n",
        "forecast_entry = forecasts[0]"
      ],
      "execution_count": 160,
      "outputs": []
    },
    {
      "cell_type": "code",
      "metadata": {
        "colab": {
          "base_uri": "https://localhost:8080/"
        },
        "id": "wp5tTd8z_CZt",
        "outputId": "6880c25b-c4bf-4171-e94d-2ab50a8bc2b4"
      },
      "source": [
        "print(f\"Number of sample paths: {forecast_entry.num_samples}\")\n",
        "print(f\"Dimension of samples: {forecast_entry.samples.shape}\")\n",
        "print(f\"Start date of the forecast window: {forecast_entry.start_date}\")\n",
        "print(f\"Frequency of the time series: {forecast_entry.freq}\")"
      ],
      "execution_count": 161,
      "outputs": [
        {
          "output_type": "stream",
          "name": "stdout",
          "text": [
            "Number of sample paths: 500\n",
            "Dimension of samples: (500, 250)\n",
            "Start date of the forecast window: 1970-01-06 03:36:00\n",
            "Frequency of the time series: 2min\n"
          ]
        }
      ]
    },
    {
      "cell_type": "code",
      "metadata": {
        "colab": {
          "base_uri": "https://localhost:8080/"
        },
        "id": "GvKJYScF_CdO",
        "outputId": "f468cd36-c218-465c-8774-a4e6844d43fc"
      },
      "source": [
        "print(f\"Mean of the future window:\\n {forecast_entry.mean}\")\n",
        "print(f\"0.5-quantile (median) of the future window:\\n {forecast_entry.quantile(0.5)}\")"
      ],
      "execution_count": 162,
      "outputs": [
        {
          "output_type": "stream",
          "name": "stdout",
          "text": [
            "Mean of the future window:\n",
            " [2.4645255 2.5138514 2.452888  2.4764333 2.5458272 2.5730393 2.5307856\n",
            " 2.591933  2.5507865 2.5962543 2.617031  2.686604  2.8175547 2.6463876\n",
            " 2.6815    2.5979137 2.6372054 2.6211507 2.0144958 1.586007  1.5009648\n",
            " 1.2604976 1.3739811 1.4748108 1.4988928 1.5994289 1.544255  1.6770688\n",
            " 1.8073922 1.7360431 1.7912045 1.8248826 1.7650051 1.9879246 1.9709537\n",
            " 2.1110675 2.1627152 2.103154  2.1595578 2.2063088 2.293864  2.3818686\n",
            " 2.4374998 2.2000585 2.4902136 2.441131  2.4410746 2.5477846 2.4222643\n",
            " 2.5646873 2.4621048 2.4167907 2.5024827 2.639897  2.46269   2.4664304\n",
            " 2.5074213 2.4555125 2.4950593 2.36515   2.4520469 2.4471745 2.4535272\n",
            " 2.4922593 2.4902954 2.4353733 2.4569135 2.4015882 2.4830213 2.4504673\n",
            " 2.3617795 2.4896474 2.4746375 2.4122896 2.4344804 2.5021527 2.4635918\n",
            " 2.4779437 2.4322708 2.4963853 2.458997  2.5054219 2.5518456 2.5495515\n",
            " 2.5770984 2.597259  2.6613863 2.62445   2.6542585 2.6301694 2.6858091\n",
            " 2.6286428 2.6973794 2.6494484 2.5188036 1.9016559 1.55788   1.6319423\n",
            " 1.6964322 1.3843565 1.4671457 1.5498029 1.5439757 1.5948349 1.6842664\n",
            " 1.7969438 1.7266698 1.6559283 1.8096192 2.0045521 1.8861048 1.9644626\n",
            " 1.9857242 2.0516155 2.1242392 2.1453373 2.2254035 2.271381  2.27155\n",
            " 2.327395  2.305216  2.4427075 2.5566132 2.370903  2.468638  2.42747\n",
            " 2.4271746 2.4745688 2.4078767 2.4663417 2.4068227 2.431244  2.5167649\n",
            " 2.464408  2.5533643 2.4952834 2.4274156 2.4560406 2.4621887 2.4354897\n",
            " 2.4601672 2.4487934 2.4522116 2.51768   2.3961306 2.4470515 2.418524\n",
            " 2.442484  2.3982284 2.3317826 2.4264474 2.4613066 2.4274032 2.4101834\n",
            " 2.5030534 2.502387  2.5484324 2.4086494 2.5057106 2.5980322 2.6464548\n",
            " 2.5379803 2.7064474 2.616868  2.6159797 2.5909853 2.6399043 2.835608\n",
            " 2.6062396 2.7247481 2.6511705 2.6686416 2.269005  1.7827991 2.0607834\n",
            " 1.4279171 1.2664161 1.4142948 1.3939509 1.6911544 1.7618612 1.6733227\n",
            " 1.6385046 1.7661786 1.8257778 1.9356993 2.010645  1.8698785 1.9466635\n",
            " 1.9273267 2.1013973 2.1105764 2.191368  2.2209656 2.2965653 2.269352\n",
            " 2.4147525 2.4722993 2.4141521 2.365338  2.4600573 2.4952927 2.479328\n",
            " 2.4881527 2.5871556 2.54525   2.4700742 2.524311  2.4692006 2.5380816\n",
            " 2.5022821 2.4871588 2.525974  2.4833653 2.4570346 2.4957085 2.396715\n",
            " 2.5177255 2.4282196 2.4391353 2.4451694 2.439145  2.432342  2.3898754\n",
            " 2.445039  2.4200864 2.38127   2.4133654 2.4343345 2.3867517 2.4143815\n",
            " 2.3971026 2.4419315 2.3745518 2.4209363 2.4486558 2.5321257 2.5585504\n",
            " 2.5602906 2.6078231 2.5938625 2.5582824 2.7231917 2.710338  2.6122522\n",
            " 2.5954401 2.6167219 2.606363  2.6735494 2.4422407]\n",
            "0.5-quantile (median) of the future window:\n",
            " [2.4737928 2.517171  2.4588914 2.4826202 2.56154   2.5645745 2.5332246\n",
            " 2.577842  2.5587175 2.5798037 2.6339686 2.6918817 2.8170052 2.6876311\n",
            " 2.6692894 2.557727  2.603058  2.573594  2.0423152 1.593855  1.5381767\n",
            " 1.2364761 1.3299856 1.4880568 1.4959537 1.5791895 1.542981  1.6663437\n",
            " 1.8055686 1.7360388 1.7845904 1.8393595 1.7621387 1.9879135 1.9705555\n",
            " 2.1186686 2.1701553 2.0910106 2.1571195 2.2000093 2.3006961 2.388192\n",
            " 2.424303  2.1969888 2.4718308 2.43366   2.4363472 2.5444832 2.4214168\n",
            " 2.5543804 2.4672556 2.417736  2.5061538 2.6462195 2.4659412 2.4766417\n",
            " 2.5106764 2.4494436 2.5021427 2.3618536 2.450103  2.445291  2.4523373\n",
            " 2.4891562 2.4889946 2.4373784 2.4611669 2.4068885 2.4833806 2.44818\n",
            " 2.3629558 2.495738  2.4729292 2.4062629 2.436192  2.5037477 2.4569979\n",
            " 2.4785314 2.4307985 2.4891663 2.4629395 2.4976084 2.5386848 2.543803\n",
            " 2.5875838 2.5989969 2.6722777 2.6195042 2.657666  2.6278963 2.6791782\n",
            " 2.6371963 2.6634789 2.653779  2.5108945 1.8638413 1.5899361 1.6505456\n",
            " 1.6294152 1.3685453 1.464661  1.5263013 1.5808456 1.6010938 1.6648695\n",
            " 1.802138  1.7267413 1.7722124 1.811936  2.0172672 1.9155264 1.9646816\n",
            " 1.9817142 2.0501301 2.1352644 2.143915  2.2176695 2.2678964 2.2827148\n",
            " 2.3246384 2.307945  2.4389932 2.5429137 2.3601925 2.4666786 2.4414744\n",
            " 2.428464  2.4701385 2.4979782 2.461599  2.4069312 2.4356983 2.5156472\n",
            " 2.466481  2.5468118 2.494247  2.428431  2.4511425 2.4585953 2.4362216\n",
            " 2.462271  2.4440587 2.4556942 2.5025568 2.3984017 2.4492013 2.4189882\n",
            " 2.4281478 2.3983333 2.3277888 2.4284194 2.4604707 2.4189537 2.4108858\n",
            " 2.494328  2.4950247 2.546     2.4186945 2.5099897 2.5885193 2.6368818\n",
            " 2.5466554 2.7050889 2.6158512 2.594859  2.5890622 2.6639185 2.7715187\n",
            " 2.6272576 2.7185469 2.6760385 2.6206238 2.3285096 1.7507521 2.067785\n",
            " 1.4329427 1.2468417 1.4104586 1.417576  1.6892283 1.7553245 1.6724029\n",
            " 1.6318158 1.7648937 1.8192197 1.9469945 2.0107214 1.8763466 1.937626\n",
            " 1.9450762 2.0956476 2.1092477 2.1825535 2.2080088 2.2982554 2.2727675\n",
            " 2.4274158 2.4712436 2.4182222 2.3643315 2.4654207 2.5034082 2.4763143\n",
            " 2.4806578 2.5702941 2.5323591 2.471706  2.5186243 2.4753106 2.5499463\n",
            " 2.5071735 2.4905813 2.5369923 2.47779   2.4552104 2.4821362 2.398492\n",
            " 2.5200298 2.425278  2.439446  2.4458318 2.4336412 2.4286854 2.3886845\n",
            " 2.4457812 2.4086027 2.3844154 2.3968434 2.4460616 2.3740327 2.4121692\n",
            " 2.401376  2.4389145 2.368472  2.399378  2.4420989 2.5447853 2.555636\n",
            " 2.5559046 2.596984  2.5823715 2.559977  2.7298458 2.6876836 2.648275\n",
            " 2.5828834 2.6334176 2.625866  2.6711183 2.4785492]\n"
          ]
        }
      ]
    },
    {
      "cell_type": "code",
      "metadata": {
        "id": "l4hT4FX0_sBf"
      },
      "source": [
        "def plot_prob_forecasts(ts_entry, forecast_entry):\n",
        "    plot_length = 500\n",
        "    prediction_intervals = (50.0, 90.0)\n",
        "    legend = [\"observations\", \"median prediction\"] + [f\"{k}% prediction interval\" for k in prediction_intervals][::-1]\n",
        "\n",
        "    fig, ax = plt.subplots(1, 1, figsize=(10, 7))\n",
        "    ts_entry[-plot_length:].plot(ax=ax)  # plot the time series\n",
        "    forecast_entry.plot(prediction_intervals=prediction_intervals, color='g')\n",
        "    plt.grid(which=\"both\")\n",
        "    plt.ylim(0,3)\n",
        "    plt.legend(legend, loc=\"upper left\")\n",
        "    plt.savefig(\"fig3.pdf\",bbox_inches=\"tight\")\n",
        "    plt.show()"
      ],
      "execution_count": 163,
      "outputs": []
    },
    {
      "cell_type": "code",
      "metadata": {
        "colab": {
          "base_uri": "https://localhost:8080/",
          "height": 444
        },
        "id": "eGL634gS_sFB",
        "outputId": "aa7d1300-7c4d-42df-c24a-d456f1835fa9"
      },
      "source": [
        "plot_prob_forecasts(ts_entry, forecast_entry)"
      ],
      "execution_count": 164,
      "outputs": [
        {
          "output_type": "display_data",
          "data": {
            "image/png": "[encoded data removed]",
            "text/plain": [
              "<Figure size 720x504 with 1 Axes>"
            ]
          },
          "metadata": {
            "needs_background": "light"
          }
        }
      ]
    },
    {
      "cell_type": "code",
      "metadata": {
        "id": "ZNQ9VW-i_sIV"
      },
      "source": [
        "from gluonts.evaluation import Evaluator"
      ],
      "execution_count": 165,
      "outputs": []
    },
    {
      "cell_type": "code",
      "metadata": {
        "colab": {
          "base_uri": "https://localhost:8080/"
        },
        "id": "K8qjJvhC_sX6",
        "outputId": "5af177b0-9599-45fd-885d-f9c8f5125d76"
      },
      "source": [
        "evaluator = Evaluator(quantiles=[0.5,0.1,0.9])\n",
        "agg_metrics, item_metrics = evaluator(iter(tss), iter(forecasts), num_series=len(test_data))"
      ],
      "execution_count": 166,
      "outputs": [
        {
          "output_type": "stream",
          "name": "stderr",
          "text": [
            "Running evaluation: 100%|██████████| 1/1 [00:00<00:00, 30.17it/s]\n"
          ]
        }
      ]
    },
    {
      "cell_type": "code",
      "metadata": {
        "colab": {
          "base_uri": "https://localhost:8080/"
        },
        "id": "BGoIY9no_9k1",
        "outputId": "becaeb26-ee3d-42c6-bf36-415ada833937"
      },
      "source": [
        "print(json.dumps(agg_metrics, indent=4))"
      ],
      "execution_count": 167,
      "outputs": [
        {
          "output_type": "stream",
          "name": "stdout",
          "text": [
            "{\n",
            "    \"MSE\": 0.4667716064453125,\n",
            "    \"abs_error\": 78.39002990722656,\n",
            "    \"abs_target_sum\": 502.72332763671875,\n",
            "    \"abs_target_mean\": 2.010893310546875,\n",
            "    \"seasonal_error\": 0.5815916661437416,\n",
            "    \"MASE\": 0.5391413561820351,\n",
            "    \"MAPE\": 1.0011277465820312,\n",
            "    \"sMAPE\": 0.20351065063476562,\n",
            "    \"MSIS\": 7.912850405984144,\n",
            "    \"QuantileLoss[0.5]\": 78.39003098011017,\n",
            "    \"Coverage[0.5]\": 0.848,\n",
            "    \"QuantileLoss[0.1]\": 73.10035895705224,\n",
            "    \"Coverage[0.1]\": 0.256,\n",
            "    \"QuantileLoss[0.9]\": 26.884607732295983,\n",
            "    \"Coverage[0.9]\": 1.0,\n",
            "    \"RMSE\": 0.6832068547997103,\n",
            "    \"NRMSE\": 0.3397529104186576,\n",
            "    \"ND\": 0.15593075872515166,\n",
            "    \"wQuantileLoss[0.5]\": 0.15593076085929494,\n",
            "    \"wQuantileLoss[0.1]\": 0.14540872670598748,\n",
            "    \"wQuantileLoss[0.9]\": 0.05347793956305826,\n",
            "    \"mean_absolute_QuantileLoss\": 59.458332556486134,\n",
            "    \"mean_wQuantileLoss\": 0.11827247570944688,\n",
            "    \"MAE_Coverage\": 0.20133333333333334,\n",
            "    \"OWA\": NaN\n",
            "}\n"
          ]
        }
      ]
    },
    {
      "cell_type": "code",
      "metadata": {
        "colab": {
          "base_uri": "https://localhost:8080/",
          "height": 100
        },
        "id": "JnrPgobQ_9nq",
        "outputId": "c035fc44-2c5c-417a-9533-f78cd6dd8b3a"
      },
      "source": [
        "item_metrics"
      ],
      "execution_count": 168,
      "outputs": [
        {
          "output_type": "execute_result",
          "data": {
            "text/html": [
              "<div>\n",
              "<style scoped>\n",
              "    .dataframe tbody tr th:only-of-type {\n",
              "        vertical-align: middle;\n",
              "    }\n",
              "\n",
              "    .dataframe tbody tr th {\n",
              "        vertical-align: top;\n",
              "    }\n",
              "\n",
              "    .dataframe thead th {\n",
              "        text-align: right;\n",
              "    }\n",
              "</style>\n",
              "<table border=\"1\" class=\"dataframe\">\n",
              "  <thead>\n",
              "    <tr style=\"text-align: right;\">\n",
              "      <th></th>\n",
              "      <th>item_id</th>\n",
              "      <th>MSE</th>\n",
              "      <th>abs_error</th>\n",
              "      <th>abs_target_sum</th>\n",
              "      <th>abs_target_mean</th>\n",
              "      <th>seasonal_error</th>\n",
              "      <th>MASE</th>\n",
              "      <th>MAPE</th>\n",
              "      <th>sMAPE</th>\n",
              "      <th>MSIS</th>\n",
              "      <th>QuantileLoss[0.5]</th>\n",
              "      <th>Coverage[0.5]</th>\n",
              "      <th>QuantileLoss[0.1]</th>\n",
              "      <th>Coverage[0.1]</th>\n",
              "      <th>QuantileLoss[0.9]</th>\n",
              "      <th>Coverage[0.9]</th>\n",
              "    </tr>\n",
              "  </thead>\n",
              "  <tbody>\n",
              "    <tr>\n",
              "      <th>0</th>\n",
              "      <td>NaN</td>\n",
              "      <td>0.466772</td>\n",
              "      <td>78.39003</td>\n",
              "      <td>502.723328</td>\n",
              "      <td>2.010893</td>\n",
              "      <td>0.581592</td>\n",
              "      <td>0.539141</td>\n",
              "      <td>1.001128</td>\n",
              "      <td>0.203511</td>\n",
              "      <td>7.91285</td>\n",
              "      <td>78.390031</td>\n",
              "      <td>0.848</td>\n",
              "      <td>73.100359</td>\n",
              "      <td>0.256</td>\n",
              "      <td>26.884608</td>\n",
              "      <td>1.0</td>\n",
              "    </tr>\n",
              "  </tbody>\n",
              "</table>\n",
              "</div>"
            ],
            "text/plain": [
              "   item_id       MSE  ...  QuantileLoss[0.9]  Coverage[0.9]\n",
              "0      NaN  0.466772  ...          26.884608            1.0\n",
              "\n",
              "[1 rows x 16 columns]"
            ]
          },
          "metadata": {},
          "execution_count": 168
        }
      ]
    },
    {
      "cell_type": "code",
      "metadata": {
        "colab": {
          "base_uri": "https://localhost:8080/",
          "height": 279
        },
        "id": "sAIHZco0_9qU",
        "outputId": "dd53901d-582c-4ac9-b725-1753c27e82b7"
      },
      "source": [
        "item_metrics.plot(x='MSIS', y='MASE', kind='scatter')\n",
        "plt.grid(which=\"both\")\n",
        "plt.savefig(\"fig4.pdf\",bbox_inches=\"tight\")\n",
        "plt.show()"
      ],
      "execution_count": 169,
      "outputs": [
        {
          "output_type": "display_data",
          "data": {
            "image/png": "[encoded data removed]",
            "text/plain": [
              "<Figure size 432x288 with 1 Axes>"
            ]
          },
          "metadata": {
            "needs_background": "light"
          }
        }
      ]
    },
    {
      "cell_type": "code",
      "metadata": {
        "id": "Hvfrw7ym_9tz"
      },
      "source": [
        "# own forecast model"
      ],
      "execution_count": 170,
      "outputs": []
    },
    {
      "cell_type": "code",
      "metadata": {
        "id": "yV53Ow6SAIV1"
      },
      "source": [
        "class MyNetwork(gluon.HybridBlock):\n",
        "    def __init__(self, prediction_length, num_cells, **kwargs):\n",
        "        super().__init__(**kwargs)\n",
        "        self.prediction_length = prediction_length\n",
        "        self.num_cells = num_cells\n",
        "\n",
        "        with self.name_scope():\n",
        "            # Set up a 3 layer neural network that directly predicts the target values\n",
        "            self.nn = mx.gluon.nn.HybridSequential()\n",
        "            self.nn.add(mx.gluon.nn.Dense(units=820, activation='relu'))\n",
        "            self.nn.add(mx.gluon.nn.Dense(units=820, activation='relu'))\n",
        "            self.nn.add(mx.gluon.nn.Dense(units=self.prediction_length, activation='relu'))\n",
        "\n",
        "\n",
        "class MyTrainNetwork(MyNetwork):\n",
        "    def hybrid_forward(self, F, past_target, future_target):\n",
        "        prediction = self.nn(past_target)\n",
        "        # calculate L1 loss with the future_target to learn the median\n",
        "        return (prediction - future_target).abs().mean(axis=-1)\n",
        "\n",
        "\n",
        "class MyPredNetwork(MyTrainNetwork):\n",
        "    # The prediction network only receives past_target and returns predictions\n",
        "    def hybrid_forward(self, F, past_target):\n",
        "        prediction = self.nn(past_target)\n",
        "        return prediction.expand_dims(axis=1)"
      ],
      "execution_count": 171,
      "outputs": []
    },
    {
      "cell_type": "code",
      "metadata": {
        "id": "dDZyrrESAIYb"
      },
      "source": [
        "def plot_prob_forecasts_2(ts_entry, forecast_entry):\n",
        "    plot_length = 500\n",
        "    prediction_intervals = (50.0, 90.0)\n",
        "    legend = [\"observations\", \"median prediction\"] + [f\"{k}% prediction interval\" for k in prediction_intervals][::-1]\n",
        "\n",
        "    fig, ax = plt.subplots(1, 1, figsize=(10, 7))\n",
        "    ts_entry[-plot_length:].plot(ax=ax)  # plot the time series\n",
        "    forecast_entry.plot(prediction_intervals=prediction_intervals, color='g')\n",
        "    plt.grid(which=\"both\")\n",
        "    plt.ylim(0,3)\n",
        "    plt.legend(legend, loc=\"upper left\")\n",
        "    plt.savefig(\"fig5.pdf\",bbox_inches=\"tight\")\n",
        "    plt.show()"
      ],
      "execution_count": 172,
      "outputs": []
    },
    {
      "cell_type": "code",
      "metadata": {
        "id": "4TnPZh8UAIbe"
      },
      "source": [
        "from functools import partial\n",
        "from mxnet.gluon import HybridBlock\n",
        "from gluonts.core.component import validated\n",
        "from gluonts.dataset.loader import TrainDataLoader\n",
        "from gluonts.model.predictor import Predictor\n",
        "from gluonts.mx.batchify import as_in_context, batchify\n",
        "from gluonts.mx.model.estimator import GluonEstimator\n",
        "from gluonts.mx.model.predictor import RepresentableBlockPredictor\n",
        "from gluonts.mx.trainer import Trainer\n",
        "from gluonts.mx.util import copy_parameters, get_hybrid_forward_input_names\n",
        "from gluonts.transform import (\n",
        "    ExpectedNumInstanceSampler,\n",
        "    Transformation,\n",
        "    InstanceSplitter,\n",
        "    TestSplitSampler,\n",
        "    SelectFields,\n",
        "    Chain\n",
        ")"
      ],
      "execution_count": 173,
      "outputs": []
    },
    {
      "cell_type": "code",
      "metadata": {
        "id": "8XAQqNJpAId6"
      },
      "source": [
        "class MyEstimator(GluonEstimator):\n",
        "    @validated()\n",
        "    def __init__(\n",
        "        self,\n",
        "        prediction_length: int,\n",
        "        context_length: int,\n",
        "        freq: str,\n",
        "        num_cells: int,\n",
        "        batch_size: int = 32,\n",
        "        trainer: Trainer = Trainer()\n",
        "    ) -> None:\n",
        "        super().__init__(trainer=trainer, batch_size=batch_size)\n",
        "        self.prediction_length = prediction_length\n",
        "        self.context_length = context_length\n",
        "        self.freq = freq\n",
        "        self.num_cells = num_cells\n",
        "\n",
        "    def create_transformation(self):\n",
        "        return Chain([])\n",
        "\n",
        "    def create_training_data_loader(self, dataset, **kwargs):\n",
        "        instance_splitter = InstanceSplitter(\n",
        "            target_field=FieldName.TARGET,\n",
        "            is_pad_field=FieldName.IS_PAD,\n",
        "            start_field=FieldName.START,\n",
        "            forecast_start_field=FieldName.FORECAST_START,\n",
        "            instance_sampler=ExpectedNumInstanceSampler(\n",
        "                num_instances=1,\n",
        "                min_future=self.prediction_length\n",
        "            ),\n",
        "            past_length=self.context_length,\n",
        "            future_length=self.prediction_length,\n",
        "        )\n",
        "        input_names = get_hybrid_forward_input_names(MyTrainNetwork)\n",
        "        return TrainDataLoader(\n",
        "            dataset=dataset,\n",
        "            transform=instance_splitter + SelectFields(input_names),\n",
        "            batch_size=self.batch_size,\n",
        "            stack_fn=partial(batchify, ctx=self.trainer.ctx, dtype=self.dtype),\n",
        "            decode_fn=partial(as_in_context, ctx=self.trainer.ctx),\n",
        "            **kwargs,\n",
        "        )\n",
        "\n",
        "    def create_training_network(self) -> MyTrainNetwork:\n",
        "        return MyTrainNetwork(\n",
        "            prediction_length=self.prediction_length,\n",
        "            num_cells = self.num_cells\n",
        "        )\n",
        "\n",
        "    def create_predictor(\n",
        "        self, transformation: Transformation, trained_network: HybridBlock\n",
        "    ) -> Predictor:\n",
        "        prediction_splitter = InstanceSplitter(\n",
        "            target_field=FieldName.TARGET,\n",
        "            is_pad_field=FieldName.IS_PAD,\n",
        "            start_field=FieldName.START,\n",
        "            forecast_start_field=FieldName.FORECAST_START,\n",
        "            instance_sampler=TestSplitSampler(),\n",
        "            past_length=self.context_length,\n",
        "            future_length=self.prediction_length,\n",
        "        )\n",
        "\n",
        "        prediction_network = MyPredNetwork(\n",
        "            prediction_length=self.prediction_length,\n",
        "            num_cells=self.num_cells\n",
        "        )\n",
        "\n",
        "        copy_parameters(trained_network, prediction_network)\n",
        "\n",
        "        return RepresentableBlockPredictor(\n",
        "            input_transform=transformation + prediction_splitter,\n",
        "            prediction_net=prediction_network,\n",
        "            batch_size=self.trainer.batch_size,\n",
        "            freq=self.freq,\n",
        "            prediction_length=self.prediction_length,\n",
        "            ctx=self.trainer.ctx,\n",
        "        )"
      ],
      "execution_count": 176,
      "outputs": []
    },
    {
      "cell_type": "code",
      "metadata": {
        "id": "YLf6ySgo2iAg"
      },
      "source": [
        "\n",
        "# define the parameters of the dataset\n",
        "custom_ds_metadata = {\n",
        "    'num_series': 1,\n",
        "    'num_steps': 1901,\n",
        "    'prediction_length': 100,\n",
        "    'freq': '2min',\n",
        "    'start': [\n",
        "        pd.Timestamp(\"01-01-2019\", freq='2min')\n",
        "        for _ in range(100)\n",
        "    ]\n",
        "}"
      ],
      "execution_count": 175,
      "outputs": []
    },
    {
      "cell_type": "code",
      "metadata": {
        "id": "UMl3St3IAIia"
      },
      "source": [
        "estimator = MyEstimator(\n",
        "    prediction_length=250,     #custom_ds_metadata['prediction_length'],\n",
        "    context_length = custom_ds_metadata['prediction_length'],\n",
        "    freq=custom_ds_metadata['freq'],\n",
        "    num_cells=30, #40\n",
        "    trainer=Trainer(\n",
        "        ctx=\"cpu\",\n",
        "        epochs=5,\n",
        "        learning_rate=1e-2,\n",
        "        hybridize=False,\n",
        "        num_batches_per_epoch=2000\n",
        "    )\n",
        ")"
      ],
      "execution_count": 187,
      "outputs": []
    },
    {
      "cell_type": "code",
      "metadata": {
        "colab": {
          "base_uri": "https://localhost:8080/"
        },
        "id": "A1R6cBlx2vUv",
        "outputId": "86a98845-5d06-4ddd-cd5c-82afdeea2df3"
      },
      "source": [
        "from gluonts.dataset.field_names import FieldName\n",
        "[f\"FieldName.{k} = '{v}'\" for k, v in FieldName.__dict__.items() if not k.startswith('_')]"
      ],
      "execution_count": 188,
      "outputs": [
        {
          "output_type": "execute_result",
          "data": {
            "text/plain": [
              "[\"FieldName.ITEM_ID = 'item_id'\",\n",
              " \"FieldName.START = 'start'\",\n",
              " \"FieldName.TARGET = 'target'\",\n",
              " \"FieldName.FEAT_STATIC_CAT = 'feat_static_cat'\",\n",
              " \"FieldName.FEAT_STATIC_REAL = 'feat_static_real'\",\n",
              " \"FieldName.FEAT_DYNAMIC_CAT = 'feat_dynamic_cat'\",\n",
              " \"FieldName.FEAT_DYNAMIC_REAL = 'feat_dynamic_real'\",\n",
              " \"FieldName.PAST_FEAT_DYNAMIC_REAL = 'past_feat_dynamic_real'\",\n",
              " \"FieldName.FEAT_DYNAMIC_REAL_LEGACY = 'dynamic_feat'\",\n",
              " \"FieldName.FEAT_DYNAMIC = 'feat_dynamic'\",\n",
              " \"FieldName.PAST_FEAT_DYNAMIC = 'past_feat_dynamic'\",\n",
              " \"FieldName.FEAT_TIME = 'time_feat'\",\n",
              " \"FieldName.FEAT_CONST = 'feat_dynamic_const'\",\n",
              " \"FieldName.FEAT_AGE = 'feat_dynamic_age'\",\n",
              " \"FieldName.OBSERVED_VALUES = 'observed_values'\",\n",
              " \"FieldName.IS_PAD = 'is_pad'\",\n",
              " \"FieldName.FORECAST_START = 'forecast_start'\",\n",
              " \"FieldName.TARGET_DIM_INDICATOR = 'target_dimension_indicator'\"]"
            ]
          },
          "metadata": {},
          "execution_count": 188
        }
      ]
    },
    {
      "cell_type": "code",
      "metadata": {
        "colab": {
          "base_uri": "https://localhost:8080/"
        },
        "id": "O-V6TckVAIk8",
        "outputId": "57c6822f-723d-43fd-91eb-80362ee5bb2a"
      },
      "source": [
        "predictor = estimator.train(train_data)"
      ],
      "execution_count": 189,
      "outputs": [
        {
          "output_type": "stream",
          "name": "stderr",
          "text": [
            "100%|██████████| 2000/2000 [00:36<00:00, 55.49it/s, epoch=1/5, avg_epoch_loss=0.222]\n",
            "100%|██████████| 2000/2000 [00:50<00:00, 39.32it/s, epoch=2/5, avg_epoch_loss=0.145]\n",
            "100%|██████████| 2000/2000 [00:40<00:00, 49.87it/s, epoch=3/5, avg_epoch_loss=0.137]\n",
            "100%|██████████| 2000/2000 [02:36<00:00, 12.79it/s, epoch=4/5, avg_epoch_loss=0.127]\n",
            "100%|██████████| 2000/2000 [02:49<00:00, 11.82it/s, epoch=5/5, avg_epoch_loss=0.119]\n"
          ]
        }
      ]
    },
    {
      "cell_type": "code",
      "metadata": {
        "id": "bbt6sADcAInM"
      },
      "source": [
        "forecast_it, ts_it = make_evaluation_predictions(\n",
        "    dataset=test_data,  # test dataset\n",
        "    predictor=predictor,  # predictor\n",
        "    num_samples=100,  # number of sample paths we want for evaluation\n",
        ")"
      ],
      "execution_count": 190,
      "outputs": []
    },
    {
      "cell_type": "code",
      "metadata": {
        "id": "RBXpP0N8AIpx"
      },
      "source": [
        "forecasts = list(forecast_it)\n",
        "tss = list(ts_it)"
      ],
      "execution_count": 191,
      "outputs": []
    },
    {
      "cell_type": "code",
      "metadata": {
        "id": "dLvjeWV9AucS",
        "colab": {
          "base_uri": "https://localhost:8080/",
          "height": 444
        },
        "outputId": "336c3cfe-1c24-420d-e747-246ca64bd93d"
      },
      "source": [
        "plot_prob_forecasts_2(tss[0], forecasts[0])"
      ],
      "execution_count": 192,
      "outputs": [
        {
          "output_type": "display_data",
          "data": {
            "image/png": "[encoded data removed]",
            "text/plain": [
              "<Figure size 720x504 with 1 Axes>"
            ]
          },
          "metadata": {
            "needs_background": "light"
          }
        }
      ]
    },
    {
      "cell_type": "code",
      "metadata": {
        "id": "72mdTQhLAues",
        "colab": {
          "base_uri": "https://localhost:8080/"
        },
        "outputId": "7e3b431d-7beb-4205-c452-790e8a1258df"
      },
      "source": [
        "evaluator = Evaluator(quantiles=[0.1, 0.5, 0.9])\n",
        "agg_metrics, item_metrics = evaluator(iter(tss), iter(forecasts), num_series=len(test_data))"
      ],
      "execution_count": 193,
      "outputs": [
        {
          "output_type": "stream",
          "name": "stderr",
          "text": [
            "Running evaluation: 100%|██████████| 1/1 [00:00<00:00, 30.32it/s]\n"
          ]
        }
      ]
    },
    {
      "cell_type": "code",
      "metadata": {
        "id": "xDu1hSNuAuhc",
        "colab": {
          "base_uri": "https://localhost:8080/"
        },
        "outputId": "5824b95b-0eaa-49cf-aebc-33bf8eb12960"
      },
      "source": [
        "print(json.dumps(agg_metrics, indent=4))"
      ],
      "execution_count": 194,
      "outputs": [
        {
          "output_type": "stream",
          "name": "stdout",
          "text": [
            "{\n",
            "    \"MSE\": 0.311595703125,\n",
            "    \"abs_error\": 74.01651000976562,\n",
            "    \"abs_target_sum\": 502.72332763671875,\n",
            "    \"abs_target_mean\": 2.010893310546875,\n",
            "    \"seasonal_error\": 0.5815916661437416,\n",
            "    \"MASE\": 0.5090616961589838,\n",
            "    \"MAPE\": 0.280718017578125,\n",
            "    \"sMAPE\": 0.23633830261230468,\n",
            "    \"MSIS\": 20.36246784635935,\n",
            "    \"QuantileLoss[0.1]\": 63.96385942101478,\n",
            "    \"Coverage[0.1]\": 0.616,\n",
            "    \"QuantileLoss[0.5]\": 74.01650813221931,\n",
            "    \"Coverage[0.5]\": 0.616,\n",
            "    \"QuantileLoss[0.9]\": 84.06915684342385,\n",
            "    \"Coverage[0.9]\": 0.616,\n",
            "    \"RMSE\": 0.5582075806767587,\n",
            "    \"NRMSE\": 0.2775918432614163,\n",
            "    \"ND\": 0.14723110295620084,\n",
            "    \"wQuantileLoss[0.1]\": 0.12723471520946958,\n",
            "    \"wQuantileLoss[0.5]\": 0.1472310992214501,\n",
            "    \"wQuantileLoss[0.9]\": 0.16722748323343067,\n",
            "    \"mean_absolute_QuantileLoss\": 74.01650813221931,\n",
            "    \"mean_wQuantileLoss\": 0.1472310992214501,\n",
            "    \"MAE_Coverage\": 0.30533333333333335,\n",
            "    \"OWA\": NaN\n",
            "}\n"
          ]
        }
      ]
    },
    {
      "cell_type": "code",
      "metadata": {
        "id": "c7s2rVYUAujs",
        "colab": {
          "base_uri": "https://localhost:8080/",
          "height": 100
        },
        "outputId": "64e2ac4a-3da6-4cdb-e89d-743fb411b37f"
      },
      "source": [
        "item_metrics.head(10)"
      ],
      "execution_count": 195,
      "outputs": [
        {
          "output_type": "execute_result",
          "data": {
            "text/html": [
              "<div>\n",
              "<style scoped>\n",
              "    .dataframe tbody tr th:only-of-type {\n",
              "        vertical-align: middle;\n",
              "    }\n",
              "\n",
              "    .dataframe tbody tr th {\n",
              "        vertical-align: top;\n",
              "    }\n",
              "\n",
              "    .dataframe thead th {\n",
              "        text-align: right;\n",
              "    }\n",
              "</style>\n",
              "<table border=\"1\" class=\"dataframe\">\n",
              "  <thead>\n",
              "    <tr style=\"text-align: right;\">\n",
              "      <th></th>\n",
              "      <th>item_id</th>\n",
              "      <th>MSE</th>\n",
              "      <th>abs_error</th>\n",
              "      <th>abs_target_sum</th>\n",
              "      <th>abs_target_mean</th>\n",
              "      <th>seasonal_error</th>\n",
              "      <th>MASE</th>\n",
              "      <th>MAPE</th>\n",
              "      <th>sMAPE</th>\n",
              "      <th>MSIS</th>\n",
              "      <th>QuantileLoss[0.1]</th>\n",
              "      <th>Coverage[0.1]</th>\n",
              "      <th>QuantileLoss[0.5]</th>\n",
              "      <th>Coverage[0.5]</th>\n",
              "      <th>QuantileLoss[0.9]</th>\n",
              "      <th>Coverage[0.9]</th>\n",
              "    </tr>\n",
              "  </thead>\n",
              "  <tbody>\n",
              "    <tr>\n",
              "      <th>0</th>\n",
              "      <td>NaN</td>\n",
              "      <td>0.311596</td>\n",
              "      <td>74.01651</td>\n",
              "      <td>502.723328</td>\n",
              "      <td>2.010893</td>\n",
              "      <td>0.581592</td>\n",
              "      <td>0.509062</td>\n",
              "      <td>0.280718</td>\n",
              "      <td>0.236338</td>\n",
              "      <td>20.362468</td>\n",
              "      <td>63.963859</td>\n",
              "      <td>0.616</td>\n",
              "      <td>74.016508</td>\n",
              "      <td>0.616</td>\n",
              "      <td>84.069157</td>\n",
              "      <td>0.616</td>\n",
              "    </tr>\n",
              "  </tbody>\n",
              "</table>\n",
              "</div>"
            ],
            "text/plain": [
              "   item_id       MSE  ...  QuantileLoss[0.9]  Coverage[0.9]\n",
              "0      NaN  0.311596  ...          84.069157          0.616\n",
              "\n",
              "[1 rows x 16 columns]"
            ]
          },
          "metadata": {},
          "execution_count": 195
        }
      ]
    },
    {
      "cell_type": "code",
      "metadata": {
        "id": "cg92c0W3Aul7",
        "colab": {
          "base_uri": "https://localhost:8080/",
          "height": 279
        },
        "outputId": "29e46c5b-81c3-4c39-da54-48313b25b197"
      },
      "source": [
        "item_metrics.plot(x='MSIS', y='MASE', kind='scatter')\n",
        "plt.grid(which=\"both\")\n",
        "plt.savefig(\"fig6.pdf\",bbox_inches=\"tight\")\n",
        "plt.show()"
      ],
      "execution_count": 196,
      "outputs": [
        {
          "output_type": "display_data",
          "data": {
            "image/png": "[encoded data removed]",
            "text/plain": [
              "<Figure size 432x288 with 1 Axes>"
            ]
          },
          "metadata": {
            "needs_background": "light"
          }
        }
      ]
    }
  ]
}