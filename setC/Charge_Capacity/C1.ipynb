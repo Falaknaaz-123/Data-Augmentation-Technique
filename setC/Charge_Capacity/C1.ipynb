{
  "nbformat": 4,
  "nbformat_minor": 0,
  "metadata": {
    "colab": {
      "name": "Copy of Copy of Rawdata_82_1_Charge_Capacity_forecast.ipynb",
      "provenance": [],
      "collapsed_sections": []
    },
    "kernelspec": {
      "display_name": "Python 3",
      "name": "python3"
    }
  },
  "cells": [
    {
      "cell_type": "code",
      "metadata": {
        "colab": {
          "base_uri": "https://localhost:8080/"
        },
        "id": "BISkgn0jVdmk",
        "outputId": "df4c1cc9-507d-4253-d9b3-d0c04c297499"
      },
      "source": [
        "pip install --upgrade mxnet~=1.7 gluonts"
      ],
      "execution_count": 349,
      "outputs": [
        {
          "output_type": "stream",
          "name": "stdout",
          "text": [
            "Requirement already satisfied: mxnet~=1.7 in /usr/local/lib/python3.7/dist-packages (1.8.0.post0)\n",
            "Requirement already satisfied: gluonts in /usr/local/lib/python3.7/dist-packages (0.8.1)\n",
            "Requirement already satisfied: requests<3,>=2.20.0 in /usr/local/lib/python3.7/dist-packages (from mxnet~=1.7) (2.23.0)\n",
            "Requirement already satisfied: numpy<2.0.0,>1.16.0 in /usr/local/lib/python3.7/dist-packages (from mxnet~=1.7) (1.19.5)\n",
            "Requirement already satisfied: graphviz<0.9.0,>=0.8.1 in /usr/local/lib/python3.7/dist-packages (from mxnet~=1.7) (0.8.4)\n",
            "Requirement already satisfied: urllib3!=1.25.0,!=1.25.1,<1.26,>=1.21.1 in /usr/local/lib/python3.7/dist-packages (from requests<3,>=2.20.0->mxnet~=1.7) (1.24.3)\n",
            "Requirement already satisfied: chardet<4,>=3.0.2 in /usr/local/lib/python3.7/dist-packages (from requests<3,>=2.20.0->mxnet~=1.7) (3.0.4)\n",
            "Requirement already satisfied: certifi>=2017.4.17 in /usr/local/lib/python3.7/dist-packages (from requests<3,>=2.20.0->mxnet~=1.7) (2021.5.30)\n",
            "Requirement already satisfied: idna<3,>=2.5 in /usr/local/lib/python3.7/dist-packages (from requests<3,>=2.20.0->mxnet~=1.7) (2.10)\n",
            "Requirement already satisfied: typing-extensions~=3.10.0.0 in /usr/local/lib/python3.7/dist-packages (from gluonts) (3.10.0.2)\n",
            "Requirement already satisfied: pandas~=1.0 in /usr/local/lib/python3.7/dist-packages (from gluonts) (1.1.5)\n",
            "Requirement already satisfied: tqdm~=4.23 in /usr/local/lib/python3.7/dist-packages (from gluonts) (4.62.3)\n",
            "Requirement already satisfied: holidays>=0.9 in /usr/local/lib/python3.7/dist-packages (from gluonts) (0.10.5.2)\n",
            "Requirement already satisfied: pydantic~=1.1 in /usr/local/lib/python3.7/dist-packages (from gluonts) (1.8.2)\n",
            "Requirement already satisfied: toolz~=0.10 in /usr/local/lib/python3.7/dist-packages (from gluonts) (0.11.1)\n",
            "Requirement already satisfied: matplotlib~=3.0 in /usr/local/lib/python3.7/dist-packages (from gluonts) (3.2.2)\n",
            "Requirement already satisfied: korean-lunar-calendar in /usr/local/lib/python3.7/dist-packages (from holidays>=0.9->gluonts) (0.2.1)\n",
            "Requirement already satisfied: convertdate>=2.3.0 in /usr/local/lib/python3.7/dist-packages (from holidays>=0.9->gluonts) (2.3.2)\n",
            "Requirement already satisfied: six in /usr/local/lib/python3.7/dist-packages (from holidays>=0.9->gluonts) (1.15.0)\n",
            "Requirement already satisfied: python-dateutil in /usr/local/lib/python3.7/dist-packages (from holidays>=0.9->gluonts) (2.8.2)\n",
            "Requirement already satisfied: hijri-converter in /usr/local/lib/python3.7/dist-packages (from holidays>=0.9->gluonts) (2.2.1)\n",
            "Requirement already satisfied: pytz>=2014.10 in /usr/local/lib/python3.7/dist-packages (from convertdate>=2.3.0->holidays>=0.9->gluonts) (2018.9)\n",
            "Requirement already satisfied: pymeeus<=1,>=0.3.13 in /usr/local/lib/python3.7/dist-packages (from convertdate>=2.3.0->holidays>=0.9->gluonts) (0.5.11)\n",
            "Requirement already satisfied: cycler>=0.10 in /usr/local/lib/python3.7/dist-packages (from matplotlib~=3.0->gluonts) (0.10.0)\n",
            "Requirement already satisfied: pyparsing!=2.0.4,!=2.1.2,!=2.1.6,>=2.0.1 in /usr/local/lib/python3.7/dist-packages (from matplotlib~=3.0->gluonts) (2.4.7)\n",
            "Requirement already satisfied: kiwisolver>=1.0.1 in /usr/local/lib/python3.7/dist-packages (from matplotlib~=3.0->gluonts) (1.3.2)\n"
          ]
        }
      ]
    },
    {
      "cell_type": "code",
      "metadata": {
        "id": "Io5dASCrVoYO"
      },
      "source": [
        "# Third-party imports\n",
        "%matplotlib inline\n",
        "import mxnet as mx\n",
        "from mxnet import gluon\n",
        "import numpy as np\n",
        "import pandas as pd\n",
        "import matplotlib.pyplot as plt\n",
        "import json"
      ],
      "execution_count": 350,
      "outputs": []
    },
    {
      "cell_type": "code",
      "metadata": {
        "id": "JS2hNvrbVoa6"
      },
      "source": [
        "# gluon datasets\n",
        "from gluonts.dataset.repository.datasets import get_dataset, dataset_recipes\n",
        "from gluonts.dataset.util import to_pandas"
      ],
      "execution_count": 351,
      "outputs": []
    },
    {
      "cell_type": "code",
      "metadata": {
        "colab": {
          "base_uri": "https://localhost:8080/"
        },
        "id": "q-6chF-mVod2",
        "outputId": "bce3ab76-4660-48d5-ef9b-b99940af7a21"
      },
      "source": [
        "print(f\"Available datasets: {list(dataset_recipes.keys())}\")"
      ],
      "execution_count": 352,
      "outputs": [
        {
          "output_type": "stream",
          "name": "stdout",
          "text": [
            "Available datasets: ['constant', 'exchange_rate', 'solar-energy', 'electricity', 'traffic', 'exchange_rate_nips', 'electricity_nips', 'traffic_nips', 'solar_nips', 'wiki-rolling_nips', 'taxi_30min', 'kaggle_web_traffic_with_missing', 'kaggle_web_traffic_without_missing', 'kaggle_web_traffic_weekly', 'm1_yearly', 'm1_quarterly', 'm1_monthly', 'nn5_daily_with_missing', 'nn5_daily_without_missing', 'nn5_weekly', 'tourism_monthly', 'tourism_quarterly', 'tourism_yearly', 'm3_monthly', 'm3_quarterly', 'm3_yearly', 'm3_other', 'm4_hourly', 'm4_daily', 'm4_weekly', 'm4_monthly', 'm4_quarterly', 'm4_yearly', 'm5']\n"
          ]
        }
      ]
    },
    {
      "cell_type": "code",
      "metadata": {
        "colab": {
          "base_uri": "https://localhost:8080/"
        },
        "id": "3dl59DPWBspm",
        "outputId": "687c74ff-af8d-44c3-8303-166e75596710"
      },
      "source": [
        "pip install mxnet"
      ],
      "execution_count": 353,
      "outputs": [
        {
          "output_type": "stream",
          "name": "stdout",
          "text": [
            "Requirement already satisfied: mxnet in /usr/local/lib/python3.7/dist-packages (1.8.0.post0)\n",
            "Requirement already satisfied: numpy<2.0.0,>1.16.0 in /usr/local/lib/python3.7/dist-packages (from mxnet) (1.19.5)\n",
            "Requirement already satisfied: requests<3,>=2.20.0 in /usr/local/lib/python3.7/dist-packages (from mxnet) (2.23.0)\n",
            "Requirement already satisfied: graphviz<0.9.0,>=0.8.1 in /usr/local/lib/python3.7/dist-packages (from mxnet) (0.8.4)\n",
            "Requirement already satisfied: certifi>=2017.4.17 in /usr/local/lib/python3.7/dist-packages (from requests<3,>=2.20.0->mxnet) (2021.5.30)\n",
            "Requirement already satisfied: idna<3,>=2.5 in /usr/local/lib/python3.7/dist-packages (from requests<3,>=2.20.0->mxnet) (2.10)\n",
            "Requirement already satisfied: chardet<4,>=3.0.2 in /usr/local/lib/python3.7/dist-packages (from requests<3,>=2.20.0->mxnet) (3.0.4)\n",
            "Requirement already satisfied: urllib3!=1.25.0,!=1.25.1,<1.26,>=1.21.1 in /usr/local/lib/python3.7/dist-packages (from requests<3,>=2.20.0->mxnet) (1.24.3)\n"
          ]
        }
      ]
    },
    {
      "cell_type": "code",
      "metadata": {
        "id": "qjWGHZjhlWe4"
      },
      "source": [
        "dataset_nasa = pd.read_csv('DOE-551-600-10DU-01_3.csv')"
      ],
      "execution_count": 354,
      "outputs": []
    },
    {
      "cell_type": "code",
      "metadata": {
        "colab": {
          "base_uri": "https://localhost:8080/",
          "height": 437
        },
        "id": "SLR52rSMVomO",
        "outputId": "1d685d45-53e3-4b6f-819c-7e922a1609d7"
      },
      "source": [
        "dataset_nasa\n"
      ],
      "execution_count": 355,
      "outputs": [
        {
          "output_type": "execute_result",
          "data": {
            "text/html": [
              "<div>\n",
              "<style scoped>\n",
              "    .dataframe tbody tr th:only-of-type {\n",
              "        vertical-align: middle;\n",
              "    }\n",
              "\n",
              "    .dataframe tbody tr th {\n",
              "        vertical-align: top;\n",
              "    }\n",
              "\n",
              "    .dataframe thead th {\n",
              "        text-align: right;\n",
              "    }\n",
              "</style>\n",
              "<table border=\"1\" class=\"dataframe\">\n",
              "  <thead>\n",
              "    <tr style=\"text-align: right;\">\n",
              "      <th></th>\n",
              "      <th>index</th>\n",
              "      <th>Test_Time(s)</th>\n",
              "      <th>Step_Time(s)</th>\n",
              "      <th>Cycle_Index</th>\n",
              "      <th>Step_Index</th>\n",
              "      <th>Voltage</th>\n",
              "      <th>Test_Time(s).1</th>\n",
              "      <th>Step_Time(s).1</th>\n",
              "      <th>Cycle_Index.1</th>\n",
              "      <th>Step_Index.1</th>\n",
              "      <th>Current</th>\n",
              "      <th>Test_Time(s).2</th>\n",
              "      <th>Step_Time(s).2</th>\n",
              "      <th>Cycle_Index.2</th>\n",
              "      <th>Step_Index.2</th>\n",
              "      <th>Charge_Capacity</th>\n",
              "      <th>Test_Time(s).3</th>\n",
              "      <th>Step_Time(s).3</th>\n",
              "      <th>Cycle_Index.3</th>\n",
              "      <th>Step_Index.3</th>\n",
              "      <th>Discharge_Capacity</th>\n",
              "    </tr>\n",
              "  </thead>\n",
              "  <tbody>\n",
              "    <tr>\n",
              "      <th>0</th>\n",
              "      <td>0</td>\n",
              "      <td>120.004600</td>\n",
              "      <td>120.0046</td>\n",
              "      <td>1</td>\n",
              "      <td>1</td>\n",
              "      <td>3.564834</td>\n",
              "      <td>120.004600</td>\n",
              "      <td>120.0046</td>\n",
              "      <td>1</td>\n",
              "      <td>1</td>\n",
              "      <td>0.000000</td>\n",
              "      <td>120.004600</td>\n",
              "      <td>120.0046</td>\n",
              "      <td>1</td>\n",
              "      <td>1</td>\n",
              "      <td>0.000000</td>\n",
              "      <td>120.004600</td>\n",
              "      <td>120.0046</td>\n",
              "      <td>1</td>\n",
              "      <td>1</td>\n",
              "      <td>0.000000</td>\n",
              "    </tr>\n",
              "    <tr>\n",
              "      <th>1</th>\n",
              "      <td>1</td>\n",
              "      <td>240.000200</td>\n",
              "      <td>240.0002</td>\n",
              "      <td>1</td>\n",
              "      <td>1</td>\n",
              "      <td>3.564931</td>\n",
              "      <td>240.000200</td>\n",
              "      <td>240.0002</td>\n",
              "      <td>1</td>\n",
              "      <td>1</td>\n",
              "      <td>0.000000</td>\n",
              "      <td>240.000200</td>\n",
              "      <td>240.0002</td>\n",
              "      <td>1</td>\n",
              "      <td>1</td>\n",
              "      <td>0.000000</td>\n",
              "      <td>240.000200</td>\n",
              "      <td>240.0002</td>\n",
              "      <td>1</td>\n",
              "      <td>1</td>\n",
              "      <td>0.000000</td>\n",
              "    </tr>\n",
              "    <tr>\n",
              "      <th>2</th>\n",
              "      <td>2</td>\n",
              "      <td>360.000700</td>\n",
              "      <td>360.0007</td>\n",
              "      <td>1</td>\n",
              "      <td>1</td>\n",
              "      <td>3.566616</td>\n",
              "      <td>360.000700</td>\n",
              "      <td>360.0007</td>\n",
              "      <td>1</td>\n",
              "      <td>1</td>\n",
              "      <td>0.000000</td>\n",
              "      <td>360.000700</td>\n",
              "      <td>360.0007</td>\n",
              "      <td>1</td>\n",
              "      <td>1</td>\n",
              "      <td>0.000000</td>\n",
              "      <td>360.000700</td>\n",
              "      <td>360.0007</td>\n",
              "      <td>1</td>\n",
              "      <td>1</td>\n",
              "      <td>0.000000</td>\n",
              "    </tr>\n",
              "    <tr>\n",
              "      <th>3</th>\n",
              "      <td>3</td>\n",
              "      <td>480.001900</td>\n",
              "      <td>480.0019</td>\n",
              "      <td>1</td>\n",
              "      <td>1</td>\n",
              "      <td>3.568211</td>\n",
              "      <td>480.001900</td>\n",
              "      <td>480.0019</td>\n",
              "      <td>1</td>\n",
              "      <td>1</td>\n",
              "      <td>0.000000</td>\n",
              "      <td>480.001900</td>\n",
              "      <td>480.0019</td>\n",
              "      <td>1</td>\n",
              "      <td>1</td>\n",
              "      <td>0.000000</td>\n",
              "      <td>480.001900</td>\n",
              "      <td>480.0019</td>\n",
              "      <td>1</td>\n",
              "      <td>1</td>\n",
              "      <td>0.000000</td>\n",
              "    </tr>\n",
              "    <tr>\n",
              "      <th>4</th>\n",
              "      <td>4</td>\n",
              "      <td>600.003300</td>\n",
              "      <td>600.0033</td>\n",
              "      <td>1</td>\n",
              "      <td>1</td>\n",
              "      <td>3.569142</td>\n",
              "      <td>600.003300</td>\n",
              "      <td>600.0033</td>\n",
              "      <td>1</td>\n",
              "      <td>1</td>\n",
              "      <td>0.000000</td>\n",
              "      <td>600.003300</td>\n",
              "      <td>600.0033</td>\n",
              "      <td>1</td>\n",
              "      <td>1</td>\n",
              "      <td>0.000000</td>\n",
              "      <td>600.003300</td>\n",
              "      <td>600.0033</td>\n",
              "      <td>1</td>\n",
              "      <td>1</td>\n",
              "      <td>0.000000</td>\n",
              "    </tr>\n",
              "    <tr>\n",
              "      <th>...</th>\n",
              "      <td>...</td>\n",
              "      <td>...</td>\n",
              "      <td>...</td>\n",
              "      <td>...</td>\n",
              "      <td>...</td>\n",
              "      <td>...</td>\n",
              "      <td>...</td>\n",
              "      <td>...</td>\n",
              "      <td>...</td>\n",
              "      <td>...</td>\n",
              "      <td>...</td>\n",
              "      <td>...</td>\n",
              "      <td>...</td>\n",
              "      <td>...</td>\n",
              "      <td>...</td>\n",
              "      <td>...</td>\n",
              "      <td>...</td>\n",
              "      <td>...</td>\n",
              "      <td>...</td>\n",
              "      <td>...</td>\n",
              "      <td>...</td>\n",
              "    </tr>\n",
              "    <tr>\n",
              "      <th>3905</th>\n",
              "      <td>3905</td>\n",
              "      <td>455650.938480</td>\n",
              "      <td>3828.2245</td>\n",
              "      <td>50</td>\n",
              "      <td>5</td>\n",
              "      <td>2.999979</td>\n",
              "      <td>455650.938480</td>\n",
              "      <td>3828.2245</td>\n",
              "      <td>50</td>\n",
              "      <td>5</td>\n",
              "      <td>-2.282017</td>\n",
              "      <td>455650.938480</td>\n",
              "      <td>3828.2245</td>\n",
              "      <td>50</td>\n",
              "      <td>5</td>\n",
              "      <td>2.428658</td>\n",
              "      <td>455650.938480</td>\n",
              "      <td>3828.2245</td>\n",
              "      <td>50</td>\n",
              "      <td>5</td>\n",
              "      <td>2.426762</td>\n",
              "    </tr>\n",
              "    <tr>\n",
              "      <th>3906</th>\n",
              "      <td>3906</td>\n",
              "      <td>455771.101924</td>\n",
              "      <td>120.0040</td>\n",
              "      <td>50</td>\n",
              "      <td>6</td>\n",
              "      <td>3.621850</td>\n",
              "      <td>455771.101924</td>\n",
              "      <td>120.0040</td>\n",
              "      <td>50</td>\n",
              "      <td>6</td>\n",
              "      <td>0.000000</td>\n",
              "      <td>455771.101924</td>\n",
              "      <td>120.0040</td>\n",
              "      <td>50</td>\n",
              "      <td>6</td>\n",
              "      <td>2.428658</td>\n",
              "      <td>455771.101924</td>\n",
              "      <td>120.0040</td>\n",
              "      <td>50</td>\n",
              "      <td>6</td>\n",
              "      <td>2.426808</td>\n",
              "    </tr>\n",
              "    <tr>\n",
              "      <th>3907</th>\n",
              "      <td>3907</td>\n",
              "      <td>455891.102624</td>\n",
              "      <td>240.0047</td>\n",
              "      <td>50</td>\n",
              "      <td>6</td>\n",
              "      <td>3.654560</td>\n",
              "      <td>455891.102624</td>\n",
              "      <td>240.0047</td>\n",
              "      <td>50</td>\n",
              "      <td>6</td>\n",
              "      <td>0.000000</td>\n",
              "      <td>455891.102624</td>\n",
              "      <td>240.0047</td>\n",
              "      <td>50</td>\n",
              "      <td>6</td>\n",
              "      <td>2.428658</td>\n",
              "      <td>455891.102624</td>\n",
              "      <td>240.0047</td>\n",
              "      <td>50</td>\n",
              "      <td>6</td>\n",
              "      <td>2.426808</td>\n",
              "    </tr>\n",
              "    <tr>\n",
              "      <th>3908</th>\n",
              "      <td>3908</td>\n",
              "      <td>455951.100824</td>\n",
              "      <td>300.0029</td>\n",
              "      <td>50</td>\n",
              "      <td>6</td>\n",
              "      <td>3.662353</td>\n",
              "      <td>455951.100824</td>\n",
              "      <td>300.0029</td>\n",
              "      <td>50</td>\n",
              "      <td>6</td>\n",
              "      <td>0.000000</td>\n",
              "      <td>455951.100824</td>\n",
              "      <td>300.0029</td>\n",
              "      <td>50</td>\n",
              "      <td>6</td>\n",
              "      <td>2.428658</td>\n",
              "      <td>455951.100824</td>\n",
              "      <td>300.0029</td>\n",
              "      <td>50</td>\n",
              "      <td>6</td>\n",
              "      <td>2.426808</td>\n",
              "    </tr>\n",
              "    <tr>\n",
              "      <th>3909</th>\n",
              "      <td>3909</td>\n",
              "      <td>456026.897068</td>\n",
              "      <td>75.7099</td>\n",
              "      <td>51</td>\n",
              "      <td>8</td>\n",
              "      <td>4.200005</td>\n",
              "      <td>456026.897068</td>\n",
              "      <td>75.7099</td>\n",
              "      <td>51</td>\n",
              "      <td>8</td>\n",
              "      <td>3.260038</td>\n",
              "      <td>456026.897068</td>\n",
              "      <td>75.7099</td>\n",
              "      <td>51</td>\n",
              "      <td>8</td>\n",
              "      <td>0.068560</td>\n",
              "      <td>456026.897068</td>\n",
              "      <td>75.7099</td>\n",
              "      <td>51</td>\n",
              "      <td>8</td>\n",
              "      <td>0.000000</td>\n",
              "    </tr>\n",
              "  </tbody>\n",
              "</table>\n",
              "<p>3910 rows × 21 columns</p>\n",
              "</div>"
            ],
            "text/plain": [
              "      index   Test_Time(s)  ...  Step_Index.3  Discharge_Capacity\n",
              "0         0     120.004600  ...             1            0.000000\n",
              "1         1     240.000200  ...             1            0.000000\n",
              "2         2     360.000700  ...             1            0.000000\n",
              "3         3     480.001900  ...             1            0.000000\n",
              "4         4     600.003300  ...             1            0.000000\n",
              "...     ...            ...  ...           ...                 ...\n",
              "3905   3905  455650.938480  ...             5            2.426762\n",
              "3906   3906  455771.101924  ...             6            2.426808\n",
              "3907   3907  455891.102624  ...             6            2.426808\n",
              "3908   3908  455951.100824  ...             6            2.426808\n",
              "3909   3909  456026.897068  ...             8            0.000000\n",
              "\n",
              "[3910 rows x 21 columns]"
            ]
          },
          "metadata": {},
          "execution_count": 355
        }
      ]
    },
    {
      "cell_type": "code",
      "metadata": {
        "id": "wwAaq-AO4AKS"
      },
      "source": [
        "df = pd.DataFrame(dataset_nasa)\n",
        "cols = [0,15]\n",
        "df = df[df.columns[cols]]"
      ],
      "execution_count": 356,
      "outputs": []
    },
    {
      "cell_type": "code",
      "metadata": {
        "colab": {
          "base_uri": "https://localhost:8080/",
          "height": 417
        },
        "id": "4ss0ApIz4AWr",
        "outputId": "aa3079f4-2fcd-4685-ff03-dae0871a71f5"
      },
      "source": [
        "df"
      ],
      "execution_count": 357,
      "outputs": [
        {
          "output_type": "execute_result",
          "data": {
            "text/html": [
              "<div>\n",
              "<style scoped>\n",
              "    .dataframe tbody tr th:only-of-type {\n",
              "        vertical-align: middle;\n",
              "    }\n",
              "\n",
              "    .dataframe tbody tr th {\n",
              "        vertical-align: top;\n",
              "    }\n",
              "\n",
              "    .dataframe thead th {\n",
              "        text-align: right;\n",
              "    }\n",
              "</style>\n",
              "<table border=\"1\" class=\"dataframe\">\n",
              "  <thead>\n",
              "    <tr style=\"text-align: right;\">\n",
              "      <th></th>\n",
              "      <th>index</th>\n",
              "      <th>Charge_Capacity</th>\n",
              "    </tr>\n",
              "  </thead>\n",
              "  <tbody>\n",
              "    <tr>\n",
              "      <th>0</th>\n",
              "      <td>0</td>\n",
              "      <td>0.000000</td>\n",
              "    </tr>\n",
              "    <tr>\n",
              "      <th>1</th>\n",
              "      <td>1</td>\n",
              "      <td>0.000000</td>\n",
              "    </tr>\n",
              "    <tr>\n",
              "      <th>2</th>\n",
              "      <td>2</td>\n",
              "      <td>0.000000</td>\n",
              "    </tr>\n",
              "    <tr>\n",
              "      <th>3</th>\n",
              "      <td>3</td>\n",
              "      <td>0.000000</td>\n",
              "    </tr>\n",
              "    <tr>\n",
              "      <th>4</th>\n",
              "      <td>4</td>\n",
              "      <td>0.000000</td>\n",
              "    </tr>\n",
              "    <tr>\n",
              "      <th>...</th>\n",
              "      <td>...</td>\n",
              "      <td>...</td>\n",
              "    </tr>\n",
              "    <tr>\n",
              "      <th>3905</th>\n",
              "      <td>3905</td>\n",
              "      <td>2.428658</td>\n",
              "    </tr>\n",
              "    <tr>\n",
              "      <th>3906</th>\n",
              "      <td>3906</td>\n",
              "      <td>2.428658</td>\n",
              "    </tr>\n",
              "    <tr>\n",
              "      <th>3907</th>\n",
              "      <td>3907</td>\n",
              "      <td>2.428658</td>\n",
              "    </tr>\n",
              "    <tr>\n",
              "      <th>3908</th>\n",
              "      <td>3908</td>\n",
              "      <td>2.428658</td>\n",
              "    </tr>\n",
              "    <tr>\n",
              "      <th>3909</th>\n",
              "      <td>3909</td>\n",
              "      <td>0.068560</td>\n",
              "    </tr>\n",
              "  </tbody>\n",
              "</table>\n",
              "<p>3910 rows × 2 columns</p>\n",
              "</div>"
            ],
            "text/plain": [
              "      index  Charge_Capacity\n",
              "0         0         0.000000\n",
              "1         1         0.000000\n",
              "2         2         0.000000\n",
              "3         3         0.000000\n",
              "4         4         0.000000\n",
              "...     ...              ...\n",
              "3905   3905         2.428658\n",
              "3906   3906         2.428658\n",
              "3907   3907         2.428658\n",
              "3908   3908         2.428658\n",
              "3909   3909         0.068560\n",
              "\n",
              "[3910 rows x 2 columns]"
            ]
          },
          "metadata": {},
          "execution_count": 357
        }
      ]
    },
    {
      "cell_type": "code",
      "metadata": {
        "id": "T807dGEGdGOF"
      },
      "source": [
        "df1 = df.to_numpy()"
      ],
      "execution_count": 358,
      "outputs": []
    },
    {
      "cell_type": "code",
      "metadata": {
        "id": "LODZWZeYkh2n"
      },
      "source": [
        "train_size = int(len(df1)*0.8)\n",
        "test_size = len(df1) - train_size\n",
        "train = df1[1:train_size,:]\n",
        "test = df1[train_size:len(df1)]"
      ],
      "execution_count": 359,
      "outputs": []
    },
    {
      "cell_type": "code",
      "metadata": {
        "colab": {
          "base_uri": "https://localhost:8080/"
        },
        "id": "AWeTV_6qgxIV",
        "outputId": "6fbf72dc-9137-4d1a-9179-85370d96184d"
      },
      "source": [
        "train_size"
      ],
      "execution_count": 360,
      "outputs": [
        {
          "output_type": "execute_result",
          "data": {
            "text/plain": [
              "3128"
            ]
          },
          "metadata": {},
          "execution_count": 360
        }
      ]
    },
    {
      "cell_type": "code",
      "metadata": {
        "id": "KeMJFvQ0U3Z6"
      },
      "source": [
        "train_set = pd.DataFrame(train)"
      ],
      "execution_count": 361,
      "outputs": []
    },
    {
      "cell_type": "code",
      "metadata": {
        "colab": {
          "base_uri": "https://localhost:8080/",
          "height": 417
        },
        "id": "WETL8vj3d6zz",
        "outputId": "1c2678bd-9362-484c-cbe4-ed79fe0c5823"
      },
      "source": [
        "train_set"
      ],
      "execution_count": 362,
      "outputs": [
        {
          "output_type": "execute_result",
          "data": {
            "text/html": [
              "<div>\n",
              "<style scoped>\n",
              "    .dataframe tbody tr th:only-of-type {\n",
              "        vertical-align: middle;\n",
              "    }\n",
              "\n",
              "    .dataframe tbody tr th {\n",
              "        vertical-align: top;\n",
              "    }\n",
              "\n",
              "    .dataframe thead th {\n",
              "        text-align: right;\n",
              "    }\n",
              "</style>\n",
              "<table border=\"1\" class=\"dataframe\">\n",
              "  <thead>\n",
              "    <tr style=\"text-align: right;\">\n",
              "      <th></th>\n",
              "      <th>0</th>\n",
              "      <th>1</th>\n",
              "    </tr>\n",
              "  </thead>\n",
              "  <tbody>\n",
              "    <tr>\n",
              "      <th>0</th>\n",
              "      <td>1.0</td>\n",
              "      <td>0.000000</td>\n",
              "    </tr>\n",
              "    <tr>\n",
              "      <th>1</th>\n",
              "      <td>2.0</td>\n",
              "      <td>0.000000</td>\n",
              "    </tr>\n",
              "    <tr>\n",
              "      <th>2</th>\n",
              "      <td>3.0</td>\n",
              "      <td>0.000000</td>\n",
              "    </tr>\n",
              "    <tr>\n",
              "      <th>3</th>\n",
              "      <td>4.0</td>\n",
              "      <td>0.000000</td>\n",
              "    </tr>\n",
              "    <tr>\n",
              "      <th>4</th>\n",
              "      <td>5.0</td>\n",
              "      <td>0.000000</td>\n",
              "    </tr>\n",
              "    <tr>\n",
              "      <th>...</th>\n",
              "      <td>...</td>\n",
              "      <td>...</td>\n",
              "    </tr>\n",
              "    <tr>\n",
              "      <th>3122</th>\n",
              "      <td>3123.0</td>\n",
              "      <td>2.428921</td>\n",
              "    </tr>\n",
              "    <tr>\n",
              "      <th>3123</th>\n",
              "      <td>3124.0</td>\n",
              "      <td>2.428921</td>\n",
              "    </tr>\n",
              "    <tr>\n",
              "      <th>3124</th>\n",
              "      <td>3125.0</td>\n",
              "      <td>2.428921</td>\n",
              "    </tr>\n",
              "    <tr>\n",
              "      <th>3125</th>\n",
              "      <td>3126.0</td>\n",
              "      <td>2.428921</td>\n",
              "    </tr>\n",
              "    <tr>\n",
              "      <th>3126</th>\n",
              "      <td>3127.0</td>\n",
              "      <td>2.428921</td>\n",
              "    </tr>\n",
              "  </tbody>\n",
              "</table>\n",
              "<p>3127 rows × 2 columns</p>\n",
              "</div>"
            ],
            "text/plain": [
              "           0         1\n",
              "0        1.0  0.000000\n",
              "1        2.0  0.000000\n",
              "2        3.0  0.000000\n",
              "3        4.0  0.000000\n",
              "4        5.0  0.000000\n",
              "...      ...       ...\n",
              "3122  3123.0  2.428921\n",
              "3123  3124.0  2.428921\n",
              "3124  3125.0  2.428921\n",
              "3125  3126.0  2.428921\n",
              "3126  3127.0  2.428921\n",
              "\n",
              "[3127 rows x 2 columns]"
            ]
          },
          "metadata": {},
          "execution_count": 362
        }
      ]
    },
    {
      "cell_type": "code",
      "metadata": {
        "id": "5g-dEeBseFAS"
      },
      "source": [
        "test_set = pd.DataFrame(test)"
      ],
      "execution_count": 363,
      "outputs": []
    },
    {
      "cell_type": "code",
      "metadata": {
        "colab": {
          "base_uri": "https://localhost:8080/",
          "height": 417
        },
        "id": "T3rDI_yxeKmE",
        "outputId": "b3a8aca3-04a5-48d7-eb67-7042beefda42"
      },
      "source": [
        "test_set"
      ],
      "execution_count": 364,
      "outputs": [
        {
          "output_type": "execute_result",
          "data": {
            "text/html": [
              "<div>\n",
              "<style scoped>\n",
              "    .dataframe tbody tr th:only-of-type {\n",
              "        vertical-align: middle;\n",
              "    }\n",
              "\n",
              "    .dataframe tbody tr th {\n",
              "        vertical-align: top;\n",
              "    }\n",
              "\n",
              "    .dataframe thead th {\n",
              "        text-align: right;\n",
              "    }\n",
              "</style>\n",
              "<table border=\"1\" class=\"dataframe\">\n",
              "  <thead>\n",
              "    <tr style=\"text-align: right;\">\n",
              "      <th></th>\n",
              "      <th>0</th>\n",
              "      <th>1</th>\n",
              "    </tr>\n",
              "  </thead>\n",
              "  <tbody>\n",
              "    <tr>\n",
              "      <th>0</th>\n",
              "      <td>3128.0</td>\n",
              "      <td>2.428921</td>\n",
              "    </tr>\n",
              "    <tr>\n",
              "      <th>1</th>\n",
              "      <td>3129.0</td>\n",
              "      <td>0.070887</td>\n",
              "    </tr>\n",
              "    <tr>\n",
              "      <th>2</th>\n",
              "      <td>3130.0</td>\n",
              "      <td>0.179305</td>\n",
              "    </tr>\n",
              "    <tr>\n",
              "      <th>3</th>\n",
              "      <td>3131.0</td>\n",
              "      <td>0.287974</td>\n",
              "    </tr>\n",
              "    <tr>\n",
              "      <th>4</th>\n",
              "      <td>3132.0</td>\n",
              "      <td>0.396636</td>\n",
              "    </tr>\n",
              "    <tr>\n",
              "      <th>...</th>\n",
              "      <td>...</td>\n",
              "      <td>...</td>\n",
              "    </tr>\n",
              "    <tr>\n",
              "      <th>777</th>\n",
              "      <td>3905.0</td>\n",
              "      <td>2.428658</td>\n",
              "    </tr>\n",
              "    <tr>\n",
              "      <th>778</th>\n",
              "      <td>3906.0</td>\n",
              "      <td>2.428658</td>\n",
              "    </tr>\n",
              "    <tr>\n",
              "      <th>779</th>\n",
              "      <td>3907.0</td>\n",
              "      <td>2.428658</td>\n",
              "    </tr>\n",
              "    <tr>\n",
              "      <th>780</th>\n",
              "      <td>3908.0</td>\n",
              "      <td>2.428658</td>\n",
              "    </tr>\n",
              "    <tr>\n",
              "      <th>781</th>\n",
              "      <td>3909.0</td>\n",
              "      <td>0.068560</td>\n",
              "    </tr>\n",
              "  </tbody>\n",
              "</table>\n",
              "<p>782 rows × 2 columns</p>\n",
              "</div>"
            ],
            "text/plain": [
              "          0         1\n",
              "0    3128.0  2.428921\n",
              "1    3129.0  0.070887\n",
              "2    3130.0  0.179305\n",
              "3    3131.0  0.287974\n",
              "4    3132.0  0.396636\n",
              "..      ...       ...\n",
              "777  3905.0  2.428658\n",
              "778  3906.0  2.428658\n",
              "779  3907.0  2.428658\n",
              "780  3908.0  2.428658\n",
              "781  3909.0  0.068560\n",
              "\n",
              "[782 rows x 2 columns]"
            ]
          },
          "metadata": {},
          "execution_count": 364
        }
      ]
    },
    {
      "cell_type": "code",
      "metadata": {
        "colab": {
          "base_uri": "https://localhost:8080/"
        },
        "id": "f1the1T5EOmc",
        "outputId": "c00d9ef5-8416-45d7-a402-fbc3236149fa"
      },
      "source": [
        "df.columns"
      ],
      "execution_count": 365,
      "outputs": [
        {
          "output_type": "execute_result",
          "data": {
            "text/plain": [
              "Index(['index', 'Charge_Capacity'], dtype='object')"
            ]
          },
          "metadata": {},
          "execution_count": 365
        }
      ]
    },
    {
      "cell_type": "code",
      "metadata": {
        "id": "0_YxlE0XdCjP"
      },
      "source": [
        "df_input = df[['index','Charge_Capacity']]"
      ],
      "execution_count": 366,
      "outputs": []
    },
    {
      "cell_type": "code",
      "metadata": {
        "id": "Dlc4FnMDdCn0"
      },
      "source": [
        "df_input = df_input.set_index('index')"
      ],
      "execution_count": 367,
      "outputs": []
    },
    {
      "cell_type": "code",
      "metadata": {
        "id": "sIOGFPUXfl8N"
      },
      "source": [
        "train_time = 949\n",
        "prediction_length = 949\n",
        "freq = \"2min\""
      ],
      "execution_count": 368,
      "outputs": []
    },
    {
      "cell_type": "code",
      "metadata": {
        "id": "bIOdz6aNfl_E"
      },
      "source": [
        "from gluonts.dataset.common import ListDataset\n",
        "train_data = ListDataset(\n",
        "    [{\"start\": df_input.index[0], \"target\": df_input.Charge_Capacity[:train_time] }],\n",
        "    freq = \"2min\"\n",
        ")"
      ],
      "execution_count": 369,
      "outputs": []
    },
    {
      "cell_type": "code",
      "metadata": {
        "colab": {
          "base_uri": "https://localhost:8080/",
          "height": 289
        },
        "id": "o3VEMuGqfmCj",
        "outputId": "264c3892-47f1-4cfd-cae9-bb81a864ca5c"
      },
      "source": [
        "entry = next(iter(train_data))\n",
        "train_series = to_pandas(entry)\n",
        "train_series.plot()\n",
        "plt.grid(which=\"both\")\n",
        "plt.legend([\"train series\"], loc=\"upper left\")\n",
        "plt.savefig(\"fig1.pdf\",bbox_inches=\"tight\")\n",
        "plt.show()"
      ],
      "execution_count": 370,
      "outputs": [
        {
          "output_type": "display_data",
          "data": {
            "image/png": "[encoded data removed]",
            "text/plain": [
              "<Figure size 432x288 with 1 Axes>"
            ]
          },
          "metadata": {
            "needs_background": "light"
          }
        }
      ]
    },
    {
      "cell_type": "code",
      "metadata": {
        "id": "NegtiuLcvLWF"
      },
      "source": [
        "test_data = ListDataset(\n",
        "    [{\"start\": df_input.index[0], \"target\": df_input.Charge_Capacity[:]}],\n",
        "    freq = \"2min\"\n",
        ")"
      ],
      "execution_count": 371,
      "outputs": []
    },
    {
      "cell_type": "code",
      "metadata": {
        "colab": {
          "base_uri": "https://localhost:8080/",
          "height": 289
        },
        "id": "8qkov_uhfmIF",
        "outputId": "ed3b4435-ba7f-4467-d193-11892f7edc9e"
      },
      "source": [
        "entry = next(iter(test_data))\n",
        "test_series = to_pandas(entry)\n",
        "test_series.plot()\n",
        "plt.axvline(train_series.index[-1], color='r') # end of train dataset\n",
        "plt.grid(which=\"both\")\n",
        "plt.legend([\"test series\", \"end of train series\"], loc=\"upper left\")\n",
        "plt.savefig(\"fig2.pdf\",bbox_inches=\"tight\")\n",
        "plt.show()"
      ],
      "execution_count": 372,
      "outputs": [
        {
          "output_type": "display_data",
          "data": {
            "image/png": "[encoded data removed]",
            "text/plain": [
              "<Figure size 432x288 with 1 Axes>"
            ]
          },
          "metadata": {
            "needs_background": "light"
          }
        }
      ]
    },
    {
      "cell_type": "code",
      "metadata": {
        "colab": {
          "base_uri": "https://localhost:8080/"
        },
        "id": "QhoWe6rawAZv",
        "outputId": "d93360b9-090c-4a91-e07f-b6c14927e817"
      },
      "source": [
        "print(f\"Length of forecasting window in test dataset:{len(test_series)-len(train_series)}\")\n",
        "print(f\"Frequency of the time series:{freq}\")"
      ],
      "execution_count": 373,
      "outputs": [
        {
          "output_type": "stream",
          "name": "stdout",
          "text": [
            "Length of forecasting window in test dataset:2961\n",
            "Frequency of the time series:2min\n"
          ]
        }
      ]
    },
    {
      "cell_type": "code",
      "metadata": {
        "id": "2CvnPKD6wAb2"
      },
      "source": [
        "from gluonts.model.simple_feedforward import SimpleFeedForwardEstimator\n",
        "from gluonts.mx.trainer import Trainer"
      ],
      "execution_count": 374,
      "outputs": []
    },
    {
      "cell_type": "code",
      "metadata": {
        "id": "pdmsiYrRwAer"
      },
      "source": [
        "estimator = SimpleFeedForwardEstimator(\n",
        "    num_hidden_dimensions=[10],\n",
        "    prediction_length=250,\n",
        "    context_length=50,\n",
        "    freq=\"2min\",\n",
        "    trainer=Trainer(ctx=\"cpu\", \n",
        "                    epochs=5, \n",
        "                    learning_rate=1e-3, \n",
        "                    num_batches_per_epoch=100\n",
        "                   )\n",
        ")"
      ],
      "execution_count": 375,
      "outputs": []
    },
    {
      "cell_type": "code",
      "metadata": {
        "colab": {
          "base_uri": "https://localhost:8080/"
        },
        "id": "NhL0nVskwAjS",
        "outputId": "3c986cc4-f0c8-497f-d4d1-97c344930fcb"
      },
      "source": [
        "predictor = estimator.train(train_data)"
      ],
      "execution_count": 376,
      "outputs": [
        {
          "output_type": "stream",
          "name": "stderr",
          "text": [
            "100%|██████████| 100/100 [00:01<00:00, 73.84it/s, epoch=1/5, avg_epoch_loss=0.987]\n",
            "100%|██████████| 100/100 [00:01<00:00, 77.17it/s, epoch=2/5, avg_epoch_loss=0.204]\n",
            "100%|██████████| 100/100 [00:01<00:00, 83.21it/s, epoch=3/5, avg_epoch_loss=0.022]\n",
            "100%|██████████| 100/100 [00:01<00:00, 82.47it/s, epoch=4/5, avg_epoch_loss=-.0331]\n",
            "100%|██████████| 100/100 [00:01<00:00, 82.42it/s, epoch=5/5, avg_epoch_loss=-.0951]\n"
          ]
        }
      ]
    },
    {
      "cell_type": "code",
      "metadata": {
        "id": "CASb7jv6_CEd"
      },
      "source": [
        "from gluonts.evaluation.backtest import make_evaluation_predictions"
      ],
      "execution_count": 377,
      "outputs": []
    },
    {
      "cell_type": "code",
      "metadata": {
        "id": "4BL7I1rL_CGo"
      },
      "source": [
        "forecast_it, ts_it = make_evaluation_predictions(\n",
        "    dataset=test_data,  # test dataset\n",
        "    predictor=predictor,  # predictor\n",
        "    num_samples=500,  # number of sample paths we want for evaluation 100\n",
        ")"
      ],
      "execution_count": 378,
      "outputs": []
    },
    {
      "cell_type": "code",
      "metadata": {
        "id": "DOjSmzsT_CJt"
      },
      "source": [
        "forecasts = list(forecast_it)\n",
        "tss = list(ts_it)"
      ],
      "execution_count": 379,
      "outputs": []
    },
    {
      "cell_type": "code",
      "metadata": {
        "id": "Mer7dfY1_CMZ"
      },
      "source": [
        "# first entry of the time series list\n",
        "ts_entry = tss[0]"
      ],
      "execution_count": 380,
      "outputs": []
    },
    {
      "cell_type": "code",
      "metadata": {
        "colab": {
          "base_uri": "https://localhost:8080/"
        },
        "id": "b-8-7Jfg_CO9",
        "outputId": "47bdc32c-5037-428f-cd8c-ee4b5b193729"
      },
      "source": [
        "# first 5 values of the time series (convert from pandas to numpy)\n",
        "np.array(ts_entry[:5]).reshape(-1,)"
      ],
      "execution_count": 381,
      "outputs": [
        {
          "output_type": "execute_result",
          "data": {
            "text/plain": [
              "array([0., 0., 0., 0., 0.], dtype=float32)"
            ]
          },
          "metadata": {},
          "execution_count": 381
        }
      ]
    },
    {
      "cell_type": "code",
      "metadata": {
        "id": "QXz60jpG_CR6"
      },
      "source": [
        "# first entry of dataset.test\n",
        "dataset_test_entry = next(iter(test_data))"
      ],
      "execution_count": 382,
      "outputs": []
    },
    {
      "cell_type": "code",
      "metadata": {
        "colab": {
          "base_uri": "https://localhost:8080/"
        },
        "id": "tXHfQ2D4_CU0",
        "outputId": "0b5a583d-b4e8-4f99-9d78-db6947773feb"
      },
      "source": [
        "# first 5 values\n",
        "dataset_test_entry['target'][:5]"
      ],
      "execution_count": 383,
      "outputs": [
        {
          "output_type": "execute_result",
          "data": {
            "text/plain": [
              "array([0., 0., 0., 0., 0.], dtype=float32)"
            ]
          },
          "metadata": {},
          "execution_count": 383
        }
      ]
    },
    {
      "cell_type": "code",
      "metadata": {
        "id": "zqkSt771_CW-"
      },
      "source": [
        "# first entry of the forecast list\n",
        "forecast_entry = forecasts[0]"
      ],
      "execution_count": 384,
      "outputs": []
    },
    {
      "cell_type": "code",
      "metadata": {
        "colab": {
          "base_uri": "https://localhost:8080/"
        },
        "id": "wp5tTd8z_CZt",
        "outputId": "19df30f2-f3cf-48cf-87f8-26d9e52d9a1a"
      },
      "source": [
        "print(f\"Number of sample paths: {forecast_entry.num_samples}\")\n",
        "print(f\"Dimension of samples: {forecast_entry.samples.shape}\")\n",
        "print(f\"Start date of the forecast window: {forecast_entry.start_date}\")\n",
        "print(f\"Frequency of the time series: {forecast_entry.freq}\")"
      ],
      "execution_count": 385,
      "outputs": [
        {
          "output_type": "stream",
          "name": "stdout",
          "text": [
            "Number of sample paths: 500\n",
            "Dimension of samples: (500, 250)\n",
            "Start date of the forecast window: 1970-01-06 02:00:00\n",
            "Frequency of the time series: 2min\n"
          ]
        }
      ]
    },
    {
      "cell_type": "code",
      "metadata": {
        "colab": {
          "base_uri": "https://localhost:8080/"
        },
        "id": "GvKJYScF_CdO",
        "outputId": "13c0223c-91bb-44bf-dbc8-f66cc9901225"
      },
      "source": [
        "print(f\"Mean of the future window:\\n {forecast_entry.mean}\")\n",
        "print(f\"0.5-quantile (median) of the future window:\\n {forecast_entry.quantile(0.5)}\")"
      ],
      "execution_count": 386,
      "outputs": [
        {
          "output_type": "stream",
          "name": "stdout",
          "text": [
            "Mean of the future window:\n",
            " [2.4754062 2.38551   2.4706438 2.486236  2.5239496 2.5282047 2.5251539\n",
            " 2.4957826 2.5432866 2.5851483 2.526084  2.6383634 2.5897865 2.4880095\n",
            " 2.5381145 2.4318943 2.236155  1.8062692 1.5033528 1.3598511 1.2105817\n",
            " 1.0228292 1.0673022 1.2785875 1.1602734 1.1847274 1.2854046 1.3338294\n",
            " 1.4339927 1.5878785 1.4103403 1.5410106 1.661353  1.7942301 1.7711698\n",
            " 1.8120631 1.9076201 1.8760594 1.8945173 2.0234807 2.122035  2.0569515\n",
            " 2.1088266 2.16877   2.210003  2.3226345 2.258474  2.255642  2.2846487\n",
            " 2.338165  2.351046  2.3728504 2.3887246 2.4235733 2.4459896 2.4073827\n",
            " 2.4481072 2.506476  2.3939004 2.4555495 2.4963667 2.465806  2.4922044\n",
            " 2.4427953 2.4050052 2.4521964 2.4761457 2.4452763 2.473089  2.3821852\n",
            " 2.4311032 2.4392838 2.427121  2.466235  2.429157  2.413586  2.5131533\n",
            " 2.4086764 2.4322183 2.4441307 2.3769329 2.3458283 2.4085295 2.5187895\n",
            " 2.411647  2.514547  2.49209   2.5208259 2.5229342 2.4969678 2.5118506\n",
            " 2.519603  2.504533  2.2155097 2.1171095 1.5424634 1.2392222 1.1967733\n",
            " 1.170733  1.0817997 1.1817342 1.1536226 1.2239693 1.3060137 1.3079306\n",
            " 1.3868389 1.4665205 1.5134487 1.4375368 1.627103  1.6742284 1.7676393\n",
            " 1.6823215 1.8610356 1.9250896 1.6861875 1.8689722 1.9912864 2.098795\n",
            " 2.0715883 2.1862638 2.2024505 2.2420418 2.3281014 2.2538495 2.3835905\n",
            " 2.2875662 2.4029577 2.3777583 2.3917737 2.408492  2.4495063 2.421529\n",
            " 2.4639866 2.4975173 2.4771106 2.4483733 2.425713  2.5050392 2.4568923\n",
            " 2.4969182 2.4856753 2.5077586 2.529027  2.4661334 2.528017  2.4379091\n",
            " 2.4420915 2.4043803 2.3631656 2.4108896 2.4261665 2.3622572 2.3901412\n",
            " 2.419602  2.4378173 2.347088  2.382686  2.366246  2.4842234 2.5327797\n",
            " 2.4208703 2.4867668 2.5304275 2.4877763 2.4308505 2.4748724 2.551392\n",
            " 2.5018547 2.385572  2.25877   1.9530374 1.7107989 1.3411821 0.9212756\n",
            " 1.1223423 1.2108138 1.2411087 1.1171932 1.0535759 1.2183673 1.1544553\n",
            " 1.3094248 1.412769  1.4468611 1.4671298 1.526898  1.7370862 1.7380174\n",
            " 1.776278  1.7138573 1.7640526 1.9412076 1.9281499 2.0045037 1.9721332\n",
            " 2.1189923 2.1622415 2.0326552 2.1590698 2.2304425 2.2223465 2.2228394\n",
            " 2.2441652 2.315606  2.3622696 2.3469782 2.4844956 2.4682865 2.3899221\n",
            " 2.5713568 2.482205  2.4885645 2.4845083 2.4856403 2.4924004 2.4899714\n",
            " 2.468678  2.4888659 2.476502  2.4662645 2.4691398 2.4595978 2.4102778\n",
            " 2.3926237 2.3791385 2.394848  2.4122021 2.4483855 2.4590201 2.4078143\n",
            " 2.4057887 2.3717923 2.3826756 2.4811924 2.5088866 2.4500816 2.4770076\n",
            " 2.4265504 2.4346962 2.4888368 2.4577417 2.4910605 2.4147978 2.5310724\n",
            " 2.5234866 2.4009993 2.41666   2.3848834 2.0293362]\n",
            "0.5-quantile (median) of the future window:\n",
            " [2.4688995 2.4190805 2.4683034 2.474137  2.5342383 2.504673  2.5262952\n",
            " 2.5055041 2.5208943 2.54922   2.4672718 2.6166077 2.6041262 2.5096042\n",
            " 2.5337849 2.466037  2.2120101 1.9136201 1.4701933 1.3507266 1.1597328\n",
            " 1.0377446 1.0577915 1.29898   1.1909868 1.1633282 1.3087597 1.348669\n",
            " 1.419311  1.5829544 1.4004118 1.535364  1.6460705 1.7915884 1.7629143\n",
            " 1.8075173 1.9156203 1.8727827 1.8992621 2.0166218 2.1275623 2.059935\n",
            " 2.102115  2.1586552 2.2252092 2.329923  2.2471535 2.2523203 2.2831907\n",
            " 2.3416789 2.349067  2.3828044 2.3819325 2.4102366 2.445086  2.403291\n",
            " 2.4159002 2.5051262 2.4079783 2.4528112 2.4925354 2.4680762 2.4874988\n",
            " 2.4419646 2.4067278 2.450682  2.4829195 2.4357247 2.4591942 2.3889363\n",
            " 2.431999  2.4354208 2.4232576 2.4521492 2.4264436 2.4096086 2.5131254\n",
            " 2.4055748 2.4236693 2.4277058 2.3869638 2.3428156 2.415383  2.525273\n",
            " 2.393497  2.5029948 2.476544  2.5013943 2.5114832 2.5105097 2.5159395\n",
            " 2.5101087 2.509197  2.222532  2.1513011 1.532127  1.269379  1.2618908\n",
            " 1.1759449 1.0862074 1.2095615 1.1533059 1.1817425 1.284079  1.2912222\n",
            " 1.3884418 1.4652203 1.5052373 1.4617906 1.6213073 1.6789424 1.762244\n",
            " 1.6702973 1.8460556 1.930726  1.6981812 1.8725052 1.9977615 2.0891306\n",
            " 2.0693886 2.1688387 2.194806  2.2379925 2.32039   2.2609758 2.3826187\n",
            " 2.292025  2.397678  2.3714197 2.3873765 2.4176347 2.4490576 2.4298031\n",
            " 2.4632168 2.488107  2.4744778 2.4576256 2.423921  2.506661  2.4600043\n",
            " 2.5027654 2.487043  2.5156171 2.5337467 2.467073  2.5097003 2.4281042\n",
            " 2.4456947 2.3887815 2.3717752 2.4112391 2.42307   2.3675349 2.3777673\n",
            " 2.4191613 2.4304514 2.343792  2.376639  2.3656154 2.4821343 2.4362893\n",
            " 2.415376  2.4823968 2.5320709 2.439735  2.4402225 2.4833093 2.5379975\n",
            " 2.5306873 2.3871899 2.3123584 1.9757102 1.7278293 1.3588979 0.9949813\n",
            " 1.1552373 1.1887561 1.234726  1.1251694 1.114191  1.2125311 1.247725\n",
            " 1.3323878 1.4082061 1.4468377 1.471056  1.5216331 1.6879185 1.73932\n",
            " 1.7724737 1.7304199 1.7916006 1.9416546 1.9412928 2.0151486 1.9690979\n",
            " 2.1139946 2.1315296 2.0064466 2.155898  2.2237256 2.2157195 2.2328312\n",
            " 2.2551603 2.320448  2.3568165 2.3648086 2.4864612 2.478846  2.3921065\n",
            " 2.5665858 2.485213  2.5024326 2.4803426 2.4886637 2.487899  2.486089\n",
            " 2.4650342 2.4910088 2.4756348 2.470333  2.4734955 2.4609215 2.414079\n",
            " 2.390022  2.3849828 2.3928993 2.4152915 2.4475105 2.4530768 2.410413\n",
            " 2.3963678 2.380268  2.3928173 2.4732916 2.5015507 2.4361508 2.4818287\n",
            " 2.4235826 2.4318297 2.474543  2.4594812 2.49494   2.4897535 2.503614\n",
            " 2.5174725 2.4168575 2.4484746 2.395313  2.0971265]\n"
          ]
        }
      ]
    },
    {
      "cell_type": "code",
      "metadata": {
        "id": "l4hT4FX0_sBf"
      },
      "source": [
        "def plot_prob_forecasts(ts_entry, forecast_entry):\n",
        "    plot_length = 500\n",
        "    prediction_intervals = (50.0, 90.0)\n",
        "    legend = [\"observations\", \"median prediction\"] + [f\"{k}% prediction interval\" for k in prediction_intervals][::-1]\n",
        "\n",
        "    fig, ax = plt.subplots(1, 1, figsize=(10, 7))\n",
        "    ts_entry[-plot_length:].plot(ax=ax)  # plot the time series\n",
        "    forecast_entry.plot(prediction_intervals=prediction_intervals, color='g')\n",
        "    plt.grid(which=\"both\")\n",
        "    plt.ylim(0,3)\n",
        "    plt.legend(legend, loc=\"upper left\")\n",
        "    plt.savefig(\"fig3.pdf\",bbox_inches=\"tight\")\n",
        "    plt.show()"
      ],
      "execution_count": 387,
      "outputs": []
    },
    {
      "cell_type": "code",
      "metadata": {
        "colab": {
          "base_uri": "https://localhost:8080/",
          "height": 444
        },
        "id": "eGL634gS_sFB",
        "outputId": "2a8d95a3-da72-42ab-c724-3fb0f1068aa2"
      },
      "source": [
        "plot_prob_forecasts(ts_entry, forecast_entry)"
      ],
      "execution_count": 388,
      "outputs": [
        {
          "output_type": "display_data",
          "data": {
            "image/png": "[encoded data removed]",
            "text/plain": [
              "<Figure size 720x504 with 1 Axes>"
            ]
          },
          "metadata": {
            "needs_background": "light"
          }
        }
      ]
    },
    {
      "cell_type": "code",
      "metadata": {
        "id": "ZNQ9VW-i_sIV"
      },
      "source": [
        "from gluonts.evaluation import Evaluator"
      ],
      "execution_count": 389,
      "outputs": []
    },
    {
      "cell_type": "code",
      "metadata": {
        "colab": {
          "base_uri": "https://localhost:8080/"
        },
        "id": "K8qjJvhC_sX6",
        "outputId": "a9395690-c197-4f04-cdf3-28531a46c7c2"
      },
      "source": [
        "evaluator = Evaluator(quantiles=[0.5,0.1,0.9])\n",
        "agg_metrics, item_metrics = evaluator(iter(tss), iter(forecasts), num_series=len(test_data))"
      ],
      "execution_count": 390,
      "outputs": [
        {
          "output_type": "stream",
          "name": "stderr",
          "text": [
            "Running evaluation: 100%|██████████| 1/1 [00:00<00:00, 30.87it/s]\n"
          ]
        }
      ]
    },
    {
      "cell_type": "code",
      "metadata": {
        "colab": {
          "base_uri": "https://localhost:8080/"
        },
        "id": "BGoIY9no_9k1",
        "outputId": "1912dc04-cb3d-4c0b-d752-704549163285"
      },
      "source": [
        "print(json.dumps(agg_metrics, indent=4))"
      ],
      "execution_count": 391,
      "outputs": [
        {
          "output_type": "stream",
          "name": "stdout",
          "text": [
            "{\n",
            "    \"MSE\": 0.15914859008789062,\n",
            "    \"abs_error\": 39.61481475830078,\n",
            "    \"abs_target_sum\": 502.6174011230469,\n",
            "    \"abs_target_mean\": 2.0104696044921875,\n",
            "    \"seasonal_error\": 0.7522060679740646,\n",
            "    \"MASE\": 0.21065937351447508,\n",
            "    \"MAPE\": 0.7531007080078125,\n",
            "    \"sMAPE\": 0.1329774169921875,\n",
            "    \"MSIS\": 2.074241711916413,\n",
            "    \"QuantileLoss[0.5]\": 39.61481708288193,\n",
            "    \"Coverage[0.5]\": 0.768,\n",
            "    \"QuantileLoss[0.1]\": 23.626820355653766,\n",
            "    \"Coverage[0.1]\": 0.044,\n",
            "    \"QuantileLoss[0.9]\": 22.859395074844354,\n",
            "    \"Coverage[0.9]\": 1.0,\n",
            "    \"RMSE\": 0.3989343180122395,\n",
            "    \"NRMSE\": 0.19842842543894312,\n",
            "    \"ND\": 0.07881703790952234,\n",
            "    \"wQuantileLoss[0.5]\": 0.07881704253447393,\n",
            "    \"wQuantileLoss[0.1]\": 0.04700756540235588,\n",
            "    \"wQuantileLoss[0.9]\": 0.045480707639185165,\n",
            "    \"mean_absolute_QuantileLoss\": 28.700344171126684,\n",
            "    \"mean_wQuantileLoss\": 0.05710177185867166,\n",
            "    \"MAE_Coverage\": 0.14133333333333334,\n",
            "    \"OWA\": NaN\n",
            "}\n"
          ]
        }
      ]
    },
    {
      "cell_type": "code",
      "metadata": {
        "colab": {
          "base_uri": "https://localhost:8080/",
          "height": 100
        },
        "id": "JnrPgobQ_9nq",
        "outputId": "4f3cb119-7ae4-43ff-ddfc-9108c6902037"
      },
      "source": [
        "item_metrics"
      ],
      "execution_count": 392,
      "outputs": [
        {
          "output_type": "execute_result",
          "data": {
            "text/html": [
              "<div>\n",
              "<style scoped>\n",
              "    .dataframe tbody tr th:only-of-type {\n",
              "        vertical-align: middle;\n",
              "    }\n",
              "\n",
              "    .dataframe tbody tr th {\n",
              "        vertical-align: top;\n",
              "    }\n",
              "\n",
              "    .dataframe thead th {\n",
              "        text-align: right;\n",
              "    }\n",
              "</style>\n",
              "<table border=\"1\" class=\"dataframe\">\n",
              "  <thead>\n",
              "    <tr style=\"text-align: right;\">\n",
              "      <th></th>\n",
              "      <th>item_id</th>\n",
              "      <th>MSE</th>\n",
              "      <th>abs_error</th>\n",
              "      <th>abs_target_sum</th>\n",
              "      <th>abs_target_mean</th>\n",
              "      <th>seasonal_error</th>\n",
              "      <th>MASE</th>\n",
              "      <th>MAPE</th>\n",
              "      <th>sMAPE</th>\n",
              "      <th>MSIS</th>\n",
              "      <th>QuantileLoss[0.5]</th>\n",
              "      <th>Coverage[0.5]</th>\n",
              "      <th>QuantileLoss[0.1]</th>\n",
              "      <th>Coverage[0.1]</th>\n",
              "      <th>QuantileLoss[0.9]</th>\n",
              "      <th>Coverage[0.9]</th>\n",
              "    </tr>\n",
              "  </thead>\n",
              "  <tbody>\n",
              "    <tr>\n",
              "      <th>0</th>\n",
              "      <td>NaN</td>\n",
              "      <td>0.159149</td>\n",
              "      <td>39.614815</td>\n",
              "      <td>502.617401</td>\n",
              "      <td>2.01047</td>\n",
              "      <td>0.752206</td>\n",
              "      <td>0.210659</td>\n",
              "      <td>0.753101</td>\n",
              "      <td>0.132977</td>\n",
              "      <td>2.074242</td>\n",
              "      <td>39.614817</td>\n",
              "      <td>0.768</td>\n",
              "      <td>23.62682</td>\n",
              "      <td>0.044</td>\n",
              "      <td>22.859395</td>\n",
              "      <td>1.0</td>\n",
              "    </tr>\n",
              "  </tbody>\n",
              "</table>\n",
              "</div>"
            ],
            "text/plain": [
              "   item_id       MSE  ...  QuantileLoss[0.9]  Coverage[0.9]\n",
              "0      NaN  0.159149  ...          22.859395            1.0\n",
              "\n",
              "[1 rows x 16 columns]"
            ]
          },
          "metadata": {},
          "execution_count": 392
        }
      ]
    },
    {
      "cell_type": "code",
      "metadata": {
        "colab": {
          "base_uri": "https://localhost:8080/",
          "height": 279
        },
        "id": "sAIHZco0_9qU",
        "outputId": "1e99d199-0738-41b3-8f71-ac5df4249ccc"
      },
      "source": [
        "item_metrics.plot(x='MSIS', y='MASE', kind='scatter')\n",
        "plt.grid(which=\"both\")\n",
        "plt.savefig(\"fig4.pdf\",bbox_inches=\"tight\")\n",
        "plt.show()"
      ],
      "execution_count": 393,
      "outputs": [
        {
          "output_type": "display_data",
          "data": {
            "image/png": "[encoded data removed]",
            "text/plain": [
              "<Figure size 432x288 with 1 Axes>"
            ]
          },
          "metadata": {
            "needs_background": "light"
          }
        }
      ]
    },
    {
      "cell_type": "code",
      "metadata": {
        "id": "Hvfrw7ym_9tz"
      },
      "source": [
        "# own forecast model"
      ],
      "execution_count": 394,
      "outputs": []
    },
    {
      "cell_type": "code",
      "metadata": {
        "id": "yV53Ow6SAIV1"
      },
      "source": [
        "class MyNetwork(gluon.HybridBlock):\n",
        "    def __init__(self, prediction_length, num_cells, **kwargs):\n",
        "        super().__init__(**kwargs)\n",
        "        self.prediction_length = prediction_length\n",
        "        self.num_cells = num_cells\n",
        "\n",
        "        with self.name_scope():\n",
        "            # Set up a 3 layer neural network that directly predicts the target values\n",
        "            self.nn = mx.gluon.nn.HybridSequential()\n",
        "            self.nn.add(mx.gluon.nn.Dense(units=820, activation='relu'))\n",
        "            self.nn.add(mx.gluon.nn.Dense(units=820, activation='relu'))\n",
        "            self.nn.add(mx.gluon.nn.Dense(units=self.prediction_length, activation='relu'))\n",
        "\n",
        "\n",
        "class MyTrainNetwork(MyNetwork):\n",
        "    def hybrid_forward(self, F, past_target, future_target):\n",
        "        prediction = self.nn(past_target)\n",
        "        # calculate L1 loss with the future_target to learn the median\n",
        "        return (prediction - future_target).abs().mean(axis=-1)\n",
        "\n",
        "\n",
        "class MyPredNetwork(MyTrainNetwork):\n",
        "    # The prediction network only receives past_target and returns predictions\n",
        "    def hybrid_forward(self, F, past_target):\n",
        "        prediction = self.nn(past_target)\n",
        "        return prediction.expand_dims(axis=1)"
      ],
      "execution_count": 395,
      "outputs": []
    },
    {
      "cell_type": "code",
      "metadata": {
        "id": "dDZyrrESAIYb"
      },
      "source": [
        "def plot_prob_forecasts_2(ts_entry, forecast_entry):\n",
        "    plot_length = 500\n",
        "    prediction_intervals = (50.0, 90.0)\n",
        "    legend = [\"observations\", \"median prediction\"] + [f\"{k}% prediction interval\" for k in prediction_intervals][::-1]\n",
        "\n",
        "    fig, ax = plt.subplots(1, 1, figsize=(10, 7))\n",
        "    ts_entry[-plot_length:].plot(ax=ax)  # plot the time series\n",
        "    forecast_entry.plot(prediction_intervals=prediction_intervals, color='g')\n",
        "    plt.grid(which=\"both\")\n",
        "    plt.ylim(0,3)\n",
        "    plt.legend(legend, loc=\"upper left\")\n",
        "    plt.savefig(\"fig5.pdf\",bbox_inches=\"tight\")\n",
        "    plt.show()"
      ],
      "execution_count": 396,
      "outputs": []
    },
    {
      "cell_type": "code",
      "metadata": {
        "id": "4TnPZh8UAIbe"
      },
      "source": [
        "from functools import partial\n",
        "from mxnet.gluon import HybridBlock\n",
        "from gluonts.core.component import validated\n",
        "from gluonts.dataset.loader import TrainDataLoader\n",
        "from gluonts.model.predictor import Predictor\n",
        "from gluonts.mx.batchify import as_in_context, batchify\n",
        "from gluonts.mx.model.estimator import GluonEstimator\n",
        "from gluonts.mx.model.predictor import RepresentableBlockPredictor\n",
        "from gluonts.mx.trainer import Trainer\n",
        "from gluonts.mx.util import copy_parameters, get_hybrid_forward_input_names\n",
        "from gluonts.transform import (\n",
        "    ExpectedNumInstanceSampler,\n",
        "    Transformation,\n",
        "    InstanceSplitter,\n",
        "    TestSplitSampler,\n",
        "    SelectFields,\n",
        "    Chain\n",
        ")"
      ],
      "execution_count": 397,
      "outputs": []
    },
    {
      "cell_type": "code",
      "metadata": {
        "id": "8XAQqNJpAId6"
      },
      "source": [
        "class MyEstimator(GluonEstimator):\n",
        "    @validated()\n",
        "    def __init__(\n",
        "        self,\n",
        "        prediction_length: int,\n",
        "        context_length: int,\n",
        "        freq: str,\n",
        "        num_cells: int,\n",
        "        batch_size: int = 32,\n",
        "        trainer: Trainer = Trainer()\n",
        "    ) -> None:\n",
        "        super().__init__(trainer=trainer, batch_size=batch_size)\n",
        "        self.prediction_length = prediction_length\n",
        "        self.context_length = context_length\n",
        "        self.freq = freq\n",
        "        self.num_cells = num_cells\n",
        "\n",
        "    def create_transformation(self):\n",
        "        return Chain([])\n",
        "\n",
        "    def create_training_data_loader(self, dataset, **kwargs):\n",
        "        instance_splitter = InstanceSplitter(\n",
        "            target_field=FieldName.TARGET,\n",
        "            is_pad_field=FieldName.IS_PAD,\n",
        "            start_field=FieldName.START,\n",
        "            forecast_start_field=FieldName.FORECAST_START,\n",
        "            instance_sampler=ExpectedNumInstanceSampler(\n",
        "                num_instances=1,\n",
        "                min_future=self.prediction_length\n",
        "            ),\n",
        "            past_length=self.context_length,\n",
        "            future_length=self.prediction_length,\n",
        "        )\n",
        "        input_names = get_hybrid_forward_input_names(MyTrainNetwork)\n",
        "        return TrainDataLoader(\n",
        "            dataset=dataset,\n",
        "            transform=instance_splitter + SelectFields(input_names),\n",
        "            batch_size=self.batch_size,\n",
        "            stack_fn=partial(batchify, ctx=self.trainer.ctx, dtype=self.dtype),\n",
        "            decode_fn=partial(as_in_context, ctx=self.trainer.ctx),\n",
        "            **kwargs,\n",
        "        )\n",
        "\n",
        "    def create_training_network(self) -> MyTrainNetwork:\n",
        "        return MyTrainNetwork(\n",
        "            prediction_length=self.prediction_length,\n",
        "            num_cells = self.num_cells\n",
        "        )\n",
        "\n",
        "    def create_predictor(\n",
        "        self, transformation: Transformation, trained_network: HybridBlock\n",
        "    ) -> Predictor:\n",
        "        prediction_splitter = InstanceSplitter(\n",
        "            target_field=FieldName.TARGET,\n",
        "            is_pad_field=FieldName.IS_PAD,\n",
        "            start_field=FieldName.START,\n",
        "            forecast_start_field=FieldName.FORECAST_START,\n",
        "            instance_sampler=TestSplitSampler(),\n",
        "            past_length=self.context_length,\n",
        "            future_length=self.prediction_length,\n",
        "        )\n",
        "\n",
        "        prediction_network = MyPredNetwork(\n",
        "            prediction_length=self.prediction_length,\n",
        "            num_cells=self.num_cells\n",
        "        )\n",
        "\n",
        "        copy_parameters(trained_network, prediction_network)\n",
        "\n",
        "        return RepresentableBlockPredictor(\n",
        "            input_transform=transformation + prediction_splitter,\n",
        "            prediction_net=prediction_network,\n",
        "            batch_size=self.trainer.batch_size,\n",
        "            freq=self.freq,\n",
        "            prediction_length=self.prediction_length,\n",
        "            ctx=self.trainer.ctx,\n",
        "        )"
      ],
      "execution_count": 398,
      "outputs": []
    },
    {
      "cell_type": "code",
      "metadata": {
        "id": "YLf6ySgo2iAg"
      },
      "source": [
        "\n",
        "# define the parameters of the dataset\n",
        "custom_ds_metadata = {\n",
        "    'num_series': 1,\n",
        "    'num_steps': 1901,\n",
        "    'prediction_length': 100,\n",
        "    'freq': '2min',\n",
        "    'start': [\n",
        "        pd.Timestamp(\"01-01-2019\", freq='2min')\n",
        "        for _ in range(100)\n",
        "    ]\n",
        "}"
      ],
      "execution_count": 399,
      "outputs": []
    },
    {
      "cell_type": "code",
      "metadata": {
        "id": "UMl3St3IAIia"
      },
      "source": [
        "estimator = MyEstimator(\n",
        "    prediction_length=250,     #custom_ds_metadata['prediction_length'],\n",
        "    context_length = custom_ds_metadata['prediction_length'],\n",
        "    freq=custom_ds_metadata['freq'],\n",
        "    num_cells=40, #40\n",
        "    trainer=Trainer(\n",
        "        ctx=\"cpu\",\n",
        "        epochs=5,\n",
        "        learning_rate=1e-2, #-3\n",
        "        hybridize=False,\n",
        "        num_batches_per_epoch=2000\n",
        "    )\n",
        ")"
      ],
      "execution_count": 410,
      "outputs": []
    },
    {
      "cell_type": "code",
      "metadata": {
        "colab": {
          "base_uri": "https://localhost:8080/"
        },
        "id": "A1R6cBlx2vUv",
        "outputId": "50919ab5-24bf-4c94-916a-fb3e4b7e0aa3"
      },
      "source": [
        "from gluonts.dataset.field_names import FieldName\n",
        "[f\"FieldName.{k} = '{v}'\" for k, v in FieldName.__dict__.items() if not k.startswith('_')]"
      ],
      "execution_count": 411,
      "outputs": [
        {
          "output_type": "execute_result",
          "data": {
            "text/plain": [
              "[\"FieldName.ITEM_ID = 'item_id'\",\n",
              " \"FieldName.START = 'start'\",\n",
              " \"FieldName.TARGET = 'target'\",\n",
              " \"FieldName.FEAT_STATIC_CAT = 'feat_static_cat'\",\n",
              " \"FieldName.FEAT_STATIC_REAL = 'feat_static_real'\",\n",
              " \"FieldName.FEAT_DYNAMIC_CAT = 'feat_dynamic_cat'\",\n",
              " \"FieldName.FEAT_DYNAMIC_REAL = 'feat_dynamic_real'\",\n",
              " \"FieldName.PAST_FEAT_DYNAMIC_REAL = 'past_feat_dynamic_real'\",\n",
              " \"FieldName.FEAT_DYNAMIC_REAL_LEGACY = 'dynamic_feat'\",\n",
              " \"FieldName.FEAT_DYNAMIC = 'feat_dynamic'\",\n",
              " \"FieldName.PAST_FEAT_DYNAMIC = 'past_feat_dynamic'\",\n",
              " \"FieldName.FEAT_TIME = 'time_feat'\",\n",
              " \"FieldName.FEAT_CONST = 'feat_dynamic_const'\",\n",
              " \"FieldName.FEAT_AGE = 'feat_dynamic_age'\",\n",
              " \"FieldName.OBSERVED_VALUES = 'observed_values'\",\n",
              " \"FieldName.IS_PAD = 'is_pad'\",\n",
              " \"FieldName.FORECAST_START = 'forecast_start'\",\n",
              " \"FieldName.TARGET_DIM_INDICATOR = 'target_dimension_indicator'\"]"
            ]
          },
          "metadata": {},
          "execution_count": 411
        }
      ]
    },
    {
      "cell_type": "code",
      "metadata": {
        "colab": {
          "base_uri": "https://localhost:8080/"
        },
        "id": "O-V6TckVAIk8",
        "outputId": "68d2e3b5-10d2-4795-ac93-84c5810fc98c"
      },
      "source": [
        "predictor = estimator.train(train_data)"
      ],
      "execution_count": 412,
      "outputs": [
        {
          "output_type": "stream",
          "name": "stderr",
          "text": [
            "100%|██████████| 2000/2000 [00:35<00:00, 56.14it/s, epoch=1/5, avg_epoch_loss=0.194]\n",
            "100%|██████████| 2000/2000 [00:51<00:00, 39.05it/s, epoch=2/5, avg_epoch_loss=0.117]\n",
            "100%|██████████| 2000/2000 [00:39<00:00, 50.41it/s, epoch=3/5, avg_epoch_loss=0.111]\n",
            "100%|██████████| 2000/2000 [02:41<00:00, 12.40it/s, epoch=4/5, avg_epoch_loss=0.108]\n",
            "100%|██████████| 2000/2000 [02:53<00:00, 11.52it/s, epoch=5/5, avg_epoch_loss=0.112]\n"
          ]
        }
      ]
    },
    {
      "cell_type": "code",
      "metadata": {
        "id": "bbt6sADcAInM"
      },
      "source": [
        "forecast_it, ts_it = make_evaluation_predictions(\n",
        "    dataset=test_data,  # test dataset\n",
        "    predictor=predictor,  # predictor\n",
        "    num_samples=100,  # number of sample paths we want for evaluation\n",
        ")"
      ],
      "execution_count": 413,
      "outputs": []
    },
    {
      "cell_type": "code",
      "metadata": {
        "id": "RBXpP0N8AIpx"
      },
      "source": [
        "forecasts = list(forecast_it)\n",
        "tss = list(ts_it)"
      ],
      "execution_count": 414,
      "outputs": []
    },
    {
      "cell_type": "code",
      "metadata": {
        "id": "dLvjeWV9AucS",
        "colab": {
          "base_uri": "https://localhost:8080/",
          "height": 444
        },
        "outputId": "44d92d8f-23ea-48ee-c093-6f3561dd20a3"
      },
      "source": [
        "plot_prob_forecasts_2(tss[0], forecasts[0])"
      ],
      "execution_count": 415,
      "outputs": [
        {
          "output_type": "display_data",
          "data": {
            "image/png": "[encoded data removed]",
            "text/plain": [
              "<Figure size 720x504 with 1 Axes>"
            ]
          },
          "metadata": {
            "needs_background": "light"
          }
        }
      ]
    },
    {
      "cell_type": "code",
      "metadata": {
        "id": "72mdTQhLAues",
        "colab": {
          "base_uri": "https://localhost:8080/"
        },
        "outputId": "5764d6f3-8290-410c-c95f-fda0ce986eb5"
      },
      "source": [
        "evaluator = Evaluator(quantiles=[0.1, 0.5, 0.9])\n",
        "agg_metrics, item_metrics = evaluator(iter(tss), iter(forecasts), num_series=len(test_data))"
      ],
      "execution_count": 416,
      "outputs": [
        {
          "output_type": "stream",
          "name": "stderr",
          "text": [
            "Running evaluation: 100%|██████████| 1/1 [00:00<00:00, 35.71it/s]\n"
          ]
        }
      ]
    },
    {
      "cell_type": "code",
      "metadata": {
        "id": "xDu1hSNuAuhc",
        "colab": {
          "base_uri": "https://localhost:8080/"
        },
        "outputId": "c68e844c-34a8-4095-f6a1-8e180189e9c5"
      },
      "source": [
        "print(json.dumps(agg_metrics, indent=4))"
      ],
      "execution_count": 417,
      "outputs": [
        {
          "output_type": "stream",
          "name": "stdout",
          "text": [
            "{\n",
            "    \"MSE\": 0.02304386520385742,\n",
            "    \"abs_error\": 24.647197723388672,\n",
            "    \"abs_target_sum\": 502.6174011230469,\n",
            "    \"abs_target_mean\": 2.0104696044921875,\n",
            "    \"seasonal_error\": 0.7522060679740646,\n",
            "    \"MASE\": 0.13106619992987603,\n",
            "    \"MAPE\": 0.15566543579101563,\n",
            "    \"sMAPE\": 0.09644923400878906,\n",
            "    \"MSIS\": 5.242648484044262,\n",
            "    \"QuantileLoss[0.1]\": 22.09265354573727,\n",
            "    \"Coverage[0.1]\": 0.256,\n",
            "    \"QuantileLoss[0.5]\": 24.647198721766472,\n",
            "    \"Coverage[0.5]\": 0.256,\n",
            "    \"QuantileLoss[0.9]\": 27.201743897795673,\n",
            "    \"Coverage[0.9]\": 0.256,\n",
            "    \"RMSE\": 0.15180205928727522,\n",
            "    \"NRMSE\": 0.07550577185951439,\n",
            "    \"ND\": 0.04903769282224819,\n",
            "    \"wQuantileLoss[0.1]\": 0.04395521025808798,\n",
            "    \"wQuantileLoss[0.5]\": 0.04903769480860559,\n",
            "    \"wQuantileLoss[0.9]\": 0.05412017935912321,\n",
            "    \"mean_absolute_QuantileLoss\": 24.647198721766472,\n",
            "    \"mean_wQuantileLoss\": 0.04903769480860559,\n",
            "    \"MAE_Coverage\": 0.34800000000000003,\n",
            "    \"OWA\": NaN\n",
            "}\n"
          ]
        }
      ]
    },
    {
      "cell_type": "code",
      "metadata": {
        "id": "c7s2rVYUAujs",
        "colab": {
          "base_uri": "https://localhost:8080/",
          "height": 100
        },
        "outputId": "cb13a7bc-78f1-480f-a6f8-bd13f1d77a8d"
      },
      "source": [
        "item_metrics.head(10)"
      ],
      "execution_count": 418,
      "outputs": [
        {
          "output_type": "execute_result",
          "data": {
            "text/html": [
              "<div>\n",
              "<style scoped>\n",
              "    .dataframe tbody tr th:only-of-type {\n",
              "        vertical-align: middle;\n",
              "    }\n",
              "\n",
              "    .dataframe tbody tr th {\n",
              "        vertical-align: top;\n",
              "    }\n",
              "\n",
              "    .dataframe thead th {\n",
              "        text-align: right;\n",
              "    }\n",
              "</style>\n",
              "<table border=\"1\" class=\"dataframe\">\n",
              "  <thead>\n",
              "    <tr style=\"text-align: right;\">\n",
              "      <th></th>\n",
              "      <th>item_id</th>\n",
              "      <th>MSE</th>\n",
              "      <th>abs_error</th>\n",
              "      <th>abs_target_sum</th>\n",
              "      <th>abs_target_mean</th>\n",
              "      <th>seasonal_error</th>\n",
              "      <th>MASE</th>\n",
              "      <th>MAPE</th>\n",
              "      <th>sMAPE</th>\n",
              "      <th>MSIS</th>\n",
              "      <th>QuantileLoss[0.1]</th>\n",
              "      <th>Coverage[0.1]</th>\n",
              "      <th>QuantileLoss[0.5]</th>\n",
              "      <th>Coverage[0.5]</th>\n",
              "      <th>QuantileLoss[0.9]</th>\n",
              "      <th>Coverage[0.9]</th>\n",
              "    </tr>\n",
              "  </thead>\n",
              "  <tbody>\n",
              "    <tr>\n",
              "      <th>0</th>\n",
              "      <td>NaN</td>\n",
              "      <td>0.023044</td>\n",
              "      <td>24.647198</td>\n",
              "      <td>502.617401</td>\n",
              "      <td>2.01047</td>\n",
              "      <td>0.752206</td>\n",
              "      <td>0.131066</td>\n",
              "      <td>0.155665</td>\n",
              "      <td>0.096449</td>\n",
              "      <td>5.242648</td>\n",
              "      <td>22.092654</td>\n",
              "      <td>0.256</td>\n",
              "      <td>24.647199</td>\n",
              "      <td>0.256</td>\n",
              "      <td>27.201744</td>\n",
              "      <td>0.256</td>\n",
              "    </tr>\n",
              "  </tbody>\n",
              "</table>\n",
              "</div>"
            ],
            "text/plain": [
              "   item_id       MSE  ...  QuantileLoss[0.9]  Coverage[0.9]\n",
              "0      NaN  0.023044  ...          27.201744          0.256\n",
              "\n",
              "[1 rows x 16 columns]"
            ]
          },
          "metadata": {},
          "execution_count": 418
        }
      ]
    },
    {
      "cell_type": "code",
      "metadata": {
        "id": "cg92c0W3Aul7",
        "colab": {
          "base_uri": "https://localhost:8080/",
          "height": 279
        },
        "outputId": "0c3a4e0b-ef9e-4836-9f60-64892f245c87"
      },
      "source": [
        "item_metrics.plot(x='MSIS', y='MASE', kind='scatter')\n",
        "plt.grid(which=\"both\")\n",
        "plt.savefig(\"fig6.pdf\",bbox_inches=\"tight\")\n",
        "plt.show()"
      ],
      "execution_count": 419,
      "outputs": [
        {
          "output_type": "display_data",
          "data": {
            "image/png": "[encoded data removed]",
            "text/plain": [
              "<Figure size 432x288 with 1 Axes>"
            ]
          },
          "metadata": {
            "needs_background": "light"
          }
        }
      ]
    }
  ]
}