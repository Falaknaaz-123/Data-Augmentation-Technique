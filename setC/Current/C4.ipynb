{
  "nbformat": 4,
  "nbformat_minor": 0,
  "metadata": {
    "colab": {
      "name": "Copy of Copy of Rawdata_82_1_Charge_Capacity_forecast.ipynb",
      "provenance": [],
      "collapsed_sections": []
    },
    "kernelspec": {
      "display_name": "Python 3",
      "name": "python3"
    }
  },
  "cells": [
    {
      "cell_type": "code",
      "metadata": {
        "colab": {
          "base_uri": "https://localhost:8080/"
        },
        "id": "BISkgn0jVdmk",
        "outputId": "df4c1cc9-507d-4253-d9b3-d0c04c297499"
      },
      "source": [
        "pip install --upgrade mxnet~=1.7 gluonts"
      ],
      "execution_count": 349,
      "outputs": [
        {
          "output_type": "stream",
          "name": "stdout",
          "text": [
            "Requirement already satisfied: mxnet~=1.7 in /usr/local/lib/python3.7/dist-packages (1.8.0.post0)\n",
            "Requirement already satisfied: gluonts in /usr/local/lib/python3.7/dist-packages (0.8.1)\n",
            "Requirement already satisfied: requests<3,>=2.20.0 in /usr/local/lib/python3.7/dist-packages (from mxnet~=1.7) (2.23.0)\n",
            "Requirement already satisfied: numpy<2.0.0,>1.16.0 in /usr/local/lib/python3.7/dist-packages (from mxnet~=1.7) (1.19.5)\n",
            "Requirement already satisfied: graphviz<0.9.0,>=0.8.1 in /usr/local/lib/python3.7/dist-packages (from mxnet~=1.7) (0.8.4)\n",
            "Requirement already satisfied: urllib3!=1.25.0,!=1.25.1,<1.26,>=1.21.1 in /usr/local/lib/python3.7/dist-packages (from requests<3,>=2.20.0->mxnet~=1.7) (1.24.3)\n",
            "Requirement already satisfied: chardet<4,>=3.0.2 in /usr/local/lib/python3.7/dist-packages (from requests<3,>=2.20.0->mxnet~=1.7) (3.0.4)\n",
            "Requirement already satisfied: certifi>=2017.4.17 in /usr/local/lib/python3.7/dist-packages (from requests<3,>=2.20.0->mxnet~=1.7) (2021.5.30)\n",
            "Requirement already satisfied: idna<3,>=2.5 in /usr/local/lib/python3.7/dist-packages (from requests<3,>=2.20.0->mxnet~=1.7) (2.10)\n",
            "Requirement already satisfied: typing-extensions~=3.10.0.0 in /usr/local/lib/python3.7/dist-packages (from gluonts) (3.10.0.2)\n",
            "Requirement already satisfied: pandas~=1.0 in /usr/local/lib/python3.7/dist-packages (from gluonts) (1.1.5)\n",
            "Requirement already satisfied: tqdm~=4.23 in /usr/local/lib/python3.7/dist-packages (from gluonts) (4.62.3)\n",
            "Requirement already satisfied: holidays>=0.9 in /usr/local/lib/python3.7/dist-packages (from gluonts) (0.10.5.2)\n",
            "Requirement already satisfied: pydantic~=1.1 in /usr/local/lib/python3.7/dist-packages (from gluonts) (1.8.2)\n",
            "Requirement already satisfied: toolz~=0.10 in /usr/local/lib/python3.7/dist-packages (from gluonts) (0.11.1)\n",
            "Requirement already satisfied: matplotlib~=3.0 in /usr/local/lib/python3.7/dist-packages (from gluonts) (3.2.2)\n",
            "Requirement already satisfied: korean-lunar-calendar in /usr/local/lib/python3.7/dist-packages (from holidays>=0.9->gluonts) (0.2.1)\n",
            "Requirement already satisfied: convertdate>=2.3.0 in /usr/local/lib/python3.7/dist-packages (from holidays>=0.9->gluonts) (2.3.2)\n",
            "Requirement already satisfied: six in /usr/local/lib/python3.7/dist-packages (from holidays>=0.9->gluonts) (1.15.0)\n",
            "Requirement already satisfied: python-dateutil in /usr/local/lib/python3.7/dist-packages (from holidays>=0.9->gluonts) (2.8.2)\n",
            "Requirement already satisfied: hijri-converter in /usr/local/lib/python3.7/dist-packages (from holidays>=0.9->gluonts) (2.2.1)\n",
            "Requirement already satisfied: pytz>=2014.10 in /usr/local/lib/python3.7/dist-packages (from convertdate>=2.3.0->holidays>=0.9->gluonts) (2018.9)\n",
            "Requirement already satisfied: pymeeus<=1,>=0.3.13 in /usr/local/lib/python3.7/dist-packages (from convertdate>=2.3.0->holidays>=0.9->gluonts) (0.5.11)\n",
            "Requirement already satisfied: cycler>=0.10 in /usr/local/lib/python3.7/dist-packages (from matplotlib~=3.0->gluonts) (0.10.0)\n",
            "Requirement already satisfied: pyparsing!=2.0.4,!=2.1.2,!=2.1.6,>=2.0.1 in /usr/local/lib/python3.7/dist-packages (from matplotlib~=3.0->gluonts) (2.4.7)\n",
            "Requirement already satisfied: kiwisolver>=1.0.1 in /usr/local/lib/python3.7/dist-packages (from matplotlib~=3.0->gluonts) (1.3.2)\n"
          ]
        }
      ]
    },
    {
      "cell_type": "code",
      "metadata": {
        "id": "Io5dASCrVoYO"
      },
      "source": [
        "# Third-party imports\n",
        "%matplotlib inline\n",
        "import mxnet as mx\n",
        "from mxnet import gluon\n",
        "import numpy as np\n",
        "import pandas as pd\n",
        "import matplotlib.pyplot as plt\n",
        "import json"
      ],
      "execution_count": 350,
      "outputs": []
    },
    {
      "cell_type": "code",
      "metadata": {
        "id": "JS2hNvrbVoa6"
      },
      "source": [
        "# gluon datasets\n",
        "from gluonts.dataset.repository.datasets import get_dataset, dataset_recipes\n",
        "from gluonts.dataset.util import to_pandas"
      ],
      "execution_count": 351,
      "outputs": []
    },
    {
      "cell_type": "code",
      "metadata": {
        "colab": {
          "base_uri": "https://localhost:8080/"
        },
        "id": "q-6chF-mVod2",
        "outputId": "bce3ab76-4660-48d5-ef9b-b99940af7a21"
      },
      "source": [
        "print(f\"Available datasets: {list(dataset_recipes.keys())}\")"
      ],
      "execution_count": 352,
      "outputs": [
        {
          "output_type": "stream",
          "name": "stdout",
          "text": [
            "Available datasets: ['constant', 'exchange_rate', 'solar-energy', 'electricity', 'traffic', 'exchange_rate_nips', 'electricity_nips', 'traffic_nips', 'solar_nips', 'wiki-rolling_nips', 'taxi_30min', 'kaggle_web_traffic_with_missing', 'kaggle_web_traffic_without_missing', 'kaggle_web_traffic_weekly', 'm1_yearly', 'm1_quarterly', 'm1_monthly', 'nn5_daily_with_missing', 'nn5_daily_without_missing', 'nn5_weekly', 'tourism_monthly', 'tourism_quarterly', 'tourism_yearly', 'm3_monthly', 'm3_quarterly', 'm3_yearly', 'm3_other', 'm4_hourly', 'm4_daily', 'm4_weekly', 'm4_monthly', 'm4_quarterly', 'm4_yearly', 'm5']\n"
          ]
        }
      ]
    },
    {
      "cell_type": "code",
      "metadata": {
        "colab": {
          "base_uri": "https://localhost:8080/"
        },
        "id": "3dl59DPWBspm",
        "outputId": "687c74ff-af8d-44c3-8303-166e75596710"
      },
      "source": [
        "pip install mxnet"
      ],
      "execution_count": 353,
      "outputs": [
        {
          "output_type": "stream",
          "name": "stdout",
          "text": [
            "Requirement already satisfied: mxnet in /usr/local/lib/python3.7/dist-packages (1.8.0.post0)\n",
            "Requirement already satisfied: numpy<2.0.0,>1.16.0 in /usr/local/lib/python3.7/dist-packages (from mxnet) (1.19.5)\n",
            "Requirement already satisfied: requests<3,>=2.20.0 in /usr/local/lib/python3.7/dist-packages (from mxnet) (2.23.0)\n",
            "Requirement already satisfied: graphviz<0.9.0,>=0.8.1 in /usr/local/lib/python3.7/dist-packages (from mxnet) (0.8.4)\n",
            "Requirement already satisfied: certifi>=2017.4.17 in /usr/local/lib/python3.7/dist-packages (from requests<3,>=2.20.0->mxnet) (2021.5.30)\n",
            "Requirement already satisfied: idna<3,>=2.5 in /usr/local/lib/python3.7/dist-packages (from requests<3,>=2.20.0->mxnet) (2.10)\n",
            "Requirement already satisfied: chardet<4,>=3.0.2 in /usr/local/lib/python3.7/dist-packages (from requests<3,>=2.20.0->mxnet) (3.0.4)\n",
            "Requirement already satisfied: urllib3!=1.25.0,!=1.25.1,<1.26,>=1.21.1 in /usr/local/lib/python3.7/dist-packages (from requests<3,>=2.20.0->mxnet) (1.24.3)\n"
          ]
        }
      ]
    },
    {
      "cell_type": "code",
      "metadata": {
        "id": "qjWGHZjhlWe4"
      },
      "source": [
        "dataset_nasa = pd.read_csv('DOE-551-600-10DU-01_3.csv')"
      ],
      "execution_count": 354,
      "outputs": []
    },
    {
      "cell_type": "code",
      "metadata": {
        "colab": {
          "base_uri": "https://localhost:8080/",
          "height": 437
        },
        "id": "SLR52rSMVomO",
        "outputId": "1d685d45-53e3-4b6f-819c-7e922a1609d7"
      },
      "source": [
        "dataset_nasa\n"
      ],
      "execution_count": 355,
      "outputs": [
        {
          "output_type": "execute_result",
          "data": {
            "text/html": [
              "<div>\n",
              "<style scoped>\n",
              "    .dataframe tbody tr th:only-of-type {\n",
              "        vertical-align: middle;\n",
              "    }\n",
              "\n",
              "    .dataframe tbody tr th {\n",
              "        vertical-align: top;\n",
              "    }\n",
              "\n",
              "    .dataframe thead th {\n",
              "        text-align: right;\n",
              "    }\n",
              "</style>\n",
              "<table border=\"1\" class=\"dataframe\">\n",
              "  <thead>\n",
              "    <tr style=\"text-align: right;\">\n",
              "      <th></th>\n",
              "      <th>index</th>\n",
              "      <th>Test_Time(s)</th>\n",
              "      <th>Step_Time(s)</th>\n",
              "      <th>Cycle_Index</th>\n",
              "      <th>Step_Index</th>\n",
              "      <th>Voltage</th>\n",
              "      <th>Test_Time(s).1</th>\n",
              "      <th>Step_Time(s).1</th>\n",
              "      <th>Cycle_Index.1</th>\n",
              "      <th>Step_Index.1</th>\n",
              "      <th>Current</th>\n",
              "      <th>Test_Time(s).2</th>\n",
              "      <th>Step_Time(s).2</th>\n",
              "      <th>Cycle_Index.2</th>\n",
              "      <th>Step_Index.2</th>\n",
              "      <th>Charge_Capacity</th>\n",
              "      <th>Test_Time(s).3</th>\n",
              "      <th>Step_Time(s).3</th>\n",
              "      <th>Cycle_Index.3</th>\n",
              "      <th>Step_Index.3</th>\n",
              "      <th>Discharge_Capacity</th>\n",
              "    </tr>\n",
              "  </thead>\n",
              "  <tbody>\n",
              "    <tr>\n",
              "      <th>0</th>\n",
              "      <td>0</td>\n",
              "      <td>120.004600</td>\n",
              "      <td>120.0046</td>\n",
              "      <td>1</td>\n",
              "      <td>1</td>\n",
              "      <td>3.564834</td>\n",
              "      <td>120.004600</td>\n",
              "      <td>120.0046</td>\n",
              "      <td>1</td>\n",
              "      <td>1</td>\n",
              "      <td>0.000000</td>\n",
              "      <td>120.004600</td>\n",
              "      <td>120.0046</td>\n",
              "      <td>1</td>\n",
              "      <td>1</td>\n",
              "      <td>0.000000</td>\n",
              "      <td>120.004600</td>\n",
              "      <td>120.0046</td>\n",
              "      <td>1</td>\n",
              "      <td>1</td>\n",
              "      <td>0.000000</td>\n",
              "    </tr>\n",
              "    <tr>\n",
              "      <th>1</th>\n",
              "      <td>1</td>\n",
              "      <td>240.000200</td>\n",
              "      <td>240.0002</td>\n",
              "      <td>1</td>\n",
              "      <td>1</td>\n",
              "      <td>3.564931</td>\n",
              "      <td>240.000200</td>\n",
              "      <td>240.0002</td>\n",
              "      <td>1</td>\n",
              "      <td>1</td>\n",
              "      <td>0.000000</td>\n",
              "      <td>240.000200</td>\n",
              "      <td>240.0002</td>\n",
              "      <td>1</td>\n",
              "      <td>1</td>\n",
              "      <td>0.000000</td>\n",
              "      <td>240.000200</td>\n",
              "      <td>240.0002</td>\n",
              "      <td>1</td>\n",
              "      <td>1</td>\n",
              "      <td>0.000000</td>\n",
              "    </tr>\n",
              "    <tr>\n",
              "      <th>2</th>\n",
              "      <td>2</td>\n",
              "      <td>360.000700</td>\n",
              "      <td>360.0007</td>\n",
              "      <td>1</td>\n",
              "      <td>1</td>\n",
              "      <td>3.566616</td>\n",
              "      <td>360.000700</td>\n",
              "      <td>360.0007</td>\n",
              "      <td>1</td>\n",
              "      <td>1</td>\n",
              "      <td>0.000000</td>\n",
              "      <td>360.000700</td>\n",
              "      <td>360.0007</td>\n",
              "      <td>1</td>\n",
              "      <td>1</td>\n",
              "      <td>0.000000</td>\n",
              "      <td>360.000700</td>\n",
              "      <td>360.0007</td>\n",
              "      <td>1</td>\n",
              "      <td>1</td>\n",
              "      <td>0.000000</td>\n",
              "    </tr>\n",
              "    <tr>\n",
              "      <th>3</th>\n",
              "      <td>3</td>\n",
              "      <td>480.001900</td>\n",
              "      <td>480.0019</td>\n",
              "      <td>1</td>\n",
              "      <td>1</td>\n",
              "      <td>3.568211</td>\n",
              "      <td>480.001900</td>\n",
              "      <td>480.0019</td>\n",
              "      <td>1</td>\n",
              "      <td>1</td>\n",
              "      <td>0.000000</td>\n",
              "      <td>480.001900</td>\n",
              "      <td>480.0019</td>\n",
              "      <td>1</td>\n",
              "      <td>1</td>\n",
              "      <td>0.000000</td>\n",
              "      <td>480.001900</td>\n",
              "      <td>480.0019</td>\n",
              "      <td>1</td>\n",
              "      <td>1</td>\n",
              "      <td>0.000000</td>\n",
              "    </tr>\n",
              "    <tr>\n",
              "      <th>4</th>\n",
              "      <td>4</td>\n",
              "      <td>600.003300</td>\n",
              "      <td>600.0033</td>\n",
              "      <td>1</td>\n",
              "      <td>1</td>\n",
              "      <td>3.569142</td>\n",
              "      <td>600.003300</td>\n",
              "      <td>600.0033</td>\n",
              "      <td>1</td>\n",
              "      <td>1</td>\n",
              "      <td>0.000000</td>\n",
              "      <td>600.003300</td>\n",
              "      <td>600.0033</td>\n",
              "      <td>1</td>\n",
              "      <td>1</td>\n",
              "      <td>0.000000</td>\n",
              "      <td>600.003300</td>\n",
              "      <td>600.0033</td>\n",
              "      <td>1</td>\n",
              "      <td>1</td>\n",
              "      <td>0.000000</td>\n",
              "    </tr>\n",
              "    <tr>\n",
              "      <th>...</th>\n",
              "      <td>...</td>\n",
              "      <td>...</td>\n",
              "      <td>...</td>\n",
              "      <td>...</td>\n",
              "      <td>...</td>\n",
              "      <td>...</td>\n",
              "      <td>...</td>\n",
              "      <td>...</td>\n",
              "      <td>...</td>\n",
              "      <td>...</td>\n",
              "      <td>...</td>\n",
              "      <td>...</td>\n",
              "      <td>...</td>\n",
              "      <td>...</td>\n",
              "      <td>...</td>\n",
              "      <td>...</td>\n",
              "      <td>...</td>\n",
              "      <td>...</td>\n",
              "      <td>...</td>\n",
              "      <td>...</td>\n",
              "      <td>...</td>\n",
              "    </tr>\n",
              "    <tr>\n",
              "      <th>3905</th>\n",
              "      <td>3905</td>\n",
              "      <td>455650.938480</td>\n",
              "      <td>3828.2245</td>\n",
              "      <td>50</td>\n",
              "      <td>5</td>\n",
              "      <td>2.999979</td>\n",
              "      <td>455650.938480</td>\n",
              "      <td>3828.2245</td>\n",
              "      <td>50</td>\n",
              "      <td>5</td>\n",
              "      <td>-2.282017</td>\n",
              "      <td>455650.938480</td>\n",
              "      <td>3828.2245</td>\n",
              "      <td>50</td>\n",
              "      <td>5</td>\n",
              "      <td>2.428658</td>\n",
              "      <td>455650.938480</td>\n",
              "      <td>3828.2245</td>\n",
              "      <td>50</td>\n",
              "      <td>5</td>\n",
              "      <td>2.426762</td>\n",
              "    </tr>\n",
              "    <tr>\n",
              "      <th>3906</th>\n",
              "      <td>3906</td>\n",
              "      <td>455771.101924</td>\n",
              "      <td>120.0040</td>\n",
              "      <td>50</td>\n",
              "      <td>6</td>\n",
              "      <td>3.621850</td>\n",
              "      <td>455771.101924</td>\n",
              "      <td>120.0040</td>\n",
              "      <td>50</td>\n",
              "      <td>6</td>\n",
              "      <td>0.000000</td>\n",
              "      <td>455771.101924</td>\n",
              "      <td>120.0040</td>\n",
              "      <td>50</td>\n",
              "      <td>6</td>\n",
              "      <td>2.428658</td>\n",
              "      <td>455771.101924</td>\n",
              "      <td>120.0040</td>\n",
              "      <td>50</td>\n",
              "      <td>6</td>\n",
              "      <td>2.426808</td>\n",
              "    </tr>\n",
              "    <tr>\n",
              "      <th>3907</th>\n",
              "      <td>3907</td>\n",
              "      <td>455891.102624</td>\n",
              "      <td>240.0047</td>\n",
              "      <td>50</td>\n",
              "      <td>6</td>\n",
              "      <td>3.654560</td>\n",
              "      <td>455891.102624</td>\n",
              "      <td>240.0047</td>\n",
              "      <td>50</td>\n",
              "      <td>6</td>\n",
              "      <td>0.000000</td>\n",
              "      <td>455891.102624</td>\n",
              "      <td>240.0047</td>\n",
              "      <td>50</td>\n",
              "      <td>6</td>\n",
              "      <td>2.428658</td>\n",
              "      <td>455891.102624</td>\n",
              "      <td>240.0047</td>\n",
              "      <td>50</td>\n",
              "      <td>6</td>\n",
              "      <td>2.426808</td>\n",
              "    </tr>\n",
              "    <tr>\n",
              "      <th>3908</th>\n",
              "      <td>3908</td>\n",
              "      <td>455951.100824</td>\n",
              "      <td>300.0029</td>\n",
              "      <td>50</td>\n",
              "      <td>6</td>\n",
              "      <td>3.662353</td>\n",
              "      <td>455951.100824</td>\n",
              "      <td>300.0029</td>\n",
              "      <td>50</td>\n",
              "      <td>6</td>\n",
              "      <td>0.000000</td>\n",
              "      <td>455951.100824</td>\n",
              "      <td>300.0029</td>\n",
              "      <td>50</td>\n",
              "      <td>6</td>\n",
              "      <td>2.428658</td>\n",
              "      <td>455951.100824</td>\n",
              "      <td>300.0029</td>\n",
              "      <td>50</td>\n",
              "      <td>6</td>\n",
              "      <td>2.426808</td>\n",
              "    </tr>\n",
              "    <tr>\n",
              "      <th>3909</th>\n",
              "      <td>3909</td>\n",
              "      <td>456026.897068</td>\n",
              "      <td>75.7099</td>\n",
              "      <td>51</td>\n",
              "      <td>8</td>\n",
              "      <td>4.200005</td>\n",
              "      <td>456026.897068</td>\n",
              "      <td>75.7099</td>\n",
              "      <td>51</td>\n",
              "      <td>8</td>\n",
              "      <td>3.260038</td>\n",
              "      <td>456026.897068</td>\n",
              "      <td>75.7099</td>\n",
              "      <td>51</td>\n",
              "      <td>8</td>\n",
              "      <td>0.068560</td>\n",
              "      <td>456026.897068</td>\n",
              "      <td>75.7099</td>\n",
              "      <td>51</td>\n",
              "      <td>8</td>\n",
              "      <td>0.000000</td>\n",
              "    </tr>\n",
              "  </tbody>\n",
              "</table>\n",
              "<p>3910 rows × 21 columns</p>\n",
              "</div>"
            ],
            "text/plain": [
              "      index   Test_Time(s)  ...  Step_Index.3  Discharge_Capacity\n",
              "0         0     120.004600  ...             1            0.000000\n",
              "1         1     240.000200  ...             1            0.000000\n",
              "2         2     360.000700  ...             1            0.000000\n",
              "3         3     480.001900  ...             1            0.000000\n",
              "4         4     600.003300  ...             1            0.000000\n",
              "...     ...            ...  ...           ...                 ...\n",
              "3905   3905  455650.938480  ...             5            2.426762\n",
              "3906   3906  455771.101924  ...             6            2.426808\n",
              "3907   3907  455891.102624  ...             6            2.426808\n",
              "3908   3908  455951.100824  ...             6            2.426808\n",
              "3909   3909  456026.897068  ...             8            0.000000\n",
              "\n",
              "[3910 rows x 21 columns]"
            ]
          },
          "metadata": {},
          "execution_count": 355
        }
      ]
    },
    {
      "cell_type": "code",
      "metadata": {
        "id": "wwAaq-AO4AKS"
      },
      "source": [
        "df = pd.DataFrame(dataset_nasa)\n",
        "cols = [0,10]\n",
        "df = df[df.columns[cols]]"
      ],
      "execution_count": 420,
      "outputs": []
    },
    {
      "cell_type": "code",
      "metadata": {
        "colab": {
          "base_uri": "https://localhost:8080/",
          "height": 417
        },
        "id": "4ss0ApIz4AWr",
        "outputId": "b8986b0b-fc5c-4f6f-914a-fd416315eaf8"
      },
      "source": [
        "df"
      ],
      "execution_count": 421,
      "outputs": [
        {
          "output_type": "execute_result",
          "data": {
            "text/html": [
              "<div>\n",
              "<style scoped>\n",
              "    .dataframe tbody tr th:only-of-type {\n",
              "        vertical-align: middle;\n",
              "    }\n",
              "\n",
              "    .dataframe tbody tr th {\n",
              "        vertical-align: top;\n",
              "    }\n",
              "\n",
              "    .dataframe thead th {\n",
              "        text-align: right;\n",
              "    }\n",
              "</style>\n",
              "<table border=\"1\" class=\"dataframe\">\n",
              "  <thead>\n",
              "    <tr style=\"text-align: right;\">\n",
              "      <th></th>\n",
              "      <th>index</th>\n",
              "      <th>Current</th>\n",
              "    </tr>\n",
              "  </thead>\n",
              "  <tbody>\n",
              "    <tr>\n",
              "      <th>0</th>\n",
              "      <td>0</td>\n",
              "      <td>0.000000</td>\n",
              "    </tr>\n",
              "    <tr>\n",
              "      <th>1</th>\n",
              "      <td>1</td>\n",
              "      <td>0.000000</td>\n",
              "    </tr>\n",
              "    <tr>\n",
              "      <th>2</th>\n",
              "      <td>2</td>\n",
              "      <td>0.000000</td>\n",
              "    </tr>\n",
              "    <tr>\n",
              "      <th>3</th>\n",
              "      <td>3</td>\n",
              "      <td>0.000000</td>\n",
              "    </tr>\n",
              "    <tr>\n",
              "      <th>4</th>\n",
              "      <td>4</td>\n",
              "      <td>0.000000</td>\n",
              "    </tr>\n",
              "    <tr>\n",
              "      <th>...</th>\n",
              "      <td>...</td>\n",
              "      <td>...</td>\n",
              "    </tr>\n",
              "    <tr>\n",
              "      <th>3905</th>\n",
              "      <td>3905</td>\n",
              "      <td>-2.282017</td>\n",
              "    </tr>\n",
              "    <tr>\n",
              "      <th>3906</th>\n",
              "      <td>3906</td>\n",
              "      <td>0.000000</td>\n",
              "    </tr>\n",
              "    <tr>\n",
              "      <th>3907</th>\n",
              "      <td>3907</td>\n",
              "      <td>0.000000</td>\n",
              "    </tr>\n",
              "    <tr>\n",
              "      <th>3908</th>\n",
              "      <td>3908</td>\n",
              "      <td>0.000000</td>\n",
              "    </tr>\n",
              "    <tr>\n",
              "      <th>3909</th>\n",
              "      <td>3909</td>\n",
              "      <td>3.260038</td>\n",
              "    </tr>\n",
              "  </tbody>\n",
              "</table>\n",
              "<p>3910 rows × 2 columns</p>\n",
              "</div>"
            ],
            "text/plain": [
              "      index   Current\n",
              "0         0  0.000000\n",
              "1         1  0.000000\n",
              "2         2  0.000000\n",
              "3         3  0.000000\n",
              "4         4  0.000000\n",
              "...     ...       ...\n",
              "3905   3905 -2.282017\n",
              "3906   3906  0.000000\n",
              "3907   3907  0.000000\n",
              "3908   3908  0.000000\n",
              "3909   3909  3.260038\n",
              "\n",
              "[3910 rows x 2 columns]"
            ]
          },
          "metadata": {},
          "execution_count": 421
        }
      ]
    },
    {
      "cell_type": "code",
      "metadata": {
        "id": "T807dGEGdGOF"
      },
      "source": [
        "df1 = df.to_numpy()"
      ],
      "execution_count": 422,
      "outputs": []
    },
    {
      "cell_type": "code",
      "metadata": {
        "id": "LODZWZeYkh2n"
      },
      "source": [
        "train_size = int(len(df1)*0.8)\n",
        "test_size = len(df1) - train_size\n",
        "train = df1[1:train_size,:]\n",
        "test = df1[train_size:len(df1)]"
      ],
      "execution_count": 423,
      "outputs": []
    },
    {
      "cell_type": "code",
      "metadata": {
        "colab": {
          "base_uri": "https://localhost:8080/"
        },
        "id": "AWeTV_6qgxIV",
        "outputId": "b25d20be-ccdd-43d3-a96d-9dd1b61c03b7"
      },
      "source": [
        "train_size"
      ],
      "execution_count": 424,
      "outputs": [
        {
          "output_type": "execute_result",
          "data": {
            "text/plain": [
              "3128"
            ]
          },
          "metadata": {},
          "execution_count": 424
        }
      ]
    },
    {
      "cell_type": "code",
      "metadata": {
        "id": "KeMJFvQ0U3Z6"
      },
      "source": [
        "train_set = pd.DataFrame(train)"
      ],
      "execution_count": 425,
      "outputs": []
    },
    {
      "cell_type": "code",
      "metadata": {
        "colab": {
          "base_uri": "https://localhost:8080/",
          "height": 417
        },
        "id": "WETL8vj3d6zz",
        "outputId": "ecc0e8dc-816e-4ce6-b1b2-94562a6d8e2c"
      },
      "source": [
        "train_set"
      ],
      "execution_count": 426,
      "outputs": [
        {
          "output_type": "execute_result",
          "data": {
            "text/html": [
              "<div>\n",
              "<style scoped>\n",
              "    .dataframe tbody tr th:only-of-type {\n",
              "        vertical-align: middle;\n",
              "    }\n",
              "\n",
              "    .dataframe tbody tr th {\n",
              "        vertical-align: top;\n",
              "    }\n",
              "\n",
              "    .dataframe thead th {\n",
              "        text-align: right;\n",
              "    }\n",
              "</style>\n",
              "<table border=\"1\" class=\"dataframe\">\n",
              "  <thead>\n",
              "    <tr style=\"text-align: right;\">\n",
              "      <th></th>\n",
              "      <th>0</th>\n",
              "      <th>1</th>\n",
              "    </tr>\n",
              "  </thead>\n",
              "  <tbody>\n",
              "    <tr>\n",
              "      <th>0</th>\n",
              "      <td>1.0</td>\n",
              "      <td>0.000000</td>\n",
              "    </tr>\n",
              "    <tr>\n",
              "      <th>1</th>\n",
              "      <td>2.0</td>\n",
              "      <td>0.000000</td>\n",
              "    </tr>\n",
              "    <tr>\n",
              "      <th>2</th>\n",
              "      <td>3.0</td>\n",
              "      <td>0.000000</td>\n",
              "    </tr>\n",
              "    <tr>\n",
              "      <th>3</th>\n",
              "      <td>4.0</td>\n",
              "      <td>0.000000</td>\n",
              "    </tr>\n",
              "    <tr>\n",
              "      <th>4</th>\n",
              "      <td>5.0</td>\n",
              "      <td>0.000000</td>\n",
              "    </tr>\n",
              "    <tr>\n",
              "      <th>...</th>\n",
              "      <td>...</td>\n",
              "      <td>...</td>\n",
              "    </tr>\n",
              "    <tr>\n",
              "      <th>3122</th>\n",
              "      <td>3123.0</td>\n",
              "      <td>-2.282186</td>\n",
              "    </tr>\n",
              "    <tr>\n",
              "      <th>3123</th>\n",
              "      <td>3124.0</td>\n",
              "      <td>-2.282039</td>\n",
              "    </tr>\n",
              "    <tr>\n",
              "      <th>3124</th>\n",
              "      <td>3125.0</td>\n",
              "      <td>-2.282001</td>\n",
              "    </tr>\n",
              "    <tr>\n",
              "      <th>3125</th>\n",
              "      <td>3126.0</td>\n",
              "      <td>0.000000</td>\n",
              "    </tr>\n",
              "    <tr>\n",
              "      <th>3126</th>\n",
              "      <td>3127.0</td>\n",
              "      <td>0.000000</td>\n",
              "    </tr>\n",
              "  </tbody>\n",
              "</table>\n",
              "<p>3127 rows × 2 columns</p>\n",
              "</div>"
            ],
            "text/plain": [
              "           0         1\n",
              "0        1.0  0.000000\n",
              "1        2.0  0.000000\n",
              "2        3.0  0.000000\n",
              "3        4.0  0.000000\n",
              "4        5.0  0.000000\n",
              "...      ...       ...\n",
              "3122  3123.0 -2.282186\n",
              "3123  3124.0 -2.282039\n",
              "3124  3125.0 -2.282001\n",
              "3125  3126.0  0.000000\n",
              "3126  3127.0  0.000000\n",
              "\n",
              "[3127 rows x 2 columns]"
            ]
          },
          "metadata": {},
          "execution_count": 426
        }
      ]
    },
    {
      "cell_type": "code",
      "metadata": {
        "id": "5g-dEeBseFAS"
      },
      "source": [
        "test_set = pd.DataFrame(test)"
      ],
      "execution_count": 427,
      "outputs": []
    },
    {
      "cell_type": "code",
      "metadata": {
        "colab": {
          "base_uri": "https://localhost:8080/",
          "height": 417
        },
        "id": "T3rDI_yxeKmE",
        "outputId": "afcfab09-1bfc-48ea-93b4-cae77562874b"
      },
      "source": [
        "test_set"
      ],
      "execution_count": 428,
      "outputs": [
        {
          "output_type": "execute_result",
          "data": {
            "text/html": [
              "<div>\n",
              "<style scoped>\n",
              "    .dataframe tbody tr th:only-of-type {\n",
              "        vertical-align: middle;\n",
              "    }\n",
              "\n",
              "    .dataframe tbody tr th {\n",
              "        vertical-align: top;\n",
              "    }\n",
              "\n",
              "    .dataframe thead th {\n",
              "        text-align: right;\n",
              "    }\n",
              "</style>\n",
              "<table border=\"1\" class=\"dataframe\">\n",
              "  <thead>\n",
              "    <tr style=\"text-align: right;\">\n",
              "      <th></th>\n",
              "      <th>0</th>\n",
              "      <th>1</th>\n",
              "    </tr>\n",
              "  </thead>\n",
              "  <tbody>\n",
              "    <tr>\n",
              "      <th>0</th>\n",
              "      <td>3128.0</td>\n",
              "      <td>0.000000</td>\n",
              "    </tr>\n",
              "    <tr>\n",
              "      <th>1</th>\n",
              "      <td>3129.0</td>\n",
              "      <td>3.259939</td>\n",
              "    </tr>\n",
              "    <tr>\n",
              "      <th>2</th>\n",
              "      <td>3130.0</td>\n",
              "      <td>3.259970</td>\n",
              "    </tr>\n",
              "    <tr>\n",
              "      <th>3</th>\n",
              "      <td>3131.0</td>\n",
              "      <td>3.260031</td>\n",
              "    </tr>\n",
              "    <tr>\n",
              "      <th>4</th>\n",
              "      <td>3132.0</td>\n",
              "      <td>3.260099</td>\n",
              "    </tr>\n",
              "    <tr>\n",
              "      <th>...</th>\n",
              "      <td>...</td>\n",
              "      <td>...</td>\n",
              "    </tr>\n",
              "    <tr>\n",
              "      <th>777</th>\n",
              "      <td>3905.0</td>\n",
              "      <td>-2.282017</td>\n",
              "    </tr>\n",
              "    <tr>\n",
              "      <th>778</th>\n",
              "      <td>3906.0</td>\n",
              "      <td>0.000000</td>\n",
              "    </tr>\n",
              "    <tr>\n",
              "      <th>779</th>\n",
              "      <td>3907.0</td>\n",
              "      <td>0.000000</td>\n",
              "    </tr>\n",
              "    <tr>\n",
              "      <th>780</th>\n",
              "      <td>3908.0</td>\n",
              "      <td>0.000000</td>\n",
              "    </tr>\n",
              "    <tr>\n",
              "      <th>781</th>\n",
              "      <td>3909.0</td>\n",
              "      <td>3.260038</td>\n",
              "    </tr>\n",
              "  </tbody>\n",
              "</table>\n",
              "<p>782 rows × 2 columns</p>\n",
              "</div>"
            ],
            "text/plain": [
              "          0         1\n",
              "0    3128.0  0.000000\n",
              "1    3129.0  3.259939\n",
              "2    3130.0  3.259970\n",
              "3    3131.0  3.260031\n",
              "4    3132.0  3.260099\n",
              "..      ...       ...\n",
              "777  3905.0 -2.282017\n",
              "778  3906.0  0.000000\n",
              "779  3907.0  0.000000\n",
              "780  3908.0  0.000000\n",
              "781  3909.0  3.260038\n",
              "\n",
              "[782 rows x 2 columns]"
            ]
          },
          "metadata": {},
          "execution_count": 428
        }
      ]
    },
    {
      "cell_type": "code",
      "metadata": {
        "colab": {
          "base_uri": "https://localhost:8080/"
        },
        "id": "f1the1T5EOmc",
        "outputId": "5f258474-e1d8-4f27-de83-87041528e002"
      },
      "source": [
        "df.columns"
      ],
      "execution_count": 429,
      "outputs": [
        {
          "output_type": "execute_result",
          "data": {
            "text/plain": [
              "Index(['index', 'Current'], dtype='object')"
            ]
          },
          "metadata": {},
          "execution_count": 429
        }
      ]
    },
    {
      "cell_type": "code",
      "metadata": {
        "id": "0_YxlE0XdCjP"
      },
      "source": [
        "df_input = df[['index','Current']]"
      ],
      "execution_count": 430,
      "outputs": []
    },
    {
      "cell_type": "code",
      "metadata": {
        "id": "Dlc4FnMDdCn0"
      },
      "source": [
        "df_input = df_input.set_index('index')"
      ],
      "execution_count": 431,
      "outputs": []
    },
    {
      "cell_type": "code",
      "metadata": {
        "id": "sIOGFPUXfl8N"
      },
      "source": [
        "train_time = 949\n",
        "prediction_length = 949\n",
        "freq = \"2min\""
      ],
      "execution_count": 432,
      "outputs": []
    },
    {
      "cell_type": "code",
      "metadata": {
        "id": "bIOdz6aNfl_E"
      },
      "source": [
        "from gluonts.dataset.common import ListDataset\n",
        "train_data = ListDataset(\n",
        "    [{\"start\": df_input.index[0], \"target\": df_input.Current[:train_time] }],\n",
        "    freq = \"2min\"\n",
        ")"
      ],
      "execution_count": 434,
      "outputs": []
    },
    {
      "cell_type": "code",
      "metadata": {
        "colab": {
          "base_uri": "https://localhost:8080/",
          "height": 289
        },
        "id": "o3VEMuGqfmCj",
        "outputId": "b66b8151-cc55-4b1c-98ef-56ec93c96f19"
      },
      "source": [
        "entry = next(iter(train_data))\n",
        "train_series = to_pandas(entry)\n",
        "train_series.plot()\n",
        "plt.grid(which=\"both\")\n",
        "plt.legend([\"train series\"], loc=\"upper left\")\n",
        "plt.savefig(\"fig1.pdf\",bbox_inches=\"tight\")\n",
        "plt.show()"
      ],
      "execution_count": 435,
      "outputs": [
        {
          "output_type": "display_data",
          "data": {
            "image/png": "[encoded data removed]",
            "text/plain": [
              "<Figure size 432x288 with 1 Axes>"
            ]
          },
          "metadata": {
            "needs_background": "light"
          }
        }
      ]
    },
    {
      "cell_type": "code",
      "metadata": {
        "id": "NegtiuLcvLWF"
      },
      "source": [
        "test_data = ListDataset(\n",
        "    [{\"start\": df_input.index[0], \"target\": df_input.Current[:]}],\n",
        "    freq = \"2min\"\n",
        ")"
      ],
      "execution_count": 436,
      "outputs": []
    },
    {
      "cell_type": "code",
      "metadata": {
        "colab": {
          "base_uri": "https://localhost:8080/",
          "height": 289
        },
        "id": "8qkov_uhfmIF",
        "outputId": "398cfb20-e380-47d6-fd3a-2c0fff418fa6"
      },
      "source": [
        "entry = next(iter(test_data))\n",
        "test_series = to_pandas(entry)\n",
        "test_series.plot()\n",
        "plt.axvline(train_series.index[-1], color='r') # end of train dataset\n",
        "plt.grid(which=\"both\")\n",
        "plt.legend([\"test series\", \"end of train series\"], loc=\"upper left\")\n",
        "plt.savefig(\"fig2.pdf\",bbox_inches=\"tight\")\n",
        "plt.show()"
      ],
      "execution_count": 437,
      "outputs": [
        {
          "output_type": "display_data",
          "data": {
            "image/png": "[encoded data removed]",
            "text/plain": [
              "<Figure size 432x288 with 1 Axes>"
            ]
          },
          "metadata": {
            "needs_background": "light"
          }
        }
      ]
    },
    {
      "cell_type": "code",
      "metadata": {
        "colab": {
          "base_uri": "https://localhost:8080/"
        },
        "id": "QhoWe6rawAZv",
        "outputId": "a455bcd4-f041-45c4-a4cb-6dab7b73a498"
      },
      "source": [
        "print(f\"Length of forecasting window in test dataset:{len(test_series)-len(train_series)}\")\n",
        "print(f\"Frequency of the time series:{freq}\")"
      ],
      "execution_count": 438,
      "outputs": [
        {
          "output_type": "stream",
          "name": "stdout",
          "text": [
            "Length of forecasting window in test dataset:2961\n",
            "Frequency of the time series:2min\n"
          ]
        }
      ]
    },
    {
      "cell_type": "code",
      "metadata": {
        "id": "2CvnPKD6wAb2"
      },
      "source": [
        "from gluonts.model.simple_feedforward import SimpleFeedForwardEstimator\n",
        "from gluonts.mx.trainer import Trainer"
      ],
      "execution_count": 439,
      "outputs": []
    },
    {
      "cell_type": "code",
      "metadata": {
        "id": "pdmsiYrRwAer"
      },
      "source": [
        "estimator = SimpleFeedForwardEstimator(\n",
        "    num_hidden_dimensions=[10],\n",
        "    prediction_length=250,\n",
        "    context_length=50,\n",
        "    freq=\"2min\",\n",
        "    trainer=Trainer(ctx=\"cpu\", \n",
        "                    epochs=5, \n",
        "                    learning_rate=1e-3, \n",
        "                    num_batches_per_epoch=100\n",
        "                   )\n",
        ")"
      ],
      "execution_count": 440,
      "outputs": []
    },
    {
      "cell_type": "code",
      "metadata": {
        "colab": {
          "base_uri": "https://localhost:8080/"
        },
        "id": "NhL0nVskwAjS",
        "outputId": "a35c440a-3a11-400a-c66f-a3acbbb47440"
      },
      "source": [
        "predictor = estimator.train(train_data)"
      ],
      "execution_count": 441,
      "outputs": [
        {
          "output_type": "stream",
          "name": "stderr",
          "text": [
            "100%|██████████| 100/100 [00:01<00:00, 79.48it/s, epoch=1/5, avg_epoch_loss=1.46]\n",
            "100%|██████████| 100/100 [00:01<00:00, 78.77it/s, epoch=2/5, avg_epoch_loss=1.07]\n",
            "100%|██████████| 100/100 [00:01<00:00, 81.28it/s, epoch=3/5, avg_epoch_loss=0.878]\n",
            "100%|██████████| 100/100 [00:01<00:00, 81.94it/s, epoch=4/5, avg_epoch_loss=0.709]\n",
            "100%|██████████| 100/100 [00:01<00:00, 81.59it/s, epoch=5/5, avg_epoch_loss=0.615]\n"
          ]
        }
      ]
    },
    {
      "cell_type": "code",
      "metadata": {
        "id": "CASb7jv6_CEd"
      },
      "source": [
        "from gluonts.evaluation.backtest import make_evaluation_predictions"
      ],
      "execution_count": 442,
      "outputs": []
    },
    {
      "cell_type": "code",
      "metadata": {
        "id": "4BL7I1rL_CGo"
      },
      "source": [
        "forecast_it, ts_it = make_evaluation_predictions(\n",
        "    dataset=test_data,  # test dataset\n",
        "    predictor=predictor,  # predictor\n",
        "    num_samples=500,  # number of sample paths we want for evaluation 100\n",
        ")"
      ],
      "execution_count": 447,
      "outputs": []
    },
    {
      "cell_type": "code",
      "metadata": {
        "id": "DOjSmzsT_CJt"
      },
      "source": [
        "forecasts = list(forecast_it)\n",
        "tss = list(ts_it)"
      ],
      "execution_count": 448,
      "outputs": []
    },
    {
      "cell_type": "code",
      "metadata": {
        "id": "Mer7dfY1_CMZ"
      },
      "source": [
        "# first entry of the time series list\n",
        "ts_entry = tss[0]"
      ],
      "execution_count": 449,
      "outputs": []
    },
    {
      "cell_type": "code",
      "metadata": {
        "colab": {
          "base_uri": "https://localhost:8080/"
        },
        "id": "b-8-7Jfg_CO9",
        "outputId": "40977a3e-a5ab-41e2-c00d-9fd240b63542"
      },
      "source": [
        "# first 5 values of the time series (convert from pandas to numpy)\n",
        "np.array(ts_entry[:5]).reshape(-1,)"
      ],
      "execution_count": 450,
      "outputs": [
        {
          "output_type": "execute_result",
          "data": {
            "text/plain": [
              "array([0., 0., 0., 0., 0.], dtype=float32)"
            ]
          },
          "metadata": {},
          "execution_count": 450
        }
      ]
    },
    {
      "cell_type": "code",
      "metadata": {
        "id": "QXz60jpG_CR6"
      },
      "source": [
        "# first entry of dataset.test\n",
        "dataset_test_entry = next(iter(test_data))"
      ],
      "execution_count": 451,
      "outputs": []
    },
    {
      "cell_type": "code",
      "metadata": {
        "colab": {
          "base_uri": "https://localhost:8080/"
        },
        "id": "tXHfQ2D4_CU0",
        "outputId": "aea78f43-a1f9-47df-f21d-c202acd97796"
      },
      "source": [
        "# first 5 values\n",
        "dataset_test_entry['target'][:5]"
      ],
      "execution_count": 452,
      "outputs": [
        {
          "output_type": "execute_result",
          "data": {
            "text/plain": [
              "array([0., 0., 0., 0., 0.], dtype=float32)"
            ]
          },
          "metadata": {},
          "execution_count": 452
        }
      ]
    },
    {
      "cell_type": "code",
      "metadata": {
        "id": "zqkSt771_CW-"
      },
      "source": [
        "# first entry of the forecast list\n",
        "forecast_entry = forecasts[0]"
      ],
      "execution_count": 453,
      "outputs": []
    },
    {
      "cell_type": "code",
      "metadata": {
        "colab": {
          "base_uri": "https://localhost:8080/"
        },
        "id": "wp5tTd8z_CZt",
        "outputId": "72c225b7-193a-4358-8cec-9b116bd23b45"
      },
      "source": [
        "print(f\"Number of sample paths: {forecast_entry.num_samples}\")\n",
        "print(f\"Dimension of samples: {forecast_entry.samples.shape}\")\n",
        "print(f\"Start date of the forecast window: {forecast_entry.start_date}\")\n",
        "print(f\"Frequency of the time series: {forecast_entry.freq}\")"
      ],
      "execution_count": 454,
      "outputs": [
        {
          "output_type": "stream",
          "name": "stdout",
          "text": [
            "Number of sample paths: 500\n",
            "Dimension of samples: (500, 250)\n",
            "Start date of the forecast window: 1970-01-06 02:00:00\n",
            "Frequency of the time series: 2min\n"
          ]
        }
      ]
    },
    {
      "cell_type": "code",
      "metadata": {
        "colab": {
          "base_uri": "https://localhost:8080/"
        },
        "id": "GvKJYScF_CdO",
        "outputId": "c3843b5f-c687-4683-9580-25d59410787f"
      },
      "source": [
        "print(f\"Mean of the future window:\\n {forecast_entry.mean}\")\n",
        "print(f\"0.5-quantile (median) of the future window:\\n {forecast_entry.quantile(0.5)}\")"
      ],
      "execution_count": 455,
      "outputs": [
        {
          "output_type": "stream",
          "name": "stdout",
          "text": [
            "Mean of the future window:\n",
            " [-2.2788324  -2.4449277  -2.2376974  -2.2298238  -2.218797   -2.1778975\n",
            " -2.1447513  -2.28051    -1.7769933  -1.1306036  -1.0551805  -0.50162834\n",
            "  0.53141063  0.57707757  0.20872596  0.7469437   0.68607265  0.5814156\n",
            "  0.84664667  0.955563    0.7865553   0.73987186  1.1433835   1.6562303\n",
            "  1.646309    2.111698    2.1600015   2.2308686   2.1452677   1.9223703\n",
            "  1.9189744   1.8124068   1.7907465   1.7157081   1.6246102   1.5570899\n",
            "  1.4693439   1.4381818   1.4151242   1.2692      1.2706356   1.2458185\n",
            "  1.222271    1.1697165   1.1311927   0.99141145  0.96517694  0.9629098\n",
            "  0.8935751   0.8340998   0.8698422   0.783149    0.6780157   0.580383\n",
            "  0.29072285 -0.00260014 -0.29015693 -1.0937077  -1.6145687  -1.967661\n",
            " -2.2824306  -2.4038794  -2.394514   -2.3345363  -2.2698352  -2.2856593\n",
            " -2.3589377  -2.3461535  -2.349115   -2.3948586  -2.3473582  -2.2596362\n",
            " -2.3339734  -2.3376393  -2.30332    -2.280834   -2.2411563  -2.344967\n",
            " -2.302137   -2.364135   -2.3892515  -2.3001087  -2.3157606  -2.3626783\n",
            " -2.1225326  -1.8015486  -1.4356827  -1.7067077  -1.0635486   0.23831373\n",
            "  0.50747484  0.42731974  0.5415721   0.8385496   0.72322285  0.7406293\n",
            "  0.71833897  0.68107635  0.9141943   1.2294502   1.4779023   1.9642463\n",
            "  1.802124    2.4268332   2.2563329   2.2163665   2.057705    1.952883\n",
            "  2.2264645   1.7036351   1.6863732   1.6673806   1.5245035   1.5648196\n",
            "  1.5065025   1.4000636   1.4040638   1.2407191   1.2183385   1.1639929\n",
            "  1.1574193   1.0736052   0.9987915   0.96435195  0.94672257  0.88283515\n",
            "  0.8346144   0.8347186   0.77594995  0.7709696   0.7022137   0.5371056\n",
            "  0.20719336 -0.09143861 -0.43283707 -1.2482525  -1.8385099  -2.1679556\n",
            " -2.391049   -2.3943472  -2.3741415  -2.332475   -2.3321187  -2.35697\n",
            " -2.2629023  -2.3243976  -2.2521415  -2.198275   -2.381707   -2.3403218\n",
            " -2.3207133  -2.2977757  -2.2259586  -2.3024943  -2.1792881  -2.3305848\n",
            " -2.372384   -2.2554035  -2.3234932  -2.340606   -2.4511492  -2.3178692\n",
            " -2.0632372  -1.9361008  -1.161859   -0.9295707   0.4961365  -1.1401125\n",
            "  0.13407776  0.5604704   0.7202306   0.55523956  0.7136016   0.37661594\n",
            "  0.75884235  0.9088441   0.8461305   1.1283902   1.446743    1.7938005\n",
            "  2.5024736   2.1910386   2.2008111   2.3949268   2.0236046   1.937777\n",
            "  1.5672765   1.7726164   1.6624612   1.7649281   1.6829185   1.6522416\n",
            "  1.5543668   1.4092085   1.360837    1.279343    1.2382488   1.1504024\n",
            "  1.2125875   1.1422925   1.0652703   1.017926    0.9665943   0.93704545\n",
            "  0.84988403  0.83199704  0.8320176   0.81569666  0.7265239   0.64846766\n",
            "  0.35669872 -0.06688162 -0.6646956  -1.2800852  -2.0051386  -2.2649863\n",
            " -2.3501823  -2.3408399  -2.2947595  -2.1524026  -2.2846203  -2.285332\n",
            " -2.2901752  -2.3669     -2.3154461  -2.1941261  -2.318728   -2.2909546\n",
            " -2.1912272  -2.256734   -2.3502283  -2.245016   -2.2448008  -2.334618\n",
            " -2.3507812  -2.2615132  -2.3563514  -2.3374765  -2.2594876  -2.4103928\n",
            " -2.421445   -2.0640306  -1.2014352  -0.77593416 -0.11604353 -0.06525811\n",
            "  0.5856298   0.34777507  0.6439997   0.7070476 ]\n",
            "0.5-quantile (median) of the future window:\n",
            " [-2.2687461e+00 -2.4316914e+00 -2.2310042e+00 -2.2275312e+00\n",
            " -2.1869652e+00 -2.1858728e+00 -2.1210785e+00 -2.2892430e+00\n",
            " -1.8074486e+00 -1.0917777e+00 -1.0499202e+00 -6.0614932e-01\n",
            "  4.7784504e-01  7.9980308e-01  4.3553984e-01  6.3097388e-01\n",
            "  6.7829412e-01  5.5668730e-01  8.1657010e-01  8.0060703e-01\n",
            "  8.5090446e-01  7.8755784e-01  1.1401677e+00  1.6531230e+00\n",
            "  1.6947052e+00  2.1027153e+00  2.1539829e+00  2.2222404e+00\n",
            "  2.1495829e+00  1.9210149e+00  1.9221765e+00  1.8102620e+00\n",
            "  1.7923542e+00  1.7147979e+00  1.6254132e+00  1.5557971e+00\n",
            "  1.4688663e+00  1.4361192e+00  1.4153906e+00  1.2740867e+00\n",
            "  1.2674099e+00  1.2489647e+00  1.2226557e+00  1.1697913e+00\n",
            "  1.1319636e+00  9.9100327e-01  9.6546149e-01  9.6773303e-01\n",
            "  8.9028865e-01  8.3713084e-01  8.6913747e-01  7.8163648e-01\n",
            "  6.8048888e-01  5.8297378e-01  2.9211628e-01 -1.9922336e-03\n",
            " -2.9055130e-01 -1.0829415e+00 -1.6254500e+00 -1.9659866e+00\n",
            " -2.2868686e+00 -2.4078033e+00 -2.3973927e+00 -2.3501437e+00\n",
            " -2.2687683e+00 -2.2814198e+00 -2.3547544e+00 -2.3447242e+00\n",
            " -2.3510330e+00 -2.3934417e+00 -2.3410742e+00 -2.2592413e+00\n",
            " -2.3384774e+00 -2.3402724e+00 -2.3087308e+00 -2.2843330e+00\n",
            " -2.2447238e+00 -2.3441839e+00 -2.3321295e+00 -2.3592439e+00\n",
            " -2.4000340e+00 -2.3095245e+00 -2.3432634e+00 -2.3306408e+00\n",
            " -2.1341236e+00 -1.7648071e+00 -1.4247304e+00 -1.6528716e+00\n",
            " -9.8607552e-01  7.2757207e-02  4.8562497e-01  3.6744234e-01\n",
            "  5.4111880e-01  8.8511676e-01  6.2654430e-01  5.6021219e-01\n",
            "  6.5471512e-01  7.4248958e-01  8.9768696e-01  1.2778164e+00\n",
            "  1.4844308e+00  1.9503244e+00  1.8531402e+00  2.4290340e+00\n",
            "  2.2472730e+00  2.2192171e+00  2.0668962e+00  1.9539508e+00\n",
            "  2.2446933e+00  1.7151388e+00  1.6819974e+00  1.6665171e+00\n",
            "  1.5275387e+00  1.5738306e+00  1.5061430e+00  1.4008945e+00\n",
            "  1.4004165e+00  1.2352836e+00  1.2196177e+00  1.1609875e+00\n",
            "  1.1518892e+00  1.0760199e+00  1.0030630e+00  9.6269703e-01\n",
            "  9.4495684e-01  8.8583392e-01  8.3363861e-01  8.3131826e-01\n",
            "  7.7544320e-01  7.6820326e-01  7.0490587e-01  5.1957297e-01\n",
            "  2.0306969e-01 -9.4852708e-02 -4.3664983e-01 -1.2521849e+00\n",
            " -1.8319112e+00 -2.1805873e+00 -2.4036694e+00 -2.3974357e+00\n",
            " -2.3642170e+00 -2.3292043e+00 -2.3280334e+00 -2.3566835e+00\n",
            " -2.2632756e+00 -2.3241477e+00 -2.2478306e+00 -2.1953521e+00\n",
            " -2.3798332e+00 -2.3381748e+00 -2.3239343e+00 -2.3517876e+00\n",
            " -2.2277620e+00 -2.3022630e+00 -2.1792526e+00 -2.3366730e+00\n",
            " -2.3872268e+00 -2.2502561e+00 -2.3645611e+00 -2.3187253e+00\n",
            " -2.4164531e+00 -2.3174157e+00 -2.0429213e+00 -1.9391636e+00\n",
            " -1.2263350e+00 -9.6416801e-01  5.1029503e-01 -9.9991226e-01\n",
            "  6.2056713e-02  4.5694658e-01  7.1403712e-01  6.6082656e-01\n",
            "  6.4872259e-01  5.3459585e-01  7.1864295e-01  8.5228926e-01\n",
            "  9.1137278e-01  1.0855852e+00  1.4264039e+00  1.8215936e+00\n",
            "  2.4926331e+00  2.1722145e+00  2.1997669e+00  2.4140859e+00\n",
            "  2.0327806e+00  1.9400848e+00  1.5663530e+00  1.7743696e+00\n",
            "  1.6628284e+00  1.7629986e+00  1.6839445e+00  1.6560130e+00\n",
            "  1.5508599e+00  1.4131813e+00  1.3683536e+00  1.2754469e+00\n",
            "  1.2351460e+00  1.1558968e+00  1.2147672e+00  1.1464134e+00\n",
            "  1.0892210e+00  1.0229212e+00  9.6186042e-01  9.3805146e-01\n",
            "  8.4541708e-01  8.2071173e-01  8.3419937e-01  8.2858962e-01\n",
            "  7.3250759e-01  6.5656525e-01  3.5561472e-01 -6.5286063e-02\n",
            " -6.6960859e-01 -1.2857274e+00 -2.0157592e+00 -2.2608218e+00\n",
            " -2.3495076e+00 -2.3416219e+00 -2.2923074e+00 -2.1544354e+00\n",
            " -2.2813396e+00 -2.2820110e+00 -2.2918797e+00 -2.3718245e+00\n",
            " -2.3144221e+00 -2.1969967e+00 -2.3196478e+00 -2.2895441e+00\n",
            " -2.1913762e+00 -2.2580779e+00 -2.3479514e+00 -2.2431231e+00\n",
            " -2.2420719e+00 -2.3504269e+00 -2.3413484e+00 -2.2667029e+00\n",
            " -2.3801301e+00 -2.3576014e+00 -2.2886858e+00 -2.3190637e+00\n",
            " -2.3472188e+00 -2.0417333e+00 -1.2592014e+00 -8.2337141e-01\n",
            "  4.5404743e-02 -6.7913577e-02  6.2320733e-01  5.0458986e-01\n",
            "  6.9697434e-01  7.7159292e-01]\n"
          ]
        }
      ]
    },
    {
      "cell_type": "code",
      "metadata": {
        "id": "l4hT4FX0_sBf"
      },
      "source": [
        "def plot_prob_forecasts(ts_entry, forecast_entry):\n",
        "    plot_length = 500\n",
        "    prediction_intervals = (50.0, 90.0)\n",
        "    legend = [\"observations\", \"median prediction\"] + [f\"{k}% prediction interval\" for k in prediction_intervals][::-1]\n",
        "\n",
        "    fig, ax = plt.subplots(1, 1, figsize=(10, 7))\n",
        "    ts_entry[-plot_length:].plot(ax=ax)  # plot the time series\n",
        "    forecast_entry.plot(prediction_intervals=prediction_intervals, color='g')\n",
        "    plt.grid(which=\"both\")\n",
        "    plt.ylim(-3,4)\n",
        "    plt.legend(legend, loc=\"upper left\")\n",
        "    plt.savefig(\"fig3.pdf\",bbox_inches=\"tight\")\n",
        "    plt.show()"
      ],
      "execution_count": 456,
      "outputs": []
    },
    {
      "cell_type": "code",
      "metadata": {
        "colab": {
          "base_uri": "https://localhost:8080/",
          "height": 444
        },
        "id": "eGL634gS_sFB",
        "outputId": "ae99d54d-0751-428f-a1d4-d1b37808b838"
      },
      "source": [
        "plot_prob_forecasts(ts_entry, forecast_entry)"
      ],
      "execution_count": 457,
      "outputs": [
        {
          "output_type": "display_data",
          "data": {
            "image/png": "[encoded data removed]",
            "text/plain": [
              "<Figure size 720x504 with 1 Axes>"
            ]
          },
          "metadata": {
            "needs_background": "light"
          }
        }
      ]
    },
    {
      "cell_type": "code",
      "metadata": {
        "id": "ZNQ9VW-i_sIV"
      },
      "source": [
        "from gluonts.evaluation import Evaluator"
      ],
      "execution_count": 458,
      "outputs": []
    },
    {
      "cell_type": "code",
      "metadata": {
        "colab": {
          "base_uri": "https://localhost:8080/"
        },
        "id": "K8qjJvhC_sX6",
        "outputId": "8c2b349e-1c4b-44c3-d440-6e6cdc96c3ad"
      },
      "source": [
        "evaluator = Evaluator(quantiles=[0.5,0.1,0.9])\n",
        "agg_metrics, item_metrics = evaluator(iter(tss), iter(forecasts), num_series=len(test_data))"
      ],
      "execution_count": 459,
      "outputs": [
        {
          "output_type": "stream",
          "name": "stderr",
          "text": [
            "Running evaluation: 100%|██████████| 1/1 [00:00<00:00, 31.07it/s]\n"
          ]
        }
      ]
    },
    {
      "cell_type": "code",
      "metadata": {
        "colab": {
          "base_uri": "https://localhost:8080/"
        },
        "id": "BGoIY9no_9k1",
        "outputId": "c430f204-e007-44cb-de6a-fab0e8fcff4c"
      },
      "source": [
        "print(json.dumps(agg_metrics, indent=4))"
      ],
      "execution_count": 460,
      "outputs": [
        {
          "output_type": "stream",
          "name": "stdout",
          "text": [
            "{\n",
            "    \"MSE\": 0.8173765869140625,\n",
            "    \"abs_error\": 115.78221893310547,\n",
            "    \"abs_target_sum\": 468.690185546875,\n",
            "    \"abs_target_mean\": 1.8747607421875,\n",
            "    \"seasonal_error\": 2.674900350765306,\n",
            "    \"MASE\": 0.17313873976648056,\n",
            "    \"MAPE\": 0.1741762119609716,\n",
            "    \"sMAPE\": 0.40126611328125,\n",
            "    \"MSIS\": 1.2596581251983745,\n",
            "    \"QuantileLoss[0.5]\": 115.78221546160057,\n",
            "    \"Coverage[0.5]\": 0.416,\n",
            "    \"QuantileLoss[0.1]\": 46.461854824423796,\n",
            "    \"Coverage[0.1]\": 0.052,\n",
            "    \"QuantileLoss[0.9]\": 60.517064651101826,\n",
            "    \"Coverage[0.9]\": 0.852,\n",
            "    \"RMSE\": 0.9040888158328597,\n",
            "    \"NRMSE\": 0.4822422378964234,\n",
            "    \"ND\": 0.24703358957262775,\n",
            "    \"wQuantileLoss[0.5]\": 0.2470335821658055,\n",
            "    \"wQuantileLoss[0.1]\": 0.09913127318894331,\n",
            "    \"wQuantileLoss[0.9]\": 0.12911954744793636,\n",
            "    \"mean_absolute_QuantileLoss\": 74.25371164570873,\n",
            "    \"mean_wQuantileLoss\": 0.15842813426756172,\n",
            "    \"MAE_Coverage\": 0.060000000000000026,\n",
            "    \"OWA\": NaN\n",
            "}\n"
          ]
        }
      ]
    },
    {
      "cell_type": "code",
      "metadata": {
        "colab": {
          "base_uri": "https://localhost:8080/",
          "height": 100
        },
        "id": "JnrPgobQ_9nq",
        "outputId": "f963db78-13cb-4aa8-f2d5-6d337fdef232"
      },
      "source": [
        "item_metrics"
      ],
      "execution_count": 461,
      "outputs": [
        {
          "output_type": "execute_result",
          "data": {
            "text/html": [
              "<div>\n",
              "<style scoped>\n",
              "    .dataframe tbody tr th:only-of-type {\n",
              "        vertical-align: middle;\n",
              "    }\n",
              "\n",
              "    .dataframe tbody tr th {\n",
              "        vertical-align: top;\n",
              "    }\n",
              "\n",
              "    .dataframe thead th {\n",
              "        text-align: right;\n",
              "    }\n",
              "</style>\n",
              "<table border=\"1\" class=\"dataframe\">\n",
              "  <thead>\n",
              "    <tr style=\"text-align: right;\">\n",
              "      <th></th>\n",
              "      <th>item_id</th>\n",
              "      <th>MSE</th>\n",
              "      <th>abs_error</th>\n",
              "      <th>abs_target_sum</th>\n",
              "      <th>abs_target_mean</th>\n",
              "      <th>seasonal_error</th>\n",
              "      <th>MASE</th>\n",
              "      <th>MAPE</th>\n",
              "      <th>sMAPE</th>\n",
              "      <th>MSIS</th>\n",
              "      <th>QuantileLoss[0.5]</th>\n",
              "      <th>Coverage[0.5]</th>\n",
              "      <th>QuantileLoss[0.1]</th>\n",
              "      <th>Coverage[0.1]</th>\n",
              "      <th>QuantileLoss[0.9]</th>\n",
              "      <th>Coverage[0.9]</th>\n",
              "    </tr>\n",
              "  </thead>\n",
              "  <tbody>\n",
              "    <tr>\n",
              "      <th>0</th>\n",
              "      <td>NaN</td>\n",
              "      <td>0.817377</td>\n",
              "      <td>115.782219</td>\n",
              "      <td>468.690186</td>\n",
              "      <td>1.874761</td>\n",
              "      <td>2.6749</td>\n",
              "      <td>0.173139</td>\n",
              "      <td>0.174176</td>\n",
              "      <td>0.401266</td>\n",
              "      <td>1.259658</td>\n",
              "      <td>115.782215</td>\n",
              "      <td>0.416</td>\n",
              "      <td>46.461855</td>\n",
              "      <td>0.052</td>\n",
              "      <td>60.517065</td>\n",
              "      <td>0.852</td>\n",
              "    </tr>\n",
              "  </tbody>\n",
              "</table>\n",
              "</div>"
            ],
            "text/plain": [
              "   item_id       MSE  ...  QuantileLoss[0.9]  Coverage[0.9]\n",
              "0      NaN  0.817377  ...          60.517065          0.852\n",
              "\n",
              "[1 rows x 16 columns]"
            ]
          },
          "metadata": {},
          "execution_count": 461
        }
      ]
    },
    {
      "cell_type": "code",
      "metadata": {
        "colab": {
          "base_uri": "https://localhost:8080/",
          "height": 281
        },
        "id": "sAIHZco0_9qU",
        "outputId": "77529df4-87ec-40fb-f9a5-c107da431b28"
      },
      "source": [
        "item_metrics.plot(x='MSIS', y='MASE', kind='scatter')\n",
        "plt.grid(which=\"both\")\n",
        "plt.savefig(\"fig4.pdf\",bbox_inches=\"tight\")\n",
        "plt.show()"
      ],
      "execution_count": 462,
      "outputs": [
        {
          "output_type": "display_data",
          "data": {
            "image/png": "[encoded data removed]",
            "text/plain": [
              "<Figure size 432x288 with 1 Axes>"
            ]
          },
          "metadata": {
            "needs_background": "light"
          }
        }
      ]
    },
    {
      "cell_type": "code",
      "metadata": {
        "id": "Hvfrw7ym_9tz"
      },
      "source": [
        "# own forecast model"
      ],
      "execution_count": 463,
      "outputs": []
    },
    {
      "cell_type": "code",
      "metadata": {
        "id": "yV53Ow6SAIV1"
      },
      "source": [
        "class MyNetwork(gluon.HybridBlock):\n",
        "    def __init__(self, prediction_length, num_cells, **kwargs):\n",
        "        super().__init__(**kwargs)\n",
        "        self.prediction_length = prediction_length\n",
        "        self.num_cells = num_cells\n",
        "\n",
        "        with self.name_scope():\n",
        "            # Set up a 3 layer neural network that directly predicts the target values\n",
        "            self.nn = mx.gluon.nn.HybridSequential()\n",
        "            self.nn.add(mx.gluon.nn.Dense(units=820, activation='relu'))\n",
        "            self.nn.add(mx.gluon.nn.Dense(units=820, activation='relu'))\n",
        "            self.nn.add(mx.gluon.nn.Dense(units=self.prediction_length, activation='relu'))\n",
        "\n",
        "\n",
        "class MyTrainNetwork(MyNetwork):\n",
        "    def hybrid_forward(self, F, past_target, future_target):\n",
        "        prediction = self.nn(past_target)\n",
        "        # calculate L1 loss with the future_target to learn the median\n",
        "        return (prediction - future_target).abs().mean(axis=-1)\n",
        "\n",
        "\n",
        "class MyPredNetwork(MyTrainNetwork):\n",
        "    # The prediction network only receives past_target and returns predictions\n",
        "    def hybrid_forward(self, F, past_target):\n",
        "        prediction = self.nn(past_target)\n",
        "        return prediction.expand_dims(axis=1)"
      ],
      "execution_count": 464,
      "outputs": []
    },
    {
      "cell_type": "code",
      "metadata": {
        "id": "dDZyrrESAIYb"
      },
      "source": [
        "def plot_prob_forecasts_2(ts_entry, forecast_entry):\n",
        "    plot_length = 500\n",
        "    prediction_intervals = (50.0, 90.0)\n",
        "    legend = [\"observations\", \"median prediction\"] + [f\"{k}% prediction interval\" for k in prediction_intervals][::-1]\n",
        "\n",
        "    fig, ax = plt.subplots(1, 1, figsize=(10, 7))\n",
        "    ts_entry[-plot_length:].plot(ax=ax)  # plot the time series\n",
        "    forecast_entry.plot(prediction_intervals=prediction_intervals, color='g')\n",
        "    plt.grid(which=\"both\")\n",
        "    plt.ylim(-3,4)\n",
        "    plt.legend(legend, loc=\"upper left\")\n",
        "    plt.savefig(\"fig5.pdf\",bbox_inches=\"tight\")\n",
        "    plt.show()"
      ],
      "execution_count": 468,
      "outputs": []
    },
    {
      "cell_type": "code",
      "metadata": {
        "id": "4TnPZh8UAIbe"
      },
      "source": [
        "from functools import partial\n",
        "from mxnet.gluon import HybridBlock\n",
        "from gluonts.core.component import validated\n",
        "from gluonts.dataset.loader import TrainDataLoader\n",
        "from gluonts.model.predictor import Predictor\n",
        "from gluonts.mx.batchify import as_in_context, batchify\n",
        "from gluonts.mx.model.estimator import GluonEstimator\n",
        "from gluonts.mx.model.predictor import RepresentableBlockPredictor\n",
        "from gluonts.mx.trainer import Trainer\n",
        "from gluonts.mx.util import copy_parameters, get_hybrid_forward_input_names\n",
        "from gluonts.transform import (\n",
        "    ExpectedNumInstanceSampler,\n",
        "    Transformation,\n",
        "    InstanceSplitter,\n",
        "    TestSplitSampler,\n",
        "    SelectFields,\n",
        "    Chain\n",
        ")"
      ],
      "execution_count": 466,
      "outputs": []
    },
    {
      "cell_type": "code",
      "metadata": {
        "id": "8XAQqNJpAId6"
      },
      "source": [
        "class MyEstimator(GluonEstimator):\n",
        "    @validated()\n",
        "    def __init__(\n",
        "        self,\n",
        "        prediction_length: int,\n",
        "        context_length: int,\n",
        "        freq: str,\n",
        "        num_cells: int,\n",
        "        batch_size: int = 32,\n",
        "        trainer: Trainer = Trainer()\n",
        "    ) -> None:\n",
        "        super().__init__(trainer=trainer, batch_size=batch_size)\n",
        "        self.prediction_length = prediction_length\n",
        "        self.context_length = context_length\n",
        "        self.freq = freq\n",
        "        self.num_cells = num_cells\n",
        "\n",
        "    def create_transformation(self):\n",
        "        return Chain([])\n",
        "\n",
        "    def create_training_data_loader(self, dataset, **kwargs):\n",
        "        instance_splitter = InstanceSplitter(\n",
        "            target_field=FieldName.TARGET,\n",
        "            is_pad_field=FieldName.IS_PAD,\n",
        "            start_field=FieldName.START,\n",
        "            forecast_start_field=FieldName.FORECAST_START,\n",
        "            instance_sampler=ExpectedNumInstanceSampler(\n",
        "                num_instances=1,\n",
        "                min_future=self.prediction_length\n",
        "            ),\n",
        "            past_length=self.context_length,\n",
        "            future_length=self.prediction_length,\n",
        "        )\n",
        "        input_names = get_hybrid_forward_input_names(MyTrainNetwork)\n",
        "        return TrainDataLoader(\n",
        "            dataset=dataset,\n",
        "            transform=instance_splitter + SelectFields(input_names),\n",
        "            batch_size=self.batch_size,\n",
        "            stack_fn=partial(batchify, ctx=self.trainer.ctx, dtype=self.dtype),\n",
        "            decode_fn=partial(as_in_context, ctx=self.trainer.ctx),\n",
        "            **kwargs,\n",
        "        )\n",
        "\n",
        "    def create_training_network(self) -> MyTrainNetwork:\n",
        "        return MyTrainNetwork(\n",
        "            prediction_length=self.prediction_length,\n",
        "            num_cells = self.num_cells\n",
        "        )\n",
        "\n",
        "    def create_predictor(\n",
        "        self, transformation: Transformation, trained_network: HybridBlock\n",
        "    ) -> Predictor:\n",
        "        prediction_splitter = InstanceSplitter(\n",
        "            target_field=FieldName.TARGET,\n",
        "            is_pad_field=FieldName.IS_PAD,\n",
        "            start_field=FieldName.START,\n",
        "            forecast_start_field=FieldName.FORECAST_START,\n",
        "            instance_sampler=TestSplitSampler(),\n",
        "            past_length=self.context_length,\n",
        "            future_length=self.prediction_length,\n",
        "        )\n",
        "\n",
        "        prediction_network = MyPredNetwork(\n",
        "            prediction_length=self.prediction_length,\n",
        "            num_cells=self.num_cells\n",
        "        )\n",
        "\n",
        "        copy_parameters(trained_network, prediction_network)\n",
        "\n",
        "        return RepresentableBlockPredictor(\n",
        "            input_transform=transformation + prediction_splitter,\n",
        "            prediction_net=prediction_network,\n",
        "            batch_size=self.trainer.batch_size,\n",
        "            freq=self.freq,\n",
        "            prediction_length=self.prediction_length,\n",
        "            ctx=self.trainer.ctx,\n",
        "        )"
      ],
      "execution_count": 469,
      "outputs": []
    },
    {
      "cell_type": "code",
      "metadata": {
        "id": "YLf6ySgo2iAg"
      },
      "source": [
        "\n",
        "# define the parameters of the dataset\n",
        "custom_ds_metadata = {\n",
        "    'num_series': 1,\n",
        "    'num_steps': 1901,\n",
        "    'prediction_length': 100,\n",
        "    'freq': '2min',\n",
        "    'start': [\n",
        "        pd.Timestamp(\"01-01-2019\", freq='2min')\n",
        "        for _ in range(100)\n",
        "    ]\n",
        "}"
      ],
      "execution_count": 470,
      "outputs": []
    },
    {
      "cell_type": "code",
      "metadata": {
        "id": "UMl3St3IAIia"
      },
      "source": [
        "estimator = MyEstimator(\n",
        "    prediction_length=250,     #custom_ds_metadata['prediction_length'],\n",
        "    context_length = custom_ds_metadata['prediction_length'],\n",
        "    freq=custom_ds_metadata['freq'],\n",
        "    num_cells=40, #40\n",
        "    trainer=Trainer(\n",
        "        ctx=\"cpu\",\n",
        "        epochs=5,\n",
        "        learning_rate=1e-3, #-3\n",
        "        hybridize=False,\n",
        "        num_batches_per_epoch=2000\n",
        "    )\n",
        ")"
      ],
      "execution_count": 521,
      "outputs": []
    },
    {
      "cell_type": "code",
      "metadata": {
        "colab": {
          "base_uri": "https://localhost:8080/"
        },
        "id": "A1R6cBlx2vUv",
        "outputId": "1dff2a57-5dba-4d76-be6c-ce1fc8555cc0"
      },
      "source": [
        "from gluonts.dataset.field_names import FieldName\n",
        "[f\"FieldName.{k} = '{v}'\" for k, v in FieldName.__dict__.items() if not k.startswith('_')]"
      ],
      "execution_count": 522,
      "outputs": [
        {
          "output_type": "execute_result",
          "data": {
            "text/plain": [
              "[\"FieldName.ITEM_ID = 'item_id'\",\n",
              " \"FieldName.START = 'start'\",\n",
              " \"FieldName.TARGET = 'target'\",\n",
              " \"FieldName.FEAT_STATIC_CAT = 'feat_static_cat'\",\n",
              " \"FieldName.FEAT_STATIC_REAL = 'feat_static_real'\",\n",
              " \"FieldName.FEAT_DYNAMIC_CAT = 'feat_dynamic_cat'\",\n",
              " \"FieldName.FEAT_DYNAMIC_REAL = 'feat_dynamic_real'\",\n",
              " \"FieldName.PAST_FEAT_DYNAMIC_REAL = 'past_feat_dynamic_real'\",\n",
              " \"FieldName.FEAT_DYNAMIC_REAL_LEGACY = 'dynamic_feat'\",\n",
              " \"FieldName.FEAT_DYNAMIC = 'feat_dynamic'\",\n",
              " \"FieldName.PAST_FEAT_DYNAMIC = 'past_feat_dynamic'\",\n",
              " \"FieldName.FEAT_TIME = 'time_feat'\",\n",
              " \"FieldName.FEAT_CONST = 'feat_dynamic_const'\",\n",
              " \"FieldName.FEAT_AGE = 'feat_dynamic_age'\",\n",
              " \"FieldName.OBSERVED_VALUES = 'observed_values'\",\n",
              " \"FieldName.IS_PAD = 'is_pad'\",\n",
              " \"FieldName.FORECAST_START = 'forecast_start'\",\n",
              " \"FieldName.TARGET_DIM_INDICATOR = 'target_dimension_indicator'\"]"
            ]
          },
          "metadata": {},
          "execution_count": 522
        }
      ]
    },
    {
      "cell_type": "code",
      "metadata": {
        "colab": {
          "base_uri": "https://localhost:8080/"
        },
        "id": "O-V6TckVAIk8",
        "outputId": "cb49cb34-d87d-4d64-aa7d-9c2e3fa3c84e"
      },
      "source": [
        "predictor = estimator.train(train_data)"
      ],
      "execution_count": 523,
      "outputs": [
        {
          "output_type": "stream",
          "name": "stderr",
          "text": [
            "100%|██████████| 2000/2000 [00:35<00:00, 56.24it/s, epoch=1/5, avg_epoch_loss=1.1] \n",
            "100%|██████████| 2000/2000 [00:34<00:00, 57.23it/s, epoch=2/5, avg_epoch_loss=1.06]\n",
            "100%|██████████| 2000/2000 [00:34<00:00, 57.24it/s, epoch=3/5, avg_epoch_loss=1.04]\n",
            "100%|██████████| 2000/2000 [00:34<00:00, 57.23it/s, epoch=4/5, avg_epoch_loss=1.02]\n",
            "100%|██████████| 2000/2000 [00:35<00:00, 56.76it/s, epoch=5/5, avg_epoch_loss=1.02]\n"
          ]
        }
      ]
    },
    {
      "cell_type": "code",
      "metadata": {
        "id": "bbt6sADcAInM"
      },
      "source": [
        "forecast_it, ts_it = make_evaluation_predictions(\n",
        "    dataset=test_data,  # test dataset\n",
        "    predictor=predictor,  # predictor\n",
        "    num_samples=100,  # number of sample paths we want for evaluation\n",
        ")"
      ],
      "execution_count": 524,
      "outputs": []
    },
    {
      "cell_type": "code",
      "metadata": {
        "id": "RBXpP0N8AIpx"
      },
      "source": [
        "forecasts = list(forecast_it)\n",
        "tss = list(ts_it)"
      ],
      "execution_count": 525,
      "outputs": []
    },
    {
      "cell_type": "code",
      "metadata": {
        "id": "dLvjeWV9AucS",
        "colab": {
          "base_uri": "https://localhost:8080/",
          "height": 444
        },
        "outputId": "dee7d02f-f09c-4c87-e8cc-1e8b051a1d4f"
      },
      "source": [
        "plot_prob_forecasts_2(tss[0], forecasts[0])"
      ],
      "execution_count": 526,
      "outputs": [
        {
          "output_type": "display_data",
          "data": {
            "image/png": "[encoded data removed]",
            "text/plain": [
              "<Figure size 720x504 with 1 Axes>"
            ]
          },
          "metadata": {
            "needs_background": "light"
          }
        }
      ]
    },
    {
      "cell_type": "code",
      "metadata": {
        "id": "72mdTQhLAues",
        "colab": {
          "base_uri": "https://localhost:8080/"
        },
        "outputId": "18493592-44a2-47e5-becc-85abc250c853"
      },
      "source": [
        "evaluator = Evaluator(quantiles=[0.1, 0.5, 0.9])\n",
        "agg_metrics, item_metrics = evaluator(iter(tss), iter(forecasts), num_series=len(test_data))"
      ],
      "execution_count": 527,
      "outputs": [
        {
          "output_type": "stream",
          "name": "stderr",
          "text": [
            "Running evaluation: 100%|██████████| 1/1 [00:00<00:00, 29.27it/s]\n"
          ]
        }
      ]
    },
    {
      "cell_type": "code",
      "metadata": {
        "id": "xDu1hSNuAuhc",
        "colab": {
          "base_uri": "https://localhost:8080/"
        },
        "outputId": "1560e785-5afe-4b7b-e07f-9affad428e13"
      },
      "source": [
        "print(json.dumps(agg_metrics, indent=4))"
      ],
      "execution_count": 528,
      "outputs": [
        {
          "output_type": "stream",
          "name": "stdout",
          "text": [
            "{\n",
            "    \"MSE\": 2.26099462890625,\n",
            "    \"abs_error\": 251.48721313476562,\n",
            "    \"abs_target_sum\": 468.690185546875,\n",
            "    \"abs_target_mean\": 1.8747607421875,\n",
            "    \"seasonal_error\": 2.674900350765306,\n",
            "    \"MASE\": 0.37606965517472607,\n",
            "    \"MAPE\": 0.4851173500827306,\n",
            "    \"sMAPE\": 0.9744854631095097,\n",
            "    \"MSIS\": 15.042785841905348,\n",
            "    \"QuantileLoss[0.1]\": 446.5759429246188,\n",
            "    \"Coverage[0.1]\": 0.66,\n",
            "    \"QuantileLoss[0.5]\": 251.48722030222416,\n",
            "    \"Coverage[0.5]\": 0.66,\n",
            "    \"QuantileLoss[0.9]\": 56.39849767982958,\n",
            "    \"Coverage[0.9]\": 0.66,\n",
            "    \"RMSE\": 1.50366041010138,\n",
            "    \"NRMSE\": 0.8020545642250251,\n",
            "    \"ND\": 0.5365745238324682,\n",
            "    \"wQuantileLoss[0.1]\": 0.9528169283159771,\n",
            "    \"wQuantileLoss[0.5]\": 0.5365745391249978,\n",
            "    \"wQuantileLoss[0.9]\": 0.12033214993401865,\n",
            "    \"mean_absolute_QuantileLoss\": 251.4872203022242,\n",
            "    \"mean_wQuantileLoss\": 0.5365745391249978,\n",
            "    \"MAE_Coverage\": 0.32,\n",
            "    \"OWA\": NaN\n",
            "}\n"
          ]
        }
      ]
    },
    {
      "cell_type": "code",
      "metadata": {
        "id": "c7s2rVYUAujs",
        "colab": {
          "base_uri": "https://localhost:8080/",
          "height": 100
        },
        "outputId": "f01eae6b-5956-499b-feb7-92c13b2e0d9c"
      },
      "source": [
        "item_metrics.head(10)"
      ],
      "execution_count": 529,
      "outputs": [
        {
          "output_type": "execute_result",
          "data": {
            "text/html": [
              "<div>\n",
              "<style scoped>\n",
              "    .dataframe tbody tr th:only-of-type {\n",
              "        vertical-align: middle;\n",
              "    }\n",
              "\n",
              "    .dataframe tbody tr th {\n",
              "        vertical-align: top;\n",
              "    }\n",
              "\n",
              "    .dataframe thead th {\n",
              "        text-align: right;\n",
              "    }\n",
              "</style>\n",
              "<table border=\"1\" class=\"dataframe\">\n",
              "  <thead>\n",
              "    <tr style=\"text-align: right;\">\n",
              "      <th></th>\n",
              "      <th>item_id</th>\n",
              "      <th>MSE</th>\n",
              "      <th>abs_error</th>\n",
              "      <th>abs_target_sum</th>\n",
              "      <th>abs_target_mean</th>\n",
              "      <th>seasonal_error</th>\n",
              "      <th>MASE</th>\n",
              "      <th>MAPE</th>\n",
              "      <th>sMAPE</th>\n",
              "      <th>MSIS</th>\n",
              "      <th>QuantileLoss[0.1]</th>\n",
              "      <th>Coverage[0.1]</th>\n",
              "      <th>QuantileLoss[0.5]</th>\n",
              "      <th>Coverage[0.5]</th>\n",
              "      <th>QuantileLoss[0.9]</th>\n",
              "      <th>Coverage[0.9]</th>\n",
              "    </tr>\n",
              "  </thead>\n",
              "  <tbody>\n",
              "    <tr>\n",
              "      <th>0</th>\n",
              "      <td>NaN</td>\n",
              "      <td>2.260995</td>\n",
              "      <td>251.487213</td>\n",
              "      <td>468.690186</td>\n",
              "      <td>1.874761</td>\n",
              "      <td>2.6749</td>\n",
              "      <td>0.37607</td>\n",
              "      <td>0.485117</td>\n",
              "      <td>0.974485</td>\n",
              "      <td>15.042786</td>\n",
              "      <td>446.575943</td>\n",
              "      <td>0.66</td>\n",
              "      <td>251.48722</td>\n",
              "      <td>0.66</td>\n",
              "      <td>56.398498</td>\n",
              "      <td>0.66</td>\n",
              "    </tr>\n",
              "  </tbody>\n",
              "</table>\n",
              "</div>"
            ],
            "text/plain": [
              "   item_id       MSE  ...  QuantileLoss[0.9]  Coverage[0.9]\n",
              "0      NaN  2.260995  ...          56.398498           0.66\n",
              "\n",
              "[1 rows x 16 columns]"
            ]
          },
          "metadata": {},
          "execution_count": 529
        }
      ]
    },
    {
      "cell_type": "code",
      "metadata": {
        "id": "cg92c0W3Aul7",
        "colab": {
          "base_uri": "https://localhost:8080/",
          "height": 279
        },
        "outputId": "9caab68e-5c6f-4c55-96fb-678cbfcdaa58"
      },
      "source": [
        "item_metrics.plot(x='MSIS', y='MASE', kind='scatter')\n",
        "plt.grid(which=\"both\")\n",
        "plt.savefig(\"fig6.pdf\",bbox_inches=\"tight\")\n",
        "plt.show()"
      ],
      "execution_count": 530,
      "outputs": [
        {
          "output_type": "display_data",
          "data": {
            "image/png": "[encoded data removed]",
            "text/plain": [
              "<Figure size 432x288 with 1 Axes>"
            ]
          },
          "metadata": {
            "needs_background": "light"
          }
        }
      ]
    }
  ]
}