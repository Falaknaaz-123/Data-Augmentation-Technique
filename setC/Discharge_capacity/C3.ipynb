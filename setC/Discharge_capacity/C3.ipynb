{
  "nbformat": 4,
  "nbformat_minor": 0,
  "metadata": {
    "colab": {
      "name": "Copy of Rawdata_82_1_Charge_Capacity_forecast.ipynb",
      "provenance": [],
      "collapsed_sections": []
    },
    "kernelspec": {
      "display_name": "Python 3",
      "name": "python3"
    }
  },
  "cells": [
    {
      "cell_type": "code",
      "metadata": {
        "colab": {
          "base_uri": "https://localhost:8080/"
        },
        "id": "BISkgn0jVdmk",
        "outputId": "98a73b88-213d-47dc-a317-5a9146e44efc"
      },
      "source": [
        "pip install --upgrade mxnet~=1.7 gluonts"
      ],
      "execution_count": 1350,
      "outputs": [
        {
          "output_type": "stream",
          "name": "stdout",
          "text": [
            "Requirement already satisfied: mxnet~=1.7 in /usr/local/lib/python3.7/dist-packages (1.8.0.post0)\n",
            "Requirement already satisfied: gluonts in /usr/local/lib/python3.7/dist-packages (0.8.1)\n",
            "Requirement already satisfied: numpy<2.0.0,>1.16.0 in /usr/local/lib/python3.7/dist-packages (from mxnet~=1.7) (1.19.5)\n",
            "Requirement already satisfied: requests<3,>=2.20.0 in /usr/local/lib/python3.7/dist-packages (from mxnet~=1.7) (2.23.0)\n",
            "Requirement already satisfied: graphviz<0.9.0,>=0.8.1 in /usr/local/lib/python3.7/dist-packages (from mxnet~=1.7) (0.8.4)\n",
            "Requirement already satisfied: chardet<4,>=3.0.2 in /usr/local/lib/python3.7/dist-packages (from requests<3,>=2.20.0->mxnet~=1.7) (3.0.4)\n",
            "Requirement already satisfied: urllib3!=1.25.0,!=1.25.1,<1.26,>=1.21.1 in /usr/local/lib/python3.7/dist-packages (from requests<3,>=2.20.0->mxnet~=1.7) (1.24.3)\n",
            "Requirement already satisfied: certifi>=2017.4.17 in /usr/local/lib/python3.7/dist-packages (from requests<3,>=2.20.0->mxnet~=1.7) (2021.5.30)\n",
            "Requirement already satisfied: idna<3,>=2.5 in /usr/local/lib/python3.7/dist-packages (from requests<3,>=2.20.0->mxnet~=1.7) (2.10)\n",
            "Requirement already satisfied: typing-extensions~=3.10.0.0 in /usr/local/lib/python3.7/dist-packages (from gluonts) (3.10.0.2)\n",
            "Requirement already satisfied: pandas~=1.0 in /usr/local/lib/python3.7/dist-packages (from gluonts) (1.1.5)\n",
            "Requirement already satisfied: pydantic~=1.1 in /usr/local/lib/python3.7/dist-packages (from gluonts) (1.8.2)\n",
            "Requirement already satisfied: matplotlib~=3.0 in /usr/local/lib/python3.7/dist-packages (from gluonts) (3.2.2)\n",
            "Requirement already satisfied: holidays>=0.9 in /usr/local/lib/python3.7/dist-packages (from gluonts) (0.10.5.2)\n",
            "Requirement already satisfied: tqdm~=4.23 in /usr/local/lib/python3.7/dist-packages (from gluonts) (4.62.3)\n",
            "Requirement already satisfied: toolz~=0.10 in /usr/local/lib/python3.7/dist-packages (from gluonts) (0.11.1)\n",
            "Requirement already satisfied: korean-lunar-calendar in /usr/local/lib/python3.7/dist-packages (from holidays>=0.9->gluonts) (0.2.1)\n",
            "Requirement already satisfied: six in /usr/local/lib/python3.7/dist-packages (from holidays>=0.9->gluonts) (1.15.0)\n",
            "Requirement already satisfied: hijri-converter in /usr/local/lib/python3.7/dist-packages (from holidays>=0.9->gluonts) (2.2.1)\n",
            "Requirement already satisfied: convertdate>=2.3.0 in /usr/local/lib/python3.7/dist-packages (from holidays>=0.9->gluonts) (2.3.2)\n",
            "Requirement already satisfied: python-dateutil in /usr/local/lib/python3.7/dist-packages (from holidays>=0.9->gluonts) (2.8.2)\n",
            "Requirement already satisfied: pytz>=2014.10 in /usr/local/lib/python3.7/dist-packages (from convertdate>=2.3.0->holidays>=0.9->gluonts) (2018.9)\n",
            "Requirement already satisfied: pymeeus<=1,>=0.3.13 in /usr/local/lib/python3.7/dist-packages (from convertdate>=2.3.0->holidays>=0.9->gluonts) (0.5.11)\n",
            "Requirement already satisfied: cycler>=0.10 in /usr/local/lib/python3.7/dist-packages (from matplotlib~=3.0->gluonts) (0.10.0)\n",
            "Requirement already satisfied: kiwisolver>=1.0.1 in /usr/local/lib/python3.7/dist-packages (from matplotlib~=3.0->gluonts) (1.3.2)\n",
            "Requirement already satisfied: pyparsing!=2.0.4,!=2.1.2,!=2.1.6,>=2.0.1 in /usr/local/lib/python3.7/dist-packages (from matplotlib~=3.0->gluonts) (2.4.7)\n"
          ]
        }
      ]
    },
    {
      "cell_type": "code",
      "metadata": {
        "id": "Io5dASCrVoYO"
      },
      "source": [
        "# Third-party imports\n",
        "%matplotlib inline\n",
        "import mxnet as mx\n",
        "from mxnet import gluon\n",
        "import numpy as np\n",
        "import pandas as pd\n",
        "import matplotlib.pyplot as plt\n",
        "import json"
      ],
      "execution_count": 1351,
      "outputs": []
    },
    {
      "cell_type": "code",
      "metadata": {
        "id": "JS2hNvrbVoa6"
      },
      "source": [
        "# gluon datasets\n",
        "from gluonts.dataset.repository.datasets import get_dataset, dataset_recipes\n",
        "from gluonts.dataset.util import to_pandas"
      ],
      "execution_count": 1352,
      "outputs": []
    },
    {
      "cell_type": "code",
      "metadata": {
        "colab": {
          "base_uri": "https://localhost:8080/"
        },
        "id": "q-6chF-mVod2",
        "outputId": "4c985945-f6df-4730-dfd5-1dbd50e4dec0"
      },
      "source": [
        "print(f\"Available datasets: {list(dataset_recipes.keys())}\")"
      ],
      "execution_count": 1353,
      "outputs": [
        {
          "output_type": "stream",
          "name": "stdout",
          "text": [
            "Available datasets: ['constant', 'exchange_rate', 'solar-energy', 'electricity', 'traffic', 'exchange_rate_nips', 'electricity_nips', 'traffic_nips', 'solar_nips', 'wiki-rolling_nips', 'taxi_30min', 'kaggle_web_traffic_with_missing', 'kaggle_web_traffic_without_missing', 'kaggle_web_traffic_weekly', 'm1_yearly', 'm1_quarterly', 'm1_monthly', 'nn5_daily_with_missing', 'nn5_daily_without_missing', 'nn5_weekly', 'tourism_monthly', 'tourism_quarterly', 'tourism_yearly', 'm3_monthly', 'm3_quarterly', 'm3_yearly', 'm3_other', 'm4_hourly', 'm4_daily', 'm4_weekly', 'm4_monthly', 'm4_quarterly', 'm4_yearly', 'm5']\n"
          ]
        }
      ]
    },
    {
      "cell_type": "code",
      "metadata": {
        "colab": {
          "base_uri": "https://localhost:8080/"
        },
        "id": "3dl59DPWBspm",
        "outputId": "dd8ecbb1-1ee7-482d-d50e-f8718aef9ee0"
      },
      "source": [
        "pip install mxnet"
      ],
      "execution_count": 1354,
      "outputs": [
        {
          "output_type": "stream",
          "name": "stdout",
          "text": [
            "Requirement already satisfied: mxnet in /usr/local/lib/python3.7/dist-packages (1.8.0.post0)\n",
            "Requirement already satisfied: graphviz<0.9.0,>=0.8.1 in /usr/local/lib/python3.7/dist-packages (from mxnet) (0.8.4)\n",
            "Requirement already satisfied: numpy<2.0.0,>1.16.0 in /usr/local/lib/python3.7/dist-packages (from mxnet) (1.19.5)\n",
            "Requirement already satisfied: requests<3,>=2.20.0 in /usr/local/lib/python3.7/dist-packages (from mxnet) (2.23.0)\n",
            "Requirement already satisfied: certifi>=2017.4.17 in /usr/local/lib/python3.7/dist-packages (from requests<3,>=2.20.0->mxnet) (2021.5.30)\n",
            "Requirement already satisfied: chardet<4,>=3.0.2 in /usr/local/lib/python3.7/dist-packages (from requests<3,>=2.20.0->mxnet) (3.0.4)\n",
            "Requirement already satisfied: idna<3,>=2.5 in /usr/local/lib/python3.7/dist-packages (from requests<3,>=2.20.0->mxnet) (2.10)\n",
            "Requirement already satisfied: urllib3!=1.25.0,!=1.25.1,<1.26,>=1.21.1 in /usr/local/lib/python3.7/dist-packages (from requests<3,>=2.20.0->mxnet) (1.24.3)\n"
          ]
        }
      ]
    },
    {
      "cell_type": "code",
      "metadata": {
        "id": "qjWGHZjhlWe4"
      },
      "source": [
        "dataset_nasa = pd.read_csv('DOE-551-600-10DU-01_3.csv')"
      ],
      "execution_count": 1355,
      "outputs": []
    },
    {
      "cell_type": "code",
      "metadata": {
        "colab": {
          "base_uri": "https://localhost:8080/",
          "height": 437
        },
        "id": "SLR52rSMVomO",
        "outputId": "15e55425-3d2f-495a-af3f-28d9456356dd"
      },
      "source": [
        "dataset_nasa\n"
      ],
      "execution_count": 1356,
      "outputs": [
        {
          "output_type": "execute_result",
          "data": {
            "text/html": [
              "<div>\n",
              "<style scoped>\n",
              "    .dataframe tbody tr th:only-of-type {\n",
              "        vertical-align: middle;\n",
              "    }\n",
              "\n",
              "    .dataframe tbody tr th {\n",
              "        vertical-align: top;\n",
              "    }\n",
              "\n",
              "    .dataframe thead th {\n",
              "        text-align: right;\n",
              "    }\n",
              "</style>\n",
              "<table border=\"1\" class=\"dataframe\">\n",
              "  <thead>\n",
              "    <tr style=\"text-align: right;\">\n",
              "      <th></th>\n",
              "      <th>index</th>\n",
              "      <th>Test_Time(s)</th>\n",
              "      <th>Step_Time(s)</th>\n",
              "      <th>Cycle_Index</th>\n",
              "      <th>Step_Index</th>\n",
              "      <th>Voltage</th>\n",
              "      <th>Test_Time(s).1</th>\n",
              "      <th>Step_Time(s).1</th>\n",
              "      <th>Cycle_Index.1</th>\n",
              "      <th>Step_Index.1</th>\n",
              "      <th>Current</th>\n",
              "      <th>Test_Time(s).2</th>\n",
              "      <th>Step_Time(s).2</th>\n",
              "      <th>Cycle_Index.2</th>\n",
              "      <th>Step_Index.2</th>\n",
              "      <th>Charge_Capacity</th>\n",
              "      <th>Test_Time(s).3</th>\n",
              "      <th>Step_Time(s).3</th>\n",
              "      <th>Cycle_Index.3</th>\n",
              "      <th>Step_Index.3</th>\n",
              "      <th>Discharge_Capacity</th>\n",
              "    </tr>\n",
              "  </thead>\n",
              "  <tbody>\n",
              "    <tr>\n",
              "      <th>0</th>\n",
              "      <td>0</td>\n",
              "      <td>120.004600</td>\n",
              "      <td>120.0046</td>\n",
              "      <td>1</td>\n",
              "      <td>1</td>\n",
              "      <td>3.564834</td>\n",
              "      <td>120.004600</td>\n",
              "      <td>120.0046</td>\n",
              "      <td>1</td>\n",
              "      <td>1</td>\n",
              "      <td>0.000000</td>\n",
              "      <td>120.004600</td>\n",
              "      <td>120.0046</td>\n",
              "      <td>1</td>\n",
              "      <td>1</td>\n",
              "      <td>0.000000</td>\n",
              "      <td>120.004600</td>\n",
              "      <td>120.0046</td>\n",
              "      <td>1</td>\n",
              "      <td>1</td>\n",
              "      <td>0.000000</td>\n",
              "    </tr>\n",
              "    <tr>\n",
              "      <th>1</th>\n",
              "      <td>1</td>\n",
              "      <td>240.000200</td>\n",
              "      <td>240.0002</td>\n",
              "      <td>1</td>\n",
              "      <td>1</td>\n",
              "      <td>3.564931</td>\n",
              "      <td>240.000200</td>\n",
              "      <td>240.0002</td>\n",
              "      <td>1</td>\n",
              "      <td>1</td>\n",
              "      <td>0.000000</td>\n",
              "      <td>240.000200</td>\n",
              "      <td>240.0002</td>\n",
              "      <td>1</td>\n",
              "      <td>1</td>\n",
              "      <td>0.000000</td>\n",
              "      <td>240.000200</td>\n",
              "      <td>240.0002</td>\n",
              "      <td>1</td>\n",
              "      <td>1</td>\n",
              "      <td>0.000000</td>\n",
              "    </tr>\n",
              "    <tr>\n",
              "      <th>2</th>\n",
              "      <td>2</td>\n",
              "      <td>360.000700</td>\n",
              "      <td>360.0007</td>\n",
              "      <td>1</td>\n",
              "      <td>1</td>\n",
              "      <td>3.566616</td>\n",
              "      <td>360.000700</td>\n",
              "      <td>360.0007</td>\n",
              "      <td>1</td>\n",
              "      <td>1</td>\n",
              "      <td>0.000000</td>\n",
              "      <td>360.000700</td>\n",
              "      <td>360.0007</td>\n",
              "      <td>1</td>\n",
              "      <td>1</td>\n",
              "      <td>0.000000</td>\n",
              "      <td>360.000700</td>\n",
              "      <td>360.0007</td>\n",
              "      <td>1</td>\n",
              "      <td>1</td>\n",
              "      <td>0.000000</td>\n",
              "    </tr>\n",
              "    <tr>\n",
              "      <th>3</th>\n",
              "      <td>3</td>\n",
              "      <td>480.001900</td>\n",
              "      <td>480.0019</td>\n",
              "      <td>1</td>\n",
              "      <td>1</td>\n",
              "      <td>3.568211</td>\n",
              "      <td>480.001900</td>\n",
              "      <td>480.0019</td>\n",
              "      <td>1</td>\n",
              "      <td>1</td>\n",
              "      <td>0.000000</td>\n",
              "      <td>480.001900</td>\n",
              "      <td>480.0019</td>\n",
              "      <td>1</td>\n",
              "      <td>1</td>\n",
              "      <td>0.000000</td>\n",
              "      <td>480.001900</td>\n",
              "      <td>480.0019</td>\n",
              "      <td>1</td>\n",
              "      <td>1</td>\n",
              "      <td>0.000000</td>\n",
              "    </tr>\n",
              "    <tr>\n",
              "      <th>4</th>\n",
              "      <td>4</td>\n",
              "      <td>600.003300</td>\n",
              "      <td>600.0033</td>\n",
              "      <td>1</td>\n",
              "      <td>1</td>\n",
              "      <td>3.569142</td>\n",
              "      <td>600.003300</td>\n",
              "      <td>600.0033</td>\n",
              "      <td>1</td>\n",
              "      <td>1</td>\n",
              "      <td>0.000000</td>\n",
              "      <td>600.003300</td>\n",
              "      <td>600.0033</td>\n",
              "      <td>1</td>\n",
              "      <td>1</td>\n",
              "      <td>0.000000</td>\n",
              "      <td>600.003300</td>\n",
              "      <td>600.0033</td>\n",
              "      <td>1</td>\n",
              "      <td>1</td>\n",
              "      <td>0.000000</td>\n",
              "    </tr>\n",
              "    <tr>\n",
              "      <th>...</th>\n",
              "      <td>...</td>\n",
              "      <td>...</td>\n",
              "      <td>...</td>\n",
              "      <td>...</td>\n",
              "      <td>...</td>\n",
              "      <td>...</td>\n",
              "      <td>...</td>\n",
              "      <td>...</td>\n",
              "      <td>...</td>\n",
              "      <td>...</td>\n",
              "      <td>...</td>\n",
              "      <td>...</td>\n",
              "      <td>...</td>\n",
              "      <td>...</td>\n",
              "      <td>...</td>\n",
              "      <td>...</td>\n",
              "      <td>...</td>\n",
              "      <td>...</td>\n",
              "      <td>...</td>\n",
              "      <td>...</td>\n",
              "      <td>...</td>\n",
              "    </tr>\n",
              "    <tr>\n",
              "      <th>3905</th>\n",
              "      <td>3905</td>\n",
              "      <td>455650.938480</td>\n",
              "      <td>3828.2245</td>\n",
              "      <td>50</td>\n",
              "      <td>5</td>\n",
              "      <td>2.999979</td>\n",
              "      <td>455650.938480</td>\n",
              "      <td>3828.2245</td>\n",
              "      <td>50</td>\n",
              "      <td>5</td>\n",
              "      <td>-2.282017</td>\n",
              "      <td>455650.938480</td>\n",
              "      <td>3828.2245</td>\n",
              "      <td>50</td>\n",
              "      <td>5</td>\n",
              "      <td>2.428658</td>\n",
              "      <td>455650.938480</td>\n",
              "      <td>3828.2245</td>\n",
              "      <td>50</td>\n",
              "      <td>5</td>\n",
              "      <td>2.426762</td>\n",
              "    </tr>\n",
              "    <tr>\n",
              "      <th>3906</th>\n",
              "      <td>3906</td>\n",
              "      <td>455771.101924</td>\n",
              "      <td>120.0040</td>\n",
              "      <td>50</td>\n",
              "      <td>6</td>\n",
              "      <td>3.621850</td>\n",
              "      <td>455771.101924</td>\n",
              "      <td>120.0040</td>\n",
              "      <td>50</td>\n",
              "      <td>6</td>\n",
              "      <td>0.000000</td>\n",
              "      <td>455771.101924</td>\n",
              "      <td>120.0040</td>\n",
              "      <td>50</td>\n",
              "      <td>6</td>\n",
              "      <td>2.428658</td>\n",
              "      <td>455771.101924</td>\n",
              "      <td>120.0040</td>\n",
              "      <td>50</td>\n",
              "      <td>6</td>\n",
              "      <td>2.426808</td>\n",
              "    </tr>\n",
              "    <tr>\n",
              "      <th>3907</th>\n",
              "      <td>3907</td>\n",
              "      <td>455891.102624</td>\n",
              "      <td>240.0047</td>\n",
              "      <td>50</td>\n",
              "      <td>6</td>\n",
              "      <td>3.654560</td>\n",
              "      <td>455891.102624</td>\n",
              "      <td>240.0047</td>\n",
              "      <td>50</td>\n",
              "      <td>6</td>\n",
              "      <td>0.000000</td>\n",
              "      <td>455891.102624</td>\n",
              "      <td>240.0047</td>\n",
              "      <td>50</td>\n",
              "      <td>6</td>\n",
              "      <td>2.428658</td>\n",
              "      <td>455891.102624</td>\n",
              "      <td>240.0047</td>\n",
              "      <td>50</td>\n",
              "      <td>6</td>\n",
              "      <td>2.426808</td>\n",
              "    </tr>\n",
              "    <tr>\n",
              "      <th>3908</th>\n",
              "      <td>3908</td>\n",
              "      <td>455951.100824</td>\n",
              "      <td>300.0029</td>\n",
              "      <td>50</td>\n",
              "      <td>6</td>\n",
              "      <td>3.662353</td>\n",
              "      <td>455951.100824</td>\n",
              "      <td>300.0029</td>\n",
              "      <td>50</td>\n",
              "      <td>6</td>\n",
              "      <td>0.000000</td>\n",
              "      <td>455951.100824</td>\n",
              "      <td>300.0029</td>\n",
              "      <td>50</td>\n",
              "      <td>6</td>\n",
              "      <td>2.428658</td>\n",
              "      <td>455951.100824</td>\n",
              "      <td>300.0029</td>\n",
              "      <td>50</td>\n",
              "      <td>6</td>\n",
              "      <td>2.426808</td>\n",
              "    </tr>\n",
              "    <tr>\n",
              "      <th>3909</th>\n",
              "      <td>3909</td>\n",
              "      <td>456026.897068</td>\n",
              "      <td>75.7099</td>\n",
              "      <td>51</td>\n",
              "      <td>8</td>\n",
              "      <td>4.200005</td>\n",
              "      <td>456026.897068</td>\n",
              "      <td>75.7099</td>\n",
              "      <td>51</td>\n",
              "      <td>8</td>\n",
              "      <td>3.260038</td>\n",
              "      <td>456026.897068</td>\n",
              "      <td>75.7099</td>\n",
              "      <td>51</td>\n",
              "      <td>8</td>\n",
              "      <td>0.068560</td>\n",
              "      <td>456026.897068</td>\n",
              "      <td>75.7099</td>\n",
              "      <td>51</td>\n",
              "      <td>8</td>\n",
              "      <td>0.000000</td>\n",
              "    </tr>\n",
              "  </tbody>\n",
              "</table>\n",
              "<p>3910 rows × 21 columns</p>\n",
              "</div>"
            ],
            "text/plain": [
              "      index   Test_Time(s)  ...  Step_Index.3  Discharge_Capacity\n",
              "0         0     120.004600  ...             1            0.000000\n",
              "1         1     240.000200  ...             1            0.000000\n",
              "2         2     360.000700  ...             1            0.000000\n",
              "3         3     480.001900  ...             1            0.000000\n",
              "4         4     600.003300  ...             1            0.000000\n",
              "...     ...            ...  ...           ...                 ...\n",
              "3905   3905  455650.938480  ...             5            2.426762\n",
              "3906   3906  455771.101924  ...             6            2.426808\n",
              "3907   3907  455891.102624  ...             6            2.426808\n",
              "3908   3908  455951.100824  ...             6            2.426808\n",
              "3909   3909  456026.897068  ...             8            0.000000\n",
              "\n",
              "[3910 rows x 21 columns]"
            ]
          },
          "metadata": {},
          "execution_count": 1356
        }
      ]
    },
    {
      "cell_type": "code",
      "metadata": {
        "id": "wwAaq-AO4AKS"
      },
      "source": [
        "df = pd.DataFrame(dataset_nasa)\n",
        "cols = [0,20]\n",
        "df = df[df.columns[cols]]"
      ],
      "execution_count": 1421,
      "outputs": []
    },
    {
      "cell_type": "code",
      "metadata": {
        "colab": {
          "base_uri": "https://localhost:8080/",
          "height": 417
        },
        "id": "4ss0ApIz4AWr",
        "outputId": "bed4d850-a181-40ac-8971-06019185f886"
      },
      "source": [
        "df"
      ],
      "execution_count": 1422,
      "outputs": [
        {
          "output_type": "execute_result",
          "data": {
            "text/html": [
              "<div>\n",
              "<style scoped>\n",
              "    .dataframe tbody tr th:only-of-type {\n",
              "        vertical-align: middle;\n",
              "    }\n",
              "\n",
              "    .dataframe tbody tr th {\n",
              "        vertical-align: top;\n",
              "    }\n",
              "\n",
              "    .dataframe thead th {\n",
              "        text-align: right;\n",
              "    }\n",
              "</style>\n",
              "<table border=\"1\" class=\"dataframe\">\n",
              "  <thead>\n",
              "    <tr style=\"text-align: right;\">\n",
              "      <th></th>\n",
              "      <th>index</th>\n",
              "      <th>Discharge_Capacity</th>\n",
              "    </tr>\n",
              "  </thead>\n",
              "  <tbody>\n",
              "    <tr>\n",
              "      <th>0</th>\n",
              "      <td>0</td>\n",
              "      <td>0.000000</td>\n",
              "    </tr>\n",
              "    <tr>\n",
              "      <th>1</th>\n",
              "      <td>1</td>\n",
              "      <td>0.000000</td>\n",
              "    </tr>\n",
              "    <tr>\n",
              "      <th>2</th>\n",
              "      <td>2</td>\n",
              "      <td>0.000000</td>\n",
              "    </tr>\n",
              "    <tr>\n",
              "      <th>3</th>\n",
              "      <td>3</td>\n",
              "      <td>0.000000</td>\n",
              "    </tr>\n",
              "    <tr>\n",
              "      <th>4</th>\n",
              "      <td>4</td>\n",
              "      <td>0.000000</td>\n",
              "    </tr>\n",
              "    <tr>\n",
              "      <th>...</th>\n",
              "      <td>...</td>\n",
              "      <td>...</td>\n",
              "    </tr>\n",
              "    <tr>\n",
              "      <th>3905</th>\n",
              "      <td>3905</td>\n",
              "      <td>2.426762</td>\n",
              "    </tr>\n",
              "    <tr>\n",
              "      <th>3906</th>\n",
              "      <td>3906</td>\n",
              "      <td>2.426808</td>\n",
              "    </tr>\n",
              "    <tr>\n",
              "      <th>3907</th>\n",
              "      <td>3907</td>\n",
              "      <td>2.426808</td>\n",
              "    </tr>\n",
              "    <tr>\n",
              "      <th>3908</th>\n",
              "      <td>3908</td>\n",
              "      <td>2.426808</td>\n",
              "    </tr>\n",
              "    <tr>\n",
              "      <th>3909</th>\n",
              "      <td>3909</td>\n",
              "      <td>0.000000</td>\n",
              "    </tr>\n",
              "  </tbody>\n",
              "</table>\n",
              "<p>3910 rows × 2 columns</p>\n",
              "</div>"
            ],
            "text/plain": [
              "      index  Discharge_Capacity\n",
              "0         0            0.000000\n",
              "1         1            0.000000\n",
              "2         2            0.000000\n",
              "3         3            0.000000\n",
              "4         4            0.000000\n",
              "...     ...                 ...\n",
              "3905   3905            2.426762\n",
              "3906   3906            2.426808\n",
              "3907   3907            2.426808\n",
              "3908   3908            2.426808\n",
              "3909   3909            0.000000\n",
              "\n",
              "[3910 rows x 2 columns]"
            ]
          },
          "metadata": {},
          "execution_count": 1422
        }
      ]
    },
    {
      "cell_type": "code",
      "metadata": {
        "id": "T807dGEGdGOF"
      },
      "source": [
        "df1 = df.to_numpy()"
      ],
      "execution_count": 1423,
      "outputs": []
    },
    {
      "cell_type": "code",
      "metadata": {
        "id": "LODZWZeYkh2n"
      },
      "source": [
        "train_size = int(len(df1)*0.8)\n",
        "test_size = len(df1) - train_size\n",
        "train = df1[1:train_size,:]\n",
        "test = df1[train_size:len(df1)]"
      ],
      "execution_count": 1424,
      "outputs": []
    },
    {
      "cell_type": "code",
      "metadata": {
        "colab": {
          "base_uri": "https://localhost:8080/"
        },
        "id": "AWeTV_6qgxIV",
        "outputId": "6498c0f8-676a-4835-bf52-22408a7f815b"
      },
      "source": [
        "train_size"
      ],
      "execution_count": 1425,
      "outputs": [
        {
          "output_type": "execute_result",
          "data": {
            "text/plain": [
              "3128"
            ]
          },
          "metadata": {},
          "execution_count": 1425
        }
      ]
    },
    {
      "cell_type": "code",
      "metadata": {
        "id": "KeMJFvQ0U3Z6"
      },
      "source": [
        "train_set = pd.DataFrame(train)"
      ],
      "execution_count": 1426,
      "outputs": []
    },
    {
      "cell_type": "code",
      "metadata": {
        "colab": {
          "base_uri": "https://localhost:8080/",
          "height": 417
        },
        "id": "WETL8vj3d6zz",
        "outputId": "9ba08f31-447c-4ca6-ddbb-c244d0d5ea0a"
      },
      "source": [
        "train_set"
      ],
      "execution_count": 1427,
      "outputs": [
        {
          "output_type": "execute_result",
          "data": {
            "text/html": [
              "<div>\n",
              "<style scoped>\n",
              "    .dataframe tbody tr th:only-of-type {\n",
              "        vertical-align: middle;\n",
              "    }\n",
              "\n",
              "    .dataframe tbody tr th {\n",
              "        vertical-align: top;\n",
              "    }\n",
              "\n",
              "    .dataframe thead th {\n",
              "        text-align: right;\n",
              "    }\n",
              "</style>\n",
              "<table border=\"1\" class=\"dataframe\">\n",
              "  <thead>\n",
              "    <tr style=\"text-align: right;\">\n",
              "      <th></th>\n",
              "      <th>0</th>\n",
              "      <th>1</th>\n",
              "    </tr>\n",
              "  </thead>\n",
              "  <tbody>\n",
              "    <tr>\n",
              "      <th>0</th>\n",
              "      <td>1.0</td>\n",
              "      <td>0.000000</td>\n",
              "    </tr>\n",
              "    <tr>\n",
              "      <th>1</th>\n",
              "      <td>2.0</td>\n",
              "      <td>0.000000</td>\n",
              "    </tr>\n",
              "    <tr>\n",
              "      <th>2</th>\n",
              "      <td>3.0</td>\n",
              "      <td>0.000000</td>\n",
              "    </tr>\n",
              "    <tr>\n",
              "      <th>3</th>\n",
              "      <td>4.0</td>\n",
              "      <td>0.000000</td>\n",
              "    </tr>\n",
              "    <tr>\n",
              "      <th>4</th>\n",
              "      <td>5.0</td>\n",
              "      <td>0.000000</td>\n",
              "    </tr>\n",
              "    <tr>\n",
              "      <th>...</th>\n",
              "      <td>...</td>\n",
              "      <td>...</td>\n",
              "    </tr>\n",
              "    <tr>\n",
              "      <th>3122</th>\n",
              "      <td>3123.0</td>\n",
              "      <td>2.282091</td>\n",
              "    </tr>\n",
              "    <tr>\n",
              "      <th>3123</th>\n",
              "      <td>3124.0</td>\n",
              "      <td>2.358158</td>\n",
              "    </tr>\n",
              "    <tr>\n",
              "      <th>3124</th>\n",
              "      <td>3125.0</td>\n",
              "      <td>2.430126</td>\n",
              "    </tr>\n",
              "    <tr>\n",
              "      <th>3125</th>\n",
              "      <td>3126.0</td>\n",
              "      <td>2.430166</td>\n",
              "    </tr>\n",
              "    <tr>\n",
              "      <th>3126</th>\n",
              "      <td>3127.0</td>\n",
              "      <td>2.430166</td>\n",
              "    </tr>\n",
              "  </tbody>\n",
              "</table>\n",
              "<p>3127 rows × 2 columns</p>\n",
              "</div>"
            ],
            "text/plain": [
              "           0         1\n",
              "0        1.0  0.000000\n",
              "1        2.0  0.000000\n",
              "2        3.0  0.000000\n",
              "3        4.0  0.000000\n",
              "4        5.0  0.000000\n",
              "...      ...       ...\n",
              "3122  3123.0  2.282091\n",
              "3123  3124.0  2.358158\n",
              "3124  3125.0  2.430126\n",
              "3125  3126.0  2.430166\n",
              "3126  3127.0  2.430166\n",
              "\n",
              "[3127 rows x 2 columns]"
            ]
          },
          "metadata": {},
          "execution_count": 1427
        }
      ]
    },
    {
      "cell_type": "code",
      "metadata": {
        "id": "5g-dEeBseFAS"
      },
      "source": [
        "test_set = pd.DataFrame(test)"
      ],
      "execution_count": 1428,
      "outputs": []
    },
    {
      "cell_type": "code",
      "metadata": {
        "colab": {
          "base_uri": "https://localhost:8080/",
          "height": 417
        },
        "id": "T3rDI_yxeKmE",
        "outputId": "2387319b-e074-4a15-8038-110a49ebe92e"
      },
      "source": [
        "test_set"
      ],
      "execution_count": 1429,
      "outputs": [
        {
          "output_type": "execute_result",
          "data": {
            "text/html": [
              "<div>\n",
              "<style scoped>\n",
              "    .dataframe tbody tr th:only-of-type {\n",
              "        vertical-align: middle;\n",
              "    }\n",
              "\n",
              "    .dataframe tbody tr th {\n",
              "        vertical-align: top;\n",
              "    }\n",
              "\n",
              "    .dataframe thead th {\n",
              "        text-align: right;\n",
              "    }\n",
              "</style>\n",
              "<table border=\"1\" class=\"dataframe\">\n",
              "  <thead>\n",
              "    <tr style=\"text-align: right;\">\n",
              "      <th></th>\n",
              "      <th>0</th>\n",
              "      <th>1</th>\n",
              "    </tr>\n",
              "  </thead>\n",
              "  <tbody>\n",
              "    <tr>\n",
              "      <th>0</th>\n",
              "      <td>3128.0</td>\n",
              "      <td>2.430166e+00</td>\n",
              "    </tr>\n",
              "    <tr>\n",
              "      <th>1</th>\n",
              "      <td>3129.0</td>\n",
              "      <td>2.663506e-09</td>\n",
              "    </tr>\n",
              "    <tr>\n",
              "      <th>2</th>\n",
              "      <td>3130.0</td>\n",
              "      <td>2.663506e-09</td>\n",
              "    </tr>\n",
              "    <tr>\n",
              "      <th>3</th>\n",
              "      <td>3131.0</td>\n",
              "      <td>2.663506e-09</td>\n",
              "    </tr>\n",
              "    <tr>\n",
              "      <th>4</th>\n",
              "      <td>3132.0</td>\n",
              "      <td>2.663506e-09</td>\n",
              "    </tr>\n",
              "    <tr>\n",
              "      <th>...</th>\n",
              "      <td>...</td>\n",
              "      <td>...</td>\n",
              "    </tr>\n",
              "    <tr>\n",
              "      <th>777</th>\n",
              "      <td>3905.0</td>\n",
              "      <td>2.426762e+00</td>\n",
              "    </tr>\n",
              "    <tr>\n",
              "      <th>778</th>\n",
              "      <td>3906.0</td>\n",
              "      <td>2.426808e+00</td>\n",
              "    </tr>\n",
              "    <tr>\n",
              "      <th>779</th>\n",
              "      <td>3907.0</td>\n",
              "      <td>2.426808e+00</td>\n",
              "    </tr>\n",
              "    <tr>\n",
              "      <th>780</th>\n",
              "      <td>3908.0</td>\n",
              "      <td>2.426808e+00</td>\n",
              "    </tr>\n",
              "    <tr>\n",
              "      <th>781</th>\n",
              "      <td>3909.0</td>\n",
              "      <td>0.000000e+00</td>\n",
              "    </tr>\n",
              "  </tbody>\n",
              "</table>\n",
              "<p>782 rows × 2 columns</p>\n",
              "</div>"
            ],
            "text/plain": [
              "          0             1\n",
              "0    3128.0  2.430166e+00\n",
              "1    3129.0  2.663506e-09\n",
              "2    3130.0  2.663506e-09\n",
              "3    3131.0  2.663506e-09\n",
              "4    3132.0  2.663506e-09\n",
              "..      ...           ...\n",
              "777  3905.0  2.426762e+00\n",
              "778  3906.0  2.426808e+00\n",
              "779  3907.0  2.426808e+00\n",
              "780  3908.0  2.426808e+00\n",
              "781  3909.0  0.000000e+00\n",
              "\n",
              "[782 rows x 2 columns]"
            ]
          },
          "metadata": {},
          "execution_count": 1429
        }
      ]
    },
    {
      "cell_type": "code",
      "metadata": {
        "colab": {
          "base_uri": "https://localhost:8080/"
        },
        "id": "f1the1T5EOmc",
        "outputId": "1547ebfb-fed7-4bf8-f64f-7d0b4249948f"
      },
      "source": [
        "df.columns"
      ],
      "execution_count": 1430,
      "outputs": [
        {
          "output_type": "execute_result",
          "data": {
            "text/plain": [
              "Index(['index', 'Discharge_Capacity'], dtype='object')"
            ]
          },
          "metadata": {},
          "execution_count": 1430
        }
      ]
    },
    {
      "cell_type": "code",
      "metadata": {
        "id": "0_YxlE0XdCjP"
      },
      "source": [
        "df_input = df[['index','Discharge_Capacity']]"
      ],
      "execution_count": 1431,
      "outputs": []
    },
    {
      "cell_type": "code",
      "metadata": {
        "id": "Dlc4FnMDdCn0"
      },
      "source": [
        "df_input = df_input.set_index('index')"
      ],
      "execution_count": 1432,
      "outputs": []
    },
    {
      "cell_type": "code",
      "metadata": {
        "id": "sIOGFPUXfl8N"
      },
      "source": [
        "train_time = 949\n",
        "prediction_length = 949\n",
        "freq = \"2min\""
      ],
      "execution_count": 1433,
      "outputs": []
    },
    {
      "cell_type": "code",
      "metadata": {
        "id": "bIOdz6aNfl_E"
      },
      "source": [
        "from gluonts.dataset.common import ListDataset\n",
        "train_data = ListDataset(\n",
        "    [{\"start\": df_input.index[0], \"target\": df_input.Discharge_Capacity[:train_time] }],\n",
        "    freq = \"2min\"\n",
        ")"
      ],
      "execution_count": 1434,
      "outputs": []
    },
    {
      "cell_type": "code",
      "metadata": {
        "colab": {
          "base_uri": "https://localhost:8080/",
          "height": 290
        },
        "id": "o3VEMuGqfmCj",
        "outputId": "81fa2af6-045c-4e39-9435-775fcbebcb1f"
      },
      "source": [
        "entry = next(iter(train_data))\n",
        "train_series = to_pandas(entry)\n",
        "train_series.plot()\n",
        "plt.grid(which=\"both\")\n",
        "plt.legend([\"train series\"], loc=\"upper left\")\n",
        "plt.savefig(\"fig1.pdf\",bbox_inches=\"tight\")\n",
        "plt.show()"
      ],
      "execution_count": 1435,
      "outputs": [
        {
          "output_type": "display_data",
          "data": {
            "image/png": "[encoded data removed]",
            "text/plain": [
              "<Figure size 432x288 with 1 Axes>"
            ]
          },
          "metadata": {
            "needs_background": "light"
          }
        }
      ]
    },
    {
      "cell_type": "code",
      "metadata": {
        "id": "NegtiuLcvLWF"
      },
      "source": [
        "test_data = ListDataset(\n",
        "    [{\"start\": df_input.index[0], \"target\": df_input.Discharge_Capacity[:]}],\n",
        "    freq = \"2min\"\n",
        ")"
      ],
      "execution_count": 1436,
      "outputs": []
    },
    {
      "cell_type": "code",
      "metadata": {
        "colab": {
          "base_uri": "https://localhost:8080/",
          "height": 289
        },
        "id": "8qkov_uhfmIF",
        "outputId": "f7539736-a695-407f-f50f-42d5cd966d62"
      },
      "source": [
        "entry = next(iter(test_data))\n",
        "test_series = to_pandas(entry)\n",
        "test_series.plot()\n",
        "plt.axvline(train_series.index[-1], color='r') # end of train dataset\n",
        "plt.grid(which=\"both\")\n",
        "plt.legend([\"test series\", \"end of train series\"], loc=\"upper left\")\n",
        "plt.savefig(\"fig2.pdf\",bbox_inches=\"tight\")\n",
        "plt.show()"
      ],
      "execution_count": 1437,
      "outputs": [
        {
          "output_type": "display_data",
          "data": {
            "image/png": "[encoded data removed]",
            "text/plain": [
              "<Figure size 432x288 with 1 Axes>"
            ]
          },
          "metadata": {
            "needs_background": "light"
          }
        }
      ]
    },
    {
      "cell_type": "code",
      "metadata": {
        "colab": {
          "base_uri": "https://localhost:8080/"
        },
        "id": "QhoWe6rawAZv",
        "outputId": "b1bc7498-da50-4a17-cf18-c6592715df9a"
      },
      "source": [
        "print(f\"Length of forecasting window in test dataset:{len(test_series)-len(train_series)}\")\n",
        "print(f\"Frequency of the time series:{freq}\")"
      ],
      "execution_count": 1438,
      "outputs": [
        {
          "output_type": "stream",
          "name": "stdout",
          "text": [
            "Length of forecasting window in test dataset:2961\n",
            "Frequency of the time series:2min\n"
          ]
        }
      ]
    },
    {
      "cell_type": "code",
      "metadata": {
        "id": "2CvnPKD6wAb2"
      },
      "source": [
        "from gluonts.model.simple_feedforward import SimpleFeedForwardEstimator\n",
        "from gluonts.mx.trainer import Trainer"
      ],
      "execution_count": 1439,
      "outputs": []
    },
    {
      "cell_type": "code",
      "metadata": {
        "id": "pdmsiYrRwAer"
      },
      "source": [
        "estimator = SimpleFeedForwardEstimator(\n",
        "    num_hidden_dimensions=[10],\n",
        "    prediction_length=250,\n",
        "    context_length=50,\n",
        "    freq=\"2min\",\n",
        "    trainer=Trainer(ctx=\"cpu\", \n",
        "                    epochs=5, \n",
        "                    learning_rate=1e-3, \n",
        "                    num_batches_per_epoch=100\n",
        "                   )\n",
        ")"
      ],
      "execution_count": 1440,
      "outputs": []
    },
    {
      "cell_type": "code",
      "metadata": {
        "colab": {
          "base_uri": "https://localhost:8080/"
        },
        "id": "NhL0nVskwAjS",
        "outputId": "c403aa2f-f9ab-455c-da4f-ee768f687ea8"
      },
      "source": [
        "predictor = estimator.train(train_data)"
      ],
      "execution_count": 1441,
      "outputs": [
        {
          "output_type": "stream",
          "name": "stderr",
          "text": [
            "100%|██████████| 100/100 [00:01<00:00, 82.09it/s, epoch=1/5, avg_epoch_loss=1.05]\n",
            "100%|██████████| 100/100 [00:01<00:00, 84.42it/s, epoch=2/5, avg_epoch_loss=0.132]\n",
            "100%|██████████| 100/100 [00:01<00:00, 84.07it/s, epoch=3/5, avg_epoch_loss=0.0485]\n",
            "100%|██████████| 100/100 [00:01<00:00, 85.00it/s, epoch=4/5, avg_epoch_loss=0.0143]\n",
            "100%|██████████| 100/100 [00:01<00:00, 86.46it/s, epoch=5/5, avg_epoch_loss=-.182]\n"
          ]
        }
      ]
    },
    {
      "cell_type": "code",
      "metadata": {
        "id": "CASb7jv6_CEd"
      },
      "source": [
        "from gluonts.evaluation.backtest import make_evaluation_predictions"
      ],
      "execution_count": 1442,
      "outputs": []
    },
    {
      "cell_type": "code",
      "metadata": {
        "id": "4BL7I1rL_CGo"
      },
      "source": [
        "forecast_it, ts_it = make_evaluation_predictions(\n",
        "    dataset=test_data,  # test dataset\n",
        "    predictor=predictor,  # predictor\n",
        "    num_samples=500,  # number of sample paths we want for evaluation 100\n",
        ")"
      ],
      "execution_count": 1443,
      "outputs": []
    },
    {
      "cell_type": "code",
      "metadata": {
        "id": "DOjSmzsT_CJt"
      },
      "source": [
        "forecasts = list(forecast_it)\n",
        "tss = list(ts_it)"
      ],
      "execution_count": 1444,
      "outputs": []
    },
    {
      "cell_type": "code",
      "metadata": {
        "id": "Mer7dfY1_CMZ"
      },
      "source": [
        "# first entry of the time series list\n",
        "ts_entry = tss[0]"
      ],
      "execution_count": 1445,
      "outputs": []
    },
    {
      "cell_type": "code",
      "metadata": {
        "colab": {
          "base_uri": "https://localhost:8080/"
        },
        "id": "b-8-7Jfg_CO9",
        "outputId": "8a362e17-a193-4f62-9efe-a6cc36ea2713"
      },
      "source": [
        "# first 5 values of the time series (convert from pandas to numpy)\n",
        "np.array(ts_entry[:5]).reshape(-1,)"
      ],
      "execution_count": 1446,
      "outputs": [
        {
          "output_type": "execute_result",
          "data": {
            "text/plain": [
              "array([0., 0., 0., 0., 0.], dtype=float32)"
            ]
          },
          "metadata": {},
          "execution_count": 1446
        }
      ]
    },
    {
      "cell_type": "code",
      "metadata": {
        "id": "QXz60jpG_CR6"
      },
      "source": [
        "# first entry of dataset.test\n",
        "dataset_test_entry = next(iter(test_data))"
      ],
      "execution_count": 1447,
      "outputs": []
    },
    {
      "cell_type": "code",
      "metadata": {
        "colab": {
          "base_uri": "https://localhost:8080/"
        },
        "id": "tXHfQ2D4_CU0",
        "outputId": "e9277ad2-96b5-4529-efd7-d482a01cd09f"
      },
      "source": [
        "# first 5 values\n",
        "dataset_test_entry['target'][:5]"
      ],
      "execution_count": 1448,
      "outputs": [
        {
          "output_type": "execute_result",
          "data": {
            "text/plain": [
              "array([0., 0., 0., 0., 0.], dtype=float32)"
            ]
          },
          "metadata": {},
          "execution_count": 1448
        }
      ]
    },
    {
      "cell_type": "code",
      "metadata": {
        "id": "zqkSt771_CW-"
      },
      "source": [
        "# first entry of the forecast list\n",
        "forecast_entry = forecasts[0]"
      ],
      "execution_count": 1450,
      "outputs": []
    },
    {
      "cell_type": "code",
      "metadata": {
        "colab": {
          "base_uri": "https://localhost:8080/"
        },
        "id": "wp5tTd8z_CZt",
        "outputId": "d0e8af27-20b0-43b6-ee49-17f3db3e20ba"
      },
      "source": [
        "print(f\"Number of sample paths: {forecast_entry.num_samples}\")\n",
        "print(f\"Dimension of samples: {forecast_entry.samples.shape}\")\n",
        "print(f\"Start date of the forecast window: {forecast_entry.start_date}\")\n",
        "print(f\"Frequency of the time series: {forecast_entry.freq}\")"
      ],
      "execution_count": 1451,
      "outputs": [
        {
          "output_type": "stream",
          "name": "stdout",
          "text": [
            "Number of sample paths: 500\n",
            "Dimension of samples: (500, 250)\n",
            "Start date of the forecast window: 1970-01-06 02:00:00\n",
            "Frequency of the time series: 2min\n"
          ]
        }
      ]
    },
    {
      "cell_type": "code",
      "metadata": {
        "colab": {
          "base_uri": "https://localhost:8080/"
        },
        "id": "GvKJYScF_CdO",
        "outputId": "7ce116e9-495d-49e4-8cc8-ea079555357d"
      },
      "source": [
        "print(f\"Mean of the future window:\\n {forecast_entry.mean}\")\n",
        "print(f\"0.5-quantile (median) of the future window:\\n {forecast_entry.quantile(0.5)}\")"
      ],
      "execution_count": 1452,
      "outputs": [
        {
          "output_type": "stream",
          "name": "stdout",
          "text": [
            "Mean of the future window:\n",
            " [ 1.53607535e+00  1.54247451e+00  1.59013796e+00  1.59462845e+00\n",
            "  1.44889927e+00  1.54698181e+00  1.67590010e+00  1.47379208e+00\n",
            "  1.03125918e+00  6.43856764e-01  9.10724521e-01  4.76775676e-01\n",
            "  7.17468441e-01  2.18800694e-01  1.32423028e-01  1.52330287e-02\n",
            "  1.70515001e-01 -2.11142488e-02 -1.06422342e-02 -6.86531737e-02\n",
            " -3.84281343e-03 -8.26475769e-03  1.38427196e-02 -6.82120305e-03\n",
            " -6.49498729e-03  1.33542707e-02  1.81543967e-03  7.79840862e-03\n",
            "  1.80726557e-03  2.41162372e-03  1.59824686e-03  5.77633362e-03\n",
            "  1.49461639e-03 -1.02471467e-03  9.54774965e-04 -7.81770051e-03\n",
            "  3.57955229e-03  3.79479164e-03  6.31660596e-03  6.41160586e-04\n",
            "  5.08703012e-03  1.99184334e-03 -4.34854394e-03 -2.88555189e-03\n",
            " -2.83059548e-03  4.39928938e-03 -1.14269713e-02 -9.08007205e-04\n",
            " -3.38004832e-03  1.29631651e-03  1.03549811e-03 -5.45626553e-03\n",
            "  1.48026571e-02  7.74408167e-04 -6.88831229e-03 -3.94909969e-03\n",
            "  2.71089915e-02  3.74220088e-02  9.77810025e-02  1.76328763e-01\n",
            "  2.41759926e-01  3.25702846e-01  3.91785473e-01  4.74252224e-01\n",
            "  5.69738388e-01  6.30863249e-01  7.18058765e-01  7.64525890e-01\n",
            "  8.57989967e-01  9.34953809e-01  1.00481784e+00  1.10407782e+00\n",
            "  1.17332911e+00  1.28437817e+00  1.30374062e+00  1.41597807e+00\n",
            "  1.45615757e+00  1.51206768e+00  1.64004147e+00  1.64810061e+00\n",
            "  1.70166099e+00  1.55473268e+00  1.56251359e+00  8.62856448e-01\n",
            "  1.00192571e+00  5.68368733e-01  9.59924102e-01  5.13436079e-01\n",
            "  5.56550980e-01  1.51957452e-01  2.58068591e-01  1.43186584e-01\n",
            "  1.05364621e-01  9.53118354e-02  4.20405678e-02 -4.54613157e-02\n",
            " -6.54208958e-02  1.67385414e-02 -1.53166279e-02 -5.20892907e-03\n",
            " -1.35589018e-02  7.78215891e-03 -3.51777906e-03  3.63669684e-03\n",
            "  4.97636013e-03  3.45679070e-03  6.17594516e-04 -6.38137199e-03\n",
            "  1.26406213e-03  5.22385410e-04  2.78796628e-03  5.12924371e-03\n",
            " -9.69293178e-04 -4.12722072e-03  3.11096665e-03  2.51946854e-03\n",
            "  6.91325078e-03  5.33871446e-03  5.64218825e-03  5.44163573e-04\n",
            "  3.31564574e-03  8.39495752e-03  4.30891151e-03  9.37061198e-03\n",
            "  3.43593932e-03  4.84746136e-03 -5.63473301e-03  4.63604089e-03\n",
            "  1.62358547e-03 -3.31496983e-03  5.10573480e-03  5.80797903e-04\n",
            " -1.95014924e-02 -4.71468410e-03  1.18265357e-02  5.98720610e-02\n",
            "  1.15330942e-01  1.91440344e-01  2.59657741e-01  3.52751821e-01\n",
            "  3.93732816e-01  4.73031878e-01  5.77551126e-01  6.62787616e-01\n",
            "  7.09854424e-01  7.64371037e-01  8.39607716e-01  8.90006781e-01\n",
            "  1.04558635e+00  1.13102734e+00  1.18908119e+00  1.27926648e+00\n",
            "  1.36963093e+00  1.47061932e+00  1.47799611e+00  1.55616248e+00\n",
            "  1.59419751e+00  1.70600724e+00  1.56516242e+00  8.29285204e-01\n",
            "  6.89191639e-01  7.17171073e-01  7.11520970e-01  1.56582579e-01\n",
            "  7.47924089e-01  4.19368088e-01  5.91209769e-01  4.73357409e-01\n",
            "  5.95641017e-01  3.08896184e-01  3.60996425e-02  5.85096553e-02\n",
            "  2.92383283e-02 -4.42830436e-02  3.90125439e-02  2.09301095e-02\n",
            "  2.13380735e-02  1.22040492e-02 -1.98028982e-03  3.90936248e-03\n",
            "  6.37048949e-03 -3.77267622e-03 -5.33149112e-03  1.95534970e-03\n",
            "  1.75616308e-03  2.62291258e-04 -1.37032918e-03 -6.14700606e-03\n",
            "  5.21810353e-03 -2.19973153e-05 -9.85886436e-04  2.63884501e-03\n",
            "  2.91267969e-03 -1.55527657e-03  7.73040624e-03 -3.59100080e-03\n",
            "  2.52918713e-03 -1.89976383e-03 -1.13881873e-02  2.47312454e-03\n",
            " -2.43230048e-03 -4.35134210e-03 -2.88593723e-03  1.60067255e-04\n",
            " -6.72728661e-03 -6.54543110e-04 -1.21256756e-02  8.93425662e-03\n",
            " -6.88152760e-03 -1.46574248e-03 -1.93900720e-03  1.20322835e-02\n",
            "  2.63232812e-02  5.05640097e-02  1.29367381e-01  1.94649622e-01\n",
            "  2.83026636e-01  3.48945081e-01  4.24054712e-01  4.97830540e-01\n",
            "  5.98345160e-01  6.88301027e-01  7.72224605e-01  8.16180825e-01\n",
            "  9.31370676e-01  9.62081850e-01  1.04171634e+00  1.11327982e+00\n",
            "  1.22021341e+00  1.30737376e+00  1.40803015e+00  1.46325135e+00\n",
            "  1.42492568e+00  1.51933968e+00  1.63533616e+00  1.74784255e+00\n",
            "  1.18660355e+00  1.06285667e+00  8.66734684e-01  1.51751781e+00\n",
            "  9.87118959e-01  7.50306547e-01  1.50290585e+00  3.60206902e-01\n",
            "  5.05071640e-01  6.80210963e-02  2.45548576e-01  1.47035986e-01\n",
            "  6.78606331e-02  1.21173449e-01]\n",
            "0.5-quantile (median) of the future window:\n",
            " [ 1.53135979e+00  1.54639947e+00  1.61511481e+00  1.55103827e+00\n",
            "  1.49791706e+00  1.52393532e+00  1.35337174e+00  1.47158837e+00\n",
            "  9.75156546e-01  7.90690780e-01  8.63347471e-01  5.40564716e-01\n",
            "  2.51583934e-01  2.79358327e-01  2.35401198e-01 -2.01281104e-02\n",
            "  4.03013546e-03 -4.32165563e-02 -1.13641014e-02 -5.23876548e-02\n",
            " -4.77157114e-03 -9.14031360e-03  7.59761920e-03 -5.51950233e-03\n",
            " -5.67978108e-03  1.32014276e-02  1.43471500e-03  8.31131171e-03\n",
            "  1.84023846e-03  3.23314755e-03  1.41111552e-03  5.82405087e-03\n",
            "  3.14744597e-04 -5.99597814e-04  7.89898389e-04 -7.91545305e-03\n",
            "  3.21185775e-03  3.85470642e-03  6.35983516e-03  2.31269374e-03\n",
            "  5.02349623e-03  1.65124447e-03 -3.87278059e-03 -3.01428186e-03\n",
            " -2.72181188e-03  3.59733310e-03 -1.02254609e-02 -2.93053308e-04\n",
            " -2.90366448e-03  1.91167765e-03  1.39973138e-03 -6.31744275e-03\n",
            "  1.59730595e-02  2.56325770e-03 -6.37265248e-03 -5.90946234e-04\n",
            "  2.73423307e-02  3.98522578e-02  9.37062800e-02  1.76507995e-01\n",
            "  2.41787866e-01  3.23441029e-01  3.93325329e-01  4.73155975e-01\n",
            "  5.61255634e-01  6.36483252e-01  7.19774842e-01  7.62317121e-01\n",
            "  8.58839095e-01  9.45095539e-01  1.00336635e+00  1.09122133e+00\n",
            "  1.17530572e+00  1.27209997e+00  1.33715832e+00  1.41201484e+00\n",
            "  1.46508312e+00  1.51026380e+00  1.60494840e+00  1.65046239e+00\n",
            "  1.68314254e+00  1.40691257e+00  1.33355665e+00  9.61217105e-01\n",
            "  1.14765120e+00  7.14040101e-01  7.77420998e-01  5.04551530e-01\n",
            "  4.05372292e-01  2.69873381e-01  1.10897847e-01  3.03463303e-02\n",
            "  1.40136808e-01  7.02359825e-02 -1.05327433e-02 -2.90521998e-02\n",
            " -3.85359265e-02  7.05121830e-03 -2.51166094e-02 -7.48365466e-03\n",
            " -6.70317095e-03  6.97619654e-03 -4.08780109e-03  4.27261647e-03\n",
            "  4.87742433e-03  3.48082208e-03  9.07523150e-04 -6.11299882e-03\n",
            "  1.19791925e-03  2.60669272e-04  3.44908168e-03  5.99994790e-03\n",
            " -2.06059325e-04 -4.44990257e-03  3.41501087e-03  2.29631597e-03\n",
            "  7.14161946e-03  6.91725919e-03  5.23991557e-03 -4.55758243e-04\n",
            "  3.09588620e-03  8.31949431e-03  5.41573483e-03  9.50761046e-03\n",
            "  5.71331149e-03  4.60025528e-03 -5.22957835e-03  5.89068420e-03\n",
            " -1.42834405e-03 -2.42924993e-03  3.57916648e-03  5.50078112e-04\n",
            " -1.41252559e-02  8.97016318e-04  1.43013941e-02  6.94961473e-02\n",
            "  1.16378613e-01  1.88924238e-01  2.60077626e-01  3.55426103e-01\n",
            "  4.01000082e-01  4.69337553e-01  5.75510561e-01  6.55508578e-01\n",
            "  7.17436254e-01  7.73136795e-01  8.49162996e-01  9.34780836e-01\n",
            "  1.00424969e+00  1.10827172e+00  1.18601775e+00  1.29043233e+00\n",
            "  1.35568058e+00  1.46680129e+00  1.48015666e+00  1.56610715e+00\n",
            "  1.59203744e+00  1.65008247e+00  1.61617529e+00  1.07735753e+00\n",
            "  7.44530439e-01  8.84396613e-01  6.13354504e-01  5.28286278e-01\n",
            "  7.30105340e-01  3.96641910e-01  4.34955865e-01  4.23661619e-01\n",
            "  3.60860139e-01  1.71464771e-01  5.63496761e-02 -2.81201992e-02\n",
            " -1.66514725e-03 -4.56708074e-02 -1.37002869e-02  4.24618311e-02\n",
            "  2.58784853e-02  1.14589883e-02 -5.24021033e-03  3.78807914e-03\n",
            "  5.23434300e-03 -2.12293211e-03 -4.84935706e-03  1.99059607e-03\n",
            "  2.07619555e-03  5.76089718e-04 -2.92052631e-04 -6.01266697e-03\n",
            "  5.28566260e-03  7.55053261e-05 -8.37447180e-04  2.75897351e-03\n",
            "  3.95096606e-03  8.14598461e-04  7.53120752e-03 -3.54531454e-03\n",
            "  3.32444627e-03 -2.10159225e-03 -1.18258903e-02  2.48935865e-03\n",
            " -3.45565891e-03 -5.01962006e-03 -2.15476030e-03  5.60799905e-04\n",
            " -7.70008145e-03 -1.90743315e-03 -1.25710899e-02  8.92866030e-03\n",
            " -6.61232043e-03  7.08281237e-04 -1.66504621e-03  8.54830071e-03\n",
            "  3.39692049e-02  5.19350097e-02  1.30880788e-01  1.93627059e-01\n",
            "  2.87283659e-01  3.60840321e-01  4.30068463e-01  4.99928534e-01\n",
            "  6.11611545e-01  6.83503509e-01  7.52343893e-01  8.04369450e-01\n",
            "  9.10897136e-01  9.42435324e-01  1.03963375e+00  1.10312164e+00\n",
            "  1.21814609e+00  1.29436421e+00  1.38777208e+00  1.47199655e+00\n",
            "  1.43511403e+00  1.50831378e+00  1.59914386e+00  1.55710137e+00\n",
            "  1.23642230e+00  1.28093171e+00  1.03887236e+00  1.33581078e+00\n",
            "  9.35440004e-01  6.21465325e-01  8.96349251e-01  5.60079098e-01\n",
            "  6.37436211e-01  3.30553710e-01  1.47738531e-01  1.19720474e-01\n",
            "  1.02667347e-01  8.74135718e-02]\n"
          ]
        }
      ]
    },
    {
      "cell_type": "code",
      "metadata": {
        "id": "l4hT4FX0_sBf"
      },
      "source": [
        "def plot_prob_forecasts(ts_entry, forecast_entry):\n",
        "    plot_length = 500\n",
        "    prediction_intervals = (50.0, 90.0)\n",
        "    legend = [\"observations\", \"median prediction\"] + [f\"{k}% prediction interval\" for k in prediction_intervals][::-1]\n",
        "\n",
        "    fig, ax = plt.subplots(1, 1, figsize=(10, 7))\n",
        "    ts_entry[-plot_length:].plot(ax=ax)  # plot the time series\n",
        "    forecast_entry.plot(prediction_intervals=prediction_intervals, color='g')\n",
        "    plt.grid(which=\"both\")\n",
        "    plt.ylim(0,3)\n",
        "    plt.legend(legend, loc=\"upper left\")\n",
        "    plt.savefig(\"fig3.pdf\",bbox_inches=\"tight\")\n",
        "    plt.show()"
      ],
      "execution_count": 1453,
      "outputs": []
    },
    {
      "cell_type": "code",
      "metadata": {
        "colab": {
          "base_uri": "https://localhost:8080/",
          "height": 444
        },
        "id": "eGL634gS_sFB",
        "outputId": "668a7c28-7e29-4762-e6e3-548c67a523a8"
      },
      "source": [
        "plot_prob_forecasts(ts_entry, forecast_entry)"
      ],
      "execution_count": 1454,
      "outputs": [
        {
          "output_type": "display_data",
          "data": {
            "image/png": "[encoded data removed]",
            "text/plain": [
              "<Figure size 720x504 with 1 Axes>"
            ]
          },
          "metadata": {
            "needs_background": "light"
          }
        }
      ]
    },
    {
      "cell_type": "code",
      "metadata": {
        "id": "ZNQ9VW-i_sIV"
      },
      "source": [
        "from gluonts.evaluation import Evaluator\n"
      ],
      "execution_count": 1455,
      "outputs": []
    },
    {
      "cell_type": "code",
      "metadata": {
        "colab": {
          "base_uri": "https://localhost:8080/"
        },
        "id": "K8qjJvhC_sX6",
        "outputId": "5dad72e6-bdcd-48fd-fb51-341591b02004"
      },
      "source": [
        "evaluator = Evaluator(quantiles=[0.5,0.1,0.9])\n",
        "agg_metrics, item_metrics = evaluator(iter(tss), iter(forecasts), num_series=len(test_data))"
      ],
      "execution_count": 1456,
      "outputs": [
        {
          "output_type": "stream",
          "name": "stderr",
          "text": [
            "Running evaluation: 100%|██████████| 1/1 [00:00<00:00, 23.07it/s]\n"
          ]
        }
      ]
    },
    {
      "cell_type": "code",
      "metadata": {
        "colab": {
          "base_uri": "https://localhost:8080/"
        },
        "id": "BGoIY9no_9k1",
        "outputId": "5a6eaaa0-1941-4098-aa9e-423dc685f70e"
      },
      "source": [
        "print(json.dumps(agg_metrics, indent=4))"
      ],
      "execution_count": 1457,
      "outputs": [
        {
          "output_type": "stream",
          "name": "stdout",
          "text": [
            "{\n",
            "    \"MSE\": 0.5105601196289062,\n",
            "    \"abs_error\": 77.1292724609375,\n",
            "    \"abs_target_sum\": 173.8040771484375,\n",
            "    \"abs_target_mean\": 0.69521630859375,\n",
            "    \"seasonal_error\": 0.9881286205888605,\n",
            "    \"MASE\": 0.31222361483659267,\n",
            "    \"MAPE\": 1881619.2621359224,\n",
            "    \"sMAPE\": 1.27024560546875,\n",
            "    \"MSIS\": 3.1341184182373354,\n",
            "    \"QuantileLoss[0.5]\": 77.12927051200677,\n",
            "    \"Coverage[0.5]\": 0.536,\n",
            "    \"QuantileLoss[0.1]\": 47.440081378561445,\n",
            "    \"Coverage[0.1]\": 0.024,\n",
            "    \"QuantileLoss[0.9]\": 24.714437349338546,\n",
            "    \"Coverage[0.9]\": 0.964,\n",
            "    \"RMSE\": 0.7145348974185279,\n",
            "    \"NRMSE\": 1.0277878821108994,\n",
            "    \"ND\": 0.44377136443735543,\n",
            "    \"wQuantileLoss[0.5]\": 0.4437713532239779,\n",
            "    \"wQuantileLoss[0.1]\": 0.2729514874271057,\n",
            "    \"wQuantileLoss[0.9]\": 0.14219710926706952,\n",
            "    \"mean_absolute_QuantileLoss\": 49.76126307996892,\n",
            "    \"mean_wQuantileLoss\": 0.2863066499727177,\n",
            "    \"MAE_Coverage\": 0.058666666666666666,\n",
            "    \"OWA\": NaN\n",
            "}\n"
          ]
        }
      ]
    },
    {
      "cell_type": "code",
      "metadata": {
        "colab": {
          "base_uri": "https://localhost:8080/",
          "height": 100
        },
        "id": "JnrPgobQ_9nq",
        "outputId": "5f5dc3ab-8e83-40cf-e628-dba9594570ab"
      },
      "source": [
        "item_metrics"
      ],
      "execution_count": 1458,
      "outputs": [
        {
          "output_type": "execute_result",
          "data": {
            "text/html": [
              "<div>\n",
              "<style scoped>\n",
              "    .dataframe tbody tr th:only-of-type {\n",
              "        vertical-align: middle;\n",
              "    }\n",
              "\n",
              "    .dataframe tbody tr th {\n",
              "        vertical-align: top;\n",
              "    }\n",
              "\n",
              "    .dataframe thead th {\n",
              "        text-align: right;\n",
              "    }\n",
              "</style>\n",
              "<table border=\"1\" class=\"dataframe\">\n",
              "  <thead>\n",
              "    <tr style=\"text-align: right;\">\n",
              "      <th></th>\n",
              "      <th>item_id</th>\n",
              "      <th>MSE</th>\n",
              "      <th>abs_error</th>\n",
              "      <th>abs_target_sum</th>\n",
              "      <th>abs_target_mean</th>\n",
              "      <th>seasonal_error</th>\n",
              "      <th>MASE</th>\n",
              "      <th>MAPE</th>\n",
              "      <th>sMAPE</th>\n",
              "      <th>MSIS</th>\n",
              "      <th>QuantileLoss[0.5]</th>\n",
              "      <th>Coverage[0.5]</th>\n",
              "      <th>QuantileLoss[0.1]</th>\n",
              "      <th>Coverage[0.1]</th>\n",
              "      <th>QuantileLoss[0.9]</th>\n",
              "      <th>Coverage[0.9]</th>\n",
              "    </tr>\n",
              "  </thead>\n",
              "  <tbody>\n",
              "    <tr>\n",
              "      <th>0</th>\n",
              "      <td>NaN</td>\n",
              "      <td>0.51056</td>\n",
              "      <td>77.129272</td>\n",
              "      <td>173.804077</td>\n",
              "      <td>0.695216</td>\n",
              "      <td>0.988129</td>\n",
              "      <td>0.312224</td>\n",
              "      <td>1.881619e+06</td>\n",
              "      <td>1.270246</td>\n",
              "      <td>3.134118</td>\n",
              "      <td>77.129271</td>\n",
              "      <td>0.536</td>\n",
              "      <td>47.440081</td>\n",
              "      <td>0.024</td>\n",
              "      <td>24.714437</td>\n",
              "      <td>0.964</td>\n",
              "    </tr>\n",
              "  </tbody>\n",
              "</table>\n",
              "</div>"
            ],
            "text/plain": [
              "   item_id      MSE  abs_error  ...  Coverage[0.1]  QuantileLoss[0.9]  Coverage[0.9]\n",
              "0      NaN  0.51056  77.129272  ...          0.024          24.714437          0.964\n",
              "\n",
              "[1 rows x 16 columns]"
            ]
          },
          "metadata": {},
          "execution_count": 1458
        }
      ]
    },
    {
      "cell_type": "code",
      "metadata": {
        "colab": {
          "base_uri": "https://localhost:8080/",
          "height": 279
        },
        "id": "sAIHZco0_9qU",
        "outputId": "0c454413-4226-45f2-dc7c-cfb571533486"
      },
      "source": [
        "item_metrics.plot(x='MSIS', y='MASE', kind='scatter')\n",
        "plt.grid(which=\"both\")\n",
        "plt.savefig(\"fig4.pdf\",bbox_inches=\"tight\")\n",
        "plt.show()"
      ],
      "execution_count": 1459,
      "outputs": [
        {
          "output_type": "display_data",
          "data": {
            "image/png": "[encoded data removed]",
            "text/plain": [
              "<Figure size 432x288 with 1 Axes>"
            ]
          },
          "metadata": {
            "needs_background": "light"
          }
        }
      ]
    },
    {
      "cell_type": "code",
      "metadata": {
        "id": "Hvfrw7ym_9tz"
      },
      "source": [
        "# own forecast model"
      ],
      "execution_count": 1460,
      "outputs": []
    },
    {
      "cell_type": "code",
      "metadata": {
        "id": "yV53Ow6SAIV1"
      },
      "source": [
        "class MyNetwork(gluon.HybridBlock):\n",
        "    def __init__(self, prediction_length, num_cells, **kwargs):\n",
        "        super().__init__(**kwargs)\n",
        "        self.prediction_length = prediction_length\n",
        "        self.num_cells = num_cells\n",
        "\n",
        "        with self.name_scope():\n",
        "            # Set up a 3 layer neural network that directly predicts the target values\n",
        "            self.nn = mx.gluon.nn.HybridSequential()\n",
        "            self.nn.add(mx.gluon.nn.Dense(units=820, activation='relu'))\n",
        "            self.nn.add(mx.gluon.nn.Dense(units=820, activation='relu'))\n",
        "            self.nn.add(mx.gluon.nn.Dense(units=self.prediction_length, activation='relu'))\n",
        "\n",
        "\n",
        "class MyTrainNetwork(MyNetwork):\n",
        "    def hybrid_forward(self, F, past_target, future_target):\n",
        "        prediction = self.nn(past_target)\n",
        "        # calculate L1 loss with the future_target to learn the median\n",
        "        return (prediction - future_target).abs().mean(axis=-1)\n",
        "\n",
        "\n",
        "class MyPredNetwork(MyTrainNetwork):\n",
        "    # The prediction network only receives past_target and returns predictions\n",
        "    def hybrid_forward(self, F, past_target):\n",
        "        prediction = self.nn(past_target)\n",
        "        return prediction.expand_dims(axis=1)"
      ],
      "execution_count": 1461,
      "outputs": []
    },
    {
      "cell_type": "code",
      "metadata": {
        "id": "dDZyrrESAIYb"
      },
      "source": [
        "def plot_prob_forecasts_2(ts_entry, forecast_entry):\n",
        "    plot_length = 500\n",
        "    prediction_intervals = (50.0, 90.0)\n",
        "    legend = [\"observations\", \"median prediction\"] + [f\"{k}% prediction interval\" for k in prediction_intervals][::-1]\n",
        "\n",
        "    fig, ax = plt.subplots(1, 1, figsize=(10, 7))\n",
        "    ts_entry[-plot_length:].plot(ax=ax)  # plot the time series\n",
        "    forecast_entry.plot(prediction_intervals=prediction_intervals, color='g')\n",
        "    plt.grid(which=\"both\")\n",
        "    plt.ylim(0,3)\n",
        "    plt.legend(legend, loc=\"upper left\")\n",
        "    plt.savefig(\"fig5.pdf\",bbox_inches=\"tight\")\n",
        "    plt.show()"
      ],
      "execution_count": 1462,
      "outputs": []
    },
    {
      "cell_type": "code",
      "metadata": {
        "id": "4TnPZh8UAIbe"
      },
      "source": [
        "from functools import partial\n",
        "from mxnet.gluon import HybridBlock\n",
        "from gluonts.core.component import validated\n",
        "from gluonts.dataset.loader import TrainDataLoader\n",
        "from gluonts.model.predictor import Predictor\n",
        "from gluonts.mx.batchify import as_in_context, batchify\n",
        "from gluonts.mx.model.estimator import GluonEstimator\n",
        "from gluonts.mx.model.predictor import RepresentableBlockPredictor\n",
        "from gluonts.mx.trainer import Trainer\n",
        "from gluonts.mx.util import copy_parameters, get_hybrid_forward_input_names\n",
        "from gluonts.transform import (\n",
        "    ExpectedNumInstanceSampler,\n",
        "    Transformation,\n",
        "    InstanceSplitter,\n",
        "    TestSplitSampler,\n",
        "    SelectFields,\n",
        "    Chain\n",
        ")"
      ],
      "execution_count": 1463,
      "outputs": []
    },
    {
      "cell_type": "code",
      "metadata": {
        "id": "8XAQqNJpAId6"
      },
      "source": [
        "class MyEstimator(GluonEstimator):\n",
        "    @validated()\n",
        "    def __init__(\n",
        "        self,\n",
        "        prediction_length: int,\n",
        "        context_length: int,\n",
        "        freq: str,\n",
        "        num_cells: int,\n",
        "        batch_size: int = 32,\n",
        "        trainer: Trainer = Trainer()\n",
        "    ) -> None:\n",
        "        super().__init__(trainer=trainer, batch_size=batch_size)\n",
        "        self.prediction_length = prediction_length\n",
        "        self.context_length = context_length\n",
        "        self.freq = freq\n",
        "        self.num_cells = num_cells\n",
        "\n",
        "    def create_transformation(self):\n",
        "        return Chain([])\n",
        "\n",
        "    def create_training_data_loader(self, dataset, **kwargs):\n",
        "        instance_splitter = InstanceSplitter(\n",
        "            target_field=FieldName.TARGET,\n",
        "            is_pad_field=FieldName.IS_PAD,\n",
        "            start_field=FieldName.START,\n",
        "            forecast_start_field=FieldName.FORECAST_START,\n",
        "            instance_sampler=ExpectedNumInstanceSampler(\n",
        "                num_instances=1,\n",
        "                min_future=self.prediction_length\n",
        "            ),\n",
        "            past_length=self.context_length,\n",
        "            future_length=self.prediction_length,\n",
        "        )\n",
        "        input_names = get_hybrid_forward_input_names(MyTrainNetwork)\n",
        "        return TrainDataLoader(\n",
        "            dataset=dataset,\n",
        "            transform=instance_splitter + SelectFields(input_names),\n",
        "            batch_size=self.batch_size,\n",
        "            stack_fn=partial(batchify, ctx=self.trainer.ctx, dtype=self.dtype),\n",
        "            decode_fn=partial(as_in_context, ctx=self.trainer.ctx),\n",
        "            **kwargs,\n",
        "        )\n",
        "\n",
        "    def create_training_network(self) -> MyTrainNetwork:\n",
        "        return MyTrainNetwork(\n",
        "            prediction_length=self.prediction_length,\n",
        "            num_cells = self.num_cells\n",
        "        )\n",
        "\n",
        "    def create_predictor(\n",
        "        self, transformation: Transformation, trained_network: HybridBlock\n",
        "    ) -> Predictor:\n",
        "        prediction_splitter = InstanceSplitter(\n",
        "            target_field=FieldName.TARGET,\n",
        "            is_pad_field=FieldName.IS_PAD,\n",
        "            start_field=FieldName.START,\n",
        "            forecast_start_field=FieldName.FORECAST_START,\n",
        "            instance_sampler=TestSplitSampler(),\n",
        "            past_length=self.context_length,\n",
        "            future_length=self.prediction_length,\n",
        "        )\n",
        "\n",
        "        prediction_network = MyPredNetwork(\n",
        "            prediction_length=self.prediction_length,\n",
        "            num_cells=self.num_cells\n",
        "        )\n",
        "\n",
        "        copy_parameters(trained_network, prediction_network)\n",
        "\n",
        "        return RepresentableBlockPredictor(\n",
        "            input_transform=transformation + prediction_splitter,\n",
        "            prediction_net=prediction_network,\n",
        "            batch_size=self.trainer.batch_size,\n",
        "            freq=self.freq,\n",
        "            prediction_length=self.prediction_length,\n",
        "            ctx=self.trainer.ctx,\n",
        "        )"
      ],
      "execution_count": 1464,
      "outputs": []
    },
    {
      "cell_type": "code",
      "metadata": {
        "id": "YLf6ySgo2iAg"
      },
      "source": [
        "\n",
        "# define the parameters of the dataset\n",
        "custom_ds_metadata = {\n",
        "    'num_series': 1,\n",
        "    'num_steps': 1901,\n",
        "    'prediction_length': 100,\n",
        "    'freq': '2min',\n",
        "    'start': [\n",
        "        pd.Timestamp(\"01-01-2019\", freq='2min')\n",
        "        for _ in range(100)\n",
        "    ]\n",
        "}"
      ],
      "execution_count": 1465,
      "outputs": []
    },
    {
      "cell_type": "code",
      "metadata": {
        "id": "UMl3St3IAIia"
      },
      "source": [
        "estimator = MyEstimator(\n",
        "    prediction_length=250,     #custom_ds_metadata['prediction_length'],\n",
        "    context_length = custom_ds_metadata['prediction_length'],\n",
        "    freq=custom_ds_metadata['freq'],\n",
        "    num_cells=40, #50\n",
        "    trainer=Trainer(\n",
        "        ctx=\"cpu\",\n",
        "        epochs=5,\n",
        "        learning_rate=1e-2, #-2\n",
        "        hybridize=False,\n",
        "        num_batches_per_epoch=2000\n",
        "    )\n",
        ")"
      ],
      "execution_count": 1487,
      "outputs": []
    },
    {
      "cell_type": "code",
      "metadata": {
        "colab": {
          "base_uri": "https://localhost:8080/"
        },
        "id": "A1R6cBlx2vUv",
        "outputId": "3859df38-ee73-4718-bd5f-da5d0e5d9e90"
      },
      "source": [
        "from gluonts.dataset.field_names import FieldName\n",
        "[f\"FieldName.{k} = '{v}'\" for k, v in FieldName.__dict__.items() if not k.startswith('_')]"
      ],
      "execution_count": 1488,
      "outputs": [
        {
          "output_type": "execute_result",
          "data": {
            "text/plain": [
              "[\"FieldName.ITEM_ID = 'item_id'\",\n",
              " \"FieldName.START = 'start'\",\n",
              " \"FieldName.TARGET = 'target'\",\n",
              " \"FieldName.FEAT_STATIC_CAT = 'feat_static_cat'\",\n",
              " \"FieldName.FEAT_STATIC_REAL = 'feat_static_real'\",\n",
              " \"FieldName.FEAT_DYNAMIC_CAT = 'feat_dynamic_cat'\",\n",
              " \"FieldName.FEAT_DYNAMIC_REAL = 'feat_dynamic_real'\",\n",
              " \"FieldName.PAST_FEAT_DYNAMIC_REAL = 'past_feat_dynamic_real'\",\n",
              " \"FieldName.FEAT_DYNAMIC_REAL_LEGACY = 'dynamic_feat'\",\n",
              " \"FieldName.FEAT_DYNAMIC = 'feat_dynamic'\",\n",
              " \"FieldName.PAST_FEAT_DYNAMIC = 'past_feat_dynamic'\",\n",
              " \"FieldName.FEAT_TIME = 'time_feat'\",\n",
              " \"FieldName.FEAT_CONST = 'feat_dynamic_const'\",\n",
              " \"FieldName.FEAT_AGE = 'feat_dynamic_age'\",\n",
              " \"FieldName.OBSERVED_VALUES = 'observed_values'\",\n",
              " \"FieldName.IS_PAD = 'is_pad'\",\n",
              " \"FieldName.FORECAST_START = 'forecast_start'\",\n",
              " \"FieldName.TARGET_DIM_INDICATOR = 'target_dimension_indicator'\"]"
            ]
          },
          "metadata": {},
          "execution_count": 1488
        }
      ]
    },
    {
      "cell_type": "code",
      "metadata": {
        "colab": {
          "base_uri": "https://localhost:8080/"
        },
        "id": "O-V6TckVAIk8",
        "outputId": "74134f83-27cf-4a82-b467-426bef914501"
      },
      "source": [
        "predictor = estimator.train(train_data)"
      ],
      "execution_count": 1489,
      "outputs": [
        {
          "output_type": "stream",
          "name": "stderr",
          "text": [
            "100%|██████████| 2000/2000 [00:33<00:00, 60.23it/s, epoch=1/5, avg_epoch_loss=0.262]\n",
            "100%|██████████| 2000/2000 [00:39<00:00, 50.15it/s, epoch=2/5, avg_epoch_loss=0.211]\n",
            "100%|██████████| 2000/2000 [00:36<00:00, 54.89it/s, epoch=3/5, avg_epoch_loss=0.202]\n",
            "100%|██████████| 2000/2000 [01:25<00:00, 23.30it/s, epoch=4/5, avg_epoch_loss=0.199]\n",
            "100%|██████████| 2000/2000 [01:37<00:00, 20.41it/s, epoch=5/5, avg_epoch_loss=0.198]\n"
          ]
        }
      ]
    },
    {
      "cell_type": "code",
      "metadata": {
        "id": "bbt6sADcAInM"
      },
      "source": [
        "forecast_it, ts_it = make_evaluation_predictions(\n",
        "    dataset=test_data,  # test dataset\n",
        "    predictor=predictor,  # predictor\n",
        "    num_samples=100,  # number of sample paths we want for evaluation\n",
        ")"
      ],
      "execution_count": 1490,
      "outputs": []
    },
    {
      "cell_type": "code",
      "metadata": {
        "id": "RBXpP0N8AIpx"
      },
      "source": [
        "forecasts = list(forecast_it)\n",
        "tss = list(ts_it)"
      ],
      "execution_count": 1491,
      "outputs": []
    },
    {
      "cell_type": "code",
      "metadata": {
        "id": "dLvjeWV9AucS",
        "colab": {
          "base_uri": "https://localhost:8080/",
          "height": 444
        },
        "outputId": "4d4caafa-4baf-4203-e4ab-de4510d13714"
      },
      "source": [
        "plot_prob_forecasts_2(tss[0], forecasts[0])"
      ],
      "execution_count": 1492,
      "outputs": [
        {
          "output_type": "display_data",
          "data": {
            "image/png": "[encoded data removed]",
            "text/plain": [
              "<Figure size 720x504 with 1 Axes>"
            ]
          },
          "metadata": {
            "needs_background": "light"
          }
        }
      ]
    },
    {
      "cell_type": "code",
      "metadata": {
        "id": "72mdTQhLAues",
        "colab": {
          "base_uri": "https://localhost:8080/"
        },
        "outputId": "524bede0-f8e0-42e4-88c6-29aa075be4b5"
      },
      "source": [
        "evaluator = Evaluator(quantiles=[0.1, 0.5, 0.9])\n",
        "agg_metrics, item_metrics = evaluator(iter(tss), iter(forecasts), num_series=len(test_data))"
      ],
      "execution_count": 1493,
      "outputs": [
        {
          "output_type": "stream",
          "name": "stderr",
          "text": [
            "Running evaluation: 100%|██████████| 1/1 [00:00<00:00, 29.34it/s]\n"
          ]
        }
      ]
    },
    {
      "cell_type": "code",
      "metadata": {
        "id": "xDu1hSNuAuhc",
        "colab": {
          "base_uri": "https://localhost:8080/"
        },
        "outputId": "da2e1d5b-2412-4a0a-80fa-81e560f624a3"
      },
      "source": [
        "print(json.dumps(agg_metrics, indent=4))"
      ],
      "execution_count": 1494,
      "outputs": [
        {
          "output_type": "stream",
          "name": "stdout",
          "text": [
            "{\n",
            "    \"MSE\": 0.16761434936523437,\n",
            "    \"abs_error\": 31.329835891723633,\n",
            "    \"abs_target_sum\": 173.8040771484375,\n",
            "    \"abs_target_mean\": 0.69521630859375,\n",
            "    \"seasonal_error\": 0.9881286205888605,\n",
            "    \"MASE\": 0.12682493043487833,\n",
            "    \"MAPE\": 234732.1941747573,\n",
            "    \"sMAPE\": 1.0723118436509285,\n",
            "    \"MSIS\": 5.07299690855297,\n",
            "    \"QuantileLoss[0.1]\": 11.579370782880032,\n",
            "    \"Coverage[0.1]\": 0.288,\n",
            "    \"QuantileLoss[0.5]\": 31.32983600153547,\n",
            "    \"Coverage[0.5]\": 0.288,\n",
            "    \"QuantileLoss[0.9]\": 51.08030122019092,\n",
            "    \"Coverage[0.9]\": 0.288,\n",
            "    \"RMSE\": 0.409407314743196,\n",
            "    \"NRMSE\": 0.5888919889858818,\n",
            "    \"ND\": 0.18025949911961134,\n",
            "    \"wQuantileLoss[0.1]\": 0.06662312514677467,\n",
            "    \"wQuantileLoss[0.5]\": 0.18025949975142527,\n",
            "    \"wQuantileLoss[0.9]\": 0.29389587435607595,\n",
            "    \"mean_absolute_QuantileLoss\": 31.329836001535472,\n",
            "    \"mean_wQuantileLoss\": 0.1802594997514253,\n",
            "    \"MAE_Coverage\": 0.3373333333333333,\n",
            "    \"OWA\": NaN\n",
            "}\n"
          ]
        }
      ]
    },
    {
      "cell_type": "code",
      "metadata": {
        "id": "c7s2rVYUAujs",
        "colab": {
          "base_uri": "https://localhost:8080/",
          "height": 100
        },
        "outputId": "63aadb62-1b91-48be-f05a-7526c452a53c"
      },
      "source": [
        "item_metrics.head(10)"
      ],
      "execution_count": 1495,
      "outputs": [
        {
          "output_type": "execute_result",
          "data": {
            "text/html": [
              "<div>\n",
              "<style scoped>\n",
              "    .dataframe tbody tr th:only-of-type {\n",
              "        vertical-align: middle;\n",
              "    }\n",
              "\n",
              "    .dataframe tbody tr th {\n",
              "        vertical-align: top;\n",
              "    }\n",
              "\n",
              "    .dataframe thead th {\n",
              "        text-align: right;\n",
              "    }\n",
              "</style>\n",
              "<table border=\"1\" class=\"dataframe\">\n",
              "  <thead>\n",
              "    <tr style=\"text-align: right;\">\n",
              "      <th></th>\n",
              "      <th>item_id</th>\n",
              "      <th>MSE</th>\n",
              "      <th>abs_error</th>\n",
              "      <th>abs_target_sum</th>\n",
              "      <th>abs_target_mean</th>\n",
              "      <th>seasonal_error</th>\n",
              "      <th>MASE</th>\n",
              "      <th>MAPE</th>\n",
              "      <th>sMAPE</th>\n",
              "      <th>MSIS</th>\n",
              "      <th>QuantileLoss[0.1]</th>\n",
              "      <th>Coverage[0.1]</th>\n",
              "      <th>QuantileLoss[0.5]</th>\n",
              "      <th>Coverage[0.5]</th>\n",
              "      <th>QuantileLoss[0.9]</th>\n",
              "      <th>Coverage[0.9]</th>\n",
              "    </tr>\n",
              "  </thead>\n",
              "  <tbody>\n",
              "    <tr>\n",
              "      <th>0</th>\n",
              "      <td>NaN</td>\n",
              "      <td>0.167614</td>\n",
              "      <td>31.329836</td>\n",
              "      <td>173.804077</td>\n",
              "      <td>0.695216</td>\n",
              "      <td>0.988129</td>\n",
              "      <td>0.126825</td>\n",
              "      <td>234732.194175</td>\n",
              "      <td>1.072312</td>\n",
              "      <td>5.072997</td>\n",
              "      <td>11.579371</td>\n",
              "      <td>0.288</td>\n",
              "      <td>31.329836</td>\n",
              "      <td>0.288</td>\n",
              "      <td>51.080301</td>\n",
              "      <td>0.288</td>\n",
              "    </tr>\n",
              "  </tbody>\n",
              "</table>\n",
              "</div>"
            ],
            "text/plain": [
              "   item_id       MSE  ...  QuantileLoss[0.9]  Coverage[0.9]\n",
              "0      NaN  0.167614  ...          51.080301          0.288\n",
              "\n",
              "[1 rows x 16 columns]"
            ]
          },
          "metadata": {},
          "execution_count": 1495
        }
      ]
    },
    {
      "cell_type": "code",
      "metadata": {
        "id": "cg92c0W3Aul7",
        "colab": {
          "base_uri": "https://localhost:8080/",
          "height": 279
        },
        "outputId": "2e00c8fa-31a7-4629-986d-2aa186f21642"
      },
      "source": [
        "item_metrics.plot(x='MSIS', y='MASE', kind='scatter')\n",
        "plt.grid(which=\"both\")\n",
        "plt.savefig(\"fig6.pdf\",bbox_inches=\"tight\")\n",
        "plt.show()"
      ],
      "execution_count": 1496,
      "outputs": [
        {
          "output_type": "display_data",
          "data": {
            "image/png": "[encoded data removed]",
            "text/plain": [
              "<Figure size 432x288 with 1 Axes>"
            ]
          },
          "metadata": {
            "needs_background": "light"
          }
        }
      ]
    }
  ]
}